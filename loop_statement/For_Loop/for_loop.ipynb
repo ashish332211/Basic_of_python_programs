{
 "cells": [
  {
   "cell_type": "markdown",
   "metadata": {},
   "source": [
    "1.WAP to extract each and every character from the string"
   ]
  },
  {
   "cell_type": "code",
   "execution_count": 1,
   "metadata": {},
   "outputs": [
    {
     "name": "stdout",
     "output_type": "stream",
     "text": [
      "h\n",
      "e\n",
      "l\n",
      "l\n",
      "o\n"
     ]
    }
   ],
   "source": [
    "st='hello'\n",
    "for i in st:\n",
    "    print(i)"
   ]
  },
  {
   "cell_type": "markdown",
   "metadata": {},
   "source": [
    "2.WAP to extract each data item from the collection."
   ]
  },
  {
   "cell_type": "code",
   "execution_count": 2,
   "metadata": {},
   "outputs": [
    {
     "name": "stdout",
     "output_type": "stream",
     "text": [
      "10\n",
      "15\n",
      "True\n",
      "[10, 20, 30]\n",
      "{10, 20}\n",
      "{'a': 10, 'b': 20}\n"
     ]
    }
   ],
   "source": [
    "l=[10,15,True,[10,20,30],{10,20},{'a':10,'b':20}]\n",
    "for i in l:\n",
    "    print(i)"
   ]
  },
  {
   "cell_type": "markdown",
   "metadata": {},
   "source": [
    "3.WAP to extract the key and value pair in a dictionary"
   ]
  },
  {
   "cell_type": "code",
   "execution_count": 6,
   "metadata": {},
   "outputs": [
    {
     "name": "stdout",
     "output_type": "stream",
     "text": [
      "10 15\n",
      "pys (10, 20, 30)\n",
      "b'1010' None\n"
     ]
    }
   ],
   "source": [
    "\n",
    "d={10:15,'pys':(10,20,30),b'1010':None}\n",
    "for i in d:\n",
    "    print(i,d[i])"
   ]
  },
  {
   "cell_type": "markdown",
   "metadata": {},
   "source": [
    "4.WAP to extract the uppercase character"
   ]
  },
  {
   "cell_type": "code",
   "execution_count": 8,
   "metadata": {},
   "outputs": [
    {
     "name": "stdout",
     "output_type": "stream",
     "text": [
      "P\n",
      "S\n",
      "I\n",
      "E\n"
     ]
    }
   ],
   "source": [
    "st='PySpIdErs#@123'\n",
    "for i in st:\n",
    "    if 'A'<=i<='Z':\n",
    "        print(i)"
   ]
  },
  {
   "cell_type": "markdown",
   "metadata": {},
   "source": [
    "5.WAP to extract and store the special character and lowercase character from given string."
   ]
  },
  {
   "cell_type": "code",
   "execution_count": 10,
   "metadata": {},
   "outputs": [
    {
     "name": "stdout",
     "output_type": "stream",
     "text": [
      "ypdrs#@\n"
     ]
    }
   ],
   "source": [
    "st='PySpIdErs#@123'\n",
    "res=''\n",
    "for i in st:\n",
    "    if not ('A'<=i<='Z' or '0'<=i<='9') or 'a'<=i<='z':\n",
    "        res+=i\n",
    "print(res)\n"
   ]
  },
  {
   "cell_type": "markdown",
   "metadata": {},
   "source": [
    "6.WAP to seggrigate the characters from the given string"
   ]
  },
  {
   "cell_type": "code",
   "execution_count": 11,
   "metadata": {},
   "outputs": [
    {
     "name": "stdout",
     "output_type": "stream",
     "text": [
      "PSIE\n",
      "ypdrs\n",
      "123\n",
      "#@\n"
     ]
    }
   ],
   "source": [
    "st='PySpIdErs#@123'\n",
    "uc,lc,an,sc='','','',''\n",
    "for i in st:\n",
    "    if 'A'<=i<='Z':\n",
    "        uc+=i\n",
    "    elif 'a'<=i<='z':\n",
    "        lc+=i\n",
    "    elif '0'<=i<='9':\n",
    "        an+=i\n",
    "    else:\n",
    "        sc+=i\n",
    "print(uc)\n",
    "print(lc)\n",
    "print(an)\n",
    "print(sc)\n",
    "        "
   ]
  },
  {
   "cell_type": "markdown",
   "metadata": {},
   "source": [
    "WAP to count the each character using for loop"
   ]
  },
  {
   "cell_type": "code",
   "execution_count": 28,
   "metadata": {},
   "outputs": [
    {
     "name": "stdout",
     "output_type": "stream",
     "text": [
      "helowrd\n",
      "['h', 1, 'e', 1, 'l', 3, 'o', 2, 'w', 1, 'r', 1, 'd', 1]\n",
      "{'h': 1, 'e': 1, 'l': 3, 'o': 2, 'w': 1, 'r': 1, 'd': 1}\n"
     ]
    }
   ],
   "source": [
    "#USING LIST\n",
    "st='helloworld'\n",
    "uni=''\n",
    "for i in st:\n",
    "    if i not in uni:\n",
    "        uni+=i\n",
    "print(uni)\n",
    "l=[]\n",
    "for i in uni:\n",
    "    count=0\n",
    "    for j in st:\n",
    "        if i==j:\n",
    "            count+=1\n",
    "    l+=[i,count]\n",
    "print(l)\n",
    "\n",
    "#USING DICTIONARY\n",
    "st='helloworld'\n",
    "d={}\n",
    "for i in st:\n",
    "    if i not in d:\n",
    "        d[i]=1\n",
    "    else:\n",
    "        d[i]+=1\n",
    "print(d)"
   ]
  },
  {
   "cell_type": "markdown",
   "metadata": {},
   "source": [
    "WAP to find out the maximum occurance character"
   ]
  },
  {
   "cell_type": "code",
   "execution_count": 30,
   "metadata": {},
   "outputs": [
    {
     "name": "stdout",
     "output_type": "stream",
     "text": [
      "{'h': 1, 'e': 1, 'l': 3, 'o': 2, 'w': 1, 'r': 1, 'd': 1}\n",
      "l 3\n"
     ]
    }
   ],
   "source": [
    "st='helloworld'\n",
    "d={}\n",
    "for i in st:\n",
    "    if i not in d:\n",
    "        d[i]=1\n",
    "    else:\n",
    "        d[i]+=1\n",
    "print(d)\n",
    "max=0\n",
    "ch=None\n",
    "for i in d:\n",
    "    if max<d[i]:\n",
    "        max=d[i]\n",
    "        ch=i\n",
    "print(ch,max)"
   ]
  },
  {
   "cell_type": "markdown",
   "metadata": {},
   "source": [
    "WAP to find out the minimum occurance character"
   ]
  },
  {
   "cell_type": "code",
   "execution_count": 33,
   "metadata": {},
   "outputs": [
    {
     "name": "stdout",
     "output_type": "stream",
     "text": [
      "{'h': 1, 'e': 1, 'l': 3, 'o': 2, 'w': 1, 'r': 1, 'd': 1}\n",
      "h 1\n"
     ]
    }
   ],
   "source": [
    "st='helloworld'\n",
    "d={}\n",
    "for i in st:\n",
    "    if i not in d:\n",
    "        d[i]=1\n",
    "    else:\n",
    "        d[i]+=1\n",
    "print(d)\n",
    "min=len(st)\n",
    "ch=None\n",
    "for i in d:\n",
    "    if min>d[i]:\n",
    "        min=d[i]\n",
    "        ch=i\n",
    "print(ch,min)\n"
   ]
  },
  {
   "cell_type": "markdown",
   "metadata": {},
   "source": [
    "I/P='hello world'\n",
    "O/P={1: ['h', 'e', ' ', 'w', 'r', 'd'], 3: ['l'], 2: ['o']}"
   ]
  },
  {
   "cell_type": "code",
   "execution_count": 15,
   "metadata": {},
   "outputs": [
    {
     "name": "stdout",
     "output_type": "stream",
     "text": [
      "{'h': 1, 'e': 1, 'l': 3, 'o': 2, ' ': 1, 'w': 1, 'r': 1, 'd': 1}\n",
      "{1: ['h', 'e', ' ', 'w', 'r', 'd'], 3: ['l'], 2: ['o']}\n"
     ]
    }
   ],
   "source": [
    "st='hello world'\n",
    "d={}\n",
    "for i in st:\n",
    "    if i not in d:\n",
    "        d[i]=1\n",
    "    else:\n",
    "        d[i]+=1\n",
    "print(d)\n",
    "res={}\n",
    "for j in d:\n",
    "    if d[j] not in res:\n",
    "        res[d[j]]=[j]\n",
    "    else:\n",
    "        res[d[j]]+=[j]\n",
    "print(res)\n"
   ]
  }
 ],
 "metadata": {
  "kernelspec": {
   "display_name": "Python 3",
   "language": "python",
   "name": "python3"
  },
  "language_info": {
   "codemirror_mode": {
    "name": "ipython",
    "version": 3
   },
   "file_extension": ".py",
   "mimetype": "text/x-python",
   "name": "python",
   "nbconvert_exporter": "python",
   "pygments_lexer": "ipython3",
   "version": "3.11.4"
  },
  "orig_nbformat": 4
 },
 "nbformat": 4,
 "nbformat_minor": 2
}
