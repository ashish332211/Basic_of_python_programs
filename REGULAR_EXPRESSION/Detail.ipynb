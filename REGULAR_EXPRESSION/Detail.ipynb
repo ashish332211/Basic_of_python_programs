{
 "cells": [
  {
   "cell_type": "markdown",
   "metadata": {},
   "source": [
    "DETAILS:\n",
    "\n",
    "-> It works only on string data type\n",
    "\n",
    "-> is sequence of characters which is used to match the pattern\n",
    "\n",
    "-> if we want to perform regular expression we need to import re -> (regular expression)\n",
    "\n",
    "Definition:\n",
    "\n",
    "A regular expression is a sequence of characters that perform a search pattern. It is used to check if a string contains specified search pattern\n",
    "\n",
    "* Python has a built in package called \"re\" which can be used to work with regular expression\n",
    "\n",
    "* import the \"re\" module, when we have imported re module we can start using regular expression"
   ]
  },
  {
   "cell_type": "markdown",
   "metadata": {},
   "source": [
    "FUNCTIONS OF re:\n",
    "\n",
    "It has 4 types of function\n",
    "1. findall()\n",
    "2. search()\n",
    "3. split()\n",
    "4. sub()\n",
    "\n",
    "\n",
    "* findall() -> It return a list of all matching matches => []\n",
    "\n",
    "* serach() -> It return match object if there are any matches\n",
    "\n",
    "* split() -> It will split the string from the given pattern\n",
    "\n",
    "* sub() -> It substitute a new string to old string (like replace method)"
   ]
  },
  {
   "cell_type": "markdown",
   "metadata": {},
   "source": [
    "findall():\n",
    "----------\n",
    "Syntax: re.findall(pattern, source_string)\n",
    "\n",
    "PATTERNS:\n",
    "1) . -> matches anything and everything(a-z, A-Z, 0-9, all the special character)\n",
    "\n",
    "2) ^ -> Pattern should be at the begining\n",
    "\n",
    "3) $ -> Pattern should be at the end\n",
    "\n",
    "4) * -> Matches 0 or any number of occurances of the preceeding characters\n",
    "\n",
    "5) + -> Matches 1 or any number of occurances of the preceeding characters\n",
    "\n",
    "6) ! -> Matches only 0 or 1 occurances of the preceeding characters\n",
    "\n",
    "7) [] -> Groups multiple characters/ characters set takes each character and checks\n",
    "\n",
    "8) - -> Denotes range inside characters set\n",
    "\n",
    "9) () -> Grouping patterns\n",
    "\n",
    "10) {} -> Specifies the number of characters to be matched\n",
    "\n",
    "11) \\d -> Matches any numbers between 0-9 or [0-9] or [0123456789]\n",
    "\n",
    "12) \\D -> Matches everything other than numbers or [^0-9] or [^0123456789]\n",
    "\n",
    "13) \\w -> Matches a-z, A-Z, 0-9 and also an underscore(_)\n",
    "\n",
    "14) \\W -> Matches all the character other than characters attached by \\W\n",
    "\n",
    "15) \\s -> Matches whitespaces and other special characters/ sequence(\\n, \\t, \\r.....etc)\n",
    "\n",
    "16) |S -> Matches everything other than characters attached by \\s\n",
    "\n",
    "17) \\b -> Transition between a characters(\\W) and non characters(\\W) and vise versa  is called\n",
    "\n",
    "18) a wond boundary"
   ]
  },
  {
   "cell_type": "code",
   "execution_count": 2,
   "metadata": {},
   "outputs": [
    {
     "name": "stdout",
     "output_type": "stream",
     "text": [
      "HGMHAY\n",
      "HGMHAY\n",
      "ee\n"
     ]
    }
   ],
   "source": [
    "s = 'Hello Good Morning How Are You'\n",
    "res=''\n",
    "for i in s:\n",
    "    if 'A'<=i<='Z':\n",
    "        res+=i\n",
    "\n",
    "print(res)\n",
    "\n",
    "#BY USING 're' METHOD\n",
    "import re\n",
    "res = re.findall(\"[A-Z]\", s)\n",
    "print(\"\".join(res))\n",
    "\n",
    "#TO GET THE SPECIFIED CHARACTER\n",
    "res = re.findall(\"e\", s)\n",
    "print(''.join(res))"
   ]
  },
  {
   "cell_type": "code",
   "execution_count": 4,
   "metadata": {},
   "outputs": [
    {
     "name": "stdout",
     "output_type": "stream",
     "text": [
      "<re.Match object; span=(6, 9), match='How'>\n",
      "<re.Match object; span=(14, 17), match='You'>\n",
      "None\n"
     ]
    }
   ],
   "source": [
    "#SEARCH\n",
    "import re\n",
    "s = 'Hello How Are You'\n",
    "res = re.search('How', s)\n",
    "print(res)\n",
    "\n",
    "res = re.search('You', s)\n",
    "print(res)\n",
    "\n",
    "res = re.search('good', s)\n",
    "print(res)\n"
   ]
  },
  {
   "cell_type": "code",
   "execution_count": 5,
   "metadata": {},
   "outputs": [
    {
     "name": "stdout",
     "output_type": "stream",
     "text": [
      "<re.Match object; span=(0, 3), match='How'>\n"
     ]
    }
   ],
   "source": [
    "s = 'How How are you How'\n",
    "res = re.search('How', s)\n",
    "print(res)"
   ]
  },
  {
   "cell_type": "code",
   "execution_count": 7,
   "metadata": {},
   "outputs": [
    {
     "name": "stdout",
     "output_type": "stream",
     "text": [
      "['hello', 'hiii', 'byy', 'hello']\n",
      "['', 'ello ', 'iii byy ', 'ello']\n"
     ]
    }
   ],
   "source": [
    "#SPLIT\n",
    "s = 'hello hiii byy hello'\n",
    "res = re.split(' ', s)\n",
    "print(res)\n",
    "\n",
    "res = re.split('h', s)\n",
    "print(res)"
   ]
  },
  {
   "cell_type": "code",
   "execution_count": 11,
   "metadata": {},
   "outputs": [
    {
     "name": "stdout",
     "output_type": "stream",
     "text": [
      "Who are you\n"
     ]
    }
   ],
   "source": [
    "#sub\n",
    "s = 'Where are you'\n",
    "res = re.sub('Where', 'Who', s)\n",
    "print(res)"
   ]
  },
  {
   "cell_type": "code",
   "execution_count": 10,
   "metadata": {},
   "outputs": [
    {
     "name": "stdout",
     "output_type": "stream",
     "text": [
      "['hii', 'hii']\n"
     ]
    }
   ],
   "source": [
    "#FINDALL\n",
    "s = 'hii hello who are you hii'\n",
    "res = re.findall('hii', s)\n",
    "print(res)"
   ]
  },
  {
   "cell_type": "code",
   "execution_count": 31,
   "metadata": {},
   "outputs": [
    {
     "name": "stdout",
     "output_type": "stream",
     "text": [
      "['nagi']\n",
      "[]\n",
      "['n']\n"
     ]
    }
   ],
   "source": [
    "# ^\n",
    "s = 'nagi reddy have Iphone 13'\n",
    "res = re.findall('^nagi', s)        #If the string start with the specified character....It will return the value\n",
    "print(res)\n",
    "\n",
    "res = re.findall('^13', s)\n",
    "print(res)\n",
    "\n",
    "res = re.findall('^n', s)\n",
    "print(res)"
   ]
  },
  {
   "cell_type": "code",
   "execution_count": 33,
   "metadata": {},
   "outputs": [
    {
     "name": "stdout",
     "output_type": "stream",
     "text": [
      "['lunch']\n",
      "['h']\n",
      "[]\n"
     ]
    }
   ],
   "source": [
    "# $\n",
    "s = 'heyyy have you had your lunch'       #If the string end with the specified character....It will return the value\n",
    "res = re.findall('lunch$', s)\n",
    "print(res)\n",
    "\n",
    "res = re.findall('h$', s)\n",
    "print(res)\n",
    "\n",
    "res = re.findall('Had$', s)\n",
    "print(res)"
   ]
  },
  {
   "cell_type": "code",
   "execution_count": 22,
   "metadata": {},
   "outputs": [
    {
     "name": "stdout",
     "output_type": "stream",
     "text": [
      "['ashish']\n",
      "['121', '141']\n"
     ]
    }
   ],
   "source": [
    "#  .\n",
    "s = 'ashish idol is his own father'\n",
    "res = re.findall(\"a..ish\", s)\n",
    "print(res)\n",
    "\n",
    "st = \"121 141 122 411\"\n",
    "res = re.findall(\"1.1\", st)\n",
    "print(res)"
   ]
  },
  {
   "cell_type": "code",
   "execution_count": 26,
   "metadata": {},
   "outputs": [
    {
     "name": "stdout",
     "output_type": "stream",
     "text": [
      "['H', 'Y', 'A', 'A', 'D', 'B', 'I', 'Y', 'N', 'F', 'O', 'U']\n",
      "['d', 'e', 'r', 'b', 'i', 'r', 'a', 'i', 'a', 'm', 's']\n",
      "['e', 'A', 'A', 'i', 'I', 'a', 'i', 'a', 'O', 'U']\n",
      "['H', 'Y', 'd', 'r', 'b', 'D', ' ', 'B', 'r', 'Y', 'N', ' ', 'F', 'm', 's']\n"
     ]
    }
   ],
   "source": [
    "s = 'HYderAbAD BirIYaNi FamOUs'\n",
    "res = re.findall(\"[A-Z]\", s)\n",
    "res1 = re.findall(\"[a-z]\", s)\n",
    "res2 = re.findall(\"[aeiouAEIOU]\", s)\n",
    "res3 = re.findall(\"[^aeiouAEIOU]\", s)       #^ -> return the character apart from the specified\n",
    "\n",
    "print(res)\n",
    "print(res1)\n",
    "print(res2)\n",
    "print(res3)"
   ]
  },
  {
   "cell_type": "code",
   "execution_count": 4,
   "metadata": {},
   "outputs": [
    {
     "name": "stdout",
     "output_type": "stream",
     "text": [
      "['8', '0', '1', '0', '0']\n",
      "['v', 'i', 'r', 'a', 't', ' ', ' ', 'c', 'e', 'n', 't', 'u', 'r', 'i', 'e', 's', ' ', 'a', 'n', 'd', ' ', 's', 'a', 'c', 'h', 'i', 'n', ' ', 'g', 'o', 't', ' ', ' ', 'c', 'e', 'n', 't', 'u', 'r', 'i', 'e', 's']\n"
     ]
    },
    {
     "name": "stderr",
     "output_type": "stream",
     "text": [
      "<>:4: SyntaxWarning: invalid escape sequence '\\d'\n",
      "<>:8: SyntaxWarning: invalid escape sequence '\\D'\n",
      "<>:4: SyntaxWarning: invalid escape sequence '\\d'\n",
      "<>:8: SyntaxWarning: invalid escape sequence '\\D'\n",
      "C:\\Users\\HP\\AppData\\Local\\Temp\\ipykernel_21644\\1909083742.py:4: SyntaxWarning: invalid escape sequence '\\d'\n",
      "  res=re.findall('\\d',s)  #for numbers\n",
      "C:\\Users\\HP\\AppData\\Local\\Temp\\ipykernel_21644\\1909083742.py:8: SyntaxWarning: invalid escape sequence '\\D'\n",
      "  res=re.findall('\\D',s)  #except numbers remaining\n"
     ]
    }
   ],
   "source": [
    "#\\d\n",
    "import re\n",
    "s='virat 80 centuries and sachin got 100 centuries'\n",
    "res=re.findall('\\d',s)  #for numbers\n",
    "print(res)\n",
    "\n",
    "#\\D\n",
    "res=re.findall('\\D',s)  #except numbers remaining\n",
    "print(res)"
   ]
  },
  {
   "cell_type": "code",
   "execution_count": 5,
   "metadata": {},
   "outputs": [
    {
     "name": "stdout",
     "output_type": "stream",
     "text": [
      "['W', 'e', 'u', 's', 'e', 's', 'n', 'a', 'k', 'e', '_', 'c', 'a', 's', 'e', 'i', 'n', 'p', 'y', 't', 'h', 'o', 'n', '3', '1', '1']\n",
      "['@', ' ', '.', ' ', ' ', '*']\n"
     ]
    },
    {
     "name": "stderr",
     "output_type": "stream",
     "text": [
      "<>:3: SyntaxWarning: invalid escape sequence '\\w'\n",
      "<>:8: SyntaxWarning: invalid escape sequence '\\W'\n",
      "<>:3: SyntaxWarning: invalid escape sequence '\\w'\n",
      "<>:8: SyntaxWarning: invalid escape sequence '\\W'\n",
      "C:\\Users\\HP\\AppData\\Local\\Temp\\ipykernel_21644\\2106890422.py:3: SyntaxWarning: invalid escape sequence '\\w'\n",
      "  res=re.findall('\\w',s)\n",
      "C:\\Users\\HP\\AppData\\Local\\Temp\\ipykernel_21644\\2106890422.py:8: SyntaxWarning: invalid escape sequence '\\W'\n",
      "  res=re.findall('\\W',s)\n"
     ]
    }
   ],
   "source": [
    "# \\w:only numbers , alphabets\n",
    "s='We use snake_case in python 3.11'\n",
    "res=re.findall('\\w',s)\n",
    "print(res)\n",
    "\n",
    "# \\W: except numbers and alphabets remaining\n",
    "s='@python 3.11 in *'\n",
    "res=re.findall('\\W',s)\n",
    "print(res)"
   ]
  },
  {
   "cell_type": "code",
   "execution_count": 37,
   "metadata": {},
   "outputs": [
    {
     "name": "stdout",
     "output_type": "stream",
     "text": [
      "[' ', ' ', '\\t', ' ', '\\n', ' ', ' ', '\\t']\n",
      "['@', 'c', 'l', 'i', 'm', 'a', 't', 'e', 'i', 's', 'g', 'r', 'e', 'a', 't', 'T', 'O', 'D', 'A', 'Y', '1', '2', '3']\n"
     ]
    },
    {
     "name": "stderr",
     "output_type": "stream",
     "text": [
      "<>:4: SyntaxWarning: invalid escape sequence '\\s'\n",
      "<>:10: SyntaxWarning: invalid escape sequence '\\S'\n",
      "<>:4: SyntaxWarning: invalid escape sequence '\\s'\n",
      "<>:10: SyntaxWarning: invalid escape sequence '\\S'\n",
      "C:\\Users\\HP\\AppData\\Local\\Temp\\ipykernel_1956\\1149697554.py:4: SyntaxWarning: invalid escape sequence '\\s'\n",
      "  res=re.findall('\\s',s)\n",
      "C:\\Users\\HP\\AppData\\Local\\Temp\\ipykernel_1956\\1149697554.py:10: SyntaxWarning: invalid escape sequence '\\S'\n",
      "  res=re.findall('\\S',s)\n"
     ]
    }
   ],
   "source": [
    "import re\n",
    "# \\s\n",
    "s='@ climate is\\tgreat \\nTODAY 123 \\t'\n",
    "res=re.findall('\\s',s)\n",
    "print(res)\n",
    "\n",
    "#\\S \n",
    "#except \\s remaining\n",
    "s='@ climate is great TODAY 123 \\t'\n",
    "res=re.findall('\\S',s)\n",
    "print(res)"
   ]
  },
  {
   "cell_type": "code",
   "execution_count": 38,
   "metadata": {},
   "outputs": [
    {
     "name": "stdout",
     "output_type": "stream",
     "text": [
      "['climate']\n",
      "[]\n"
     ]
    }
   ],
   "source": [
    "import re\n",
    "#\\b\n",
    "# similar to starts with\n",
    "s='climate is great TODAY'\n",
    "res=re.findall(r'climate\\b',s)\n",
    "print(res)\n",
    "\n",
    "res=re.findall(r'Climate\\b',s)\n",
    "print(res)"
   ]
  },
  {
   "cell_type": "code",
   "execution_count": 39,
   "metadata": {},
   "outputs": [
    {
     "name": "stdout",
     "output_type": "stream",
     "text": [
      "['e', 'e', 'e', 'e', 'e', 'e', 'e']\n",
      "['ee', 'ee']\n",
      "['eee']\n"
     ]
    }
   ],
   "source": [
    "# {}\n",
    "s='a friend in need is a friend in deeed'\n",
    "res=re.findall('e{1}',s)\n",
    "print(res)\n",
    "\n",
    "s='a friend in need is a friend in deeed'\n",
    "res=re.findall('e{2}',s)\n",
    "print(res)\n",
    "\n",
    "s='a friend in need is a friend in deeed'\n",
    "res=re.findall('e{3}',s)\n",
    "print(res)"
   ]
  },
  {
   "cell_type": "code",
   "execution_count": 7,
   "metadata": {},
   "outputs": [
    {
     "name": "stdout",
     "output_type": "stream",
     "text": [
      "['eed', 'ed', 'eed', 'eed', 'eed', 'ed', 'eed']\n"
     ]
    }
   ],
   "source": [
    "# ?\n",
    "# in regular expressions, the ? is a special character known as the \n",
    "# \"question mark\" or \"zero or one quantifier\"\n",
    "# it indicates that the preceding character or group in the \n",
    "# pattern is optional, meaning it can occur either zero times or exactly once.\n",
    "\n",
    "s='deed bed speed bleed bleed beared feed'\n",
    "res=re.findall('e?ed',s)\n",
    "print(res)"
   ]
  },
  {
   "cell_type": "code",
   "execution_count": 41,
   "metadata": {},
   "outputs": [
    {
     "name": "stdout",
     "output_type": "stream",
     "text": [
      "[('1', ' '), ('2', ' '), ('3', ' ')]\n",
      "[('h', '1'), ('n', '2'), ('e', '3'), ('a', '4')]\n"
     ]
    },
    {
     "name": "stderr",
     "output_type": "stream",
     "text": [
      "<>:3: SyntaxWarning: invalid escape sequence '\\d'\n",
      "<>:7: SyntaxWarning: invalid escape sequence '\\w'\n",
      "<>:3: SyntaxWarning: invalid escape sequence '\\d'\n",
      "<>:7: SyntaxWarning: invalid escape sequence '\\w'\n",
      "C:\\Users\\HP\\AppData\\Local\\Temp\\ipykernel_1956\\438310782.py:3: SyntaxWarning: invalid escape sequence '\\d'\n",
      "  res=re.findall('(\\d)(\\s)',s)\n",
      "C:\\Users\\HP\\AppData\\Local\\Temp\\ipykernel_1956\\438310782.py:7: SyntaxWarning: invalid escape sequence '\\w'\n",
      "  res=re.findall('(\\w)(\\d)',s)\n"
     ]
    }
   ],
   "source": [
    "# ()\n",
    "s='dhanush1 nithin2 sahithe3 surya4'\n",
    "res=re.findall('(\\d)(\\s)',s)\n",
    "print(res)\n",
    "\n",
    "s='dhanush1 nithin2 sahithe3 surya4'\n",
    "res=re.findall('(\\w)(\\d)',s)\n",
    "print(res)"
   ]
  },
  {
   "cell_type": "code",
   "execution_count": 42,
   "metadata": {},
   "outputs": [
    {
     "name": "stdout",
     "output_type": "stream",
     "text": [
      "['', '', '', '', '', 'e', '', '', '', '', '', '', '', 'ee', '', '', '', '', '', '', '', '', '', '', 'e', '', '', '', '', '', '', '', 'ee', '', '']\n"
     ]
    }
   ],
   "source": [
    "# *\n",
    "s='a friend in need is a friend in deed'\n",
    "res=re.findall('e*',s)\n",
    "print(res)"
   ]
  },
  {
   "cell_type": "code",
   "execution_count": 43,
   "metadata": {},
   "outputs": [
    {
     "name": "stdout",
     "output_type": "stream",
     "text": [
      "['e', 'ee', 'e', 'ee']\n"
     ]
    }
   ],
   "source": [
    "# +\n",
    "s='a friend in need is a friend in deed'\n",
    "res=re.findall('e+',s)\n",
    "print(res)"
   ]
  }
 ],
 "metadata": {
  "kernelspec": {
   "display_name": "Python 3",
   "language": "python",
   "name": "python3"
  },
  "language_info": {
   "codemirror_mode": {
    "name": "ipython",
    "version": 3
   },
   "file_extension": ".py",
   "mimetype": "text/x-python",
   "name": "python",
   "nbconvert_exporter": "python",
   "pygments_lexer": "ipython3",
   "version": "3.12.0"
  }
 },
 "nbformat": 4,
 "nbformat_minor": 2
}
