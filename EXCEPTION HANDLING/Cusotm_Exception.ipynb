{
 "cells": [
  {
   "cell_type": "code",
   "execution_count": 1,
   "metadata": {},
   "outputs": [
    {
     "ename": "PysError",
     "evalue": "",
     "output_type": "error",
     "traceback": [
      "\u001b[1;31m---------------------------------------------------------------------------\u001b[0m",
      "\u001b[1;31mPysError\u001b[0m                                  Traceback (most recent call last)",
      "\u001b[1;32mc:\\Users\\HP\\Documents\\GitHub\\Basic_of_python_programs\\EXCEPTION HANDLING\\Cusotm_Exception.ipynb Cell 1\u001b[0m line \u001b[0;36m7\n\u001b[0;32m      <a href='vscode-notebook-cell:/c%3A/Users/HP/Documents/GitHub/Basic_of_python_programs/EXCEPTION%20HANDLING/Cusotm_Exception.ipynb#W0sZmlsZQ%3D%3D?line=4'>5</a>\u001b[0m a\u001b[39m=\u001b[39m\u001b[39m10\u001b[39m\n\u001b[0;32m      <a href='vscode-notebook-cell:/c%3A/Users/HP/Documents/GitHub/Basic_of_python_programs/EXCEPTION%20HANDLING/Cusotm_Exception.ipynb#W0sZmlsZQ%3D%3D?line=5'>6</a>\u001b[0m \u001b[39mif\u001b[39;00m a \u001b[39m==\u001b[39m \u001b[39m10\u001b[39m:\n\u001b[1;32m----> <a href='vscode-notebook-cell:/c%3A/Users/HP/Documents/GitHub/Basic_of_python_programs/EXCEPTION%20HANDLING/Cusotm_Exception.ipynb#W0sZmlsZQ%3D%3D?line=6'>7</a>\u001b[0m     \u001b[39mraise\u001b[39;00m PysError\n\u001b[0;32m      <a href='vscode-notebook-cell:/c%3A/Users/HP/Documents/GitHub/Basic_of_python_programs/EXCEPTION%20HANDLING/Cusotm_Exception.ipynb#W0sZmlsZQ%3D%3D?line=7'>8</a>\u001b[0m \u001b[39melse\u001b[39;00m:\n\u001b[0;32m      <a href='vscode-notebook-cell:/c%3A/Users/HP/Documents/GitHub/Basic_of_python_programs/EXCEPTION%20HANDLING/Cusotm_Exception.ipynb#W0sZmlsZQ%3D%3D?line=8'>9</a>\u001b[0m     \u001b[39mprint\u001b[39m(\u001b[39m'\u001b[39m\u001b[39mBye\u001b[39m\u001b[39m'\u001b[39m)\n",
      "\u001b[1;31mPysError\u001b[0m: "
     ]
    }
   ],
   "source": [
    "class PysError(Exception):\n",
    "    def __init__(self):\n",
    "        pass\n",
    "\n",
    "a=10\n",
    "if a == 10:\n",
    "    raise PysError\n",
    "else:\n",
    "    print('Bye')"
   ]
  },
  {
   "cell_type": "code",
   "execution_count": 2,
   "metadata": {},
   "outputs": [
    {
     "ename": "PysError",
     "evalue": "Haiiiiii",
     "output_type": "error",
     "traceback": [
      "\u001b[1;31m---------------------------------------------------------------------------\u001b[0m",
      "\u001b[1;31mPysError\u001b[0m                                  Traceback (most recent call last)",
      "\u001b[1;32mc:\\Users\\HP\\Documents\\GitHub\\Basic_of_python_programs\\EXCEPTION HANDLING\\Cusotm_Exception.ipynb Cell 2\u001b[0m line \u001b[0;36m7\n\u001b[0;32m      <a href='vscode-notebook-cell:/c%3A/Users/HP/Documents/GitHub/Basic_of_python_programs/EXCEPTION%20HANDLING/Cusotm_Exception.ipynb#W1sZmlsZQ%3D%3D?line=4'>5</a>\u001b[0m a\u001b[39m=\u001b[39m\u001b[39m10\u001b[39m\n\u001b[0;32m      <a href='vscode-notebook-cell:/c%3A/Users/HP/Documents/GitHub/Basic_of_python_programs/EXCEPTION%20HANDLING/Cusotm_Exception.ipynb#W1sZmlsZQ%3D%3D?line=5'>6</a>\u001b[0m \u001b[39mif\u001b[39;00m a \u001b[39m==\u001b[39m \u001b[39m10\u001b[39m:\n\u001b[1;32m----> <a href='vscode-notebook-cell:/c%3A/Users/HP/Documents/GitHub/Basic_of_python_programs/EXCEPTION%20HANDLING/Cusotm_Exception.ipynb#W1sZmlsZQ%3D%3D?line=6'>7</a>\u001b[0m     \u001b[39mraise\u001b[39;00m PysError(\u001b[39m'\u001b[39m\u001b[39mHaiiiiii\u001b[39m\u001b[39m'\u001b[39m)\n\u001b[0;32m      <a href='vscode-notebook-cell:/c%3A/Users/HP/Documents/GitHub/Basic_of_python_programs/EXCEPTION%20HANDLING/Cusotm_Exception.ipynb#W1sZmlsZQ%3D%3D?line=7'>8</a>\u001b[0m \u001b[39melse\u001b[39;00m:\n\u001b[0;32m      <a href='vscode-notebook-cell:/c%3A/Users/HP/Documents/GitHub/Basic_of_python_programs/EXCEPTION%20HANDLING/Cusotm_Exception.ipynb#W1sZmlsZQ%3D%3D?line=8'>9</a>\u001b[0m     \u001b[39mprint\u001b[39m(\u001b[39m'\u001b[39m\u001b[39mBye\u001b[39m\u001b[39m'\u001b[39m)\n",
      "\u001b[1;31mPysError\u001b[0m: Haiiiiii"
     ]
    }
   ],
   "source": [
    "class PysError(Exception):\n",
    "    def __init__(self, msg):\n",
    "        self.msg = msg\n",
    "\n",
    "a=10\n",
    "if a == 10:\n",
    "    raise PysError('Haiiiiii')\n",
    "else:\n",
    "    print('Bye')"
   ]
  },
  {
   "cell_type": "code",
   "execution_count": 1,
   "metadata": {},
   "outputs": [
    {
     "name": "stdout",
     "output_type": "stream",
     "text": [
      "Byeee\n"
     ]
    }
   ],
   "source": [
    "class PysError(Exception):\n",
    "    def __init__(self):\n",
    "        pass\n",
    "\n",
    "try:\n",
    "    a=11\n",
    "    if a == 11:\n",
    "        raise PysError\n",
    "    else:\n",
    "        print('Hiiii')\n",
    "except PysError:\n",
    "    print('Byeee')"
   ]
  },
  {
   "cell_type": "code",
   "execution_count": 4,
   "metadata": {},
   "outputs": [
    {
     "name": "stdout",
     "output_type": "stream",
     "text": [
      "Program Excuted\n"
     ]
    }
   ],
   "source": [
    "try:\n",
    "    l = eval(input('enter The Value'))\n",
    "    for i in l:\n",
    "        print(10/i)\n",
    "except TypeError:\n",
    "    print('Program Excuted')\n",
    "except ZeroDivisionError:\n",
    "    print(i/10)\n",
    "except Exception:\n",
    "    print('Invalid')\n",
    "except:\n",
    "    print('Stop')"
   ]
  }
 ],
 "metadata": {
  "kernelspec": {
   "display_name": "Python 3",
   "language": "python",
   "name": "python3"
  },
  "language_info": {
   "codemirror_mode": {
    "name": "ipython",
    "version": 3
   },
   "file_extension": ".py",
   "mimetype": "text/x-python",
   "name": "python",
   "nbconvert_exporter": "python",
   "pygments_lexer": "ipython3",
   "version": "3.12.0"
  }
 },
 "nbformat": 4,
 "nbformat_minor": 2
}
