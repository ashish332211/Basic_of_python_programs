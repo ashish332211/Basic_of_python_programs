{
 "cells": [
  {
   "cell_type": "code",
   "execution_count": 1,
   "metadata": {},
   "outputs": [
    {
     "name": "stdout",
     "output_type": "stream",
     "text": [
      "{'I': 73, ' ': 32, 'd': 100, 'o': 111, 'n': 110, 't': 116, 'k': 107, 'w': 119}\n"
     ]
    }
   ],
   "source": [
    "st='I dont know'\n",
    "d={i:ord(i) for i in st}\n",
    "print(d)"
   ]
  },
  {
   "cell_type": "code",
   "execution_count": 2,
   "metadata": {},
   "outputs": [
    {
     "name": "stdout",
     "output_type": "stream",
     "text": [
      "{'d': 100, 'n': 110, 't': 116, 'k': 107, 'w': 119}\n"
     ]
    }
   ],
   "source": [
    "st='I dont know'\n",
    "d={i:ord(i) for i in st if('A'<=i<='Z' or 'a'<=i<='z') and (i not in 'AEIOUaeiou')}\n",
    "print(d)"
   ]
  },
  {
   "cell_type": "code",
   "execution_count": 3,
   "metadata": {},
   "outputs": [
    {
     "name": "stdout",
     "output_type": "stream",
     "text": [
      "{10: 1000, 7: 15, 18: 5832, 9: 19, 16: 4096, 6: 13, 20: 41, 56: 175616}\n",
      "{10: 1000, 7: 15, 18: 5832, 9: 19, 16: 4096, 6: 13, 20: 41, 56: 175616}\n",
      "{10: 1000, 7: 15, 18: 5832, 9: 19, 16: 4096, 6: 13, 20: 41, 56: 175616}\n"
     ]
    }
   ],
   "source": [
    "l=[10,15,18,19,16,13,41,56]\n",
    "d={}\n",
    "for i in l:\n",
    "    if i%2==0:\n",
    "        d|={i:i**3}\n",
    "    else:\n",
    "        d|={i//2:i}\n",
    "print(d)\n",
    "\n",
    "#USING COMPREHENSION\n",
    "x=dict([[i,i**3] if i%2==0 else [i//2,i] for i in l])\n",
    "print(x)\n",
    "#OR\n",
    "d={[i//2,i][i%2==0]:i**3 if i%2==0 else i for i in l}\n",
    "print(d)"
   ]
  },
  {
   "cell_type": "code",
   "execution_count": 4,
   "metadata": {},
   "outputs": [
    {
     "name": "stdout",
     "output_type": "stream",
     "text": [
      "{12: 144, 13: 169, 15: 225, 17: 289, 19: 361, 23: 529, 26: 676, 43: 1849, 76: 5776}\n"
     ]
    }
   ],
   "source": [
    "l=[[12,13,15],[17,19,23],[26,43,76]]\n",
    "d={j:j**2 for i in l for j in i}\n",
    "print(d) "
   ]
  }
 ],
 "metadata": {
  "kernelspec": {
   "display_name": "Python 3",
   "language": "python",
   "name": "python3"
  },
  "language_info": {
   "codemirror_mode": {
    "name": "ipython",
    "version": 3
   },
   "file_extension": ".py",
   "mimetype": "text/x-python",
   "name": "python",
   "nbconvert_exporter": "python",
   "pygments_lexer": "ipython3",
   "version": "3.12.0"
  }
 },
 "nbformat": 4,
 "nbformat_minor": 2
}
