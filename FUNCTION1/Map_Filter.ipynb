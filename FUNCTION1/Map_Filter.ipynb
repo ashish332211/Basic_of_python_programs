{
 "cells": [
  {
   "cell_type": "markdown",
   "metadata": {},
   "source": [
    "MAP()\n",
    "* The map function applies a function to each element in a sequence and returns a new sequence containing the transformed elements\n",
    "* It take two arguments the function to apply and the iterable\n",
    "* It returns a map object, which can be converted to list or other iterable type"
   ]
  },
  {
   "cell_type": "code",
   "execution_count": 2,
   "metadata": {},
   "outputs": [
    {
     "data": {
      "text/plain": [
       "[1, 4, 9, 16, 25]"
      ]
     },
     "execution_count": 2,
     "metadata": {},
     "output_type": "execute_result"
    }
   ],
   "source": [
    "#Square the items of a list\n",
    "list(map(lambda x: x**2,[1,2,3,4,5]))"
   ]
  },
  {
   "cell_type": "code",
   "execution_count": 3,
   "metadata": {},
   "outputs": [
    {
     "data": {
      "text/plain": [
       "['odd', 'even', 'odd', 'even', 'odd']"
      ]
     },
     "execution_count": 3,
     "metadata": {},
     "output_type": "execute_result"
    }
   ],
   "source": [
    "#Odd/Even labeling of list items\n",
    "l = [1,2,3,4,5]\n",
    "list(map(lambda x:'even' if x%2 == 0 else 'odd', l))"
   ]
  },
  {
   "cell_type": "code",
   "execution_count": 4,
   "metadata": {},
   "outputs": [
    {
     "data": {
      "text/plain": [
       "['male', 'female', 'male']"
      ]
     },
     "execution_count": 4,
     "metadata": {},
     "output_type": "execute_result"
    }
   ],
   "source": [
    "# fetch names from a list of dict\n",
    "users = [\n",
    "    {\n",
    "        'name':'Rahul',\n",
    "        'age':23,\n",
    "        'gender':'male'\n",
    "    },\n",
    "    {\n",
    "        'name':'ankita',\n",
    "        'age':22,\n",
    "        'gender':'female'\n",
    "    },\n",
    "    {\n",
    "        'name':'harish',\n",
    "        'age':25,\n",
    "        'gender':'male'\n",
    "    }\n",
    "]\n",
    "list(map(lambda users:users['gender'], users))"
   ]
  },
  {
   "cell_type": "code",
   "execution_count": 16,
   "metadata": {},
   "outputs": [
    {
     "name": "stdout",
     "output_type": "stream",
     "text": [
      "['C', 'A', 'D', 'B', 'F']\n"
     ]
    }
   ],
   "source": [
    "marks = [77, 97, 64, 85, 55]\n",
    "\n",
    "def grade(marks):\n",
    "    if marks >= 90:\n",
    "        return 'A'\n",
    "    elif 80 <= marks <= 90:\n",
    "        return 'B'\n",
    "    elif 70 <= marks <= 80:\n",
    "        return 'C'\n",
    "    elif 60 <= marks <= 70:\n",
    "        return 'D'\n",
    "    else:\n",
    "        return 'F'\n",
    "\n",
    "obj = list(map(grade, marks))\n",
    "print(obj)\n",
    "# print(next(obj))"
   ]
  },
  {
   "cell_type": "code",
   "execution_count": 13,
   "metadata": {},
   "outputs": [
    {
     "name": "stdout",
     "output_type": "stream",
     "text": [
      "['DOG', 'CAT', 'PARROT', 'RABBIT']\n"
     ]
    }
   ],
   "source": [
    "# Python program to demonstrate\n",
    "# use of lambda() function\n",
    "# with map() function\n",
    "x = ['dog', 'cat', 'parrot', 'rabbit']\n",
    " \n",
    "# here we intend to change all animal names\n",
    "# to upper case and return the same\n",
    "x = list(map(lambda x: x.upper(), x))\n",
    "print(x)"
   ]
  },
  {
   "cell_type": "markdown",
   "metadata": {},
   "source": [
    "filter()\n",
    "* The filter function filters a sequence of elements based on a given condition and returns a new sequence containing the satisfied condition.\n",
    "* It returns a boolean value"
   ]
  },
  {
   "cell_type": "code",
   "execution_count": 5,
   "metadata": {},
   "outputs": [
    {
     "data": {
      "text/plain": [
       "[6, 7]"
      ]
     },
     "execution_count": 5,
     "metadata": {},
     "output_type": "execute_result"
    }
   ],
   "source": [
    "#numbers grater than 5\n",
    "l=[3,4,5,6,7]\n",
    "list(filter(lambda x:x>5, l))"
   ]
  },
  {
   "cell_type": "code",
   "execution_count": 2,
   "metadata": {},
   "outputs": [
    {
     "data": {
      "text/plain": [
       "['apple']"
      ]
     },
     "execution_count": 2,
     "metadata": {},
     "output_type": "execute_result"
    }
   ],
   "source": [
    "#Fetch fruits starting with 'a'\n",
    "fruits = ['apple','guava','cherry']\n",
    "list(filter(lambda x: x.startswith('a'), fruits))"
   ]
  },
  {
   "cell_type": "code",
   "execution_count": 3,
   "metadata": {},
   "outputs": [
    {
     "data": {
      "text/plain": [
       "['apple', 'cherry']"
      ]
     },
     "execution_count": 3,
     "metadata": {},
     "output_type": "execute_result"
    }
   ],
   "source": [
    "fruits = ['apple','guava','cherry']\n",
    "filter(lambda fruit:'e' in fruits, fruits)\n",
    "list(filter(lambda fruit:'e' in fruit, fruits))"
   ]
  },
  {
   "cell_type": "code",
   "execution_count": 19,
   "metadata": {},
   "outputs": [
    {
     "name": "stdout",
     "output_type": "stream",
     "text": [
      "[35, 55]\n"
     ]
    }
   ],
   "source": [
    "marks = [77, 97, 64, 35, 55]\n",
    "def fail(score):\n",
    "    return score < 60\n",
    "res = list(filter(fail, marks))\n",
    "print(res)"
   ]
  },
  {
   "cell_type": "code",
   "execution_count": 12,
   "metadata": {},
   "outputs": [
    {
     "name": "stdout",
     "output_type": "stream",
     "text": [
      "[90, 59, 21, 60]\n"
     ]
    }
   ],
   "source": [
    "ages = [13, 90, 17, 59, 21, 60, 5]\n",
    "adults = list(filter(lambda age: age > 18, ages))\n",
    "print(adults)"
   ]
  },
  {
   "cell_type": "code",
   "execution_count": 11,
   "metadata": {},
   "outputs": [
    {
     "name": "stdout",
     "output_type": "stream",
     "text": [
      "[55, 45, 30]\n"
     ]
    }
   ],
   "source": [
    "marks = [77, 97, 64, 85, 55, 45, 30]\n",
    "def fail(score):\n",
    "    return score < 60\n",
    "res = filter(fail, marks)\n",
    "print(list(res))"
   ]
  },
  {
   "cell_type": "markdown",
   "metadata": {},
   "source": [
    "reduce\n",
    "* The reduce function is function that applies a function to a sequence and returns a single value\n",
    "* This function applies the function to the first two elements in the iterable and then applies the function \n",
    "  to the result and the next element and so on and returns the final result"
   ]
  },
  {
   "cell_type": "code",
   "execution_count": 7,
   "metadata": {},
   "outputs": [
    {
     "data": {
      "text/plain": [
       "15"
      ]
     },
     "execution_count": 7,
     "metadata": {},
     "output_type": "execute_result"
    }
   ],
   "source": [
    "#sum of all \n",
    "import functools\n",
    "functools.reduce(lambda x,y:x+y, [1,2,3,4,5])"
   ]
  },
  {
   "cell_type": "code",
   "execution_count": 8,
   "metadata": {},
   "outputs": [
    {
     "data": {
      "text/plain": [
       "1"
      ]
     },
     "execution_count": 8,
     "metadata": {},
     "output_type": "execute_result"
    }
   ],
   "source": [
    "#Find min\n",
    "functools.reduce(lambda x,y: x if x<y else y, [23, 11, 45, 10, 1])"
   ]
  },
  {
   "cell_type": "code",
   "execution_count": 14,
   "metadata": {},
   "outputs": [
    {
     "name": "stdout",
     "output_type": "stream",
     "text": [
      "193\n"
     ]
    }
   ],
   "source": [
    "# Python code to illustrate\n",
    "# reduce() with lambda()\n",
    "# to get sum of a list\n",
    "from functools import reduce\n",
    "li = [5, 8, 10, 20, 50, 100]\n",
    "sum = reduce((lambda x, y: x + y), li)\n",
    "print(sum)"
   ]
  }
 ],
 "metadata": {
  "kernelspec": {
   "display_name": "Python 3",
   "language": "python",
   "name": "python3"
  },
  "language_info": {
   "codemirror_mode": {
    "name": "ipython",
    "version": 3
   },
   "file_extension": ".py",
   "mimetype": "text/x-python",
   "name": "python",
   "nbconvert_exporter": "python",
   "pygments_lexer": "ipython3",
   "version": "3.12.0"
  }
 },
 "nbformat": 4,
 "nbformat_minor": 2
}
