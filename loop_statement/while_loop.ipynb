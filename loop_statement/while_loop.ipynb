{
 "cells": [
  {
   "cell_type": "markdown",
   "metadata": {},
   "source": [
    "1.WAP to print the whole numbers from 0 to n."
   ]
  },
  {
   "cell_type": "code",
   "execution_count": 3,
   "metadata": {},
   "outputs": [
    {
     "name": "stdout",
     "output_type": "stream",
     "text": [
      "0\n",
      "1\n",
      "2\n",
      "3\n",
      "4\n",
      "5\n"
     ]
    }
   ],
   "source": [
    "start=0\n",
    "end=5\n",
    "while start<=end:\n",
    "    print(start)\n",
    "    start+=1"
   ]
  },
  {
   "cell_type": "markdown",
   "metadata": {},
   "source": [
    "2.WAP to print 'Hello World' 7 times."
   ]
  },
  {
   "cell_type": "code",
   "execution_count": 4,
   "metadata": {},
   "outputs": [
    {
     "name": "stdout",
     "output_type": "stream",
     "text": [
      "Hello World\n",
      "Hello World\n",
      "Hello World\n",
      "Hello World\n",
      "Hello World\n",
      "Hello World\n",
      "Hello World\n"
     ]
    }
   ],
   "source": [
    "num=1\n",
    "while num<=7:\n",
    "    print('Hello World')\n",
    "    num+=1"
   ]
  },
  {
   "cell_type": "markdown",
   "metadata": {},
   "source": [
    "3.WAP to print 1 to 7 in a reverse order."
   ]
  },
  {
   "cell_type": "code",
   "execution_count": 32,
   "metadata": {},
   "outputs": [
    {
     "name": "stdout",
     "output_type": "stream",
     "text": [
      "7\n",
      "6\n",
      "5\n",
      "4\n",
      "3\n",
      "2\n",
      "1\n"
     ]
    }
   ],
   "source": [
    "n=7\n",
    "while n>=1:\n",
    "    print(n)\n",
    "    n-=1\n",
    "#0R\n",
    "# start=7\n",
    "# end=0\n",
    "# while end<=start:\n",
    "#     print(start)\n",
    "#     start-=1"
   ]
  },
  {
   "cell_type": "markdown",
   "metadata": {},
   "source": [
    "4.WAP to print first 10 even numbers."
   ]
  },
  {
   "cell_type": "code",
   "execution_count": 38,
   "metadata": {},
   "outputs": [
    {
     "name": "stdout",
     "output_type": "stream",
     "text": [
      "2\n",
      "4\n",
      "6\n",
      "8\n",
      "10\n",
      "12\n",
      "14\n",
      "16\n",
      "18\n",
      "20\n"
     ]
    }
   ],
   "source": [
    "count=1\n",
    "i=2\n",
    "while count<=10:\n",
    "    print(i)\n",
    "    i+=2\n",
    "    count=count+1"
   ]
  },
  {
   "cell_type": "markdown",
   "metadata": {},
   "source": [
    "5.WAP to print first 10 odd numbers."
   ]
  },
  {
   "cell_type": "code",
   "execution_count": 4,
   "metadata": {},
   "outputs": [
    {
     "name": "stdout",
     "output_type": "stream",
     "text": [
      "1\n",
      "3\n",
      "5\n",
      "7\n",
      "9\n",
      "11\n",
      "13\n",
      "15\n",
      "17\n",
      "19\n"
     ]
    }
   ],
   "source": [
    "count=1\n",
    "i=1\n",
    "while count<=10:\n",
    "    print(i)\n",
    "    i+=2\n",
    "    count+=1"
   ]
  },
  {
   "cell_type": "markdown",
   "metadata": {},
   "source": [
    "6.WAP to print first 10 natural numbers"
   ]
  },
  {
   "cell_type": "code",
   "execution_count": 28,
   "metadata": {},
   "outputs": [
    {
     "name": "stdout",
     "output_type": "stream",
     "text": [
      "1\n",
      "2\n",
      "3\n",
      "4\n",
      "5\n",
      "6\n",
      "7\n",
      "8\n",
      "9\n",
      "10\n"
     ]
    }
   ],
   "source": [
    "n=1\n",
    "while n<=10:\n",
    "    print(n)\n",
    "    n+=1"
   ]
  },
  {
   "cell_type": "markdown",
   "metadata": {},
   "source": [
    "7.WAP to print first sum of the 10 natural numbers"
   ]
  },
  {
   "cell_type": "code",
   "execution_count": 7,
   "metadata": {},
   "outputs": [
    {
     "name": "stdout",
     "output_type": "stream",
     "text": [
      "55\n"
     ]
    }
   ],
   "source": [
    "sum=0\n",
    "i=1\n",
    "while i<=10:\n",
    "    sum=sum+i\n",
    "    i+=1\n",
    "print(sum)"
   ]
  },
  {
   "cell_type": "markdown",
   "metadata": {},
   "source": [
    "8.WAP to extract each digit from a given number."
   ]
  },
  {
   "cell_type": "code",
   "execution_count": 39,
   "metadata": {},
   "outputs": [
    {
     "name": "stdout",
     "output_type": "stream",
     "text": [
      "1\n",
      "5\n",
      "4\n",
      "8\n",
      "9\n"
     ]
    }
   ],
   "source": [
    "num=15489\n",
    "num=str(num)\n",
    "i=0\n",
    "while i<len(num):\n",
    "    print(num[i])\n",
    "    i+=1"
   ]
  },
  {
   "cell_type": "markdown",
   "metadata": {},
   "source": [
    "9.WAP to extract each digit from a given number from right to left."
   ]
  },
  {
   "cell_type": "code",
   "execution_count": 10,
   "metadata": {},
   "outputs": [
    {
     "name": "stdout",
     "output_type": "stream",
     "text": [
      "9\n",
      "8\n",
      "4\n",
      "5\n",
      "1\n",
      "9\n",
      "8\n",
      "4\n",
      "5\n",
      "1\n"
     ]
    }
   ],
   "source": [
    "num=15489\n",
    "num=str(num)[::-1]\n",
    "i=0\n",
    "while i<len(num):\n",
    "    print(num[i])\n",
    "    i+=1\n",
    "    #OR\n",
    "num=15489\n",
    "while num:\n",
    "    ld=num%10\n",
    "    print(ld)\n",
    "    num=num//10"
   ]
  },
  {
   "cell_type": "markdown",
   "metadata": {},
   "source": [
    "10.WAP to find out the largest digit in given number."
   ]
  },
  {
   "cell_type": "code",
   "execution_count": 17,
   "metadata": {},
   "outputs": [
    {
     "name": "stdout",
     "output_type": "stream",
     "text": [
      "9\n"
     ]
    }
   ],
   "source": [
    "num=167986\n",
    "res=0\n",
    "while num:\n",
    "    ld=num%10\n",
    "    if res<ld:\n",
    "        res=ld\n",
    "    num=num//10\n",
    "print(res)"
   ]
  },
  {
   "cell_type": "markdown",
   "metadata": {},
   "source": [
    "11.WAP to find out the smallest digit in given number."
   ]
  },
  {
   "cell_type": "code",
   "execution_count": 18,
   "metadata": {},
   "outputs": [
    {
     "name": "stdout",
     "output_type": "stream",
     "text": [
      "1\n"
     ]
    }
   ],
   "source": [
    "num=1986375\n",
    "res=10\n",
    "while num:\n",
    "    ld=num%10\n",
    "    if res>ld:\n",
    "        res=ld\n",
    "    num=num//10\n",
    "print(res)"
   ]
  },
  {
   "cell_type": "markdown",
   "metadata": {},
   "source": [
    "12.WAP to find out the even largest digit in given number."
   ]
  },
  {
   "cell_type": "code",
   "execution_count": 19,
   "metadata": {},
   "outputs": [
    {
     "name": "stdout",
     "output_type": "stream",
     "text": [
      "8\n"
     ]
    }
   ],
   "source": [
    "num=156846\n",
    "res=0\n",
    "while num:\n",
    "    ld=num%10\n",
    "    if res<ld and ld%2==0:\n",
    "        res=ld\n",
    "    num=num//10\n",
    "print(res)"
   ]
  },
  {
   "cell_type": "markdown",
   "metadata": {},
   "source": [
    "13.WAP to sum of all the digit in given number."
   ]
  },
  {
   "cell_type": "code",
   "execution_count": 11,
   "metadata": {},
   "outputs": [
    {
     "name": "stdout",
     "output_type": "stream",
     "text": [
      "29\n"
     ]
    }
   ],
   "source": [
    "num=192863\n",
    "sum=0\n",
    "while num:\n",
    "    ld=num%10\n",
    "    sum=sum+ld\n",
    "    num=num//10\n",
    "print(sum)"
   ]
  },
  {
   "cell_type": "markdown",
   "metadata": {},
   "source": [
    "14.WAP product of all the digit in given number."
   ]
  },
  {
   "cell_type": "code",
   "execution_count": 29,
   "metadata": {},
   "outputs": [
    {
     "name": "stdout",
     "output_type": "stream",
     "text": [
      "28224\n"
     ]
    }
   ],
   "source": [
    "num=1738783\n",
    "prod=1\n",
    "while num:\n",
    "    ld=num%10\n",
    "    prod=prod*ld\n",
    "    num=num//10\n",
    "print(prod)"
   ]
  },
  {
   "cell_type": "markdown",
   "metadata": {},
   "source": [
    "15.WAP to extract even digits from given number."
   ]
  },
  {
   "cell_type": "code",
   "execution_count": 30,
   "metadata": {},
   "outputs": [
    {
     "name": "stdout",
     "output_type": "stream",
     "text": [
      "8\n",
      "6\n",
      "4\n",
      "2\n"
     ]
    }
   ],
   "source": [
    "num=234768\n",
    "res=0\n",
    "while num:\n",
    "    ld=num%10\n",
    "    if ld%2==0:\n",
    "        print(ld)\n",
    "    num=num//10"
   ]
  },
  {
   "cell_type": "markdown",
   "metadata": {},
   "source": [
    "16.WAP to find out the sum of odd digits in given number."
   ]
  },
  {
   "cell_type": "code",
   "execution_count": 12,
   "metadata": {},
   "outputs": [
    {
     "name": "stdout",
     "output_type": "stream",
     "text": [
      "16\n"
     ]
    }
   ],
   "source": [
    "num=134693\n",
    "sum=0\n",
    "while num:\n",
    "    ld=num%10\n",
    "    if ld%2==1:\n",
    "        sum=sum+ld\n",
    "    num=num//10\n",
    "print(sum)"
   ]
  },
  {
   "cell_type": "markdown",
   "metadata": {},
   "source": [
    "17.WAP to find out the sum of odd digits from 25 to 65."
   ]
  },
  {
   "cell_type": "code",
   "execution_count": 36,
   "metadata": {},
   "outputs": [
    {
     "name": "stdout",
     "output_type": "stream",
     "text": [
      "945\n"
     ]
    }
   ],
   "source": [
    "i=25\n",
    "sum=0\n",
    "while i<=65:\n",
    "    if i%2==1:\n",
    "        sum=sum+i\n",
    "    i=i+1\n",
    "print(sum)"
   ]
  },
  {
   "cell_type": "markdown",
   "metadata": {},
   "source": [
    "18.WAP to generate sequence of value from m to n."
   ]
  },
  {
   "cell_type": "code",
   "execution_count": 33,
   "metadata": {},
   "outputs": [
    {
     "name": "stdout",
     "output_type": "stream",
     "text": [
      "15\n",
      "16\n",
      "17\n",
      "18\n",
      "19\n",
      "20\n"
     ]
    }
   ],
   "source": [
    "m=15\n",
    "n=20\n",
    "while m<=20:\n",
    "    print(m)\n",
    "    m=m+1"
   ]
  },
  {
   "cell_type": "markdown",
   "metadata": {},
   "source": [
    "19.WAP to generate the sequence of value from 1 to n."
   ]
  },
  {
   "cell_type": "code",
   "execution_count": 21,
   "metadata": {},
   "outputs": [
    {
     "name": "stdout",
     "output_type": "stream",
     "text": [
      "1\n",
      "2\n",
      "3\n",
      "4\n",
      "5\n"
     ]
    }
   ],
   "source": [
    "n=5\n",
    "i=1\n",
    "while n>=i:\n",
    "    print(i)\n",
    "    i=i+1"
   ]
  },
  {
   "cell_type": "markdown",
   "metadata": {},
   "source": [
    "20.WAP to generate the sequence of value from 5 to 1."
   ]
  },
  {
   "cell_type": "code",
   "execution_count": 26,
   "metadata": {},
   "outputs": [
    {
     "name": "stdout",
     "output_type": "stream",
     "text": [
      "5\n",
      "4\n",
      "3\n",
      "2\n",
      "1\n"
     ]
    }
   ],
   "source": [
    "num=5\n",
    "i=1\n",
    "while num>=i:\n",
    "    print(num)\n",
    "    num=num-1"
   ]
  },
  {
   "cell_type": "markdown",
   "metadata": {},
   "source": [
    "21.WAP to find out the sum of digits from 1 to n."
   ]
  },
  {
   "cell_type": "code",
   "execution_count": 35,
   "metadata": {},
   "outputs": [
    {
     "name": "stdout",
     "output_type": "stream",
     "text": [
      "210\n"
     ]
    }
   ],
   "source": [
    "n=20\n",
    "i=1\n",
    "sum=0\n",
    "while i<=n:\n",
    "    sum=sum+i\n",
    "    i=i+1\n",
    "print(sum)\n"
   ]
  },
  {
   "cell_type": "markdown",
   "metadata": {},
   "source": [
    "22.WAP to find out the product of all the digits from 1 to n."
   ]
  },
  {
   "cell_type": "code",
   "execution_count": 39,
   "metadata": {},
   "outputs": [
    {
     "name": "stdout",
     "output_type": "stream",
     "text": [
      "362880\n"
     ]
    }
   ],
   "source": [
    "n=9\n",
    "i=1\n",
    "prod=1\n",
    "while i<=n:\n",
    "    prod=prod*i\n",
    "    i=i+1\n",
    "print(prod)"
   ]
  },
  {
   "cell_type": "markdown",
   "metadata": {},
   "source": [
    "23.WAP to find out the given is prime number or not"
   ]
  },
  {
   "cell_type": "code",
   "execution_count": 47,
   "metadata": {},
   "outputs": [
    {
     "name": "stdout",
     "output_type": "stream",
     "text": [
      "2\n",
      "Prime Number\n"
     ]
    }
   ],
   "source": [
    "num=7\n",
    "i=1\n",
    "count=0\n",
    "while i<=num:\n",
    "    if num%i==0:\n",
    "        count=count+1\n",
    "    i=i+1\n",
    "print(count)\n",
    "if count==2:\n",
    "    print('Prime Number')\n",
    "else:\n",
    "    print('Not a prime number')"
   ]
  },
  {
   "cell_type": "markdown",
   "metadata": {},
   "source": [
    "24.WAP to find out the factors of given nummber."
   ]
  },
  {
   "cell_type": "code",
   "execution_count": 3,
   "metadata": {},
   "outputs": [
    {
     "name": "stdout",
     "output_type": "stream",
     "text": [
      "1\n",
      "3\n",
      "9\n"
     ]
    }
   ],
   "source": [
    "num=9\n",
    "i=1\n",
    "while i<=num:\n",
    "    if num%i==0:\n",
    "        print(i)\n",
    "    i=i+1"
   ]
  },
  {
   "cell_type": "markdown",
   "metadata": {},
   "source": [
    "25.WAP to count the factors of given number"
   ]
  },
  {
   "cell_type": "code",
   "execution_count": 5,
   "metadata": {},
   "outputs": [
    {
     "name": "stdout",
     "output_type": "stream",
     "text": [
      "4\n"
     ]
    }
   ],
   "source": [
    "num=15\n",
    "i=1\n",
    "count=0\n",
    "while i<=num:\n",
    "    if num%i==0:\n",
    "        count=count+1\n",
    "    i=i+1\n",
    "print(count)"
   ]
  },
  {
   "cell_type": "markdown",
   "metadata": {},
   "source": [
    "26.WAP to find out the difference value from a given number.(Right to Left)"
   ]
  },
  {
   "cell_type": "code",
   "execution_count": 27,
   "metadata": {},
   "outputs": [
    {
     "name": "stdout",
     "output_type": "stream",
     "text": [
      "9\n",
      "-1\n"
     ]
    }
   ],
   "source": [
    "num=159\n",
    "res=num%10\n",
    "print(res)\n",
    "num=num//10\n",
    "while num:\n",
    "    ld=num%10\n",
    "    res=-ld\n",
    "    num=num//10\n",
    "print(res)\n",
    "########"
   ]
  },
  {
   "cell_type": "markdown",
   "metadata": {},
   "source": [
    "27.WAP to find out the difference value from a given number.(Left to Right)"
   ]
  },
  {
   "cell_type": "code",
   "execution_count": null,
   "metadata": {},
   "outputs": [],
   "source": [
    "num=1594128\n",
    "s=str(num)\n",
    "res=int(s[0])\n",
    "i=1\n",
    "while i<=len(s):\n",
    "    ######"
   ]
  },
  {
   "cell_type": "markdown",
   "metadata": {},
   "source": [
    "28.WAP to  find out the sum of factors in given number."
   ]
  },
  {
   "cell_type": "code",
   "execution_count": 14,
   "metadata": {},
   "outputs": [
    {
     "name": "stdout",
     "output_type": "stream",
     "text": [
      "24\n"
     ]
    }
   ],
   "source": [
    "num=15\n",
    "i=1\n",
    "sum=0\n",
    "while i<=num:\n",
    "    if num%i==0:\n",
    "        sum=sum+i\n",
    "    i=i+1\n",
    "print(sum)"
   ]
  },
  {
   "cell_type": "markdown",
   "metadata": {},
   "source": [
    "29.WAP to find out the sum of all the digits in given number, the final result is prime or not."
   ]
  },
  {
   "cell_type": "code",
   "execution_count": 37,
   "metadata": {},
   "outputs": [
    {
     "name": "stdout",
     "output_type": "stream",
     "text": [
      "19\n",
      "2\n",
      "Prime Number\n"
     ]
    }
   ],
   "source": [
    "num=12367\n",
    "sum=0\n",
    "count=0\n",
    "i=1\n",
    "while num:\n",
    "    ld=num%10\n",
    "    sum=sum+ld\n",
    "    num=num//10\n",
    "print(sum)\n",
    "while i<=sum:\n",
    "    if sum%i==0:\n",
    "        count=count+1\n",
    "    i=i+1\n",
    "print(count)\n",
    "if count==2:\n",
    "    print('Prime Number')\n",
    "else:\n",
    "    print('Not a Prime Number')                     "
   ]
  },
  {
   "cell_type": "markdown",
   "metadata": {},
   "source": [
    "30.WAP to find out product of all the digits in given numbers, the final result value is perfect number or not."
   ]
  },
  {
   "cell_type": "code",
   "execution_count": 13,
   "metadata": {},
   "outputs": [
    {
     "name": "stdout",
     "output_type": "stream",
     "text": [
      "6\n",
      "6\n",
      "Perfect\n"
     ]
    }
   ],
   "source": [
    "num=123\n",
    "prod=1\n",
    "i=1\n",
    "sum=0\n",
    "while num:\n",
    "    ld=num%10\n",
    "    prod=prod*ld\n",
    "    num=num//10\n",
    "print(prod)\n",
    "while i<prod:\n",
    "    if prod%i==0:\n",
    "        sum=sum+i\n",
    "    i=i+1\n",
    "print(sum)\n",
    "if prod==sum:\n",
    "    print('Perfect')\n",
    "else:\n",
    "    print('Not a perfect')\n"
   ]
  },
  {
   "cell_type": "markdown",
   "metadata": {},
   "source": [
    "31.WAP to print fibonacci series upto nth value."
   ]
  },
  {
   "cell_type": "code",
   "execution_count": 1,
   "metadata": {},
   "outputs": [
    {
     "name": "stdout",
     "output_type": "stream",
     "text": [
      "1\n",
      "2\n",
      "3\n",
      "5\n",
      "8\n"
     ]
    }
   ],
   "source": [
    "a=0\n",
    "b=1\n",
    "n=5\n",
    "i=1\n",
    "while i<=n:\n",
    "    c=a+b\n",
    "    print(c)\n",
    "    a,b=b,c\n",
    "    i=i+1"
   ]
  },
  {
   "cell_type": "markdown",
   "metadata": {},
   "source": [
    "32.WAP to reverse the given number."
   ]
  },
  {
   "cell_type": "code",
   "execution_count": 6,
   "metadata": {},
   "outputs": [
    {
     "name": "stdout",
     "output_type": "stream",
     "text": [
      "121\n"
     ]
    }
   ],
   "source": [
    "num=121\n",
    "rev=0\n",
    "while num:\n",
    "    ld=num%10\n",
    "    rev=(rev*10)+ld\n",
    "    num=num//10\n",
    "print(rev)"
   ]
  },
  {
   "cell_type": "markdown",
   "metadata": {},
   "source": [
    "33.WAP to check the given number is palindrome or not."
   ]
  },
  {
   "cell_type": "code",
   "execution_count": 12,
   "metadata": {},
   "outputs": [
    {
     "name": "stdout",
     "output_type": "stream",
     "text": [
      "121\n",
      "Palindrome\n"
     ]
    }
   ],
   "source": [
    "num=121\n",
    "temp=num\n",
    "rev=0\n",
    "while num:\n",
    "    ld=num%10\n",
    "    rev=(rev*10)+ld\n",
    "    num=num//10\n",
    "print(rev)\n",
    "if temp==rev:\n",
    "    print('Palindrome')\n",
    "else:\n",
    "    ('Not Palindrome')"
   ]
  },
  {
   "cell_type": "markdown",
   "metadata": {},
   "source": [
    "34.WAP to check the given number is strong number or not."
   ]
  },
  {
   "cell_type": "code",
   "execution_count": 15,
   "metadata": {},
   "outputs": [
    {
     "name": "stdout",
     "output_type": "stream",
     "text": [
      "145\n",
      "Strong Number\n",
      "strong\n"
     ]
    }
   ],
   "source": [
    "num=145\n",
    "temp=num\n",
    "sum=0\n",
    "while num:\n",
    "    ld=num%10\n",
    "    prod=1\n",
    "    i=1\n",
    "    while i<=ld:\n",
    "        prod=prod*i\n",
    "        i=i+1\n",
    "    num=num//10\n",
    "    sum=sum+prod\n",
    "print(sum)\n",
    "if temp==sum:\n",
    "    print('Strong Number')\n",
    "else:\n",
    "    print('Not a strong Number')\n",
    "\n",
    "    #OR\n",
    "num=145\n",
    "temp=num\n",
    "sum=0\n",
    "while num:\n",
    "    ld=num%10\n",
    "    res=1\n",
    "    while ld:\n",
    "        res=res*ld\n",
    "        ld=ld-1\n",
    "    sum=sum+res\n",
    "    num = num//10   \n",
    "if temp==sum:\n",
    "    print('strong')\n",
    "else:\n",
    "    print('Not a strong')"
   ]
  },
  {
   "cell_type": "markdown",
   "metadata": {},
   "source": [
    "35.WAP a given number is Armstrog or not."
   ]
  },
  {
   "cell_type": "code",
   "execution_count": 6,
   "metadata": {},
   "outputs": [
    {
     "name": "stdout",
     "output_type": "stream",
     "text": [
      "3\n",
      "153\n",
      "Armstrong Number\n"
     ]
    }
   ],
   "source": [
    "num=153\n",
    "temp=num\n",
    "sum=0\n",
    "count=0\n",
    "while temp:\n",
    "    ld=temp%10\n",
    "    count=count+1\n",
    "    temp=temp//10\n",
    "print(count)\n",
    "res=num\n",
    "while res:\n",
    "    ld=res%10\n",
    "    sum=sum+(ld**count)\n",
    "    res=res//10\n",
    "print(sum)\n",
    "if num==sum:\n",
    "    print('Armstrong Number')\n",
    "else:\n",
    "    print('Not A Armstrong Number')"
   ]
  },
  {
   "cell_type": "markdown",
   "metadata": {},
   "source": [
    "36.WAP to check the given number is Spy number or not."
   ]
  },
  {
   "cell_type": "code",
   "execution_count": 1,
   "metadata": {},
   "outputs": [
    {
     "name": "stdout",
     "output_type": "stream",
     "text": [
      "8\n",
      "8\n",
      "Spy Number\n",
      "Spy Number\n"
     ]
    }
   ],
   "source": [
    "num=1124\n",
    "temp=num\n",
    "sum=0\n",
    "while temp:\n",
    "    ld=temp%10\n",
    "    sum=sum+ld\n",
    "    temp=temp//10\n",
    "print(sum)\n",
    "res=num\n",
    "prod=1\n",
    "while res:\n",
    "    ld=res%10\n",
    "    prod=prod*ld\n",
    "    res=res//10\n",
    "print(prod)\n",
    "if sum==prod:\n",
    "    print('Spy Number')\n",
    "else:\n",
    "    print('Not Spy Number')\n",
    "#OR\n",
    "num=1124\n",
    "sum=0\n",
    "prod=1\n",
    "while num:\n",
    "    ld=num%10\n",
    "    sum=sum+ld\n",
    "    prod=prod*ld\n",
    "    num=num//10\n",
    "if sum==prod:\n",
    "    print('Spy Number')\n",
    "else:\n",
    "    print('Not a Spy Number')"
   ]
  },
  {
   "cell_type": "markdown",
   "metadata": {},
   "source": [
    "37.WAP to print the series of factorial from 1 to 10."
   ]
  },
  {
   "cell_type": "code",
   "execution_count": 20,
   "metadata": {},
   "outputs": [
    {
     "name": "stdout",
     "output_type": "stream",
     "text": [
      "1 => 1\n",
      "2 => 2\n",
      "3 => 6\n",
      "4 => 24\n",
      "5 => 120\n",
      "6 => 720\n",
      "7 => 5040\n",
      "8 => 40320\n",
      "9 => 362880\n",
      "10 => 3628800\n"
     ]
    }
   ],
   "source": [
    "num=1\n",
    "while num<=10:\n",
    "    temp=num\n",
    "    i=1\n",
    "    prod=1\n",
    "    while i<=temp:\n",
    "        prod=prod*i\n",
    "        i=i+1\n",
    "    print(num,'=>',prod)\n",
    "    num=num+1\n",
    "\n"
   ]
  },
  {
   "cell_type": "markdown",
   "metadata": {},
   "source": [
    "38.WAP to print the series of strong number from 1 to 50."
   ]
  },
  {
   "cell_type": "code",
   "execution_count": 37,
   "metadata": {},
   "outputs": [
    {
     "name": "stdout",
     "output_type": "stream",
     "text": [
      "2\n",
      "3\n",
      "5\n",
      "7\n",
      "11\n",
      "13\n",
      "17\n",
      "19\n",
      "23\n",
      "29\n",
      "31\n",
      "37\n",
      "41\n",
      "43\n",
      "47\n"
     ]
    }
   ],
   "source": [
    "num=1\n",
    "while num<=50:\n",
    "    temp=num\n",
    "    count=0\n",
    "    i=1\n",
    "    while i<=temp:\n",
    "        if temp%i==0:\n",
    "            count=count+1\n",
    "        i=i+1\n",
    "    if count==2:\n",
    "        print(num)\n",
    "    num=num+1"
   ]
  },
  {
   "cell_type": "markdown",
   "metadata": {},
   "source": [
    "39.WAP to print the series of strong number from 1 to 2000."
   ]
  },
  {
   "cell_type": "code",
   "execution_count": 8,
   "metadata": {},
   "outputs": [
    {
     "name": "stdout",
     "output_type": "stream",
     "text": [
      "1\n",
      "2\n",
      "145\n"
     ]
    }
   ],
   "source": [
    "num=1\n",
    "while num<=2000:\n",
    "    temp=num\n",
    "    sum=0\n",
    "    while temp:\n",
    "        ld=temp%10\n",
    "        i=1\n",
    "        prod=1\n",
    "        while i<=ld:\n",
    "            prod=prod*i\n",
    "            i=i+1\n",
    "        sum=sum+prod\n",
    "        temp=temp//10\n",
    "    if sum==num:\n",
    "        print(num)\n",
    "    num=num+1\n"
   ]
  },
  {
   "cell_type": "markdown",
   "metadata": {},
   "source": [
    "40.WAP to print the series of armstrong number from 1 to 2000."
   ]
  },
  {
   "cell_type": "code",
   "execution_count": 14,
   "metadata": {},
   "outputs": [
    {
     "name": "stdout",
     "output_type": "stream",
     "text": [
      "1\n",
      "2\n",
      "3\n",
      "4\n",
      "5\n",
      "6\n",
      "7\n",
      "8\n",
      "9\n",
      "153\n",
      "370\n",
      "371\n",
      "407\n",
      "1634\n"
     ]
    }
   ],
   "source": [
    "num=1\n",
    "while num<=2000:\n",
    "    temp=num\n",
    "    count=0\n",
    "    while temp:\n",
    "        ld=temp%10\n",
    "        count=count+1\n",
    "        temp=temp//10\n",
    "    temp1=num\n",
    "    sum=0\n",
    "    while temp1:\n",
    "        ld=temp1%10\n",
    "        sum=sum+(ld**count)\n",
    "        temp1=temp1//10\n",
    "    if num==sum:\n",
    "        print(num)\n",
    "    num=num+1"
   ]
  },
  {
   "cell_type": "markdown",
   "metadata": {},
   "source": [
    "41.WAP to print the series of spy number from 1 to 2000."
   ]
  },
  {
   "cell_type": "code",
   "execution_count": 21,
   "metadata": {},
   "outputs": [
    {
     "name": "stdout",
     "output_type": "stream",
     "text": [
      "1\n",
      "2\n",
      "3\n",
      "4\n",
      "5\n",
      "6\n",
      "7\n",
      "8\n",
      "9\n",
      "22\n",
      "123\n",
      "132\n",
      "213\n",
      "231\n",
      "312\n",
      "321\n",
      "1124\n",
      "1142\n",
      "1214\n",
      "1241\n",
      "1412\n",
      "1421\n"
     ]
    }
   ],
   "source": [
    "num=1\n",
    "while num<=2000:\n",
    "    temp=num\n",
    "    sum=0\n",
    "    prod=1\n",
    "    while temp:\n",
    "        ld=temp%10\n",
    "        sum=sum+ld\n",
    "        prod=prod*ld\n",
    "        temp=temp//10\n",
    "    if sum==prod:\n",
    "        print(num)\n",
    "    num=num+1"
   ]
  },
  {
   "cell_type": "markdown",
   "metadata": {},
   "source": [
    "42.WAP to print the series of palindrome from 1 to 100."
   ]
  },
  {
   "cell_type": "code",
   "execution_count": 48,
   "metadata": {},
   "outputs": [
    {
     "name": "stdout",
     "output_type": "stream",
     "text": [
      "1\n",
      "2\n",
      "3\n",
      "4\n",
      "5\n",
      "6\n",
      "7\n",
      "8\n",
      "9\n",
      "11\n",
      "22\n",
      "33\n",
      "44\n",
      "55\n",
      "66\n",
      "77\n",
      "88\n",
      "99\n",
      "101\n",
      "111\n",
      "121\n",
      "131\n",
      "141\n",
      "151\n",
      "161\n",
      "171\n",
      "181\n",
      "191\n",
      "202\n",
      "212\n",
      "222\n",
      "232\n",
      "242\n",
      "252\n",
      "262\n",
      "272\n",
      "282\n",
      "292\n",
      "303\n",
      "313\n",
      "323\n",
      "333\n",
      "343\n",
      "353\n",
      "363\n",
      "373\n",
      "383\n",
      "393\n",
      "404\n",
      "414\n",
      "424\n",
      "434\n",
      "444\n",
      "454\n",
      "464\n",
      "474\n",
      "484\n",
      "494\n",
      "505\n",
      "515\n",
      "525\n",
      "535\n",
      "545\n",
      "555\n",
      "565\n",
      "575\n",
      "585\n",
      "595\n",
      "606\n",
      "616\n",
      "626\n",
      "636\n",
      "646\n",
      "656\n",
      "666\n",
      "676\n",
      "686\n",
      "696\n",
      "707\n",
      "717\n",
      "727\n",
      "737\n",
      "747\n",
      "757\n",
      "767\n",
      "777\n",
      "787\n",
      "797\n",
      "808\n",
      "818\n",
      "828\n",
      "838\n",
      "848\n",
      "858\n",
      "868\n",
      "878\n",
      "888\n",
      "898\n",
      "909\n",
      "919\n",
      "929\n",
      "939\n",
      "949\n",
      "959\n",
      "969\n",
      "979\n",
      "989\n",
      "999\n",
      "1001\n",
      "1111\n",
      "1221\n",
      "1331\n",
      "1441\n",
      "1551\n",
      "1661\n",
      "1771\n",
      "1881\n",
      "1991\n",
      "2002\n",
      "2112\n",
      "2222\n",
      "2332\n",
      "2442\n",
      "2552\n",
      "2662\n",
      "2772\n",
      "2882\n",
      "2992\n",
      "3003\n",
      "3113\n",
      "3223\n",
      "3333\n",
      "3443\n",
      "3553\n",
      "3663\n",
      "3773\n",
      "3883\n",
      "3993\n",
      "4004\n",
      "4114\n",
      "4224\n",
      "4334\n",
      "4444\n",
      "4554\n",
      "4664\n",
      "4774\n",
      "4884\n",
      "4994\n",
      "5005\n",
      "5115\n",
      "5225\n",
      "5335\n",
      "5445\n",
      "5555\n",
      "5665\n",
      "5775\n",
      "5885\n",
      "5995\n",
      "6006\n",
      "6116\n",
      "6226\n",
      "6336\n",
      "6446\n",
      "6556\n",
      "6666\n",
      "6776\n",
      "6886\n",
      "6996\n",
      "7007\n",
      "7117\n",
      "7227\n",
      "7337\n",
      "7447\n",
      "7557\n",
      "7667\n",
      "7777\n",
      "7887\n",
      "7997\n",
      "8008\n",
      "8118\n",
      "8228\n",
      "8338\n",
      "8448\n",
      "8558\n",
      "8668\n",
      "8778\n",
      "8888\n",
      "8998\n",
      "9009\n",
      "9119\n",
      "9229\n",
      "9339\n",
      "9449\n",
      "9559\n",
      "9669\n",
      "9779\n",
      "9889\n",
      "9999\n"
     ]
    }
   ],
   "source": [
    "num=1\n",
    "while num<=10000:\n",
    "    temp=num\n",
    "    rev=0\n",
    "    while temp:\n",
    "        ld=temp%10\n",
    "        rev=(rev*10)+ld\n",
    "        temp=temp//10\n",
    "    if num==rev:\n",
    "        print(rev)\n",
    "    num=num+1"
   ]
  }
 ],
 "metadata": {
  "kernelspec": {
   "display_name": "Python 3",
   "language": "python",
   "name": "python3"
  },
  "language_info": {
   "codemirror_mode": {
    "name": "ipython",
    "version": 3
   },
   "file_extension": ".py",
   "mimetype": "text/x-python",
   "name": "python",
   "nbconvert_exporter": "python",
   "pygments_lexer": "ipython3",
   "version": "3.11.4"
  },
  "orig_nbformat": 4
 },
 "nbformat": 4,
 "nbformat_minor": 2
}
