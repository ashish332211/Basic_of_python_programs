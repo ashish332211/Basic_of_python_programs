{
 "cells": [
  {
   "cell_type": "code",
   "execution_count": 3,
   "metadata": {},
   "outputs": [
    {
     "name": "stdout",
     "output_type": "stream",
     "text": [
      "{'x': 300}\n",
      "{'x': 400}\n",
      "{'x': 500}\n"
     ]
    }
   ],
   "source": [
    "class parent:\n",
    "    a = 10\n",
    "    def __init__(self,x):\n",
    "        self.x = x\n",
    "obj1=parent(300)\n",
    "\n",
    "# print(parent.__dict__)\n",
    "print(obj1.__dict__)\n",
    "\n",
    "class child(parent):\n",
    "    b = 20\n",
    "obj2 = child(400)\n",
    "\n",
    "# print(child.__dict__)\n",
    "print(obj2.__dict__)\n",
    "\n",
    "class grandchild(child):\n",
    "    c = 30\n",
    "obj3 = grandchild(500)\n",
    "\n",
    "# print(grandchild.__dict__)\n",
    "print(obj3.__dict__)"
   ]
  },
  {
   "cell_type": "code",
   "execution_count": 2,
   "metadata": {},
   "outputs": [
    {
     "name": "stdout",
     "output_type": "stream",
     "text": [
      "10\n",
      "10 20\n",
      "10 20 30\n"
     ]
    }
   ],
   "source": [
    "print(parent.a)\n",
    "print(child.a, child.b)\n",
    "print(grandchild.a, grandchild.b, grandchild.c)"
   ]
  },
  {
   "cell_type": "code",
   "execution_count": 3,
   "metadata": {},
   "outputs": [
    {
     "name": "stdout",
     "output_type": "stream",
     "text": [
      "150\n",
      "150 20\n",
      "150 20 30\n"
     ]
    }
   ],
   "source": [
    "parent.a = 150\n",
    "print(parent.a)\n",
    "print(child.a, child.b)\n",
    "print(grandchild.a, grandchild.b, grandchild.c)"
   ]
  },
  {
   "cell_type": "code",
   "execution_count": 4,
   "metadata": {},
   "outputs": [
    {
     "name": "stdout",
     "output_type": "stream",
     "text": [
      "150\n",
      "150 800\n",
      "150 800 30\n"
     ]
    }
   ],
   "source": [
    "child.a = 150\n",
    "child.b = 800\n",
    "print(parent.a)\n",
    "print(child.a, child.b)\n",
    "print(grandchild.a, grandchild.b, grandchild.c)"
   ]
  },
  {
   "cell_type": "code",
   "execution_count": 5,
   "metadata": {},
   "outputs": [
    {
     "name": "stdout",
     "output_type": "stream",
     "text": [
      "150\n",
      "150 800\n",
      "900 800 30\n"
     ]
    }
   ],
   "source": [
    "grandchild.a = 900\n",
    "print(parent.a)\n",
    "print(child.a, child.b)\n",
    "print(grandchild.a, grandchild.b, grandchild.c)"
   ]
  }
 ],
 "metadata": {
  "kernelspec": {
   "display_name": "Python 3",
   "language": "python",
   "name": "python3"
  },
  "language_info": {
   "codemirror_mode": {
    "name": "ipython",
    "version": 3
   },
   "file_extension": ".py",
   "mimetype": "text/x-python",
   "name": "python",
   "nbconvert_exporter": "python",
   "pygments_lexer": "ipython3",
   "version": "3.12.0"
  }
 },
 "nbformat": 4,
 "nbformat_minor": 2
}
