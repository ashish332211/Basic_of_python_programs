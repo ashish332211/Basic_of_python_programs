{
 "cells": [
  {
   "cell_type": "code",
   "execution_count": 1,
   "metadata": {},
   "outputs": [
    {
     "name": "stdout",
     "output_type": "stream",
     "text": [
      "(10, 20, 30, 40)\n"
     ]
    }
   ],
   "source": [
    "#Example for Packing\n",
    "def sample(*args):\n",
    "    print(args)             #User defined tuple packing\n",
    "sample(10,20,30,40)"
   ]
  },
  {
   "cell_type": "code",
   "execution_count": 5,
   "metadata": {},
   "outputs": [
    {
     "name": "stdout",
     "output_type": "stream",
     "text": [
      "{'a': 10, 'b': 20, 'c': 30}\n"
     ]
    }
   ],
   "source": [
    "def demo(**kwargs):\n",
    "    print(kwargs)           #User defined dict packing\n",
    "demo(a=10,b=20,c=30)"
   ]
  },
  {
   "cell_type": "code",
   "execution_count": 15,
   "metadata": {},
   "outputs": [
    {
     "name": "stdout",
     "output_type": "stream",
     "text": [
      "(10, 20, 30, 40)\n",
      "()\n",
      "(10, 20, 30)\n"
     ]
    }
   ],
   "source": [
    "def sample(*args,**kwargs):\n",
    "    print(args)\n",
    "    # print(kwargs)\n",
    "sample(10,20,30,40)                 #Tuple/Dict Packing\n",
    "sample(a=10,b=20,c=30,d=40)\n",
    "sample(10,20,30,x=100,y=200,z=300)\n"
   ]
  },
  {
   "cell_type": "code",
   "execution_count": 18,
   "metadata": {},
   "outputs": [
    {
     "name": "stdout",
     "output_type": "stream",
     "text": [
      "(10, 20, 30, 40)\n",
      "--------------------\n"
     ]
    }
   ],
   "source": [
    "def sample(*args,**kwargs):\n",
    "    print(args)\n",
    "    # print(kwargs)\n",
    "sample(10,20,30,40)\n",
    "print(\"--\"*10)\n",
    "####################"
   ]
  },
  {
   "cell_type": "code",
   "execution_count": 19,
   "metadata": {},
   "outputs": [
    {
     "name": "stdout",
     "output_type": "stream",
     "text": [
      "10 20 30 40\n"
     ]
    }
   ],
   "source": [
    "#EXAMPLE FOR UNPACKING\n",
    "t=(10,20,30,40)\n",
    "def sample(a,b,c,d):            #Tuple Unpacking\n",
    "    print(a,b,c,d)\n",
    "sample(*t)"
   ]
  },
  {
   "cell_type": "code",
   "execution_count": 20,
   "metadata": {},
   "outputs": [
    {
     "name": "stdout",
     "output_type": "stream",
     "text": [
      "10 20 30 40\n"
     ]
    }
   ],
   "source": [
    "d={'a':10,'b':20,'c':30,'d':40}\n",
    "def sample(a,b,c,d):            #Dict Unpacking\n",
    "    print(a,b,c,d)\n",
    "sample(**d)"
   ]
  },
  {
   "cell_type": "code",
   "execution_count": 22,
   "metadata": {},
   "outputs": [
    {
     "name": "stdout",
     "output_type": "stream",
     "text": [
      "10 20 30 40 None\n"
     ]
    }
   ],
   "source": [
    "# t=(10,20,30,40)\n",
    "# def sample(a,b,c,d,e):         \n",
    "#     print(a,b,c,d,e)\n",
    "# sample(*t)            #We will get TypeError as \"sample() missing 1 required positional argument: 'e'\"\n",
    "# sample(*t)         \n",
    "\n",
    "#SOLUTION\n",
    "t=(10,20,30,40)\n",
    "def sample(a,b,c,d,e=None):\n",
    "    print(a,b,c,d,e)\n",
    "sample(*t)"
   ]
  },
  {
   "cell_type": "code",
   "execution_count": 27,
   "metadata": {},
   "outputs": [
    {
     "name": "stdout",
     "output_type": "stream",
     "text": [
      "10 20 30 40 (50, 60, 70)\n"
     ]
    }
   ],
   "source": [
    "# t=(10,20,30,40,50)\n",
    "# def sample(a,b,c,d):\n",
    "#     print(a,b,c,d)\n",
    "# sample(*t)              #We will get TypeError as \"sample() takes 4 positional arguments but 5 were given\"\n",
    "\n",
    "#SOLUTION\n",
    "t=(10,20,30,40,50,60,70)\n",
    "def sample(a,b,c,d,*args):\n",
    "    print(a,b,c,d,args)\n",
    "sample(*t)"
   ]
  },
  {
   "cell_type": "code",
   "execution_count": 29,
   "metadata": {},
   "outputs": [
    {
     "name": "stdout",
     "output_type": "stream",
     "text": [
      "10 20 30 {'d': 40}\n"
     ]
    }
   ],
   "source": [
    "# d={'a':10,'b':20,'c':30,'d':40}\n",
    "# def sample(a,b,c):            \n",
    "#     print(a,b,c)\n",
    "# sample(**d)         #Here We will get TypeError as \"sample() got an unexpected keyword argument 'd'\"\n",
    "\n",
    "d={'a':10,'b':20,'c':30,'d':40}\n",
    "def sample(a,b,c,**kwargs):            \n",
    "    print(a,b,c,kwargs)\n",
    "sample(**d)"
   ]
  },
  {
   "cell_type": "code",
   "execution_count": 30,
   "metadata": {},
   "outputs": [
    {
     "name": "stdout",
     "output_type": "stream",
     "text": [
      "10 20 30 40 None\n"
     ]
    }
   ],
   "source": [
    "d={'a':10,'b':20,'c':30,'d':40}\n",
    "def sample(a,b,c,d,e=None):            \n",
    "    print(a,b,c,d,e)\n",
    "sample(**d)"
   ]
  }
 ],
 "metadata": {
  "kernelspec": {
   "display_name": "Python 3",
   "language": "python",
   "name": "python3"
  },
  "language_info": {
   "codemirror_mode": {
    "name": "ipython",
    "version": 3
   },
   "file_extension": ".py",
   "mimetype": "text/x-python",
   "name": "python",
   "nbconvert_exporter": "python",
   "pygments_lexer": "ipython3",
   "version": "3.11.4"
  }
 },
 "nbformat": 4,
 "nbformat_minor": 2
}
