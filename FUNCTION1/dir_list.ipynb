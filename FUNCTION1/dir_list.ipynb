{
 "cells": [
  {
   "cell_type": "code",
   "execution_count": 2,
   "metadata": {},
   "outputs": [
    {
     "name": "stdout",
     "output_type": "stream",
     "text": [
      "2956420209408 [10, 20, 30]\n",
      "2956420209408 [10, 20, 30, (40, 50)]\n"
     ]
    }
   ],
   "source": [
    "#append()\n",
    "# l=[10,20,30]\n",
    "# print(id(l),l)\n",
    "# l.append({'a':10})\n",
    "# print(id(l),l)\n",
    "\n",
    "l=[10,20,30]\n",
    "print(id(l),l)\n",
    "def u_append(coll,ele):\n",
    "    if type(coll)!=list:\n",
    "        return -1\n",
    "    coll+=[ele]\n",
    "    return coll\n",
    "u_append(l,(40,50))\n",
    "print(id(l),l)"
   ]
  },
  {
   "cell_type": "code",
   "execution_count": 7,
   "metadata": {},
   "outputs": [
    {
     "name": "stdout",
     "output_type": "stream",
     "text": [
      "2057169879936 [10, 20, 30]\n",
      "[10, 20, 30, 'p', 'y', 't', 'h', 'o', 'n']\n"
     ]
    }
   ],
   "source": [
    "#extend()\n",
    "# l=[10,20,30]\n",
    "# # print(id(l),l)\n",
    "# l.extend('12345')\n",
    "# print(id(l),l)\n",
    "\n",
    "l=[10,20,30]\n",
    "print(id(l),l)\n",
    "def u_extend(coll,ele):\n",
    "    if type(coll)!=list:\n",
    "        return \"Main Object shoule be list\"\n",
    "    if type(ele) not in [str,list,tuple,set,dict]:\n",
    "        return \"ele should be in coll object\"\n",
    "    for i in ele:\n",
    "        coll+=[i]\n",
    "    return coll\n",
    "print(u_extend(l,('python')))\n",
    "# print(id(l),l)"
   ]
  },
  {
   "cell_type": "code",
   "execution_count": 12,
   "metadata": {},
   "outputs": [
    {
     "name": "stdout",
     "output_type": "stream",
     "text": [
      "2956420327936 ['a', 'b', 'c', 'd']\n",
      "2956420327936 ['a', 'b', 'hello', 'c', 'd']\n"
     ]
    }
   ],
   "source": [
    "#insert()\n",
    "# l=['a','b','c','d']\n",
    "# print(id(l),l)\n",
    "# l.insert(-1,(10,20))\n",
    "# print(id(l),l)\n",
    "\n",
    "l=['a','b','c','d']\n",
    "print(id(l),l)\n",
    "def u_insert(coll,index,ele):\n",
    "    if type(coll)!=list and type(index)!=int:\n",
    "        return -1\n",
    "    coll[index:index]=[ele]\n",
    "u_insert(l,2,'hello')\n",
    "print(id(l),l)"
   ]
  },
  {
   "cell_type": "code",
   "execution_count": 8,
   "metadata": {},
   "outputs": [
    {
     "data": {
      "text/plain": [
       "3"
      ]
     },
     "execution_count": 8,
     "metadata": {},
     "output_type": "execute_result"
    }
   ],
   "source": [
    "#count()\n",
    "l=['a','b','c','a','c','a']\n",
    "# l.count('a')\n",
    "def u_count(coll,ele):\n",
    "    if type(coll)!=list:\n",
    "        return -1\n",
    "    count=0\n",
    "    for i in coll:\n",
    "        if i==ele:\n",
    "            count+=1\n",
    "    return count\n",
    "u_count(l,'a')"
   ]
  },
  {
   "cell_type": "code",
   "execution_count": 9,
   "metadata": {},
   "outputs": [
    {
     "data": {
      "text/plain": [
       "3"
      ]
     },
     "execution_count": 9,
     "metadata": {},
     "output_type": "execute_result"
    }
   ],
   "source": [
    "#index()\n",
    "l=['a','b','c','hello','c']\n",
    "# l.index('hello')\n",
    "def u_index(coll,ele):\n",
    "    if type(coll)!=list:\n",
    "        return -1\n",
    "    for i in range(0,len(coll)):\n",
    "        if coll[i]==ele:\n",
    "            return i\n",
    "    return -1\n",
    "u_index(l,'hello')"
   ]
  },
  {
   "cell_type": "code",
   "execution_count": 9,
   "metadata": {},
   "outputs": [
    {
     "data": {
      "text/plain": [
       "3"
      ]
     },
     "execution_count": 9,
     "metadata": {},
     "output_type": "execute_result"
    }
   ],
   "source": [
    "#index()\n",
    "l=['a','b','c','hello','c','hello','d']\n",
    "def u_index(coll,ele,start=0,end=None):\n",
    "    if type(coll)!=list:\n",
    "        return -1\n",
    "    if start<0:\n",
    "        start=start+len(coll)\n",
    "    if end<0:\n",
    "        end=end+len(coll)\n",
    "    if end==None:\n",
    "        end=len(coll)\n",
    "    for i in range(start,end):\n",
    "        if coll[i]==ele:\n",
    "            return i\n",
    "    return ValueError\n",
    "u_index(l,'hello',3,4)\n",
    "    "
   ]
  },
  {
   "cell_type": "code",
   "execution_count": 11,
   "metadata": {},
   "outputs": [
    {
     "name": "stdout",
     "output_type": "stream",
     "text": [
      "2057168786304 [20, 10, 'd', 'c', 'hello', 'c', 'b', 'a']\n"
     ]
    }
   ],
   "source": [
    "#reverse()\n",
    "# l=['a','b','c','hello','c','d',10,20]\n",
    "# print(id(l),l)\n",
    "# l.reverse()\n",
    "# print(id(l),l)\n",
    "\n",
    "l=['a','b','c','hello','c','d',10,20]\n",
    "# print(id(l),l)\n",
    "def u_reverse(coll):\n",
    "    j=-1\n",
    "    for i in range(0,len(coll)//2):\n",
    "        coll[i],coll[j]=coll[j],coll[i]\n",
    "        j-=1\n",
    "u_reverse(l)\n",
    "print(id(l),l)"
   ]
  },
  {
   "cell_type": "code",
   "execution_count": 45,
   "metadata": {},
   "outputs": [
    {
     "name": "stdout",
     "output_type": "stream",
     "text": [
      "1863339839616 ['a', 'b', 'c', 'hello', 'c', 'd', 10, 20]\n",
      "1863368105408 ['a', 'b', 'c', 'hello', 'c', 'd', 10, 20]\n"
     ]
    }
   ],
   "source": [
    "# l=['a','b','c','hello','c','d',10,20]\n",
    "# x=l.copy()\n",
    "# print(x)\n",
    "\n",
    "l=['a','b','c','hello','c','d',10,20]\n",
    "print(id(l),l)\n",
    "def u_copy(coll):\n",
    "    if type(coll)!=list:\n",
    "        return -1\n",
    "    res=[]\n",
    "    for i in coll:\n",
    "        res+=[i]\n",
    "    return res\n",
    "x=u_copy(l)\n",
    "print(id(x),x)"
   ]
  },
  {
   "cell_type": "code",
   "execution_count": 14,
   "metadata": {},
   "outputs": [
    {
     "name": "stdout",
     "output_type": "stream",
     "text": [
      "2057168786304 [10, 20, 30, 'abc', (10, 20)]\n",
      "2057168786304 [10, 20, 30, (10, 20)]\n"
     ]
    }
   ],
   "source": [
    "#pop()\n",
    "# l=[10,20,30,'abc',(10,20)]\n",
    "# print(id(l),l)\n",
    "# l.pop(3)            #Defaultly it will delete the last element of the collection\n",
    "# print(id(l),l)\n",
    "\n",
    "l=[10,20,30,'abc',(10,20)]\n",
    "print(id(l),l)\n",
    "def u_pop(coll,index=-1):\n",
    "    if type(coll)!=list:\n",
    "        return -1\n",
    "    del coll[index]\n",
    "u_pop(l,3)\n",
    "print(id(l),l)"
   ]
  },
  {
   "cell_type": "code",
   "execution_count": null,
   "metadata": {},
   "outputs": [],
   "source": [
    "#In pop Defaultly it will delete the last element of the collection.But we can also pass also the index position what we want to eliminate\n",
    "#But in remove we have to pass the element what we want to eliminate "
   ]
  },
  {
   "cell_type": "code",
   "execution_count": 3,
   "metadata": {},
   "outputs": [
    {
     "name": "stdout",
     "output_type": "stream",
     "text": [
      "2547490695296 [10, 20, 30, 'abc', (10, 20)]\n",
      "2547490695296 [10, 30, 'abc', (10, 20)]\n"
     ]
    }
   ],
   "source": [
    "#remove()\n",
    "l=[10,20,30,'abc',(10,20)]\n",
    "print(id(l),l)\n",
    "l.remove(20)\n",
    "print(id(l),l)\n",
    "\n",
    "# l=[10,20,30,'abc',(10,20)]\n",
    "# def u_remove(coll,ele):\n",
    "#     if type(coll)!=list or ele not in coll:\n",
    "#         return -1\n",
    "#     for i in range(0,len(coll)):\n",
    "#         if ele==coll[i]:\n",
    "#             del coll[i]\n",
    "#             break\n",
    "# u_remove(l,30)\n",
    "# print(id(l),l)"
   ]
  },
  {
   "cell_type": "code",
   "execution_count": 10,
   "metadata": {},
   "outputs": [
    {
     "name": "stdout",
     "output_type": "stream",
     "text": [
      "[20, 40]\n"
     ]
    }
   ],
   "source": [
    "l=[10,20,30,40,50]\n",
    "for i in l:\n",
    "    l.remove(i)\n",
    "print(l)"
   ]
  },
  {
   "cell_type": "code",
   "execution_count": 4,
   "metadata": {},
   "outputs": [
    {
     "ename": "IndexError",
     "evalue": "list assignment index out of range",
     "output_type": "error",
     "traceback": [
      "\u001b[1;31m---------------------------------------------------------------------------\u001b[0m",
      "\u001b[1;31mIndexError\u001b[0m                                Traceback (most recent call last)",
      "\u001b[1;32mc:\\Users\\HP\\Documents\\GitHub\\Basic_of_python_programs\\FUNCTION1\\dir_list.ipynb Cell 12\u001b[0m line \u001b[0;36m2\n\u001b[0;32m     <a href='vscode-notebook-cell:/c%3A/Users/HP/Documents/GitHub/Basic_of_python_programs/FUNCTION1/dir_list.ipynb#X14sZmlsZQ%3D%3D?line=19'>20</a>\u001b[0m     \u001b[39mfor\u001b[39;00m i \u001b[39min\u001b[39;00m \u001b[39mrange\u001b[39m(\u001b[39m0\u001b[39m,\u001b[39mlen\u001b[39m(coll)):\n\u001b[0;32m     <a href='vscode-notebook-cell:/c%3A/Users/HP/Documents/GitHub/Basic_of_python_programs/FUNCTION1/dir_list.ipynb#X14sZmlsZQ%3D%3D?line=20'>21</a>\u001b[0m         \u001b[39mdel\u001b[39;00m coll[i]\n\u001b[1;32m---> <a href='vscode-notebook-cell:/c%3A/Users/HP/Documents/GitHub/Basic_of_python_programs/FUNCTION1/dir_list.ipynb#X14sZmlsZQ%3D%3D?line=21'>22</a>\u001b[0m u_clear(l)\n\u001b[0;32m     <a href='vscode-notebook-cell:/c%3A/Users/HP/Documents/GitHub/Basic_of_python_programs/FUNCTION1/dir_list.ipynb#X14sZmlsZQ%3D%3D?line=22'>23</a>\u001b[0m \u001b[39mprint\u001b[39m(l)\n",
      "\u001b[1;32mc:\\Users\\HP\\Documents\\GitHub\\Basic_of_python_programs\\FUNCTION1\\dir_list.ipynb Cell 12\u001b[0m line \u001b[0;36m2\n\u001b[0;32m     <a href='vscode-notebook-cell:/c%3A/Users/HP/Documents/GitHub/Basic_of_python_programs/FUNCTION1/dir_list.ipynb#X14sZmlsZQ%3D%3D?line=18'>19</a>\u001b[0m     \u001b[39mreturn\u001b[39;00m \u001b[39m-\u001b[39m\u001b[39m1\u001b[39m\n\u001b[0;32m     <a href='vscode-notebook-cell:/c%3A/Users/HP/Documents/GitHub/Basic_of_python_programs/FUNCTION1/dir_list.ipynb#X14sZmlsZQ%3D%3D?line=19'>20</a>\u001b[0m \u001b[39mfor\u001b[39;00m i \u001b[39min\u001b[39;00m \u001b[39mrange\u001b[39m(\u001b[39m0\u001b[39m,\u001b[39mlen\u001b[39m(coll)):\n\u001b[1;32m---> <a href='vscode-notebook-cell:/c%3A/Users/HP/Documents/GitHub/Basic_of_python_programs/FUNCTION1/dir_list.ipynb#X14sZmlsZQ%3D%3D?line=20'>21</a>\u001b[0m     \u001b[39mdel\u001b[39;00m coll[i]\n",
      "\u001b[1;31mIndexError\u001b[0m: list assignment index out of range"
     ]
    }
   ],
   "source": [
    "#clear()\n",
    "# l=[10,20,30,'abc',(10,20)]\n",
    "# l.clear()\n",
    "# print(l)\n",
    "\n",
    "#BY SLICING\n",
    "# l=[10,20,30,'abc',(10,20)]\n",
    "# def u_clear(coll):\n",
    "#     if type(coll)!=list:\n",
    "#         return -1\n",
    "#     coll[::]=[]\n",
    "# u_clear(l)\n",
    "# print(l)\n",
    "\n",
    "#BY FOR LOOP\n",
    "l=[10,20,30,'abc',(10,20)]\n",
    "def u_clear(coll):\n",
    "    if type(coll)!=list:\n",
    "        return -1\n",
    "    for i in range(0,len(coll)):\n",
    "        del coll[i]\n",
    "u_clear(l)\n",
    "print(l)"
   ]
  },
  {
   "cell_type": "code",
   "execution_count": 4,
   "metadata": {},
   "outputs": [
    {
     "name": "stdout",
     "output_type": "stream",
     "text": [
      "[10, 20, 30, 40, 50, 60]\n"
     ]
    }
   ],
   "source": [
    "#sort()\n",
    "# l=[30,20,10,50,60,40]\n",
    "# l.sort()\n",
    "# print(l)\n",
    "\n",
    "l=[30,20,10,50,60,40]\n",
    "def u_sort(coll):\n",
    "    for i in range(0,len(coll)):\n",
    "        for j in range(0,len(coll)-1):\n",
    "            if coll[j] > coll[j+1]:\n",
    "                coll[j], coll[j+1] = coll[j+1], coll[j]\n",
    "u_sort(l)\n",
    "print(l)"
   ]
  },
  {
   "cell_type": "code",
   "execution_count": 7,
   "metadata": {},
   "outputs": [
    {
     "name": "stdout",
     "output_type": "stream",
     "text": [
      "0\n",
      "1\n",
      "2\n",
      "3\n",
      "4\n",
      "5\n",
      "6\n"
     ]
    }
   ],
   "source": [
    "for i in range(0, 7):\n",
    "    print(i)"
   ]
  }
 ],
 "metadata": {
  "kernelspec": {
   "display_name": "Python 3",
   "language": "python",
   "name": "python3"
  },
  "language_info": {
   "codemirror_mode": {
    "name": "ipython",
    "version": 3
   },
   "file_extension": ".py",
   "mimetype": "text/x-python",
   "name": "python",
   "nbconvert_exporter": "python",
   "pygments_lexer": "ipython3",
   "version": "3.12.0"
  }
 },
 "nbformat": 4,
 "nbformat_minor": 2
}
