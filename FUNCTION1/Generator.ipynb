{
 "cells": [
  {
   "cell_type": "code",
   "execution_count": 24,
   "metadata": {},
   "outputs": [
    {
     "name": "stdout",
     "output_type": "stream",
     "text": [
      "10\n",
      "20\n",
      "30\n",
      "[10, 20, 30]\n"
     ]
    }
   ],
   "source": [
    "#BY USING STATIC ITERATOR\n",
    "def sample():\n",
    "    a=10\n",
    "    print(a)\n",
    "    yield a\n",
    "    b=20\n",
    "    print(b)\n",
    "    yield b\n",
    "    c=30\n",
    "    print(c)\n",
    "    yield c\n",
    "\n",
    "temp = sample()\n",
    "print(list(temp))\n",
    "# print(tuple(temp))"
   ]
  },
  {
   "cell_type": "code",
   "execution_count": 4,
   "metadata": {},
   "outputs": [
    {
     "name": "stdout",
     "output_type": "stream",
     "text": [
      "10\n",
      "10\n",
      "20\n",
      "20\n",
      "30\n",
      "30\n"
     ]
    }
   ],
   "source": [
    "#BY USING DYNAMIC ITERATOR\n",
    "def sample():\n",
    "    a=10\n",
    "    print(a)\n",
    "    yield a\n",
    "    b=20\n",
    "    print(b)\n",
    "    yield b\n",
    "    c=30\n",
    "    print(c)\n",
    "    yield c\n",
    "\n",
    "temp = sample()\n",
    "for i in temp:\n",
    "    print(i)"
   ]
  },
  {
   "cell_type": "code",
   "execution_count": 2,
   "metadata": {},
   "outputs": [
    {
     "name": "stdout",
     "output_type": "stream",
     "text": [
      "[10, 20, 50, 22, 72, 20, 44]\n",
      "[]\n"
     ]
    }
   ],
   "source": [
    "a=[10,20,50,63,77]\n",
    "b=[15.3,18.4,22,45.6,72]\n",
    "c=[20,44,23.5,34.6,76.89]\n",
    "\n",
    "def func(*args):\n",
    "    l=[]\n",
    "    for j in args:\n",
    "        for i in j:\n",
    "            if type(i) in [int,float] and i%2==0:\n",
    "                l+=[i]\n",
    "    print(l)\n",
    "    return l\n",
    "\n",
    "res=func(a,b,c)\n",
    "# print(res)\n",
    "res.clear()\n",
    "print(res)"
   ]
  },
  {
   "cell_type": "code",
   "execution_count": 12,
   "metadata": {},
   "outputs": [
    {
     "name": "stdout",
     "output_type": "stream",
     "text": [
      "[10, 20, 50, 22, 72, 20, 44]\n"
     ]
    }
   ],
   "source": [
    "#BY USING GENERATOR CONCEPT\n",
    "a=[10,20,50,63,77]\n",
    "b=[15.3,18.4,22,45.6,72]\n",
    "c=[20,44,23.5,34.6,76.89]\n",
    "def func(*args):\n",
    "    for j in args:\n",
    "        for i in j:\n",
    "            if type(i) in [int,float] and i%2==0:\n",
    "                yield i\n",
    "\n",
    "res=func(a,b,c)\n",
    "print(list(res))\n",
    "# print(next(res))\n",
    "# print(next(res))\n",
    "# print(next(res))\n"
   ]
  },
  {
   "cell_type": "code",
   "execution_count": 10,
   "metadata": {},
   "outputs": [
    {
     "name": "stdout",
     "output_type": "stream",
     "text": [
      "10\n",
      "9\n",
      "8\n",
      "7\n"
     ]
    }
   ],
   "source": [
    "def count(num):\n",
    "    while num>0:\n",
    "        yield num\n",
    "        num-=1\n",
    "g = count(10)\n",
    "print(next(g))\n",
    "print(next(g))\n",
    "print(next(g))\n",
    "print(next(g))"
   ]
  },
  {
   "cell_type": "code",
   "execution_count": 34,
   "metadata": {},
   "outputs": [
    {
     "name": "stdout",
     "output_type": "stream",
     "text": [
      "1\n",
      "2\n",
      "3\n",
      "4\n",
      "5\n",
      "6\n",
      "7\n",
      "8\n",
      "9\n",
      "10\n"
     ]
    }
   ],
   "source": [
    "def sample():\n",
    "    for i in range(1,11):\n",
    "        yield i\n",
    "g = sample()\n",
    "# print(list(g))\n",
    "print(next(g))\n",
    "print(next(g))\n",
    "print(next(g))\n",
    "\n",
    "for i in g:\n",
    "    print(i)\n",
    "\n"
   ]
  },
  {
   "cell_type": "code",
   "execution_count": 3,
   "metadata": {},
   "outputs": [
    {
     "name": "stdout",
     "output_type": "stream",
     "text": [
      "1\n",
      "4\n",
      "9\n",
      "16\n",
      "25\n",
      "36\n",
      "49\n"
     ]
    }
   ],
   "source": [
    "gen = (i**2 for i in range(1,8))\n",
    "print(next(gen))\n",
    "print(next(gen))\n",
    "print(next(gen))\n",
    "print(next(gen))\n",
    "\n",
    "for i in gen:\n",
    "    print(i)"
   ]
  },
  {
   "cell_type": "code",
   "execution_count": 11,
   "metadata": {},
   "outputs": [
    {
     "name": "stdout",
     "output_type": "stream",
     "text": [
      "[10, 12, 14, 16]\n"
     ]
    },
    {
     "data": {
      "text/plain": [
       "104"
      ]
     },
     "execution_count": 11,
     "metadata": {},
     "output_type": "execute_result"
    }
   ],
   "source": [
    "l=[10,12,13,14,15,16]\n",
    "def sample(*args):\n",
    "    for i in l:\n",
    "        if i%2==0:\n",
    "            yield i\n",
    "res=sample(l)\n",
    "print(list(res))\n",
    "\n",
    "import sys\n",
    "sys.getsizeof(l)"
   ]
  }
 ],
 "metadata": {
  "kernelspec": {
   "display_name": "Python 3",
   "language": "python",
   "name": "python3"
  },
  "language_info": {
   "codemirror_mode": {
    "name": "ipython",
    "version": 3
   },
   "file_extension": ".py",
   "mimetype": "text/x-python",
   "name": "python",
   "nbconvert_exporter": "python",
   "pygments_lexer": "ipython3",
   "version": "3.12.0"
  }
 },
 "nbformat": 4,
 "nbformat_minor": 2
}
