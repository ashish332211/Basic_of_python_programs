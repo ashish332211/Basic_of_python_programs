{
 "cells": [
  {
   "cell_type": "markdown",
   "metadata": {},
   "source": [
    "TECHNICAL - 1 (1 hour)\n",
    "-------------\n",
    "1. About Project\n",
    "2. What is list\n",
    "3. Extracting unique value from the list\n",
    "4. What is set\n",
    "5. How to concat to set (program)\n",
    "6. What is Dictionary\n",
    "7. How to add to key value pair in a dictionary (program)\n",
    "8. Difference between Set and Dictionary\n",
    "9. Explain is function\n",
    "10. function coding\n",
    "11. Reverse The String\n",
    "    a = 'Today Is Holiday'\n",
    "12. abc = ['gear_bat', 'gear', 'carrot', 'ryd_xyz', 'xyz_bat']\n",
    "    bcd = ['xyz', 'bat']\n",
    "    output: ['gear', 'carrot']\n",
    "    In the string abc, using bcd you have to extract the above output\n",
    "\n",
    "SQL\n",
    "----\n",
    "1. What is primary key\n",
    "2. What is Foreign key\n",
    "3. Create a table "
   ]
  },
  {
   "cell_type": "markdown",
   "metadata": {},
   "source": [
    "TECHNICAL - 2 (30 Min)\n",
    "-------------\n",
    "1. About Project\n",
    "2. What is Lambda Function\n",
    "3. What is Decorator\n",
    "4. What is Class\n",
    "5. What is object\n",
    "6. ip: 'HELLO'\n",
    "   op: 'hElLo'\n",
    "7. You have to write one Code and the output should be....\n",
    "    if ip: 'aabbcc'\n",
    "    op: ''\n",
    "    if ip: 'aabcca'\n",
    "    op: 'ba'"
   ]
  }
 ],
 "metadata": {
  "language_info": {
   "name": "python"
  }
 },
 "nbformat": 4,
 "nbformat_minor": 2
}
