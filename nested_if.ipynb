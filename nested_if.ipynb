{
 "cells": [
  {
   "cell_type": "markdown",
   "metadata": {},
   "source": [
    "WAP to check given two values are same collection or not if it is same collection to check it is a list or not, \n",
    "if it is list to concat both the collection without changing the first collection address, \n",
    "if given collection is dictionary to modify the first dictionary by help of second dictionary without change first dictionary address, \n",
    "if both collections are not same to concat both collection,\n",
    "if both the values are number to perform multiplication,\n",
    "if anyone value is boolean or none to perform the value converted into string and display the value,\n",
    "if both the values are complex to extract only imaginary value(output should be complex)\n",
    "if both the value is byte to display the ASCII value without using ord"
   ]
  },
  {
   "cell_type": "code",
   "execution_count": 6,
   "metadata": {},
   "outputs": [
    {
     "name": "stdout",
     "output_type": "stream",
     "text": [
      "[10, 20, 30, 40, 50, 60]\n"
     ]
    }
   ],
   "source": [
    "l1=[10,20,30]\n",
    "l2=[40,50,60]\n",
    "d1={'a':10,'b':20}\n",
    "d2={'x':50,'y':60}\n",
    "if type(l1)==type(l2):\n",
    "    if type(l1)==list and type(l2)==list:\n",
    "        res=l1+l2\n",
    "        print(res)\n",
    "elif type(d1)==dict and type(d2)==dict:\n",
    "    d1|=d2\n",
    "    print(d1)"
   ]
  }
 ],
 "metadata": {
  "kernelspec": {
   "display_name": "Python 3",
   "language": "python",
   "name": "python3"
  },
  "language_info": {
   "codemirror_mode": {
    "name": "ipython",
    "version": 3
   },
   "file_extension": ".py",
   "mimetype": "text/x-python",
   "name": "python",
   "nbconvert_exporter": "python",
   "pygments_lexer": "ipython3",
   "version": "3.11.4"
  },
  "orig_nbformat": 4
 },
 "nbformat": 4,
 "nbformat_minor": 2
}
