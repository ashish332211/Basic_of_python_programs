{
 "cells": [
  {
   "cell_type": "code",
   "execution_count": 48,
   "metadata": {},
   "outputs": [
    {
     "name": "stdout",
     "output_type": "stream",
     "text": [
      "500\n"
     ]
    }
   ],
   "source": [
    "class Atm:\n",
    "    def __init__(self,u_pin,balance=500):\n",
    "        self.pin = 9078\n",
    "        self.u_pin = u_pin\n",
    "        self.balance = balance\n",
    "\n",
    "    # def create_pin(self):\n",
    "    #     self.pin = int(input(\"Enter PIN to create: \"))\n",
    "    #     print(\"Pin set successfully\")\n",
    "\n",
    "    def deposit(self):\n",
    "        if self.u_pin == self.pin:\n",
    "            amount = int(input(\"Enter the amount\"))\n",
    "            self.balance+=amount\n",
    "            print('Deposited Successfully')\n",
    "        else:\n",
    "            print('Invalid PIN...Please Try again')\n",
    "    \n",
    "    def withdraw(self):\n",
    "        if self.u_pin == self.pin:\n",
    "            amount = int(input(\"Enter the amount\"))\n",
    "            if amount<self.balance:\n",
    "                self.balance-=amount\n",
    "                print('Please wait...Your transaction being proceed')\n",
    "            else:\n",
    "                print('Insufficient Balance')\n",
    "        else:\n",
    "            print('Invalid PIN')\n",
    "\n",
    "    def check_balance(self):\n",
    "        if self.u_pin == self.pin:\n",
    "            print(self.balance)\n",
    "        else:\n",
    "            print('Invalid PIN')\n",
    "\n",
    "    def display(self):\n",
    "        user = input(\"\"\"\n",
    "                        Choose Options\n",
    "                        1.Create PIN\n",
    "                        2.Deposit\n",
    "                        3.Withdraw\n",
    "                        4.Check Balance\n",
    "                        5.Exit\n",
    "        \"\"\")\n",
    "        if user == \"1\":\n",
    "            self.create_pin()\n",
    "        elif user == \"2\":\n",
    "            self.deposit()\n",
    "        elif user == \"3\":\n",
    "            self.withdraw()\n",
    "        elif user == \"4\":\n",
    "            self.check_balance()\n",
    "        elif user == \"5\":\n",
    "            print('Thank You')\n",
    "\n",
    "\n",
    "u_pin = int(input(\"Enter Your PIN: \"))\n",
    "sbi=Atm(u_pin,500)\n",
    "sbi.display()\n",
    "# sbi.create_pin()\n",
    "# sbi.deposit()\n",
    "# sbi.check_balance()\n",
    "# sbi.withdraw()\n"
   ]
  }
 ],
 "metadata": {
  "kernelspec": {
   "display_name": "Python 3",
   "language": "python",
   "name": "python3"
  },
  "language_info": {
   "codemirror_mode": {
    "name": "ipython",
    "version": 3
   },
   "file_extension": ".py",
   "mimetype": "text/x-python",
   "name": "python",
   "nbconvert_exporter": "python",
   "pygments_lexer": "ipython3",
   "version": "3.12.0"
  }
 },
 "nbformat": 4,
 "nbformat_minor": 2
}
