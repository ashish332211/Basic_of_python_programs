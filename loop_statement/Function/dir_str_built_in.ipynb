{
 "cells": [
  {
   "cell_type": "code",
   "execution_count": 1,
   "metadata": {},
   "outputs": [
    {
     "name": "stdout",
     "output_type": "stream",
     "text": [
      "python\n"
     ]
    }
   ],
   "source": [
    "#WITH ARGUMENTS WITHOUT RETURN STATEMENTS\n",
    "x='hello HAII 123 @#$'\n",
    "def upper(x):"
   ]
  },
  {
   "cell_type": "code",
   "execution_count": 1,
   "metadata": {},
   "outputs": [
    {
     "data": {
      "text/plain": [
       "'Hello world123@$'"
      ]
     },
     "execution_count": 1,
     "metadata": {},
     "output_type": "execute_result"
    }
   ],
   "source": [
    "#Capitalize\n",
    "st='hello World123@$'\n",
    "def u_capitalize(coll):\n",
    "    res=''\n",
    "    if 'a'<=coll[0]<='z':\n",
    "        res+=chr(ord(coll[0])-32)\n",
    "    else:\n",
    "        res+=coll[0]\n",
    "    for i in range(1,len(coll)):\n",
    "        if 'A'<=coll[i]<='Z':\n",
    "            res+=chr(ord(coll[i])+32)\n",
    "        else:\n",
    "            res+=coll[i]\n",
    "    return res\n",
    "u_capitalize(st)"
   ]
  },
  {
   "cell_type": "code",
   "execution_count": 2,
   "metadata": {},
   "outputs": [
    {
     "data": {
      "text/plain": [
       "'hello world123@#'"
      ]
     },
     "execution_count": 2,
     "metadata": {},
     "output_type": "execute_result"
    }
   ],
   "source": [
    "#casefold\n",
    "st='HELLO WORLD123@#'\n",
    "st.casefold()"
   ]
  },
  {
   "cell_type": "code",
   "execution_count": 123,
   "metadata": {},
   "outputs": [
    {
     "data": {
      "text/plain": [
       "False"
      ]
     },
     "execution_count": 123,
     "metadata": {},
     "output_type": "execute_result"
    }
   ],
   "source": [
    "st='!@#$%34'\n",
    "st.isalnum()"
   ]
  },
  {
   "cell_type": "code",
   "execution_count": 119,
   "metadata": {},
   "outputs": [
    {
     "data": {
      "text/plain": [
       "True"
      ]
     },
     "execution_count": 119,
     "metadata": {},
     "output_type": "execute_result"
    }
   ],
   "source": [
    "st='ash'\n",
    "st.isalpha()"
   ]
  },
  {
   "cell_type": "code",
   "execution_count": 125,
   "metadata": {},
   "outputs": [
    {
     "data": {
      "text/plain": [
       "False"
      ]
     },
     "execution_count": 125,
     "metadata": {},
     "output_type": "execute_result"
    }
   ],
   "source": [
    "st='ash ish'\n",
    "st.isspace()\n",
    "####"
   ]
  },
  {
   "cell_type": "code",
   "execution_count": 11,
   "metadata": {},
   "outputs": [
    {
     "data": {
      "text/plain": [
       "'hello world123@#'"
      ]
     },
     "execution_count": 11,
     "metadata": {},
     "output_type": "execute_result"
    }
   ],
   "source": [
    "#lower\n",
    "st='HELLO WORLD123@#'\n",
    "def u_lower(coll):\n",
    "    res=''\n",
    "    for i in st:\n",
    "        if 'A'<=i<='Z':\n",
    "            res+=chr(ord(i)+32)\n",
    "        else:\n",
    "            res+=i\n",
    "    return res\n",
    "u_lower(st)\n",
    "    "
   ]
  },
  {
   "cell_type": "code",
   "execution_count": 4,
   "metadata": {},
   "outputs": [
    {
     "data": {
      "text/plain": [
       "'HELLO world123!@#'"
      ]
     },
     "execution_count": 4,
     "metadata": {},
     "output_type": "execute_result"
    }
   ],
   "source": [
    "#swapcase\n",
    "st='hello WORLD123!@#'\n",
    "def u_swapcase(coll):\n",
    "    res=''\n",
    "    for i in st:\n",
    "        if 'a'<=i<='z':\n",
    "            res+=chr(ord(i)-32)\n",
    "        elif 'A'<=i<='Z':\n",
    "            res+=chr(ord(i)+32)\n",
    "        else:\n",
    "            res+=i\n",
    "    return res\n",
    "u_swapcase(st)"
   ]
  },
  {
   "cell_type": "code",
   "execution_count": 3,
   "metadata": {},
   "outputs": [
    {
     "data": {
      "text/plain": [
       "'@Hello World123Abc @# $Xyz Ijkl'"
      ]
     },
     "execution_count": 3,
     "metadata": {},
     "output_type": "execute_result"
    }
   ],
   "source": [
    "#title\n",
    "st='@hello wORLD123abc @# $xyz ijkl'\n",
    "def u_title(coll):\n",
    "    i=0\n",
    "    res=''\n",
    "    if 'a'<=coll[0]<='z':\n",
    "        res+=chr(ord(coll[0])-32)\n",
    "        # i=1\n",
    "    elif 'A'<=coll[0]<='Z':\n",
    "        res+=coll[0]\n",
    "        i=1\n",
    "    while i<len(coll):\n",
    "        if not('A'<=coll[i]<='Z' or 'a'<=coll[i]<='z'):\n",
    "            res+=coll[i]\n",
    "            if 'a'<=coll[i+1]<='z':\n",
    "                res+=chr(ord(coll[i+1])-32)\n",
    "            else:\n",
    "                res+=coll[i+1]\n",
    "            i+=1\n",
    "        elif 'A'<=coll[i]<='Z':\n",
    "            res+=chr(ord(coll[i])+32)\n",
    "        else:\n",
    "            res+=coll[i]\n",
    "        i+=1\n",
    "    return res\n",
    "u_title(st)\n",
    "############"
   ]
  },
  {
   "cell_type": "code",
   "execution_count": 27,
   "metadata": {},
   "outputs": [
    {
     "name": "stdout",
     "output_type": "stream",
     "text": [
      "@#Hello Worl#D 12Abc\n"
     ]
    }
   ],
   "source": [
    "st='@#hello worl#d 12abc'\n",
    "# print(st.title())\n",
    "def u_title(coll):\n",
    "    res=''\n",
    "    i=0\n",
    "    while i<len(coll):\n",
    "        if not ('a'<=coll[i]<='z' or 'A'<=coll[i]<='Z' ):\n",
    "            res+=coll[i]\n",
    "        elif 'a'<=coll[i]<='z' and i==0:\n",
    "                res+=chr(ord(coll[i])-32)\n",
    "        else:\n",
    "            if  not ('a'<=coll[i-1]<='z' or 'A'<=coll[i-1]<='Z') and 'a'<=coll[i]<='z':\n",
    "                res+=chr(ord(coll[i])-32)\n",
    "            elif 'A'<=coll[i-1]<='Z' and 'A'<=coll[i]<='Z' and i!=0:\n",
    "                res+=chr(ord(coll[i])+32)\n",
    "            elif 'a'<=coll[i-1]<='z' and 'A'<=coll[i]<='Z' and i!=0:\n",
    "                res+=chr(ord(coll[i])+32)\n",
    "            else:\n",
    "                res+=coll[i]\n",
    "        i+=1\n",
    "    return res\n",
    "print(u_title(st))\n",
    "#imran"
   ]
  },
  {
   "cell_type": "code",
   "execution_count": 163,
   "metadata": {},
   "outputs": [
    {
     "data": {
      "text/plain": [
       "'---abc----'"
      ]
     },
     "execution_count": 163,
     "metadata": {},
     "output_type": "execute_result"
    }
   ],
   "source": [
    "#center\n",
    "st='abc'\n",
    "def u_center(coll,width,fillchar=''):\n",
    "    res=width-len(coll)\n",
    "    ll=res//2\n",
    "    lr = res - ll\n",
    "    return fillchar*ll+coll+fillchar*lr\n",
    "u_center(st,10,'-')"
   ]
  },
  {
   "cell_type": "code",
   "execution_count": 5,
   "metadata": {},
   "outputs": [
    {
     "data": {
      "text/plain": [
       "True"
      ]
     },
     "execution_count": 5,
     "metadata": {},
     "output_type": "execute_result"
    }
   ],
   "source": [
    "#istitle\n",
    "# st='@Hello World123Abc @# $Xyz Ijkl'\n",
    "# st.istitle()\n",
    "st='@Hello World123Abc @# Xyz Ijkl'\n",
    "def u_istitle(coll):\n",
    "    if 'a'<=coll[0]<='z':\n",
    "        return False\n",
    "    i=0\n",
    "    while i<len(coll):\n",
    "        if not('A'<=coll[i]<='Z' or 'a'<=coll[i]<='z'):\n",
    "            if 'a'<=coll[i+1]<='z':\n",
    "                return False\n",
    "        i+=1\n",
    "    return True\n",
    "u_istitle(st)"
   ]
  },
  {
   "cell_type": "code",
   "execution_count": 26,
   "metadata": {},
   "outputs": [
    {
     "data": {
      "text/plain": [
       "False"
      ]
     },
     "execution_count": 26,
     "metadata": {},
     "output_type": "execute_result"
    }
   ],
   "source": [
    "#isupper\n",
    "st='HeLLO123'\n",
    "def u_isupper(coll):\n",
    "    for i in coll:\n",
    "        if 'a'<=i<='z':\n",
    "            return False\n",
    "    return True\n",
    "u_isupper(st)"
   ]
  },
  {
   "cell_type": "code",
   "execution_count": 28,
   "metadata": {},
   "outputs": [
    {
     "data": {
      "text/plain": [
       "False"
      ]
     },
     "execution_count": 28,
     "metadata": {},
     "output_type": "execute_result"
    }
   ],
   "source": [
    "#islower\n",
    "st='heLLo123'\n",
    "def u_islower(coll):\n",
    "    for i in coll:\n",
    "        if 'A'<=i<='Z':\n",
    "            return False\n",
    "    return True\n",
    "u_islower(st)"
   ]
  },
  {
   "cell_type": "code",
   "execution_count": 46,
   "metadata": {},
   "outputs": [
    {
     "data": {
      "text/plain": [
       "True"
      ]
     },
     "execution_count": 46,
     "metadata": {},
     "output_type": "execute_result"
    }
   ],
   "source": [
    "#isidentifier\n",
    "st='e1pys_'\n",
    "def u_isidentifier(coll):\n",
    "    if '0'<=coll[0]<='9':\n",
    "        return False\n",
    "    for i in coll:\n",
    "        if not ('A'<=i<='Z' or 'a'<=i<='z' or '0'<=i<='9' or i=='_'):\n",
    "            return False\n",
    "    return True\n",
    "u_isidentifier(st)"
   ]
  },
  {
   "cell_type": "code",
   "execution_count": 52,
   "metadata": {},
   "outputs": [
    {
     "data": {
      "text/plain": [
       "'a-b-c-d-e'"
      ]
     },
     "execution_count": 52,
     "metadata": {},
     "output_type": "execute_result"
    }
   ],
   "source": [
    "# l=['a','b','c','d']\n",
    "# '+'.join(l)\n",
    "\n",
    "l=['a','b','c','d','e']\n",
    "def join(coll,sep=\"\"):\n",
    "    for i in coll:\n",
    "        if type(i)!=str:\n",
    "            return False\n",
    "    res=''\n",
    "    for i in coll:\n",
    "        res=res+i+sep\n",
    "    if sep==' ':\n",
    "        return res\n",
    "    else:\n",
    "        return res[:-(len(sep)):]\n",
    "join(l,'-')"
   ]
  },
  {
   "cell_type": "code",
   "execution_count": 18,
   "metadata": {},
   "outputs": [
    {
     "data": {
      "text/plain": [
       "1"
      ]
     },
     "execution_count": 18,
     "metadata": {},
     "output_type": "execute_result"
    }
   ],
   "source": [
    "#count()\n",
    "#-----------\n",
    "# st='helloworld'\n",
    "# st.count('l',3,7)\n",
    "\n",
    "\n",
    "st='helloworld'\n",
    "def u_count(coll,ele,start=0,end=None):\n",
    "    if end==None:\n",
    "        end=len(coll)\n",
    "    count=0\n",
    "    for i in range(start,end):\n",
    "        if coll[i]==ele:\n",
    "            count+=1\n",
    "    return count\n",
    "u_count(st, 'l', 3, 7)"
   ]
  },
  {
   "cell_type": "code",
   "execution_count": 164,
   "metadata": {},
   "outputs": [
    {
     "data": {
      "text/plain": [
       "8"
      ]
     },
     "execution_count": 164,
     "metadata": {},
     "output_type": "execute_result"
    }
   ],
   "source": [
    "# find()\n",
    "# ------------\n",
    "# st='helloworld'\n",
    "# st.find('l',3,5)   #It will return the index position of value. If element is not present in coll it will return -1 \n",
    "st='helloworld'\n",
    "def u_find(coll,ele,start=0,end=None):\n",
    "    if end==None:\n",
    "        end=len(coll)\n",
    "    if ele not in coll:\n",
    "        return -1\n",
    "    while start<end:\n",
    "        if ele==coll[start]:\n",
    "            return start\n",
    "        start+=1\n",
    "    return -1\n",
    "u_find(st,'l',4,9)"
   ]
  },
  {
   "cell_type": "code",
   "execution_count": 85,
   "metadata": {},
   "outputs": [
    {
     "data": {
      "text/plain": [
       "8"
      ]
     },
     "execution_count": 85,
     "metadata": {},
     "output_type": "execute_result"
    }
   ],
   "source": [
    "#rfiind()\n",
    "#--------------\n",
    "# st='helloworld'\n",
    "# st.rfind('o',2,7)\n",
    "st='helloworld'\n",
    "def u_rfind(coll,ele,start=0,end=None):\n",
    "    if end==None:\n",
    "        end=len(coll)-1\n",
    "    if ele not in coll[start:end]:\n",
    "        return -1\n",
    "    \n",
    "    while end>start:\n",
    "        if coll[end]==ele:\n",
    "            return end\n",
    "        end-=1\n",
    "u_rfind(st,'l',5,9)"
   ]
  },
  {
   "cell_type": "code",
   "execution_count": 95,
   "metadata": {},
   "outputs": [
    {
     "data": {
      "text/plain": [
       "['he', 'o wor', 'd how are you']"
      ]
     },
     "execution_count": 95,
     "metadata": {},
     "output_type": "execute_result"
    }
   ],
   "source": [
    "#split()\n",
    "#-------------\n",
    "st='hello world how are you'\n",
    "def u_split(coll,ele=''):\n",
    "    l=[]\n",
    "    res=''\n",
    "    for i in coll:\n",
    "        if i!=ele:\n",
    "            res+=i\n",
    "        else:\n",
    "            if res!='':\n",
    "                l+=[res]\n",
    "                res=''\n",
    "    if res!='':\n",
    "        l+=[res]\n",
    "    return l\n",
    "u_split(st,'l')"
   ]
  },
  {
   "cell_type": "code",
   "execution_count": 97,
   "metadata": {},
   "outputs": [
    {
     "data": {
      "text/plain": [
       "['hell', ' w', 'rld how are you']"
      ]
     },
     "execution_count": 97,
     "metadata": {},
     "output_type": "execute_result"
    }
   ],
   "source": [
    "#split with using maxsplit\n",
    "st='hello world how are you'\n",
    "def u_split(coll,ele='',maxsplit=None):\n",
    "    if maxsplit==None:\n",
    "        maxsplit=len(coll)\n",
    "    l=[]\n",
    "    res=''\n",
    "    index=0\n",
    "    for i in coll:\n",
    "        if i!=ele:\n",
    "            res+=i\n",
    "        else:\n",
    "            l+=[res]\n",
    "            res=''\n",
    "        index+=1\n",
    "        if len(l)==maxsplit:\n",
    "            return l+[coll[index:]]\n",
    "    if res!='':\n",
    "        l+=[res]\n",
    "    return l\n",
    "u_split(st,'o',2)       "
   ]
  },
  {
   "cell_type": "code",
   "execution_count": 84,
   "metadata": {},
   "outputs": [
    {
     "data": {
      "text/plain": [
       "['Hello World W', 'lcom', ' to pysp']"
      ]
     },
     "execution_count": 84,
     "metadata": {},
     "output_type": "execute_result"
    }
   ],
   "source": [
    "#rsplit()\n",
    "#---------\n",
    "st='Hello World Welcome to pysp'\n",
    "# st.rsplit('e',maxsplit=2)\n",
    "def u_rsplit(coll,ele='',maxsplit=None):\n",
    "    l=[]\n",
    "    res=''\n",
    "    start=0\n",
    "    end=len(coll)-1\n",
    "    while end>=start:\n",
    "        if ele!=coll[end]:\n",
    "            res=coll[end]+res\n",
    "        else:\n",
    "            if len(res)!=0:\n",
    "                l=[res]+l\n",
    "                res=''\n",
    "            if len(l)==maxsplit:\n",
    "                return [coll[:end]]+l\n",
    "        end-=1\n",
    "    if len(res)!=0:\n",
    "        l=[res]+l\n",
    "    return l\n",
    "u_rsplit(st,'e',2)"
   ]
  },
  {
   "cell_type": "code",
   "execution_count": 11,
   "metadata": {},
   "outputs": [
    {
     "ename": "IndexError",
     "evalue": "string index out of range",
     "output_type": "error",
     "traceback": [
      "\u001b[1;31m---------------------------------------------------------------------------\u001b[0m",
      "\u001b[1;31mIndexError\u001b[0m                                Traceback (most recent call last)",
      "\u001b[1;32mc:\\Users\\Ashish Biswal\\Documents\\GitHub\\Basic_of_python_programs\\loop_statement\\Function\\dir_str_built_in.ipynb Cell 23\u001b[0m line \u001b[0;36m1\n\u001b[0;32m     <a href='vscode-notebook-cell:/c%3A/Users/Ashish%20Biswal/Documents/GitHub/Basic_of_python_programs/loop_statement/Function/dir_str_built_in.ipynb#X31sZmlsZQ%3D%3D?line=14'>15</a>\u001b[0m     \u001b[39mif\u001b[39;00m res\u001b[39m==\u001b[39msub:\n\u001b[0;32m     <a href='vscode-notebook-cell:/c%3A/Users/Ashish%20Biswal/Documents/GitHub/Basic_of_python_programs/loop_statement/Function/dir_str_built_in.ipynb#X31sZmlsZQ%3D%3D?line=15'>16</a>\u001b[0m         \u001b[39mreturn\u001b[39;00m \u001b[39mTrue\u001b[39;00m\n\u001b[1;32m---> <a href='vscode-notebook-cell:/c%3A/Users/Ashish%20Biswal/Documents/GitHub/Basic_of_python_programs/loop_statement/Function/dir_str_built_in.ipynb#X31sZmlsZQ%3D%3D?line=16'>17</a>\u001b[0m u_startswith(st,\u001b[39m'\u001b[39;49m\u001b[39mI Love\u001b[39;49m\u001b[39m'\u001b[39;49m,\u001b[39m0\u001b[39;49m,\u001b[39m7\u001b[39;49m)\n\u001b[0;32m     <a href='vscode-notebook-cell:/c%3A/Users/Ashish%20Biswal/Documents/GitHub/Basic_of_python_programs/loop_statement/Function/dir_str_built_in.ipynb#X31sZmlsZQ%3D%3D?line=18'>19</a>\u001b[0m \u001b[39m#     while start<end:\u001b[39;00m\n\u001b[0;32m     <a href='vscode-notebook-cell:/c%3A/Users/Ashish%20Biswal/Documents/GitHub/Basic_of_python_programs/loop_statement/Function/dir_str_built_in.ipynb#X31sZmlsZQ%3D%3D?line=19'>20</a>\u001b[0m \u001b[39m#         if coll[start]!=sub[start]:\u001b[39;00m\n\u001b[0;32m     <a href='vscode-notebook-cell:/c%3A/Users/Ashish%20Biswal/Documents/GitHub/Basic_of_python_programs/loop_statement/Function/dir_str_built_in.ipynb#X31sZmlsZQ%3D%3D?line=20'>21</a>\u001b[0m \u001b[39m#             return False\u001b[39;00m\n\u001b[1;32m   (...)\u001b[0m\n\u001b[0;32m     <a href='vscode-notebook-cell:/c%3A/Users/Ashish%20Biswal/Documents/GitHub/Basic_of_python_programs/loop_statement/Function/dir_str_built_in.ipynb#X31sZmlsZQ%3D%3D?line=23'>24</a>\u001b[0m \u001b[39m# u_startswith(st,'i love',0,7)\u001b[39;00m\n\u001b[0;32m     <a href='vscode-notebook-cell:/c%3A/Users/Ashish%20Biswal/Documents/GitHub/Basic_of_python_programs/loop_statement/Function/dir_str_built_in.ipynb#X31sZmlsZQ%3D%3D?line=24'>25</a>\u001b[0m \u001b[39m# ########\u001b[39;00m\n",
      "\u001b[1;32mc:\\Users\\Ashish Biswal\\Documents\\GitHub\\Basic_of_python_programs\\loop_statement\\Function\\dir_str_built_in.ipynb Cell 23\u001b[0m line \u001b[0;36m1\n\u001b[0;32m      <a href='vscode-notebook-cell:/c%3A/Users/Ashish%20Biswal/Documents/GitHub/Basic_of_python_programs/loop_statement/Function/dir_str_built_in.ipynb#X31sZmlsZQ%3D%3D?line=8'>9</a>\u001b[0m res\u001b[39m=\u001b[39m\u001b[39m'\u001b[39m\u001b[39m'\u001b[39m\n\u001b[0;32m     <a href='vscode-notebook-cell:/c%3A/Users/Ashish%20Biswal/Documents/GitHub/Basic_of_python_programs/loop_statement/Function/dir_str_built_in.ipynb#X31sZmlsZQ%3D%3D?line=9'>10</a>\u001b[0m \u001b[39mwhile\u001b[39;00m start\u001b[39m<\u001b[39mend:\n\u001b[1;32m---> <a href='vscode-notebook-cell:/c%3A/Users/Ashish%20Biswal/Documents/GitHub/Basic_of_python_programs/loop_statement/Function/dir_str_built_in.ipynb#X31sZmlsZQ%3D%3D?line=10'>11</a>\u001b[0m     \u001b[39mif\u001b[39;00m coll[start]\u001b[39m!=\u001b[39msub[start]:\n\u001b[0;32m     <a href='vscode-notebook-cell:/c%3A/Users/Ashish%20Biswal/Documents/GitHub/Basic_of_python_programs/loop_statement/Function/dir_str_built_in.ipynb#X31sZmlsZQ%3D%3D?line=11'>12</a>\u001b[0m         \u001b[39mreturn\u001b[39;00m \u001b[39mFalse\u001b[39;00m\n\u001b[0;32m     <a href='vscode-notebook-cell:/c%3A/Users/Ashish%20Biswal/Documents/GitHub/Basic_of_python_programs/loop_statement/Function/dir_str_built_in.ipynb#X31sZmlsZQ%3D%3D?line=12'>13</a>\u001b[0m     \u001b[39m# res+=coll[start]\u001b[39;00m\n",
      "\u001b[1;31mIndexError\u001b[0m: string index out of range"
     ]
    }
   ],
   "source": [
    "#startswith()\n",
    "#-------------\n",
    "st='I Love India I Hate Love'\n",
    "def u_startswith(coll,sub,start=0,end=None):\n",
    "    if end==None:\n",
    "        end=start+len(sub)\n",
    "    if sub not in coll[start:]:\n",
    "        return False\n",
    "    res=''\n",
    "    while start<end:\n",
    "        if coll[start]!=sub[start]:\n",
    "            return False\n",
    "        # res+=coll[start]\n",
    "        start+=1\n",
    "    if res==sub:\n",
    "        return True\n",
    "u_startswith(st,'I Love',0,7)\n",
    "\n",
    "#     while start<end:\n",
    "#         if coll[start]!=sub[start]:\n",
    "#             return False\n",
    "#         start+=1\n",
    "#     return True\n",
    "# u_startswith(st,'i love',0,7)\n",
    "# ########"
   ]
  },
  {
   "cell_type": "code",
   "execution_count": 4,
   "metadata": {},
   "outputs": [
    {
     "name": "stdout",
     "output_type": "stream",
     "text": [
      "I Love Ind\n",
      "6\n"
     ]
    },
    {
     "data": {
      "text/plain": [
       "False"
      ]
     },
     "execution_count": 4,
     "metadata": {},
     "output_type": "execute_result"
    }
   ],
   "source": [
    "#endswith()\n",
    "#----------\n",
    "st='I Love India I Hate'\n",
    "# st.endswith('Love')\n",
    "def u_endswith(coll,sub,start=0,end=None):\n",
    "    if end==None:\n",
    "        end=len(coll)\n",
    "    st=''\n",
    "    while start<end:\n",
    "        st+=coll[start]\n",
    "        start+=1\n",
    "    print(st)\n",
    "    i=len(st)-len(sub)\n",
    "    print(i)\n",
    "    res=''\n",
    "    while i<len(st):\n",
    "        res+=st[i]\n",
    "        i+=1\n",
    "        return(res==sub)\n",
    "u_endswith(st,'Hate',0,10)\n",
    "##############"
   ]
  },
  {
   "cell_type": "code",
   "execution_count": 11,
   "metadata": {},
   "outputs": [
    {
     "data": {
      "text/plain": [
       "'mxlxyxlxm'"
      ]
     },
     "execution_count": 11,
     "metadata": {},
     "output_type": "execute_result"
    }
   ],
   "source": [
    "#replace()\n",
    "# st='ashish'\n",
    "# st.replace('s','Z')\n",
    "\n",
    "st='malayalam'\n",
    "def u_replace(coll,old,new):\n",
    "    res=''\n",
    "    for i in coll:\n",
    "        if i==old:\n",
    "            res+=new\n",
    "        else:\n",
    "            res+=i\n",
    "    return res\n",
    "u_replace(st,'a','x')"
   ]
  },
  {
   "cell_type": "code",
   "execution_count": 12,
   "metadata": {},
   "outputs": [
    {
     "data": {
      "text/plain": [
       "'xunday ix a maxsday'"
      ]
     },
     "execution_count": 12,
     "metadata": {},
     "output_type": "execute_result"
    }
   ],
   "source": [
    "#WAP to replace the specific character for n number of times or specific occurance\n",
    "st='sunday is a massday'\n",
    "# st.replace('s','x',2)\n",
    "def u_replace(coll,old,new,count=None):\n",
    "    if count==None:\n",
    "        count=len(coll)\n",
    "    co=1\n",
    "    res=''\n",
    "    for i in coll:\n",
    "        if i==old and co<=count:\n",
    "            res+=new\n",
    "            co+=1\n",
    "        else:\n",
    "            res+=i\n",
    "    return res\n",
    "u_replace(st,'s','x',3)"
   ]
  },
  {
   "cell_type": "code",
   "execution_count": null,
   "metadata": {},
   "outputs": [],
   "source": []
  },
  {
   "cell_type": "code",
   "execution_count": 10,
   "metadata": {},
   "outputs": [
    {
     "name": "stdout",
     "output_type": "stream",
     "text": [
      " -hello world haii   \n"
     ]
    },
    {
     "data": {
      "text/plain": [
       "'.fb.com'"
      ]
     },
     "execution_count": 10,
     "metadata": {},
     "output_type": "execute_result"
    }
   ],
   "source": [
    "#removeprefix()\n",
    "st=' -hello world haii   '\n",
    "print(st.removeprefix('-'))\n",
    "\n",
    "st='www.fb.com'\n",
    "def u_removeprefix(coll,ele):\n",
    "    if ele not in coll[0:len(ele)]:\n",
    "        return coll\n",
    "    return coll[len(ele):]\n",
    "u_removeprefix(st,'www')"
   ]
  },
  {
   "cell_type": "code",
   "execution_count": 35,
   "metadata": {},
   "outputs": [
    {
     "data": {
      "text/plain": [
       "'hello \\t  \\n  \\rhaii  '"
      ]
     },
     "execution_count": 35,
     "metadata": {},
     "output_type": "execute_result"
    }
   ],
   "source": [
    "#lstrip()\n",
    "st=' \\n \\t  hello \\t  \\n  \\rhaii  '\n",
    "# st.lstrip('\\t')\n",
    "def u_lstrip(coll,ele=[' ','\\n','\\t','\\r','\\f']):\n",
    "    res=''\n",
    "    for i in range(0,len(coll)):\n",
    "        if coll[i] in ele:\n",
    "            res+=''\n",
    "        else:\n",
    "            res+=coll[i:]\n",
    "            break\n",
    "    return res\n",
    "u_lstrip(st)"
   ]
  },
  {
   "cell_type": "code",
   "execution_count": 38,
   "metadata": {},
   "outputs": [
    {
     "data": {
      "text/plain": [
       "'   \\t \\nhello \\t \\n haii'"
      ]
     },
     "execution_count": 38,
     "metadata": {},
     "output_type": "execute_result"
    }
   ],
   "source": [
    "#rstrip\n",
    "st='   \\t \\nhello \\t \\n haii \\t \\n '\n",
    "def u_rstrip(coll,ele=[' ','\\n','\\t','\\r','\\f']):\n",
    "    res=''\n",
    "    for i in range(len(coll)-1,-1,-1):\n",
    "        if coll[i] in ele:\n",
    "            res+=''\n",
    "        else:\n",
    "            res+=coll[:i+1]\n",
    "            break\n",
    "    return res\n",
    "u_rstrip(st)"
   ]
  },
  {
   "cell_type": "code",
   "execution_count": null,
   "metadata": {},
   "outputs": [],
   "source": [
    "#strip"
   ]
  },
  {
   "cell_type": "code",
   "execution_count": 1,
   "metadata": {},
   "outputs": [
    {
     "data": {
      "text/plain": [
       "'hello               '"
      ]
     },
     "execution_count": 1,
     "metadata": {},
     "output_type": "execute_result"
    }
   ],
   "source": [
    "#ljust()\n",
    "st='hello'\n",
    "def u_ljust(coll,width,fillchar=' '):\n",
    "    res=''\n",
    "    res+=coll+fillchar*(width-len(coll))\n",
    "    return res\n",
    "u_ljust(st,20)"
   ]
  },
  {
   "cell_type": "code",
   "execution_count": 40,
   "metadata": {},
   "outputs": [
    {
     "data": {
      "text/plain": [
       "'               hello'"
      ]
     },
     "execution_count": 40,
     "metadata": {},
     "output_type": "execute_result"
    }
   ],
   "source": [
    "#rjust()\n",
    "st='hello'\n",
    "def u_rjust(coll,width,fillchar=' '):\n",
    "    res=''\n",
    "    res+=fillchar*(width-len(coll))+coll\n",
    "    return res\n",
    "u_rjust(st,20)"
   ]
  }
 ],
 "metadata": {
  "kernelspec": {
   "display_name": "Python 3",
   "language": "python",
   "name": "python3"
  },
  "language_info": {
   "codemirror_mode": {
    "name": "ipython",
    "version": 3
   },
   "file_extension": ".py",
   "mimetype": "text/x-python",
   "name": "python",
   "nbconvert_exporter": "python",
   "pygments_lexer": "ipython3",
   "version": "3.11.4"
  },
  "orig_nbformat": 4
 },
 "nbformat": 4,
 "nbformat_minor": 2
}
