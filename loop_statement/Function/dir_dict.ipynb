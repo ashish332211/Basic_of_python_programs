{
 "cells": [
  {
   "cell_type": "code",
   "execution_count": null,
   "metadata": {},
   "outputs": [],
   "source": [
    "#clear,copy,fromkeys,get,item,pop,popitem,set,default,update,value"
   ]
  },
  {
   "cell_type": "code",
   "execution_count": 4,
   "metadata": {},
   "outputs": [
    {
     "name": "stdout",
     "output_type": "stream",
     "text": [
      "2376215643968 {'a': 10, 'b': 20, 'c': 30}\n",
      "2376215643968 {}\n"
     ]
    }
   ],
   "source": [
    "#clear()\n",
    "# d={'a':10,'b':20,'c':30}\n",
    "# print(id(d),d)\n",
    "# d.clear()\n",
    "# print(id(d),d)\n",
    "\n",
    "d={'a':10,'b':20,'c':30}\n",
    "print(id(d),d)\n",
    "def u_clear(coll):\n",
    "    if type(coll)!=dict:\n",
    "        return -1\n",
    "    keys=list(coll)\n",
    "    for i in keys:\n",
    "        del coll[i]\n",
    "u_clear(d)\n",
    "print(id(d),d)\n"
   ]
  },
  {
   "cell_type": "code",
   "execution_count": 13,
   "metadata": {},
   "outputs": [
    {
     "name": "stdout",
     "output_type": "stream",
     "text": [
      "2376221369536 {'a': 10, 'b': 20, 'c': 30}\n"
     ]
    }
   ],
   "source": [
    "#copy()\n",
    "# d={'a':10,'b':20,'c':30}\n",
    "# print(id(d),d)\n",
    "# res=d.copy()\n",
    "# print(id(res),res)      #Here the address will be not same\n",
    "\n",
    "d={'a':10,'b':20,'c':30}\n",
    "def u_copy(coll):\n",
    "    if type(coll)!=dict:\n",
    "        return -1\n",
    "    temp={}\n",
    "    for i in coll:\n",
    "        temp[i]=coll[i]\n",
    "    return temp\n",
    "res=u_copy(d)\n",
    "print(id(res),res)"
   ]
  }
 ],
 "metadata": {
  "kernelspec": {
   "display_name": "Python 3",
   "language": "python",
   "name": "python3"
  },
  "language_info": {
   "codemirror_mode": {
    "name": "ipython",
    "version": 3
   },
   "file_extension": ".py",
   "mimetype": "text/x-python",
   "name": "python",
   "nbconvert_exporter": "python",
   "pygments_lexer": "ipython3",
   "version": "3.11.4"
  }
 },
 "nbformat": 4,
 "nbformat_minor": 2
}
