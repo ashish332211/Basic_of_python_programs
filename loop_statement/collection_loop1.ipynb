{
 "cells": [
  {
   "cell_type": "markdown",
   "metadata": {},
   "source": [
    "1.WAP to print the uppercase character from 'A' to 'Z' using while loop."
   ]
  },
  {
   "cell_type": "code",
   "execution_count": null,
   "metadata": {},
   "outputs": [],
   "source": [
    "ch = 'A'\n",
    "while ch<='Z':\n",
    "    print(ch)\n",
    "    ch = chr(ord(ch)+1)"
   ]
  },
  {
   "cell_type": "markdown",
   "metadata": {},
   "source": [
    "2.WAP to print the lowercase character from 'a' to 'z' using while loop."
   ]
  },
  {
   "cell_type": "code",
   "execution_count": null,
   "metadata": {},
   "outputs": [],
   "source": [
    "ch='a'\n",
    "while ch<='z':\n",
    "    print(ch)\n",
    "    ch=chr(ord(ch)+1)"
   ]
  },
  {
   "cell_type": "markdown",
   "metadata": {},
   "source": [
    "3.WAP to print the ASCII number characters from '0' to '9' using while loop"
   ]
  },
  {
   "cell_type": "code",
   "execution_count": null,
   "metadata": {},
   "outputs": [],
   "source": [
    "ch='0'\n",
    "while ch<='9':\n",
    "    print(ch)\n",
    "    ch=chr(ord(ch)+1)"
   ]
  },
  {
   "cell_type": "markdown",
   "metadata": {},
   "source": [
    "4.WAP to print the uppercase character from 'E' to 'U' using while loop."
   ]
  },
  {
   "cell_type": "code",
   "execution_count": null,
   "metadata": {},
   "outputs": [],
   "source": [
    "ch='E'\n",
    "while ch<='U':\n",
    "    print(ch)\n",
    "    ch=chr(ord(ch)+1)"
   ]
  },
  {
   "cell_type": "markdown",
   "metadata": {},
   "source": [
    "5.WAP to print the uppercase character from 'Z' to 'A' using while loop."
   ]
  },
  {
   "cell_type": "code",
   "execution_count": 5,
   "metadata": {},
   "outputs": [
    {
     "name": "stdout",
     "output_type": "stream",
     "text": [
      "Z\n",
      "Y\n",
      "X\n",
      "W\n",
      "V\n",
      "U\n",
      "T\n",
      "S\n",
      "R\n",
      "Q\n",
      "P\n",
      "O\n",
      "N\n",
      "M\n",
      "L\n",
      "K\n",
      "J\n",
      "I\n",
      "H\n",
      "G\n",
      "F\n",
      "E\n",
      "D\n",
      "C\n",
      "B\n",
      "A\n"
     ]
    }
   ],
   "source": [
    "ch='Z'\n",
    "while ch>='A':\n",
    "    print(ch)\n",
    "    ch=chr(ord(ch)-1)"
   ]
  },
  {
   "cell_type": "markdown",
   "metadata": {},
   "source": [
    "6.WAP to print the uppercase character from 'U' to 'G' using while loop."
   ]
  },
  {
   "cell_type": "code",
   "execution_count": null,
   "metadata": {},
   "outputs": [],
   "source": [
    "ch='U'\n",
    "while ch>='G':\n",
    "    print(ch)\n",
    "    ch=chr(ord(ch)-1)"
   ]
  },
  {
   "cell_type": "markdown",
   "metadata": {},
   "source": [
    "7.WAP to print the lowercase character from 'i' to 'y' using while loop."
   ]
  },
  {
   "cell_type": "code",
   "execution_count": null,
   "metadata": {},
   "outputs": [],
   "source": [
    "ch='i'\n",
    "while ch<='y':\n",
    "    print(ch)\n",
    "    ch=chr(ord(ch)+1)"
   ]
  },
  {
   "cell_type": "markdown",
   "metadata": {},
   "source": [
    "8.WAP to print the lowercase character from 'z' to 'a' using while loop."
   ]
  },
  {
   "cell_type": "code",
   "execution_count": null,
   "metadata": {},
   "outputs": [],
   "source": [
    "ch='z'\n",
    "while ch>='a':\n",
    "    print(ch)\n",
    "    ch=chr(ord(ch)-1)"
   ]
  },
  {
   "cell_type": "markdown",
   "metadata": {},
   "source": [
    "9.WAP to print the lowercase character from 'p' to 'c' using while loop."
   ]
  },
  {
   "cell_type": "code",
   "execution_count": null,
   "metadata": {},
   "outputs": [],
   "source": [
    "ch='p'\n",
    "while ch>='c':\n",
    "    print(ch)\n",
    "    ch=chr(ord(ch)-1)"
   ]
  },
  {
   "cell_type": "markdown",
   "metadata": {},
   "source": [
    "10.WAP to print even number ascii character from A to Z "
   ]
  },
  {
   "cell_type": "code",
   "execution_count": null,
   "metadata": {},
   "outputs": [],
   "source": [
    "ch=65\n",
    "while ch<=90:\n",
    "    if ch%2==0:\n",
    "        print(chr(ch))\n",
    "    ch=ch+1   "
   ]
  },
  {
   "cell_type": "markdown",
   "metadata": {},
   "source": [
    "11.WAP to print all the odd characters from 'a' to 'z'."
   ]
  },
  {
   "cell_type": "code",
   "execution_count": 4,
   "metadata": {},
   "outputs": [
    {
     "name": "stdout",
     "output_type": "stream",
     "text": [
      "a\n",
      "c\n",
      "e\n",
      "g\n",
      "i\n",
      "k\n",
      "m\n",
      "o\n",
      "q\n",
      "s\n",
      "u\n",
      "w\n",
      "y\n"
     ]
    }
   ],
   "source": [
    "ch=97\n",
    "while ch<=122:\n",
    "    if ch%2==1:\n",
    "        print(chr(ch))\n",
    "    ch=ch+1"
   ]
  },
  {
   "cell_type": "markdown",
   "metadata": {},
   "source": [
    "12.WAP to count the number of vowels present in D to V."
   ]
  },
  {
   "cell_type": "code",
   "execution_count": 8,
   "metadata": {},
   "outputs": [
    {
     "name": "stdout",
     "output_type": "stream",
     "text": [
      "4\n"
     ]
    }
   ],
   "source": [
    "ch='D'\n",
    "count=0\n",
    "while ch<='v':\n",
    "    if ch in 'AEIOU':\n",
    "        count=count+1\n",
    "    ch=chr(ord(ch)+1)\n",
    "print(count)\n",
    "    "
   ]
  },
  {
   "cell_type": "markdown",
   "metadata": {},
   "source": [
    "WAP to count the number of vowels present in u to e."
   ]
  },
  {
   "cell_type": "code",
   "execution_count": 10,
   "metadata": {},
   "outputs": [
    {
     "name": "stdout",
     "output_type": "stream",
     "text": [
      "4\n"
     ]
    }
   ],
   "source": [
    "ch='e'\n",
    "count=0\n",
    "while ch<='u':\n",
    "    if ch in 'aeiou':\n",
    "        count=count+1\n",
    "    ch=chr(ord(ch)+1)\n",
    "print(count)"
   ]
  },
  {
   "cell_type": "markdown",
   "metadata": {},
   "source": [
    "53.WAP to print the square of the number in between the range from m to n which is multiple of 3."
   ]
  },
  {
   "cell_type": "code",
   "execution_count": 1,
   "metadata": {},
   "outputs": [
    {
     "name": "stdout",
     "output_type": "stream",
     "text": [
      "9\n",
      "36\n",
      "81\n"
     ]
    }
   ],
   "source": [
    "m=1\n",
    "n=10\n",
    "while m<=n:\n",
    "    if m%3==0:\n",
    "        print(m**2)\n",
    "    m=m+1"
   ]
  },
  {
   "cell_type": "markdown",
   "metadata": {},
   "source": [
    "54.WAP which takes an integer number and find the sum of digits and repeat until the sum gets a single digit in the end."
   ]
  },
  {
   "cell_type": "code",
   "execution_count": null,
   "metadata": {},
   "outputs": [],
   "source": []
  },
  {
   "cell_type": "markdown",
   "metadata": {},
   "source": [
    "55.WAP to count the number of 2's between 0 and n."
   ]
  },
  {
   "cell_type": "code",
   "execution_count": 6,
   "metadata": {},
   "outputs": [
    {
     "ename": "KeyboardInterrupt",
     "evalue": "",
     "output_type": "error",
     "traceback": [
      "\u001b[1;31m---------------------------------------------------------------------------\u001b[0m",
      "\u001b[1;31mKeyboardInterrupt\u001b[0m                         Traceback (most recent call last)",
      "Cell \u001b[1;32mIn[6], line 3\u001b[0m\n\u001b[0;32m      1\u001b[0m i\u001b[39m=\u001b[39m\u001b[39m1\u001b[39m\n\u001b[0;32m      2\u001b[0m count\u001b[39m=\u001b[39m\u001b[39m0\u001b[39m\n\u001b[1;32m----> 3\u001b[0m \u001b[39mwhile\u001b[39;00m i\u001b[39m<\u001b[39m\u001b[39m=\u001b[39m\u001b[39m20\u001b[39m:\n\u001b[0;32m      4\u001b[0m     ld\u001b[39m=\u001b[39mi\u001b[39m%\u001b[39m\u001b[39m10\u001b[39m\n\u001b[0;32m      5\u001b[0m     \u001b[39mif\u001b[39;00m ld\u001b[39m==\u001b[39m\u001b[39m2\u001b[39m:\n",
      "\u001b[1;31mKeyboardInterrupt\u001b[0m: "
     ]
    }
   ],
   "source": [
    "i=1\n",
    "count=0\n",
    "while i<=20:\n",
    "    ld=i%10\n",
    "    if ld==2:\n",
    "        count=count+1\n",
    "\n"
   ]
  },
  {
   "cell_type": "markdown",
   "metadata": {},
   "source": [
    "56.WAP to find the maximum product of three numbers from given integer."
   ]
  },
  {
   "cell_type": "code",
   "execution_count": null,
   "metadata": {},
   "outputs": [],
   "source": []
  },
  {
   "cell_type": "markdown",
   "metadata": {},
   "source": [
    "59.WAP to print all the items present in the string between the range from m to n."
   ]
  },
  {
   "cell_type": "code",
   "execution_count": 7,
   "metadata": {},
   "outputs": [
    {
     "name": "stdout",
     "output_type": "stream",
     "text": [
      "A\n",
      "S\n",
      "H\n",
      "S\n",
      "I\n",
      "H\n"
     ]
    }
   ],
   "source": [
    "st='ASHSIH'\n",
    "i=0\n",
    "while i<len(st):\n",
    "    print(st[i])\n",
    "    i=i+1"
   ]
  },
  {
   "cell_type": "markdown",
   "metadata": {},
   "source": [
    "60.WAP to print the uppercase characters in a given string."
   ]
  },
  {
   "cell_type": "code",
   "execution_count": 9,
   "metadata": {},
   "outputs": [
    {
     "name": "stdout",
     "output_type": "stream",
     "text": [
      "ASH\n"
     ]
    }
   ],
   "source": [
    "st='AShisH'\n",
    "i=0\n",
    "res=''\n",
    "while i<len(st):\n",
    "    if 'A'<=st[i]<='Z':\n",
    "        res=res+st[i]\n",
    "    i=i+1\n",
    "print(res)\n"
   ]
  },
  {
   "cell_type": "markdown",
   "metadata": {},
   "source": [
    "61.WAP to print the lowercase character in a given string."
   ]
  },
  {
   "cell_type": "code",
   "execution_count": 10,
   "metadata": {},
   "outputs": [
    {
     "name": "stdout",
     "output_type": "stream",
     "text": [
      "his\n"
     ]
    }
   ],
   "source": [
    "st='AShisH'\n",
    "i=0\n",
    "res=''\n",
    "while i<len(st):\n",
    "    if 'a'<=st[i]<='z':\n",
    "        res=res+st[i]\n",
    "    i=i+1\n",
    "print(res)"
   ]
  },
  {
   "cell_type": "markdown",
   "metadata": {},
   "source": [
    "62.WAP to print the ascii number character in a given string."
   ]
  },
  {
   "cell_type": "code",
   "execution_count": 14,
   "metadata": {},
   "outputs": [
    {
     "name": "stdout",
     "output_type": "stream",
     "text": [
      "47\n"
     ]
    }
   ],
   "source": [
    "st='4b7idH'\n",
    "i=0\n",
    "res=''\n",
    "while i<len(st):\n",
    "    if '0'<=st[i]<='9':\n",
    "        res=res+st[i]\n",
    "    i=i+1\n",
    "print(res)"
   ]
  },
  {
   "cell_type": "markdown",
   "metadata": {},
   "source": [
    "63.WAP to print the special character in a given string."
   ]
  },
  {
   "cell_type": "code",
   "execution_count": 20,
   "metadata": {},
   "outputs": [
    {
     "name": "stdout",
     "output_type": "stream",
     "text": [
      "@#\n"
     ]
    }
   ],
   "source": [
    "st='ash@45#'\n",
    "i=0\n",
    "res=''\n",
    "while i<len(st):\n",
    "    if not('A'<=st[i]<='Z' or 'a'<=st[i]<='z' or '0'<=st[i]<='9'):\n",
    "        res=res+st[i]\n",
    "    i=i+1\n",
    "print(res)"
   ]
  },
  {
   "cell_type": "markdown",
   "metadata": {},
   "source": [
    "64.WAP to print the vowels in the given string."
   ]
  },
  {
   "cell_type": "code",
   "execution_count": 21,
   "metadata": {},
   "outputs": [
    {
     "name": "stdout",
     "output_type": "stream",
     "text": [
      "ao\n"
     ]
    }
   ],
   "source": [
    "st='Mango'\n",
    "i=0\n",
    "res=''\n",
    "while i<len(st):\n",
    "    if st[i] in 'aeiouAEIOU':\n",
    "        res=res+st[i]\n",
    "    i=i+1\n",
    "print(res)"
   ]
  },
  {
   "cell_type": "markdown",
   "metadata": {},
   "source": [
    "65.WAP to print the consonant in a given string."
   ]
  },
  {
   "cell_type": "code",
   "execution_count": 22,
   "metadata": {},
   "outputs": [
    {
     "name": "stdout",
     "output_type": "stream",
     "text": [
      "Mng\n"
     ]
    }
   ],
   "source": [
    "st='Mango'\n",
    "i=0\n",
    "res=''\n",
    "while i<len(st):\n",
    "    if st[i] not in 'aeiouAEIOU':\n",
    "        res=res+st[i]\n",
    "    i=i+1\n",
    "print(res)"
   ]
  },
  {
   "cell_type": "markdown",
   "metadata": {},
   "source": [
    "66.WAP to print the reverse of the character in given string."
   ]
  },
  {
   "cell_type": "code",
   "execution_count": 23,
   "metadata": {},
   "outputs": [
    {
     "name": "stdout",
     "output_type": "stream",
     "text": [
      "N\n",
      "O\n",
      "H\n",
      "T\n",
      "Y\n",
      "P\n"
     ]
    }
   ],
   "source": [
    "st='PYTHON'\n",
    "i=-1\n",
    "while i>-(len(st)+1):\n",
    "    print(st[i])\n",
    "    i=i-1\n",
    "    "
   ]
  },
  {
   "cell_type": "markdown",
   "metadata": {},
   "source": [
    "67.WAP to print the even position values character in given string"
   ]
  },
  {
   "cell_type": "code",
   "execution_count": 24,
   "metadata": {},
   "outputs": [
    {
     "name": "stdout",
     "output_type": "stream",
     "text": [
      "A\n",
      "H\n",
      "S\n"
     ]
    }
   ],
   "source": [
    "st='ASHISH'\n",
    "i=0\n",
    "while i<len(st):\n",
    "    if i%2==0:\n",
    "        print(st[i])\n",
    "    i=i+1"
   ]
  },
  {
   "cell_type": "markdown",
   "metadata": {},
   "source": [
    "68.WAP to print the odd position values character in given string"
   ]
  },
  {
   "cell_type": "code",
   "execution_count": 25,
   "metadata": {},
   "outputs": [
    {
     "name": "stdout",
     "output_type": "stream",
     "text": [
      "S\n",
      "I\n",
      "H\n"
     ]
    }
   ],
   "source": [
    "st='ASHISH'\n",
    "i=0\n",
    "while i<len(st):\n",
    "    if i%2==1:\n",
    "        print(st[i])\n",
    "    i=i+1"
   ]
  },
  {
   "cell_type": "markdown",
   "metadata": {},
   "source": [
    "69.WAP to count the total number of number of characters in a given string.(with len function)"
   ]
  },
  {
   "cell_type": "code",
   "execution_count": 27,
   "metadata": {},
   "outputs": [
    {
     "name": "stdout",
     "output_type": "stream",
     "text": [
      "6\n"
     ]
    }
   ],
   "source": [
    "st='Python'\n",
    "i=0\n",
    "count=0\n",
    "while i<len(st):\n",
    "    count=count+1\n",
    "    i=i+1\n",
    "print(count)\n"
   ]
  },
  {
   "cell_type": "markdown",
   "metadata": {},
   "source": [
    "70.WAP to count the total number of number of characters in a given string.(without len function)"
   ]
  },
  {
   "cell_type": "code",
   "execution_count": 28,
   "metadata": {},
   "outputs": [
    {
     "name": "stdout",
     "output_type": "stream",
     "text": [
      "11\n"
     ]
    }
   ],
   "source": [
    "st='Programming'\n",
    "count=0\n",
    "while st:\n",
    "    count=count+1\n",
    "    st=st[:-1]\n",
    "print(count)"
   ]
  },
  {
   "cell_type": "markdown",
   "metadata": {},
   "source": [
    "71.WAP to count alphabets in a given string."
   ]
  },
  {
   "cell_type": "code",
   "execution_count": null,
   "metadata": {},
   "outputs": [],
   "source": []
  },
  {
   "cell_type": "markdown",
   "metadata": {},
   "source": [
    "72.WAP to count number of uppercase in given string."
   ]
  },
  {
   "cell_type": "code",
   "execution_count": 34,
   "metadata": {},
   "outputs": [
    {
     "name": "stdout",
     "output_type": "stream",
     "text": [
      "6\n"
     ]
    }
   ],
   "source": [
    "st='HeLlOWoRlD'\n",
    "i=0\n",
    "count=0\n",
    "while i<len(st):\n",
    "    if 'A'<=st[i]<='Z':\n",
    "        count=count+1\n",
    "    i=i+1\n",
    "print(count)"
   ]
  },
  {
   "cell_type": "markdown",
   "metadata": {},
   "source": [
    "73.WAP to count number of lowercase character in given string."
   ]
  },
  {
   "cell_type": "code",
   "execution_count": 35,
   "metadata": {},
   "outputs": [
    {
     "name": "stdout",
     "output_type": "stream",
     "text": [
      "4\n"
     ]
    }
   ],
   "source": [
    "st='HeLlOWoRlD'\n",
    "i=0\n",
    "count=0\n",
    "while i<len(st):\n",
    "    if 'a'<=st[i]<='z':\n",
    "        count=count+1\n",
    "    i=i+1\n",
    "print(count)"
   ]
  },
  {
   "cell_type": "markdown",
   "metadata": {},
   "source": [
    "74.WAP to count number of special character in given string."
   ]
  },
  {
   "cell_type": "code",
   "execution_count": 37,
   "metadata": {},
   "outputs": [
    {
     "name": "stdout",
     "output_type": "stream",
     "text": [
      "4\n"
     ]
    }
   ],
   "source": [
    "st='HeL%l&O@Wo#RlD'\n",
    "i=0\n",
    "count=0\n",
    "while i<len(st):\n",
    "    if not('A'<=st[i]<='Z' or 'a'<=st[i]<='z' or '0'<=st[i]<='9'):\n",
    "        count=count+1\n",
    "    i=i+1\n",
    "print(count)"
   ]
  },
  {
   "cell_type": "markdown",
   "metadata": {},
   "source": [
    "75.WAP to count number of uppercase and lowercase character in given string."
   ]
  },
  {
   "cell_type": "code",
   "execution_count": 38,
   "metadata": {},
   "outputs": [
    {
     "name": "stdout",
     "output_type": "stream",
     "text": [
      "10\n"
     ]
    }
   ],
   "source": [
    "st='HeL%l&O@Wo#RlD'\n",
    "i=0\n",
    "count=0\n",
    "while i<len(st):\n",
    "    if ('A'<=st[i]<='Z' or 'a'<=st[i]<='z'):\n",
    "        count=count+1\n",
    "    i=i+1\n",
    "print(count)"
   ]
  },
  {
   "cell_type": "markdown",
   "metadata": {},
   "source": [
    "76.WAP to count the number of ascii numbers in given string."
   ]
  },
  {
   "cell_type": "code",
   "execution_count": 39,
   "metadata": {},
   "outputs": [
    {
     "name": "stdout",
     "output_type": "stream",
     "text": [
      "4\n"
     ]
    }
   ],
   "source": [
    "st='HeL%l&O@Wo#Rl34D76'\n",
    "i=0\n",
    "count=0\n",
    "while i<len(st):\n",
    "    if '0'<=st[i]<='9':\n",
    "        count=count+1\n",
    "    i=i+1\n",
    "print(count)"
   ]
  },
  {
   "cell_type": "markdown",
   "metadata": {},
   "source": [
    "77.WAP to count total number of words in a string."
   ]
  },
  {
   "cell_type": "code",
   "execution_count": 1,
   "metadata": {},
   "outputs": [
    {
     "name": "stdout",
     "output_type": "stream",
     "text": [
      "3\n"
     ]
    }
   ],
   "source": [
    "st='Good Morning World'\n",
    "i=0\n",
    "count=0+1\n",
    "while i<len(st):\n",
    "    if st[i]==' ':\n",
    "        count=count+1\n",
    "    i=i+1\n",
    "print(count)"
   ]
  },
  {
   "cell_type": "markdown",
   "metadata": {},
   "source": [
    "78.WAP to count total number of spaces in a string."
   ]
  },
  {
   "cell_type": "code",
   "execution_count": 41,
   "metadata": {},
   "outputs": [
    {
     "name": "stdout",
     "output_type": "stream",
     "text": [
      "2\n"
     ]
    }
   ],
   "source": [
    "st='Good Morning World'\n",
    "i=0\n",
    "count=0\n",
    "while i<len(st):\n",
    "    if st[i]==' ':\n",
    "        count=count+1\n",
    "    i=i+1\n",
    "print(count)"
   ]
  },
  {
   "cell_type": "markdown",
   "metadata": {},
   "source": [
    "79.WAP to count number of vowels in a string."
   ]
  },
  {
   "cell_type": "code",
   "execution_count": 42,
   "metadata": {},
   "outputs": [
    {
     "name": "stdout",
     "output_type": "stream",
     "text": [
      "5\n"
     ]
    }
   ],
   "source": [
    "st='GoodMorningWorld'\n",
    "i=0\n",
    "count=0\n",
    "while i<len(st):\n",
    "    if st[i] in 'aeiouAEIOU':\n",
    "        count=count+1\n",
    "    i=i+1\n",
    "print(count)"
   ]
  },
  {
   "cell_type": "markdown",
   "metadata": {},
   "source": [
    "80.WAP to count number of consonants in a string."
   ]
  },
  {
   "cell_type": "code",
   "execution_count": 43,
   "metadata": {},
   "outputs": [
    {
     "name": "stdout",
     "output_type": "stream",
     "text": [
      "11\n"
     ]
    }
   ],
   "source": [
    "st='GoodMorningWorld'\n",
    "i=0\n",
    "count=0\n",
    "while i<len(st):\n",
    "    if st[i] not in 'aeiouAEIOU':\n",
    "        count=count+1\n",
    "    i=i+1\n",
    "print(count)"
   ]
  },
  {
   "cell_type": "markdown",
   "metadata": {},
   "source": [
    "81.WAP to count number of vowels consonants in a string."
   ]
  },
  {
   "cell_type": "code",
   "execution_count": 45,
   "metadata": {},
   "outputs": [
    {
     "name": "stdout",
     "output_type": "stream",
     "text": [
      "5 11\n"
     ]
    }
   ],
   "source": [
    "st='GoodMorningWorld'\n",
    "i=0\n",
    "vowels,consonant=0,0\n",
    "while i<len(st):\n",
    "    if st[i] in 'aeiouAEIOU':\n",
    "        vowels=vowels+1\n",
    "    else:\n",
    "        consonant=consonant+1\n",
    "    i=i+1\n",
    "print(vowels,consonant)\n"
   ]
  },
  {
   "cell_type": "markdown",
   "metadata": {},
   "source": [
    "82.WAP to count number of new lines in a given string."
   ]
  },
  {
   "cell_type": "code",
   "execution_count": 5,
   "metadata": {},
   "outputs": [
    {
     "name": "stdout",
     "output_type": "stream",
     "text": [
      "3\n"
     ]
    }
   ],
   "source": [
    "st='''Hello\n",
    "        bye\n",
    "        hiii'''\n",
    "i=0\n",
    "count=1\n",
    "while i<len(st):\n",
    "    if st[i]=='\\n':\n",
    "        count=count+1\n",
    "    i=i+1\n",
    "print(count)"
   ]
  },
  {
   "cell_type": "markdown",
   "metadata": {},
   "source": [
    "83.WAP to count number of lines in a given string."
   ]
  },
  {
   "cell_type": "code",
   "execution_count": null,
   "metadata": {},
   "outputs": [],
   "source": []
  },
  {
   "cell_type": "markdown",
   "metadata": {},
   "source": [
    "84.WAP to count alphabets, numbers, and special characters in a given string."
   ]
  },
  {
   "cell_type": "code",
   "execution_count": 46,
   "metadata": {},
   "outputs": [
    {
     "name": "stdout",
     "output_type": "stream",
     "text": [
      "Alphabets 10\n",
      "Numbers 4\n",
      "Specical Character 4\n"
     ]
    }
   ],
   "source": [
    "st='HeL%l&O@Wo#RlD4322'\n",
    "i=0\n",
    "alph,numb,spch=0,0,0\n",
    "while i<len(st):\n",
    "    if 'A'<=st[i]<='Z' or 'a'<=st[i]<='z':\n",
    "        alph+=1\n",
    "    elif '0'<=st[i]<='9':\n",
    "        numb+=1\n",
    "    else:\n",
    "        spch+=1\n",
    "    i+=1\n",
    "print('Alphabets',alph)\n",
    "print('Numbers',numb)\n",
    "print('Specical Character',spch)"
   ]
  },
  {
   "cell_type": "markdown",
   "metadata": {},
   "source": [
    "85.WAP to count the total number of words in first line of the Doc String."
   ]
  },
  {
   "cell_type": "code",
   "execution_count": null,
   "metadata": {},
   "outputs": [],
   "source": [
    "st='''Hello\n",
    "        bye\n",
    "        hiii'''\n"
   ]
  }
 ],
 "metadata": {
  "kernelspec": {
   "display_name": "Python 3",
   "language": "python",
   "name": "python3"
  },
  "language_info": {
   "codemirror_mode": {
    "name": "ipython",
    "version": 3
   },
   "file_extension": ".py",
   "mimetype": "text/x-python",
   "name": "python",
   "nbconvert_exporter": "python",
   "pygments_lexer": "ipython3",
   "version": "3.11.4"
  },
  "orig_nbformat": 4
 },
 "nbformat": 4,
 "nbformat_minor": 2
}
