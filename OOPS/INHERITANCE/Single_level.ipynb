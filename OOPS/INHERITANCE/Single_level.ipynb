{
 "cells": [
  {
   "cell_type": "code",
   "execution_count": 5,
   "metadata": {},
   "outputs": [
    {
     "name": "stdout",
     "output_type": "stream",
     "text": [
      "10 20\n",
      "100 200\n"
     ]
    }
   ],
   "source": [
    "class A:\n",
    "    x=10\n",
    "    y=20\n",
    "\n",
    "class B(A):\n",
    "    m=100\n",
    "    n=200\n",
    "\n",
    "print(B.x,B.y)\n",
    "print(B.m,B.n)"
   ]
  },
  {
   "cell_type": "code",
   "execution_count": 6,
   "metadata": {},
   "outputs": [
    {
     "name": "stdout",
     "output_type": "stream",
     "text": [
      "10\n",
      "Haii Hello\n",
      "50 50 50\n",
      "50 500 500\n",
      "50 500 1000\n",
      "500\n",
      "50\n"
     ]
    },
    {
     "ename": "AttributeError",
     "evalue": "type object 'parent' has no attribute 'a'",
     "output_type": "error",
     "traceback": [
      "\u001b[1;31m---------------------------------------------------------------------------\u001b[0m",
      "\u001b[1;31mAttributeError\u001b[0m                            Traceback (most recent call last)",
      "\u001b[1;32mc:\\Users\\HP\\Documents\\GitHub\\Basic_of_python_programs\\OOPS\\INHERITANCE\\Single_level.ipynb Cell 2\u001b[0m line \u001b[0;36m3\n\u001b[0;32m     <a href='vscode-notebook-cell:/c%3A/Users/HP/Documents/GitHub/Basic_of_python_programs/OOPS/INHERITANCE/Single_level.ipynb#W1sZmlsZQ%3D%3D?line=26'>27</a>\u001b[0m \u001b[39mprint\u001b[39m(child\u001b[39m.\u001b[39ma)  \n\u001b[0;32m     <a href='vscode-notebook-cell:/c%3A/Users/HP/Documents/GitHub/Basic_of_python_programs/OOPS/INHERITANCE/Single_level.ipynb#W1sZmlsZQ%3D%3D?line=28'>29</a>\u001b[0m \u001b[39mdel\u001b[39;00m parent\u001b[39m.\u001b[39ma\n\u001b[1;32m---> <a href='vscode-notebook-cell:/c%3A/Users/HP/Documents/GitHub/Basic_of_python_programs/OOPS/INHERITANCE/Single_level.ipynb#W1sZmlsZQ%3D%3D?line=29'>30</a>\u001b[0m \u001b[39mprint\u001b[39m(parent\u001b[39m.\u001b[39;49ma)\n",
      "\u001b[1;31mAttributeError\u001b[0m: type object 'parent' has no attribute 'a'"
     ]
    }
   ],
   "source": [
    "class parent:\n",
    "    a=10\n",
    "    def __init__(self,x,y):\n",
    "        self.x=x\n",
    "        self.y=y\n",
    "\n",
    "class child(parent):\n",
    "    pass\n",
    "obj = child('Haii','Hello')\n",
    "\n",
    "print(obj.a)\n",
    "print(obj.x, obj.y)\n",
    "\n",
    "parent.a = 50\n",
    "print(parent.a, child.a, obj.a)\n",
    "\n",
    "child.a = 500\n",
    "print(parent.a, child.a, obj.a)\n",
    "\n",
    "obj.a = 1000\n",
    "print(parent.a, child.a, obj.a)\n",
    "\n",
    "del obj.a\n",
    "print(obj.a)            #It deleted the reinitialize value\n",
    "\n",
    "del child.a\n",
    "print(child.a)  \n",
    "\n",
    "del parent.a\n",
    "print(parent.a)"
   ]
  },
  {
   "cell_type": "code",
   "execution_count": 7,
   "metadata": {},
   "outputs": [
    {
     "name": "stdout",
     "output_type": "stream",
     "text": [
      "{'__module__': '__main__', 'a': 10, 'b': 20, '__dict__': <attribute '__dict__' of 'sample' objects>, '__weakref__': <attribute '__weakref__' of 'sample' objects>, '__doc__': None}\n",
      "10 20\n",
      "{'__module__': '__main__', '__doc__': None}\n",
      "10 20\n"
     ]
    }
   ],
   "source": [
    "class sample:\n",
    "    a=10\n",
    "    b=20\n",
    "print(sample.__dict__)\n",
    "print(sample.a, sample.b)\n",
    "\n",
    "class demo(sample):\n",
    "    pass\n",
    "print(demo.__dict__)\n",
    "print(demo.a, demo.b)"
   ]
  },
  {
   "cell_type": "code",
   "execution_count": 8,
   "metadata": {},
   "outputs": [
    {
     "name": "stdout",
     "output_type": "stream",
     "text": [
      "{'__module__': '__main__', 'a': 10, 'b': 20, '__dict__': <attribute '__dict__' of 'sample' objects>, '__weakref__': <attribute '__weakref__' of 'sample' objects>, '__doc__': None}\n",
      "10 20\n",
      "{'__module__': '__main__', 'a': 1500, '__doc__': None}\n",
      "1500 20\n",
      "10 20\n"
     ]
    }
   ],
   "source": [
    "class sample:\n",
    "    a=10\n",
    "    b=20\n",
    "print(sample.__dict__)\n",
    "print(sample.a, sample.b)\n",
    "\n",
    "class demo(sample):\n",
    "    a=1500\n",
    "\n",
    "print(demo.__dict__)\n",
    "print(demo.a, demo.b)\n",
    "print(sample.a, sample.b)"
   ]
  },
  {
   "cell_type": "code",
   "execution_count": 9,
   "metadata": {},
   "outputs": [
    {
     "name": "stdout",
     "output_type": "stream",
     "text": [
      "{'__module__': '__main__', 'a': 10, 'b': 20, '__dict__': <attribute '__dict__' of 'sample' objects>, '__weakref__': <attribute '__weakref__' of 'sample' objects>, '__doc__': None}\n",
      "10 20\n"
     ]
    },
    {
     "ename": "NameError",
     "evalue": "name 'a' is not defined",
     "output_type": "error",
     "traceback": [
      "\u001b[1;31m---------------------------------------------------------------------------\u001b[0m",
      "\u001b[1;31mNameError\u001b[0m                                 Traceback (most recent call last)",
      "\u001b[1;32mc:\\Users\\HP\\Documents\\GitHub\\Basic_of_python_programs\\OOPS\\INHERITANCE\\Single_level.ipynb Cell 5\u001b[0m line \u001b[0;36m7\n\u001b[0;32m      <a href='vscode-notebook-cell:/c%3A/Users/HP/Documents/GitHub/Basic_of_python_programs/OOPS/INHERITANCE/Single_level.ipynb#W4sZmlsZQ%3D%3D?line=3'>4</a>\u001b[0m \u001b[39mprint\u001b[39m(sample\u001b[39m.\u001b[39m\u001b[39m__dict__\u001b[39m)\n\u001b[0;32m      <a href='vscode-notebook-cell:/c%3A/Users/HP/Documents/GitHub/Basic_of_python_programs/OOPS/INHERITANCE/Single_level.ipynb#W4sZmlsZQ%3D%3D?line=4'>5</a>\u001b[0m \u001b[39mprint\u001b[39m(sample\u001b[39m.\u001b[39ma, sample\u001b[39m.\u001b[39mb)\n\u001b[1;32m----> <a href='vscode-notebook-cell:/c%3A/Users/HP/Documents/GitHub/Basic_of_python_programs/OOPS/INHERITANCE/Single_level.ipynb#W4sZmlsZQ%3D%3D?line=6'>7</a>\u001b[0m \u001b[39mclass\u001b[39;49;00m \u001b[39mdemo\u001b[39;49;00m(sample):\n\u001b[0;32m      <a href='vscode-notebook-cell:/c%3A/Users/HP/Documents/GitHub/Basic_of_python_programs/OOPS/INHERITANCE/Single_level.ipynb#W4sZmlsZQ%3D%3D?line=7'>8</a>\u001b[0m     \u001b[39mdel\u001b[39;49;00m a\n\u001b[0;32m     <a href='vscode-notebook-cell:/c%3A/Users/HP/Documents/GitHub/Basic_of_python_programs/OOPS/INHERITANCE/Single_level.ipynb#W4sZmlsZQ%3D%3D?line=9'>10</a>\u001b[0m \u001b[39mprint\u001b[39m(demo\u001b[39m.\u001b[39m\u001b[39m__dict__\u001b[39m)\n",
      "\u001b[1;32mc:\\Users\\HP\\Documents\\GitHub\\Basic_of_python_programs\\OOPS\\INHERITANCE\\Single_level.ipynb Cell 5\u001b[0m line \u001b[0;36m8\n\u001b[0;32m      <a href='vscode-notebook-cell:/c%3A/Users/HP/Documents/GitHub/Basic_of_python_programs/OOPS/INHERITANCE/Single_level.ipynb#W4sZmlsZQ%3D%3D?line=6'>7</a>\u001b[0m \u001b[39mclass\u001b[39;00m \u001b[39mdemo\u001b[39;00m(sample):\n\u001b[1;32m----> <a href='vscode-notebook-cell:/c%3A/Users/HP/Documents/GitHub/Basic_of_python_programs/OOPS/INHERITANCE/Single_level.ipynb#W4sZmlsZQ%3D%3D?line=7'>8</a>\u001b[0m     \u001b[39mdel\u001b[39;00m a\n",
      "\u001b[1;31mNameError\u001b[0m: name 'a' is not defined"
     ]
    }
   ],
   "source": [
    "class sample:\n",
    "    a=10\n",
    "    b=20\n",
    "print(sample.__dict__)\n",
    "print(sample.a, sample.b)\n",
    "\n",
    "class demo(sample):\n",
    "    del a\n",
    "\n",
    "print(demo.__dict__)\n",
    "print(demo.a, demo.b)\n",
    "print(sample.a, sample.b)"
   ]
  },
  {
   "cell_type": "code",
   "execution_count": 1,
   "metadata": {},
   "outputs": [
    {
     "name": "stdout",
     "output_type": "stream",
     "text": [
      "{'__module__': '__main__', 'a': 10, 'b': 20, '__init__': <function sample.__init__ at 0x000002BE654A5C60>, '__dict__': <attribute '__dict__' of 'sample' objects>, '__weakref__': <attribute '__weakref__' of 'sample' objects>, '__doc__': None}\n",
      "10 20\n",
      "{'x': 'Abc', 'y': 'Bcd'} 10 20 Abc Bcd\n",
      "{'__module__': '__main__', 'm': 500, '__doc__': None}\n",
      "{'x': '123', 'y': '345'} 10 20 123 345 500\n",
      "10 20\n"
     ]
    }
   ],
   "source": [
    "class sample:\n",
    "    a=10\n",
    "    b=20\n",
    "    def __init__(self,x,y):\n",
    "        self.x = x\n",
    "        self.y = y\n",
    "\n",
    "print(sample.__dict__)\n",
    "print(sample.a, sample.b)\n",
    "obj = sample('Abc', 'Bcd')\n",
    "print(obj.__dict__, obj.a, obj.b, obj.x, obj.y)\n",
    "\n",
    "class demo(sample):\n",
    "    m=500\n",
    "print(demo.__dict__)\n",
    "\n",
    "obj1 = demo('123', '345')\n",
    "\n",
    "print(obj1.__dict__,obj1.a, obj1.b, obj1.x, obj1.y, obj1.m)\n",
    "print(sample.a, sample.b)"
   ]
  },
  {
   "cell_type": "code",
   "execution_count": 3,
   "metadata": {},
   "outputs": [
    {
     "name": "stdout",
     "output_type": "stream",
     "text": [
      "10 20\n",
      "{'x': 'rama', 'y': 'hari'}\n",
      "{'__module__': '__main__', 'm': 5000, '__doc__': None}\n",
      "{'x': '123', 'y': '345'}\n"
     ]
    }
   ],
   "source": [
    "class sample:\n",
    "    a=10\n",
    "    b=20\n",
    "    def __init__(self,x,y):\n",
    "        self.x=x\n",
    "        self.y=y\n",
    "print(sample.a,sample.b)\n",
    "obj=sample('rama','hari')\n",
    "print(obj.__dict__)\n",
    "\n",
    "class demo(sample):\n",
    "    m=5000\n",
    "obj1=demo('123','345')\n",
    "print(demo.__dict__)\n",
    "print(obj1.__dict__)"
   ]
  },
  {
   "cell_type": "code",
   "execution_count": 6,
   "metadata": {},
   "outputs": [
    {
     "name": "stdout",
     "output_type": "stream",
     "text": [
      "{'__module__': '__main__', 'a': 150, '__init__': <function parent.__init__ at 0x0000018A2D6574C0>, '__dict__': <attribute '__dict__' of 'parent' objects>, '__weakref__': <attribute '__weakref__' of 'parent' objects>, '__doc__': None}\n",
      "{'__module__': '__main__', 'b': 600, '__init__': <function child.__init__ at 0x0000018A2D654AE0>, '__doc__': None}\n",
      "{'x': 'ram'} 150 ram\n",
      "{'m': 'gopal'} 150 600 gopal\n"
     ]
    }
   ],
   "source": [
    "#OVERRIDING Concept\n",
    "class parent:\n",
    "    a = 150\n",
    "    def __init__(self,x):\n",
    "        self.x = x\n",
    "class child(parent):\n",
    "    b=600\n",
    "    def __init__(self, m):\n",
    "        self.m = m\n",
    "\n",
    "obj = parent('ram')\n",
    "obj2 = child('gopal')\n",
    "\n",
    "print(parent.__dict__)\n",
    "\n",
    "print(child.__dict__)\n",
    "\n",
    "print(obj.__dict__, obj.a, obj.x)\n",
    "\n",
    "print(obj2.__dict__, obj2.a, obj2.b, obj2.m)\n"
   ]
  },
  {
   "cell_type": "code",
   "execution_count": 3,
   "metadata": {},
   "outputs": [
    {
     "name": "stdout",
     "output_type": "stream",
     "text": [
      "{'name': 'dinga', 'roll': 103, 'phone': 9135385728, 'email': 'dinga23@gmail.com', 'marks': 98, 'age': 21}\n"
     ]
    }
   ],
   "source": [
    "class student:\n",
    "    def __init__(self, name, roll, phone):\n",
    "        self.name =  name\n",
    "        self.roll = roll\n",
    "        self.phone = phone\n",
    "        \n",
    "rahul = student('rahul', '101', 9013526788)\n",
    "rani = student('rani', '102', 9054318833)\n",
    "\n",
    "class student2(student):\n",
    "    def __init__(self, name, roll, phone, email, marks, age):\n",
    "        super().__init__(name, roll, phone)       \n",
    "        # student.__init__(self, name, roll, phone)     #or\n",
    "        # super(student2, self).__init__(name, roll, phone)     #or\n",
    "        self.email = email\n",
    "        self.marks = marks\n",
    "        self.age = age\n",
    "\n",
    "dinga=student2('dinga', 103, 9135385728, 'dinga23@gmail.com', 98, 21)\n",
    "\n",
    "print(dinga.__dict__)"
   ]
  },
  {
   "cell_type": "code",
   "execution_count": 2,
   "metadata": {},
   "outputs": [
    {
     "name": "stdout",
     "output_type": "stream",
     "text": [
      "{'sname': 'Ajay', 'sage': 23, 'sphone': 9876543212}\n",
      "{'sname': 'bijay', 'sage': 24, 'sphone': 9125678344, 'semail': 'bijay@gmail.com', 'smarks': 90}\n"
     ]
    }
   ],
   "source": [
    "class college:\n",
    "    cname = 'driems'\n",
    "    def __init__(self, sname, sage, sphone):\n",
    "        self.sname = sname\n",
    "        self.sage = sage\n",
    "        self.sphone = sphone\n",
    "ajay = college('Ajay', 23, 9876543212)\n",
    "print(ajay.__dict__)\n",
    "\n",
    "class college1(college):\n",
    "    def __init__(self, sname, sage, sphone, semail, smarks):\n",
    "        super().__init__(sname, sage, sphone)\n",
    "        self.semail = semail\n",
    "        self.smarks = smarks\n",
    "bijay = college1('bijay', 24, 9125678344, 'bijay@gmail.com', 90)\n",
    "print(bijay.__dict__)"
   ]
  }
 ],
 "metadata": {
  "kernelspec": {
   "display_name": "Python 3",
   "language": "python",
   "name": "python3"
  },
  "language_info": {
   "codemirror_mode": {
    "name": "ipython",
    "version": 3
   },
   "file_extension": ".py",
   "mimetype": "text/x-python",
   "name": "python",
   "nbconvert_exporter": "python",
   "pygments_lexer": "ipython3",
   "version": "3.12.0"
  }
 },
 "nbformat": 4,
 "nbformat_minor": 2
}
