{
 "cells": [
  {
   "cell_type": "markdown",
   "metadata": {},
   "source": [
    "1.WAP to print the uppercase character from 'A' to 'Z' using while loop."
   ]
  },
  {
   "cell_type": "code",
   "execution_count": null,
   "metadata": {},
   "outputs": [],
   "source": [
    "ch = 'A'\n",
    "while ch<='Z':\n",
    "    print(ch)\n",
    "    ch = chr(ord(ch)+1)"
   ]
  },
  {
   "cell_type": "markdown",
   "metadata": {},
   "source": [
    "2.WAP to print the lowercase character from 'a' to 'z' using while loop."
   ]
  },
  {
   "cell_type": "code",
   "execution_count": null,
   "metadata": {},
   "outputs": [],
   "source": [
    "ch='a'\n",
    "while ch<='z':\n",
    "    print(ch)\n",
    "    ch=chr(ord(ch)+1)"
   ]
  },
  {
   "cell_type": "markdown",
   "metadata": {},
   "source": [
    "3.WAP to print the ASCII number characters from '0' to '9' using while loop"
   ]
  },
  {
   "cell_type": "code",
   "execution_count": null,
   "metadata": {},
   "outputs": [],
   "source": [
    "ch='0'\n",
    "while ch<='9':\n",
    "    print(ch)\n",
    "    ch=chr(ord(ch)+1)"
   ]
  },
  {
   "cell_type": "markdown",
   "metadata": {},
   "source": [
    "4.WAP to print the uppercase character from 'E' to 'U' using while loop."
   ]
  },
  {
   "cell_type": "code",
   "execution_count": null,
   "metadata": {},
   "outputs": [],
   "source": [
    "ch='E'\n",
    "while ch<='U':\n",
    "    print(ch)\n",
    "    ch=chr(ord(ch)+1)"
   ]
  },
  {
   "cell_type": "markdown",
   "metadata": {},
   "source": [
    "5.WAP to print the uppercase character from 'Z' to 'A' using while loop."
   ]
  },
  {
   "cell_type": "code",
   "execution_count": null,
   "metadata": {},
   "outputs": [],
   "source": [
    "ch='Z'\n",
    "while ch>='A':\n",
    "    print(ch)\n",
    "    ch=chr(ord(ch)-1)"
   ]
  },
  {
   "cell_type": "markdown",
   "metadata": {},
   "source": [
    "6.WAP to print the uppercase character from 'U' to 'G' using while loop."
   ]
  },
  {
   "cell_type": "code",
   "execution_count": null,
   "metadata": {},
   "outputs": [],
   "source": [
    "ch='U'\n",
    "while ch>='G':\n",
    "    print(ch)\n",
    "    ch=chr(ord(ch)-1)"
   ]
  },
  {
   "cell_type": "markdown",
   "metadata": {},
   "source": [
    "7.WAP to print the lowercase character from 'i' to 'y' using while loop."
   ]
  },
  {
   "cell_type": "code",
   "execution_count": null,
   "metadata": {},
   "outputs": [],
   "source": [
    "ch='i'\n",
    "while ch<='y':\n",
    "    print(ch)\n",
    "    ch=chr(ord(ch)+1)"
   ]
  },
  {
   "cell_type": "markdown",
   "metadata": {},
   "source": [
    "8.WAP to print the lowercase character from 'z' to 'a' using while loop."
   ]
  },
  {
   "cell_type": "code",
   "execution_count": null,
   "metadata": {},
   "outputs": [],
   "source": [
    "ch='z'\n",
    "while ch>='a':\n",
    "    print(ch)\n",
    "    ch=chr(ord(ch)-1)"
   ]
  },
  {
   "cell_type": "markdown",
   "metadata": {},
   "source": [
    "9.WAP to print the lowercase character from 'p' to 'c' using while loop."
   ]
  },
  {
   "cell_type": "code",
   "execution_count": null,
   "metadata": {},
   "outputs": [],
   "source": [
    "ch='p'\n",
    "while ch>='c':\n",
    "    print(ch)\n",
    "    ch=chr(ord(ch)-1)"
   ]
  },
  {
   "cell_type": "markdown",
   "metadata": {},
   "source": [
    "10.WAP to print even number ascii character from A to Z "
   ]
  },
  {
   "cell_type": "code",
   "execution_count": null,
   "metadata": {},
   "outputs": [],
   "source": [
    "ch=65\n",
    "while ch<=90:\n",
    "    if ch%2==0:\n",
    "        print(chr(ch))\n",
    "    ch=ch+1   "
   ]
  }
 ],
 "metadata": {
  "language_info": {
   "name": "python"
  },
  "orig_nbformat": 4
 },
 "nbformat": 4,
 "nbformat_minor": 2
}
