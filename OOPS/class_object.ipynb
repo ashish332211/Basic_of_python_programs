{
 "cells": [
  {
   "cell_type": "code",
   "execution_count": 1,
   "metadata": {},
   "outputs": [],
   "source": [
    "class mobile:\n",
    "    cname='iphone'\n",
    "    model=None\n",
    "    price=None\n",
    "    ram=None\n",
    "    rom=None"
   ]
  },
  {
   "cell_type": "code",
   "execution_count": 2,
   "metadata": {},
   "outputs": [],
   "source": [
    "obj1=mobile()\n",
    "obj2=mobile()\n",
    "obj3=mobile()"
   ]
  },
  {
   "cell_type": "code",
   "execution_count": 3,
   "metadata": {},
   "outputs": [
    {
     "data": {
      "text/plain": [
       "mappingproxy({'__module__': '__main__',\n",
       "              'cname': 'iphone',\n",
       "              'model': None,\n",
       "              'price': None,\n",
       "              'ram': None,\n",
       "              'rom': None,\n",
       "              '__dict__': <attribute '__dict__' of 'mobile' objects>,\n",
       "              '__weakref__': <attribute '__weakref__' of 'mobile' objects>,\n",
       "              '__doc__': None})"
      ]
     },
     "execution_count": 3,
     "metadata": {},
     "output_type": "execute_result"
    }
   ],
   "source": [
    "mobile.__dict__"
   ]
  },
  {
   "cell_type": "code",
   "execution_count": 4,
   "metadata": {},
   "outputs": [
    {
     "data": {
      "text/plain": [
       "{}"
      ]
     },
     "execution_count": 4,
     "metadata": {},
     "output_type": "execute_result"
    }
   ],
   "source": [
    "obj1.__dict__\n",
    "obj2.__dict__\n",
    "obj3.__dict__"
   ]
  },
  {
   "cell_type": "code",
   "execution_count": 5,
   "metadata": {},
   "outputs": [
    {
     "name": "stdout",
     "output_type": "stream",
     "text": [
      "iphone None\n",
      "iphone None\n"
     ]
    }
   ],
   "source": [
    "print(mobile.cname,mobile.price)\n",
    "print(obj1.cname,obj1.price)"
   ]
  },
  {
   "cell_type": "code",
   "execution_count": 6,
   "metadata": {},
   "outputs": [
    {
     "name": "stdout",
     "output_type": "stream",
     "text": [
      "iphone None\n",
      "iphone None\n"
     ]
    }
   ],
   "source": [
    "print(mobile.cname,mobile.price)\n",
    "print(obj1.cname,obj1.price)"
   ]
  },
  {
   "cell_type": "code",
   "execution_count": 14,
   "metadata": {},
   "outputs": [
    {
     "name": "stdout",
     "output_type": "stream",
     "text": [
      "{}\n",
      "Oneplus {'model': 'Oneplus nord', 'ram': '16gb', 'rom': '256gb', 'processor': 'mediatak 8', 'price': '35000', 'IMEI': 'abc123'}\n"
     ]
    }
   ],
   "source": [
    "class Mobile:\n",
    "    cname='Oneplus'\n",
    "    model=None\n",
    "    ram=None\n",
    "    rom=None\n",
    "    processor=None\n",
    "    price=None\n",
    "    IMEI=None\n",
    "\n",
    "obj1=Mobile()\n",
    "\n",
    "print(obj1.__dict__)\n",
    "obj1.model='Oneplus nord'\n",
    "obj1.ram='16gb'\n",
    "obj1.rom='256gb'\n",
    "obj1.processor='mediatak 8'\n",
    "obj1.price='35000'\n",
    "obj1.IMEI='abc123'\n",
    "print(obj1.cname,obj1.__dict__)"
   ]
  },
  {
   "cell_type": "code",
   "execution_count": 17,
   "metadata": {},
   "outputs": [
    {
     "name": "stdout",
     "output_type": "stream",
     "text": [
      "{}\n",
      "Oneplus {'model': 'Oneplus nord', 'ram': '16gb', 'rom': '256gb', 'processor': 'mediatak 8', 'price': '35000', 'IMEI': 'abc456'}\n"
     ]
    }
   ],
   "source": [
    "class mobile:\n",
    "    cname='Oneplus'\n",
    "    model=None\n",
    "    ram=None\n",
    "    rom=None\n",
    "    processor=None\n",
    "    price=None\n",
    "    IMEI=None\n",
    "\n",
    "obj9=mobile()\n",
    "\n",
    "def create(self,m_model,m_ram,m_rom,m_processor,m_price,m_IMEI):\n",
    "    print(self.__dict__)\n",
    "    self.model=m_model\n",
    "    self.ram=m_ram\n",
    "    self.rom=m_rom\n",
    "    self.processor=m_processor\n",
    "    self.price=m_price\n",
    "    self.IMEI=m_IMEI\n",
    "    print(self.cname,self.__dict__)\n",
    "create(obj9,'Oneplus nord','16gb','256gb','mediatak 8','35000','abc456')"
   ]
  },
  {
   "cell_type": "code",
   "execution_count": 48,
   "metadata": {},
   "outputs": [
    {
     "ename": "NameError",
     "evalue": "name 'create' is not defined",
     "output_type": "error",
     "traceback": [
      "\u001b[1;31m---------------------------------------------------------------------------\u001b[0m",
      "\u001b[1;31mNameError\u001b[0m                                 Traceback (most recent call last)",
      "\u001b[1;32mc:\\Users\\HP\\Documents\\GitHub\\Basic_of_python_programs\\OOPS\\class_object.ipynb Cell 9\u001b[0m line \u001b[0;36m1\n\u001b[0;32m     <a href='vscode-notebook-cell:/c%3A/Users/HP/Documents/GitHub/Basic_of_python_programs/OOPS/class_object.ipynb#X11sZmlsZQ%3D%3D?line=10'>11</a>\u001b[0m         \u001b[39mprint\u001b[39m(\u001b[39mself\u001b[39m\u001b[39m.\u001b[39mcname,\u001b[39mself\u001b[39m\u001b[39m.\u001b[39m\u001b[39m__dict__\u001b[39m)\n\u001b[0;32m     <a href='vscode-notebook-cell:/c%3A/Users/HP/Documents/GitHub/Basic_of_python_programs/OOPS/class_object.ipynb#X11sZmlsZQ%3D%3D?line=12'>13</a>\u001b[0m obj9\u001b[39m=\u001b[39mmobile()\n\u001b[1;32m---> <a href='vscode-notebook-cell:/c%3A/Users/HP/Documents/GitHub/Basic_of_python_programs/OOPS/class_object.ipynb#X11sZmlsZQ%3D%3D?line=13'>14</a>\u001b[0m create(\u001b[39mself\u001b[39m,\u001b[39m'\u001b[39m\u001b[39mOneplus nord\u001b[39m\u001b[39m'\u001b[39m,\u001b[39m'\u001b[39m\u001b[39m16gb\u001b[39m\u001b[39m'\u001b[39m,\u001b[39m'\u001b[39m\u001b[39m256gb\u001b[39m\u001b[39m'\u001b[39m,\u001b[39m'\u001b[39m\u001b[39mmediatak 8\u001b[39m\u001b[39m'\u001b[39m,\u001b[39m'\u001b[39m\u001b[39m35000\u001b[39m\u001b[39m'\u001b[39m,\u001b[39m'\u001b[39m\u001b[39mabc456\u001b[39m\u001b[39m'\u001b[39m)\n",
      "\u001b[1;31mNameError\u001b[0m: name 'create' is not defined"
     ]
    }
   ],
   "source": [
    "class mobile:\n",
    "    cname='Oneplus'\n",
    "    def create(self,m_model,m_ram,m_rom,m_processor,m_price,m_IMEI):\n",
    "        print(self.__dict__)\n",
    "        self.model=m_model\n",
    "        self.ram=m_ram\n",
    "        self.rom=m_rom\n",
    "        self.processor=m_processor\n",
    "        self.price=m_price\n",
    "        self.IMEI=m_IMEI\n",
    "        print(self.cname,self.__dict__)\n",
    "\n",
    "obj9=mobile()\n",
    "create(,'Oneplus nord','16gb','256gb','mediatak 8','35000','abc456')"
   ]
  },
  {
   "cell_type": "code",
   "execution_count": 26,
   "metadata": {},
   "outputs": [
    {
     "name": "stdout",
     "output_type": "stream",
     "text": [
      "{}\n",
      "Oneplus {'model': 'Oneplus nord', 'ram': '16gb', 'rom': '256gb', 'processor': 'mediatak 8', 'price': '35000', 'IMEI': 'abc456'}\n"
     ]
    }
   ],
   "source": [
    "class mobile:\n",
    "    cname='Oneplus'\n",
    "    def __init__(self,m_model,m_ram,m_rom,m_processor,m_price,m_IMEI):\n",
    "        print(self.__dict__)\n",
    "        self.model=m_model\n",
    "        self.ram=m_ram\n",
    "        self.rom=m_rom\n",
    "        self.processor=m_processor\n",
    "        self.price=m_price\n",
    "        self.IMEI=m_IMEI\n",
    "        print(self.cname,self.__dict__)\n",
    "\n",
    "obj9=mobile('Oneplus nord','16gb','256gb','mediatak 8','35000','abc456')"
   ]
  },
  {
   "cell_type": "code",
   "execution_count": 5,
   "metadata": {},
   "outputs": [
    {
     "name": "stdout",
     "output_type": "stream",
     "text": [
      "pyspiders hyd-disk A1 python Haria 45 996454632 ALOP673G haria@gmail.com\n",
      "pyspiders hyd-disk A1 python Rani 40 875734234 FGH768Y rani@gmail.com\n"
     ]
    }
   ],
   "source": [
    "class family:\n",
    "    surname='pyspiders'\n",
    "    address='hyd-disk'\n",
    "    room=3\n",
    "    gothram='python'\n",
    "    batch='A1'\n",
    "    ration='trg5366'\n",
    "    list_details=[]\n",
    "\n",
    "    def __init__(self,f_name,f_age,f_phone,f_pan,f_email):\n",
    "        self.name=f_name\n",
    "        self.age=f_age\n",
    "        self.phone=f_phone\n",
    "        self.email=f_email\n",
    "        self.pan=f_pan\n",
    "        self.list_details+=[self]\n",
    "\n",
    "    def display(self):\n",
    "        print(self.surname,self.address,self.batch,self.gothram,self.name,self.age,self.phone,self.pan,self.email)\n",
    "\n",
    "    def list_d(self):\n",
    "        for self in self.list_details:\n",
    "            print(self.surname,self.address,self.batch,self.gothram,self.name,self.age,self.phone,self.pan,self.email)\n",
    "\n",
    "father=family('Haria',45,996454632,'ALOP673G','haria@gmail.com')\n",
    "mother=family('Rani',40,875734234,'FGH768Y','rani@gmail.com')\n",
    "son=family('Madana',22,78942157367,'HIFD877Y','madana@gmail.com')\n",
    "daughter1=family('Ranga',16,998573462,'REIH6773H','ranga@gmail.com')\n",
    "daughter2=family('Sukuti',10,6319737723,'HFGJ876T','sukuti@gmail.com')\n",
    "\n",
    "father.display()\n",
    "mother.display()\n",
    "# son.display()\n",
    "# daughter1.display()\n",
    "# daughter2.display()"
   ]
  },
  {
   "cell_type": "code",
   "execution_count": 2,
   "metadata": {},
   "outputs": [
    {
     "name": "stdout",
     "output_type": "stream",
     "text": [
      "JSP ['JAVA', 'WEB', 'SQL', 'TESTING']\n",
      "QSPIDERS ['JAVA', 'WEB', 'SQL', 'TESTING']\n",
      "QSPIDERS ['JAVA', 'WEB', 'SQL', 'TESTING'] 35000\n"
     ]
    }
   ],
   "source": [
    "#static states\n",
    "class college:\n",
    "    cname='JSP'\n",
    "    subject=['JAVA','WEB','SQL','TESTING']\n",
    "\n",
    "print(college.cname,college.subject)\n",
    "college.cname='QSPIDERS'\n",
    "print(college.cname,college.subject)\n",
    "college.fee=35000\n",
    "print(college.cname,college.subject,college.fee)\n",
    "del college.subject\n",
    "# print(college.subject)"
   ]
  },
  {
   "cell_type": "code",
   "execution_count": 4,
   "metadata": {},
   "outputs": [
    {
     "name": "stdout",
     "output_type": "stream",
     "text": [
      "rama 120967 103\n",
      "Haria 120967 103\n",
      "Haria 120967 103 9876543213\n"
     ]
    },
    {
     "ename": "AttributeError",
     "evalue": "'college' object has no attribute 'room_no'",
     "output_type": "error",
     "traceback": [
      "\u001b[1;31m---------------------------------------------------------------------------\u001b[0m",
      "\u001b[1;31mAttributeError\u001b[0m                            Traceback (most recent call last)",
      "\u001b[1;32mc:\\Users\\HP\\Documents\\GitHub\\Basic_of_python_programs\\OOPS\\class_object.ipynb Cell 13\u001b[0m line \u001b[0;36m1\n\u001b[0;32m     <a href='vscode-notebook-cell:/c%3A/Users/HP/Documents/GitHub/Basic_of_python_programs/OOPS/class_object.ipynb#X15sZmlsZQ%3D%3D?line=12'>13</a>\u001b[0m \u001b[39mprint\u001b[39m(stud\u001b[39m.\u001b[39mname,stud\u001b[39m.\u001b[39mid,stud\u001b[39m.\u001b[39mroom_no,stud\u001b[39m.\u001b[39mphone)\n\u001b[0;32m     <a href='vscode-notebook-cell:/c%3A/Users/HP/Documents/GitHub/Basic_of_python_programs/OOPS/class_object.ipynb#X15sZmlsZQ%3D%3D?line=13'>14</a>\u001b[0m \u001b[39mdel\u001b[39;00m stud\u001b[39m.\u001b[39mroom_no\n\u001b[1;32m---> <a href='vscode-notebook-cell:/c%3A/Users/HP/Documents/GitHub/Basic_of_python_programs/OOPS/class_object.ipynb#X15sZmlsZQ%3D%3D?line=14'>15</a>\u001b[0m \u001b[39mprint\u001b[39m(stud\u001b[39m.\u001b[39;49mroom_no)\n",
      "\u001b[1;31mAttributeError\u001b[0m: 'college' object has no attribute 'room_no'"
     ]
    }
   ],
   "source": [
    "#non static states\n",
    "class college:\n",
    "    def __init__(self,name,id,room_no):\n",
    "        self.name=name\n",
    "        self.id=id\n",
    "        self.room_no=room_no\n",
    "stud=college('rama',120967,103)\n",
    "\n",
    "print(stud.name,stud.id,stud.room_no)\n",
    "stud.name='Haria'\n",
    "print(stud.name,stud.id,stud.room_no)\n",
    "stud.phone=9876543213\n",
    "print(stud.name,stud.id,stud.room_no,stud.phone)\n",
    "del stud.room_no\n",
    "print(stud.room_no)\n"
   ]
  },
  {
   "cell_type": "code",
   "execution_count": 32,
   "metadata": {},
   "outputs": [
    {
     "name": "stdout",
     "output_type": "stream",
     "text": [
      "JSP ['JAVA', 'WEB', 'SQL', 'TESTING']\n",
      "JSP ['JAVA', 'WEB', 'SQL', 'TESTING']\n",
      "JSP ['JAVA', 'WEB', 'SQL', 'TESTING']\n",
      "JSP ['JAVA', 'WEB', 'SQL', 'TESTING']\n"
     ]
    }
   ],
   "source": [
    "#static states\n",
    "#Only for Display the value\n",
    "class college:\n",
    "    cname='JSP'\n",
    "    subject=['JAVA','WEB','SQL','TESTING']\n",
    "\n",
    "print(college.cname,college.subject)\n",
    "\n",
    "\n",
    "#To display the value by using method(Inside the Class)\n",
    "class college:\n",
    "    cname='JSP'\n",
    "    subject=['JAVA','WEB','SQL','TESTING']\n",
    "\n",
    "def display(cls):\n",
    "    print(cls.cname,cls.subject)\n",
    "display(college)\n",
    "\n",
    "\n",
    "#To display the value by using method(Outside the Class)\n",
    "class college:\n",
    "    cname='JSP'\n",
    "    subject=['JAVA','WEB','SQL','TESTING']\n",
    "\n",
    "    def display1(cls):\n",
    "        print(cls.cname,cls.subject)\n",
    "college.display1(college)\n",
    "\n",
    "\n",
    "class college:\n",
    "    cname='JSP'\n",
    "    subject=['JAVA','WEB','SQL','TESTING']\n",
    "\n",
    "    @classmethod\n",
    "    def display1(cls):\n",
    "        print(cls.cname,cls.subject)\n",
    "\n",
    "college.display1()"
   ]
  },
  {
   "cell_type": "code",
   "execution_count": 10,
   "metadata": {},
   "outputs": [
    {
     "name": "stdout",
     "output_type": "stream",
     "text": [
      "JSP ['JAVA', 'WEB', 'SQL', 'TESTING']\n",
      "pysp ['JAVA', 'WEB', 'SQL', 'TESTING']\n"
     ]
    }
   ],
   "source": [
    "#All the functionalities\n",
    "class college:\n",
    "    cname='JSP'\n",
    "    subject=['JAVA','WEB','SQL','TESTING']\n",
    "\n",
    "    @classmethod\n",
    "    def display1(cls):\n",
    "        print(cls.cname,cls.subject)\n",
    "\n",
    "    @classmethod\n",
    "    def modify(cls):\n",
    "        n=int(input(\"Choose The Option: \\n1.cname\\n2.subject\\n3.exit\"))\n",
    "        match n:\n",
    "            case 1:\n",
    "                cls.cname=input(\"Enter The New cname:\")\n",
    "            case 2:\n",
    "                cls.subject=eval(input(\"Enter The New subject:\"))\n",
    "            case _:\n",
    "                return\n",
    "        return\n",
    "    \n",
    "    @classmethod\n",
    "    def delete(cls):\n",
    "        n=int(input(\"Choose The Option: \\n1.cname\\n2.subject\\n3.exit\"))\n",
    "        match n:\n",
    "            case 1:\n",
    "                del cls.cname\n",
    "            case 2:\n",
    "                del cls.subject\n",
    "            case _:\n",
    "                return\n",
    "\n",
    "    @classmethod\n",
    "    def concat(cls,new):\n",
    "        cls.new=input(\"Enter The Value\")\n",
    "        return\n",
    "\n",
    "college.display1()\n",
    "college.modify()\n",
    "college.display1()\n",
    "# college.delete()\n",
    "# college.display1()\n",
    "# college.concat()\n",
    "# college.display1()"
   ]
  },
  {
   "cell_type": "code",
   "execution_count": 32,
   "metadata": {},
   "outputs": [
    {
     "name": "stdout",
     "output_type": "stream",
     "text": [
      "raghua 100 20\n",
      "Rama 111 25\n"
     ]
    }
   ],
   "source": [
    "class college:\n",
    "    s_name='raghua'\n",
    "    s_roll=100\n",
    "    s_age=20\n",
    "\n",
    "    def display(cls):\n",
    "        print(cls.s_name,cls.s_roll,cls.s_age)\n",
    "\n",
    "    def change(cls,ns_name,ns_roll,ns_age):\n",
    "        cls.s_name=ns_name\n",
    "        cls.s_roll=ns_roll\n",
    "        cls.s_age=ns_age\n",
    "\n",
    "obj=college()\n",
    "obj.display()\n",
    "obj.change('Rama',111,25)\n",
    "obj.display()\n",
    "# print(obj.s_name,obj.s_roll,obj.s_age)\n"
   ]
  },
  {
   "cell_type": "code",
   "execution_count": 13,
   "metadata": {},
   "outputs": [
    {
     "name": "stdout",
     "output_type": "stream",
     "text": [
      "{'name': 'ramya', 'age': 26, 'phone': 9876543212, 'email': 'ramya34@gmail.com'}\n",
      "ramya 26 9876543212 ramya34@gmail.com\n",
      "ramya 26 9876543212 ramyashree876@gmail.com\n",
      "{'name': 'ramya', 'age': 26, 'phone': 9876543212, 'email': 'ramyashree876@gmail.com', 'passport': True}\n",
      "ramya 26 9876543212 ramyashree876@gmail.com True\n",
      "{'name': 'ramya', 'age': 26, 'phone': 9876543212, 'passport': True}\n"
     ]
    },
    {
     "ename": "AttributeError",
     "evalue": "'college' object has no attribute 'email'",
     "output_type": "error",
     "traceback": [
      "\u001b[1;31m---------------------------------------------------------------------------\u001b[0m",
      "\u001b[1;31mAttributeError\u001b[0m                            Traceback (most recent call last)",
      "\u001b[1;32mc:\\Users\\HP\\Documents\\GitHub\\Basic_of_python_programs\\OOPS\\class_object.ipynb Cell 16\u001b[0m line \u001b[0;36m2\n\u001b[0;32m     <a href='vscode-notebook-cell:/c%3A/Users/HP/Documents/GitHub/Basic_of_python_programs/OOPS/class_object.ipynb#X21sZmlsZQ%3D%3D?line=18'>19</a>\u001b[0m \u001b[39mdel\u001b[39;00m ramya\u001b[39m.\u001b[39memail\n\u001b[0;32m     <a href='vscode-notebook-cell:/c%3A/Users/HP/Documents/GitHub/Basic_of_python_programs/OOPS/class_object.ipynb#X21sZmlsZQ%3D%3D?line=19'>20</a>\u001b[0m \u001b[39mprint\u001b[39m(ramya\u001b[39m.\u001b[39m\u001b[39m__dict__\u001b[39m)\n\u001b[1;32m---> <a href='vscode-notebook-cell:/c%3A/Users/HP/Documents/GitHub/Basic_of_python_programs/OOPS/class_object.ipynb#X21sZmlsZQ%3D%3D?line=20'>21</a>\u001b[0m \u001b[39mprint\u001b[39m(ramya\u001b[39m.\u001b[39mname,ramya\u001b[39m.\u001b[39mage,ramya\u001b[39m.\u001b[39mphone,ramya\u001b[39m.\u001b[39;49memail,ramya\u001b[39m.\u001b[39mpassport)\n",
      "\u001b[1;31mAttributeError\u001b[0m: 'college' object has no attribute 'email'"
     ]
    }
   ],
   "source": [
    "class college:\n",
    "    def __init__(self,s_name,s_age,s_phone,s_email):\n",
    "        self.name=s_name\n",
    "        self.age=s_age\n",
    "        self.phone=s_phone\n",
    "        self.email=s_email\n",
    "ramya=college('ramya',26,9876543212,'ramya34@gmail.com')\n",
    "print(ramya.__dict__)\n",
    "\n",
    "print(ramya.name,ramya.age,ramya.phone,ramya.email)\n",
    "\n",
    "ramya.email='ramyashree876@gmail.com'\n",
    "print(ramya.name,ramya.age,ramya.phone,ramya.email)\n",
    "\n",
    "ramya.passport=True\n",
    "print(ramya.__dict__)\n",
    "print(ramya.name,ramya.age,ramya.phone,ramya.email,ramya.passport)\n",
    "\n",
    "del ramya.email\n",
    "print(ramya.__dict__)\n",
    "print(ramya.name,ramya.age,ramya.phone,ramya.email,ramya.passport)\n"
   ]
  },
  {
   "cell_type": "code",
   "execution_count": 35,
   "metadata": {},
   "outputs": [
    {
     "name": "stdout",
     "output_type": "stream",
     "text": [
      "ramya 26 ramya34@gmail.com 9876543212\n",
      "{'name': 'ramya', 'age': 26, 'phone': 9876543212, 'email': 'ramya34@gmail.com', 'passport': True, 'cid': '12345'}\n"
     ]
    }
   ],
   "source": [
    "class college:\n",
    "    def __init__(self,s_name,s_age,s_phone,s_email):\n",
    "        self.name=s_name\n",
    "        self.age=s_age\n",
    "        self.phone=s_phone\n",
    "        self.email=s_email\n",
    "ramya=college('ramya',26,9876543212,'ramya34@gmail.com')\n",
    "\n",
    "def display(self):\n",
    "    print(self.name,self.age,self.email,self.phone)\n",
    "display(ramya)\n",
    "\n",
    "def modify(self):\n",
    "    n=int(input(\"Choose 1.name\\n2.email\\n3.phone\\n4.age\\n5.exit\\nselect:\"))\n",
    "    match n:\n",
    "        case 1:\n",
    "            self.name=input(\"Enter the name:\")\n",
    "        case 2:\n",
    "            self.email=input(\"Enter the email:\")\n",
    "        case 3:\n",
    "            self.phonel=input(\"Enter the phone no:\")\n",
    "        case 4:\n",
    "            self.age=input(\"Enter the age:\")\n",
    "        case _:\n",
    "            return\n",
    "    return\n",
    "# modify(ramya)\n",
    "# display(ramya)\n",
    "\n",
    "def concat(self):\n",
    "    self.passport=eval(input(\"Passport is there or not\"))\n",
    "    self.cid=input(\"Enter your college id: \")\n",
    "concat(ramya)\n",
    "\n",
    "def delete(self):\n",
    "    n=int(input(\"Choose 1.name\\n2.email\\n3.phone\\n4.age\\n5.exit\\nselect:\"))\n",
    "    match n:\n",
    "        case 1:\n",
    "            self.name\n",
    "        case 2:\n",
    "            self.email\n",
    "        case 3:\n",
    "            self.phone\n",
    "        case 4:\n",
    "            self.age\n",
    "        case _:\n",
    "            return\n",
    "    return\n",
    "# delete(ramya)\n",
    "# display(ramya)\n",
    "\n",
    "print(ramya.__dict__)"
   ]
  },
  {
   "cell_type": "code",
   "execution_count": 45,
   "metadata": {},
   "outputs": [
    {
     "name": "stdout",
     "output_type": "stream",
     "text": [
      "ramya 26 ramya34@gmail.com 9876543212\n",
      "ramu 26 ramya34@gmail.com 9876543212\n"
     ]
    }
   ],
   "source": [
    "#INSIDE THE FUNCTION\n",
    "class college:\n",
    "    def __init__(self,s_name,s_age,s_phone,s_email):\n",
    "        self.name=s_name\n",
    "        self.age=s_age\n",
    "        self.phone=s_phone\n",
    "        self.email=s_email\n",
    "\n",
    "    def display(self):\n",
    "        print(self.name,self.age,self.email,self.phone)\n",
    "\n",
    "    def modify(self):\n",
    "        n=int(input(\"Choose 1.name\\n2.email\\n3.phone\\n4.age\\n5.exit\\nselect:\"))\n",
    "        match n:\n",
    "            case 1:\n",
    "                self.name=input(\"Enter the name:\")\n",
    "            case 2:\n",
    "                self.email=input(\"Enter the email:\")\n",
    "            case 3:\n",
    "                self.phone=input(\"Enter the phone no:\")\n",
    "            case 4:\n",
    "                self.age=input(\"Enter the age:\")\n",
    "            case _:\n",
    "                return\n",
    "        return\n",
    "    \n",
    "    def concat(self):\n",
    "        self.passport=eval(input(\"Passport is there or not\"))\n",
    "\n",
    "    def delete(self):\n",
    "        n=int(input(\"Choose 1.name\\n2.email\\n3.phone\\n4.age\\n5.exit\\nselect:\"))\n",
    "        match n:\n",
    "            case 1:\n",
    "                self.name\n",
    "            case 2:\n",
    "                self.email\n",
    "            case 3:\n",
    "                self.phone\n",
    "            case 4:\n",
    "                self.age\n",
    "            case _:\n",
    "                return\n",
    "        return\n",
    "\n",
    "# n=input(\"Enter Your Name: \")   \n",
    "ramya=college('ramya',26,9876543212,'ramya34@gmail.com')\n",
    "\n",
    "# ramya=college('ramya',26,9876543212,'ramya34@gmail.com')\n",
    "# print(ramya.__dict__)\n",
    "\n",
    "ramya.display()\n",
    "ramya.modify()\n",
    "ramya.display()\n",
    "# ramya.concat()\n",
    "# ramya.delete()\n",
    "# print(ramya.__dict__)"
   ]
  },
  {
   "cell_type": "code",
   "execution_count": null,
   "metadata": {},
   "outputs": [],
   "source": []
  }
 ],
 "metadata": {
  "kernelspec": {
   "display_name": "Python 3",
   "language": "python",
   "name": "python3"
  },
  "language_info": {
   "codemirror_mode": {
    "name": "ipython",
    "version": 3
   },
   "file_extension": ".py",
   "mimetype": "text/x-python",
   "name": "python",
   "nbconvert_exporter": "python",
   "pygments_lexer": "ipython3",
   "version": "3.12.0"
  }
 },
 "nbformat": 4,
 "nbformat_minor": 2
}
