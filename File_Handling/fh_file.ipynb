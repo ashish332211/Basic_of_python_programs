{
 "cells": [
  {
   "cell_type": "code",
   "execution_count": 2,
   "metadata": {},
   "outputs": [
    {
     "name": "stdout",
     "output_type": "stream",
     "text": [
      "<_io.TextIOWrapper name='file1.txt' mode='w' encoding='cp1252'>\n"
     ]
    }
   ],
   "source": [
    "#Open the file or existing file\n",
    "#It will accept the file path address with extention\n",
    "#It provide the mode (It will take permission form the operating system)\n",
    "#It will return the file pointer address(file wrapper)\n",
    "\n",
    "fp = open('file1.txt', 'w')\n",
    "print(fp)\n",
    "\n",
    "#It will close the file pointer connection\n",
    "fp.close()"
   ]
  },
  {
   "cell_type": "code",
   "execution_count": 5,
   "metadata": {},
   "outputs": [],
   "source": [
    "fp = open('file1.txt', 'w')\n",
    "fp.write(\"Hello Everyone\")\n",
    "fp.close()"
   ]
  },
  {
   "cell_type": "code",
   "execution_count": 6,
   "metadata": {},
   "outputs": [
    {
     "name": "stdout",
     "output_type": "stream",
     "text": [
      "Hello Everyone\n"
     ]
    }
   ],
   "source": [
    "fp = open('file1.txt', 'r')\n",
    "res=fp.read()\n",
    "print(res)\n",
    "fp.close()"
   ]
  },
  {
   "cell_type": "code",
   "execution_count": 7,
   "metadata": {},
   "outputs": [],
   "source": [
    "fp = open('file1.txt', 'a')\n",
    "fp.write('How Are You')\n",
    "fp.close()"
   ]
  },
  {
   "cell_type": "code",
   "execution_count": 2,
   "metadata": {},
   "outputs": [
    {
     "name": "stdout",
     "output_type": "stream",
     "text": [
      "0\n",
      "40\n"
     ]
    }
   ],
   "source": [
    "fp = open('file2.txt', 'w')\n",
    "print(fp.tell())\n",
    "fp.write('Python is a dynamic programming language')\n",
    "print(fp.tell())\n",
    "fp.close()"
   ]
  },
  {
   "cell_type": "code",
   "execution_count": 3,
   "metadata": {},
   "outputs": [
    {
     "name": "stdout",
     "output_type": "stream",
     "text": [
      "0\n",
      "Python is a dynamic programming language\n",
      "40\n"
     ]
    }
   ],
   "source": [
    "fp = open('file2.txt', 'r')\n",
    "print(fp.tell())\n",
    "res=fp.read()\n",
    "print(res)\n",
    "print(fp.tell())\n",
    "fp.close()"
   ]
  },
  {
   "cell_type": "code",
   "execution_count": 4,
   "metadata": {},
   "outputs": [
    {
     "name": "stdout",
     "output_type": "stream",
     "text": [
      "40\n",
      "70\n"
     ]
    }
   ],
   "source": [
    "fp = open('file2.txt', 'a')\n",
    "print(fp.tell())\n",
    "fp.write('Python is a scripting language')\n",
    "print(fp.tell())\n",
    "fp.close()"
   ]
  },
  {
   "cell_type": "code",
   "execution_count": 10,
   "metadata": {},
   "outputs": [],
   "source": [
    "fp = open('file3.txt', 'w')\n",
    "fp.write('Hiii Hello \\n How Are You')\n",
    "fp.close()"
   ]
  },
  {
   "cell_type": "code",
   "execution_count": 26,
   "metadata": {},
   "outputs": [
    {
     "name": "stdout",
     "output_type": "stream",
     "text": [
      "0\n",
      "30\n",
      "0\n",
      "Python is a scripting language\n",
      "30\n"
     ]
    }
   ],
   "source": [
    "fp = open('file4.text', 'w+')\n",
    "print(fp.tell())\n",
    "fp.write('Python is a scripting language')\n",
    "print(fp.tell())\n",
    "fp.seek(0)\n",
    "print(fp.tell())\n",
    "res = fp.read()\n",
    "print(res)\n",
    "print(fp.tell())\n",
    "fp.close()"
   ]
  },
  {
   "cell_type": "code",
   "execution_count": 27,
   "metadata": {},
   "outputs": [
    {
     "name": "stdout",
     "output_type": "stream",
     "text": [
      "0\n",
      "Python is a scripting language\n",
      "30\n",
      "41\n",
      "Python is a scripting languageHello World\n",
      "41\n"
     ]
    },
    {
     "data": {
      "text/plain": [
       "<function TextIOWrapper.close()>"
      ]
     },
     "execution_count": 27,
     "metadata": {},
     "output_type": "execute_result"
    }
   ],
   "source": [
    "fp = open('file4.text', 'r+')\n",
    "print(fp.tell())\n",
    "res=fp.read()\n",
    "print(res)\n",
    "print(fp.tell())\n",
    "fp.write('Hello World')\n",
    "print(fp.tell())\n",
    "fp.seek(0)\n",
    "res=fp.read()\n",
    "print(res)\n",
    "print(fp.tell())\n",
    "fp.close"
   ]
  },
  {
   "cell_type": "code",
   "execution_count": 28,
   "metadata": {},
   "outputs": [
    {
     "name": "stdout",
     "output_type": "stream",
     "text": [
      "41\n",
      "81\n",
      "0\n",
      "Python is a scripting languageHello World\n",
      " Java is a static programming language\n",
      "81\n"
     ]
    }
   ],
   "source": [
    "fp = open('file4.text', 'a+')\n",
    "print(fp.tell())\n",
    "fp.write('\\n Java is a static programming language')\n",
    "print(fp.tell())\n",
    "fp.seek(0)\n",
    "print(fp.tell())\n",
    "res=fp.read()\n",
    "print(res)\n",
    "print(fp.tell())\n",
    "fp.close()"
   ]
  }
 ],
 "metadata": {
  "kernelspec": {
   "display_name": "Python 3",
   "language": "python",
   "name": "python3"
  },
  "language_info": {
   "codemirror_mode": {
    "name": "ipython",
    "version": 3
   },
   "file_extension": ".py",
   "mimetype": "text/x-python",
   "name": "python",
   "nbconvert_exporter": "python",
   "pygments_lexer": "ipython3",
   "version": "3.12.0"
  }
 },
 "nbformat": 4,
 "nbformat_minor": 2
}
