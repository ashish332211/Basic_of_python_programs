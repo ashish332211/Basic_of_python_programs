{
 "cells": [
  {
   "cell_type": "code",
   "execution_count": 1,
   "id": "138be4ee",
   "metadata": {},
   "outputs": [
    {
     "name": "stdout",
     "output_type": "stream",
     "text": [
      "Hello World\n"
     ]
    }
   ],
   "source": [
    "print('Hello World')"
   ]
  },
  {
   "cell_type": "code",
   "execution_count": 8,
   "id": "cc5e9592",
   "metadata": {},
   "outputs": [
    {
     "name": "stdout",
     "output_type": "stream",
     "text": [
      "My name is Ashish\n",
      "My age is 24\n"
     ]
    }
   ],
   "source": [
    "name = 'Ashish'\n",
    "age = '24'\n",
    "print('My name is', name)\n",
    "print('My age is', age)"
   ]
  },
  {
   "cell_type": "code",
   "execution_count": 1,
   "id": "935d6e9d",
   "metadata": {},
   "outputs": [
    {
     "name": "stdout",
     "output_type": "stream",
     "text": [
      "Inside function:\n",
      "x = 6\n",
      "mylist = [1, 2, 3, 10]\n",
      "\n",
      "Outside function:\n",
      "a = 5\n",
      "b = [1, 2, 3, 10]\n"
     ]
    }
   ],
   "source": [
    "def modify(x, mylist):\n",
    "    x = x + 1           # Immutable: x is an integer\n",
    "    mylist.append(10)   # Mutable: mylist is a list\n",
    "    print(\"Inside function:\")\n",
    "    print(\"x =\", x)\n",
    "    print(\"mylist =\", mylist)\n",
    "\n",
    "# Main code\n",
    "a = 5\n",
    "b = [1, 2, 3]\n",
    "\n",
    "modify(a, b)\n",
    "\n",
    "print(\"\\nOutside function:\")\n",
    "print(\"a =\", a)         # Will remain unchanged\n",
    "print(\"b =\", b)  "
   ]
  },
  {
   "cell_type": "code",
   "execution_count": 9,
   "id": "1163538b",
   "metadata": {},
   "outputs": [
    {
     "name": "stdout",
     "output_type": "stream",
     "text": [
      "['False', 'None', 'True', 'and', 'as', 'assert', 'async', 'await', 'break', 'class', 'continue', 'def', 'del', 'elif', 'else', 'except', 'finally', 'for', 'from', 'global', 'if', 'import', 'in', 'is', 'lambda', 'nonlocal', 'not', 'or', 'pass', 'raise', 'return', 'try', 'while', 'with', 'yield']\n"
     ]
    }
   ],
   "source": [
    "import keyword\n",
    "print(keyword.kwlist)"
   ]
  },
  {
   "cell_type": "code",
   "execution_count": 22,
   "id": "68b693e2",
   "metadata": {},
   "outputs": [
    {
     "name": "stdout",
     "output_type": "stream",
     "text": [
      "Given word is a Python Keyword\n"
     ]
    }
   ],
   "source": [
    "word = 'True'\n",
    "l = keyword.kwlist\n",
    "for i in l:\n",
    "    if i == word:\n",
    "        print('Given word is a Python Keyword')\n"
   ]
  },
  {
   "cell_type": "code",
   "execution_count": 3,
   "id": "ae66455d",
   "metadata": {},
   "outputs": [
    {
     "name": "stdout",
     "output_type": "stream",
     "text": [
      "[10, 99, 30]\n"
     ]
    },
    {
     "ename": "TypeError",
     "evalue": "'tuple' object does not support item assignment",
     "output_type": "error",
     "traceback": [
      "\u001b[1;31m---------------------------------------------------------------------------\u001b[0m",
      "\u001b[1;31mTypeError\u001b[0m                                 Traceback (most recent call last)",
      "Cell \u001b[1;32mIn[3], line 7\u001b[0m\n\u001b[0;32m      4\u001b[0m l[\u001b[38;5;241m1\u001b[39m] \u001b[38;5;241m=\u001b[39m \u001b[38;5;241m99\u001b[39m\n\u001b[0;32m      5\u001b[0m \u001b[38;5;28mprint\u001b[39m(l)\n\u001b[1;32m----> 7\u001b[0m \u001b[43mt\u001b[49m\u001b[43m[\u001b[49m\u001b[38;5;241;43m1\u001b[39;49m\u001b[43m]\u001b[49m \u001b[38;5;241m=\u001b[39m \u001b[38;5;241m99\u001b[39m\n\u001b[0;32m      8\u001b[0m \u001b[38;5;28mprint\u001b[39m(t)\n",
      "\u001b[1;31mTypeError\u001b[0m: 'tuple' object does not support item assignment"
     ]
    }
   ],
   "source": [
    "l = [10, 20, 30]\n",
    "t = (10, 20, 30)\n",
    "\n",
    "l[1] = 99\n",
    "print(l)\n",
    "\n",
    "t[1] = 99\n",
    "print(t)"
   ]
  },
  {
   "cell_type": "code",
   "execution_count": 6,
   "id": "6c9d5313",
   "metadata": {},
   "outputs": [
    {
     "name": "stdout",
     "output_type": "stream",
     "text": [
      "7\n"
     ]
    }
   ],
   "source": [
    "num1 = int(input('Enter 1st number'))\n",
    "num2 = int(input('Enetr 2nd number'))\n",
    "print(num1 + num2)"
   ]
  },
  {
   "cell_type": "code",
   "execution_count": 7,
   "id": "9a79e738",
   "metadata": {},
   "outputs": [
    {
     "name": "stdout",
     "output_type": "stream",
     "text": [
      "b is greater than a\n"
     ]
    }
   ],
   "source": [
    "a = 10\n",
    "b = 20\n",
    "if a > b:\n",
    "    print('a is greater thab b')\n",
    "else:\n",
    "    print('b is greater than a')"
   ]
  },
  {
   "cell_type": "code",
   "execution_count": 1,
   "id": "b1a5b36e",
   "metadata": {},
   "outputs": [
    {
     "name": "stdout",
     "output_type": "stream",
     "text": [
      "45\n",
      "45.0\n",
      "True\n"
     ]
    }
   ],
   "source": [
    "num = input('Enter a string')\n",
    "print(int(num))\n",
    "print(float(num))\n",
    "print(bool(num))"
   ]
  },
  {
   "cell_type": "code",
   "execution_count": 19,
   "id": "2c3703c8",
   "metadata": {},
   "outputs": [
    {
     "name": "stdout",
     "output_type": "stream",
     "text": [
      "10\n",
      "20\n",
      "30\n",
      "40\n",
      "10.0\n",
      "20.0\n",
      "30.0\n",
      "40.0\n",
      "True\n",
      "True\n",
      "True\n",
      "True\n"
     ]
    }
   ],
   "source": [
    "l = ['10', '20', '30', '40']\n",
    "for i in l:\n",
    "    print(int(i))\n",
    "\n",
    "for i in l:\n",
    "    print(float(i))\n",
    "\n",
    "for i in l:\n",
    "    print(bool(i))"
   ]
  },
  {
   "cell_type": "code",
   "execution_count": 24,
   "id": "ff71f4c4",
   "metadata": {},
   "outputs": [
    {
     "name": "stdout",
     "output_type": "stream",
     "text": [
      "The number is Zero\n"
     ]
    }
   ],
   "source": [
    "num = int(input('Enter a number'))\n",
    "if num > 0:\n",
    "    print('Its a positive number')\n",
    "elif num < 0:\n",
    "    print('Its a negetive number')\n",
    "else:\n",
    "    print('The number is Zero')\n"
   ]
  },
  {
   "cell_type": "code",
   "execution_count": 26,
   "id": "d00d0a54",
   "metadata": {},
   "outputs": [
    {
     "name": "stdout",
     "output_type": "stream",
     "text": [
      "1\n",
      "2\n",
      "3\n",
      "4\n",
      "5\n",
      "6\n",
      "7\n",
      "8\n",
      "9\n",
      "10\n"
     ]
    }
   ],
   "source": [
    "for i in range(1, 11):\n",
    "    print(i)"
   ]
  },
  {
   "cell_type": "code",
   "execution_count": 28,
   "id": "2acda9b0",
   "metadata": {},
   "outputs": [
    {
     "name": "stdout",
     "output_type": "stream",
     "text": [
      "650\n"
     ]
    }
   ],
   "source": [
    "sum = 0\n",
    "for i in range(1, 51):\n",
    "    if i % 2 == 0:\n",
    "        sum += i \n",
    "print(sum) \n"
   ]
  },
  {
   "cell_type": "code",
   "execution_count": 29,
   "id": "96c92ceb",
   "metadata": {},
   "outputs": [
    {
     "name": "stdout",
     "output_type": "stream",
     "text": [
      "SLLIKSWP\n"
     ]
    }
   ],
   "source": [
    "st = 'PWSKILLS'\n",
    "start = -1\n",
    "end = -(len(st)+1)\n",
    "res = ''\n",
    "while start>end:\n",
    "    res+=st[start]\n",
    "    start-=1\n",
    "print(res)"
   ]
  },
  {
   "cell_type": "code",
   "execution_count": 38,
   "id": "bbc8eae6",
   "metadata": {},
   "outputs": [
    {
     "name": "stdout",
     "output_type": "stream",
     "text": [
      "100\n"
     ]
    }
   ],
   "source": [
    "num = 10\n",
    "i=1\n",
    "prod = 1\n",
    "while i <= num:\n",
    "    if num % i == 0:\n",
    "        prod *= i\n",
    "    i+=1\n",
    "print(prod)"
   ]
  }
 ],
 "metadata": {
  "kernelspec": {
   "display_name": "Python 3",
   "language": "python",
   "name": "python3"
  },
  "language_info": {
   "codemirror_mode": {
    "name": "ipython",
    "version": 3
   },
   "file_extension": ".py",
   "mimetype": "text/x-python",
   "name": "python",
   "nbconvert_exporter": "python",
   "pygments_lexer": "ipython3",
   "version": "3.12.0"
  }
 },
 "nbformat": 4,
 "nbformat_minor": 5
}
