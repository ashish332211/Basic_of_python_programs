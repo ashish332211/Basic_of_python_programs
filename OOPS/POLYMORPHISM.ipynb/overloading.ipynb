{
 "cells": [
  {
   "cell_type": "markdown",
   "metadata": {},
   "source": [
    "POLYMORPHISM\n",
    "* Method Overriding\n",
    "* Method Overloading\n",
    "* Operator Overloading"
   ]
  },
  {
   "cell_type": "code",
   "execution_count": 1,
   "metadata": {},
   "outputs": [
    {
     "name": "stdout",
     "output_type": "stream",
     "text": [
      "Parent Price 50\n",
      "Child Price 50\n"
     ]
    },
    {
     "ename": "",
     "evalue": "",
     "output_type": "error",
     "traceback": [
      "\u001b[1;31mThe Kernel crashed while executing code in the current cell or a previous cell. \n",
      "\u001b[1;31mPlease review the code in the cell(s) to identify a possible cause of the failure. \n",
      "\u001b[1;31mClick <a href='https://aka.ms/vscodeJupyterKernelCrash'>here</a> for more info. \n",
      "\u001b[1;31mView Jupyter <a href='command:jupyter.viewOutput'>log</a> for further details."
     ]
    }
   ],
   "source": [
    "#Method Overriding\n",
    "# When a method in a subclass has the same name, same parameters or signature and same return type(or sub-type) \n",
    "# as a method in its super-class, then the method in the subclass is said to override the method in the super-class.\n",
    "class apple:\n",
    "    price = 50\n",
    "\n",
    "    @classmethod\n",
    "    def display_price(cls):\n",
    "        print(\"Parent Price\", cls.price)\n",
    "    \n",
    "apple.display_price()\n",
    "\n",
    "class apple2(apple):\n",
    "    # pass\n",
    "\n",
    "    @classmethod\n",
    "    def display_price(cls):\n",
    "        print(\"Child Price\", cls.price)\n",
    "apple2.display_price()"
   ]
  },
  {
   "cell_type": "code",
   "execution_count": 1,
   "metadata": {},
   "outputs": [
    {
     "name": "stdout",
     "output_type": "stream",
     "text": [
      "Inside Parent\n",
      "Inside Child\n"
     ]
    }
   ],
   "source": [
    "# method overriding\n",
    "class Parent(): \n",
    "\n",
    "    def __init__(self): \n",
    "        self.value = \"Inside Parent\"\n",
    "          \n",
    "    def show(self): \n",
    "        print(self.value) \n",
    "        \n",
    "class Child(Parent): \n",
    "    def __init__(self): \n",
    "        self.value = \"Inside Child\"\n",
    "          \n",
    "    def show(self): \n",
    "        print(self.value) \n",
    "\n",
    "obj1 = Parent() \n",
    "obj2 = Child() \n",
    "  \n",
    "obj1.show() \n",
    "obj2.show()"
   ]
  },
  {
   "cell_type": "code",
   "execution_count": 9,
   "metadata": {},
   "outputs": [
    {
     "ename": "TypeError",
     "evalue": "unsupported operand type(s) for +: 'sample' and 'int'",
     "output_type": "error",
     "traceback": [
      "\u001b[1;31m---------------------------------------------------------------------------\u001b[0m",
      "\u001b[1;31mTypeError\u001b[0m                                 Traceback (most recent call last)",
      "Cell \u001b[1;32mIn[9], line 12\u001b[0m\n\u001b[0;32m      9\u001b[0m obj1\u001b[38;5;241m=\u001b[39msample()\n\u001b[0;32m     10\u001b[0m obj2\u001b[38;5;241m=\u001b[39mdemo()\n\u001b[1;32m---> 12\u001b[0m \u001b[43mobj1\u001b[49m\u001b[38;5;241;43m.\u001b[39;49m\u001b[43mvalue\u001b[49m\u001b[43m(\u001b[49m\u001b[43m)\u001b[49m\n",
      "Cell \u001b[1;32mIn[9], line 3\u001b[0m, in \u001b[0;36msample.value\u001b[1;34m(a, b)\u001b[0m\n\u001b[0;32m      2\u001b[0m \u001b[38;5;28;01mdef\u001b[39;00m \u001b[38;5;21mvalue\u001b[39m(a\u001b[38;5;241m=\u001b[39m\u001b[38;5;241m20\u001b[39m, b\u001b[38;5;241m=\u001b[39m\u001b[38;5;241m30\u001b[39m):\n\u001b[1;32m----> 3\u001b[0m     \u001b[38;5;28;01mreturn\u001b[39;00m \u001b[43ma\u001b[49m\u001b[38;5;241;43m+\u001b[39;49m\u001b[43mb\u001b[49m\n",
      "\u001b[1;31mTypeError\u001b[0m: unsupported operand type(s) for +: 'sample' and 'int'"
     ]
    }
   ],
   "source": [
    "class sample():\n",
    "    def value(a=20, b=30):\n",
    "        print(a+b)\n",
    "\n",
    "class demo(sample):\n",
    "    def value(a=20, b=30):\n",
    "        print(a*b)\n",
    "\n",
    "obj1=sample()\n",
    "obj2=demo()\n",
    "\n",
    "obj1.value()"
   ]
  },
  {
   "cell_type": "code",
   "execution_count": 3,
   "metadata": {},
   "outputs": [
    {
     "ename": "TypeError",
     "evalue": "shape.area() missing 1 required positional argument: 'b'",
     "output_type": "error",
     "traceback": [
      "\u001b[1;31m---------------------------------------------------------------------------\u001b[0m",
      "\u001b[1;31mTypeError\u001b[0m                                 Traceback (most recent call last)",
      "Cell \u001b[1;32mIn[3], line 15\u001b[0m\n\u001b[0;32m     12\u001b[0m         \u001b[38;5;28;01mreturn\u001b[39;00m l\u001b[38;5;241m*\u001b[39mb\n\u001b[0;32m     13\u001b[0m obj \u001b[38;5;241m=\u001b[39m shape()\n\u001b[1;32m---> 15\u001b[0m \u001b[43mobj\u001b[49m\u001b[38;5;241;43m.\u001b[39;49m\u001b[43marea\u001b[49m\u001b[43m(\u001b[49m\u001b[38;5;241;43m4\u001b[39;49m\u001b[43m)\u001b[49m\n\u001b[0;32m     16\u001b[0m obj\u001b[38;5;241m.\u001b[39marea(\u001b[38;5;241m4\u001b[39m,\u001b[38;5;241m5\u001b[39m)\n",
      "\u001b[1;31mTypeError\u001b[0m: shape.area() missing 1 required positional argument: 'b'"
     ]
    }
   ],
   "source": [
    "#metod overloading\n",
    "\n",
    "#Method overloading is a concept where inside a class we have multiple function with same name but out is different based on the input\n",
    "#But it doesn't work in python\n",
    "\n",
    "class shape:\n",
    "\n",
    "    def area(self, radius):\n",
    "        return 3.14*radius*radius\n",
    "    \n",
    "    def area(self, l, b):\n",
    "        return l*b\n",
    "obj = shape()\n",
    "\n",
    "obj.area(4)\n",
    "obj.area(4,5)"
   ]
  },
  {
   "cell_type": "code",
   "execution_count": 6,
   "metadata": {},
   "outputs": [
    {
     "name": "stdout",
     "output_type": "stream",
     "text": [
      "50.24\n",
      "20\n"
     ]
    }
   ],
   "source": [
    "# But if we want to solve this problem we can use default arguments also\n",
    "class shape:\n",
    "\n",
    "    def area(self, a, b=0):\n",
    "        if b==0:\n",
    "            return 3.14*a*a\n",
    "        else:\n",
    "            return a*b\n",
    "obj = shape()\n",
    "\n",
    "print(obj.area(4))\n",
    "print(obj.area(4,5))"
   ]
  },
  {
   "cell_type": "code",
   "execution_count": 9,
   "metadata": {},
   "outputs": [
    {
     "name": "stdout",
     "output_type": "stream",
     "text": [
      "3\n",
      "AlekhaMagiha\n",
      "12\n",
      "HiiiiHiiiiHiiiiHiiii\n"
     ]
    }
   ],
   "source": [
    "#Operator Overloading\n",
    "# the same built-in operator or function shows different behavior for objects of different classes, this is called Operator Overloading. \n",
    "\n",
    "# + operator for different purposes.\n",
    "\n",
    "print(1 + 2)\n",
    "\n",
    "# concatenate two strings\n",
    "print(\"Alekha\"+\"Magiha\")\n",
    "\n",
    "# Product two numbers\n",
    "print(3 * 4)\n",
    "\n",
    "# Repeat the String\n",
    "print(\"Hiiii\"*4)"
   ]
  }
 ],
 "metadata": {
  "kernelspec": {
   "display_name": "Python 3",
   "language": "python",
   "name": "python3"
  },
  "language_info": {
   "codemirror_mode": {
    "name": "ipython",
    "version": 3
   },
   "file_extension": ".py",
   "mimetype": "text/x-python",
   "name": "python",
   "nbconvert_exporter": "python",
   "pygments_lexer": "ipython3",
   "version": "3.12.0"
  }
 },
 "nbformat": 4,
 "nbformat_minor": 2
}
