{
 "cells": [
  {
   "cell_type": "code",
   "execution_count": 2,
   "metadata": {},
   "outputs": [
    {
     "name": "stdout",
     "output_type": "stream",
     "text": [
      "56\n",
      "56\n"
     ]
    }
   ],
   "source": [
    "class sample:\n",
    "    _x = 56\n",
    "\n",
    "    @classmethod\n",
    "    def _fetch(cls):\n",
    "        print(cls._x)\n",
    "\n",
    "print(sample._x)\n",
    "sample._fetch()"
   ]
  },
  {
   "cell_type": "code",
   "execution_count": 4,
   "metadata": {},
   "outputs": [
    {
     "name": "stdout",
     "output_type": "stream",
     "text": [
      "56\n",
      "56\n"
     ]
    }
   ],
   "source": [
    "class sample:\n",
    "    _x = 56\n",
    "\n",
    "    @classmethod\n",
    "    def _fetch(cls):\n",
    "        print(cls._x)\n",
    "\n",
    "class demo(sample):\n",
    "    pass\n",
    "\n",
    "print(demo._x)\n",
    "demo._fetch()"
   ]
  },
  {
   "cell_type": "code",
   "execution_count": 6,
   "metadata": {},
   "outputs": [
    {
     "name": "stdout",
     "output_type": "stream",
     "text": [
      "56\n",
      "100\n"
     ]
    }
   ],
   "source": [
    "class sample:\n",
    "    _x = 56\n",
    "\n",
    "    @classmethod\n",
    "    def _fetch(cls):\n",
    "        print(cls._x)\n",
    "\n",
    "print(sample._x)\n",
    "sample._x = 100\n",
    "print(sample._x)"
   ]
  }
 ],
 "metadata": {
  "kernelspec": {
   "display_name": "Python 3",
   "language": "python",
   "name": "python3"
  },
  "language_info": {
   "codemirror_mode": {
    "name": "ipython",
    "version": 3
   },
   "file_extension": ".py",
   "mimetype": "text/x-python",
   "name": "python",
   "nbconvert_exporter": "python",
   "pygments_lexer": "ipython3",
   "version": "3.12.0"
  }
 },
 "nbformat": 4,
 "nbformat_minor": 2
}
