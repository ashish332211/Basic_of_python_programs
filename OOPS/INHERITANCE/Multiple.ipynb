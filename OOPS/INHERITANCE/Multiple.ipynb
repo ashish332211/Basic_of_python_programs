{
 "cells": [
  {
   "cell_type": "code",
   "execution_count": 1,
   "metadata": {},
   "outputs": [
    {
     "name": "stdout",
     "output_type": "stream",
     "text": [
      "100 50 60\n"
     ]
    }
   ],
   "source": [
    "class p1:\n",
    "    a = 100\n",
    "    b = 50\n",
    "    def display(self):\n",
    "        print(self.a, self.b)\n",
    "    \n",
    "class p2:\n",
    "    a = 200\n",
    "    d = 60\n",
    "    def display(self):\n",
    "        print(self.a, self.d)\n",
    "\n",
    "class c(p1,p2):\n",
    "    def display(self):\n",
    "        print(c.a, c.b, c.d)\n",
    "\n",
    "obj = c()\n",
    "obj.display()"
   ]
  },
  {
   "cell_type": "code",
   "execution_count": 2,
   "metadata": {},
   "outputs": [
    {
     "name": "stdout",
     "output_type": "stream",
     "text": [
      "Parent1 100 50\n",
      "Parent1 100 50\n"
     ]
    }
   ],
   "source": [
    "class p1:\n",
    "    a = 100\n",
    "    b = 50\n",
    "    def display(self):\n",
    "        print('Parent1', self.a, self.b)\n",
    "    \n",
    "class p2:\n",
    "    a = 200\n",
    "    d = 60\n",
    "    def display(self):\n",
    "        print('Parent2', self.a, self.d)\n",
    "\n",
    "class c(p1,p2):\n",
    "    def display(self):\n",
    "        super().display()\n",
    "        super().display()\n",
    "\n",
    "obj = c()\n",
    "obj.display()"
   ]
  },
  {
   "cell_type": "code",
   "execution_count": 3,
   "metadata": {},
   "outputs": [
    {
     "name": "stdout",
     "output_type": "stream",
     "text": [
      "Parent1 100 50\n",
      "Parent2 100 60\n"
     ]
    }
   ],
   "source": [
    "class p1:\n",
    "    a = 100\n",
    "    b = 50\n",
    "    def display(self):\n",
    "        print('Parent1', self.a, self.b)\n",
    "    \n",
    "class p2:\n",
    "    a = 200\n",
    "    d = 60\n",
    "    def display(self):\n",
    "        print('Parent2', self.a, self.d)\n",
    "\n",
    "class c(p1,p2):\n",
    "    def display(self):\n",
    "        super().display()\n",
    "        p2.display(self)\n",
    "\n",
    "obj = c()\n",
    "obj.display()"
   ]
  }
 ],
 "metadata": {
  "kernelspec": {
   "display_name": "Python 3",
   "language": "python",
   "name": "python3"
  },
  "language_info": {
   "codemirror_mode": {
    "name": "ipython",
    "version": 3
   },
   "file_extension": ".py",
   "mimetype": "text/x-python",
   "name": "python",
   "nbconvert_exporter": "python",
   "pygments_lexer": "ipython3",
   "version": "3.12.0"
  }
 },
 "nbformat": 4,
 "nbformat_minor": 2
}
