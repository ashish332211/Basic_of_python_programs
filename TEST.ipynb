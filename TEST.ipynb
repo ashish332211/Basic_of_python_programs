{
 "cells": [
  {
   "cell_type": "code",
   "execution_count": 66,
   "metadata": {},
   "outputs": [
    {
     "name": "stdout",
     "output_type": "stream",
     "text": [
      "Spy Number\n",
      "1\n",
      "2\n",
      "3\n",
      "5\n",
      "8\n",
      "13\n",
      "21\n",
      "34\n"
     ]
    }
   ],
   "source": [
    "num=1124\n",
    "sum=0\n",
    "prod=1\n",
    "while num:\n",
    "    ld=num%10\n",
    "    sum=sum+ld\n",
    "    prod=prod*ld\n",
    "    num=num//10\n",
    "if sum==prod:\n",
    "    print('Spy Number')\n",
    "else:\n",
    "    print('Not a Spy Number')\n",
    "\n",
    "a=0\n",
    "b=1\n",
    "n=8\n",
    "i=1\n",
    "while i<=n:\n",
    "    c=a+b\n",
    "    print(c)\n",
    "    a,b=b,c\n",
    "    i=i+1"
   ]
  },
  {
   "cell_type": "code",
   "execution_count": 2,
   "metadata": {},
   "outputs": [
    {
     "data": {
      "text/plain": [
       "26"
      ]
     },
     "execution_count": 2,
     "metadata": {},
     "output_type": "execute_result"
    }
   ],
   "source": [
    "num=78965246\n",
    "def u_sum(num=78965246,sum=0):\n",
    "    while num:\n",
    "        ld=num%10\n",
    "        if ld%2==0:\n",
    "            sum+=ld\n",
    "        num=num//10\n",
    "    return sum\n",
    "u_sum()\n"
   ]
  },
  {
   "cell_type": "code",
   "execution_count": 59,
   "metadata": {},
   "outputs": [
    {
     "data": {
      "text/plain": [
       "148"
      ]
     },
     "execution_count": 59,
     "metadata": {},
     "output_type": "execute_result"
    }
   ],
   "source": [
    "l=[12,14,18,98,65,32,122,34,148]\n",
    "def larger(coll):\n",
    "    if type(coll) in [list,tuple]:\n",
    "        s = coll[0]\n",
    "        for i in range (1,len(coll)):\n",
    "            if s < coll[i]:\n",
    "                s = coll[i]\n",
    "        return s\n",
    "    else:\n",
    "        return 'invalid data'\n",
    "\n",
    "larger(l)"
   ]
  },
  {
   "cell_type": "code",
   "execution_count": 38,
   "metadata": {},
   "outputs": [
    {
     "data": {
      "text/plain": [
       "158"
      ]
     },
     "execution_count": 38,
     "metadata": {},
     "output_type": "execute_result"
    }
   ],
   "source": [
    "l=[12,14,18,98,65,32,122,34,148,149,158]\n",
    "def even_larger(coll):\n",
    "    if type(coll) in [list,tuple]:\n",
    "        s = coll[0]\n",
    "        for i in range (1,len(l)):\n",
    "            if s < coll[i] and coll[i]%2==0:\n",
    "                s = coll[i]\n",
    "        return s\n",
    "    else:\n",
    "        return 'invalid data'\n",
    "\n",
    "even_larger(l)"
   ]
  },
  {
   "cell_type": "code",
   "execution_count": 32,
   "metadata": {},
   "outputs": [
    {
     "data": {
      "text/plain": [
       "'you are how hello hii'"
      ]
     },
     "execution_count": 32,
     "metadata": {},
     "output_type": "execute_result"
    }
   ],
   "source": [
    "st='hii hello how are you'\n",
    "def rev(coll):\n",
    "    s = coll.split()[::-1]\n",
    "    res = ''\n",
    "    for i in s:\n",
    "        res += i\n",
    "        res += ' '\n",
    "    res = res.strip()\n",
    "    return res\n",
    "\n",
    "rev(st)"
   ]
  },
  {
   "cell_type": "code",
   "execution_count": 47,
   "metadata": {},
   "outputs": [
    {
     "name": "stdout",
     "output_type": "stream",
     "text": [
      "['hii', 'hello', 'how', 'are', 'you']\n",
      "['you', 'are', 'how', 'hello', 'hii']\n"
     ]
    },
    {
     "data": {
      "text/plain": [
       "'you are how hello hii'"
      ]
     },
     "execution_count": 47,
     "metadata": {},
     "output_type": "execute_result"
    }
   ],
   "source": [
    "st='hii hello how are you'\n",
    "def rev(coll):\n",
    "    s1 = coll.split()\n",
    "    print(s1)\n",
    "    j=-1\n",
    "    for i in range(0,len(s1)//2):\n",
    "        s1[i],s1[j]=s1[j],s1[i]\n",
    "        j-=1\n",
    "    print(s1)\n",
    "    res=''\n",
    "    for i in s1:\n",
    "        res += i\n",
    "        res += ' '\n",
    "    res = res.strip()\n",
    "    return res\n",
    "\n",
    "rev(st)"
   ]
  },
  {
   "cell_type": "code",
   "execution_count": 17,
   "metadata": {},
   "outputs": [
    {
     "data": {
      "text/plain": [
       "['you', 'are', 'how', 'hello', 'hii']"
      ]
     },
     "execution_count": 17,
     "metadata": {},
     "output_type": "execute_result"
    }
   ],
   "source": [
    "st='hii hello how are you'\n",
    "st.split()[::-1]"
   ]
  },
  {
   "cell_type": "code",
   "execution_count": 1,
   "metadata": {},
   "outputs": [
    {
     "name": "stdout",
     "output_type": "stream",
     "text": [
      "1\n",
      "2\n",
      "6\n",
      "24\n",
      "120\n",
      "720\n",
      "5040\n",
      "40320\n",
      "362880\n",
      "3628800\n"
     ]
    }
   ],
   "source": [
    "def series_fact(s,e):\n",
    "    def fact(num=1,prod=1):\n",
    "        if num==0:\n",
    "            return prod\n",
    "        prod*=num\n",
    "        return fact(num-1, prod)\n",
    "    for i in range(s,e+1):\n",
    "        print(fact(i))\n",
    "\n",
    "series_fact(1,10)"
   ]
  },
  {
   "cell_type": "code",
   "execution_count": 57,
   "metadata": {},
   "outputs": [
    {
     "name": "stdout",
     "output_type": "stream",
     "text": [
      "['www.python.inwww.yahoo.eduwww.kar.nic.in']\n"
     ]
    }
   ],
   "source": [
    "st=['www.google.com','www.python.in','www.yahoo.edu','www.kar.nic.in']\n",
    "# OP: [(com, in, edu, nic.in),{'com':1,'in':1,'edu':1, 'nic.in':1}]\n",
    "\n",
    "def web(coll,count):\n",
    "    l=[]\n",
    "    i=0\n",
    "    c=0\n",
    "    while i<len(coll):\n",
    "        if coll[i]=='.':\n",
    "            c+=1\n",
    "            if c==count:\n",
    "                l+=[]"
   ]
  },
  {
   "cell_type": "code",
   "execution_count": 58,
   "metadata": {},
   "outputs": [
    {
     "name": "stdout",
     "output_type": "stream",
     "text": [
      "('com', 'in', 'edu', 'nic.in')\n",
      "{'com': 1, 'in': 1, 'edu': 1, 'nic.in': 1}\n",
      "[('com', 'in', 'edu', 'nic.in'), {'com': 1, 'in': 1, 'edu': 1, 'nic.in': 1}]\n"
     ]
    }
   ],
   "source": [
    "# 6 wap  op[(com,in,edu,nic.in),{'com':1,'in':1,'edu':1,'nic.in':1}]\n",
    "st=['www.google.com','www.python.in','www.yohoo.edu','www.kar.nic.in']\n",
    "def done(coll,count):\n",
    "    l=[]\n",
    "    i=0\n",
    "    while i<len(coll):\n",
    "        s=coll[i]\n",
    "        x=0\n",
    "        co=0\n",
    "        while x<len(s):\n",
    "            if s[x]==\".\":\n",
    "                co+=1\n",
    "                if co==count:\n",
    "                    l+=[s[x+1:]]\n",
    "            x+=1\n",
    "        i+=1\n",
    "    t=tuple(l)\n",
    "    print(t)\n",
    "    start=0\n",
    "    d={}\n",
    "    ll=[]\n",
    "    while start<len(t):\n",
    "        s1=0\n",
    "        while s1<len(coll):\n",
    "            if t[start] in coll[s1]:\n",
    "                d[t[start]]=1\n",
    "            s1+=1\n",
    "        start+=1\n",
    "    print(d)\n",
    "    ll+=[t,d]\n",
    "    print(ll)\n",
    "done(st,2)"
   ]
  }
 ],
 "metadata": {
  "kernelspec": {
   "display_name": "Python 3",
   "language": "python",
   "name": "python3"
  },
  "language_info": {
   "codemirror_mode": {
    "name": "ipython",
    "version": 3
   },
   "file_extension": ".py",
   "mimetype": "text/x-python",
   "name": "python",
   "nbconvert_exporter": "python",
   "pygments_lexer": "ipython3",
   "version": "3.12.0"
  }
 },
 "nbformat": 4,
 "nbformat_minor": 2
}
