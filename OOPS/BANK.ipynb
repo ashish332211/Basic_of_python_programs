{
 "cells": [
  {
   "cell_type": "code",
   "execution_count": null,
   "metadata": {},
   "outputs": [],
   "source": [
    "class bank:\n",
    "    bname=\"ASHU Bank\"\n",
    "    branch=\"Sabira\"\n",
    "    branch_code=\"4567\"\n",
    "    ifsc=\"ASHU0009067\"\n",
    "    toll_no=1234567898\n",
    "    roi=7\n",
    "    no_cust=0\n",
    "    cust_details={}\n",
    "    def __init__()\n"
   ]
  }
 ],
 "metadata": {
  "language_info": {
   "name": "python"
  }
 },
 "nbformat": 4,
 "nbformat_minor": 2
}
