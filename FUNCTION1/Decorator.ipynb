{
 "cells": [
  {
   "cell_type": "code",
   "execution_count": 2,
   "metadata": {},
   "outputs": [
    {
     "name": "stdout",
     "output_type": "stream",
     "text": [
      "magiha alekha\n",
      "good morning\n"
     ]
    }
   ],
   "source": [
    "def demo():\n",
    "    print('magiha alekha')\n",
    "demo()\n",
    "\n",
    "\n",
    "def sample():\n",
    "    print('good morning')\n",
    "sample()"
   ]
  },
  {
   "cell_type": "code",
   "execution_count": 4,
   "metadata": {},
   "outputs": [
    {
     "name": "stdout",
     "output_type": "stream",
     "text": [
      "**********************\n",
      "How Are You\n",
      "**********************\n"
     ]
    }
   ],
   "source": [
    "def my_decorator(func):\n",
    "    def wrapper():\n",
    "        print('**********************')\n",
    "        func()\n",
    "        print('**********************')\n",
    "    return wrapper\n",
    "\n",
    "def hello():\n",
    "    print('How Are You')\n",
    "\n",
    "a = my_decorator(hello)\n",
    "a()"
   ]
  },
  {
   "cell_type": "code",
   "execution_count": 10,
   "metadata": {},
   "outputs": [
    {
     "name": "stdout",
     "output_type": "stream",
     "text": [
      "110\n",
      "30\n",
      "How Are You Alekha\n",
      "**********************\n"
     ]
    }
   ],
   "source": [
    "def my_decorator(func):\n",
    "    def wrapper(a=40, b=70):\n",
    "        print(a+b)\n",
    "        # print('**********************')\n",
    "        func()\n",
    "        print('**********************')\n",
    "    return wrapper\n",
    "\n",
    "@my_decorator\n",
    "def hello(a=10, b=20):\n",
    "    print(a+b)\n",
    "    print('How Are You Alekha')\n",
    "hello()"
   ]
  },
  {
   "cell_type": "code",
   "execution_count": 6,
   "metadata": {},
   "outputs": [
    {
     "name": "stdout",
     "output_type": "stream",
     "text": [
      "10 20\n",
      "100 200\n"
     ]
    }
   ],
   "source": [
    "def outer(x,y):\n",
    "    print(x,y)\n",
    "    def inner(a,b):\n",
    "        print(a,b)\n",
    "    inner(100,200)\n",
    "outer(10,20)"
   ]
  },
  {
   "cell_type": "code",
   "execution_count": 14,
   "metadata": {},
   "outputs": [
    {
     "name": "stdout",
     "output_type": "stream",
     "text": [
      "30\n",
      "Good Morning\n"
     ]
    }
   ],
   "source": [
    "def outer(func):\n",
    "    def inner(a,b):\n",
    "        print(a+b)\n",
    "        func(a,b)\n",
    "    return inner\n",
    "\n",
    "@outer\n",
    "def sample(a,b):\n",
    "    print('Good Morning')\n",
    "sample(10,20)"
   ]
  },
  {
   "cell_type": "code",
   "execution_count": 9,
   "metadata": {},
   "outputs": [
    {
     "name": "stdout",
     "output_type": "stream",
     "text": [
      "Hiiii\n",
      "30\n",
      "Good Morning\n",
      "Byeee\n"
     ]
    }
   ],
   "source": [
    "def outer(func):\n",
    "    def inner(a,b):\n",
    "        print('Hiiii')\n",
    "        print(a+b)\n",
    "        func(a,b)\n",
    "        print('Byeee')\n",
    "    return inner\n",
    "\n",
    "@outer\n",
    "def sample(a,b):\n",
    "    print('Good Morning')\n",
    "sample(10,20)"
   ]
  },
  {
   "cell_type": "code",
   "execution_count": 5,
   "metadata": {},
   "outputs": [
    {
     "name": "stdout",
     "output_type": "stream",
     "text": [
      "********\n",
      "30\n",
      "*********\n"
     ]
    }
   ],
   "source": [
    "def outer(func):\n",
    "    def inner(a,b):\n",
    "        print('********')\n",
    "        func(a,b)\n",
    "        print('*********')\n",
    "    return inner\n",
    "\n",
    "@outer\n",
    "def hello(a,b):\n",
    "    print(a+b)\n",
    "hello(10,20)"
   ]
  },
  {
   "cell_type": "code",
   "execution_count": 4,
   "metadata": {},
   "outputs": [
    {
     "name": "stdout",
     "output_type": "stream",
     "text": [
      "Hiiii\n",
      "30 Good Morning\n",
      "Byeee\n"
     ]
    }
   ],
   "source": [
    "def outer(func):\n",
    "    def inner(*args,**kwargs):\n",
    "        print('Hiiii')\n",
    "        func(*args,**kwargs)\n",
    "        print('Byeee')\n",
    "    return inner\n",
    "\n",
    "@outer\n",
    "def sample(a,b):\n",
    "    print(a+b,'Good Morning')\n",
    "sample(10,20)"
   ]
  },
  {
   "cell_type": "code",
   "execution_count": 5,
   "metadata": {},
   "outputs": [
    {
     "name": "stdout",
     "output_type": "stream",
     "text": [
      "Testcase 1 => input is 2 output is failed\n",
      "Testcase 2 => input is 3 output is failed\n",
      "Testcase 3 => input is 5 output is failed\n",
      "Testcase 4 => input is 7 output is failed\n",
      "Testcase 5 => input is 19 output is failed\n",
      "Testcase 6 => input is 8 output is passed\n",
      "Testcase 7 => input is 16 output is passed\n",
      "Testcase 8 => input is 122 output is passed\n"
     ]
    }
   ],
   "source": [
    "def check_prime(func):\n",
    "    def inner(*args,**kwargs):\n",
    "        d={2:True,3:True,5:True,7:True,19:True,8:False,16:False,122:False}\n",
    "        count=1\n",
    "        for i in d:\n",
    "            if func(i)==d[i]:\n",
    "                res=f\"Testcase {count} => input is {i} output is passed\"\n",
    "                print(res)\n",
    "            else:\n",
    "                res=f\"Testcase {count} => input is {i} output is failed\"\n",
    "                print(res)\n",
    "            count+=1\n",
    "    return inner\n",
    "\n",
    "\n",
    "@check_prime\n",
    "def prime(n):\n",
    "    for i in range(2,n+1):\n",
    "        if n%i==0:\n",
    "            return False\n",
    "    return True\n",
    "prime()"
   ]
  },
  {
   "cell_type": "code",
   "execution_count": 1,
   "metadata": {},
   "outputs": [
    {
     "name": "stdout",
     "output_type": "stream",
     "text": [
      "Hello World\n",
      "Time Taken By The Function hello 2.001437187194824\n",
      "The Square Is 4\n",
      "Time Taken By The Function square 1.0005662441253662\n",
      "243\n",
      "Time Taken By The Function power 0.0010173320770263672\n"
     ]
    }
   ],
   "source": [
    "import time\n",
    "\n",
    "def timer(func):\n",
    "    def wrapper(*args):\n",
    "        start = time.time()\n",
    "        func(*args)\n",
    "        print('Time Taken By The Function', func.__name__, time.time() - start)\n",
    "    return wrapper\n",
    "\n",
    "@timer\n",
    "def hello():\n",
    "    print('Hello World')\n",
    "    time.sleep(2)\n",
    "\n",
    "@timer\n",
    "def square(num):\n",
    "    time.sleep(1)\n",
    "    print('The Square Is',num**2)\n",
    "\n",
    "@timer\n",
    "def power(a,b):\n",
    "    print(a**b)\n",
    "\n",
    "hello()\n",
    "square(2)\n",
    "power(3,5)"
   ]
  },
  {
   "cell_type": "code",
   "execution_count": 12,
   "metadata": {},
   "outputs": [
    {
     "name": "stdout",
     "output_type": "stream",
     "text": [
      "Hello Magiha How Are You\n",
      "16\n"
     ]
    }
   ],
   "source": [
    "def sanity_check(data_type):\n",
    "    def outer_wrapper(func):\n",
    "        def inner_wrapper(*args):\n",
    "            if type(args[0]) == data_type:\n",
    "                func(*args)\n",
    "            else:\n",
    "                raise TypeError('Eita Magiha hebani...Banda ku pass karuchhu na')\n",
    "        return inner_wrapper\n",
    "    return outer_wrapper\n",
    "\n",
    "@sanity_check(int)\n",
    "def square(num):\n",
    "    print(num**2)\n",
    "\n",
    "@sanity_check(str)\n",
    "def greet(name):\n",
    "    print('Hello', name, 'How Are You')\n",
    "\n",
    "greet('Magiha')\n",
    "square(4)"
   ]
  },
  {
   "cell_type": "code",
   "execution_count": 15,
   "metadata": {},
   "outputs": [
    {
     "name": "stdout",
     "output_type": "stream",
     "text": [
      "before Execution\n",
      "Inside the function\n",
      "after Execution\n",
      "Sum = 3\n"
     ]
    }
   ],
   "source": [
    "def hello_decorator(func):\n",
    "    def inner1(*args, **kwargs):\n",
    "         \n",
    "        print(\"before Execution\")\n",
    "\n",
    "        # getting the returned value\n",
    "        returned_value = func(*args, **kwargs)\n",
    "        print(\"after Execution\")\n",
    "         \n",
    "        # returning the value to the original frame\n",
    "        return returned_value\n",
    "         \n",
    "    return inner1\n",
    "\n",
    " \n",
    "# adding decorator to the function\n",
    "@hello_decorator\n",
    "def sum_two_numbers(a, b):\n",
    "    print(\"Inside the function\")\n",
    "    return a + b\n",
    " \n",
    "a, b = 1, 2\n",
    " \n",
    "# getting the value through return of the function\n",
    "print(\"Sum =\", sum_two_numbers(a, b))"
   ]
  },
  {
   "cell_type": "code",
   "execution_count": 28,
   "metadata": {},
   "outputs": [
    {
     "data": {
      "text/plain": [
       "['WERTY', 'LKH']"
      ]
     },
     "execution_count": 28,
     "metadata": {},
     "output_type": "execute_result"
    }
   ],
   "source": [
    "#Multiple Decorator\n",
    "def decor1(func):\n",
    "    def inner():\n",
    "        return func().upper()\n",
    "    return inner\n",
    "\n",
    "def decor2(func):\n",
    "    def inner():\n",
    "        return func().split()\n",
    "    return inner\n",
    "\n",
    "@decor2\n",
    "@decor1\n",
    "def get_name():\n",
    "    name = input('Enter Your First Name: ')\n",
    "    sr_name = input('Enter Your Second Name: ')\n",
    "    full_name = name + ' ' + sr_name\n",
    "    return full_name\n",
    "get_name()"
   ]
  }
 ],
 "metadata": {
  "kernelspec": {
   "display_name": "Python 3",
   "language": "python",
   "name": "python3"
  },
  "language_info": {
   "codemirror_mode": {
    "name": "ipython",
    "version": 3
   },
   "file_extension": ".py",
   "mimetype": "text/x-python",
   "name": "python",
   "nbconvert_exporter": "python",
   "pygments_lexer": "ipython3",
   "version": "3.12.0"
  }
 },
 "nbformat": 4,
 "nbformat_minor": 2
}
