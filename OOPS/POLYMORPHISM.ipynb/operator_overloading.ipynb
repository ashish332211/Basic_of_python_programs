{
 "cells": [
  {
   "cell_type": "code",
   "execution_count": 1,
   "metadata": {},
   "outputs": [],
   "source": [
    "class sample:\n",
    "    def __init__(self, x):\n",
    "        self.x = x"
   ]
  },
  {
   "cell_type": "code",
   "execution_count": 2,
   "metadata": {},
   "outputs": [
    {
     "ename": "TypeError",
     "evalue": "unsupported operand type(s) for +: 'sample' and 'sample'",
     "output_type": "error",
     "traceback": [
      "\u001b[1;31m---------------------------------------------------------------------------\u001b[0m",
      "\u001b[1;31mTypeError\u001b[0m                                 Traceback (most recent call last)",
      "\u001b[1;32mc:\\Users\\HP\\Documents\\GitHub\\Basic_of_python_programs\\OOPS\\POLYMORPHISM.ipynb\\operator_overloading.ipynb Cell 2\u001b[0m line \u001b[0;36m3\n\u001b[0;32m      <a href='vscode-notebook-cell:/c%3A/Users/HP/Documents/GitHub/Basic_of_python_programs/OOPS/POLYMORPHISM.ipynb/operator_overloading.ipynb#W1sZmlsZQ%3D%3D?line=0'>1</a>\u001b[0m a \u001b[39m=\u001b[39m sample(\u001b[39m150\u001b[39m)\n\u001b[0;32m      <a href='vscode-notebook-cell:/c%3A/Users/HP/Documents/GitHub/Basic_of_python_programs/OOPS/POLYMORPHISM.ipynb/operator_overloading.ipynb#W1sZmlsZQ%3D%3D?line=1'>2</a>\u001b[0m b \u001b[39m=\u001b[39m sample(\u001b[39m250\u001b[39m)\n\u001b[1;32m----> <a href='vscode-notebook-cell:/c%3A/Users/HP/Documents/GitHub/Basic_of_python_programs/OOPS/POLYMORPHISM.ipynb/operator_overloading.ipynb#W1sZmlsZQ%3D%3D?line=2'>3</a>\u001b[0m \u001b[39mprint\u001b[39m(a\u001b[39m+\u001b[39;49mb)\n",
      "\u001b[1;31mTypeError\u001b[0m: unsupported operand type(s) for +: 'sample' and 'sample'"
     ]
    }
   ],
   "source": [
    "a = sample(150)\n",
    "b = sample(250)\n",
    "print(a+b)\n",
    "\n",
    "# TypeError: unsupported operand type(s) for +: 'sample' and 'sample'"
   ]
  },
  {
   "cell_type": "code",
   "execution_count": 3,
   "metadata": {},
   "outputs": [],
   "source": [
    "#To Solve The Above Problem We Have To Perform Operator Overloading\n",
    "class sample:\n",
    "    def __init__(self, x):\n",
    "        self.x = x\n",
    "    \n",
    "    def __add__(self, other):\n",
    "        return self.x + other.x\n",
    "    \n",
    "    def __sub__(self, other):\n",
    "        return self.x - other.x\n",
    "    \n",
    "    def __mul__(self, other):\n",
    "        return self.x * other.x\n",
    "    "
   ]
  },
  {
   "cell_type": "code",
   "execution_count": 7,
   "metadata": {},
   "outputs": [
    {
     "name": "stdout",
     "output_type": "stream",
     "text": [
      "30\n",
      "-10\n",
      "200\n"
     ]
    }
   ],
   "source": [
    "a = sample(10)\n",
    "b = sample(20)\n",
    "\n",
    "print(a+b)\n",
    "print(a-b)\n",
    "print(a*b)"
   ]
  },
  {
   "cell_type": "code",
   "execution_count": 8,
   "metadata": {},
   "outputs": [
    {
     "ename": "TypeError",
     "evalue": "unsupported operand type(s) for +: 'sample' and 'sample'",
     "output_type": "error",
     "traceback": [
      "\u001b[1;31m---------------------------------------------------------------------------\u001b[0m",
      "\u001b[1;31mTypeError\u001b[0m                                 Traceback (most recent call last)",
      "\u001b[1;32mc:\\Users\\HP\\Documents\\GitHub\\Basic_of_python_programs\\OOPS\\POLYMORPHISM.ipynb\\operator_overloading.ipynb Cell 5\u001b[0m line \u001b[0;36m1\n\u001b[0;32m      <a href='vscode-notebook-cell:/c%3A/Users/HP/Documents/GitHub/Basic_of_python_programs/OOPS/POLYMORPHISM.ipynb/operator_overloading.ipynb#W5sZmlsZQ%3D%3D?line=8'>9</a>\u001b[0m a \u001b[39m=\u001b[39m sample(\u001b[39m10\u001b[39m)\n\u001b[0;32m     <a href='vscode-notebook-cell:/c%3A/Users/HP/Documents/GitHub/Basic_of_python_programs/OOPS/POLYMORPHISM.ipynb/operator_overloading.ipynb#W5sZmlsZQ%3D%3D?line=9'>10</a>\u001b[0m b \u001b[39m=\u001b[39m sample(\u001b[39m20\u001b[39m)\n\u001b[1;32m---> <a href='vscode-notebook-cell:/c%3A/Users/HP/Documents/GitHub/Basic_of_python_programs/OOPS/POLYMORPHISM.ipynb/operator_overloading.ipynb#W5sZmlsZQ%3D%3D?line=10'>11</a>\u001b[0m a\u001b[39m+\u001b[39;49mb\n",
      "\u001b[1;31mTypeError\u001b[0m: unsupported operand type(s) for +: 'sample' and 'sample'"
     ]
    }
   ],
   "source": [
    "#RUN TIME POLYMORPHISM\n",
    "class sample:\n",
    "    def __init__(self, x):\n",
    "        self.x = x\n",
    "        \n",
    "    def __add_(self, other):\n",
    "        return str(self.x) + str(other.x)\n",
    "    \n",
    "a = sample(10)\n",
    "b = sample(20)\n",
    "a+b"
   ]
  },
  {
   "cell_type": "code",
   "execution_count": 9,
   "metadata": {},
   "outputs": [
    {
     "name": "stdout",
     "output_type": "stream",
     "text": [
      "Parent Price 50\n",
      "Parent Price 50\n"
     ]
    }
   ],
   "source": [
    "#Overriding\n",
    "class apple:\n",
    "    price = 50\n",
    "\n",
    "    @classmethod\n",
    "    def display_price(cls):\n",
    "        print(\"Parent Price\", cls.price)\n",
    "    \n",
    "apple.display_price()\n",
    "\n",
    "class apple2(apple):\n",
    "    pass\n",
    "apple2.display_price()"
   ]
  },
  {
   "cell_type": "code",
   "execution_count": 10,
   "metadata": {},
   "outputs": [
    {
     "name": "stdout",
     "output_type": "stream",
     "text": [
      "Parent Price 50\n",
      "Child Price 50\n"
     ]
    }
   ],
   "source": [
    "#Overriding\n",
    "class apple:\n",
    "    price = 50\n",
    "\n",
    "    @classmethod\n",
    "    def display_price(cls):\n",
    "        print(\"Parent Price\", cls.price)\n",
    "    \n",
    "apple.display_price()\n",
    "\n",
    "class apple2(apple):\n",
    "    pass\n",
    "\n",
    "    @classmethod\n",
    "    def display_price(cls):\n",
    "        print(\"Child Price\", cls.price)\n",
    "apple2.display_price()"
   ]
  },
  {
   "cell_type": "code",
   "execution_count": null,
   "metadata": {},
   "outputs": [],
   "source": [
    "+ -->  __add__(self, other)\n",
    "- -->  __sub__(self, other)\n",
    "* -->  __mul__(self, other)\n",
    "/ -->  __truediv__(self, other)\n",
    "// -->  __floordiv__(self, other)\n",
    "% -->  __mod__(self, other)\n",
    "** -->  __pow__(self, other)\n",
    ">> -->  __rshift__(self, other)\n",
    "<< -->  __lshift__(self, other)\n",
    "& -->  __and__(self, other)\n",
    "| -->  __or__(self, other)\n",
    "& -->  __and__(self, other)\n",
    "\n",
    "\n",
    "\n",
    "\n",
    "\n",
    "\n",
    "\n",
    "\n",
    "\n",
    "\n"
   ]
  }
 ],
 "metadata": {
  "kernelspec": {
   "display_name": "Python 3",
   "language": "python",
   "name": "python3"
  },
  "language_info": {
   "codemirror_mode": {
    "name": "ipython",
    "version": 3
   },
   "file_extension": ".py",
   "mimetype": "text/x-python",
   "name": "python",
   "nbconvert_exporter": "python",
   "pygments_lexer": "ipython3",
   "version": "3.12.0"
  }
 },
 "nbformat": 4,
 "nbformat_minor": 2
}
