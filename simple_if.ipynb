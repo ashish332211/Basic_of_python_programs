{
 "cells": [
  {
   "cell_type": "markdown",
   "metadata": {},
   "source": [
    "1.WAP to check whether a number is positive. If Positive, print a message Positive"
   ]
  },
  {
   "cell_type": "code",
   "execution_count": 3,
   "metadata": {},
   "outputs": [
    {
     "name": "stdout",
     "output_type": "stream",
     "text": [
      "Positive\n"
     ]
    }
   ],
   "source": [
    "n=8\n",
    "if 0<=n:\n",
    "    print(\"Positive\")"
   ]
  },
  {
   "cell_type": "markdown",
   "metadata": {},
   "source": [
    "2.WAP to display hello world if the number is greater than 1 and lesser than 5."
   ]
  },
  {
   "cell_type": "code",
   "execution_count": 4,
   "metadata": {},
   "outputs": [
    {
     "name": "stdout",
     "output_type": "stream",
     "text": [
      "Hello World\n"
     ]
    }
   ],
   "source": [
    "n=3\n",
    "if 1<n<5:\n",
    "    print('Hello World')"
   ]
  },
  {
   "cell_type": "markdown",
   "metadata": {},
   "source": [
    "3.WAP to check whether the given number is divisible by 3 or not if print fizz."
   ]
  },
  {
   "cell_type": "code",
   "execution_count": null,
   "metadata": {},
   "outputs": [],
   "source": []
  },
  {
   "cell_type": "markdown",
   "metadata": {},
   "source": [
    "4.WAP to check whether given input is divisible by 2 and 6. If the condition is \n",
    "satisfied, convert the given number into a complex number."
   ]
  },
  {
   "cell_type": "code",
   "execution_count": 5,
   "metadata": {},
   "outputs": [
    {
     "name": "stdout",
     "output_type": "stream",
     "text": [
      "(18+0j)\n"
     ]
    }
   ],
   "source": [
    "n=18\n",
    "if n%2==0 and n%6==0:\n",
    "    res=complex(n)\n",
    "    print(res)"
   ]
  },
  {
   "cell_type": "markdown",
   "metadata": {},
   "source": [
    "5.WAP to check whether a given input is divisible by 3 or 5. If the condition is \n",
    "satisfied, the number is converted to a list.\n",
    "i/p: 30\n",
    "o/p:[‘3’,’0’]\n"
   ]
  },
  {
   "cell_type": "code",
   "execution_count": 10,
   "metadata": {},
   "outputs": [
    {
     "name": "stdout",
     "output_type": "stream",
     "text": [
      "['3', '0']\n"
     ]
    }
   ],
   "source": [
    "a=30\n",
    "if a%3==0 or a%5==0:\n",
    "    res=list(str(a))\n",
    "    print(res)"
   ]
  },
  {
   "cell_type": "markdown",
   "metadata": {},
   "source": [
    "6.Write a program to check whether a given number is multiple of 5 or not."
   ]
  },
  {
   "cell_type": "code",
   "execution_count": 11,
   "metadata": {},
   "outputs": [
    {
     "name": "stdout",
     "output_type": "stream",
     "text": [
      "Multiple by 5\n"
     ]
    }
   ],
   "source": [
    "a=35\n",
    "if a%5==0:\n",
    "    print(\"Multiple by 5\")"
   ]
  },
  {
   "cell_type": "markdown",
   "metadata": {},
   "source": [
    "7.WAP to check whether the given input is 0 or not if 0 prints 0"
   ]
  },
  {
   "cell_type": "code",
   "execution_count": 12,
   "metadata": {},
   "outputs": [],
   "source": [
    "n=8\n",
    "if n==0:\n",
    "    print('0')"
   ]
  },
  {
   "cell_type": "markdown",
   "metadata": {},
   "source": [
    "8.WAP to check whether a number is negative. If negative, print a message \n",
    "negative."
   ]
  },
  {
   "cell_type": "code",
   "execution_count": 13,
   "metadata": {},
   "outputs": [
    {
     "name": "stdout",
     "output_type": "stream",
     "text": [
      "Negetive\n"
     ]
    }
   ],
   "source": [
    "n=-5\n",
    "if n<0:\n",
    "    print('Negetive')"
   ]
  },
  {
   "cell_type": "markdown",
   "metadata": {},
   "source": [
    "9.WAP to check whether a number is even or not. If even, store the value inside \n",
    "the list.\n"
   ]
  },
  {
   "cell_type": "code",
   "execution_count": 14,
   "metadata": {},
   "outputs": [
    {
     "name": "stdout",
     "output_type": "stream",
     "text": [
      "['a', 'b', 'c', 'd', 12]\n"
     ]
    }
   ],
   "source": [
    "a=12\n",
    "l=['a','b','c','d']\n",
    "if a%2==0:\n",
    "    l+=[a]\n",
    "    print(l)"
   ]
  },
  {
   "cell_type": "markdown",
   "metadata": {},
   "source": [
    "10.WAP to check whether a number is odd or not. If odd, store the value inside the \n",
    "tuple."
   ]
  },
  {
   "cell_type": "code",
   "execution_count": 15,
   "metadata": {},
   "outputs": [
    {
     "name": "stdout",
     "output_type": "stream",
     "text": [
      "('x', 'y', 'z', 9)\n"
     ]
    }
   ],
   "source": [
    "a=9\n",
    "t=('x','y','z')\n",
    "if a%2==1:\n",
    "    t+=(a,)\n",
    "    print(t)"
   ]
  },
  {
   "cell_type": "markdown",
   "metadata": {},
   "source": [
    "11.WAP to check if the given number is even or not. if it is yes, to print the power of \n",
    "4 in a given number."
   ]
  },
  {
   "cell_type": "code",
   "execution_count": 53,
   "metadata": {},
   "outputs": [
    {
     "name": "stdout",
     "output_type": "stream",
     "text": [
      "4096\n"
     ]
    }
   ],
   "source": [
    "n=8\n",
    "if n%2==0:\n",
    "    a=n**4\n",
    "    print(a)"
   ]
  },
  {
   "cell_type": "markdown",
   "metadata": {},
   "source": [
    "12.WAP to take the input from the user as a number and check whether it is a number \n",
    "or not. if yes. take the number and add some value and print it."
   ]
  },
  {
   "cell_type": "code",
   "execution_count": null,
   "metadata": {},
   "outputs": [],
   "source": []
  },
  {
   "cell_type": "markdown",
   "metadata": {},
   "source": [
    "13.WAP to display hello world if the number is greater than 1 and less than 5."
   ]
  },
  {
   "cell_type": "code",
   "execution_count": 17,
   "metadata": {},
   "outputs": [
    {
     "name": "stdout",
     "output_type": "stream",
     "text": [
      "Hello World\n"
     ]
    }
   ],
   "source": [
    "n=3\n",
    "if 1<n<5:\n",
    "    print('Hello World')"
   ]
  },
  {
   "cell_type": "markdown",
   "metadata": {},
   "source": [
    "14.WAP to check whether a given value is divisible by 5 and 7. If the value is \n",
    "divisible,to display the square of the values"
   ]
  },
  {
   "cell_type": "code",
   "execution_count": 19,
   "metadata": {},
   "outputs": [
    {
     "name": "stdout",
     "output_type": "stream",
     "text": [
      "1225\n"
     ]
    }
   ],
   "source": [
    "a=35\n",
    "if a%5==0 and a%7==0:\n",
    "    sq=a**2\n",
    "    print(sq)"
   ]
  },
  {
   "cell_type": "markdown",
   "metadata": {},
   "source": [
    "15.WAP to check whether the given value's last digit is greater than 5 or not.if \n",
    "greater, to perform the bitwise right shift operator (skipping value is 2)\n"
   ]
  },
  {
   "cell_type": "code",
   "execution_count": 20,
   "metadata": {},
   "outputs": [
    {
     "name": "stdout",
     "output_type": "stream",
     "text": [
      "499\n"
     ]
    }
   ],
   "source": [
    "a=1998\n",
    "if (a%10)>5:\n",
    "    op=(a>>2)\n",
    "    print(op)"
   ]
  },
  {
   "cell_type": "markdown",
   "metadata": {},
   "source": [
    "16.WAP to check whether a given value is divisible by 3 and less than 30. If the value \n",
    "is divisible,to display the square of the values."
   ]
  },
  {
   "cell_type": "code",
   "execution_count": 21,
   "metadata": {},
   "outputs": [
    {
     "name": "stdout",
     "output_type": "stream",
     "text": [
      "729\n"
     ]
    }
   ],
   "source": [
    "a=27\n",
    "if a%3==0 and a<30:\n",
    "    print(a**2)"
   ]
  },
  {
   "cell_type": "markdown",
   "metadata": {},
   "source": [
    "17.WAP to check whether a given value is an even number and divisible by 4. If \n",
    "satisfied ,to display the cube of the values."
   ]
  },
  {
   "cell_type": "code",
   "execution_count": 24,
   "metadata": {},
   "outputs": [
    {
     "name": "stdout",
     "output_type": "stream",
     "text": [
      "46656\n"
     ]
    }
   ],
   "source": [
    "a=36\n",
    "if a%2==0 and a%4==0:\n",
    "    print(a**3)"
   ]
  },
  {
   "cell_type": "markdown",
   "metadata": {},
   "source": [
    "18.WAP to check whether a given value is even or not. If the even number stores the \n",
    "value inside the list."
   ]
  },
  {
   "cell_type": "code",
   "execution_count": 26,
   "metadata": {},
   "outputs": [
    {
     "name": "stdout",
     "output_type": "stream",
     "text": [
      "[10, 20, 30, 40, 32]\n"
     ]
    }
   ],
   "source": [
    "a=32\n",
    "l=[10,20,30,40]\n",
    "if a%2==0:\n",
    "    l+=[a]\n",
    "    print(l)"
   ]
  },
  {
   "cell_type": "markdown",
   "metadata": {},
   "source": [
    "19.WAP to check whether a given value is a negative or even number. If satisfied ,to \n",
    "display the last digit of the values."
   ]
  },
  {
   "cell_type": "code",
   "execution_count": 50,
   "metadata": {},
   "outputs": [
    {
     "name": "stdout",
     "output_type": "stream",
     "text": [
      "2\n"
     ]
    }
   ],
   "source": [
    "a=-32\n",
    "if a%2==0 and a<0:\n",
    "    res=-a%10\n",
    "    print(res)"
   ]
  },
  {
   "cell_type": "markdown",
   "metadata": {},
   "source": [
    "20.WAP to check whether a given value is a negative or odd number and divisible \n",
    "by 4. If satisfied ,to display the cube of the values."
   ]
  },
  {
   "cell_type": "code",
   "execution_count": 29,
   "metadata": {},
   "outputs": [],
   "source": [
    "a=-33\n",
    "if (a<0 or a%2==1) and a%4==0:\n",
    "    res=a**3\n",
    "    print(res)"
   ]
  },
  {
   "cell_type": "markdown",
   "metadata": {},
   "source": [
    "21.WAP to check whether a given ascii value is divisible by 4 and even value. If \n",
    "satisfied, to display the ascii character."
   ]
  },
  {
   "cell_type": "code",
   "execution_count": 32,
   "metadata": {},
   "outputs": [
    {
     "name": "stdout",
     "output_type": "stream",
     "text": [
      "T\n"
     ]
    }
   ],
   "source": [
    "a=84\n",
    "if a%4==0 and a%2==0:\n",
    "    print(chr(a))"
   ]
  },
  {
   "cell_type": "markdown",
   "metadata": {},
   "source": [
    "22.WAP to check whether a given value is present in between 45 to 125 and the \n",
    "number should be divisible by 4 and 5 and even value. If satisfied, to display the \n",
    "ascii character."
   ]
  },
  {
   "cell_type": "code",
   "execution_count": 34,
   "metadata": {},
   "outputs": [
    {
     "name": "stdout",
     "output_type": "stream",
     "text": [
      "P\n"
     ]
    }
   ],
   "source": [
    "a=80\n",
    "if 45<=a<=125 and a%4==0 and a%5==0:\n",
    "    print(chr(a))"
   ]
  },
  {
   "cell_type": "markdown",
   "metadata": {},
   "source": [
    "23.WAP to check whether a given value is present in between 25 to 100 and the \n",
    "number should be divisible by 4 and 5. If satisfied, to display multiplication of \n",
    "given value with 5."
   ]
  },
  {
   "cell_type": "code",
   "execution_count": 38,
   "metadata": {},
   "outputs": [
    {
     "name": "stdout",
     "output_type": "stream",
     "text": [
      "300\n"
     ]
    }
   ],
   "source": [
    "a=60\n",
    "if 25<=a<=100 and a%4==0 and a%5==0:\n",
    "    print(a*5)"
   ]
  },
  {
   "cell_type": "markdown",
   "metadata": {},
   "source": [
    "24.WAP to check whether a given number is an integer and odd number. If the \n",
    "condition is satisfied, the integer is divisible by 5 and displays the result."
   ]
  },
  {
   "cell_type": "code",
   "execution_count": 39,
   "metadata": {},
   "outputs": [
    {
     "name": "stdout",
     "output_type": "stream",
     "text": [
      "7.0\n"
     ]
    }
   ],
   "source": [
    "a=35\n",
    "if type(a)==int and a%2==1:\n",
    "    print(a/5)"
   ]
  },
  {
   "cell_type": "markdown",
   "metadata": {},
   "source": [
    "25.WAP to check whether a given value is an integer or not. If integer, the given \n",
    "value is converted to string and displays the result."
   ]
  },
  {
   "cell_type": "code",
   "execution_count": 42,
   "metadata": {},
   "outputs": [
    {
     "name": "stdout",
     "output_type": "stream",
     "text": [
      "35 <class 'str'>\n"
     ]
    }
   ],
   "source": [
    "a=35\n",
    "if type(a)==int:\n",
    "    res=str(a)\n",
    "    print(res,type(res))"
   ]
  },
  {
   "cell_type": "markdown",
   "metadata": {},
   "source": [
    "26.WAP to check whether a given value is less than 125 and greater than 60 or not. \n",
    "If the condition is satisfied, take the name and extract the middle character and \n",
    "display it."
   ]
  },
  {
   "cell_type": "code",
   "execution_count": 45,
   "metadata": {},
   "outputs": [
    {
     "name": "stdout",
     "output_type": "stream",
     "text": [
      "Ashish i\n"
     ]
    }
   ],
   "source": [
    "a=78\n",
    "if a>60 and a<125:\n",
    "    name='Ashish'\n",
    "    print(name[len(name)//2])"
   ]
  },
  {
   "cell_type": "markdown",
   "metadata": {},
   "source": [
    "27.WAP to check whether a given two integers are equal or not. If both are equal, to \n",
    "perform addition and display the result."
   ]
  },
  {
   "cell_type": "code",
   "execution_count": 48,
   "metadata": {},
   "outputs": [
    {
     "name": "stdout",
     "output_type": "stream",
     "text": [
      "32\n"
     ]
    }
   ],
   "source": [
    "a=16\n",
    "b=16\n",
    "if a==b:\n",
    "    res=a+b\n",
    "    print(res)"
   ]
  },
  {
   "cell_type": "markdown",
   "metadata": {},
   "source": [
    "28.WAP to check whether two values are equal or not. if equal, to perform \n",
    "multiplication of two numbers and that result is division by 3 and display the \n",
    "value."
   ]
  },
  {
   "cell_type": "code",
   "execution_count": 49,
   "metadata": {},
   "outputs": [
    {
     "name": "stdout",
     "output_type": "stream",
     "text": [
      "108.0\n"
     ]
    }
   ],
   "source": [
    "a=18\n",
    "b=18\n",
    "if a==b:\n",
    "    res=a*b\n",
    "    print(res/3)\n"
   ]
  },
  {
   "cell_type": "markdown",
   "metadata": {},
   "source": [
    "29.WAP to check whether a character is in the alphabet or not. If the alphabet, store \n",
    "the value inside the dict(key as a character and value as an ascii value)."
   ]
  },
  {
   "cell_type": "code",
   "execution_count": 52,
   "metadata": {},
   "outputs": [
    {
     "name": "stdout",
     "output_type": "stream",
     "text": [
      "{'f': 102}\n"
     ]
    }
   ],
   "source": [
    "ch='f'\n",
    "if 'A'<=ch<='Z' or 'a'<=ch<='z':\n",
    "    res={ch:ord(ch)}\n",
    "    print(res)"
   ]
  },
  {
   "cell_type": "markdown",
   "metadata": {},
   "source": [
    "30.WAP to check whether a character is in the uppercase or not. If the uppercase, \n",
    "store the value inside the dict(key as a character and value as an ascii value)."
   ]
  },
  {
   "cell_type": "code",
   "execution_count": 51,
   "metadata": {},
   "outputs": [
    {
     "name": "stdout",
     "output_type": "stream",
     "text": [
      "{'G': 71}\n"
     ]
    }
   ],
   "source": [
    "ch='G'\n",
    "if 'A'<=ch<='Z':\n",
    "    res={ch:ord(ch)}\n",
    "    print(res)"
   ]
  },
  {
   "cell_type": "markdown",
   "metadata": {},
   "source": [
    "31.WAP to check whether a character is in the uppercase or not. If the uppercase, \n",
    "convert to lowercase and store the value inside the dict(character as a key and \n",
    "ascii value as a value)."
   ]
  },
  {
   "cell_type": "code",
   "execution_count": 55,
   "metadata": {},
   "outputs": [
    {
     "name": "stdout",
     "output_type": "stream",
     "text": [
      "{'n': 110}\n"
     ]
    }
   ],
   "source": [
    "ch='N'\n",
    "if 'A'<=ch<='Z':\n",
    "    res=ch.lower()\n",
    "    d={res:ord(res)}\n",
    "    print(d)"
   ]
  },
  {
   "cell_type": "markdown",
   "metadata": {},
   "source": [
    "32.WAP to check whether a character is in the lowercase or not. If the lowercase, to \n",
    "perform the replication operation on that character."
   ]
  },
  {
   "cell_type": "code",
   "execution_count": 59,
   "metadata": {},
   "outputs": [
    {
     "name": "stdout",
     "output_type": "stream",
     "text": [
      "dddddd\n"
     ]
    }
   ],
   "source": [
    "ch='d'\n",
    "if 'a'<=ch<='z':\n",
    "    rep=ch*6\n",
    "    print(rep)"
   ]
  },
  {
   "cell_type": "markdown",
   "metadata": {},
   "source": [
    "33.WAP to check whether a character is in the ascii number or not. If the ascii \n",
    "number, to convert into integer."
   ]
  },
  {
   "cell_type": "code",
   "execution_count": 60,
   "metadata": {},
   "outputs": [
    {
     "name": "stdout",
     "output_type": "stream",
     "text": [
      "6\n"
     ]
    }
   ],
   "source": [
    "a=54\n",
    "if 48<=a<=57:\n",
    "    res=int(chr(a))\n",
    "    print(res)"
   ]
  },
  {
   "cell_type": "markdown",
   "metadata": {},
   "source": [
    "34.WAP to check whether a character is in the special symbol or not. If the special \n",
    "symbol, to display a symbol with ascii value."
   ]
  },
  {
   "cell_type": "code",
   "execution_count": 2,
   "metadata": {},
   "outputs": [
    {
     "name": "stdout",
     "output_type": "stream",
     "text": [
      "# 35\n"
     ]
    }
   ],
   "source": [
    "a='#'\n",
    "if 0<=ord(a)<=47 or 58<=ord(a)<=64 or 91<=ord(a)<=96 or 123<=ord(a)<=127:\n",
    "    print(a, ord(a))"
   ]
  },
  {
   "cell_type": "markdown",
   "metadata": {},
   "source": []
  },
  {
   "cell_type": "markdown",
   "metadata": {},
   "source": [
    "35.WAP to check whether a character is an even number or not. If the even number, \n",
    "to display an even number."
   ]
  },
  {
   "cell_type": "code",
   "execution_count": 3,
   "metadata": {},
   "outputs": [
    {
     "name": "stdout",
     "output_type": "stream",
     "text": [
      "Even Number\n"
     ]
    }
   ],
   "source": [
    "a=12\n",
    "if a%2==0:\n",
    "    print('Even Number')"
   ]
  },
  {
   "cell_type": "markdown",
   "metadata": {},
   "source": [
    "36.WAP to check whether a Given two integers a and b, if any of the integers is 10 \n",
    "or if their sum is 10, to perform the sum of the numbers and to display the square \n",
    "of the result."
   ]
  },
  {
   "cell_type": "code",
   "execution_count": 4,
   "metadata": {},
   "outputs": [
    {
     "name": "stdout",
     "output_type": "stream",
     "text": [
      "1156\n"
     ]
    }
   ],
   "source": [
    "a=10\n",
    "b=24\n",
    "if a==10 or b==10 or (a+b)==10:\n",
    "    sum=a+b\n",
    "    print(sum**2)"
   ]
  },
  {
   "cell_type": "markdown",
   "metadata": {},
   "source": [
    "37.WAP to check whether a character is in the vowel or not. If the vowel,print the \n",
    "next character."
   ]
  },
  {
   "cell_type": "code",
   "execution_count": 7,
   "metadata": {},
   "outputs": [
    {
     "name": "stdout",
     "output_type": "stream",
     "text": [
      "j\n"
     ]
    }
   ],
   "source": [
    "ch='i'\n",
    "if ch in 'aeiouAEIOU':\n",
    "    res=chr(ord(ch)+1)\n",
    "    print(res)"
   ]
  },
  {
   "cell_type": "markdown",
   "metadata": {},
   "source": [
    "38.WAP to check whether a character is in the not a vowel. If it's not a vowel,print \n",
    "the previous character."
   ]
  },
  {
   "cell_type": "code",
   "execution_count": 10,
   "metadata": {},
   "outputs": [
    {
     "name": "stdout",
     "output_type": "stream",
     "text": [
      "e\n"
     ]
    }
   ],
   "source": [
    "ch='f'\n",
    "if ch not in 'aeiouAEIOU':\n",
    "    res=chr(ord(ch)-1)\n",
    "    print(res)"
   ]
  },
  {
   "cell_type": "markdown",
   "metadata": {},
   "source": [
    "39.WAP to check whether a given value is a single value data type or not. If single \n",
    "value, display the given value as a single value data type."
   ]
  },
  {
   "cell_type": "code",
   "execution_count": 11,
   "metadata": {},
   "outputs": [
    {
     "name": "stdout",
     "output_type": "stream",
     "text": [
      "The value is single value\n"
     ]
    }
   ],
   "source": [
    "a=12.08\n",
    "if type(a) in [int,float,bytes,complex,bool]:\n",
    "    print('The value is single value')\n"
   ]
  },
  {
   "cell_type": "markdown",
   "metadata": {},
   "source": [
    "40.WAP to check whether a given value is a multi-value data type or not. If multi \n",
    "value, store the given value inside the tuple and display it."
   ]
  },
  {
   "cell_type": "code",
   "execution_count": 17,
   "metadata": {},
   "outputs": [
    {
     "name": "stdout",
     "output_type": "stream",
     "text": [
      "([10, 20],)\n"
     ]
    }
   ],
   "source": [
    "a=[10,20]\n",
    "t=()\n",
    "if type(a) in [str,list,tuple,set,dict]:\n",
    "    t+=(a,)\n",
    "    print(t)"
   ]
  },
  {
   "cell_type": "markdown",
   "metadata": {},
   "source": [
    "41.WAP to check whether a given value is an immutable data type or not. If an \n",
    "immutable data type value, store the given value inside the set and display it."
   ]
  },
  {
   "cell_type": "code",
   "execution_count": 22,
   "metadata": {},
   "outputs": [
    {
     "name": "stdout",
     "output_type": "stream",
     "text": [
      "{'apple'}\n"
     ]
    }
   ],
   "source": [
    "a='apple'\n",
    "s=set()\n",
    "if type(a) in [str,tuple]:\n",
    "    s|={a}\n",
    "    print(s)"
   ]
  },
  {
   "cell_type": "markdown",
   "metadata": {},
   "source": [
    "42.WAP to check whether the middle element of a given list is odd or not. If it is odd \n",
    "then print odd then print the number else directly print the number."
   ]
  },
  {
   "cell_type": "code",
   "execution_count": 28,
   "metadata": {},
   "outputs": [
    {
     "name": "stdout",
     "output_type": "stream",
     "text": [
      "odd 35\n"
     ]
    }
   ],
   "source": [
    "a=[10,30,35,45,55]\n",
    "if (a[len(a)//2])%2==1:\n",
    "    print('odd', a[len(a)//2])"
   ]
  },
  {
   "cell_type": "markdown",
   "metadata": {},
   "source": [
    "43.WAP Return a new string with \"not\" prefixed to the front of the original string. \n",
    "Return the string unmodified if the string already has the word \"not\" at the \n",
    "beginning."
   ]
  },
  {
   "cell_type": "code",
   "execution_count": 20,
   "metadata": {},
   "outputs": [
    {
     "name": "stdout",
     "output_type": "stream",
     "text": [
      "not done\n"
     ]
    }
   ],
   "source": [
    "a='done'\n",
    "if a[0:3]=='not':\n",
    "    print(a)\n",
    "else:\n",
    "    print('not',a)\n"
   ]
  },
  {
   "cell_type": "markdown",
   "metadata": {},
   "source": [
    "44.WAP to check whether a given string(str) and one integer(n) value, to display a \n",
    "new string that is devoid of the character at index n. if you are given a non-empty \n",
    "string and an int n. The value of n will be a legitimate character index from the \n",
    "original string, therefore it will fall within the range of 0 to len(str)-1, inclusive."
   ]
  },
  {
   "cell_type": "code",
   "execution_count": null,
   "metadata": {},
   "outputs": [],
   "source": []
  },
  {
   "cell_type": "markdown",
   "metadata": {},
   "source": [
    "45.WAP to check whether the two variables are pointing to the same memory \n",
    "location or not if they are pointing to the same memory location then print the \n",
    "address of both the variables."
   ]
  },
  {
   "cell_type": "code",
   "execution_count": 2,
   "metadata": {},
   "outputs": [
    {
     "name": "stdout",
     "output_type": "stream",
     "text": [
      "140733132104936 140733132104936\n"
     ]
    }
   ],
   "source": [
    "a=15\n",
    "b=15\n",
    "if a is b:\n",
    "    print(id(a),id(b))"
   ]
  },
  {
   "cell_type": "markdown",
   "metadata": {},
   "source": [
    "46.WAP to check whether the given length of the string is even or not. If the \n",
    "condition is satisfied, display the sequence of characters from zero position to \n",
    "length of collection -2."
   ]
  },
  {
   "cell_type": "code",
   "execution_count": 7,
   "metadata": {},
   "outputs": [
    {
     "name": "stdout",
     "output_type": "stream",
     "text": [
      "ashis\n"
     ]
    }
   ],
   "source": [
    "a='ashish'\n",
    "if len(a)%2==0:\n",
    "    print(a[:-1])"
   ]
  },
  {
   "cell_type": "markdown",
   "metadata": {},
   "source": [
    "47.WAP to check whether the two given strings are having the same values or not. \n",
    "If both are not the same values then swap the values of one variable to another \n",
    "variable after swapping print the two values."
   ]
  },
  {
   "cell_type": "code",
   "execution_count": 11,
   "metadata": {},
   "outputs": [
    {
     "name": "stdout",
     "output_type": "stream",
     "text": [
      "zyx xyz\n"
     ]
    }
   ],
   "source": [
    "a='xyz'\n",
    "b='zyx'\n",
    "if a!=b:\n",
    "    a,b=b,a\n",
    "    print(a,b)"
   ]
  },
  {
   "cell_type": "markdown",
   "metadata": {},
   "source": [
    "48.WAP to check whether a given character is a special symbol or not. If satisfied, \n",
    "store the symbol as a key and value as a ascii value of the given character inside \n",
    "the dictionary."
   ]
  },
  {
   "cell_type": "code",
   "execution_count": 13,
   "metadata": {},
   "outputs": [
    {
     "name": "stdout",
     "output_type": "stream",
     "text": [
      "{'@': 64}\n"
     ]
    }
   ],
   "source": [
    "a='@'\n",
    "if 0<=ord(a)<=47 or 58<=ord(a)<=64 or 91<=ord(a)<=96 or 123<=ord(a)<=127:\n",
    "    res={a:ord(a)} \n",
    "    print(res)"
   ]
  },
  {
   "cell_type": "markdown",
   "metadata": {},
   "source": [
    "49.WAP to check whether a given key is not present in the dictionary or not. If the \n",
    "key is not present, ap\n",
    "pend the new key inside the dictionary."
   ]
  },
  {
   "cell_type": "code",
   "execution_count": 14,
   "metadata": {},
   "outputs": [
    {
     "name": "stdout",
     "output_type": "stream",
     "text": [
      "{'a': 10, 'b': 20, 'c': 30, 'd': 40, 'e': 50}\n"
     ]
    }
   ],
   "source": [
    "d={'a':10,'b':20,'c':30,'d':40}\n",
    "if 'e' not in d:\n",
    "    d['e']=50\n",
    "    print(d)\n"
   ]
  },
  {
   "cell_type": "markdown",
   "metadata": {},
   "source": [
    "50.WAP whether a given string, and it displays a new string with the first and last \n",
    "characters switched"
   ]
  },
  {
   "cell_type": "code",
   "execution_count": 15,
   "metadata": {},
   "outputs": [
    {
     "name": "stdout",
     "output_type": "stream",
     "text": [
      "hshisa\n"
     ]
    }
   ],
   "source": [
    "a='ashish'\n",
    "if type(a)==str:\n",
    "    res=a[-1]+a[1:-1]+a[0]\n",
    "    print(res)"
   ]
  },
  {
   "cell_type": "markdown",
   "metadata": {},
   "source": [
    "51.WAP to check whether the last digit should be 2 in the given number then print \n",
    "the last digit."
   ]
  },
  {
   "cell_type": "code",
   "execution_count": 16,
   "metadata": {},
   "outputs": [
    {
     "name": "stdout",
     "output_type": "stream",
     "text": [
      "2\n"
     ]
    }
   ],
   "source": [
    "a=1992\n",
    "if a%10==2:\n",
    "    print(a%10)"
   ]
  },
  {
   "cell_type": "markdown",
   "metadata": {},
   "source": [
    "52.WAP to check whether a Given two integers a and b, if any of the integers is 10 \n",
    "or if their sum is 10, to perform the sum of the numbers and to display the square \n",
    "of the result."
   ]
  },
  {
   "cell_type": "code",
   "execution_count": 17,
   "metadata": {},
   "outputs": [
    {
     "name": "stdout",
     "output_type": "stream",
     "text": [
      "625\n"
     ]
    }
   ],
   "source": [
    "a=10\n",
    "b=15\n",
    "if a==10 or b==10 or a+b==10:\n",
    "    sum=a+b\n",
    "    print(sum**2)"
   ]
  },
  {
   "cell_type": "markdown",
   "metadata": {},
   "source": [
    "53.WAP to check whether a given string(str) and one integer(n) value, to display a \n",
    "new string that is devoid of the character at index n. if you are given a non-empty \n",
    "string and an int n. The value of n will be a legitimate character index from the \n",
    "original string, therefore it will fall within the range of 0 to len(str)-1, inclusive."
   ]
  },
  {
   "cell_type": "code",
   "execution_count": null,
   "metadata": {},
   "outputs": [],
   "source": []
  },
  {
   "cell_type": "markdown",
   "metadata": {},
   "source": [
    "54.WAP to check whether both string collections are equal or not if it is not equal \n",
    "print the both strings along with the length of a string if both are equal ignore it."
   ]
  },
  {
   "cell_type": "code",
   "execution_count": 19,
   "metadata": {},
   "outputs": [
    {
     "name": "stdout",
     "output_type": "stream",
     "text": [
      "5 4\n"
     ]
    }
   ],
   "source": [
    "a='apple'\n",
    "b='ball'\n",
    "if a!=b:\n",
    "    print(len(a),len(b))"
   ]
  }
 ],
 "metadata": {
  "kernelspec": {
   "display_name": "Python 3",
   "language": "python",
   "name": "python3"
  },
  "language_info": {
   "codemirror_mode": {
    "name": "ipython",
    "version": 3
   },
   "file_extension": ".py",
   "mimetype": "text/x-python",
   "name": "python",
   "nbconvert_exporter": "python",
   "pygments_lexer": "ipython3",
   "version": "3.11.4"
  },
  "orig_nbformat": 4
 },
 "nbformat": 4,
 "nbformat_minor": 2
}
