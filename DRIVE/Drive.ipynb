{
 "cells": [
  {
   "cell_type": "markdown",
   "metadata": {},
   "source": [
    "TECHNICAL - 2 (30 Min)\n",
    "-------------\n",
    "1. About Project\n",
    "2. What is Lambda Function\n",
    "3. What is Decorator\n",
    "4. What is Class\n",
    "5. What is object\n",
    "6. ip: 'HELLO'\n",
    "   op: 'hElLo'\n",
    "7. You have to write one Code and the output should be....\n",
    "    if ip: 'aabbcc'\n",
    "    op: ''\n",
    "    if ip: 'aabcca'\n",
    "    op: 'ba'"
   ]
  }
 ],
 "metadata": {
  "language_info": {
   "name": "python"
  }
 },
 "nbformat": 4,
 "nbformat_minor": 2
}
