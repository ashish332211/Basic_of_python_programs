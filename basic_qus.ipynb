{
 "cells": [
  {
   "cell_type": "markdown",
   "metadata": {},
   "source": [
    "2.WAS to print \"hello world\" without using shell."
   ]
  },
  {
   "cell_type": "code",
   "execution_count": 1,
   "metadata": {},
   "outputs": [
    {
     "name": "stdout",
     "output_type": "stream",
     "text": [
      "hello world\n"
     ]
    }
   ],
   "source": [
    "print('hello world')"
   ]
  },
  {
   "cell_type": "markdown",
   "metadata": {},
   "source": [
    "3.WAS to initialize the variable and value as 80."
   ]
  },
  {
   "cell_type": "code",
   "execution_count": 2,
   "metadata": {},
   "outputs": [],
   "source": [
    "\n",
    "a=80"
   ]
  },
  {
   "cell_type": "markdown",
   "metadata": {},
   "source": [
    "4.WAS to initialize multivariable, values 150,120,250."
   ]
  },
  {
   "cell_type": "code",
   "execution_count": 3,
   "metadata": {},
   "outputs": [],
   "source": [
    "a,b,c=150,120,250"
   ]
  },
  {
   "cell_type": "markdown",
   "metadata": {},
   "source": [
    "5.WAS to print the type of data in given value."
   ]
  },
  {
   "cell_type": "code",
   "execution_count": 4,
   "metadata": {},
   "outputs": [
    {
     "data": {
      "text/plain": [
       "set"
      ]
     },
     "execution_count": 4,
     "metadata": {},
     "output_type": "execute_result"
    }
   ],
   "source": [
    "a={10,20}\n",
    "type(a)"
   ]
  },
  {
   "cell_type": "markdown",
   "metadata": {},
   "source": [
    "6.WAS to print the address to the memory block in given value."
   ]
  },
  {
   "cell_type": "code",
   "execution_count": 5,
   "metadata": {},
   "outputs": [
    {
     "data": {
      "text/plain": [
       "140731319642056"
      ]
     },
     "execution_count": 5,
     "metadata": {},
     "output_type": "execute_result"
    }
   ],
   "source": [
    "a=38\n",
    "id(a)"
   ]
  },
  {
   "cell_type": "markdown",
   "metadata": {},
   "source": [
    "7.WAS to print your details, first store your details, extract the value and display it."
   ]
  },
  {
   "cell_type": "code",
   "execution_count": 10,
   "metadata": {},
   "outputs": [
    {
     "name": "stdout",
     "output_type": "stream",
     "text": [
      "ashu\n",
      "26\n",
      "5.8\n",
      "70\n",
      "ashu 26 5.8 70\n"
     ]
    },
    {
     "data": {
      "text/plain": [
       "'ashu'"
      ]
     },
     "execution_count": 10,
     "metadata": {},
     "output_type": "execute_result"
    }
   ],
   "source": [
    "name=\"ashu\"\n",
    "age=26\n",
    "height=5.8\n",
    "weight=70\n",
    "print(name)\n",
    "print(age)\n",
    "print(height)\n",
    "print(weight)\n",
    "print(name,age,height,weight)\n",
    "\n",
    "details=[\"ashu\",26,5.8,70]\n",
    "details[0]"
   ]
  },
  {
   "cell_type": "markdown",
   "metadata": {},
   "source": [
    "8.WAS to the two values with a temp variable."
   ]
  },
  {
   "cell_type": "code",
   "execution_count": 12,
   "metadata": {},
   "outputs": [
    {
     "name": "stdout",
     "output_type": "stream",
     "text": [
      "345\n",
      "123\n"
     ]
    }
   ],
   "source": [
    "x=123\n",
    "y=345\n",
    "temp=x\n",
    "x=y\n",
    "y=temp\n",
    "print(x)\n",
    "print(y)"
   ]
  },
  {
   "cell_type": "markdown",
   "metadata": {},
   "source": [
    "9.WAS to swap the two values without a temp veriable."
   ]
  },
  {
   "cell_type": "code",
   "execution_count": 15,
   "metadata": {},
   "outputs": [
    {
     "name": "stdout",
     "output_type": "stream",
     "text": [
      "{10, 20}\n",
      "[10, 20]\n"
     ]
    }
   ],
   "source": [
    "m=[10,20]\n",
    "n={10,20}\n",
    "m,n=n,m\n",
    "print(m)\n",
    "print(n)\n"
   ]
  },
  {
   "cell_type": "markdown",
   "metadata": {},
   "source": [
    "10.WAS to initialize a value and print, after printing the value, then reinitialize the new value to the existing variable and display the value."
   ]
  },
  {
   "cell_type": "code",
   "execution_count": 17,
   "metadata": {},
   "outputs": [
    {
     "data": {
      "text/plain": [
       "'pyspiders'"
      ]
     },
     "execution_count": 17,
     "metadata": {},
     "output_type": "execute_result"
    }
   ],
   "source": [
    "a={'a':\"pyspiders\"}\n",
    "a['a']"
   ]
  },
  {
   "cell_type": "markdown",
   "metadata": {},
   "source": [
    "11.WAS to convert single to multivalue data type.\n",
    "    I/P:a=10\n",
    "    O/P:['1','0']"
   ]
  },
  {
   "cell_type": "code",
   "execution_count": 23,
   "metadata": {},
   "outputs": [
    {
     "name": "stdout",
     "output_type": "stream",
     "text": [
      "['1', '0']\n"
     ]
    }
   ],
   "source": [
    "a=10\n",
    "a=list(str(a))\n",
    "print(a)\n"
   ]
  },
  {
   "cell_type": "markdown",
   "metadata": {},
   "source": [
    "12.WAS to concat the two multivalued datatype(str,list,tuple,set,dict)"
   ]
  },
  {
   "cell_type": "code",
   "execution_count": 26,
   "metadata": {},
   "outputs": [
    {
     "name": "stdout",
     "output_type": "stream",
     "text": [
      "helloworld\n",
      "[10, 20, 30, 'h', 'a', 'i', 'i']\n",
      "[10, 20, 30, 1, 2, 3]\n",
      "[10, 20, 30, 'a', 'b', 'c']\n",
      "[10, 20, 30, 'a', 'c']\n",
      "{50, 20, 40, 12, 30}\n"
     ]
    }
   ],
   "source": [
    "x=\"hello\"\n",
    "x+=\"world\"\n",
    "print(x)\n",
    "\n",
    "y=[10,20,30]\n",
    "y+='haii'\n",
    "print(y)\n",
    "\n",
    "z=[10,20,30]\n",
    "z+=(1,2,3)\n",
    "print(z)\n",
    "\n",
    "a=[10,20,30]\n",
    "a+={'a','b','c'}\n",
    "print(a)\n",
    "\n",
    "b=[10,20,30]\n",
    "b+={'a':'b','c':'d'}\n",
    "print(b)\n",
    "\n",
    "c={12,20,30}\n",
    "c|={40,50}\n",
    "print(c)\n"
   ]
  },
  {
   "cell_type": "markdown",
   "metadata": {},
   "source": [
    "13.WAS to check the length of the collection."
   ]
  },
  {
   "cell_type": "code",
   "execution_count": 27,
   "metadata": {},
   "outputs": [
    {
     "name": "stdout",
     "output_type": "stream",
     "text": [
      "3\n"
     ]
    }
   ],
   "source": [
    "a=[12,13,14]\n",
    "print(len(a))"
   ]
  },
  {
   "cell_type": "markdown",
   "metadata": {},
   "source": [
    "14.WAS to find out the middle value of the given collection."
   ]
  },
  {
   "cell_type": "code",
   "execution_count": 29,
   "metadata": {},
   "outputs": [
    {
     "name": "stdout",
     "output_type": "stream",
     "text": [
      "30\n"
     ]
    }
   ],
   "source": [
    "a=[10,20,30,40]\n",
    "print(a[len(a)//2])"
   ]
  },
  {
   "cell_type": "markdown",
   "metadata": {},
   "source": [
    "15.WAS to concat the new string into the starting of the given string."
   ]
  },
  {
   "cell_type": "code",
   "execution_count": 2,
   "metadata": {},
   "outputs": [
    {
     "name": "stdout",
     "output_type": "stream",
     "text": [
      "ashish biswal\n"
     ]
    }
   ],
   "source": [
    "a=\"biswal\"\n",
    "b=\"ashish \"\n",
    "a=b+a\n",
    "print(a)"
   ]
  },
  {
   "cell_type": "markdown",
   "metadata": {},
   "source": [
    "16.WAS to concat the new string into the ending of the string."
   ]
  },
  {
   "cell_type": "code",
   "execution_count": 3,
   "metadata": {},
   "outputs": [
    {
     "name": "stdout",
     "output_type": "stream",
     "text": [
      "How can you do this\n"
     ]
    }
   ],
   "source": [
    "a=\"How can you do\"\n",
    "b=\" this\"\n",
    "a=a+b\n",
    "print(a)"
   ]
  },
  {
   "cell_type": "markdown",
   "metadata": {},
   "source": [
    "17.WAS to concat the new string into the middle of the given string."
   ]
  },
  {
   "cell_type": "code",
   "execution_count": 5,
   "metadata": {},
   "outputs": [
    {
     "name": "stdout",
     "output_type": "stream",
     "text": [
      "abcXYZdefg\n"
     ]
    }
   ],
   "source": [
    "a=\"abcdefg\"\n",
    "b=\"XYZ\"\n",
    "a=a[:len(a)//2] + b +a[len(a)//2:]\n",
    "print(a)"
   ]
  },
  {
   "cell_type": "markdown",
   "metadata": {},
   "source": [
    "18.WAS to modify the new character into the middle of the given string."
   ]
  },
  {
   "cell_type": "code",
   "execution_count": 9,
   "metadata": {},
   "outputs": [
    {
     "name": "stdout",
     "output_type": "stream",
     "text": [
      "pyspIders\n"
     ]
    }
   ],
   "source": [
    "a=\"pyspiders\"\n",
    "a=a[0:len(a)//2] + 'I' + a[len(a)//2+1:]\n",
    "print(a)"
   ]
  },
  {
   "cell_type": "markdown",
   "metadata": {},
   "source": [
    "19.WAS to replace the old character into the new character of a given string."
   ]
  },
  {
   "cell_type": "code",
   "execution_count": 20,
   "metadata": {},
   "outputs": [
    {
     "name": "stdout",
     "output_type": "stream",
     "text": [
      "pyspiDers\n"
     ]
    }
   ],
   "source": [
    "a=\"pyspiders\"\n",
    "a=a[0:5] + 'D' + a[-3:]\n",
    "print(a)"
   ]
  },
  {
   "cell_type": "markdown",
   "metadata": {},
   "source": [
    "20.WAS to delete the specific character in the given string."
   ]
  },
  {
   "cell_type": "code",
   "execution_count": 11,
   "metadata": {},
   "outputs": [
    {
     "name": "stdout",
     "output_type": "stream",
     "text": [
      "qsiders\n"
     ]
    }
   ],
   "source": [
    "a=\"qspiders\"\n",
    "a=a[0:2]+a[3:]\n",
    "print(a)"
   ]
  },
  {
   "cell_type": "markdown",
   "metadata": {},
   "source": [
    "21.WAS to concat the new string into the specific position of the given string."
   ]
  },
  {
   "cell_type": "code",
   "execution_count": 17,
   "metadata": {},
   "outputs": [
    {
     "name": "stdout",
     "output_type": "stream",
     "text": [
      "Odi Jagannath sha\n"
     ]
    }
   ],
   "source": [
    "a=\"Odisha\"\n",
    "a=a[0:3]+\" Jagannath \"+a[3:]\n",
    "print(a)"
   ]
  },
  {
   "cell_type": "markdown",
   "metadata": {},
   "source": [
    "22.WAS to concat the new value into the starting of the given list."
   ]
  },
  {
   "cell_type": "code",
   "execution_count": 18,
   "metadata": {},
   "outputs": [
    {
     "name": "stdout",
     "output_type": "stream",
     "text": [
      "['a', 'b', 10, 20, 30, 40]\n"
     ]
    }
   ],
   "source": [
    "a=[10,20,30,40]\n",
    "a[0:0]=['a','b']\n",
    "print(a)"
   ]
  },
  {
   "cell_type": "markdown",
   "metadata": {},
   "source": [
    "23.WAS to concat the new value into the ending of given list."
   ]
  },
  {
   "cell_type": "code",
   "execution_count": 19,
   "metadata": {},
   "outputs": [
    {
     "name": "stdout",
     "output_type": "stream",
     "text": [
      "[10, 20, 30, 'a', 'b']\n"
     ]
    }
   ],
   "source": [
    "a=[10,20,30]\n",
    "a=a+['a','b']\n",
    "print(a)"
   ]
  },
  {
   "cell_type": "markdown",
   "metadata": {},
   "source": [
    "24.WAS to delete the sequence of character in the given list."
   ]
  },
  {
   "cell_type": "code",
   "execution_count": 22,
   "metadata": {},
   "outputs": [
    {
     "name": "stdout",
     "output_type": "stream",
     "text": [
      "qsers\n"
     ]
    }
   ],
   "source": [
    "a=\"qspiders\"\n",
    "a=a[0:2]+a[5:]\n",
    "print(a)"
   ]
  },
  {
   "cell_type": "markdown",
   "metadata": {},
   "source": [
    "26.WAS to concat the new value into the middle of the given list. "
   ]
  },
  {
   "cell_type": "code",
   "execution_count": 24,
   "metadata": {},
   "outputs": [
    {
     "name": "stdout",
     "output_type": "stream",
     "text": [
      "[10, 20, 'a', 'b', 30, 40]\n"
     ]
    }
   ],
   "source": [
    "a=[10,20,30,40]\n",
    "a[len(a)//2:len(a)//2]=['a','b']\n",
    "print(a)"
   ]
  },
  {
   "cell_type": "markdown",
   "metadata": {},
   "source": [
    "27.WAS to concat the new value into the specific position in the given list."
   ]
  },
  {
   "cell_type": "code",
   "execution_count": 31,
   "metadata": {},
   "outputs": [
    {
     "name": "stdout",
     "output_type": "stream",
     "text": [
      "[10, 300, 400, 15.45, 'hii', True]\n"
     ]
    }
   ],
   "source": [
    "a=[10,15.45,'hii', True]\n",
    "a[1:-3]=[300,400]\n",
    "print(a)"
   ]
  },
  {
   "cell_type": "markdown",
   "metadata": {},
   "source": [
    "28.WAS to modify the new value into the specific position of the given list."
   ]
  },
  {
   "cell_type": "code",
   "execution_count": 32,
   "metadata": {},
   "outputs": [
    {
     "name": "stdout",
     "output_type": "stream",
     "text": [
      "[10, (10+5j), 'hii', True]\n"
     ]
    }
   ],
   "source": [
    "a=[10,15.45,'hii',True]\n",
    "a[1]=10+5j\n",
    "print(a)"
   ]
  },
  {
   "cell_type": "markdown",
   "metadata": {},
   "source": [
    "29.WAS to modify the new value into the starting of the given list."
   ]
  },
  {
   "cell_type": "code",
   "execution_count": 33,
   "metadata": {},
   "outputs": [
    {
     "name": "stdout",
     "output_type": "stream",
     "text": [
      "[2000, 15.45, 'hii', True]\n"
     ]
    }
   ],
   "source": [
    "a=[10,15.45,'hii',True]\n",
    "a[0]=2000\n",
    "print(a)"
   ]
  },
  {
   "cell_type": "markdown",
   "metadata": {},
   "source": [
    "30.WAS to modify the new value into the starting of the given list."
   ]
  },
  {
   "cell_type": "code",
   "execution_count": 34,
   "metadata": {},
   "outputs": [
    {
     "name": "stdout",
     "output_type": "stream",
     "text": [
      "[10, 15.45, 'hii', 2000]\n"
     ]
    }
   ],
   "source": [
    "a=[10,15.45,'hii',True]\n",
    "a[-1]=2000\n",
    "print(a)"
   ]
  },
  {
   "cell_type": "markdown",
   "metadata": {},
   "source": [
    "31.WAS to modify the new value into the middle of the given list."
   ]
  },
  {
   "cell_type": "code",
   "execution_count": 36,
   "metadata": {},
   "outputs": [
    {
     "name": "stdout",
     "output_type": "stream",
     "text": [
      "[10, 15.45, 2000, True]\n"
     ]
    }
   ],
   "source": [
    "a=[10,15.45,'hii',True]\n",
    "a[len(a)//2]=2000\n",
    "print(a)"
   ]
  },
  {
   "cell_type": "markdown",
   "metadata": {},
   "source": [
    "32.WAS to modify the first 4 position value in the given list."
   ]
  },
  {
   "cell_type": "code",
   "execution_count": 37,
   "metadata": {},
   "outputs": [
    {
     "name": "stdout",
     "output_type": "stream",
     "text": [
      "['a', 'b', 'c', 'd', 5, 6, 7, 8, 9]\n"
     ]
    }
   ],
   "source": [
    "a=[1,2,3,4,5,6,7,8,9,]\n",
    "a[0:4]=['a','b','c','d']\n",
    "print(a)"
   ]
  },
  {
   "cell_type": "markdown",
   "metadata": {},
   "source": [
    "33.WAS to modify the sequence of value in the given list."
   ]
  },
  {
   "cell_type": "code",
   "execution_count": 39,
   "metadata": {},
   "outputs": [
    {
     "name": "stdout",
     "output_type": "stream",
     "text": [
      "[1, 2, 'a', 'b', 'c', 'd', 5, 6, 7, 8, 9]\n",
      "[1, 'a', 3, 'b', 5, 'c', 7, 'd', 9]\n"
     ]
    }
   ],
   "source": [
    "a=[1,2,3,4,5,6,7,8,9,]\n",
    "a[2:4]=['a','b','c','d']\n",
    "print(a)\n",
    "\n",
    "a=[1,2,3,4,5,6,7,8,9,]\n",
    "a[1::2]=['a','b','c','d']\n",
    "print(a)"
   ]
  },
  {
   "cell_type": "markdown",
   "metadata": {},
   "source": [
    "34.WAS to delete the value in the specific position of the given list."
   ]
  },
  {
   "cell_type": "code",
   "execution_count": 40,
   "metadata": {},
   "outputs": [
    {
     "name": "stdout",
     "output_type": "stream",
     "text": [
      "[10, 15.45, True]\n"
     ]
    }
   ],
   "source": [
    "a=[10,15.45,'hii',True]\n",
    "del a[-2]\n",
    "print(a)"
   ]
  },
  {
   "cell_type": "markdown",
   "metadata": {},
   "source": [
    "35.WAS to delete the value in the ending of the given list."
   ]
  },
  {
   "cell_type": "code",
   "execution_count": 41,
   "metadata": {},
   "outputs": [
    {
     "name": "stdout",
     "output_type": "stream",
     "text": [
      "[10, 15.45, 'hii']\n"
     ]
    }
   ],
   "source": [
    "a=[10,15.45,'hii',True]\n",
    "del a[-1]\n",
    "print(a)"
   ]
  },
  {
   "cell_type": "markdown",
   "metadata": {},
   "source": [
    "36.WAS to delete the value in the starting of the given list."
   ]
  },
  {
   "cell_type": "code",
   "execution_count": 42,
   "metadata": {},
   "outputs": [
    {
     "name": "stdout",
     "output_type": "stream",
     "text": [
      "[15.45, 'hii', True]\n"
     ]
    }
   ],
   "source": [
    "a=[10,15.45,'hii',True]\n",
    "del a[0]\n",
    "print(a)"
   ]
  },
  {
   "cell_type": "markdown",
   "metadata": {},
   "source": [
    "37.WAS to delete the value in the middle of the given list."
   ]
  },
  {
   "cell_type": "code",
   "execution_count": 43,
   "metadata": {},
   "outputs": [
    {
     "name": "stdout",
     "output_type": "stream",
     "text": [
      "[10, 15.45, True]\n"
     ]
    }
   ],
   "source": [
    "a=[10,15.45,'hii',True]\n",
    "del a[len(a)//2]\n",
    "print(a)"
   ]
  },
  {
   "cell_type": "markdown",
   "metadata": {},
   "source": [
    "38.WAS to concat the new value in the starting of the tuple."
   ]
  },
  {
   "cell_type": "code",
   "execution_count": 12,
   "metadata": {},
   "outputs": [
    {
     "name": "stdout",
     "output_type": "stream",
     "text": [
      "(30, 10, 20, 'hiii', True)\n"
     ]
    }
   ],
   "source": [
    "a=(10,20,'hiii',True)\n",
    "b=(30,)\n",
    "a=b+a\n",
    "print(a)"
   ]
  },
  {
   "cell_type": "markdown",
   "metadata": {},
   "source": [
    "39.WAS to concat the new value into the middle of the tuple."
   ]
  },
  {
   "cell_type": "code",
   "execution_count": 8,
   "metadata": {},
   "outputs": [
    {
     "name": "stdout",
     "output_type": "stream",
     "text": [
      "(10, 20, (10+5j), 'hiii', True)\n"
     ]
    }
   ],
   "source": [
    "a=(10,20,'hiii',True)\n",
    "a=a[:len(a)//2] + (10+5j,) + a[len(a)//2:]\n",
    "print(a)"
   ]
  },
  {
   "cell_type": "markdown",
   "metadata": {},
   "source": [
    "40.WAS to concat the new value into the ending of the tuple."
   ]
  },
  {
   "cell_type": "code",
   "execution_count": 13,
   "metadata": {},
   "outputs": [
    {
     "name": "stdout",
     "output_type": "stream",
     "text": [
      "(10, 20, 'hiii', True, 30)\n"
     ]
    }
   ],
   "source": [
    "a=(10,20,'hiii',True)\n",
    "b=(30,)\n",
    "a=a+b\n",
    "print(a)"
   ]
  },
  {
   "cell_type": "markdown",
   "metadata": {},
   "source": [
    "41.WAS to concat the new value into the set."
   ]
  },
  {
   "cell_type": "code",
   "execution_count": 14,
   "metadata": {},
   "outputs": [
    {
     "name": "stdout",
     "output_type": "stream",
     "text": [
      "{50, 20, 70, 40, 10, 60, 30}\n"
     ]
    }
   ],
   "source": [
    "a={10,20,30,40}\n",
    "a=a|{50,60,70}\n",
    "print(a)"
   ]
  },
  {
   "cell_type": "markdown",
   "metadata": {},
   "source": [
    "42.WAS to delete the specific value into the set."
   ]
  },
  {
   "cell_type": "code",
   "execution_count": 25,
   "metadata": {},
   "outputs": [
    {
     "name": "stdout",
     "output_type": "stream",
     "text": [
      "{50, 10, 60, 30}\n"
     ]
    }
   ],
   "source": [
    "a={10,20,30,40,50,60}\n",
    "a=a-{20,40}\n",
    "print(a)"
   ]
  },
  {
   "cell_type": "markdown",
   "metadata": {},
   "source": [
    "43.WAS to concat the new key and value into the dict."
   ]
  },
  {
   "cell_type": "code",
   "execution_count": 27,
   "metadata": {},
   "outputs": [
    {
     "name": "stdout",
     "output_type": "stream",
     "text": [
      "{'name': 'ashish', 'age': 21}\n",
      "{'name': 'ashish', 'age': 21, 'height': 5.8}\n"
     ]
    }
   ],
   "source": [
    "d={'name':'ashish'}\n",
    "d['age']=21\n",
    "print(d)\n",
    "       #OR\n",
    "d={'name':'ashish'}\n",
    "e={'age': 21, 'height':5.8}\n",
    "d|=e\n",
    "print(d)\n"
   ]
  },
  {
   "cell_type": "markdown",
   "metadata": {},
   "source": [
    "44.WAS to delete the specific key and value in the given dict."
   ]
  },
  {
   "cell_type": "code",
   "execution_count": 29,
   "metadata": {},
   "outputs": [
    {
     "name": "stdout",
     "output_type": "stream",
     "text": [
      "{'name': 'ashish', 'height': 5.8}\n"
     ]
    }
   ],
   "source": [
    "a={'name': 'ashish', 'age': 21, 'height':5.8}\n",
    "del a['age']\n",
    "print(a)"
   ]
  },
  {
   "cell_type": "markdown",
   "metadata": {},
   "source": [
    "45.WAS to modify the specific value in the given dict."
   ]
  },
  {
   "cell_type": "code",
   "execution_count": 30,
   "metadata": {},
   "outputs": [
    {
     "name": "stdout",
     "output_type": "stream",
     "text": [
      "{'name': 'ashish', 'age': 25, 'height': 5.8}\n"
     ]
    }
   ],
   "source": [
    "a={'name': 'ashish', 'age': 21, 'height':5.8}\n",
    "a['age']=25\n",
    "print(a)"
   ]
  },
  {
   "cell_type": "markdown",
   "metadata": {},
   "source": [
    "46.WAS to concat the list and tuple value by using typecasting."
   ]
  },
  {
   "cell_type": "code",
   "execution_count": 34,
   "metadata": {},
   "outputs": [
    {
     "name": "stdout",
     "output_type": "stream",
     "text": [
      "['a', 'b', 'c', 10, 20, 30]\n",
      "(10, 20, 30, 'a', 'b', 'c')\n"
     ]
    }
   ],
   "source": [
    "a=['a','b','c']\n",
    "b=(10,20,30)\n",
    "a=a+list(b)\n",
    "print(a)\n",
    "    #OR\n",
    "a=['a','b','c']\n",
    "b=(10,20,30)\n",
    "b=b+tuple(a)\n",
    "print(b)"
   ]
  },
  {
   "cell_type": "markdown",
   "metadata": {},
   "source": [
    "49.WAS to concat the list and tuple value without using typecasting."
   ]
  },
  {
   "cell_type": "code",
   "execution_count": 35,
   "metadata": {},
   "outputs": [
    {
     "name": "stdout",
     "output_type": "stream",
     "text": [
      "['a', 'b', 'c', 10, 20, 30]\n"
     ]
    }
   ],
   "source": [
    "a=['a','b','c']\n",
    "b=(10,20,30)\n",
    "a+=b\n",
    "print(a)"
   ]
  },
  {
   "cell_type": "markdown",
   "metadata": {},
   "source": [
    "50.WAE to check the given number is divisible by 3 or not."
   ]
  },
  {
   "cell_type": "code",
   "execution_count": 36,
   "metadata": {},
   "outputs": [
    {
     "name": "stdout",
     "output_type": "stream",
     "text": [
      "False\n"
     ]
    }
   ],
   "source": [
    "a=40\n",
    "print(a%3==0)"
   ]
  },
  {
   "cell_type": "markdown",
   "metadata": {},
   "source": [
    "51.WAE to check the given number is divisible by 2 and 6."
   ]
  },
  {
   "cell_type": "code",
   "execution_count": 37,
   "metadata": {},
   "outputs": [
    {
     "name": "stdout",
     "output_type": "stream",
     "text": [
      "True\n"
     ]
    }
   ],
   "source": [
    "a=24\n",
    "print(a%2==0 and a%6==0)"
   ]
  },
  {
   "cell_type": "markdown",
   "metadata": {},
   "source": [
    "52.WAE to extract the last digit and last two digit in the given integer."
   ]
  },
  {
   "cell_type": "code",
   "execution_count": 39,
   "metadata": {},
   "outputs": [
    {
     "name": "stdout",
     "output_type": "stream",
     "text": [
      "8\n",
      "98\n"
     ]
    }
   ],
   "source": [
    "a=1998\n",
    "print(a%10)\n",
    "    #Last Two Digit\n",
    "a=1998\n",
    "print(a%100)"
   ]
  },
  {
   "cell_type": "markdown",
   "metadata": {},
   "source": [
    "53.WAE to check the last digit is divisible by 3 in a given integer.(without typecasting)"
   ]
  },
  {
   "cell_type": "code",
   "execution_count": 40,
   "metadata": {},
   "outputs": [
    {
     "name": "stdout",
     "output_type": "stream",
     "text": [
      "False\n"
     ]
    }
   ],
   "source": [
    "a=1998\n",
    "print((a%10)%3==0)"
   ]
  },
  {
   "cell_type": "markdown",
   "metadata": {},
   "source": [
    "54.WAE to check the last digit is divisible by 3 in a given integer.(with typecasting)"
   ]
  },
  {
   "cell_type": "code",
   "execution_count": 41,
   "metadata": {},
   "outputs": [
    {
     "name": "stdout",
     "output_type": "stream",
     "text": [
      "False\n"
     ]
    }
   ],
   "source": [
    "a=1998\n",
    "print(int(str(a)[-1])%3==0)"
   ]
  },
  {
   "cell_type": "markdown",
   "metadata": {},
   "source": [
    "55.WAE to check the given number is greater than 150."
   ]
  },
  {
   "cell_type": "code",
   "execution_count": 48,
   "metadata": {},
   "outputs": [
    {
     "name": "stdout",
     "output_type": "stream",
     "text": [
      "False\n"
     ]
    }
   ],
   "source": [
    "a=50\n",
    "print(a>150)"
   ]
  },
  {
   "cell_type": "markdown",
   "metadata": {},
   "source": [
    "56.WAE to check the given number is greater than or equal to 100."
   ]
  },
  {
   "cell_type": "code",
   "execution_count": 43,
   "metadata": {},
   "outputs": [
    {
     "name": "stdout",
     "output_type": "stream",
     "text": [
      "True\n"
     ]
    }
   ],
   "source": [
    "a=100\n",
    "print(a>100==0 or a==100)"
   ]
  },
  {
   "cell_type": "markdown",
   "metadata": {},
   "source": [
    "57.WAE to check the given number is lesser than 150."
   ]
  },
  {
   "cell_type": "code",
   "execution_count": 47,
   "metadata": {},
   "outputs": [
    {
     "name": "stdout",
     "output_type": "stream",
     "text": [
      "True\n"
     ]
    }
   ],
   "source": [
    "a=50\n",
    "print(a<150)"
   ]
  },
  {
   "cell_type": "markdown",
   "metadata": {},
   "source": [
    "58.WAE to check the number is less than or equal to 100. "
   ]
  },
  {
   "cell_type": "code",
   "execution_count": 2,
   "metadata": {},
   "outputs": [
    {
     "name": "stdout",
     "output_type": "stream",
     "text": [
      "True\n"
     ]
    }
   ],
   "source": [
    "a=100\n",
    "print(a<=100)"
   ]
  },
  {
   "cell_type": "markdown",
   "metadata": {},
   "source": [
    "59.WAE to check the number is greater than 15 and less than 24."
   ]
  },
  {
   "cell_type": "code",
   "execution_count": 4,
   "metadata": {},
   "outputs": [
    {
     "name": "stdout",
     "output_type": "stream",
     "text": [
      "False\n"
     ]
    }
   ],
   "source": [
    "a=30\n",
    "print(a>15 and a<24)"
   ]
  },
  {
   "cell_type": "markdown",
   "metadata": {},
   "source": [
    "60.WAE to check the given number is even."
   ]
  },
  {
   "cell_type": "code",
   "execution_count": 5,
   "metadata": {},
   "outputs": [
    {
     "name": "stdout",
     "output_type": "stream",
     "text": [
      "False\n"
     ]
    }
   ],
   "source": [
    "a=13\n",
    "print(a%2==0)"
   ]
  },
  {
   "cell_type": "markdown",
   "metadata": {},
   "source": [
    "61.WAE to check the given number is odd."
   ]
  },
  {
   "cell_type": "code",
   "execution_count": 6,
   "metadata": {},
   "outputs": [
    {
     "name": "stdout",
     "output_type": "stream",
     "text": [
      "True\n"
     ]
    }
   ],
   "source": [
    "a=13\n",
    "print(a%2==1)"
   ]
  },
  {
   "cell_type": "markdown",
   "metadata": {},
   "source": [
    "62.WAE to  perform the replication of a given string with 6."
   ]
  },
  {
   "cell_type": "code",
   "execution_count": 8,
   "metadata": {},
   "outputs": [
    {
     "name": "stdout",
     "output_type": "stream",
     "text": [
      "Ashish Ashish Ashish Ashish Ashish Ashish \n"
     ]
    }
   ],
   "source": [
    "a='Ashish '\n",
    "print(a*6)"
   ]
  },
  {
   "cell_type": "markdown",
   "metadata": {},
   "source": [
    "63.WAE to check the given number is divisible by 3 and also the the number should be greater than 23."
   ]
  },
  {
   "cell_type": "code",
   "execution_count": 9,
   "metadata": {},
   "outputs": [
    {
     "name": "stdout",
     "output_type": "stream",
     "text": [
      "True\n"
     ]
    }
   ],
   "source": [
    "a=33\n",
    "print(a%3==0 and a>23)"
   ]
  },
  {
   "cell_type": "markdown",
   "metadata": {},
   "source": [
    "64.WAE to check the length of the collection is even or not."
   ]
  },
  {
   "cell_type": "code",
   "execution_count": 10,
   "metadata": {},
   "outputs": [
    {
     "name": "stdout",
     "output_type": "stream",
     "text": [
      "True\n"
     ]
    }
   ],
   "source": [
    "a='Odisha'\n",
    "print(len(a)%2==0)"
   ]
  },
  {
   "cell_type": "markdown",
   "metadata": {},
   "source": [
    "65.WAE to check the length of the collection is less yhan 55 and greater than 16."
   ]
  },
  {
   "cell_type": "code",
   "execution_count": 11,
   "metadata": {},
   "outputs": [
    {
     "name": "stdout",
     "output_type": "stream",
     "text": [
      "True\n"
     ]
    }
   ],
   "source": [
    "a='wherearegoingrightnow'\n",
    "print(len(a)<55 and len(a)>16)"
   ]
  },
  {
   "cell_type": "markdown",
   "metadata": {},
   "source": [
    "66.WAE to check perform the length of collection is divisible by 5 and odd."
   ]
  },
  {
   "cell_type": "code",
   "execution_count": 1,
   "metadata": {},
   "outputs": [
    {
     "name": "stdout",
     "output_type": "stream",
     "text": [
      "False\n"
     ]
    }
   ],
   "source": [
    "a='abcdefghijklmnopqrs'\n",
    "print(len(a)%5==0 and len(a)%2==1)"
   ]
  },
  {
   "cell_type": "markdown",
   "metadata": {},
   "source": [
    "67.WAE to check the middle of the position of a given collection either str or list or tuple."
   ]
  },
  {
   "cell_type": "code",
   "execution_count": 3,
   "metadata": {},
   "outputs": [
    {
     "name": "stdout",
     "output_type": "stream",
     "text": [
      "True\n",
      "<class 'str'>\n"
     ]
    }
   ],
   "source": [
    "s='hai'\n",
    "res=type(s[len(s)//2])\n",
    "print(res==str or res==list or res==tuple)\n",
    "print(res)"
   ]
  },
  {
   "cell_type": "markdown",
   "metadata": {},
   "source": [
    "68.WAE to check the given number is greater than 20 and less than 30 and it should be even."
   ]
  },
  {
   "cell_type": "code",
   "execution_count": 4,
   "metadata": {},
   "outputs": [
    {
     "name": "stdout",
     "output_type": "stream",
     "text": [
      "False\n"
     ]
    }
   ],
   "source": [
    "a=25\n",
    "print(a>20 and a<30 and a%2==0)"
   ]
  },
  {
   "cell_type": "markdown",
   "metadata": {},
   "source": [
    "69.WAE to check given number is even and it should be less than 120."
   ]
  },
  {
   "cell_type": "code",
   "execution_count": 5,
   "metadata": {},
   "outputs": [
    {
     "name": "stdout",
     "output_type": "stream",
     "text": [
      "True\n"
     ]
    }
   ],
   "source": [
    "a=110\n",
    "print(a%2==0 and a<120)"
   ]
  },
  {
   "cell_type": "markdown",
   "metadata": {},
   "source": [
    "70.WAE to check the given number is even and present fromm 40 to 70."
   ]
  },
  {
   "cell_type": "code",
   "execution_count": 2,
   "metadata": {},
   "outputs": [
    {
     "name": "stdout",
     "output_type": "stream",
     "text": [
      "True\n"
     ]
    }
   ],
   "source": [
    "a=42\n",
    "print(a%2==0 and a>40 and a<70)"
   ]
  },
  {
   "cell_type": "markdown",
   "metadata": {},
   "source": [
    "71.WAE to check the given number is odd and it should be greater than 97."
   ]
  },
  {
   "cell_type": "code",
   "execution_count": 3,
   "metadata": {},
   "outputs": [
    {
     "name": "stdout",
     "output_type": "stream",
     "text": [
      "True\n"
     ]
    }
   ],
   "source": [
    "a=101\n",
    "print(a%2==1 and a>97)"
   ]
  },
  {
   "cell_type": "markdown",
   "metadata": {},
   "source": [
    "72.WAE to check the given number is less than 122 and greater than 48 and the number should be divisible by 4."
   ]
  },
  {
   "cell_type": "code",
   "execution_count": 4,
   "metadata": {},
   "outputs": [
    {
     "name": "stdout",
     "output_type": "stream",
     "text": [
      "False\n"
     ]
    }
   ],
   "source": [
    "a=98\n",
    "print(a<122 and a>48 and a%4==0)"
   ]
  },
  {
   "cell_type": "markdown",
   "metadata": {},
   "source": [
    "73.WAE to check the given number is divisible by 3 or 5, displaying the value."
   ]
  },
  {
   "cell_type": "code",
   "execution_count": 10,
   "metadata": {},
   "outputs": [
    {
     "name": "stdout",
     "output_type": "stream",
     "text": [
      "25\n",
      "True 25\n"
     ]
    }
   ],
   "source": [
    "a=25\n",
    "a%3==0 or a%5==0\n",
    "print(a)\n",
    "    #or\n",
    "print(a%3==0 or a%5==0,a)\n"
   ]
  },
  {
   "cell_type": "markdown",
   "metadata": {},
   "source": [
    "74.WAE to check the number is between 100 to 200 including the limit."
   ]
  },
  {
   "cell_type": "code",
   "execution_count": 12,
   "metadata": {},
   "outputs": [
    {
     "name": "stdout",
     "output_type": "stream",
     "text": [
      "True\n"
     ]
    }
   ],
   "source": [
    "a=130\n",
    "print(a>=100 and a<=200)"
   ]
  },
  {
   "cell_type": "markdown",
   "metadata": {},
   "source": [
    "75.WAE to check the given number is between 100 to 200."
   ]
  },
  {
   "cell_type": "code",
   "execution_count": 7,
   "metadata": {},
   "outputs": [
    {
     "name": "stdout",
     "output_type": "stream",
     "text": [
      "False\n"
     ]
    }
   ],
   "source": [
    "a=98\n",
    "print(a>100 and a<200)"
   ]
  },
  {
   "cell_type": "markdown",
   "metadata": {},
   "source": [
    "76.WAE to check the given string last character ASCII value should be divisible by 5 or not."
   ]
  },
  {
   "cell_type": "code",
   "execution_count": 2,
   "metadata": {},
   "outputs": [
    {
     "name": "stdout",
     "output_type": "stream",
     "text": [
      "False\n"
     ]
    }
   ],
   "source": [
    "a='apple'\n",
    "print(ord(a[-1])%5==0)"
   ]
  },
  {
   "cell_type": "markdown",
   "metadata": {},
   "source": [
    "77.WAE to check the given number is present between 60 to 130 and the number should be divisible by 3 and 4 and the last digit should be greater than 9."
   ]
  },
  {
   "cell_type": "code",
   "execution_count": 3,
   "metadata": {},
   "outputs": [
    {
     "name": "stdout",
     "output_type": "stream",
     "text": [
      "False\n"
     ]
    }
   ],
   "source": [
    "a=120\n",
    "print(a>=60 and a<=130 and a%3==0 and a%4==0 and a%10>9 )"
   ]
  },
  {
   "cell_type": "markdown",
   "metadata": {},
   "source": [
    "78.WAE to check the given number is even or less than 25."
   ]
  },
  {
   "cell_type": "code",
   "execution_count": 4,
   "metadata": {},
   "outputs": [
    {
     "name": "stdout",
     "output_type": "stream",
     "text": [
      "True\n"
     ]
    }
   ],
   "source": [
    "a=24\n",
    "print(a%2==0 or a<25)"
   ]
  },
  {
   "cell_type": "markdown",
   "metadata": {},
   "source": [
    "79.WAE to check the given number is even or greater than 25."
   ]
  },
  {
   "cell_type": "code",
   "execution_count": 5,
   "metadata": {},
   "outputs": [
    {
     "name": "stdout",
     "output_type": "stream",
     "text": [
      "True\n"
     ]
    }
   ],
   "source": [
    "a=26\n",
    "print(a%2==0 or a>25)\n"
   ]
  },
  {
   "cell_type": "markdown",
   "metadata": {},
   "source": [
    "80.WAE to check the given number is divisible by either 3 or 5."
   ]
  },
  {
   "cell_type": "code",
   "execution_count": 6,
   "metadata": {},
   "outputs": [
    {
     "name": "stdout",
     "output_type": "stream",
     "text": [
      "True\n"
     ]
    }
   ],
   "source": [
    "a=78\n",
    "print(a%3==0 or a%5==0)"
   ]
  },
  {
   "cell_type": "markdown",
   "metadata": {},
   "source": [
    "81.WAE to check the gievn number is not an even number."
   ]
  },
  {
   "cell_type": "code",
   "execution_count": 7,
   "metadata": {},
   "outputs": [
    {
     "name": "stdout",
     "output_type": "stream",
     "text": [
      "True\n"
     ]
    }
   ],
   "source": [
    "a=45\n",
    "print(a%2==1)"
   ]
  },
  {
   "cell_type": "markdown",
   "metadata": {},
   "source": [
    "82.WAE to check the given number is not an odd number."
   ]
  },
  {
   "cell_type": "code",
   "execution_count": 9,
   "metadata": {},
   "outputs": [
    {
     "name": "stdout",
     "output_type": "stream",
     "text": [
      "False\n"
     ]
    }
   ],
   "source": [
    "a=33\n",
    "print(a%2==0)"
   ]
  },
  {
   "cell_type": "markdown",
   "metadata": {},
   "source": [
    "83.WAE to check the given number is not divisible by 3."
   ]
  },
  {
   "cell_type": "code",
   "execution_count": 10,
   "metadata": {},
   "outputs": [
    {
     "name": "stdout",
     "output_type": "stream",
     "text": [
      "True\n"
     ]
    }
   ],
   "source": [
    "a=40\n",
    "print(a%3==1)"
   ]
  },
  {
   "cell_type": "markdown",
   "metadata": {},
   "source": [
    "84.WAE to check the given number is not divisible by 3 and 5."
   ]
  },
  {
   "cell_type": "code",
   "execution_count": 11,
   "metadata": {},
   "outputs": [
    {
     "name": "stdout",
     "output_type": "stream",
     "text": [
      "False\n"
     ]
    }
   ],
   "source": [
    "a=45\n",
    "print(a%3==1 and a%5==1)"
   ]
  },
  {
   "cell_type": "markdown",
   "metadata": {},
   "source": [
    "85.WAE to check the given number is not divisible by 3 or 5."
   ]
  },
  {
   "cell_type": "code",
   "execution_count": 12,
   "metadata": {},
   "outputs": [
    {
     "name": "stdout",
     "output_type": "stream",
     "text": [
      "False\n"
     ]
    }
   ],
   "source": [
    "a=45\n",
    "print(a%3==1 or a%5==1)"
   ]
  },
  {
   "cell_type": "markdown",
   "metadata": {},
   "source": [
    "86.WAE to check the given character ASCII value is not divisible by 5."
   ]
  },
  {
   "cell_type": "code",
   "execution_count": 15,
   "metadata": {},
   "outputs": [
    {
     "name": "stdout",
     "output_type": "stream",
     "text": [
      "False\n"
     ]
    }
   ],
   "source": [
    "a='F'\n",
    "print(ord(a)%5==1)"
   ]
  },
  {
   "cell_type": "markdown",
   "metadata": {},
   "source": [
    "87.WAE to check find out the ASCII character of given number."
   ]
  },
  {
   "cell_type": "code",
   "execution_count": 14,
   "metadata": {},
   "outputs": [
    {
     "name": "stdout",
     "output_type": "stream",
     "text": [
      "c\n"
     ]
    }
   ],
   "source": [
    "a=99\n",
    "print(chr(a))"
   ]
  },
  {
   "cell_type": "markdown",
   "metadata": {},
   "source": [
    "88.WAE to check find out the ASCII value of a given character."
   ]
  },
  {
   "cell_type": "code",
   "execution_count": 16,
   "metadata": {},
   "outputs": [
    {
     "name": "stdout",
     "output_type": "stream",
     "text": [
      "75\n"
     ]
    }
   ],
   "source": [
    "\n",
    "a='K'\n",
    "print(ord(a))"
   ]
  },
  {
   "cell_type": "markdown",
   "metadata": {},
   "source": [
    "89.WAE to check the given character is uppercase or not."
   ]
  },
  {
   "cell_type": "code",
   "execution_count": 17,
   "metadata": {},
   "outputs": [
    {
     "data": {
      "text/plain": [
       "True"
      ]
     },
     "execution_count": 17,
     "metadata": {},
     "output_type": "execute_result"
    }
   ],
   "source": [
    "a='Y'\n",
    "'A'<=a<='Z'"
   ]
  },
  {
   "cell_type": "markdown",
   "metadata": {},
   "source": [
    "90.WAE to check the given character is lower case or not."
   ]
  },
  {
   "cell_type": "code",
   "execution_count": 19,
   "metadata": {},
   "outputs": [
    {
     "name": "stdout",
     "output_type": "stream",
     "text": [
      "True\n"
     ]
    }
   ],
   "source": [
    "a='n'\n",
    "print('a'<=a<='z')"
   ]
  },
  {
   "cell_type": "markdown",
   "metadata": {},
   "source": [
    "91.WAE to check the given character is alphabet."
   ]
  },
  {
   "cell_type": "code",
   "execution_count": 20,
   "metadata": {},
   "outputs": [
    {
     "name": "stdout",
     "output_type": "stream",
     "text": [
      "True\n"
     ]
    }
   ],
   "source": [
    "a='R'\n",
    "print('A'<=a<='Z' or 'a'<=a<='z')"
   ]
  },
  {
   "cell_type": "markdown",
   "metadata": {},
   "source": [
    "92.WAE to check the given character is ASCII number."
   ]
  },
  {
   "cell_type": "code",
   "execution_count": 21,
   "metadata": {},
   "outputs": [
    {
     "name": "stdout",
     "output_type": "stream",
     "text": [
      "True\n"
     ]
    }
   ],
   "source": [
    "a='7'\n",
    "print('0'<=a<='9')"
   ]
  },
  {
   "cell_type": "markdown",
   "metadata": {},
   "source": [
    "93.WAE to check the given character is special character."
   ]
  },
  {
   "cell_type": "code",
   "execution_count": 22,
   "metadata": {},
   "outputs": [
    {
     "name": "stdout",
     "output_type": "stream",
     "text": [
      "True\n"
     ]
    }
   ],
   "source": [
    "a='#'\n",
    "print(0<=ord(a)<=47 or 58<=ord(a)<=64 or 91<=ord(a)<=96 or 123<=ord(a)<=127)"
   ]
  },
  {
   "cell_type": "markdown",
   "metadata": {},
   "source": [
    "94.WAE to check the given character should not be upper case."
   ]
  },
  {
   "cell_type": "code",
   "execution_count": 24,
   "metadata": {},
   "outputs": [
    {
     "name": "stdout",
     "output_type": "stream",
     "text": [
      "False\n",
      "False\n"
     ]
    }
   ],
   "source": [
    "a='D'\n",
    "print(ord(a)<65 or ord(a)>91)\n",
    "    #OR\n",
    "print(ord(a) not in range (65,91))"
   ]
  },
  {
   "cell_type": "markdown",
   "metadata": {},
   "source": [
    "95.WAE to check the given character should not be lower case."
   ]
  },
  {
   "cell_type": "code",
   "execution_count": 27,
   "metadata": {},
   "outputs": [
    {
     "name": "stdout",
     "output_type": "stream",
     "text": [
      "True\n"
     ]
    }
   ],
   "source": [
    "a='F'\n",
    "print(ord(a)<97 or ord(a)>122)"
   ]
  },
  {
   "cell_type": "markdown",
   "metadata": {},
   "source": [
    "96.WAE to check the given character should not be alphabet."
   ]
  },
  {
   "cell_type": "code",
   "execution_count": 28,
   "metadata": {},
   "outputs": [
    {
     "name": "stdout",
     "output_type": "stream",
     "text": [
      "True\n"
     ]
    }
   ],
   "source": [
    "a='6'\n",
    "print(0<=ord(a)<65 or 90<ord(a)<97 or 122<ord(a)<=127)\n"
   ]
  },
  {
   "cell_type": "markdown",
   "metadata": {},
   "source": [
    "97.WAE to check the given character should not be an ASCII number."
   ]
  },
  {
   "cell_type": "code",
   "execution_count": 29,
   "metadata": {},
   "outputs": [
    {
     "name": "stdout",
     "output_type": "stream",
     "text": [
      "True\n"
     ]
    }
   ],
   "source": [
    "a='p'\n",
    "print(0<=ord(a)<48 or 57<ord(a)<=127)"
   ]
  },
  {
   "cell_type": "markdown",
   "metadata": {},
   "source": [
    "98.WAE to check the given character should not special character."
   ]
  },
  {
   "cell_type": "code",
   "execution_count": 31,
   "metadata": {},
   "outputs": [
    {
     "name": "stdout",
     "output_type": "stream",
     "text": [
      "False\n"
     ]
    }
   ],
   "source": [
    "a='@'\n",
    "print(48<=ord(a)<=57 or 65<=ord(a)<=90 or 97<=ord(a)<=122)"
   ]
  },
  {
   "cell_type": "markdown",
   "metadata": {},
   "source": [
    "99.WAE to check the given character is a vowel.\n"
   ]
  },
  {
   "cell_type": "code",
   "execution_count": 35,
   "metadata": {},
   "outputs": [
    {
     "name": "stdout",
     "output_type": "stream",
     "text": [
      "False\n",
      "False\n"
     ]
    }
   ],
   "source": [
    "a='m'\n",
    "print(a in['a','e','i','o','u','A','E','I','O','U'])\n",
    "    #OR\n",
    "print(a in 'aeiouAEIOU')"
   ]
  },
  {
   "cell_type": "markdown",
   "metadata": {},
   "source": [
    "100.WAE to check the given character is a consonant."
   ]
  },
  {
   "cell_type": "code",
   "execution_count": 34,
   "metadata": {},
   "outputs": [
    {
     "name": "stdout",
     "output_type": "stream",
     "text": [
      "True\n",
      "True\n"
     ]
    }
   ],
   "source": [
    "a='g'\n",
    "print(a not in ['a','e','i','o','u','A','E','I','O','U'])\n",
    "    #OR\n",
    "print(a not in 'aeiouAEIOU')"
   ]
  },
  {
   "cell_type": "markdown",
   "metadata": {},
   "source": [
    "101.WAE to convert uppercase to lower case in a given character."
   ]
  },
  {
   "cell_type": "code",
   "execution_count": 4,
   "metadata": {},
   "outputs": [
    {
     "name": "stdout",
     "output_type": "stream",
     "text": [
      "n\n",
      "n\n"
     ]
    }
   ],
   "source": [
    "a='N'\n",
    "print(a.lower())\n",
    "#or\n",
    "print(chr(ord(a)+32))"
   ]
  },
  {
   "cell_type": "markdown",
   "metadata": {},
   "source": [
    "102.WAE to convert lowercase to upper case in a given character."
   ]
  },
  {
   "cell_type": "code",
   "execution_count": 7,
   "metadata": {},
   "outputs": [
    {
     "name": "stdout",
     "output_type": "stream",
     "text": [
      "y\n"
     ]
    }
   ],
   "source": [
    "a='Y'\n",
    "print(a.lower())"
   ]
  },
  {
   "cell_type": "markdown",
   "metadata": {},
   "source": [
    "103.WAE to extract the previous character in given character."
   ]
  },
  {
   "cell_type": "code",
   "execution_count": 8,
   "metadata": {},
   "outputs": [
    {
     "data": {
      "text/plain": [
       "'j'"
      ]
     },
     "execution_count": 8,
     "metadata": {},
     "output_type": "execute_result"
    }
   ],
   "source": [
    "a='k'\n",
    "chr(ord(a)-1)"
   ]
  },
  {
   "cell_type": "markdown",
   "metadata": {},
   "source": [
    "104.WAE to extract the next character in given character."
   ]
  },
  {
   "cell_type": "code",
   "execution_count": 10,
   "metadata": {},
   "outputs": [
    {
     "name": "stdout",
     "output_type": "stream",
     "text": [
      "H\n"
     ]
    }
   ],
   "source": [
    "a='G'\n",
    "print(chr(ord(a)+1))"
   ]
  },
  {
   "cell_type": "markdown",
   "metadata": {},
   "source": [
    "105.WAE to check the given character is converted to ASCII value and the value is even as well as the character should be lowercase."
   ]
  },
  {
   "cell_type": "code",
   "execution_count": 16,
   "metadata": {},
   "outputs": [
    {
     "name": "stdout",
     "output_type": "stream",
     "text": [
      "True\n"
     ]
    }
   ],
   "source": [
    "a='h'\n",
    "print(ord(a)%2==0 and 'a'<=a<='z')"
   ]
  },
  {
   "cell_type": "markdown",
   "metadata": {},
   "source": [
    "106.WAE to check the given character is converted to ASCII value and the value is odd as well as the character should be uppercase."
   ]
  },
  {
   "cell_type": "code",
   "execution_count": 17,
   "metadata": {},
   "outputs": [
    {
     "name": "stdout",
     "output_type": "stream",
     "text": [
      "False\n"
     ]
    }
   ],
   "source": [
    "a='h'\n",
    "print(ord(a)%2==1 and 'A'<=a<='Z')"
   ]
  },
  {
   "cell_type": "markdown",
   "metadata": {},
   "source": [
    "107.WAE to check the given number is converted to character is not a special symbol or not."
   ]
  },
  {
   "cell_type": "code",
   "execution_count": 22,
   "metadata": {},
   "outputs": [
    {
     "name": "stdout",
     "output_type": "stream",
     "text": [
      "True\n"
     ]
    }
   ],
   "source": [
    "n=78\n",
    "print('A'<=chr(n)<='Z' or 'a'<=chr(n)<='z' or '0'<=chr(n)<='9')"
   ]
  },
  {
   "cell_type": "markdown",
   "metadata": {},
   "source": [
    "108.WAE to check the given number of the ASCII character is vowel or not."
   ]
  },
  {
   "cell_type": "code",
   "execution_count": 23,
   "metadata": {},
   "outputs": [
    {
     "name": "stdout",
     "output_type": "stream",
     "text": [
      "True\n"
     ]
    }
   ],
   "source": [
    "n=65\n",
    "print(chr(n) in 'aeiouAEIOU')"
   ]
  },
  {
   "cell_type": "markdown",
   "metadata": {},
   "source": [
    "109.WAE to check the first and second character are sequence or not."
   ]
  },
  {
   "cell_type": "code",
   "execution_count": 24,
   "metadata": {},
   "outputs": [
    {
     "data": {
      "text/plain": [
       "True"
      ]
     },
     "execution_count": 24,
     "metadata": {},
     "output_type": "execute_result"
    }
   ],
   "source": [
    "s='abcdef'\n",
    "ord(s[0])+1==ord(s[1])"
   ]
  },
  {
   "cell_type": "markdown",
   "metadata": {},
   "source": [
    "110.WAE to check the given character ASCII value should be either greater then 25 or less than 112."
   ]
  },
  {
   "cell_type": "code",
   "execution_count": 25,
   "metadata": {},
   "outputs": [
    {
     "data": {
      "text/plain": [
       "True"
      ]
     },
     "execution_count": 25,
     "metadata": {},
     "output_type": "execute_result"
    }
   ],
   "source": [
    "a='p'\n",
    "ord(a)>25 or ord(a)<112"
   ]
  },
  {
   "cell_type": "markdown",
   "metadata": {},
   "source": [
    "111.WAE to given number is increased by 1."
   ]
  },
  {
   "cell_type": "code",
   "execution_count": 28,
   "metadata": {},
   "outputs": [
    {
     "name": "stdout",
     "output_type": "stream",
     "text": [
      "13\n"
     ]
    }
   ],
   "source": [
    "a=12\n",
    "a=a+1\n",
    "print(a)"
   ]
  },
  {
   "cell_type": "markdown",
   "metadata": {},
   "source": [
    "112.WAE to given number is increased by 2."
   ]
  },
  {
   "cell_type": "code",
   "execution_count": 29,
   "metadata": {},
   "outputs": [
    {
     "name": "stdout",
     "output_type": "stream",
     "text": [
      "14\n"
     ]
    }
   ],
   "source": [
    "a=12\n",
    "a=a+2\n",
    "print(a)"
   ]
  },
  {
   "cell_type": "markdown",
   "metadata": {},
   "source": [
    "113.WAE to given number is decreased by 1."
   ]
  },
  {
   "cell_type": "code",
   "execution_count": 32,
   "metadata": {},
   "outputs": [
    {
     "name": "stdout",
     "output_type": "stream",
     "text": [
      "11\n"
     ]
    }
   ],
   "source": [
    "a=12\n",
    "a=a-1\n",
    "print(a)"
   ]
  },
  {
   "cell_type": "markdown",
   "metadata": {},
   "source": [
    "114.WAE to given number is decreased by 3."
   ]
  },
  {
   "cell_type": "code",
   "execution_count": 31,
   "metadata": {},
   "outputs": [
    {
     "name": "stdout",
     "output_type": "stream",
     "text": [
      "9\n"
     ]
    }
   ],
   "source": [
    "a=12\n",
    "a=a-3\n",
    "print(a)"
   ]
  },
  {
   "cell_type": "markdown",
   "metadata": {},
   "source": [
    "115.WAE to check the given integer number is present in collection or not."
   ]
  },
  {
   "cell_type": "code",
   "execution_count": 33,
   "metadata": {},
   "outputs": [
    {
     "name": "stdout",
     "output_type": "stream",
     "text": [
      "True\n"
     ]
    }
   ],
   "source": [
    "a=20\n",
    "b=[10,20,30,40,50]\n",
    "print(a in b)"
   ]
  },
  {
   "cell_type": "markdown",
   "metadata": {},
   "source": [
    "116.WAE to perform the addition operation on 'A' values and 'B' value and final result should be updated to A."
   ]
  },
  {
   "cell_type": "code",
   "execution_count": 35,
   "metadata": {},
   "outputs": [
    {
     "name": "stdout",
     "output_type": "stream",
     "text": [
      "120\n"
     ]
    }
   ],
   "source": [
    "a=50\n",
    "b=70\n",
    "a=a+b\n",
    "print(a)"
   ]
  },
  {
   "cell_type": "markdown",
   "metadata": {},
   "source": [
    "117.WAE to check the given value is present in collection"
   ]
  },
  {
   "cell_type": "code",
   "execution_count": 36,
   "metadata": {},
   "outputs": [
    {
     "name": "stdout",
     "output_type": "stream",
     "text": [
      "False\n"
     ]
    }
   ],
   "source": [
    "a='y'\n",
    "b='PYSPIDERS'\n",
    "print(a in b)"
   ]
  },
  {
   "cell_type": "markdown",
   "metadata": {},
   "source": [
    "118.WAE to check the given list is present in the list."
   ]
  },
  {
   "cell_type": "code",
   "execution_count": 31,
   "metadata": {},
   "outputs": [
    {
     "name": "stdout",
     "output_type": "stream",
     "text": [
      "True\n"
     ]
    }
   ],
   "source": [
    "a=[['c','d'],'e','f','g']\n",
    "b=['c','d']\n",
    "print(b in a)\n"
   ]
  },
  {
   "cell_type": "markdown",
   "metadata": {},
   "source": [
    "119.WAE to check the given dict is present in the tuple."
   ]
  },
  {
   "cell_type": "code",
   "execution_count": 39,
   "metadata": {},
   "outputs": [
    {
     "name": "stdout",
     "output_type": "stream",
     "text": [
      "True\n"
     ]
    }
   ],
   "source": [
    "t=(10,20,{1:'2',3:'4',5:'6'})\n",
    "d={1:'2',3:'4',5:'6'}\n",
    "print(d in t)"
   ]
  },
  {
   "cell_type": "markdown",
   "metadata": {},
   "source": [
    "120.WAE to check the given value is integer or not."
   ]
  },
  {
   "cell_type": "code",
   "execution_count": 1,
   "metadata": {},
   "outputs": [
    {
     "data": {
      "text/plain": [
       "True"
      ]
     },
     "execution_count": 1,
     "metadata": {},
     "output_type": "execute_result"
    }
   ],
   "source": [
    "a=30\n",
    "type(a)==int"
   ]
  },
  {
   "cell_type": "markdown",
   "metadata": {},
   "source": [
    "121.WAE to check the given value is string value or not."
   ]
  },
  {
   "cell_type": "code",
   "execution_count": 3,
   "metadata": {},
   "outputs": [
    {
     "name": "stdout",
     "output_type": "stream",
     "text": [
      "True\n"
     ]
    }
   ],
   "source": [
    "a='abcd'\n",
    "print(type(a)==str)"
   ]
  },
  {
   "cell_type": "markdown",
   "metadata": {},
   "source": [
    "\n",
    "122.WAE to check given value is single value or not."
   ]
  },
  {
   "cell_type": "code",
   "execution_count": 2,
   "metadata": {},
   "outputs": [
    {
     "data": {
      "text/plain": [
       "True"
      ]
     },
     "execution_count": 2,
     "metadata": {},
     "output_type": "execute_result"
    }
   ],
   "source": [
    "c=b'1010'\n",
    "type(c) in [int,float,complex,bytes]"
   ]
  },
  {
   "cell_type": "markdown",
   "metadata": {},
   "source": [
    "123.WAE to check given value should not be a single value."
   ]
  },
  {
   "cell_type": "code",
   "execution_count": 4,
   "metadata": {},
   "outputs": [
    {
     "name": "stdout",
     "output_type": "stream",
     "text": [
      "True\n"
     ]
    }
   ],
   "source": [
    "a='d'\n",
    "print(type(a) not in [int,float,bytes,complex,bool])"
   ]
  },
  {
   "cell_type": "markdown",
   "metadata": {},
   "source": [
    "124.WAE to check given value is multivalue or not."
   ]
  },
  {
   "cell_type": "code",
   "execution_count": 5,
   "metadata": {},
   "outputs": [
    {
     "name": "stdout",
     "output_type": "stream",
     "text": [
      "True\n"
     ]
    }
   ],
   "source": [
    "a={'a','b','c'} #set value\n",
    "print(type(a) in [list,tuple,set,dict])"
   ]
  },
  {
   "cell_type": "markdown",
   "metadata": {},
   "source": [
    "125.WAE to check the given value is mutable or not."
   ]
  },
  {
   "cell_type": "code",
   "execution_count": 6,
   "metadata": {},
   "outputs": [
    {
     "name": "stdout",
     "output_type": "stream",
     "text": [
      "False\n"
     ]
    }
   ],
   "source": [
    "a=(1,3,5)   #tuple is not a mutable data type\n",
    "print(type(a) in [list,set,dict])"
   ]
  },
  {
   "cell_type": "markdown",
   "metadata": {},
   "source": [
    "126.WAE to check the value is immutable or not."
   ]
  },
  {
   "cell_type": "code",
   "execution_count": 7,
   "metadata": {},
   "outputs": [
    {
     "name": "stdout",
     "output_type": "stream",
     "text": [
      "True\n"
     ]
    }
   ],
   "source": [
    "a='Ashish'\n",
    "print(type(a) in [str,tuple])"
   ]
  },
  {
   "cell_type": "markdown",
   "metadata": {},
   "source": [
    "127.WAE to check given value is divisible by 6 as well as that value is present in the collection or not."
   ]
  },
  {
   "cell_type": "code",
   "execution_count": 9,
   "metadata": {},
   "outputs": [
    {
     "name": "stdout",
     "output_type": "stream",
     "text": [
      "True\n"
     ]
    }
   ],
   "source": [
    "a=18\n",
    "coll=[10,12,18,20]\n",
    "print(a%6==0 and a in coll)"
   ]
  },
  {
   "cell_type": "markdown",
   "metadata": {},
   "source": [
    "128.WAE to perform bitwise and operation given values are 15 and 19."
   ]
  },
  {
   "cell_type": "code",
   "execution_count": 10,
   "metadata": {},
   "outputs": [
    {
     "name": "stdout",
     "output_type": "stream",
     "text": [
      "3\n"
     ]
    }
   ],
   "source": [
    "a=15\n",
    "b=19\n",
    "print(a&b)"
   ]
  },
  {
   "cell_type": "markdown",
   "metadata": {},
   "source": [
    "129.WAE to perform bitwise or operation given values are 115 and 79."
   ]
  },
  {
   "cell_type": "code",
   "execution_count": 11,
   "metadata": {},
   "outputs": [
    {
     "name": "stdout",
     "output_type": "stream",
     "text": [
      "127\n"
     ]
    }
   ],
   "source": [
    "a=115\n",
    "b=79\n",
    "print(a|b)"
   ]
  },
  {
   "cell_type": "markdown",
   "metadata": {},
   "source": [
    "130.WAE to perform bitwise xor operation given values are 56 and 22."
   ]
  },
  {
   "cell_type": "code",
   "execution_count": 12,
   "metadata": {},
   "outputs": [
    {
     "name": "stdout",
     "output_type": "stream",
     "text": [
      "46\n"
     ]
    }
   ],
   "source": [
    "a=56\n",
    "b=22\n",
    "print(a^22)"
   ]
  },
  {
   "cell_type": "markdown",
   "metadata": {},
   "source": [
    "131.WAE to perform bitwise not operation given values is 15."
   ]
  },
  {
   "cell_type": "code",
   "execution_count": 13,
   "metadata": {},
   "outputs": [
    {
     "name": "stdout",
     "output_type": "stream",
     "text": [
      "-16\n"
     ]
    }
   ],
   "source": [
    "a=15\n",
    "print(~a)"
   ]
  },
  {
   "cell_type": "markdown",
   "metadata": {},
   "source": [
    "132.WAE to perform bitwise left shift with 32 and skipping value is 3."
   ]
  },
  {
   "cell_type": "code",
   "execution_count": 15,
   "metadata": {},
   "outputs": [
    {
     "name": "stdout",
     "output_type": "stream",
     "text": [
      "256\n"
     ]
    }
   ],
   "source": [
    "a=32\n",
    "b=3\n",
    "print(a<<b)"
   ]
  },
  {
   "cell_type": "markdown",
   "metadata": {},
   "source": [
    "133.WAE to perform bitwise right shift with 25 and skipping value is 2."
   ]
  },
  {
   "cell_type": "code",
   "execution_count": 14,
   "metadata": {},
   "outputs": [
    {
     "name": "stdout",
     "output_type": "stream",
     "text": [
      "6\n"
     ]
    }
   ],
   "source": [
    "a=25\n",
    "b=2\n",
    "print(a>>b)"
   ]
  },
  {
   "cell_type": "markdown",
   "metadata": {},
   "source": [
    "134.TO find out the ouput of a given codition.\n",
    "    (10+20*60 and 10**3) or ({10,20} or not ([15-16]))"
   ]
  },
  {
   "cell_type": "code",
   "execution_count": 16,
   "metadata": {},
   "outputs": [
    {
     "name": "stdout",
     "output_type": "stream",
     "text": [
      "1000\n"
     ]
    }
   ],
   "source": [
    "print((10+20*60 and 10**3) or ({10,20} or not ([15-16])))"
   ]
  },
  {
   "cell_type": "markdown",
   "metadata": {},
   "source": [
    "135.WAE to check if a given key is present in a dict."
   ]
  },
  {
   "cell_type": "code",
   "execution_count": 17,
   "metadata": {},
   "outputs": [
    {
     "name": "stdout",
     "output_type": "stream",
     "text": [
      "True\n"
     ]
    }
   ],
   "source": [
    "d={a:'apple',b:'ball',c:'cat'}\n",
    "c=3\n",
    "print(c in d)"
   ]
  },
  {
   "cell_type": "markdown",
   "metadata": {},
   "source": [
    "136.WAE to check if a value is present in a dict."
   ]
  },
  {
   "cell_type": "code",
   "execution_count": 19,
   "metadata": {},
   "outputs": [
    {
     "name": "stdout",
     "output_type": "stream",
     "text": [
      "True\n"
     ]
    }
   ],
   "source": [
    "d={a:'apple',b:'ball',c:'cat'}\n",
    "c='ball'\n",
    "print(c in d.values())"
   ]
  },
  {
   "cell_type": "markdown",
   "metadata": {},
   "source": [
    "137.135.WAE to check if a given key is not present in a dict."
   ]
  },
  {
   "cell_type": "code",
   "execution_count": 20,
   "metadata": {},
   "outputs": [
    {
     "name": "stdout",
     "output_type": "stream",
     "text": [
      "False\n"
     ]
    }
   ],
   "source": [
    "d={a:'apple',b:'ball',c:'cat'}\n",
    "c=3\n",
    "print(c not in d)"
   ]
  },
  {
   "cell_type": "markdown",
   "metadata": {},
   "source": [
    "138.WAE to check if a value pair is present in a dict or not."
   ]
  },
  {
   "cell_type": "code",
   "execution_count": 22,
   "metadata": {},
   "outputs": [
    {
     "name": "stdout",
     "output_type": "stream",
     "text": [
      "True\n"
     ]
    }
   ],
   "source": [
    "d={a:'apple',b:'ball',c:'cat'}\n",
    "c=3\n",
    "print(c not in d.items())"
   ]
  },
  {
   "cell_type": "markdown",
   "metadata": {},
   "source": [
    "139.WAE to check if two values are pointing to same address or not."
   ]
  },
  {
   "cell_type": "code",
   "execution_count": 23,
   "metadata": {},
   "outputs": [
    {
     "name": "stdout",
     "output_type": "stream",
     "text": [
      "True\n"
     ]
    }
   ],
   "source": [
    "a=24\n",
    "b=24\n",
    "print(a is b)"
   ]
  },
  {
   "cell_type": "markdown",
   "metadata": {},
   "source": [
    "140. WAE to check both the values should be integer and both the values are pointing to the same address."
   ]
  },
  {
   "cell_type": "code",
   "execution_count": 26,
   "metadata": {},
   "outputs": [
    {
     "name": "stdout",
     "output_type": "stream",
     "text": [
      "True\n"
     ]
    }
   ],
   "source": [
    "a=129\n",
    "b=129\n",
    "print(type(a) is int and type(b) is int and (a is b))"
   ]
  }
 ],
 "metadata": {
  "kernelspec": {
   "display_name": "Python 3",
   "language": "python",
   "name": "python3"
  },
  "language_info": {
   "codemirror_mode": {
    "name": "ipython",
    "version": 3
   },
   "file_extension": ".py",
   "mimetype": "text/x-python",
   "name": "python",
   "nbconvert_exporter": "python",
   "pygments_lexer": "ipython3",
   "version": "3.11.4"
  },
  "orig_nbformat": 4
 },
 "nbformat": 4,
 "nbformat_minor": 2
}
