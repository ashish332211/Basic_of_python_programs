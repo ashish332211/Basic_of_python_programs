{
 "cells": [
  {
   "cell_type": "code",
   "execution_count": 1,
   "metadata": {},
   "outputs": [],
   "source": [
    "from abc import ABC, abstractmethod\n",
    "class sample(ABC):              #partial abstract class\n",
    "    def display(self):        #normal object method\n",
    "        pass\n",
    "obj = sample()          #Here We can create the object"
   ]
  },
  {
   "cell_type": "code",
   "execution_count": 6,
   "metadata": {},
   "outputs": [
    {
     "ename": "TypeError",
     "evalue": "Can't instantiate abstract class child without an implementation for abstract method 'display'",
     "output_type": "error",
     "traceback": [
      "\u001b[1;31m---------------------------------------------------------------------------\u001b[0m",
      "\u001b[1;31mTypeError\u001b[0m                                 Traceback (most recent call last)",
      "\u001b[1;32mc:\\Users\\HP\\Documents\\GitHub\\Basic_of_python_programs\\OOPS\\ABSTRACTION\\Abstract.ipynb Cell 2\u001b[0m line \u001b[0;36m1\n\u001b[0;32m     <a href='vscode-notebook-cell:/c%3A/Users/HP/Documents/GitHub/Basic_of_python_programs/OOPS/ABSTRACTION/Abstract.ipynb#W1sZmlsZQ%3D%3D?line=12'>13</a>\u001b[0m \u001b[39mclass\u001b[39;00m \u001b[39mchild\u001b[39;00m(sample):\n\u001b[0;32m     <a href='vscode-notebook-cell:/c%3A/Users/HP/Documents/GitHub/Basic_of_python_programs/OOPS/ABSTRACTION/Abstract.ipynb#W1sZmlsZQ%3D%3D?line=13'>14</a>\u001b[0m     \u001b[39mpass\u001b[39;00m\n\u001b[1;32m---> <a href='vscode-notebook-cell:/c%3A/Users/HP/Documents/GitHub/Basic_of_python_programs/OOPS/ABSTRACTION/Abstract.ipynb#W1sZmlsZQ%3D%3D?line=15'>16</a>\u001b[0m xyz \u001b[39m=\u001b[39m child()       \u001b[39m#We can not create the object for child abstract class, \u001b[39;00m\n\u001b[0;32m     <a href='vscode-notebook-cell:/c%3A/Users/HP/Documents/GitHub/Basic_of_python_programs/OOPS/ABSTRACTION/Abstract.ipynb#W1sZmlsZQ%3D%3D?line=16'>17</a>\u001b[0m                     \u001b[39m#Because user is not defined the method (display method) in child class\u001b[39;00m\n",
      "\u001b[1;31mTypeError\u001b[0m: Can't instantiate abstract class child without an implementation for abstract method 'display'"
     ]
    }
   ],
   "source": [
    "#Developer point of view\n",
    "from abc import ABC, abstractmethod\n",
    "\n",
    "class sample(ABC):          #Fully abstract class\n",
    "\n",
    "    @abstractmethod         #abstractmethod decorator\n",
    "    def display(self):      #abstract object method(define)\n",
    "        pass         #no implementation\n",
    "\n",
    "# obj = sample()      #we can not create the object for full abstract class\n",
    "\n",
    "#user point of view\n",
    "class child(sample):\n",
    "    pass\n",
    "\n",
    "xyz = child()       #We can not create the object for child abstract class, \n",
    "                    #Because user is not defined the method (display method) in child class"
   ]
  },
  {
   "cell_type": "code",
   "execution_count": 5,
   "metadata": {},
   "outputs": [
    {
     "name": "stdout",
     "output_type": "stream",
     "text": [
      "Haiii\n"
     ]
    }
   ],
   "source": [
    "#TO OVERCOME ABOVE PROBLEMS \n",
    "#Developer point of view\n",
    "from abc import ABC, abstractmethod\n",
    "\n",
    "class sample(ABC):          #Fully abstract class\n",
    "\n",
    "    @abstractmethod         #abstractmethod decorator\n",
    "    def display(self):      #abstract object method(define)\n",
    "        pass         #no implementation\n",
    "\n",
    "# obj = sample()      #we can not create the object for full abstract class\n",
    "\n",
    "#user point of view\n",
    "class child(sample):\n",
    "    def display(self):\n",
    "        print('Haiii')\n",
    "\n",
    "xyz = child()       #We can create the object for child abstract class,Because user is defined the method (display method) in child class\n",
    "xyz.display()"
   ]
  },
  {
   "cell_type": "code",
   "execution_count": 11,
   "metadata": {},
   "outputs": [],
   "source": [
    "from abc import ABC, abstractmethod\n",
    "\n",
    "class Bank(ABC):\n",
    "    def __init__(self, name, age, phone, email, address):\n",
    "        self.name = name\n",
    "        self.age = age\n",
    "        self.phone = phone\n",
    "        self.email = email\n",
    "        self.address = address\n",
    "        self.password = None\n",
    "\n",
    "    @abstractmethod\n",
    "    def display(self):\n",
    "        pass\n",
    "\n",
    "    def modify_phone(self):\n",
    "        self.phone = int(input(\"Enter The Phone Number: \"))\n",
    "\n",
    "    @abstractmethod\n",
    "    def default_password(self):\n",
    "        pass\n",
    "\n",
    "\n",
    "class child(Bank):\n",
    "    def display(self):\n",
    "        print(self.name, self.age, self.phone, self.email, self.address)\n",
    "\n",
    "    def default_password(self):\n",
    "        self.password = input(\"Enter The Password: \")\n",
    "\n",
    "obj = child('Ram', 23, 9876543212, 'ram@gmail.com', 'hyd')\n",
    "obj.modify_phone()\n",
    "obj.default_password()\n"
   ]
  },
  {
   "cell_type": "code",
   "execution_count": 12,
   "metadata": {},
   "outputs": [
    {
     "data": {
      "text/plain": [
       "{'name': 'Ram',\n",
       " 'age': 23,\n",
       " 'phone': 8756433768,\n",
       " 'email': 'ram@gmail.com',\n",
       " 'address': 'hyd',\n",
       " 'password': ''}"
      ]
     },
     "execution_count": 12,
     "metadata": {},
     "output_type": "execute_result"
    }
   ],
   "source": [
    "obj.__dict__"
   ]
  }
 ],
 "metadata": {
  "kernelspec": {
   "display_name": "Python 3",
   "language": "python",
   "name": "python3"
  },
  "language_info": {
   "codemirror_mode": {
    "name": "ipython",
    "version": 3
   },
   "file_extension": ".py",
   "mimetype": "text/x-python",
   "name": "python",
   "nbconvert_exporter": "python",
   "pygments_lexer": "ipython3",
   "version": "3.12.0"
  }
 },
 "nbformat": 4,
 "nbformat_minor": 2
}
