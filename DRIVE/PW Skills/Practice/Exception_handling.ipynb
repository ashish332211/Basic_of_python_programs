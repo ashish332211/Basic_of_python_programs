{
 "cells": [
  {
   "cell_type": "code",
   "execution_count": 2,
   "id": "a2ba775a",
   "metadata": {},
   "outputs": [],
   "source": [
    "file = open('emp.txt', 'w') #Here I opened a file in write mode"
   ]
  },
  {
   "cell_type": "code",
   "execution_count": 3,
   "id": "b0340957",
   "metadata": {},
   "outputs": [
    {
     "data": {
      "text/plain": [
       "27"
      ]
     },
     "execution_count": 3,
     "metadata": {},
     "output_type": "execute_result"
    }
   ],
   "source": [
    "file.write('Hello....How are you all!!!')"
   ]
  },
  {
   "cell_type": "code",
   "execution_count": 4,
   "id": "1f89ccdd",
   "metadata": {},
   "outputs": [],
   "source": [
    "file.close()    #For see the content in the file...We need to close it"
   ]
  },
  {
   "cell_type": "code",
   "execution_count": 5,
   "id": "4d0b4b8c",
   "metadata": {},
   "outputs": [
    {
     "data": {
      "text/plain": [
       "<_io.TextIOWrapper name='emp.txt' mode='w' encoding='cp1252'>"
      ]
     },
     "execution_count": 5,
     "metadata": {},
     "output_type": "execute_result"
    }
   ],
   "source": [
    "file"
   ]
  },
  {
   "cell_type": "code",
   "execution_count": 6,
   "id": "fa992ba0",
   "metadata": {},
   "outputs": [],
   "source": [
    "file = open('emp.txt', 'r')"
   ]
  },
  {
   "cell_type": "code",
   "execution_count": 7,
   "id": "9c2c91b7",
   "metadata": {},
   "outputs": [
    {
     "data": {
      "text/plain": [
       "False"
      ]
     },
     "execution_count": 7,
     "metadata": {},
     "output_type": "execute_result"
    }
   ],
   "source": [
    "file.closed   #It will return false because we opened the file and we did not close it. After closing the file it will return true"
   ]
  },
  {
   "cell_type": "code",
   "execution_count": 8,
   "id": "9ebb66f0",
   "metadata": {},
   "outputs": [],
   "source": [
    "file.close()"
   ]
  },
  {
   "cell_type": "code",
   "execution_count": 9,
   "id": "ff494f85",
   "metadata": {},
   "outputs": [
    {
     "data": {
      "text/plain": [
       "True"
      ]
     },
     "execution_count": 9,
     "metadata": {},
     "output_type": "execute_result"
    }
   ],
   "source": [
    "file.closed  #Now It retrurned true"
   ]
  },
  {
   "cell_type": "code",
   "execution_count": null,
   "id": "4ef68379",
   "metadata": {},
   "outputs": [
    {
     "ename": "ValueError",
     "evalue": "I/O operation on closed file.",
     "output_type": "error",
     "traceback": [
      "\u001b[1;31m---------------------------------------------------------------------------\u001b[0m",
      "\u001b[1;31mValueError\u001b[0m                                Traceback (most recent call last)",
      "Cell \u001b[1;32mIn[10], line 1\u001b[0m\n\u001b[1;32m----> 1\u001b[0m \u001b[43mfile\u001b[49m\u001b[38;5;241;43m.\u001b[39;49m\u001b[43mwrite\u001b[49m\u001b[43m(\u001b[49m\u001b[38;5;124;43m'\u001b[39;49m\u001b[38;5;124;43mHello World\u001b[39;49m\u001b[38;5;124;43m'\u001b[39;49m\u001b[43m)\u001b[49m\n",
      "\u001b[1;31mValueError\u001b[0m: I/O operation on closed file."
     ]
    }
   ],
   "source": [
    "file.write('Hello World')   #this will not be executed, throw an error>> file is closed>>you can not write anything in closed file"
   ]
  },
  {
   "cell_type": "code",
   "execution_count": null,
   "id": "7016f01e",
   "metadata": {},
   "outputs": [],
   "source": [
    "file = open('emp.txt', 'w')    #it will truncate(delete) all earlier contetnt and make a fresh emp.txt"
   ]
  },
  {
   "cell_type": "code",
   "execution_count": 5,
   "id": "1e515962",
   "metadata": {},
   "outputs": [],
   "source": [
    "file = open('emp.txt', 'w')\n",
    "file.write('We are the EMP Group 1 \\n')\n",
    "file.write('We are the EMP Group 2 \\n')\n",
    "file.write('We are the EMP Group 3 \\n')\n",
    "file.write('We are the EMP Group 4 \\n')\n",
    "file.write('We are the EMP Group 5 \\n')\n",
    "\n",
    "file.close()   #To see the content\n"
   ]
  },
  {
   "cell_type": "code",
   "execution_count": 6,
   "id": "d818efeb",
   "metadata": {},
   "outputs": [],
   "source": [
    "file = open('emp.txt', 'w') #all earlier content will deleted\n",
    "file.write('We are the EMP Group 6 ')      #Here It will make a new content\n",
    "file.close()\n"
   ]
  },
  {
   "cell_type": "code",
   "execution_count": 7,
   "id": "91fdcb4f",
   "metadata": {},
   "outputs": [],
   "source": [
    "#So to solve the above problem instead of opening the file in write mode we need to open the file in append mode\n",
    "file = open('emp.txt', 'w')\n",
    "file.write('We are the EMP Group 1 \\n')\n",
    "file.write('We are the EMP Group 2 \\n')\n",
    "file.write('We are the EMP Group 3 \\n')\n",
    "file.write('We are the EMP Group 4 \\n')\n",
    "file.write('We are the EMP Group 5 \\n')\n",
    "\n",
    "file.close()"
   ]
  },
  {
   "cell_type": "code",
   "execution_count": 8,
   "id": "7ec7cb3c",
   "metadata": {},
   "outputs": [],
   "source": [
    "file = open('emp.txt', 'a')\n",
    "file.write('We are the EMP Group 6')\n",
    "file.close()"
   ]
  },
  {
   "cell_type": "code",
   "execution_count": 9,
   "id": "93647fec",
   "metadata": {},
   "outputs": [],
   "source": [
    "file = open('emp.txt', 'r')"
   ]
  },
  {
   "cell_type": "code",
   "execution_count": null,
   "id": "38022bcc",
   "metadata": {},
   "outputs": [
    {
     "ename": "UnsupportedOperation",
     "evalue": "not writable",
     "output_type": "error",
     "traceback": [
      "\u001b[1;31m---------------------------------------------------------------------------\u001b[0m",
      "\u001b[1;31mUnsupportedOperation\u001b[0m                      Traceback (most recent call last)",
      "Cell \u001b[1;32mIn[10], line 1\u001b[0m\n\u001b[1;32m----> 1\u001b[0m \u001b[43mfile\u001b[49m\u001b[38;5;241;43m.\u001b[39;49m\u001b[43mwrite\u001b[49m\u001b[43m(\u001b[49m\u001b[38;5;124;43m'\u001b[39;49m\u001b[38;5;124;43mHow are you\u001b[39;49m\u001b[38;5;124;43m'\u001b[39;49m\u001b[43m)\u001b[49m\n",
      "\u001b[1;31mUnsupportedOperation\u001b[0m: not writable"
     ]
    }
   ],
   "source": [
    "file.write('How are you')   #It will throw an error 'not writable' because we have opened the file in write mode"
   ]
  },
  {
   "cell_type": "code",
   "execution_count": null,
   "id": "4acb8562",
   "metadata": {},
   "outputs": [
    {
     "name": "stdout",
     "output_type": "stream",
     "text": [
      "We are the EMP Group 1 \n",
      "\n",
      "We are the EMP Group 2 \n",
      "\n",
      "We are the EMP Group 3 \n",
      "\n",
      "We are the EMP Group 4 \n",
      "\n",
      "We are the EMP Group 5 \n",
      "\n",
      "We are the EMP Group 6\n"
     ]
    }
   ],
   "source": [
    "#Varioiur way of printing lines\n",
    "for i in file:\n",
    "    print(i)"
   ]
  },
  {
   "cell_type": "code",
   "execution_count": null,
   "id": "ed14fce0",
   "metadata": {},
   "outputs": [
    {
     "data": {
      "text/plain": [
       "''"
      ]
     },
     "execution_count": 12,
     "metadata": {},
     "output_type": "execute_result"
    }
   ],
   "source": [
    "file.read()   #here the cursor/pointer is at last position"
   ]
  },
  {
   "cell_type": "code",
   "execution_count": null,
   "id": "676c3d87",
   "metadata": {},
   "outputs": [
    {
     "data": {
      "text/plain": [
       "147"
      ]
     },
     "execution_count": 13,
     "metadata": {},
     "output_type": "execute_result"
    }
   ],
   "source": [
    "file.tell()     #it tellse the current position of the cursor"
   ]
  },
  {
   "cell_type": "code",
   "execution_count": null,
   "id": "133595c6",
   "metadata": {},
   "outputs": [
    {
     "data": {
      "text/plain": [
       "0"
      ]
     },
     "execution_count": 14,
     "metadata": {},
     "output_type": "execute_result"
    }
   ],
   "source": [
    "file.seek(0)       #Now we are on the zeroth position"
   ]
  },
  {
   "cell_type": "code",
   "execution_count": null,
   "id": "811a82c8",
   "metadata": {},
   "outputs": [
    {
     "name": "stdout",
     "output_type": "stream",
     "text": [
      "We are the EMP Group 1 \n",
      "\n"
     ]
    }
   ],
   "source": [
    "file = open('emp.txt', 'r')\n",
    "print(file.readline())      #Now it will only read the first line\n",
    "file.close()"
   ]
  },
  {
   "cell_type": "code",
   "execution_count": null,
   "id": "e961f0f3",
   "metadata": {},
   "outputs": [
    {
     "name": "stdout",
     "output_type": "stream",
     "text": [
      "We are the EMP Group 1 \n",
      "We are the EMP Group 2 \n",
      "We are the EMP Group 3 \n",
      "We are the EMP Group 4 \n",
      "We are the EMP Group 5 \n",
      "We are the EMP Group 6\n"
     ]
    }
   ],
   "source": [
    "file = open('emp.txt', 'r')\n",
    "file.seek(0)        #it will bring cursor to start of the the file\n",
    "print(file.read())  #it will read everything from starting\n",
    "file.close()\n"
   ]
  },
  {
   "cell_type": "code",
   "execution_count": null,
   "id": "f3dca127",
   "metadata": {},
   "outputs": [
    {
     "name": "stdout",
     "output_type": "stream",
     "text": [
      "['We are the EMP Group 1 \\n', 'We are the EMP Group 2 \\n', 'We are the EMP Group 3 \\n', 'We are the EMP Group 4 \\n', 'We are the EMP Group 5 \\n', 'We are the EMP Group 6']\n"
     ]
    }
   ],
   "source": [
    "f = open('emp.txt', 'r')\n",
    "print(f.readlines())     #all the lines will be the element of a list"
   ]
  },
  {
   "cell_type": "code",
   "execution_count": 22,
   "id": "40a18481",
   "metadata": {},
   "outputs": [
    {
     "name": "stderr",
     "output_type": "stream",
     "text": [
      "'pwd' is not recognized as an internal or external command,\n",
      "operable program or batch file.\n"
     ]
    }
   ],
   "source": [
    "#Present working directory\n",
    "!pwd"
   ]
  },
  {
   "cell_type": "code",
   "execution_count": 27,
   "id": "14d6540c",
   "metadata": {},
   "outputs": [],
   "source": [
    "import os"
   ]
  },
  {
   "cell_type": "code",
   "execution_count": 28,
   "id": "eaff11b3",
   "metadata": {},
   "outputs": [
    {
     "data": {
      "text/plain": [
       "'c:\\\\Users\\\\HP\\\\Documents\\\\GitHub\\\\Basic_of_python_programs\\\\DRIVE\\\\PW Skills\\\\Practice'"
      ]
     },
     "execution_count": 28,
     "metadata": {},
     "output_type": "execute_result"
    }
   ],
   "source": [
    "os.getcwd()"
   ]
  },
  {
   "cell_type": "code",
   "execution_count": 29,
   "id": "a1892c9e",
   "metadata": {},
   "outputs": [
    {
     "name": "stdout",
     "output_type": "stream",
     "text": [
      " Volume in drive C is SSD DRIVE\n",
      " Volume Serial Number is 1C51-3E7F\n",
      "\n",
      " Directory of c:\\Users\\HP\\Documents\\GitHub\\Basic_of_python_programs\\DRIVE\\PW Skills\\Practice\n",
      "\n",
      "07/01/2025  09:26 PM    <DIR>          .\n",
      "07/01/2025  09:23 PM    <DIR>          ..\n",
      "07/04/2025  07:39 PM               147 emp.txt\n",
      "07/05/2025  07:47 PM            11,779 Exception_handling.ipynb\n",
      "               2 File(s)         11,926 bytes\n",
      "               2 Dir(s)  14,562,066,432 bytes free\n"
     ]
    }
   ],
   "source": [
    "ls"
   ]
  },
  {
   "cell_type": "code",
   "execution_count": 30,
   "id": "8e4abd59",
   "metadata": {},
   "outputs": [
    {
     "data": {
      "text/plain": [
       "147"
      ]
     },
     "execution_count": 30,
     "metadata": {},
     "output_type": "execute_result"
    }
   ],
   "source": [
    "os.path.getsize('emp.txt')"
   ]
  },
  {
   "cell_type": "code",
   "execution_count": null,
   "id": "941a0207",
   "metadata": {},
   "outputs": [],
   "source": [
    "os.mkdir('student')     #We can also make directory through this command"
   ]
  },
  {
   "cell_type": "code",
   "execution_count": null,
   "id": "66153794",
   "metadata": {},
   "outputs": [],
   "source": [
    "os.mkdir(\"student/college_student\") #Here we created file inside student"
   ]
  },
  {
   "cell_type": "code",
   "execution_count": 33,
   "id": "617dd3e4",
   "metadata": {},
   "outputs": [
    {
     "name": "stdout",
     "output_type": "stream",
     "text": [
      " Volume in drive C is SSD DRIVE\n",
      " Volume Serial Number is 1C51-3E7F\n",
      "\n",
      " Directory of c:\\Users\\HP\\Documents\\GitHub\\Basic_of_python_programs\\DRIVE\\PW Skills\\Practice\n",
      "\n",
      "07/05/2025  08:02 PM    <DIR>          .\n",
      "07/01/2025  09:23 PM    <DIR>          ..\n",
      "07/04/2025  07:39 PM               147 emp.txt\n",
      "07/05/2025  08:07 PM            12,651 Exception_handling.ipynb\n",
      "07/05/2025  08:05 PM    <DIR>          student\n",
      "               2 File(s)         12,798 bytes\n",
      "               3 Dir(s)  28,702,597,120 bytes free\n"
     ]
    }
   ],
   "source": [
    "ls"
   ]
  },
  {
   "cell_type": "code",
   "execution_count": 34,
   "id": "95e10920",
   "metadata": {},
   "outputs": [],
   "source": [
    "#If we want to make more files in one go.....\n",
    "os.makedirs(\"a/b/c/d\")"
   ]
  },
  {
   "cell_type": "code",
   "execution_count": 35,
   "id": "b3f514f3",
   "metadata": {},
   "outputs": [
    {
     "data": {
      "text/plain": [
       "['a', 'emp.txt', 'Exception_handling.ipynb', 'student']"
      ]
     },
     "execution_count": 35,
     "metadata": {},
     "output_type": "execute_result"
    }
   ],
   "source": [
    "os.listdir()"
   ]
  },
  {
   "cell_type": "code",
   "execution_count": 36,
   "id": "bab2cfef",
   "metadata": {},
   "outputs": [],
   "source": [
    "os.mkdir('xyz')"
   ]
  },
  {
   "cell_type": "code",
   "execution_count": 37,
   "id": "7b08dbac",
   "metadata": {},
   "outputs": [],
   "source": [
    "#If we want to delete the directory\n",
    "os.rmdir(\"xyz\")"
   ]
  },
  {
   "cell_type": "code",
   "execution_count": null,
   "id": "21f61135",
   "metadata": {},
   "outputs": [
    {
     "ename": "OSError",
     "evalue": "[WinError 145] The directory is not empty: 'student'",
     "output_type": "error",
     "traceback": [
      "\u001b[1;31m---------------------------------------------------------------------------\u001b[0m",
      "\u001b[1;31mOSError\u001b[0m                                   Traceback (most recent call last)",
      "Cell \u001b[1;32mIn[38], line 2\u001b[0m\n\u001b[0;32m      1\u001b[0m \u001b[38;5;66;03m#If we want to delete the 'student' directory...It will throw an error\u001b[39;00m\n\u001b[1;32m----> 2\u001b[0m \u001b[43mos\u001b[49m\u001b[38;5;241;43m.\u001b[39;49m\u001b[43mrmdir\u001b[49m\u001b[43m(\u001b[49m\u001b[38;5;124;43m'\u001b[39;49m\u001b[38;5;124;43mstudent\u001b[39;49m\u001b[38;5;124;43m'\u001b[39;49m\u001b[43m)\u001b[49m\n",
      "\u001b[1;31mOSError\u001b[0m: [WinError 145] The directory is not empty: 'student'"
     ]
    }
   ],
   "source": [
    "#If we want to delete the 'student' directory...It will throw an error\n",
    "os.rmdir('student')     #Because student directory in not empty"
   ]
  },
  {
   "cell_type": "code",
   "execution_count": null,
   "id": "7b70a451",
   "metadata": {},
   "outputs": [],
   "source": [
    "#To overcome this problem we have to import shutil and through that we can do the perform\n",
    "import shutil\n",
    "shutil.rmtree('student')    #It will delete the directory even if it is not not empty"
   ]
  },
  {
   "cell_type": "code",
   "execution_count": 40,
   "id": "4e379abb",
   "metadata": {},
   "outputs": [
    {
     "data": {
      "text/plain": [
       "'c:\\\\Users\\\\HP\\\\Documents\\\\GitHub\\\\Basic_of_python_programs\\\\DRIVE\\\\PW Skills\\\\Practice'"
      ]
     },
     "execution_count": 40,
     "metadata": {},
     "output_type": "execute_result"
    }
   ],
   "source": [
    "os.getcwd()"
   ]
  },
  {
   "cell_type": "code",
   "execution_count": 42,
   "id": "c74167f9",
   "metadata": {},
   "outputs": [],
   "source": [
    "os.makedirs('student/student1')"
   ]
  },
  {
   "cell_type": "code",
   "execution_count": null,
   "id": "2e5dfc9c",
   "metadata": {},
   "outputs": [],
   "source": [
    "f = open(\"c:\\\\Users\\\\HP\\\\Documents\\\\GitHub\\\\Basic_of_python_programs\\\\DRIVE\\\\PW Skills\\\\Practice\\\\student\\\\student1\\\\std.txt\", 'w')\n",
    "#It will create a file called std.txt inside student/student1"
   ]
  },
  {
   "cell_type": "code",
   "execution_count": null,
   "id": "64cad326",
   "metadata": {},
   "outputs": [
    {
     "data": {
      "text/plain": [
       "'c:\\\\Users\\\\HP\\\\Documents\\\\GitHub\\\\Basic_of_python_programs\\\\DRIVE\\\\PW Skills\\\\Practice\\\\std.txt'"
      ]
     },
     "execution_count": 44,
     "metadata": {},
     "output_type": "execute_result"
    }
   ],
   "source": [
    "#copying the above file in the current location\n",
    "# syntax: shutil.copy(src, dest)\n",
    "shutil.copy(\"c:\\\\Users\\\\HP\\\\Documents\\\\GitHub\\\\Basic_of_python_programs\\\\DRIVE\\\\PW Skills\\\\Practice\\\\student\\\\student1\\\\std.txt\", \"c:\\\\Users\\\\HP\\\\Documents\\\\GitHub\\\\Basic_of_python_programs\\\\DRIVE\\\\PW Skills\\\\Practice\")\n",
    "#Here it was inside the student file but we have copied to practice file"
   ]
  },
  {
   "cell_type": "code",
   "execution_count": 45,
   "id": "80880215",
   "metadata": {},
   "outputs": [],
   "source": [
    "os.mkdir('test')"
   ]
  },
  {
   "cell_type": "code",
   "execution_count": null,
   "id": "dc3d6922",
   "metadata": {},
   "outputs": [
    {
     "ename": "PermissionError",
     "evalue": "[WinError 32] The process cannot access the file because it is being used by another process: 'c:\\\\Users\\\\HP\\\\Documents\\\\GitHub\\\\Basic_of_python_programs\\\\DRIVE\\\\PW Skills\\\\Practice\\\\student\\\\student1\\\\std.txt'",
     "output_type": "error",
     "traceback": [
      "\u001b[1;31m---------------------------------------------------------------------------\u001b[0m",
      "\u001b[1;31mPermissionError\u001b[0m                           Traceback (most recent call last)",
      "File \u001b[1;32mc:\\Users\\HP\\AppData\\Local\\Programs\\Python\\Python312\\Lib\\shutil.py:862\u001b[0m, in \u001b[0;36mmove\u001b[1;34m(src, dst, copy_function)\u001b[0m\n\u001b[0;32m    861\u001b[0m \u001b[38;5;28;01mtry\u001b[39;00m:\n\u001b[1;32m--> 862\u001b[0m     \u001b[43mos\u001b[49m\u001b[38;5;241;43m.\u001b[39;49m\u001b[43mrename\u001b[49m\u001b[43m(\u001b[49m\u001b[43msrc\u001b[49m\u001b[43m,\u001b[49m\u001b[43m \u001b[49m\u001b[43mreal_dst\u001b[49m\u001b[43m)\u001b[49m\n\u001b[0;32m    863\u001b[0m \u001b[38;5;28;01mexcept\u001b[39;00m \u001b[38;5;167;01mOSError\u001b[39;00m:\n",
      "\u001b[1;31mPermissionError\u001b[0m: [WinError 32] The process cannot access the file because it is being used by another process: 'c:\\\\Users\\\\HP\\\\Documents\\\\GitHub\\\\Basic_of_python_programs\\\\DRIVE\\\\PW Skills\\\\Practice\\\\student\\\\student1\\\\std.txt' -> 'c:\\\\Users\\\\HP\\\\Documents\\\\GitHub\\\\Basic_of_python_programs\\\\DRIVE\\\\PW Skills\\\\Practice\\\\test\\\\std.txt'",
      "\nDuring handling of the above exception, another exception occurred:\n",
      "\u001b[1;31mPermissionError\u001b[0m                           Traceback (most recent call last)",
      "Cell \u001b[1;32mIn[46], line 2\u001b[0m\n\u001b[0;32m      1\u001b[0m \u001b[38;5;66;03m#Now we want to move the file std.txt to test\u001b[39;00m\n\u001b[1;32m----> 2\u001b[0m \u001b[43mshutil\u001b[49m\u001b[38;5;241;43m.\u001b[39;49m\u001b[43mmove\u001b[49m\u001b[43m(\u001b[49m\u001b[38;5;124;43m\"\u001b[39;49m\u001b[38;5;124;43mc:\u001b[39;49m\u001b[38;5;130;43;01m\\\\\u001b[39;49;00m\u001b[38;5;124;43mUsers\u001b[39;49m\u001b[38;5;130;43;01m\\\\\u001b[39;49;00m\u001b[38;5;124;43mHP\u001b[39;49m\u001b[38;5;130;43;01m\\\\\u001b[39;49;00m\u001b[38;5;124;43mDocuments\u001b[39;49m\u001b[38;5;130;43;01m\\\\\u001b[39;49;00m\u001b[38;5;124;43mGitHub\u001b[39;49m\u001b[38;5;130;43;01m\\\\\u001b[39;49;00m\u001b[38;5;124;43mBasic_of_python_programs\u001b[39;49m\u001b[38;5;130;43;01m\\\\\u001b[39;49;00m\u001b[38;5;124;43mDRIVE\u001b[39;49m\u001b[38;5;130;43;01m\\\\\u001b[39;49;00m\u001b[38;5;124;43mPW Skills\u001b[39;49m\u001b[38;5;130;43;01m\\\\\u001b[39;49;00m\u001b[38;5;124;43mPractice\u001b[39;49m\u001b[38;5;130;43;01m\\\\\u001b[39;49;00m\u001b[38;5;124;43mstudent\u001b[39;49m\u001b[38;5;130;43;01m\\\\\u001b[39;49;00m\u001b[38;5;124;43mstudent1\u001b[39;49m\u001b[38;5;130;43;01m\\\\\u001b[39;49;00m\u001b[38;5;124;43mstd.txt\u001b[39;49m\u001b[38;5;124;43m\"\u001b[39;49m\u001b[43m,\u001b[49m\u001b[43m \u001b[49m\u001b[38;5;124;43m\"\u001b[39;49m\u001b[38;5;124;43mc:\u001b[39;49m\u001b[38;5;130;43;01m\\\\\u001b[39;49;00m\u001b[38;5;124;43mUsers\u001b[39;49m\u001b[38;5;130;43;01m\\\\\u001b[39;49;00m\u001b[38;5;124;43mHP\u001b[39;49m\u001b[38;5;130;43;01m\\\\\u001b[39;49;00m\u001b[38;5;124;43mDocuments\u001b[39;49m\u001b[38;5;130;43;01m\\\\\u001b[39;49;00m\u001b[38;5;124;43mGitHub\u001b[39;49m\u001b[38;5;130;43;01m\\\\\u001b[39;49;00m\u001b[38;5;124;43mBasic_of_python_programs\u001b[39;49m\u001b[38;5;130;43;01m\\\\\u001b[39;49;00m\u001b[38;5;124;43mDRIVE\u001b[39;49m\u001b[38;5;130;43;01m\\\\\u001b[39;49;00m\u001b[38;5;124;43mPW Skills\u001b[39;49m\u001b[38;5;130;43;01m\\\\\u001b[39;49;00m\u001b[38;5;124;43mPractice\u001b[39;49m\u001b[38;5;130;43;01m\\\\\u001b[39;49;00m\u001b[38;5;124;43mtest\u001b[39;49m\u001b[38;5;124;43m\"\u001b[39;49m\u001b[43m)\u001b[49m \n",
      "File \u001b[1;32mc:\\Users\\HP\\AppData\\Local\\Programs\\Python\\Python312\\Lib\\shutil.py:883\u001b[0m, in \u001b[0;36mmove\u001b[1;34m(src, dst, copy_function)\u001b[0m\n\u001b[0;32m    881\u001b[0m     \u001b[38;5;28;01melse\u001b[39;00m:\n\u001b[0;32m    882\u001b[0m         copy_function(src, real_dst)\n\u001b[1;32m--> 883\u001b[0m         \u001b[43mos\u001b[49m\u001b[38;5;241;43m.\u001b[39;49m\u001b[43munlink\u001b[49m\u001b[43m(\u001b[49m\u001b[43msrc\u001b[49m\u001b[43m)\u001b[49m\n\u001b[0;32m    884\u001b[0m \u001b[38;5;28;01mreturn\u001b[39;00m real_dst\n",
      "\u001b[1;31mPermissionError\u001b[0m: [WinError 32] The process cannot access the file because it is being used by another process: 'c:\\\\Users\\\\HP\\\\Documents\\\\GitHub\\\\Basic_of_python_programs\\\\DRIVE\\\\PW Skills\\\\Practice\\\\student\\\\student1\\\\std.txt'"
     ]
    }
   ],
   "source": [
    " #Now we want to move the file std.txt to test\n",
    "shutil.move(\"c:\\\\Users\\\\HP\\\\Documents\\\\GitHub\\\\Basic_of_python_programs\\\\DRIVE\\\\PW Skills\\\\Practice\\\\student\\\\student1\\\\std.txt\", \"c:\\\\Users\\\\HP\\\\Documents\\\\GitHub\\\\Basic_of_python_programs\\\\DRIVE\\\\PW Skills\\\\Practice\\\\test\") \n",
    "#move will remove the file from original source to destination source"
   ]
  },
  {
   "cell_type": "code",
   "execution_count": null,
   "id": "4d1be198",
   "metadata": {},
   "outputs": [],
   "source": [
    "with open('emp.txt', 'w') as f:\n",
    "    f.write('I am the Employee of Tata Elxsi')\n",
    "\n",
    "# With this way we can also opan a file and write the content\n",
    "#with statment ensures that the file is closed properly after the block of code is executed\n",
    "#important>> free up system resources and avoid issues like data corruption or file lock"
   ]
  },
  {
   "cell_type": "code",
   "execution_count": 52,
   "id": "13315dc8",
   "metadata": {},
   "outputs": [
    {
     "name": "stdout",
     "output_type": "stream",
     "text": [
      "I am the Employee of Tata Elxsi\n"
     ]
    }
   ],
   "source": [
    "with open('emp.txt', 'r') as f:\n",
    "    line = f.readline()\n",
    "    print(line)"
   ]
  }
 ],
 "metadata": {
  "kernelspec": {
   "display_name": "Python 3",
   "language": "python",
   "name": "python3"
  },
  "language_info": {
   "codemirror_mode": {
    "name": "ipython",
    "version": 3
   },
   "file_extension": ".py",
   "mimetype": "text/x-python",
   "name": "python",
   "nbconvert_exporter": "python",
   "pygments_lexer": "ipython3",
   "version": "3.12.0"
  }
 },
 "nbformat": 4,
 "nbformat_minor": 5
}
