{
 "cells": [
  {
   "cell_type": "code",
   "execution_count": null,
   "metadata": {},
   "outputs": [],
   "source": [
    "#WAP to print maximum occuring substring in a string\n",
    "#write a program to print  maximum occurring substring in a String.\n",
    "#ex: \"abcabdabe\"\n",
    "#out: \"ab\" because it is occured 3 times"
   ]
  },
  {
   "cell_type": "code",
   "execution_count": 20,
   "metadata": {},
   "outputs": [
    {
     "name": "stdout",
     "output_type": "stream",
     "text": [
      "{'': 1, 'a': 1, 'ab': 1, 'abc': 1, 'abca': 1, 'abcab': 1, 'abcabd': 1, 'abcabda': 1, 'abcabdab': 1}\n"
     ]
    }
   ],
   "source": [
    "st = 'abcabdabe'\n",
    "d={}\n",
    "for i in range(0, len(st)):\n",
    "    if st[0:i] in st:\n",
    "        d[st[0:i]] = 1\n",
    "    else:\n",
    "        d[st[0:i]] += 1\n",
    "print(d)\n",
    "\n",
    "    "
   ]
  },
  {
   "cell_type": "code",
   "execution_count": 5,
   "metadata": {},
   "outputs": [
    {
     "name": "stdout",
     "output_type": "stream",
     "text": [
      "ab 3\n",
      "bc 3\n"
     ]
    }
   ],
   "source": [
    "st = 'abcabdabcbc'\n",
    "d={}\n",
    "for i in range(len(st)):\n",
    "    for j in range(i+2, len(st)):\n",
    "        # if st[i:j] not in d:\n",
    "        #     d[st[i:j]]=1\n",
    "        # else:\n",
    "        #     d[st[i:j]]+=1\n",
    "        d[st[i:j]] = st.count(st[i:j])\n",
    "m = max(d.values())\n",
    "for i in d:\n",
    "    if d[i] == m:\n",
    "        print(i,d[i])"
   ]
  },
  {
   "cell_type": "code",
   "execution_count": 8,
   "metadata": {},
   "outputs": [
    {
     "name": "stdout",
     "output_type": "stream",
     "text": [
      "['ABCDEFG', 'IJK', 'ABB']\n"
     ]
    }
   ],
   "source": [
    "st = 'ABCDEFGIJKABC'\n",
    "res = ''\n",
    "l = []\n",
    "for i in range(1, len(st)):\n",
    "    if ord(st[i-1])+1 == ord(st[i]):\n",
    "        res += st[i-1]\n",
    "    else:\n",
    "        l+=[(res + st[i-1])]\n",
    "        res = ''\n",
    "l+=[(res + st[i-1])]\n",
    "print(l)"
   ]
  },
  {
   "cell_type": "code",
   "execution_count": 71,
   "metadata": {},
   "outputs": [
    {
     "name": "stdout",
     "output_type": "stream",
     "text": [
      "80\n",
      "80\n"
     ]
    }
   ],
   "source": [
    "#Second largest\n",
    "l=[10, 110, 70, 30, 50 ,80]\n",
    "for i in l:\n",
    "    for j in range(0, len(l)-1):\n",
    "        if l[j]>l[j+1]:\n",
    "            l[j],l[j+1] = l[j+1],l[j]\n",
    "print(l[-2])\n",
    "\n",
    "#Built in method\n",
    "s = sorted(l)\n",
    "print(l[-2])\n"
   ]
  },
  {
   "cell_type": "code",
   "execution_count": 4,
   "metadata": {},
   "outputs": [
    {
     "name": "stdout",
     "output_type": "stream",
     "text": [
      "{'m': 2, 'a': 4, 'l': 2, 'y': 1}\n",
      "a 4\n",
      "mxlxyxlxm\n",
      "{'m': 2, 'a': 4, 'l': 2, 'y': 1}\n",
      "mxlxyxlxm\n"
     ]
    }
   ],
   "source": [
    "#WAP to replace maximum occured character in a string with new character\n",
    "#write a program to replace maximum occured character in a String with new character.\n",
    "#ex: \"abcaaadafhg\";      replace :'t'.\n",
    "#out: \"tbctttdtfhg\".\n",
    "st='malayalam'\n",
    "d={}\n",
    "for i in st:\n",
    "    if i not in d:\n",
    "        d[i]=1\n",
    "    else:\n",
    "        d[i]+=1\n",
    "print(d) \n",
    "\n",
    "max=0\n",
    "ch=None\n",
    "for i in d:\n",
    "    if max<d[i]:\n",
    "        max=d[i]\n",
    "        ch=i\n",
    "print(ch, max)\n",
    "\n",
    "new='x'\n",
    "res=''\n",
    "for i in st:\n",
    "    if i=='a':\n",
    "        res+=new\n",
    "    else:\n",
    "        res+=i\n",
    "print(res)\n",
    "\n",
    "#shortcut\n",
    "s = 'malayalam'\n",
    "d = {}\n",
    "for i in s:                            \n",
    "    d[i] = s.count(i)\n",
    "print(d)\n",
    "r = 0\n",
    "for i in d:\n",
    "    if r< d[i]:\n",
    "        r = d[i]\n",
    "\n",
    "for (k, v) in d.items():\n",
    "    if d[k] == r:\n",
    "        s1 = s.replace(k,'x')\n",
    "print(s1)"
   ]
  },
  {
   "cell_type": "code",
   "execution_count": 19,
   "metadata": {},
   "outputs": [
    {
     "name": "stdout",
     "output_type": "stream",
     "text": [
      "1\n"
     ]
    }
   ],
   "source": [
    "def cnt(sentence, st):\n",
    "    l = []\n",
    "    word = \"\"\n",
    "    for i in range(len(sentence)):\n",
    "        if sentence[i] == \" \":\n",
    "            if word:\n",
    "                l.append(word)\n",
    "                word = \"\"\n",
    "        else:\n",
    "            word += sentence[i]\n",
    "    l.append(word)\n",
    "    \n",
    "    print(l.count(st))\n",
    "\n",
    "sentence = 'i am a boy i love india'\n",
    "st = 'love'\n",
    "\n",
    "cnt(sentence,st)"
   ]
  },
  {
   "cell_type": "code",
   "execution_count": 16,
   "metadata": {},
   "outputs": [
    {
     "name": "stdout",
     "output_type": "stream",
     "text": [
      "['hello', 'world', 'how', 'are', 'you', 'hello', 'how', 'hello']\n",
      "{'hello': 3, 'world': 1, 'how': 2, 'are': 1, 'you': 1}\n"
     ]
    }
   ],
   "source": [
    "#wap Count the Occurrences of a Word in a Given String Sentence without split fucntion\n",
    "st='hello world how are you hello how hello'\n",
    "# st.split()\n",
    "res=''\n",
    "l=[]\n",
    "for i in st:\n",
    "    if i!=' ':\n",
    "        res+=i\n",
    "    else:\n",
    "        if res!=' ':\n",
    "            l+=[res]\n",
    "            res=''\n",
    "if res!=' ':\n",
    "    l+=[res]\n",
    "print(l)\n",
    "d={}\n",
    "for i in l:\n",
    "    if i not in d:\n",
    "        d[i]=1\n",
    "    else:\n",
    "        d[i]+=1\n",
    "print(d)"
   ]
  },
  {
   "cell_type": "code",
   "execution_count": 2,
   "metadata": {},
   "outputs": [
    {
     "name": "stdout",
     "output_type": "stream",
     "text": [
      "19 * 1 = 19\n",
      "19 * 2 = 38\n",
      "19 * 3 = 57\n",
      "19 * 4 = 76\n",
      "19 * 5 = 95\n",
      "19 * 6 = 114\n",
      "19 * 7 = 133\n",
      "19 * 8 = 152\n",
      "19 * 9 = 171\n",
      "19 * 10 = 190\n"
     ]
    }
   ],
   "source": [
    "def table(num, i):\n",
    "    for i in range(1, 11):\n",
    "        print(num, '*', i, '=', num*i)\n",
    "table(19, 1)"
   ]
  },
  {
   "cell_type": "code",
   "execution_count": 10,
   "metadata": {},
   "outputs": [
    {
     "name": "stdout",
     "output_type": "stream",
     "text": [
      "SrEdIpSyP\n"
     ]
    }
   ],
   "source": [
    "st='PYSPIDERS'\n",
    "# op:'SrEdIpSyP'\n",
    "res=''\n",
    "for i in range(0, len(st)):\n",
    "    if i%2 != 0:\n",
    "        res+=st[i].lower()\n",
    "    else:\n",
    "        res+=st[i]\n",
    "print(res[::-1])\n"
   ]
  },
  {
   "cell_type": "code",
   "execution_count": 12,
   "metadata": {},
   "outputs": [
    {
     "name": "stdout",
     "output_type": "stream",
     "text": [
      "{1: 1, 2: 8, 3: 27, 4: 64, 5: 125, 6: 216}\n"
     ]
    }
   ],
   "source": [
    "d={i:i**3 for i in range(1, 7)}\n",
    "print(d)"
   ]
  },
  {
   "cell_type": "code",
   "execution_count": 15,
   "metadata": {},
   "outputs": [
    {
     "name": "stdout",
     "output_type": "stream",
     "text": [
      "1\n",
      "2\n",
      "3\n",
      "5\n",
      "8\n",
      "13\n",
      "21\n",
      "34\n",
      "55\n",
      "89\n"
     ]
    }
   ],
   "source": [
    "a=0\n",
    "b=1\n",
    "i=1\n",
    "while i<=10:\n",
    "    c=a+b\n",
    "    print(c)\n",
    "    a,b=b,c\n",
    "    i+=1"
   ]
  }
 ],
 "metadata": {
  "kernelspec": {
   "display_name": "Python 3",
   "language": "python",
   "name": "python3"
  },
  "language_info": {
   "codemirror_mode": {
    "name": "ipython",
    "version": 3
   },
   "file_extension": ".py",
   "mimetype": "text/x-python",
   "name": "python",
   "nbconvert_exporter": "python",
   "pygments_lexer": "ipython3",
   "version": "3.12.0"
  }
 },
 "nbformat": 4,
 "nbformat_minor": 2
}
