{
 "cells": [
  {
   "cell_type": "markdown",
   "metadata": {},
   "source": [
    "SYNTAX:- Varname = lambda args: expression"
   ]
  },
  {
   "cell_type": "code",
   "execution_count": 1,
   "metadata": {},
   "outputs": [
    {
     "name": "stdout",
     "output_type": "stream",
     "text": [
      "<function <lambda> at 0x000001A8795F5F80>\n"
     ]
    }
   ],
   "source": [
    "print(lambda:10)"
   ]
  },
  {
   "cell_type": "code",
   "execution_count": 3,
   "metadata": {},
   "outputs": [
    {
     "name": "stdout",
     "output_type": "stream",
     "text": [
      "<function <lambda> at 0x000001A8795F71A0>\n",
      "10\n"
     ]
    }
   ],
   "source": [
    "res=lambda:10\n",
    "print(res)          #When we don't use the parenthesis it returns the function address\n",
    "print(res())"
   ]
  },
  {
   "cell_type": "code",
   "execution_count": 6,
   "metadata": {},
   "outputs": [
    {
     "name": "stdout",
     "output_type": "stream",
     "text": [
      "<function <lambda> at 0x000001A8795F7EC0>\n",
      "10\n"
     ]
    }
   ],
   "source": [
    "res=lambda a:10\n",
    "print(res)\n",
    "print(res(20))"
   ]
  },
  {
   "cell_type": "code",
   "execution_count": 7,
   "metadata": {},
   "outputs": [
    {
     "name": "stdout",
     "output_type": "stream",
     "text": [
      "30\n"
     ]
    }
   ],
   "source": [
    "res=lambda a:10+a\n",
    "print(res(20))"
   ]
  },
  {
   "cell_type": "code",
   "execution_count": 8,
   "metadata": {},
   "outputs": [
    {
     "name": "stdout",
     "output_type": "stream",
     "text": [
      "70\n"
     ]
    }
   ],
   "source": [
    "res=lambda a,b : a+b\n",
    "print(res(30,40))"
   ]
  },
  {
   "cell_type": "code",
   "execution_count": 9,
   "metadata": {},
   "outputs": [
    {
     "name": "stdout",
     "output_type": "stream",
     "text": [
      "42\n"
     ]
    }
   ],
   "source": [
    "res=lambda a,b,c : a*b*c\n",
    "print(res(2,3,7))"
   ]
  },
  {
   "cell_type": "code",
   "execution_count": 10,
   "metadata": {},
   "outputs": [
    {
     "name": "stdout",
     "output_type": "stream",
     "text": [
      "None\n"
     ]
    }
   ],
   "source": [
    "res=lambda a:None\n",
    "print(res(30))"
   ]
  },
  {
   "cell_type": "markdown",
   "metadata": {},
   "source": [
    "WAP to check the given character is uppercase or not. If it is uppercase to convert it to lowercase and if it is lowercase to conver it to ASCII value of given character by using LAMBDA FUNCTION"
   ]
  },
  {
   "cell_type": "code",
   "execution_count": 4,
   "metadata": {},
   "outputs": [
    {
     "name": "stdout",
     "output_type": "stream",
     "text": [
      "116\n"
     ]
    }
   ],
   "source": [
    "# ch='A'\n",
    "# def isupper(ch):\n",
    "#     if len(ch)==1 and 'A'<=ch<='Z':\n",
    "#         return chr(ord(ch)+32)\n",
    "#     else:\n",
    "#         return ord(ch)\n",
    "# isupper(ch) \n",
    "\n",
    "#ANOTHER METHOD\n",
    "# ch = 'b'\n",
    "# def isupper(ch):\n",
    "#     return chr(ord(ch)+32) if len(ch)==1 and 'A'<=ch<='Z' else ord(ch)\n",
    "# isupper(ch)\n",
    "\n",
    "#ANOTHER METHOD\n",
    "# ch = 'H'\n",
    "# def isupper(ch): return chr(ord(ch)+32) if len(ch)==1 and 'A'<=ch<='Z' else ord(ch)\n",
    "# isupper(ch)\n",
    "\n",
    "#BY USING LAMBDA FUNCTION\n",
    "# ch='A'\n",
    "# res = lambda ch:[ord(ch),chr(ord(ch)+32)][len(ch)==1 and 'A'<=ch<='Z']\n",
    "\n",
    "\n",
    "#BY USING LAMBDA FUNCTION\n",
    "print((lambda ch:[ord(ch),chr(ord(ch)+32)][len(ch)==1 and 'A'<=ch<='Z'])(input(\"Enter The Value: \")))"
   ]
  },
  {
   "cell_type": "markdown",
   "metadata": {},
   "source": [
    "WAP to check the given number is divisible by 5 and 7. if it is divisible return cube of the given value if it is not divisible to return half of the given value."
   ]
  },
  {
   "cell_type": "code",
   "execution_count": 8,
   "metadata": {},
   "outputs": [
    {
     "name": "stdout",
     "output_type": "stream",
     "text": [
      "18\n",
      "42875\n",
      "42875\n"
     ]
    }
   ],
   "source": [
    "def check_number(num):\n",
    "    if num%5==0 and num%7==0:\n",
    "        return num**3\n",
    "    else:\n",
    "        return num//2\n",
    "print(check_number(36))\n",
    "\n",
    "#BY USING LAMBDA FUNCTION\n",
    "res=lambda num:num**3 if num%5==0 and num%7==0 else num//2\n",
    "print(res(35))\n",
    "####OR####\n",
    "res=lambda num:[num//2,num**3][num%5==0 and num%7==0]\n",
    "print(res(35))"
   ]
  }
 ],
 "metadata": {
  "kernelspec": {
   "display_name": "Python 3",
   "language": "python",
   "name": "python3"
  },
  "language_info": {
   "codemirror_mode": {
    "name": "ipython",
    "version": 3
   },
   "file_extension": ".py",
   "mimetype": "text/x-python",
   "name": "python",
   "nbconvert_exporter": "python",
   "pygments_lexer": "ipython3",
   "version": "3.12.0"
  }
 },
 "nbformat": 4,
 "nbformat_minor": 2
}
