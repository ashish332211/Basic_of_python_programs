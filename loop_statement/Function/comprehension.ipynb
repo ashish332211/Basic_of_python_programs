{
 "cells": [
  {
   "cell_type": "code",
   "execution_count": 6,
   "metadata": {},
   "outputs": [
    {
     "name": "stdout",
     "output_type": "stream",
     "text": [
      "[1, 2, 3, 4, 5, 6, 7, 8, 9, 10, 11, 12, 13, 14, 15]\n",
      "[1, 2, 3, 4, 5, 6, 7, 8, 9, 10, 11, 12, 13, 14, 15]\n"
     ]
    }
   ],
   "source": [
    "#WAP to generate and store the sequence of value from 1 to nth[USING FUNCTION]\n",
    "def seq(end=10):\n",
    "    l=[]\n",
    "    start=1\n",
    "    while start<=end:\n",
    "        l+=[start]\n",
    "        start+=1\n",
    "    return l\n",
    "print(seq(15))\n",
    "\n",
    "def seq1(end=10):\n",
    "    l=[]\n",
    "    for i in range(1,end+1):\n",
    "        l+=[i]\n",
    "    return l\n",
    "print(seq1(15))\n",
    "\n"
   ]
  },
  {
   "cell_type": "markdown",
   "metadata": {},
   "source": [
    "WAP to check given password is valid or invalid\n",
    "* Given input should be string and length of the string should have minimum 8 and maximum 20 character\n",
    "* Minmum one numeric character\n",
    "* Minimum one and maximum 5 lowercase character\n",
    "* Starting and ending character should be Uppercase\n",
    "* Minimum two special character"
   ]
  },
  {
   "cell_type": "code",
   "execution_count": 18,
   "metadata": {},
   "outputs": [
    {
     "data": {
      "text/plain": [
       "'Valid Password'"
      ]
     },
     "execution_count": 18,
     "metadata": {},
     "output_type": "execute_result"
    }
   ],
   "source": [
    "st='Ashu@##4567A'\n",
    "def password(coll):\n",
    "    if type(coll)==str and 8<=len(coll)<=20 and 'A'<=coll[0]<='Z' and 'A'<=coll[-1]<='Z':\n",
    "        lc,sp,an='','',''\n",
    "        for i in coll:\n",
    "            if 'a'<=i<='z':\n",
    "                lc+=i\n",
    "            if not('A'<=i<='Z' or 'a'<=i<='z' or '0'<=i<='9'):\n",
    "                sp+=i\n",
    "            if '0'<=i<='9':\n",
    "                an+=i\n",
    "        if len(an)>=1 and 1<=len(lc)<=5 and len(sp)>=2:\n",
    "            return 'Valid Password'\n",
    "        else:\n",
    "            return 'Invalid Password'\n",
    "    else:\n",
    "        return 'Invalid Password'\n",
    "password(st)"
   ]
  }
 ],
 "metadata": {
  "kernelspec": {
   "display_name": "Python 3",
   "language": "python",
   "name": "python3"
  },
  "language_info": {
   "codemirror_mode": {
    "name": "ipython",
    "version": 3
   },
   "file_extension": ".py",
   "mimetype": "text/x-python",
   "name": "python",
   "nbconvert_exporter": "python",
   "pygments_lexer": "ipython3",
   "version": "3.11.4"
  }
 },
 "nbformat": 4,
 "nbformat_minor": 2
}
