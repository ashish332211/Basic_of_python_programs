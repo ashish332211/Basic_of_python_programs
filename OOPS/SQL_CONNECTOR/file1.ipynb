{
 "cells": [
  {
   "cell_type": "code",
   "execution_count": 2,
   "metadata": {},
   "outputs": [
    {
     "name": "stdout",
     "output_type": "stream",
     "text": [
      "<sqlite3.Connection object at 0x00000139B3F16D40>\n",
      "<sqlite3.Cursor object at 0x00000139B3C6D740>\n"
     ]
    }
   ],
   "source": [
    "import sqlite3 as sq        #import the sqlite3 module\n",
    "db = sq.connect('employee.db')      #Create the connection in between sqlite3 to python \n",
    "print(db)\n",
    "\n",
    "#Create the sqlite3 cursor inside the python\n",
    "cus = db.cursor()       \n",
    "print(cus)\n",
    "\n",
    "#To create the query\n",
    "# cus.execute('Create Table Employee(id int, name varchar(20))') \n",
    "\n",
    "#To execute multiple querys\n",
    "# cus.executemany('Create Table Employee(id int, name varchar(20))') \n",
    "\n",
    "#It convert Sql data to python data and it will fetch all the records\n",
    "cus.fetchall()  \n",
    "\n",
    "#It convert Sql data to python data and it will fetch only one record\n",
    "cus.fetchone()\n",
    "\n",
    "#It convert Sql data to python data and it will fetch the record based on the size\n",
    "cus.fetchmany()      \n",
    "\n",
    "#To save the all transaction\n",
    "db.commit()\n",
    "\n",
    "#To close the db connection\n",
    "db.close()\n"
   ]
  },
  {
   "cell_type": "code",
   "execution_count": 14,
   "metadata": {},
   "outputs": [],
   "source": [
    "#configuration\n",
    "\n",
    "db = sq.connect('student.sqlite3')\n",
    "cur = db.cursor()"
   ]
  },
  {
   "cell_type": "code",
   "execution_count": 15,
   "metadata": {},
   "outputs": [
    {
     "ename": "OperationalError",
     "evalue": "table student already exists",
     "output_type": "error",
     "traceback": [
      "\u001b[1;31m---------------------------------------------------------------------------\u001b[0m",
      "\u001b[1;31mOperationalError\u001b[0m                          Traceback (most recent call last)",
      "\u001b[1;32mc:\\Users\\HP\\Documents\\GitHub\\Basic_of_python_programs\\OOPS\\SQL_CONNECTOR\\file1.ipynb Cell 3\u001b[0m line \u001b[0;36m1\n\u001b[0;32m      <a href='vscode-notebook-cell:/c%3A/Users/HP/Documents/GitHub/Basic_of_python_programs/OOPS/SQL_CONNECTOR/file1.ipynb#W2sZmlsZQ%3D%3D?line=0'>1</a>\u001b[0m query \u001b[39m=\u001b[39m \u001b[39m'''\u001b[39m\u001b[39mcreate table student(\u001b[39m\n\u001b[0;32m      <a href='vscode-notebook-cell:/c%3A/Users/HP/Documents/GitHub/Basic_of_python_programs/OOPS/SQL_CONNECTOR/file1.ipynb#W2sZmlsZQ%3D%3D?line=1'>2</a>\u001b[0m \u001b[39msid int primary key,\u001b[39m\n\u001b[0;32m      <a href='vscode-notebook-cell:/c%3A/Users/HP/Documents/GitHub/Basic_of_python_programs/OOPS/SQL_CONNECTOR/file1.ipynb#W2sZmlsZQ%3D%3D?line=2'>3</a>\u001b[0m \u001b[39mname varchar(30),\u001b[39m\n\u001b[1;32m   (...)\u001b[0m\n\u001b[0;32m      <a href='vscode-notebook-cell:/c%3A/Users/HP/Documents/GitHub/Basic_of_python_programs/OOPS/SQL_CONNECTOR/file1.ipynb#W2sZmlsZQ%3D%3D?line=6'>7</a>\u001b[0m \u001b[39maddress varchar(50),\u001b[39m\n\u001b[0;32m      <a href='vscode-notebook-cell:/c%3A/Users/HP/Documents/GitHub/Basic_of_python_programs/OOPS/SQL_CONNECTOR/file1.ipynb#W2sZmlsZQ%3D%3D?line=7'>8</a>\u001b[0m \u001b[39mmarks int)\u001b[39m\u001b[39m'''\u001b[39m\n\u001b[1;32m---> <a href='vscode-notebook-cell:/c%3A/Users/HP/Documents/GitHub/Basic_of_python_programs/OOPS/SQL_CONNECTOR/file1.ipynb#W2sZmlsZQ%3D%3D?line=9'>10</a>\u001b[0m cur\u001b[39m.\u001b[39;49mexecute(query)\n\u001b[0;32m     <a href='vscode-notebook-cell:/c%3A/Users/HP/Documents/GitHub/Basic_of_python_programs/OOPS/SQL_CONNECTOR/file1.ipynb#W2sZmlsZQ%3D%3D?line=10'>11</a>\u001b[0m \u001b[39mprint\u001b[39m(cur\u001b[39m.\u001b[39mrowcount,\u001b[39m'\u001b[39m\u001b[39mRow Affected\u001b[39m\u001b[39m'\u001b[39m)\n",
      "\u001b[1;31mOperationalError\u001b[0m: table student already exists"
     ]
    }
   ],
   "source": [
    "query = '''create table student(\n",
    "sid int primary key,\n",
    "name varchar(30),\n",
    "age int,\n",
    "email varchar(30) unique,\n",
    "phone Bigint unique,\n",
    "address varchar(50),\n",
    "marks int)'''\n",
    "\n",
    "cur.execute(query)\n",
    "print(cur.rowcount,'Row Affected')"
   ]
  },
  {
   "cell_type": "code",
   "execution_count": 37,
   "metadata": {},
   "outputs": [],
   "source": [
    "db.commit()"
   ]
  },
  {
   "cell_type": "code",
   "execution_count": 33,
   "metadata": {},
   "outputs": [
    {
     "name": "stdout",
     "output_type": "stream",
     "text": [
      "1 Row Affected\n"
     ]
    }
   ],
   "source": [
    "query='''insert into student(sid, name, age, email, phone, address, marks)\n",
    "values (3, 'Rani', 23, 'rani@gmail.com', 9876544782, 'Pune', 93 )'''\n",
    "cur.execute(query)\n",
    "print(cur.rowcount, 'Row Affected')"
   ]
  },
  {
   "cell_type": "code",
   "execution_count": 35,
   "metadata": {},
   "outputs": [
    {
     "name": "stdout",
     "output_type": "stream",
     "text": [
      "(1, 'Gopi', 26, 'gopi@gmail.com', 9876544780, 'Hyd', 93)\n",
      "(2, 'Ram', 27, 'ram@gmail.com', 9876544781, 'Bng', 93)\n",
      "(3, 'Rani', 23, 'rani@gmail.com', 9876544782, 'Pune', 93)\n"
     ]
    }
   ],
   "source": [
    "query = '''select * from student'''\n",
    "cur.execute(query)\n",
    "res = cur.fetchall()\n",
    "for i in res:\n",
    "    print(i)"
   ]
  },
  {
   "cell_type": "code",
   "execution_count": 36,
   "metadata": {},
   "outputs": [
    {
     "name": "stdout",
     "output_type": "stream",
     "text": [
      "1 Row Updated\n"
     ]
    }
   ],
   "source": [
    "query = '''update student set email = 'ram56@gmail.com' where sid=2'''\n",
    "cur.execute(query)\n",
    "print(cur.rowcount, 'Row Updated')\n",
    "db.commit()"
   ]
  },
  {
   "cell_type": "code",
   "execution_count": 38,
   "metadata": {},
   "outputs": [
    {
     "name": "stdout",
     "output_type": "stream",
     "text": [
      "(1, 'Gopi', 26, 'gopi@gmail.com', 9876544780, 'Hyd', 93)\n",
      "(2, 'Ram', 27, 'ram56@gmail.com', 9876544781, 'Bng', 93)\n",
      "(3, 'Rani', 23, 'rani@gmail.com', 9876544782, 'Pune', 93)\n"
     ]
    }
   ],
   "source": [
    "query = '''select * from student'''\n",
    "cur.execute(query)\n",
    "res = cur.fetchall()\n",
    "for i in res:\n",
    "    print(i)"
   ]
  },
  {
   "cell_type": "code",
   "execution_count": 27,
   "metadata": {},
   "outputs": [
    {
     "name": "stdout",
     "output_type": "stream",
     "text": [
      "1 Row Deleted\n"
     ]
    }
   ],
   "source": [
    "query = '''delete from student where sid=1'''\n",
    "cur.execute(query)\n",
    "print(cur.rowcount, 'Row Deleted')"
   ]
  },
  {
   "cell_type": "code",
   "execution_count": null,
   "metadata": {},
   "outputs": [],
   "source": [
    "def insert_record"
   ]
  }
 ],
 "metadata": {
  "kernelspec": {
   "display_name": "Python 3",
   "language": "python",
   "name": "python3"
  },
  "language_info": {
   "codemirror_mode": {
    "name": "ipython",
    "version": 3
   },
   "file_extension": ".py",
   "mimetype": "text/x-python",
   "name": "python",
   "nbconvert_exporter": "python",
   "pygments_lexer": "ipython3",
   "version": "3.12.0"
  }
 },
 "nbformat": 4,
 "nbformat_minor": 2
}
