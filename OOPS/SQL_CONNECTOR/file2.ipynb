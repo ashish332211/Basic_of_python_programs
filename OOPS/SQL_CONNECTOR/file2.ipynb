{
 "cells": [
  {
   "cell_type": "code",
   "execution_count": 2,
   "metadata": {},
   "outputs": [],
   "source": [
    "import sqlite3 as sq\n",
    "\n",
    "db = sq.connect('p_student.sqlite3')\n",
    "cur = db.cursor()"
   ]
  },
  {
   "cell_type": "code",
   "execution_count": 6,
   "metadata": {},
   "outputs": [
    {
     "ename": "OperationalError",
     "evalue": "table p_student already exists",
     "output_type": "error",
     "traceback": [
      "\u001b[1;31m---------------------------------------------------------------------------\u001b[0m",
      "\u001b[1;31mOperationalError\u001b[0m                          Traceback (most recent call last)",
      "\u001b[1;32mc:\\Users\\HP\\Documents\\GitHub\\Basic_of_python_programs\\OOPS\\SQL_CONNECTOR\\file2.ipynb Cell 2\u001b[0m line \u001b[0;36m1\n\u001b[0;32m      <a href='vscode-notebook-cell:/c%3A/Users/HP/Documents/GitHub/Basic_of_python_programs/OOPS/SQL_CONNECTOR/file2.ipynb#W1sZmlsZQ%3D%3D?line=0'>1</a>\u001b[0m query \u001b[39m=\u001b[39m \u001b[39m'''\u001b[39m\u001b[39mcreate table p_student(\u001b[39m\n\u001b[0;32m      <a href='vscode-notebook-cell:/c%3A/Users/HP/Documents/GitHub/Basic_of_python_programs/OOPS/SQL_CONNECTOR/file2.ipynb#W1sZmlsZQ%3D%3D?line=1'>2</a>\u001b[0m \u001b[39msid int primary key,\u001b[39m\n\u001b[0;32m      <a href='vscode-notebook-cell:/c%3A/Users/HP/Documents/GitHub/Basic_of_python_programs/OOPS/SQL_CONNECTOR/file2.ipynb#W1sZmlsZQ%3D%3D?line=2'>3</a>\u001b[0m \u001b[39mname varchar(30),\u001b[39m\n\u001b[1;32m   (...)\u001b[0m\n\u001b[0;32m      <a href='vscode-notebook-cell:/c%3A/Users/HP/Documents/GitHub/Basic_of_python_programs/OOPS/SQL_CONNECTOR/file2.ipynb#W1sZmlsZQ%3D%3D?line=6'>7</a>\u001b[0m \u001b[39maddress varchar(50),\u001b[39m\n\u001b[0;32m      <a href='vscode-notebook-cell:/c%3A/Users/HP/Documents/GitHub/Basic_of_python_programs/OOPS/SQL_CONNECTOR/file2.ipynb#W1sZmlsZQ%3D%3D?line=7'>8</a>\u001b[0m \u001b[39mmarks int)\u001b[39m\u001b[39m'''\u001b[39m\n\u001b[1;32m---> <a href='vscode-notebook-cell:/c%3A/Users/HP/Documents/GitHub/Basic_of_python_programs/OOPS/SQL_CONNECTOR/file2.ipynb#W1sZmlsZQ%3D%3D?line=9'>10</a>\u001b[0m cur\u001b[39m.\u001b[39;49mexecute(query)\n\u001b[0;32m     <a href='vscode-notebook-cell:/c%3A/Users/HP/Documents/GitHub/Basic_of_python_programs/OOPS/SQL_CONNECTOR/file2.ipynb#W1sZmlsZQ%3D%3D?line=10'>11</a>\u001b[0m \u001b[39mprint\u001b[39m(cur\u001b[39m.\u001b[39mrowcount,\u001b[39m'\u001b[39m\u001b[39mRow Affected\u001b[39m\u001b[39m'\u001b[39m)\n",
      "\u001b[1;31mOperationalError\u001b[0m: table p_student already exists"
     ]
    }
   ],
   "source": [
    "query = '''create table p_student(\n",
    "sid int primary key,\n",
    "name varchar(30),\n",
    "age int,\n",
    "email varchar(30) unique,\n",
    "phone Bigint unique,\n",
    "address varchar(50),\n",
    "marks int)'''\n",
    "\n",
    "cur.execute(query)\n",
    "print(cur.rowcount,'Row Affected')"
   ]
  },
  {
   "cell_type": "code",
   "execution_count": 36,
   "metadata": {},
   "outputs": [],
   "source": [
    "db.commit()"
   ]
  },
  {
   "cell_type": "code",
   "execution_count": 21,
   "metadata": {},
   "outputs": [
    {
     "name": "stdout",
     "output_type": "stream",
     "text": [
      "1 Row Affected\n"
     ]
    }
   ],
   "source": [
    "# query='''insert into p_student(sid, name, age, email, phone, address, marks)\n",
    "# values (3, 'Ram', 25, 'ram@gmail.com', 9876544780, 'Pune', 95 )'''\n",
    "# cur.execute(query)\n",
    "# print(cur.rowcount, 'Row Affected')"
   ]
  },
  {
   "cell_type": "code",
   "execution_count": 35,
   "metadata": {},
   "outputs": [
    {
     "name": "stdout",
     "output_type": "stream",
     "text": [
      "1 Row Deleted\n"
     ]
    }
   ],
   "source": [
    "# query = '''delete from p_student where sid=1'''\n",
    "# cur.execute(query)\n",
    "# print(cur.rowcount, 'Row Deleted')"
   ]
  },
  {
   "cell_type": "code",
   "execution_count": 17,
   "metadata": {},
   "outputs": [],
   "source": [
    "def insert_record(sid, name, age, email, phone, address, marks):\n",
    "    \n",
    "    query = ''' insert into p_student(sid, name, age, email, phone, address, marks) values (?, ?, ?, ?, ?, ?, ?)'''\n",
    "    val = [sid, name, age, email, phone, address, marks]\n",
    "    cur.execute(query, val)\n",
    "    print(cur.rowcount)\n",
    "    db.commit()"
   ]
  },
  {
   "cell_type": "code",
   "execution_count": 25,
   "metadata": {},
   "outputs": [],
   "source": [
    "def fetch_record():\n",
    "    query = ''' select * from p_student'''\n",
    "    cur.execute(query)\n",
    "    for i in cur.fetchall():\n",
    "        print(i)"
   ]
  },
  {
   "cell_type": "code",
   "execution_count": 26,
   "metadata": {},
   "outputs": [],
   "source": [
    "def update_record(sid, phone):\n",
    "    query = ''' update p_student set phone=? where sid=?'''\n",
    "    val = [phone, sid]\n",
    "    cur.execute(query, val)\n",
    "    print(cur.rowcount, 'Row Created')\n",
    "    db.commit()"
   ]
  },
  {
   "cell_type": "code",
   "execution_count": 27,
   "metadata": {},
   "outputs": [],
   "source": [
    "def delete_record(sid):\n",
    "    query = ''' update p_student where sid=?'''\n",
    "    val = [sid]\n",
    "    cur.execute(query, val)\n",
    "    print(cur.rowcount, 'Row Created')\n",
    "    db.commit()"
   ]
  },
  {
   "cell_type": "code",
   "execution_count": 39,
   "metadata": {},
   "outputs": [
    {
     "name": "stdout",
     "output_type": "stream",
     "text": [
      "(1, 'ashu', 23, 'ashu@gmail.com', 9876543212, 'sabira', 35)\n",
      "(2, 'raja', 24, 'raja@gmail.com', 9876556789, 'bng', 45)\n"
     ]
    }
   ],
   "source": [
    "def main():\n",
    "    n = int(input(\"Choose The Option: \\n1.Insert\\n2.Fetch\\n3.Update\\n4.Delete\\n5.Exit\"))\n",
    "    match n:\n",
    "        case 1:\n",
    "            insert_record(int(input('Enter The sid')),\n",
    "                          input('Enter The Name'),\n",
    "                          int(input('Enter The Age')),\n",
    "                          input('Enter The Email'),\n",
    "                          int(input('Enter The Phone')),\n",
    "                          input('Enter The Address'),\n",
    "                          int(input('Enter The Marks'))\n",
    "                          )\n",
    "        case 2:\n",
    "            fetch_record()\n",
    "        case 3:\n",
    "            update_record(int(input('Enter The sid')), int(input('Enter The Phone')))\n",
    "        case 4:\n",
    "            delete_record(int(input('Enter the sid')))\n",
    "        case _:\n",
    "            return\n",
    "    main()\n",
    "main()"
   ]
  }
 ],
 "metadata": {
  "kernelspec": {
   "display_name": "Python 3",
   "language": "python",
   "name": "python3"
  },
  "language_info": {
   "codemirror_mode": {
    "name": "ipython",
    "version": 3
   },
   "file_extension": ".py",
   "mimetype": "text/x-python",
   "name": "python",
   "nbconvert_exporter": "python",
   "pygments_lexer": "ipython3",
   "version": "3.12.0"
  }
 },
 "nbformat": 4,
 "nbformat_minor": 2
}
