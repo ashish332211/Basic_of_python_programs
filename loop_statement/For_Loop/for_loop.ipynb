{
 "cells": [
  {
   "cell_type": "markdown",
   "metadata": {},
   "source": [
    "1.WAP to extract each and every character from the string"
   ]
  },
  {
   "cell_type": "code",
   "execution_count": 1,
   "metadata": {},
   "outputs": [
    {
     "name": "stdout",
     "output_type": "stream",
     "text": [
      "h\n",
      "e\n",
      "l\n",
      "l\n",
      "o\n"
     ]
    }
   ],
   "source": [
    "st='hello'\n",
    "for i in st:\n",
    "    print(i)"
   ]
  },
  {
   "cell_type": "markdown",
   "metadata": {},
   "source": [
    "2.WAP to extract each data item from the collection."
   ]
  },
  {
   "cell_type": "code",
   "execution_count": 2,
   "metadata": {},
   "outputs": [
    {
     "name": "stdout",
     "output_type": "stream",
     "text": [
      "10\n",
      "15\n",
      "True\n",
      "[10, 20, 30]\n",
      "{10, 20}\n",
      "{'a': 10, 'b': 20}\n"
     ]
    }
   ],
   "source": [
    "l=[10,15,True,[10,20,30],{10,20},{'a':10,'b':20}]\n",
    "for i in l:\n",
    "    print(i)"
   ]
  },
  {
   "cell_type": "markdown",
   "metadata": {},
   "source": [
    "3.WAP to extract the key and value pair in a dictionary"
   ]
  },
  {
   "cell_type": "code",
   "execution_count": 3,
   "metadata": {},
   "outputs": [
    {
     "name": "stdout",
     "output_type": "stream",
     "text": [
      "10 15\n",
      "pys (10, 20, 30)\n",
      "b'1010' None\n"
     ]
    }
   ],
   "source": [
    "\n",
    "d={10:15,'pys':(10,20,30),b'1010':None}\n",
    "for i in d:\n",
    "    print(i,d[i])"
   ]
  },
  {
   "cell_type": "markdown",
   "metadata": {},
   "source": [
    "4.WAP to extract the uppercase character"
   ]
  },
  {
   "cell_type": "code",
   "execution_count": 4,
   "metadata": {},
   "outputs": [
    {
     "name": "stdout",
     "output_type": "stream",
     "text": [
      "P\n",
      "S\n",
      "I\n",
      "E\n"
     ]
    }
   ],
   "source": [
    "st='PySpIdErs#@123'\n",
    "for i in st:\n",
    "    if 'A'<=i<='Z':\n",
    "        print(i)"
   ]
  },
  {
   "cell_type": "markdown",
   "metadata": {},
   "source": [
    "5.WAP to extract and store the special character and lowercase character from given string."
   ]
  },
  {
   "cell_type": "code",
   "execution_count": 5,
   "metadata": {},
   "outputs": [
    {
     "name": "stdout",
     "output_type": "stream",
     "text": [
      "ypdrs#@\n"
     ]
    }
   ],
   "source": [
    "st='PySpIdErs#@123'\n",
    "res=''\n",
    "for i in st:\n",
    "    if not ('A'<=i<='Z' or '0'<=i<='9') or 'a'<=i<='z':\n",
    "        res+=i\n",
    "print(res)\n"
   ]
  },
  {
   "cell_type": "markdown",
   "metadata": {},
   "source": [
    "6.WAP to seggrigate the characters from the given string"
   ]
  },
  {
   "cell_type": "code",
   "execution_count": 6,
   "metadata": {},
   "outputs": [
    {
     "name": "stdout",
     "output_type": "stream",
     "text": [
      "PSIE\n",
      "ypdrs\n",
      "123\n",
      "#@\n"
     ]
    }
   ],
   "source": [
    "st='PySpIdErs#@123'\n",
    "uc,lc,an,sc='','','',''\n",
    "for i in st:\n",
    "    if 'A'<=i<='Z':\n",
    "        uc+=i\n",
    "    elif 'a'<=i<='z':\n",
    "        lc+=i\n",
    "    elif '0'<=i<='9':\n",
    "        an+=i\n",
    "    else:\n",
    "        sc+=i\n",
    "print(uc)\n",
    "print(lc)\n",
    "print(an)\n",
    "print(sc)\n",
    "        "
   ]
  },
  {
   "cell_type": "markdown",
   "metadata": {},
   "source": [
    "WAP to check given password is valid or invalid\n",
    "* Given input should be string and length of the string should have minimum 8 and maximum 20 character\n",
    "* Minmum one numeric character\n",
    "* Minimum one and maximum 5 lowercase character\n",
    "* Minimu 2 special character except dot(.),([],(),{},_)\n",
    "* Starting and ending character should be Uppercase"
   ]
  },
  {
   "cell_type": "code",
   "execution_count": 7,
   "metadata": {},
   "outputs": [
    {
     "name": "stdout",
     "output_type": "stream",
     "text": [
      "Valid Password\n"
     ]
    }
   ],
   "source": [
    "st='Hee12@#llFD'\n",
    "if type(st)==str and 8<=len(st)<=20 and 'A'<=st[0]<='Z' and 'A'<=st[-1]<='Z':\n",
    "\n",
    "    uc,lc,an,sp,ps='','','','',''\n",
    "    for i in st:\n",
    "        if 'A'<=i<='Z':\n",
    "            uc+=i\n",
    "        elif 'a'<=i<='z':\n",
    "            lc+=i\n",
    "        elif '0'<=i<='9':\n",
    "            an+=i\n",
    "        elif i not in \".()[]{}_\":\n",
    "            sp+=i\n",
    "        else:\n",
    "            ps+=i\n",
    "    if 1<=len(lc)<=5 and len(an)>=1 and len(sp)>=2 and len(ps)==0:\n",
    "        print('Valid Password')\n",
    "    else:\n",
    "        print('Invalid Password')\n",
    "else:\n",
    "    print('Invalid Password')"
   ]
  },
  {
   "cell_type": "markdown",
   "metadata": {},
   "source": [
    "WAP to check given password is valid or invalid.If invalid display with reason\n",
    "* Given input should be string and length of the string should have minimum 8 and maximum 20 character\n",
    "* Minmum one numeric character\n",
    "* Minimum one and maximum 5 lowercase character\n",
    "* Minimu 2 special character except dot(.),([],(),{},_)\n",
    "* Starting and ending character should be Uppercase"
   ]
  },
  {
   "cell_type": "code",
   "execution_count": 8,
   "metadata": {},
   "outputs": [
    {
     "name": "stdout",
     "output_type": "stream",
     "text": [
      "Password should have 2 special character\n"
     ]
    }
   ],
   "source": [
    "st='Hee12llFD'\n",
    "if not(type(st)==str):\n",
    "    print(\"Password should be string\")\n",
    "elif not(8<=len(st)<=20):\n",
    "    print(\"Password should have min 8 char and max 20\")\n",
    "elif not('A'<=st[0]<='Z' and 'A'<=st[-1]<='Z'):\n",
    "    print('Password first and last character should have Uppercase')\n",
    "else:\n",
    "    uc,lc,sp,an,ps='','','','',''\n",
    "    for i in st:\n",
    "        if 'A'<=i<='Z':\n",
    "            uc+=i\n",
    "        elif 'a'<=i<='z':\n",
    "            lc+=i\n",
    "        elif '0'<=i<='9':\n",
    "            an+=i\n",
    "        elif i not in '.(){}[]':\n",
    "            sp+=i\n",
    "        else:\n",
    "            ps+=i\n",
    "    if not(len(an)>=1):\n",
    "        print('Password should have min 1 numeric character')\n",
    "    if not(1<=len(lc)<=5):\n",
    "        print('Password should have minimum 1 lower case and maximum 5 uppercase')\n",
    "    if not(len(sp)>=2):\n",
    "        print('Password should have 2 special character')\n",
    "    if not(len(ps)==0):\n",
    "        print('Password should not be .,space,(),[],{}')"
   ]
  },
  {
   "cell_type": "markdown",
   "metadata": {},
   "source": [
    "WAP to count the number of the data items in given collection.(Without length function)"
   ]
  },
  {
   "cell_type": "code",
   "execution_count": 9,
   "metadata": {},
   "outputs": [],
   "source": [
    "var=eval(input(\"Enter the value:\"))\n",
    "if type(var) in [str,list,tuple,set,dict]:\n",
    "    count=0\n",
    "    for i in var:\n",
    "        count+=1\n",
    "    print(count)"
   ]
  },
  {
   "cell_type": "markdown",
   "metadata": {},
   "source": [
    "WAP to count the specific data item in given collection"
   ]
  },
  {
   "cell_type": "code",
   "execution_count": 10,
   "metadata": {},
   "outputs": [],
   "source": [
    "var=eval(input(\"Enter the value:\"))\n",
    "sp=eval(input(\"Enter the sp value:\"))\n",
    "if type(var) in [str,list,tuple,dict]:\n",
    "    count=0\n",
    "    for i in var:\n",
    "        if sp==i:\n",
    "            count+=1\n",
    "    print(count)"
   ]
  },
  {
   "cell_type": "markdown",
   "metadata": {},
   "source": [
    "WAP to count the each character using for loop"
   ]
  },
  {
   "cell_type": "code",
   "execution_count": null,
   "metadata": {},
   "outputs": [
    {
     "name": "stdout",
     "output_type": "stream",
     "text": [
      "helowrd\n",
      "['h', 1, 'e', 1, 'l', 3, 'o', 2, 'w', 1, 'r', 1, 'd', 1]\n",
      "{'h': 1, 'e': 1, 'l': 3, 'o': 2, 'w': 1, 'r': 1, 'd': 1}\n"
     ]
    }
   ],
   "source": [
    "#USING LIST\n",
    "st='helloworld'\n",
    "uni=''\n",
    "for i in st:\n",
    "    if i not in uni:\n",
    "        uni+=i\n",
    "print(uni)\n",
    "l=[]\n",
    "for i in uni:\n",
    "    count=0\n",
    "    for j in st:\n",
    "        if i==j:\n",
    "            count+=1\n",
    "    l+=[i,count]\n",
    "print(l)\n",
    "\n",
    "#USING DICTIONARY\n",
    "st='helloworld'\n",
    "d={}\n",
    "for i in st:\n",
    "    if i not in d:\n",
    "        d[i]=1\n",
    "    else:\n",
    "        d[i]+=1\n",
    "print(d)"
   ]
  },
  {
   "cell_type": "markdown",
   "metadata": {},
   "source": [
    "WAP to find out the maximum occurance character"
   ]
  },
  {
   "cell_type": "code",
   "execution_count": null,
   "metadata": {},
   "outputs": [
    {
     "name": "stdout",
     "output_type": "stream",
     "text": [
      "{'h': 1, 'e': 1, 'l': 3, 'o': 2, 'w': 1, 'r': 1, 'd': 1}\n",
      "l 3\n"
     ]
    }
   ],
   "source": [
    "st='helloworld'\n",
    "d={}\n",
    "for i in st:\n",
    "    if i not in d:\n",
    "        d[i]=1\n",
    "    else:\n",
    "        d[i]+=1\n",
    "print(d)\n",
    "max=0\n",
    "ch=None\n",
    "for i in d:\n",
    "    if max<d[i]:\n",
    "        max=d[i]\n",
    "        ch=i\n",
    "print(ch,max)"
   ]
  },
  {
   "cell_type": "markdown",
   "metadata": {},
   "source": [
    "WAP to find out the minimum occurance character"
   ]
  },
  {
   "cell_type": "code",
   "execution_count": null,
   "metadata": {},
   "outputs": [
    {
     "name": "stdout",
     "output_type": "stream",
     "text": [
      "{'h': 1, 'e': 1, 'l': 3, 'o': 2, 'w': 1, 'r': 1, 'd': 1}\n",
      "h 1\n"
     ]
    }
   ],
   "source": [
    "st='helloworld'\n",
    "d={}\n",
    "for i in st:\n",
    "    if i not in d:\n",
    "        d[i]=1\n",
    "    else:\n",
    "        d[i]+=1\n",
    "print(d)\n",
    "min=len(st)\n",
    "ch=None\n",
    "for i in d:\n",
    "    if min>d[i]:\n",
    "        min=d[i]\n",
    "        ch=i\n",
    "print(ch,min)\n"
   ]
  },
  {
   "cell_type": "markdown",
   "metadata": {},
   "source": []
  },
  {
   "cell_type": "code",
   "execution_count": null,
   "metadata": {},
   "outputs": [
    {
     "name": "stdout",
     "output_type": "stream",
     "text": [
      "{'h': 1, 'e': 1, 'l': 3, 'o': 2, 'w': 1, 'r': 1, 'd': 1}\n",
      "['e', 1, 'w', 1, 'r', 1, 'd', 1]\n"
     ]
    }
   ],
   "source": [
    "st='helloworld'\n",
    "d={}\n",
    "for i in st:\n",
    "    if i not in d:\n",
    "        d[i]=1\n",
    "    else:\n",
    "        d[i]+=1\n",
    "print(d)\n",
    "u=[]\n",
    "min=len(st)\n",
    "ch=None\n",
    "for i in d:\n",
    "    if min>d[i]:\n",
    "        min=d[i]\n",
    "        ch=i\n",
    "    elif min==d[i]:\n",
    "        u+=[i,d[i]]\n",
    "print(u)\n",
    "############################"
   ]
  },
  {
   "cell_type": "markdown",
   "metadata": {},
   "source": [
    "I/P='hello world'\n",
    "O/P={1: ['h', 'e', ' ', 'w', 'r', 'd'], 3: ['l'], 2: ['o']}"
   ]
  },
  {
   "cell_type": "code",
   "execution_count": null,
   "metadata": {},
   "outputs": [
    {
     "name": "stdout",
     "output_type": "stream",
     "text": [
      "{'h': 1, 'e': 1, 'l': 3, 'o': 2, ' ': 1, 'w': 1, 'r': 1, 'd': 1}\n",
      "{1: ['h', 'e', ' ', 'w', 'r', 'd'], 3: ['l'], 2: ['o']}\n"
     ]
    }
   ],
   "source": [
    "st='hello world'\n",
    "d={}\n",
    "for i in st:\n",
    "    if i not in d:\n",
    "        d[i]=1\n",
    "    else:\n",
    "        d[i]+=1\n",
    "print(d)\n",
    "res={}\n",
    "j=0\n",
    "for j in d:\n",
    "    if d[j] not in res:\n",
    "        res[d[j]]=[j]\n",
    "    else:\n",
    "        res[d[j]]+=[j]\n",
    "print(res)"
   ]
  },
  {
   "cell_type": "markdown",
   "metadata": {},
   "source": [
    "WAP to count the list occurance character from a given string"
   ]
  },
  {
   "cell_type": "code",
   "execution_count": null,
   "metadata": {},
   "outputs": [],
   "source": []
  },
  {
   "cell_type": "markdown",
   "metadata": {},
   "source": [
    "WAP to reverse the string.(without slicing)"
   ]
  },
  {
   "cell_type": "code",
   "execution_count": null,
   "metadata": {},
   "outputs": [
    {
     "name": "stdout",
     "output_type": "stream",
     "text": [
      "dlrowolleh\n"
     ]
    }
   ],
   "source": [
    "st='helloworld'\n",
    "res=''\n",
    "for i in st:\n",
    "    res=i+res\n",
    "print(res)"
   ]
  },
  {
   "cell_type": "markdown",
   "metadata": {},
   "source": [
    "WAP to check the given string is palindrome or not "
   ]
  },
  {
   "cell_type": "code",
   "execution_count": null,
   "metadata": {},
   "outputs": [
    {
     "name": "stdout",
     "output_type": "stream",
     "text": [
      "Palindrome\n"
     ]
    }
   ],
   "source": [
    "st='MADAM'\n",
    "res=''\n",
    "for i in st:\n",
    "    res=i+res\n",
    "if res==st:\n",
    "    print('Palindrome')\n",
    "else:\n",
    "    print('Not Palidrome')"
   ]
  },
  {
   "cell_type": "code",
   "execution_count": null,
   "metadata": {},
   "outputs": [
    {
     "name": "stdout",
     "output_type": "stream",
     "text": [
      "m\n",
      "mo\n",
      "mob\n",
      "mobi\n",
      "mobil\n",
      "mobile\n",
      "m\n",
      "mo\n",
      "mob\n",
      "mobi\n",
      "mobil\n",
      "mobile\n"
     ]
    }
   ],
   "source": [
    "st='mobile'\n",
    "res=''\n",
    "for i in st:\n",
    "    res+=i\n",
    "    print(res)\n",
    "\n",
    "#USING SLICING\n",
    "st='mobile'\n",
    "pos=1\n",
    "for i in st:\n",
    "    print(st[0:pos])\n",
    "    pos+=1"
   ]
  },
  {
   "cell_type": "code",
   "execution_count": null,
   "metadata": {},
   "outputs": [
    {
     "name": "stdout",
     "output_type": "stream",
     "text": [
      "m\n",
      "mo\n",
      "mob\n",
      "mobi\n",
      "mobil\n",
      "mobile\n"
     ]
    }
   ],
   "source": [
    "st='mobile'\n",
    "res=''\n",
    "for i in range(0,len(st)):\n",
    "    res+=st[i]\n",
    "    print(res)"
   ]
  },
  {
   "cell_type": "code",
   "execution_count": null,
   "metadata": {},
   "outputs": [
    {
     "name": "stdout",
     "output_type": "stream",
     "text": [
      "m\n",
      "mo\n",
      "mob\n",
      "mobi\n",
      "mobil\n",
      "mobile\n"
     ]
    }
   ],
   "source": [
    "st='mobile'\n",
    "for i in range(1, len(st)+1):\n",
    "    print(st[0:i])"
   ]
  },
  {
   "cell_type": "code",
   "execution_count": null,
   "metadata": {},
   "outputs": [
    {
     "name": "stdout",
     "output_type": "stream",
     "text": [
      "0\n",
      "1\n",
      "2\n",
      "3\n",
      "4\n",
      "5\n"
     ]
    }
   ],
   "source": [
    "st='mobile'\n",
    "for i in range(len(st)):\n",
    "    print(i)"
   ]
  },
  {
   "cell_type": "code",
   "execution_count": null,
   "metadata": {},
   "outputs": [
    {
     "name": "stdout",
     "output_type": "stream",
     "text": [
      "O\n",
      "OD\n",
      "ODI\n",
      "ODIS\n",
      "ODISH\n",
      "ODISHA\n",
      "D\n",
      "DI\n",
      "DIS\n",
      "DISH\n",
      "DISHA\n",
      "I\n",
      "IS\n",
      "ISH\n",
      "ISHA\n",
      "S\n",
      "SH\n",
      "SHA\n",
      "H\n",
      "HA\n",
      "A\n"
     ]
    }
   ],
   "source": [
    "st='ODISHA'\n",
    "for i in range(0,len(st)):\n",
    "    for j in range(i+1,len(st)+1):\n",
    "        print(st[i:j])"
   ]
  },
  {
   "cell_type": "code",
   "execution_count": null,
   "metadata": {},
   "outputs": [
    {
     "name": "stdout",
     "output_type": "stream",
     "text": [
      "ell\n",
      "ell\n",
      "olleh\n",
      "olleh\n",
      "olleh\n",
      "olleh\n"
     ]
    }
   ],
   "source": [
    "#DIFFERENT METHODS FOR REVERSE A STRING\n",
    "st='hello'\n",
    "print(st[1:3+1])\n",
    "\n",
    "res=''\n",
    "for i in range(1,3+1):\n",
    "    res+=st[i]\n",
    "print(res)\n",
    "\n",
    "st='hello'\n",
    "print(st[-1:-(len(st)+1):-1])\n",
    "print(st[::-1])\n",
    "\n",
    "rev=''\n",
    "for i in range(0,len(st)):\n",
    "    rev=st[i]+rev\n",
    "print(rev)\n",
    "\n",
    "rev=''\n",
    "for i in range(-1,-(len(st)+1),-1):\n",
    "    rev+=st[i]\n",
    "print(rev)"
   ]
  },
  {
   "cell_type": "markdown",
   "metadata": {},
   "source": [
    "WAP to extract the palindrome series from a given string"
   ]
  },
  {
   "cell_type": "code",
   "execution_count": null,
   "metadata": {},
   "outputs": [
    {
     "name": "stdout",
     "output_type": "stream",
     "text": [
      "abcdcba\n",
      "bcdcb\n",
      "cdc\n",
      "xyzzyx\n",
      "yzzy\n",
      "5445\n"
     ]
    }
   ],
   "source": [
    "st='abcdcbalifhxyzzyx15445#$5'\n",
    "for i in range(0,len(st)):\n",
    "    for j in range(i,len(st)+1):\n",
    "        res=st[i:j]\n",
    "        if len(res)>=3 and res==res[::-1]:\n",
    "            print(res)\n",
    "\n",
    "\n",
    "#WITHOUT SLICING\n",
    "# st='abcdcbalifhxyzzyx15445#$5'\n",
    "\n"
   ]
  },
  {
   "cell_type": "code",
   "execution_count": null,
   "metadata": {},
   "outputs": [
    {
     "name": "stdout",
     "output_type": "stream",
     "text": [
      "4 9\n",
      "4 3\n",
      "4 2\n",
      "4 1\n",
      "9 3\n",
      "9 2\n",
      "9 1\n",
      "3 2\n",
      "3 1\n",
      "2 1\n"
     ]
    }
   ],
   "source": [
    "st='49321'\n",
    "count=0\n",
    "for i in range(0,len(st)):\n",
    "    for j in range(i+1,len(st)):\n",
    "        print(int(st[i]),int(st[j]))"
   ]
  },
  {
   "cell_type": "markdown",
   "metadata": {},
   "source": [
    "WAP to display the index value for given character in a given string"
   ]
  },
  {
   "cell_type": "code",
   "execution_count": null,
   "metadata": {},
   "outputs": [
    {
     "name": "stdout",
     "output_type": "stream",
     "text": [
      "p 2\n",
      "p 5\n"
     ]
    }
   ],
   "source": [
    "st='laptop'\n",
    "ch='p'\n",
    "for i in range(0,len(st)):\n",
    "    if st[i]==ch:\n",
    "        print(st[i],i)\n",
    "    i+=1"
   ]
  },
  {
   "cell_type": "markdown",
   "metadata": {},
   "source": [
    "WAP to display the index value for specific character in given string to diplay only first occurance"
   ]
  },
  {
   "cell_type": "code",
   "execution_count": null,
   "metadata": {},
   "outputs": [
    {
     "name": "stdout",
     "output_type": "stream",
     "text": [
      "p 2\n"
     ]
    }
   ],
   "source": [
    "st='laptop'\n",
    "ch='p'\n",
    "for i in range(0,len(st)):\n",
    "    if st[i]==ch:\n",
    "        print(st[i],i)\n",
    "        break"
   ]
  },
  {
   "cell_type": "markdown",
   "metadata": {},
   "source": [
    "WAP to display index value for specific character in given string. Display position of nth Occurance"
   ]
  },
  {
   "cell_type": "code",
   "execution_count": null,
   "metadata": {},
   "outputs": [
    {
     "name": "stdout",
     "output_type": "stream",
     "text": [
      "a 13\n"
     ]
    }
   ],
   "source": [
    "st='laptop is a hardware component'\n",
    "ch='a'\n",
    "n=3\n",
    "count=0\n",
    "for i in range(0,len(st)):\n",
    "    if st[i]==ch:\n",
    "        count+=1\n",
    "        if n==count:\n",
    "            print(ch,i)"
   ]
  },
  {
   "cell_type": "markdown",
   "metadata": {},
   "source": [
    "WAP to display the index position value for the given substring in a given string"
   ]
  },
  {
   "cell_type": "code",
   "execution_count": null,
   "metadata": {},
   "outputs": [
    {
     "name": "stdout",
     "output_type": "stream",
     "text": [
      "a 1\n",
      "p 2\n",
      "p 5\n"
     ]
    }
   ],
   "source": [
    "st='laptop'\n",
    "s='ap'\n",
    "for i in range(0,len(st)):\n",
    "    for j in range(0,len(s)):\n",
    "        if st[i]==s[j]:\n",
    "            print(st[i],i) "
   ]
  },
  {
   "cell_type": "markdown",
   "metadata": {},
   "source": [
    "WAP to display the index position values for given substring in a given string.(Only for first occurance)"
   ]
  },
  {
   "cell_type": "code",
   "execution_count": null,
   "metadata": {},
   "outputs": [
    {
     "name": "stdout",
     "output_type": "stream",
     "text": [
      "P 0\n",
      "A 10\n",
      "P 12\n",
      "A 17\n"
     ]
    }
   ],
   "source": [
    "st='PYTHON IS A PROGRAMMING'\n",
    "s='AP'\n",
    "for i in range(0,len(st)):\n",
    "    for j in range(0,len(s)):\n",
    "        if st[i]==s[j]:\n",
    "            print(st[i],i)\n",
    "            break"
   ]
  },
  {
   "cell_type": "markdown",
   "metadata": {},
   "source": [
    "WAP to check a given substring is present inside the given string or not. If substring is present display the substring  index "
   ]
  },
  {
   "cell_type": "code",
   "execution_count": null,
   "metadata": {},
   "outputs": [
    {
     "name": "stdout",
     "output_type": "stream",
     "text": [
      "1 4\n"
     ]
    }
   ],
   "source": [
    "st='python programming'\n",
    "s='yth'\n",
    "if s in st:\n",
    "    for i in range(0,len(st)):\n",
    "        if s[0]==st[i]:\n",
    "            if st[i:i+len(s)]==s:\n",
    "                print(i,i+len(s))\n",
    "else:\n",
    "    print('String is not available')"
   ]
  },
  {
   "cell_type": "code",
   "execution_count": 1,
   "metadata": {},
   "outputs": [
    {
     "name": "stdout",
     "output_type": "stream",
     "text": [
      "[1, 2, 3, 4, 6, 5, 8]\n",
      "[1, 2, 3, 4, 1, 2, 6, 1, 2, 6, 6, 5, 6, 8, 2, 3]\n"
     ]
    }
   ],
   "source": [
    "st=[1,2,3,4,1,2,6,1,2,6,6,5,6,8,2,3]\n",
    "uni=[]\n",
    "for i in st:\n",
    "    if i not in uni:\n",
    "        uni+=[i]\n",
    "print(uni)\n",
    "\n",
    "n=3\n",
    "k=0\n",
    "for j in uni:\n",
    "    count=0\n",
    "    if j==st[k]:\n",
    "        count+=1\n",
    "    if count==n:\n",
    "        del st[k]\n",
    "        break\n",
    "print(st)"
   ]
  },
  {
   "cell_type": "code",
   "execution_count": 3,
   "metadata": {},
   "outputs": [
    {
     "name": "stdout",
     "output_type": "stream",
     "text": [
      "47.05\n"
     ]
    }
   ],
   "source": [
    "l=[12,15,19.05,True,'str',[10,20,30]]\n",
    "if type(l) in [list,tuple,set]:\n",
    "    sum=0\n",
    "    for i in l:\n",
    "        if type(i) in [int,float,complex,bool]:\n",
    "            sum+=i\n",
    "    print(sum)"
   ]
  },
  {
   "cell_type": "code",
   "execution_count": 13,
   "metadata": {},
   "outputs": [
    {
     "name": "stdout",
     "output_type": "stream",
     "text": [
      "18\n"
     ]
    }
   ],
   "source": [
    "st='abc156cde123'\n",
    "sum=0\n",
    "for i in st:\n",
    "    if '0'<=i<='9':\n",
    "        sum+=int(i)\n",
    "print(sum)"
   ]
  },
  {
   "cell_type": "code",
   "execution_count": 23,
   "metadata": {},
   "outputs": [
    {
     "name": "stdout",
     "output_type": "stream",
     "text": [
      "518\n"
     ]
    }
   ],
   "source": [
    "st='abc156cde123ghi239'\n",
    "#op:518\n",
    "res=''\n",
    "sum=0\n",
    "for i in st:\n",
    "    if '0'<=i<='9':\n",
    "        res+=i\n",
    "    else:\n",
    "        if len(res)!=0:\n",
    "            sum+=int(res)\n",
    "            res=''\n",
    "if len(res)!=0:\n",
    "    sum+=int(res)\n",
    "print(sum)"
   ]
  },
  {
   "cell_type": "code",
   "execution_count": null,
   "metadata": {},
   "outputs": [],
   "source": [
    "st='abc326cde125efg'\n",
    "\n",
    "#op: 46\n"
   ]
  }
 ],
 "metadata": {
  "kernelspec": {
   "display_name": "Python 3",
   "language": "python",
   "name": "python3"
  },
  "language_info": {
   "codemirror_mode": {
    "name": "ipython",
    "version": 3
   },
   "file_extension": ".py",
   "mimetype": "text/x-python",
   "name": "python",
   "nbconvert_exporter": "python",
   "pygments_lexer": "ipython3",
   "version": "3.11.4"
  },
  "orig_nbformat": 4
 },
 "nbformat": 4,
 "nbformat_minor": 2
}
