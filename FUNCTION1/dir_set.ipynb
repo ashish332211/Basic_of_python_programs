{
 "cells": [
  {
   "cell_type": "code",
   "execution_count": 2,
   "metadata": {},
   "outputs": [
    {
     "name": "stdout",
     "output_type": "stream",
     "text": [
      "2054176177088 {'a', 'c', 'b'}\n",
      "2054176177088 {'a', 'c', 'xyz', 'b'}\n"
     ]
    }
   ],
   "source": [
    "#add()\n",
    "# s={'a','b','c'}\n",
    "# print(id(s),s)\n",
    "# s.add((10,20))\n",
    "# print(id(s),s)\n",
    "\n",
    "s={'a','b','c'}\n",
    "print(id(s),s)\n",
    "def u_add(coll,ele):\n",
    "    if type(coll)!=set:\n",
    "        return -1\n",
    "    if type(ele) in [list,set,dict]:\n",
    "        return -1\n",
    "    coll|={ele}\n",
    "u_add(s,'xyz')\n",
    "print(id(s),s)"
   ]
  },
  {
   "cell_type": "code",
   "execution_count": 18,
   "metadata": {},
   "outputs": [
    {
     "name": "stdout",
     "output_type": "stream",
     "text": [
      "set()\n"
     ]
    }
   ],
   "source": [
    "#clear()\n",
    "# s={'a','b','c'}\n",
    "# print(id(s),s)\n",
    "# s.clear()\n",
    "# print(id(s),s)\n",
    "\n",
    "s={'a','b','c'}\n",
    "def u_clear(coll):\n",
    "    if type(coll)!=set:\n",
    "        return -1\n",
    "    coll-=coll\n",
    "u_clear(s)\n",
    "print(s)"
   ]
  },
  {
   "cell_type": "code",
   "execution_count": 2,
   "metadata": {},
   "outputs": [
    {
     "name": "stdout",
     "output_type": "stream",
     "text": [
      "2666454874848 {'b', 'c', 'e', 'd', 'a'}\n",
      "2666454874848 {'c', 'e', 'd', 'a'}\n"
     ]
    }
   ],
   "source": [
    "#pop()\n",
    "# s={'a','b','c','d','e'}\n",
    "# print(id(s),s)\n",
    "# s.pop()\n",
    "# print(id(s),s)\n",
    "\n",
    "s={'a','b','c','d','e'}\n",
    "print(id(s),s)\n",
    "def u_pop(coll):\n",
    "    if type(coll)!=set:\n",
    "        return -1\n",
    "    res=list(coll)[0]\n",
    "    coll-={res}\n",
    "u_pop(s)\n",
    "print(id(s),s)"
   ]
  },
  {
   "cell_type": "code",
   "execution_count": 18,
   "metadata": {},
   "outputs": [
    {
     "name": "stdout",
     "output_type": "stream",
     "text": [
      "None\n",
      "2260715897344 {'b', 'c', 'e', 'a'}\n"
     ]
    }
   ],
   "source": [
    "#remove\n",
    "# s={'a','b','c','d','e'}\n",
    "# print(id(s),s)\n",
    "# s.remove('c')\n",
    "# print(id(s),s)\n",
    "\n",
    "s={'a','b','c','d','e'}\n",
    "def u_remove(coll,ele):\n",
    "    if type(coll)!=set or ele not in coll:\n",
    "        raise KeyError(\"ele is not found\")\n",
    "    coll-={ele}\n",
    "print(u_remove(s,'d'))\n",
    "print(id(s),s)\n",
    "##############"
   ]
  },
  {
   "cell_type": "code",
   "execution_count": 36,
   "metadata": {},
   "outputs": [
    {
     "name": "stdout",
     "output_type": "stream",
     "text": [
      "2260710455360 {'b', 'c', 'e', 'a', 'd'}\n",
      "2260710455360 {'b', 'e', 'a', 'd'}\n"
     ]
    }
   ],
   "source": [
    "#discard()\n",
    "# s={'a','b','c','d','e'}\n",
    "# print(id(s),s)\n",
    "# s.discard('G')                            \n",
    "# print(id(s),s)\n",
    "\n",
    "#in discard whatever the value will pass, it should be in the collection.\n",
    "# If the passing value will not be in the collection we will get same collection instead of removing anything\n",
    "\n",
    "s={'a','b','c','d','e'}\n",
    "print(id(s),s)\n",
    "def u_discard(coll,ele):\n",
    "    if type(coll)!=set:\n",
    "        raise TypeError (\"Collection should be set\")\n",
    "    # if ele not in coll:\n",
    "    #     return coll\n",
    "    coll-={ele}\n",
    "u_discard(s,'c')\n",
    "print(id(s),s)"
   ]
  },
  {
   "cell_type": "code",
   "execution_count": 8,
   "metadata": {},
   "outputs": [
    {
     "name": "stdout",
     "output_type": "stream",
     "text": [
      "False\n",
      "False\n"
     ]
    }
   ],
   "source": [
    "#issuperset()\n",
    "# s={'a','b','c','d','e'}\n",
    "# t={'a','b','d','g'}\n",
    "# s.issuperset(t)\n",
    "\n",
    "#Here if all the elements present in coll2 will also be present in coll1, it will return True. otherwise false\n",
    "\n",
    "s={'a','b','c','d','e'}\n",
    "t={'a','b','d','k'} \n",
    "def u_superset(coll1,coll2):\n",
    "    if type(coll1)!=set or type(coll2)!=set:\n",
    "        return -1\n",
    "    # for i in coll2:\n",
    "    #     if i not in coll1:\n",
    "    #         return False\n",
    "    # return True\n",
    "    if coll1 & coll2 == coll2:\n",
    "        return True\n",
    "    return False\n",
    "print(u_superset(s,t))\n",
    "print(s.issuperset(t))"
   ]
  },
  {
   "cell_type": "code",
   "execution_count": null,
   "metadata": {},
   "outputs": [],
   "source": [
    "#subset"
   ]
  },
  {
   "cell_type": "code",
   "execution_count": 12,
   "metadata": {},
   "outputs": [
    {
     "name": "stdout",
     "output_type": "stream",
     "text": [
      "True\n",
      "True\n"
     ]
    }
   ],
   "source": [
    "#isdisjoint()\n",
    "# s={'a','b','c','d','e'}\n",
    "# t={'r'}\n",
    "# s.isdisjoint(t)\n",
    "\n",
    "#in disjoint whatever the value present in coll1 should not be present any of the value in coll2 vice versa\n",
    "\n",
    "s={'a','b','c','d','e'}\n",
    "t={'x','y','z'}\n",
    "def u_disjoint(coll1,coll2):\n",
    "    if type(coll1)!=set or type(coll2)!=set:\n",
    "        return -1\n",
    "    for i in coll2:\n",
    "        if i in coll1:\n",
    "            return False\n",
    "    return True\n",
    "print(u_disjoint(s,t))\n",
    "print(s.isdisjoint(t))"
   ]
  }
 ],
 "metadata": {
  "kernelspec": {
   "display_name": "Python 3",
   "language": "python",
   "name": "python3"
  },
  "language_info": {
   "codemirror_mode": {
    "name": "ipython",
    "version": 3
   },
   "file_extension": ".py",
   "mimetype": "text/x-python",
   "name": "python",
   "nbconvert_exporter": "python",
   "pygments_lexer": "ipython3",
   "version": "3.12.0"
  },
  "orig_nbformat": 4
 },
 "nbformat": 4,
 "nbformat_minor": 2
}
