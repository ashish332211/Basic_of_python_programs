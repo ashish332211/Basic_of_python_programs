{
 "cells": [
  {
   "cell_type": "code",
   "execution_count": 7,
   "metadata": {},
   "outputs": [
    {
     "name": "stdout",
     "output_type": "stream",
     "text": [
      "1 Hiii\n",
      "2 Hiii\n",
      "3 Hiii\n",
      "4 Hiii\n",
      "5 Hiii\n",
      "6 Hiii\n",
      "7 Hiii\n",
      "8 Hiii\n",
      "9 Hiii\n"
     ]
    }
   ],
   "source": [
    "#WAP to print 'Hii' n times by using recursion\n",
    "def sample(s=0,e=5):\n",
    "    if s==e:\n",
    "        return\n",
    "    print(s,'Hiii')\n",
    "    sample(s+1,e)\n",
    "sample(1,10)"
   ]
  },
  {
   "cell_type": "code",
   "execution_count": 2,
   "metadata": {},
   "outputs": [
    {
     "ename": "TypeError",
     "evalue": "num() takes 0 positional arguments but 1 was given",
     "output_type": "error",
     "traceback": [
      "\u001b[1;31m---------------------------------------------------------------------------\u001b[0m",
      "\u001b[1;31mTypeError\u001b[0m                                 Traceback (most recent call last)",
      "\u001b[1;32mc:\\Users\\HP\\Documents\\GitHub\\Basic_of_python_programs\\RECURSION.ipynb Cell 2\u001b[0m line \u001b[0;36m6\n\u001b[0;32m      <a href='vscode-notebook-cell:/c%3A/Users/HP/Documents/GitHub/Basic_of_python_programs/RECURSION.ipynb#X11sZmlsZQ%3D%3D?line=3'>4</a>\u001b[0m     \u001b[39mprint\u001b[39m(num,end\u001b[39m=\u001b[39m\u001b[39m\"\u001b[39m\u001b[39m \u001b[39m\u001b[39m\"\u001b[39m)\n\u001b[0;32m      <a href='vscode-notebook-cell:/c%3A/Users/HP/Documents/GitHub/Basic_of_python_programs/RECURSION.ipynb#X11sZmlsZQ%3D%3D?line=4'>5</a>\u001b[0m     num(num\u001b[39m-\u001b[39m\u001b[39m1\u001b[39m)\n\u001b[1;32m----> <a href='vscode-notebook-cell:/c%3A/Users/HP/Documents/GitHub/Basic_of_python_programs/RECURSION.ipynb#X11sZmlsZQ%3D%3D?line=5'>6</a>\u001b[0m num(\u001b[39m10\u001b[39;49m)\n",
      "\u001b[1;31mTypeError\u001b[0m: num() takes 0 positional arguments but 1 was given"
     ]
    }
   ],
   "source": [
    "def num():\n",
    "    if num<=0:\n",
    "        return\n",
    "    print(num,end=\" \")\n",
    "    num(num-1)\n",
    "num(10)"
   ]
  },
  {
   "cell_type": "markdown",
   "metadata": {},
   "source": [
    "WAP to print the nth table from 1 to 10"
   ]
  },
  {
   "cell_type": "code",
   "execution_count": 23,
   "metadata": {},
   "outputs": [
    {
     "name": "stdout",
     "output_type": "stream",
     "text": [
      "3  *  1 = 3\n",
      "3  *  2 = 6\n",
      "3  *  3 = 9\n",
      "3  *  4 = 12\n",
      "3  *  5 = 15\n",
      "3  *  6 = 18\n",
      "3  *  7 = 21\n",
      "3  *  8 = 24\n",
      "3  *  9 = 27\n",
      "3  *  10 = 30\n",
      "5 * 1 = 5\n",
      "5 * 2 = 10\n",
      "5 * 3 = 15\n",
      "5 * 4 = 20\n",
      "5 * 5 = 25\n"
     ]
    }
   ],
   "source": [
    "#USING RECURSION\n",
    "def sample(n=3,s=1,e=10):\n",
    "    if s==e+1:\n",
    "        return \n",
    "    print(n,' * ',s, '=', n*s)\n",
    "    sample(n,s+1,e)\n",
    "sample()\n",
    "\n",
    "#USING WHILE LOOP\n",
    "def table(n=5,s=1,e=5):\n",
    "    while s<e+1:\n",
    "        print(n,'*',s,'=',n*s)\n",
    "        s+=1\n",
    "table()"
   ]
  },
  {
   "cell_type": "markdown",
   "metadata": {},
   "source": [
    "WAP to convert uppercase to lowercase and lowercase to uppercase"
   ]
  },
  {
   "cell_type": "code",
   "execution_count": 10,
   "metadata": {},
   "outputs": [
    {
     "name": "stdout",
     "output_type": "stream",
     "text": [
      "hello WORLD\n",
      "None\n"
     ]
    }
   ],
   "source": [
    "#USING FUNCTION\n",
    "def swapcase(st='HELLO world',i=0,res=''):\n",
    "    while i<len(st):\n",
    "        if 'A'<=st[i]<='Z':\n",
    "            res+=chr(ord(st[i])+32)\n",
    "        elif 'a'<=st[i]<='z':\n",
    "            res+=chr(ord(st[i])-32)\n",
    "        else:\n",
    "            res+=st[i]\n",
    "        i+=1\n",
    "    return res\n",
    "print(swapcase())\n",
    "\n",
    "#USING RECURSION\n",
    "def swapcase(st='HELLO world',i=0,res=''):\n",
    "    if i==len(st):\n",
    "        # print(res)\n",
    "        return\n",
    "    if 'A'<=st[i]<='Z':\n",
    "        res+=chr(ord(st[i])+32)\n",
    "    elif 'a'<=st[i]<='z':\n",
    "        res+=chr(ord(st[i])-32)\n",
    "    else:\n",
    "        res+=st[i]\n",
    "    swapcase(st,i+1,res)\n",
    "print(swapcase())"
   ]
  },
  {
   "cell_type": "code",
   "execution_count": 9,
   "metadata": {},
   "outputs": [
    {
     "data": {
      "text/plain": [
       "120"
      ]
     },
     "execution_count": 9,
     "metadata": {},
     "output_type": "execute_result"
    }
   ],
   "source": [
    "def fact(num=5,prod=1):\n",
    "    if num==0:\n",
    "        return prod\n",
    "    prod*=num\n",
    "    return fact(num-1,prod)\n",
    "fact()\n",
    "\n",
    "# def fact(num=1,prod=1):\n",
    "#     i=1\n",
    "#     while i<=num:\n",
    "#         prod*=i\n",
    "#         i+=1\n",
    "#     return prod   \n",
    "# fact(7)\n",
    "\n",
    "# num=7\n",
    "# prod=1\n",
    "# while num:\n",
    "#     prod*=num\n",
    "#     num-=1\n",
    "# print(prod)"
   ]
  },
  {
   "cell_type": "code",
   "execution_count": 45,
   "metadata": {},
   "outputs": [
    {
     "name": "stdout",
     "output_type": "stream",
     "text": [
      "21\n"
     ]
    }
   ],
   "source": [
    "l=[1, 2, [3,4],[5,6]]\n",
    "def add(coll):\n",
    "\tsum = 0\n",
    "\tfor i in coll:\n",
    "\t\tif type(i) == list:\n",
    "\t\t\tsum+=add(i)\n",
    "\t\telse:\n",
    "\t\t\tsum+=i\n",
    "\n",
    "\treturn sum\n",
    "print(add(l))"
   ]
  },
  {
   "cell_type": "code",
   "execution_count": 48,
   "metadata": {},
   "outputs": [
    {
     "ename": "KeyboardInterrupt",
     "evalue": "",
     "output_type": "error",
     "traceback": [
      "\u001b[1;31m---------------------------------------------------------------------------\u001b[0m",
      "\u001b[1;31mKeyboardInterrupt\u001b[0m                         Traceback (most recent call last)",
      "\u001b[1;32mc:\\Users\\HP\\Documents\\GitHub\\Basic_of_python_programs\\RECURSION.ipynb Cell 8\u001b[0m line \u001b[0;36m6\n\u001b[0;32m      <a href='vscode-notebook-cell:/c%3A/Users/HP/Documents/GitHub/Basic_of_python_programs/RECURSION.ipynb#X14sZmlsZQ%3D%3D?line=3'>4</a>\u001b[0m     q\u001b[39m=\u001b[39mn\u001b[39m/\u001b[39m\u001b[39m/\u001b[39m\u001b[39m2\u001b[39m\n\u001b[0;32m      <a href='vscode-notebook-cell:/c%3A/Users/HP/Documents/GitHub/Basic_of_python_programs/RECURSION.ipynb#X14sZmlsZQ%3D%3D?line=4'>5</a>\u001b[0m     r\u001b[39m=\u001b[39mn\u001b[39m%\u001b[39m\u001b[39m2\u001b[39m\n\u001b[1;32m----> <a href='vscode-notebook-cell:/c%3A/Users/HP/Documents/GitHub/Basic_of_python_programs/RECURSION.ipynb#X14sZmlsZQ%3D%3D?line=5'>6</a>\u001b[0m     st\u001b[39m=\u001b[39m\u001b[39mstr\u001b[39;49m(r)\u001b[39m+\u001b[39mst\n\u001b[0;32m      <a href='vscode-notebook-cell:/c%3A/Users/HP/Documents/GitHub/Basic_of_python_programs/RECURSION.ipynb#X14sZmlsZQ%3D%3D?line=6'>7</a>\u001b[0m     r\u001b[39m=\u001b[39mq\n\u001b[0;32m      <a href='vscode-notebook-cell:/c%3A/Users/HP/Documents/GitHub/Basic_of_python_programs/RECURSION.ipynb#X14sZmlsZQ%3D%3D?line=7'>8</a>\u001b[0m \u001b[39mprint\u001b[39m(st)\n",
      "\u001b[1;31mKeyboardInterrupt\u001b[0m: "
     ]
    }
   ],
   "source": [
    "n=12\n",
    "st=''\n",
    "while n:\n",
    "    q=n//2\n",
    "    r=n%2\n",
    "    st=str(r)+st\n",
    "    r=q\n",
    "print(st)"
   ]
  }
 ],
 "metadata": {
  "kernelspec": {
   "display_name": "Python 3",
   "language": "python",
   "name": "python3"
  },
  "language_info": {
   "codemirror_mode": {
    "name": "ipython",
    "version": 3
   },
   "file_extension": ".py",
   "mimetype": "text/x-python",
   "name": "python",
   "nbconvert_exporter": "python",
   "pygments_lexer": "ipython3",
   "version": "3.12.0"
  }
 },
 "nbformat": 4,
 "nbformat_minor": 2
}
