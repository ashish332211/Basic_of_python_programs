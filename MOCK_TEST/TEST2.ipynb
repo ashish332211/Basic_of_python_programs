{
 "cells": [
  {
   "cell_type": "code",
   "execution_count": null,
   "metadata": {},
   "outputs": [],
   "source": [
    "#WAP to print maximum occuring substring in a string\n",
    "#write a program to print  maximum occurring substring in a String.\n",
    "#ex: \"abcabdabe\"\n",
    "#out: \"ab\" because it is occured 3 times"
   ]
  },
  {
   "cell_type": "code",
   "execution_count": 10,
   "metadata": {},
   "outputs": [
    {
     "name": "stdout",
     "output_type": "stream",
     "text": [
      "{'m': 2, 'a': 4, 'l': 2, 'y': 1}\n",
      "a 4\n",
      "mxlxyxlxm\n",
      "mxlxyxlxm\n"
     ]
    }
   ],
   "source": [
    "#WAP to replace maximum occured character in a string with new character\n",
    "#write a program to replace maximum occured character in a String with new character.\n",
    "#ex: \"abcaaadafhg\";      replace :'t'.\n",
    "#out: \"tbctttdtfhg\".\n",
    "st='malayalam'\n",
    "d={}\n",
    "for i in st:\n",
    "    if i not in d:\n",
    "        d[i]=1\n",
    "    else:\n",
    "        d[i]+=1\n",
    "print(d)\n",
    "max=0\n",
    "j=0\n",
    "ch=\"\"\n",
    "while j<len(st):\n",
    "    if max<d[st[j]]:\n",
    "        max=d[st[j]]\n",
    "        ch=st[j]\n",
    "    j+=1\n",
    "print(ch,max)\n",
    "new='x'\n",
    "res=''\n",
    "for i in st:\n",
    "    if i=='a':\n",
    "        res+=new\n",
    "    else:\n",
    "        res+=i\n",
    "print(res)\n",
    "\n",
    "#shortcut\n",
    "s = 'malayalam'\n",
    "d = {}\n",
    "for i in s:                            \n",
    "    d[i] = s.count(i)\n",
    "r = 0\n",
    "for i in d:\n",
    "    if r< d[i]:\n",
    "        r = d[i]\n",
    "\n",
    "for (k, v) in d.items():\n",
    "    if d[k] == r:\n",
    "        s1 = s.replace(k,'x')\n",
    "print(s1)"
   ]
  },
  {
   "cell_type": "code",
   "execution_count": 19,
   "metadata": {},
   "outputs": [
    {
     "name": "stdout",
     "output_type": "stream",
     "text": [
      "1\n"
     ]
    }
   ],
   "source": [
    "def cnt(sentence, st):\n",
    "    l = []\n",
    "    word = \"\"\n",
    "    for i in range(len(sentence)):\n",
    "        if sentence[i] == \" \":\n",
    "            if word:\n",
    "                l.append(word)\n",
    "                word = \"\"\n",
    "        else:\n",
    "            word += sentence[i]\n",
    "    l.append(word)\n",
    "    \n",
    "    print(l.count(st))\n",
    "\n",
    "sentence = 'i am a boy i love india'\n",
    "st = 'love'\n",
    "\n",
    "cnt(sentence,st)"
   ]
  },
  {
   "cell_type": "code",
   "execution_count": 16,
   "metadata": {},
   "outputs": [
    {
     "name": "stdout",
     "output_type": "stream",
     "text": [
      "['hello', 'world', 'how', 'are', 'you', 'hello', 'how', 'hello']\n",
      "{'hello': 3, 'world': 1, 'how': 2, 'are': 1, 'you': 1}\n"
     ]
    }
   ],
   "source": [
    "#wap Count the Occurrences of a Word in a Given String Sentence without split fucntion\n",
    "st='hello world how are you hello how hello'\n",
    "# st.split()\n",
    "res=''\n",
    "l=[]\n",
    "for i in st:\n",
    "    if i!=' ':\n",
    "        res+=i\n",
    "    else:\n",
    "        if res!=' ':\n",
    "            l+=[res]\n",
    "            res=''\n",
    "if res!=' ':\n",
    "    l+=[res]\n",
    "print(l)\n",
    "d={}\n",
    "for i in l:\n",
    "    if i not in d:\n",
    "        d[i]=1\n",
    "    else:\n",
    "        d[i]+=1\n",
    "print(d)"
   ]
  },
  {
   "cell_type": "code",
   "execution_count": 1,
   "metadata": {},
   "outputs": [
    {
     "name": "stdout",
     "output_type": "stream",
     "text": [
      "mxlxyxlxm\n"
     ]
    }
   ],
   "source": [
    "st = 'malayalam'\n",
    "new = 'x'\n",
    "res=''\n",
    "for i in st:\n",
    "    if i == 'a':\n",
    "        res+=new\n",
    "    else:\n",
    "        res+=i\n",
    "print(res)\n"
   ]
  }
 ],
 "metadata": {
  "kernelspec": {
   "display_name": "Python 3",
   "language": "python",
   "name": "python3"
  },
  "language_info": {
   "codemirror_mode": {
    "name": "ipython",
    "version": 3
   },
   "file_extension": ".py",
   "mimetype": "text/x-python",
   "name": "python",
   "nbconvert_exporter": "python",
   "pygments_lexer": "ipython3",
   "version": "3.12.0"
  }
 },
 "nbformat": 4,
 "nbformat_minor": 2
}
