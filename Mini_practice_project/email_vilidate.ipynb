{
 "cells": [
  {
   "cell_type": "code",
   "execution_count": 7,
   "metadata": {},
   "outputs": [
    {
     "name": "stderr",
     "output_type": "stream",
     "text": [
      "<>:2: SyntaxWarning: invalid escape sequence '\\.'\n",
      "<>:2: SyntaxWarning: invalid escape sequence '\\.'\n",
      "C:\\Users\\HP\\AppData\\Local\\Temp\\ipykernel_19752\\1714478709.py:2: SyntaxWarning: invalid escape sequence '\\.'\n",
      "  email_condition = \"^[a-z] + [\\._]?[a-z 0-9] + [@]\\w + [.]\\w{2,3}$\"\n"
     ]
    },
    {
     "name": "stdout",
     "output_type": "stream",
     "text": [
      "Wrong Email\n"
     ]
    }
   ],
   "source": [
    " \n",
    "import re\n",
    "email_condition = \"^[a-z] + [\\._]?[a-z 0-9] + [@]\\w + [.]\\w{2,3}$\"\n",
    "user_email = input('Enter Your Email: ')\n",
    "\n",
    "if re.search(email_condition, user_email):\n",
    "    print('Right Email')\n",
    "else:\n",
    "    print('Wrong Email')"
   ]
  },
  {
   "cell_type": "code",
   "execution_count": null,
   "metadata": {},
   "outputs": [],
   "source": [
    "#Automatic msg\n",
    "import pywhatkit as pyw\n",
    "pyw.sendwhatmsg('+917894171009','Hello...How are you',17,02)"
   ]
  }
 ],
 "metadata": {
  "kernelspec": {
   "display_name": "Python 3",
   "language": "python",
   "name": "python3"
  },
  "language_info": {
   "codemirror_mode": {
    "name": "ipython",
    "version": 3
   },
   "file_extension": ".py",
   "mimetype": "text/x-python",
   "name": "python",
   "nbconvert_exporter": "python",
   "pygments_lexer": "ipython3",
   "version": "3.12.0"
  }
 },
 "nbformat": 4,
 "nbformat_minor": 2
}
