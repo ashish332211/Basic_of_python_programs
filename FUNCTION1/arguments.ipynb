{
 "cells": [
  {
   "cell_type": "code",
   "execution_count": 4,
   "metadata": {},
   "outputs": [
    {
     "data": {
      "text/plain": [
       "8"
      ]
     },
     "execution_count": 4,
     "metadata": {},
     "output_type": "execute_result"
    }
   ],
   "source": [
    "#Default arguments\n",
    "def power(a=2,b=3):\n",
    "    return a**b\n",
    "power()\n",
    "#The value which are defined inside the function defination...(defaultly we are assigning)"
   ]
  },
  {
   "cell_type": "code",
   "execution_count": 6,
   "metadata": {},
   "outputs": [
    {
     "data": {
      "text/plain": [
       "25"
      ]
     },
     "execution_count": 6,
     "metadata": {},
     "output_type": "execute_result"
    }
   ],
   "source": [
    "#positional arguments\n",
    "def power(a=2,b=3):\n",
    "    return a**b\n",
    "power(5,2)\n",
    "#It is nothing but the agrguments what we are passing in the func call it is positinally replacing the value"
   ]
  },
  {
   "cell_type": "code",
   "execution_count": 7,
   "metadata": {},
   "outputs": [
    {
     "data": {
      "text/plain": [
       "8"
      ]
     },
     "execution_count": 7,
     "metadata": {},
     "output_type": "execute_result"
    }
   ],
   "source": [
    "#Keyword argument\n",
    "def power(a=2,b=3):\n",
    "    return a**b\n",
    "power(b=3,a=2)"
   ]
  },
  {
   "cell_type": "code",
   "execution_count": 8,
   "metadata": {},
   "outputs": [
    {
     "name": "stdout",
     "output_type": "stream",
     "text": [
      "(10, 20, 30)\n"
     ]
    }
   ],
   "source": [
    "# *args\n",
    "#It allows to pass a variable number of non-keyword arguments to a function\n",
    "def sample(*args):\n",
    "    print(args)\n",
    "sample(10,20,30)"
   ]
  },
  {
   "cell_type": "code",
   "execution_count": 9,
   "metadata": {},
   "outputs": [
    {
     "data": {
      "text/plain": [
       "120"
      ]
     },
     "execution_count": 9,
     "metadata": {},
     "output_type": "execute_result"
    }
   ],
   "source": [
    "def multiply(*args):\n",
    "    prod=1\n",
    "    for i in args:\n",
    "        prod *= i\n",
    "    return prod\n",
    "multiply(1,4,5,6)"
   ]
  },
  {
   "cell_type": "code",
   "execution_count": 1,
   "metadata": {},
   "outputs": [
    {
     "name": "stdout",
     "output_type": "stream",
     "text": [
      "{'a': 10, 'b': 20, 'c': 30}\n"
     ]
    }
   ],
   "source": [
    "# **kwargs\n",
    "# **kwargs allows us to pass any number of keyword arguments to a function\n",
    "# keyword arguments mean that they contain a key-value pair, like python dictionary\n",
    "def demo(**kwargs):\n",
    "    print(kwargs)\n",
    "demo(a=10,b=20,c=30)"
   ]
  },
  {
   "cell_type": "code",
   "execution_count": 11,
   "metadata": {},
   "outputs": [
    {
     "name": "stdout",
     "output_type": "stream",
     "text": [
      "a --> 50\n",
      "b --> 60\n",
      "c --> 70\n"
     ]
    }
   ],
   "source": [
    "def display(**kwargs):\n",
    "    for (key,value) in kwargs.items():\n",
    "        print(key, '-->' ,value)\n",
    "display(a=50,b=60,c=70)"
   ]
  },
  {
   "cell_type": "code",
   "execution_count": 14,
   "metadata": {},
   "outputs": [
    {
     "name": "stdout",
     "output_type": "stream",
     "text": [
      "inside function g\n",
      "inside function f\n"
     ]
    }
   ],
   "source": [
    "# Nested function\n",
    "def f():\n",
    "    def g():\n",
    "        print('inside function g')\n",
    "    g()\n",
    "    print('inside function f')\n",
    "f()"
   ]
  },
  {
   "cell_type": "code",
   "execution_count": 2,
   "metadata": {},
   "outputs": [
    {
     "name": "stdout",
     "output_type": "stream",
     "text": [
      "30\n",
      "Good Morning\n"
     ]
    }
   ],
   "source": [
    "def sample(a=10, b=20):\n",
    "    c=a+b\n",
    "    print(c)\n",
    "    def demo():\n",
    "        print('Good Morning')\n",
    "    demo()\n",
    "sample()"
   ]
  },
  {
   "cell_type": "code",
   "execution_count": 15,
   "metadata": {},
   "outputs": [
    {
     "name": "stdout",
     "output_type": "stream",
     "text": [
      "in g(x):x =  4\n"
     ]
    }
   ],
   "source": [
    "def g(x):\n",
    "    def h():\n",
    "        x='abc'\n",
    "    x = x+1\n",
    "    print('in g(x):x = ', x)\n",
    "    h()\n",
    "    return x\n",
    "x=3\n",
    "z = g(x)"
   ]
  },
  {
   "cell_type": "code",
   "execution_count": 16,
   "metadata": {},
   "outputs": [
    {
     "name": "stdout",
     "output_type": "stream",
     "text": [
      "in g(x):x =  4\n",
      "in h(x):x =  5\n",
      "in main program scope:x= 3\n",
      "in main program scope:z= 4\n"
     ]
    }
   ],
   "source": [
    "def g(x):\n",
    "    def h(x):\n",
    "        x=x+1\n",
    "        print('in h(x):x = ', x)\n",
    "    x=x+1\n",
    "    print('in g(x):x = ', x)\n",
    "    h(x)\n",
    "    return x\n",
    "\n",
    "x=3\n",
    "z = g(x)\n",
    "print('in main program scope:x=', x)\n",
    "print('in main program scope:z=', z)\n"
   ]
  },
  {
   "cell_type": "code",
   "execution_count": 12,
   "metadata": {},
   "outputs": [
    {
     "name": "stdout",
     "output_type": "stream",
     "text": [
      "7\n"
     ]
    }
   ],
   "source": [
    "#returning a function\n",
    "def f():\n",
    "    def x(a,b):\n",
    "        return a+b\n",
    "    return x\n",
    "\n",
    "val = f()(3,4)\n",
    "print(val)"
   ]
  },
  {
   "cell_type": "markdown",
   "metadata": {},
   "source": [
    "Higher Order Function"
   ]
  },
  {
   "cell_type": "markdown",
   "metadata": {},
   "source": [
    "A function is called Higher Order Function if it contains other functions as a parameter or returns a function as an output i.e, the functions that operate with another function are known as Higher order Functions."
   ]
  },
  {
   "cell_type": "code",
   "execution_count": 5,
   "metadata": {},
   "outputs": [
    {
     "name": "stdout",
     "output_type": "stream",
     "text": [
      "[1, 4, 9, 16, 25]\n"
     ]
    }
   ],
   "source": [
    "def square(x):\n",
    "    return x**2\n",
    "\n",
    "def transform(f, l):        #HOF\n",
    "    res = []\n",
    "    for i in l:\n",
    "        res.append(f(i))\n",
    "    print(res)\n",
    "\n",
    "l=[1,2,3,4,5]\n",
    "\n",
    "transform(square,l)"
   ]
  },
  {
   "cell_type": "code",
   "execution_count": 21,
   "metadata": {},
   "outputs": [
    {
     "name": "stdout",
     "output_type": "stream",
     "text": [
      "[1, 4, 9, 16, 25]\n"
     ]
    }
   ],
   "source": [
    "# def square(x):\n",
    "#     return x**2\n",
    "\n",
    "def transform(f, l):        #HOF\n",
    "    res = []\n",
    "    for i in l:\n",
    "        res.append(f(i))\n",
    "    print(res)\n",
    "\n",
    "l=[1,2,3,4,5]\n",
    "\n",
    "transform(lambda x:x**2,l)"
   ]
  }
 ],
 "metadata": {
  "kernelspec": {
   "display_name": "Python 3",
   "language": "python",
   "name": "python3"
  },
  "language_info": {
   "codemirror_mode": {
    "name": "ipython",
    "version": 3
   },
   "file_extension": ".py",
   "mimetype": "text/x-python",
   "name": "python",
   "nbconvert_exporter": "python",
   "pygments_lexer": "ipython3",
   "version": "3.12.0"
  }
 },
 "nbformat": 4,
 "nbformat_minor": 2
}
