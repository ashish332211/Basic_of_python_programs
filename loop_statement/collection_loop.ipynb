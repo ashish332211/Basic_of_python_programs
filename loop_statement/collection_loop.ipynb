{
 "cells": [
  {
   "cell_type": "code",
   "execution_count": 3,
   "metadata": {},
   "outputs": [
    {
     "name": "stdout",
     "output_type": "stream",
     "text": [
      "A\n",
      "s\n",
      "h\n",
      "i\n",
      "s\n",
      "h\n"
     ]
    }
   ],
   "source": [
    "st='Ashish'\n",
    "i=0\n",
    "while i<len(st):\n",
    "    print(st[i])\n",
    "    i=i+1"
   ]
  },
  {
   "cell_type": "code",
   "execution_count": 5,
   "metadata": {},
   "outputs": [
    {
     "name": "stdout",
     "output_type": "stream",
     "text": [
      "A 0\n",
      "s 1\n",
      "h 2\n",
      "i 3\n",
      "s 4\n",
      "h 5\n"
     ]
    }
   ],
   "source": [
    "st='Ashish'\n",
    "i=0\n",
    "while i<len(st):\n",
    "    print(st[i],i)\n",
    "    i=i+1"
   ]
  },
  {
   "cell_type": "code",
   "execution_count": 13,
   "metadata": {},
   "outputs": [
    {
     "name": "stdout",
     "output_type": "stream",
     "text": [
      "h\n",
      "s\n",
      "i\n",
      "h\n",
      "s\n",
      "A\n"
     ]
    }
   ],
   "source": [
    "st='Ashish'\n",
    "start=-1\n",
    "end=-(len(st)+1)\n",
    "while start>end:\n",
    "    print(st[start])\n",
    "    start=start-1"
   ]
  },
  {
   "cell_type": "code",
   "execution_count": 15,
   "metadata": {},
   "outputs": [
    {
     "name": "stdout",
     "output_type": "stream",
     "text": [
      "h -1\n",
      "s -2\n",
      "i -3\n",
      "h -4\n",
      "s -5\n",
      "A -6\n"
     ]
    }
   ],
   "source": [
    "st='Ashish'\n",
    "start=-1\n",
    "end=-(len(st)+1)\n",
    "while start>end:\n",
    "    print(st[start],start)\n",
    "    start=start-1"
   ]
  },
  {
   "cell_type": "code",
   "execution_count": 22,
   "metadata": {},
   "outputs": [],
   "source": [
    "st='Ashish'\n",
    "start=0\n",
    "end=len(st)\n",
    "nval=-(len(st))\n",
    "##################"
   ]
  },
  {
   "cell_type": "markdown",
   "metadata": {},
   "source": [
    "WAP to extract and store the lower case character from given string."
   ]
  },
  {
   "cell_type": "code",
   "execution_count": 28,
   "metadata": {},
   "outputs": [
    {
     "name": "stdout",
     "output_type": "stream",
     "text": [
      "shsh\n"
     ]
    }
   ],
   "source": [
    "st='AshIsh'\n",
    "i=0\n",
    "res=\"\"\n",
    "while i<len(st):\n",
    "    if 'a'<=st[i]<='z':\n",
    "        res=res+st[i]\n",
    "    i=i+1\n",
    "print(res)\n"
   ]
  },
  {
   "cell_type": "markdown",
   "metadata": {},
   "source": [
    "WAP to extract and store special character and ASCII numnber from given string."
   ]
  },
  {
   "cell_type": "code",
   "execution_count": 31,
   "metadata": {},
   "outputs": [
    {
     "name": "stdout",
     "output_type": "stream",
     "text": [
      "#87\n"
     ]
    }
   ],
   "source": [
    "st='ashish#87'\n",
    "i=0\n",
    "res=''\n",
    "while i<len(st):\n",
    "    if not('A'<=st[i]<='Z' or 'a'<=st[i]<='z'):\n",
    "        res=res+st[i]\n",
    "    i=i+1\n",
    "print(res)\n",
    "        \n"
   ]
  },
  {
   "cell_type": "markdown",
   "metadata": {},
   "source": [
    "WAP to seggrigate the uppercase, lowercase, special character and ASCII number."
   ]
  },
  {
   "cell_type": "code",
   "execution_count": 33,
   "metadata": {},
   "outputs": [
    {
     "name": "stdout",
     "output_type": "stream",
     "text": [
      "AH\n",
      "sish\n",
      "87\n",
      "#\n"
     ]
    }
   ],
   "source": [
    "st='AsHish#87'\n",
    "uc,lc,sp,an='','','',''\n",
    "i=0\n",
    "while i<len(st):\n",
    "    if 'A'<=st[i]<='Z':\n",
    "        uc=uc+st[i]\n",
    "    elif 'a'<=st[i]<='z':\n",
    "        lc=lc+st[i]\n",
    "    elif '0'<=st[i]<='9':\n",
    "        an=an+st[i]\n",
    "    else:\n",
    "        sp=sp+st[i]\n",
    "    i=i+1\n",
    "print(uc)\n",
    "print(lc)\n",
    "print(an)\n",
    "print(sp)\n"
   ]
  },
  {
   "cell_type": "markdown",
   "metadata": {},
   "source": [
    "WAP to check the given password is valid or not. If password is valid display the password with given string else print invalid password.\n",
    "* Password should minimum 8 or maximum 16 characters\n",
    "* Minimum 2 special character\n",
    "* Minimum one lower case character"
   ]
  },
  {
   "cell_type": "code",
   "execution_count": 7,
   "metadata": {},
   "outputs": [
    {
     "name": "stdout",
     "output_type": "stream",
     "text": [
      "Valid Password ADshu@9832\n"
     ]
    }
   ],
   "source": [
    "st='ADshu@9832'\n",
    "uc,lc,an,sp=0,0,0,0\n",
    "if 8<=len(st)<=16:\n",
    "    i=0\n",
    "    while i<len(st):\n",
    "        if 'A'<=st[i]<='Z':\n",
    "            uc=uc+1\n",
    "        elif 'a'<=st[i]<='z':\n",
    "            lc=lc+1\n",
    "        elif '0'<=st[i]<='9':\n",
    "            an=an+1\n",
    "        else:\n",
    "            sp=sp+1\n",
    "        i=i+1\n",
    "    if uc>=2 and lc>=1 and sp>=1 and an>1:\n",
    "        print('Valid Password',st)\n",
    "    else:\n",
    "        print('Invalid Password')\n",
    "else:\n",
    "    print('Invalid')\n",
    "    "
   ]
  },
  {
   "cell_type": "markdown",
   "metadata": {},
   "source": [
    "WAP to check the given emailid valid or not. If valid display the email id.\n",
    "* Email id should not have special character except @,_\n",
    "* Exact one @\n",
    "* After @ minimum one or maximum two dot(.) should be there"
   ]
  },
  {
   "cell_type": "code",
   "execution_count": 17,
   "metadata": {},
   "outputs": [],
   "source": [
    "st='Ashu@gmail.co.edu.in'\n",
    "if '@' in st and '_' in st:\n",
    "    i=0\n",
    "    pos=None\n",
    "    count=0\n",
    "    while i<len(st):\n",
    "        if '@'==st[i]:\n",
    "            pos=i\n",
    "            count=count+1\n",
    "        i=i+1\n",
    "    if count==1:\n",
    "        print(pos)\n",
    "        if '.' in st[pos:]:\n",
    "            count1=0\n",
    "            i1=pos\n",
    "            while i1<len[st]:\n",
    "                if '.'==st[i1]:\n",
    "                    count1=count1+1\n",
    "                i1=i1+1\n",
    "            if 1<=count1<=2:\n",
    "                print('Valid')\n",
    "            else:\n",
    "                print('Invalid')\n",
    "        else:\n",
    "            print('Invalid')\n",
    "    else:\n",
    "        print('Invalid')\n",
    "else:\n",
    "    ('Invalid')"
   ]
  },
  {
   "cell_type": "markdown",
   "metadata": {},
   "source": [
    "WAP to convert uppercase to lowercase in given string"
   ]
  },
  {
   "cell_type": "code",
   "execution_count": 19,
   "metadata": {},
   "outputs": [
    {
     "name": "stdout",
     "output_type": "stream",
     "text": [
      "ashish#@32\n"
     ]
    }
   ],
   "source": [
    "st='AshIsH#@32'\n",
    "i=0\n",
    "res=''\n",
    "while i<len(st):\n",
    "    if 'A'<=st[i]<='Z':\n",
    "        res=res+chr(ord(st[i])+32)\n",
    "    else:\n",
    "        res=res+st[i]\n",
    "    i=i+1\n",
    "print(res)\n"
   ]
  },
  {
   "cell_type": "markdown",
   "metadata": {},
   "source": [
    "WAP to convert given string into snake case"
   ]
  },
  {
   "cell_type": "code",
   "execution_count": 19,
   "metadata": {},
   "outputs": [
    {
     "name": "stdout",
     "output_type": "stream",
     "text": [
      "as_hi_yilre\n"
     ]
    }
   ],
   "source": [
    "st='As_Hi yilre'\n",
    "i=0\n",
    "res=''\n",
    "while i<len(st):\n",
    "    if 'A'<=st[i]<='Z':\n",
    "        res=res+chr(ord(st[i])+32)\n",
    "    elif ' '==st[i]:\n",
    "        res=res+'_'\n",
    "    else:\n",
    "        res=res+st[i]\n",
    "    i=i+1\n",
    "print(res)"
   ]
  },
  {
   "cell_type": "markdown",
   "metadata": {},
   "source": [
    "WAP to print a given string converted to capitalize"
   ]
  },
  {
   "cell_type": "code",
   "execution_count": 34,
   "metadata": {},
   "outputs": [
    {
     "name": "stdout",
     "output_type": "stream",
     "text": [
      "Ashi#sh\n"
     ]
    }
   ],
   "source": [
    "st='ashi#sh'\n",
    "res=''\n",
    "if 'a'<=st[0]<='z':\n",
    "    res=res+chr(ord(st[0])-32)\n",
    "else:\n",
    "    res=res+st[0]\n",
    "i=1\n",
    "while i<len(st):\n",
    "    if 'A'<=st[i]<='Z':\n",
    "        res=res+chr(ord(st[i])+32)\n",
    "    else:\n",
    "        res=res+st[i]\n",
    "    i=i+1\n",
    "print(res)"
   ]
  },
  {
   "cell_type": "markdown",
   "metadata": {},
   "source": [
    "WAP to print the given string into dragon case\n",
    "* before string two '_ _'\n",
    "* after string two '_ _'\n",
    "* string should not contain space.if incase space is there converted into '_'\n",
    "* all the character should be lowercase\n",
    "* String should not contain any special character and ascii number. "
   ]
  },
  {
   "cell_type": "code",
   "execution_count": 16,
   "metadata": {},
   "outputs": [
    {
     "name": "stdout",
     "output_type": "stream",
     "text": [
      "__hellow_orld__\n"
     ]
    }
   ],
   "source": [
    "st='heLLoW oRLd#23'\n",
    "i=0\n",
    "res=''\n",
    "while i<len(st):\n",
    "    if 'A'<=st[i]<='Z':\n",
    "        res=res+chr(ord(st[i])+32)\n",
    "    elif st[i]==' ':\n",
    "        res=res+'_'\n",
    "    elif 'a'<=st[i]<='z':\n",
    "        res=res+st[i]\n",
    "    i=i+1\n",
    "res='__'+res+'__'\n",
    "print(res)"
   ]
  },
  {
   "cell_type": "markdown",
   "metadata": {},
   "source": [
    "WAP to extract duplicate character from given string"
   ]
  },
  {
   "cell_type": "code",
   "execution_count": 13,
   "metadata": {},
   "outputs": [
    {
     "name": "stdout",
     "output_type": "stream",
     "text": [
      "helowrd\n",
      "lol\n"
     ]
    }
   ],
   "source": [
    "st='helloworld'\n",
    "i=0\n",
    "res1=''\n",
    "res2=''\n",
    "while i<len(st):\n",
    "    if st[i] in res1:\n",
    "        res2=res2+st[i]\n",
    "    else:\n",
    "        res1=res1+st[i]\n",
    "    i=i+1\n",
    "print(res1)\n",
    "print(res2)"
   ]
  },
  {
   "cell_type": "markdown",
   "metadata": {},
   "source": [
    "WAP to count the each character in given string(occurance)"
   ]
  },
  {
   "cell_type": "code",
   "execution_count": 1,
   "metadata": {},
   "outputs": [
    {
     "name": "stdout",
     "output_type": "stream",
     "text": [
      "helowrd\n"
     ]
    }
   ],
   "source": [
    "st='helloworld'\n",
    "i=0\n",
    "res=''\n",
    "count=0\n",
    "while i<len(st):\n",
    "    if st[i] not in res:\n",
    "        res=res+st[i]\n",
    "    i=i+1\n",
    "print(res)\n",
    "######################\n"
   ]
  },
  {
   "cell_type": "code",
   "execution_count": 7,
   "metadata": {},
   "outputs": [
    {
     "name": "stdout",
     "output_type": "stream",
     "text": [
      "{'h': 1, 'e': 1, 'l': 3, 'o': 2, 'w': 1, 'r': 1, 'd': 1}\n"
     ]
    }
   ],
   "source": [
    "st='helloworld'             #using dictionary method\n",
    "res={}\n",
    "i=0\n",
    "while i<len(st):\n",
    "    if st[i] not in res:\n",
    "        res[st[i]]=1\n",
    "    else:\n",
    "        res[st[i]]+=1\n",
    "    i=i+1\n",
    "print(res)\n"
   ]
  },
  {
   "cell_type": "markdown",
   "metadata": {},
   "source": [
    "WAP to find out the largest occurance in a given string."
   ]
  },
  {
   "cell_type": "code",
   "execution_count": 37,
   "metadata": {},
   "outputs": [
    {
     "name": "stdout",
     "output_type": "stream",
     "text": [
      "{'h': 1, 'e': 1, 'l': 3, 'o': 2, 'w': 1, 'r': 1, 'd': 1}\n",
      "l 3\n",
      "{'h': 1, 'e': 1, 'l': 3, 'o': 2, 'w': 1, 'r': 1, 'd': 1}\n",
      "l 3\n"
     ]
    }
   ],
   "source": [
    "st='helloworld'\n",
    "dict={}\n",
    "i=0\n",
    "while i<len(st):\n",
    "    if st[i] not in dict:\n",
    "        dict[st[i]]=1\n",
    "    else:\n",
    "        dict[st[i]]+=1\n",
    "    i+=1\n",
    "print(dict)\n",
    "l=list(dict)\n",
    "lar=0\n",
    "ch=''\n",
    "i1=0\n",
    "while i1<len(l):\n",
    "    if lar<dict[l[i1]]:\n",
    "        lar=dict[l[i1]]\n",
    "        ch=l[i1]\n",
    "    i1+=1\n",
    "print(ch,lar)\n",
    "\n",
    "########OR#######\n",
    "\n",
    "st='helloworld'\n",
    "dict={}\n",
    "count=1\n",
    "i=0\n",
    "while i<len(st):\n",
    "    if st[i] not in dict:\n",
    "        dict[st[i]]=count\n",
    "    else:\n",
    "        dict[st[i]]+=1\n",
    "    i+=1\n",
    "print(dict)\n",
    "lar=0\n",
    "ch=\"\"\n",
    "j=0\n",
    "while j<len(dict):\n",
    "    if lar<dict[st[j]]:\n",
    "        lar=dict[st[j]]\n",
    "        ch=st[j]\n",
    "    j+=1\n",
    "print(ch,lar)\n"
   ]
  },
  {
   "cell_type": "markdown",
   "metadata": {},
   "source": [
    "WAP to extract each character and store it inside the list."
   ]
  },
  {
   "cell_type": "code",
   "execution_count": 5,
   "metadata": {},
   "outputs": [
    {
     "name": "stdout",
     "output_type": "stream",
     "text": [
      "['h', 'e', 'l', 'l', 'o', 'w', 'o', 'r', 'l', 'd']\n",
      "['h', 'e', 'l', 'l', 'o', 'w', 'o', 'r', 'l', 'd']\n"
     ]
    }
   ],
   "source": [
    "st='helloworld'\n",
    "l=[]\n",
    "i=0\n",
    "while i<len(st):\n",
    "    l+=st[i]\n",
    "    i+=1\n",
    "print(l)\n",
    "#OR\n",
    "st='helloworld'\n",
    "l=[]\n",
    "l+=st\n",
    "print(l)"
   ]
  },
  {
   "cell_type": "markdown",
   "metadata": {},
   "source": [
    "WAP to extract and store each data item from the given list and store inside the string."
   ]
  },
  {
   "cell_type": "code",
   "execution_count": 8,
   "metadata": {},
   "outputs": [
    {
     "name": "stdout",
     "output_type": "stream",
     "text": [
      "ashish\n"
     ]
    }
   ],
   "source": [
    "l=['a','s','h','i','s','h']\n",
    "st=''\n",
    "i=0\n",
    "while i<len(l):\n",
    "    st+=str(l[i])\n",
    "    i+=1\n",
    "print(st)"
   ]
  },
  {
   "cell_type": "markdown",
   "metadata": {},
   "source": [
    "WAP to extract each character from string and store it inside dictionary.(value consider as ascii value in given character)"
   ]
  },
  {
   "cell_type": "code",
   "execution_count": 10,
   "metadata": {},
   "outputs": [
    {
     "name": "stdout",
     "output_type": "stream",
     "text": [
      "{'a': 97, 's': 115, 'h': 104, 'i': 105}\n"
     ]
    }
   ],
   "source": [
    "st='ashish'\n",
    "dict={}\n",
    "i=0\n",
    "while i<len(st):\n",
    "    dict[st[i]]=ord(st[i])\n",
    "    i=i+1\n",
    "print(dict)\n"
   ]
  },
  {
   "cell_type": "markdown",
   "metadata": {},
   "source": [
    "WAP to extract character from the given dictionary and store inside string."
   ]
  },
  {
   "cell_type": "code",
   "execution_count": 27,
   "metadata": {},
   "outputs": [
    {
     "name": "stdout",
     "output_type": "stream",
     "text": [
      "abc\n"
     ]
    }
   ],
   "source": [
    "d={'a':10,'b':20,'c':30}\n",
    "l=list(d)\n",
    "st=''\n",
    "i=0\n",
    "while i<len(d):\n",
    "    st+=l[i]\n",
    "    i+=1\n",
    "print(st)"
   ]
  },
  {
   "cell_type": "markdown",
   "metadata": {},
   "source": [
    "WAP to extract each key and value from the given dictionary and store inside the string."
   ]
  },
  {
   "cell_type": "code",
   "execution_count": 23,
   "metadata": {},
   "outputs": [
    {
     "name": "stdout",
     "output_type": "stream",
     "text": [
      "a10b20c30\n"
     ]
    }
   ],
   "source": [
    "d={'a':10,'b':20,'c':30}\n",
    "l=list(d)\n",
    "res=''\n",
    "i=0\n",
    "while i<len(l):\n",
    "    res+=str(l[i])+str(d[l[i]])\n",
    "    i+=1\n",
    "print(res)"
   ]
  },
  {
   "cell_type": "markdown",
   "metadata": {},
   "source": [
    "WAP to find out the highest charcter in given string"
   ]
  },
  {
   "cell_type": "code",
   "execution_count": 22,
   "metadata": {},
   "outputs": [
    {
     "name": "stdout",
     "output_type": "stream",
     "text": [
      "w\n"
     ]
    }
   ],
   "source": [
    "st='helloworld'\n",
    "ch='\\n'\n",
    "i=0\n",
    "while i<len(st):\n",
    "    if ch<st[i]:\n",
    "        ch=st[i]\n",
    "    i+=1\n",
    "print(ch)"
   ]
  },
  {
   "cell_type": "markdown",
   "metadata": {},
   "source": [
    "WAP to find out the lowest charcter in given string"
   ]
  },
  {
   "cell_type": "code",
   "execution_count": 21,
   "metadata": {},
   "outputs": [
    {
     "name": "stdout",
     "output_type": "stream",
     "text": [
      "d\n"
     ]
    }
   ],
   "source": [
    "st='helloworld'\n",
    "ch=chr(126)\n",
    "i=0\n",
    "while i<len(st):\n",
    "    if ch>st[i]:\n",
    "        ch=st[i]\n",
    "    i+=1\n",
    "print(ch)"
   ]
  },
  {
   "cell_type": "markdown",
   "metadata": {},
   "source": [
    "WAP to find out the largest number in given list."
   ]
  },
  {
   "cell_type": "code",
   "execution_count": 26,
   "metadata": {},
   "outputs": [
    {
     "name": "stdout",
     "output_type": "stream",
     "text": [
      "40\n"
     ]
    }
   ],
   "source": [
    "l=[10,40,12+5j,21.05,True,[10,20,30]]\n",
    "i=0\n",
    "high=0\n",
    "while i<len(l):\n",
    "    if type(l[i]) in [int,float] and high<l[i]:\n",
    "        high=l[i]\n",
    "    i+=1\n",
    "print(high)"
   ]
  },
  {
   "cell_type": "markdown",
   "metadata": {},
   "source": [
    "WAP to find out the largest value in given dictionary."
   ]
  },
  {
   "cell_type": "code",
   "execution_count": 17,
   "metadata": {},
   "outputs": [
    {
     "name": "stdout",
     "output_type": "stream",
     "text": [
      "b 45\n"
     ]
    }
   ],
   "source": [
    "d={'a':12,'b':45,'c':32}\n",
    "l=list(d)\n",
    "high=0\n",
    "i=0\n",
    "ch=None\n",
    "while i<len(l):\n",
    "    if type(d[l[i]]) in [int,float] and high<d[l[i]]:\n",
    "        high=d[l[i]]\n",
    "        ch=l[i]\n",
    "    i+=1\n",
    "print(ch,high)\n"
   ]
  },
  {
   "cell_type": "markdown",
   "metadata": {},
   "source": [
    "WAP to find out the lowest value in the given dictionary."
   ]
  },
  {
   "cell_type": "code",
   "execution_count": 28,
   "metadata": {},
   "outputs": [
    {
     "name": "stdout",
     "output_type": "stream",
     "text": [
      "['a', 'b', 'c']\n",
      "c 32\n"
     ]
    }
   ],
   "source": [
    "d={'a':60,'b':45,'c':32}\n",
    "l=list(d)\n",
    "print(l)\n",
    "low=d[l[0]]\n",
    "i=0\n",
    "ch=None\n",
    "while i<len(l):\n",
    "    if type(d[l[i]]) in [int,float] and low>d[l[i]]:\n",
    "        low=d[l[i]]\n",
    "        ch=l[i]\n",
    "    i+=1\n",
    "print(ch,low)\n"
   ]
  },
  {
   "cell_type": "markdown",
   "metadata": {},
   "source": [
    "WAP to convert from given string to dragon case\n",
    "* Each word starting character should be uppercase\n",
    "* After special symbol or ascii number, the next character should be uppercase and last character should be lowercase.\n",
    "* For each word the starting character should be uppercase and remaining are lowercase"
   ]
  },
  {
   "cell_type": "code",
   "execution_count": 7,
   "metadata": {},
   "outputs": [
    {
     "name": "stdout",
     "output_type": "stream",
     "text": [
      "__Hello_HaIi_World_Wel1V3Come_To_Pyt#Hon_ClAss__\n"
     ]
    }
   ],
   "source": [
    "st='hello haIi World Wel1v3come to pyt#hon cLAss'\n",
    "res=''\n",
    "l=list(st)\n",
    "if 'a'<=l[0]<='z':\n",
    "    l[0]=chr(ord(l[0])-32)\n",
    "# print(l)\n",
    "i=1\n",
    "while i<len(l):\n",
    "    if l[i]==' ':\n",
    "        l[i]='_'\n",
    "    if l[i]=='_':\n",
    "        if 'a'<=l[i+1]<='z':\n",
    "            l[i+1]=chr(ord(l[i+1])-32)\n",
    "    if not ('A'<=l[i]<='Z' or 'a'<=l[i]<='z') or '0'<=l[i]<='9':\n",
    "        if 'a'<=l[i+1]<='z':\n",
    "            l[i+1]=chr(ord(l[i+1])-32)\n",
    "    if 'A'<=l[i]<='Z':\n",
    "        if 'A'<=l[i+1]<='Z':\n",
    "            l[i+1]=chr(ord(l[i+1])+32)\n",
    "    i+=1\n",
    "j=0\n",
    "while j<len(l):\n",
    "    res+=l[j]\n",
    "    j+=1\n",
    "res='__'+res+'__'\n",
    "print(res)\n",
    "####################### \n"
   ]
  },
  {
   "cell_type": "markdown",
   "metadata": {},
   "source": [
    "WAP to extract the words from the string"
   ]
  },
  {
   "cell_type": "code",
   "execution_count": 5,
   "metadata": {},
   "outputs": [
    {
     "name": "stdout",
     "output_type": "stream",
     "text": [
      "HELLO\n",
      "WORLD\n",
      "I\n",
      "LOVE\n",
      "PYTHON\n",
      "\n",
      "\n"
     ]
    }
   ],
   "source": [
    "st='HELLO WORLD I LOVE PYTHON   '\n",
    "i=0\n",
    "res=''\n",
    "while i<len(st):\n",
    "    if st[i]!=' ':\n",
    "        res+=st[i]\n",
    "    else:\n",
    "        print(res)\n",
    "        res=''\n",
    "    # if i == (len(st)-1):\n",
    "    #     print(res)\n",
    "    i+=1\n",
    "# print(res)\n"
   ]
  },
  {
   "cell_type": "markdown",
   "metadata": {},
   "source": [
    "WAP to extract all the words and store in a list"
   ]
  },
  {
   "cell_type": "code",
   "execution_count": 73,
   "metadata": {},
   "outputs": [
    {
     "name": "stdout",
     "output_type": "stream",
     "text": [
      "['hello', 'world', 'hai', 'i', '123', '@#!']\n"
     ]
    }
   ],
   "source": [
    "st='  hello   world hai i 123 @#!      '\n",
    "i=0\n",
    "res=''\n",
    "l=[]\n",
    "while i<len(st):\n",
    "    if st[i]!=' ':\n",
    "        res+=st[i]\n",
    "    else:\n",
    "        if len(res)!=0:\n",
    "            l+=[res]\n",
    "            res=''\n",
    "    # if i == len(st)-1:            #this statement requires, only if there is no space at the end\n",
    "    #     l += [res]\n",
    "    i+=1\n",
    "if len(res)!=0:\n",
    "    l+=[res]\n",
    "print(l)"
   ]
  },
  {
   "cell_type": "markdown",
   "metadata": {},
   "source": [
    "WAP to seggrigate line from the given doc string ."
   ]
  },
  {
   "cell_type": "code",
   "execution_count": 72,
   "metadata": {},
   "outputs": [
    {
     "name": "stdout",
     "output_type": "stream",
     "text": [
      "['Hello World', '@123', 'Good143Morning']\n"
     ]
    }
   ],
   "source": [
    "st='Hello World\\n@123\\nGood143Morning'\n",
    "res=''\n",
    "i=0\n",
    "l=[]\n",
    "sp='\\n'\n",
    "while i<len(st):\n",
    "    if st[i]!=sp:\n",
    "        res+=st[i]\n",
    "    else:\n",
    "        # if len(res)!=0:\n",
    "            l+=[res]\n",
    "            res=''\n",
    "    # if i == (len(st)-1) and res!='':\n",
    "    #     l+=[res]\n",
    "    i+=1\n",
    "if len(res)!=0:\n",
    "    l+=[res]\n",
    "print(l)"
   ]
  },
  {
   "cell_type": "code",
   "execution_count": 2,
   "metadata": {},
   "outputs": [
    {
     "name": "stdout",
     "output_type": "stream",
     "text": [
      "['haii', 'hello', 'i', 'love', 'india', 'i', 'like', 'python']\n",
      "hilp\n",
      "[['haii', 'hello'], ['i', 'india', 'i'], ['love', 'like'], ['python']]\n"
     ]
    }
   ],
   "source": [
    "st=' haii hello i love india i      like python'\n",
    "#op:[['haii', 'hello'], ['i', 'india', 'i'], ['love', 'like'], ['python']]\n",
    "res=''\n",
    "l=[]\n",
    "i=0\n",
    "while i<len(st):\n",
    "    if st[i]!=' ':\n",
    "        res+=st[i]\n",
    "    else:\n",
    "        if len(res)!=0:\n",
    "            l+=[res]\n",
    "            res=''\n",
    "    if i==len(st)-1:\n",
    "        l+=[res]\n",
    "    i+=1\n",
    "print(l)\n",
    "uni=''\n",
    "j=0\n",
    "while j<len(l):\n",
    "    if l[j][0] not in uni:\n",
    "        uni+=l[j][0]\n",
    "    j+=1\n",
    "print(uni)\n",
    "d=[]\n",
    "k=0\n",
    "while k<len(uni):\n",
    "    d+=[[]]\n",
    "    x=0\n",
    "    while x<len(l):\n",
    "        if uni[k]==l[x][0]:\n",
    "            d[-1]+=[l[x]]\n",
    "        x+=1\n",
    "    k+=1\n",
    "print(d)"
   ]
  },
  {
   "cell_type": "markdown",
   "metadata": {},
   "source": [
    "I/P'   haii hello world i love india i    like   python'\n",
    "O/P:[['haii','love','like'],['hello','world','india'],['python'],['i','i']]"
   ]
  },
  {
   "cell_type": "code",
   "execution_count": 71,
   "metadata": {},
   "outputs": [
    {
     "name": "stdout",
     "output_type": "stream",
     "text": [
      "['haii', 'hello', 'world', 'i', 'love', 'india', 'i', 'like', 'python']\n",
      "[4, 5, 1, 6]\n",
      "[['haii', 'love', 'like'], ['hello', 'world', 'india'], ['i', 'i'], ['python']]\n"
     ]
    }
   ],
   "source": [
    "\n",
    "st='   haii hello world i love india i     like   python'\n",
    "res=''\n",
    "l=[]\n",
    "i=0\n",
    "while i<len(st):\n",
    "    if st[i]!=' ':\n",
    "        res+=st[i]\n",
    "    else:\n",
    "        if len(res)!=0:\n",
    "            l+=[res]\n",
    "            res=''\n",
    "    if i==len(st)-1:\n",
    "        l+=[res]\n",
    "    i+=1\n",
    "print(l)\n",
    "\n",
    "lt=[]\n",
    "j=0\n",
    "while j<len(l):\n",
    "    if len(l[j]) not in lt:\n",
    "        lt+=[len(l[j])]\n",
    "    j+=1\n",
    "print(lt)\n",
    "\n",
    "res1=[]\n",
    "k=0\n",
    "while k<len(lt):\n",
    "    res1+=[[]]\n",
    "    start=0\n",
    "    while start<len(l):\n",
    "        if len(l[start])==lt[k]:\n",
    "            res1[-1]+=[l[start]]\n",
    "        start+=1\n",
    "    k+=1\n",
    "print(res1)\n",
    "\n"
   ]
  },
  {
   "cell_type": "markdown",
   "metadata": {},
   "source": [
    "I/P:'   haii hello world i love i     like   python'\n",
    "O/P:[['haii', 'hello'], ['i', 'india', 'i'], ['love', 'like'], ['python']]"
   ]
  },
  {
   "cell_type": "code",
   "execution_count": 4,
   "metadata": {},
   "outputs": [
    {
     "name": "stdout",
     "output_type": "stream",
     "text": [
      "['haii', 'hello', 'world', 'i', 'love', 'i', 'like', 'python']\n",
      "{'h': ['haii', 'hello'], 'w': ['world'], 'i': ['i', 'i'], 'l': ['love', 'like'], 'p': ['python']}\n",
      "['h', 'w', 'i', 'l', 'p']\n",
      "[['haii', 'hello'], ['world'], ['i', 'i'], ['love', 'like'], ['python']]\n"
     ]
    }
   ],
   "source": [
    "#Using Dictionary\n",
    "st='   haii hello world i love i     like   python'\n",
    "l=[]\n",
    "res=''\n",
    "i=0\n",
    "while i<len(st):\n",
    "    if st[i]!=' ':\n",
    "        res+=st[i]\n",
    "    else:\n",
    "        if len(res)!=0:\n",
    "            l+=[res]\n",
    "            res=''\n",
    "    i+=1\n",
    "if len(res)!=0:\n",
    "    l+=[res]\n",
    "print(l)\n",
    "d={}\n",
    "j=0\n",
    "while j<len(l):\n",
    "    if l[j][0] not in d:\n",
    "        d[l[j][0]]=[l[j]]\n",
    "    else:\n",
    "        d[l[j][0]]+=[l[j]]\n",
    "    j+=1\n",
    "print(d)\n",
    "g=list(d)\n",
    "print(g)\n",
    "t=[]\n",
    "k=0\n",
    "while k<len(g):\n",
    "    t+=[d[g[k]]]\n",
    "    k+=1\n",
    "print(t)"
   ]
  },
  {
   "cell_type": "markdown",
   "metadata": {},
   "source": [
    "I/P:' qspiders@gmail.com pyspiders@ymail.com  jspider@pys.com ramu@outlook.com'\n",
    "O/P:['@gmail.com', '@ymail.com', '@pys.com', '@outlook.com']"
   ]
  },
  {
   "cell_type": "code",
   "execution_count": 11,
   "metadata": {},
   "outputs": [
    {
     "name": "stdout",
     "output_type": "stream",
     "text": [
      "['@gmail.com', '@ymail.com', '@pys.com', '@outlook.com']\n"
     ]
    }
   ],
   "source": [
    "st='   qspiders@gmail.com pyspiders@ymail.com  jspider@pys.com ramu@outlook.com '\n",
    "res=''\n",
    "l=[]\n",
    "i=0\n",
    "while i<len(st):\n",
    "    if st[i]=='@':\n",
    "        res=''\n",
    "        res+=st[i]\n",
    "    elif st[i]==' ':\n",
    "        if len(res)!=0:          #Or we can write here res!='' \n",
    "            l+=[res]\n",
    "            res=''\n",
    "    else:\n",
    "        res+=st[i]\n",
    "    i+=1 \n",
    "if len(res)!=0:\n",
    "    l+=[res]\n",
    "print(l)"
   ]
  },
  {
   "cell_type": "markdown",
   "metadata": {},
   "source": [
    "I/P:' qspiders@gmail.com pyspiders@ymail.com  jspider@pys.com ramu@outlook.com'\n",
    "O/P:['gmail.com', 'ymail.com', 'pys.com', 'outlook.com']\n",
    "O/P:['moc.liamg', 'moc.liamy', 'moc.syp', 'moc.kooltuo']"
   ]
  },
  {
   "cell_type": "code",
   "execution_count": 4,
   "metadata": {},
   "outputs": [
    {
     "name": "stdout",
     "output_type": "stream",
     "text": [
      "['gmail.com', 'ymail.com', 'pys.com', 'outlook.com']\n",
      "['moc.liamg', 'moc.liamy', 'moc.syp', 'moc.kooltuo']\n"
     ]
    }
   ],
   "source": [
    "st=' qspiders@gmail.com pyspiders@ymail.com  jspider@pys.com ramu@outlook.com'\n",
    "l=[]\n",
    "res=''\n",
    "i=0\n",
    "while i<len(st):\n",
    "    if st[i]=='@':\n",
    "        # res+=st[i]\n",
    "        res=''\n",
    "    elif st[i]==' ':\n",
    "        if len(res)!=0:\n",
    "            l+=[res]\n",
    "            res=''\n",
    "    else:\n",
    "        res+=st[i]\n",
    "    i+=1\n",
    "if len(res)!=0:\n",
    "    l+=[res]    \n",
    "print(l)\n",
    "\n",
    "j=0\n",
    "t=[]\n",
    "while j<len(l):\n",
    "    t += [l[j][::-1]]\n",
    "    j+=1\n",
    "print(t)\n"
   ]
  },
  {
   "cell_type": "code",
   "execution_count": 15,
   "metadata": {},
   "outputs": [
    {
     "name": "stdout",
     "output_type": "stream",
     "text": [
      "['.com', '.com', '.com', '.com']\n"
     ]
    }
   ],
   "source": [
    "st=' qspiders@gmail.com pyspiders@ymail.com  jspider@pys.com ramu@outlook.com'\n",
    "#op:['.com', '.com', '.com', '.com']\n",
    "res=''\n",
    "l=[]\n",
    "i=0\n",
    "while i<len(st):\n",
    "    if st[i]=='.':\n",
    "        res=''\n",
    "        res+=st[i]\n",
    "    elif st[i]==' ':\n",
    "        if len(res)!=0:\n",
    "            l+=[res]\n",
    "            res=''\n",
    "    else:\n",
    "        res+=st[i]\n",
    "    i+=1\n",
    "if len(res)!=0:\n",
    "    l+=[res]\n",
    "print(l)"
   ]
  },
  {
   "cell_type": "markdown",
   "metadata": {},
   "source": [
    "I/P:'  qspiders@gmail.com pyspiders@ymail.in   jspider@pys.edu ramu@outlook.com   seetha@fb.in  ap@gmail.org.in '\n",
    "\n",
    "O/P:['.com', '.in', '.edu', '.com', '.in', '.org.in']\n",
    "\n",
    "O/P:{4: ['.com', '.edu', '.com'], 3: ['.in', '.in'], 7: ['.org.in']}\n",
    "\n",
    "O/P:[['.com', '.edu', '.com'], ['.in', '.in'], ['.org.in']]"
   ]
  },
  {
   "cell_type": "code",
   "execution_count": 1,
   "metadata": {},
   "outputs": [
    {
     "name": "stdout",
     "output_type": "stream",
     "text": [
      "['.com', '.in', '.edu', '.com', '.in', '.org.in']\n",
      "{4: ['.com', '.edu', '.com'], 3: ['.in', '.in'], 7: ['.org.in']}\n",
      "[['.com', '.edu', '.com'], ['.in', '.in'], ['.org.in']]\n"
     ]
    }
   ],
   "source": [
    "st= '  qspiders@gmail.com pyspiders@ymail.in   jspider@pys.edu ramu@outlook.com   seetha@fb.in  ap@gmail.org.in '\n",
    "l=[]\n",
    "res=''\n",
    "i=0\n",
    "while i<len(st):\n",
    "    if st[i]=='.' and '.' not in res:\n",
    "        res=''\n",
    "        res+=st[i]\n",
    "    elif st[i]==' ':\n",
    "        if len(res)!=0:\n",
    "            l+=[res]\n",
    "            res=''\n",
    "    else:\n",
    "        res+=st[i]\n",
    "    i+=1\n",
    "if len(res)!=0:\n",
    "    l+=[res]\n",
    "print(l)\n",
    "\n",
    "d={}\n",
    "j=0\n",
    "while j<len(l):\n",
    "    if len(l[j]) not in d:\n",
    "        d[len(l[j])]=[l[j]]\n",
    "    else:\n",
    "        d[len(l[j])]+=[l[j]]\n",
    "    j+=1\n",
    "print(d)\n",
    "x=list(d)\n",
    "k=0\n",
    "t=[]\n",
    "while k<len(x):\n",
    "    t+=[d[x[k]]]\n",
    "    k+=1\n",
    "print(t)"
   ]
  },
  {
   "cell_type": "markdown",
   "metadata": {},
   "source": [
    "WAP to count the sequence"
   ]
  },
  {
   "cell_type": "code",
   "execution_count": 8,
   "metadata": {},
   "outputs": [
    {
     "ename": "TypeError",
     "evalue": "can only concatenate str (not \"int\") to str",
     "output_type": "error",
     "traceback": [
      "\u001b[1;31m---------------------------------------------------------------------------\u001b[0m",
      "\u001b[1;31mTypeError\u001b[0m                                 Traceback (most recent call last)",
      "\u001b[1;32mc:\\Users\\Ashish Biswal\\Documents\\GitHub\\Basic_of_python_programs\\loop_statement\\collection_loop.ipynb Cell 72\u001b[0m line \u001b[0;36m5\n\u001b[0;32m      <a href='vscode-notebook-cell:/c%3A/Users/Ashish%20Biswal/Documents/GitHub/Basic_of_python_programs/loop_statement/collection_loop.ipynb#Y130sZmlsZQ%3D%3D?line=2'>3</a>\u001b[0m i\u001b[39m=\u001b[39m\u001b[39m0\u001b[39m\n\u001b[0;32m      <a href='vscode-notebook-cell:/c%3A/Users/Ashish%20Biswal/Documents/GitHub/Basic_of_python_programs/loop_statement/collection_loop.ipynb#Y130sZmlsZQ%3D%3D?line=3'>4</a>\u001b[0m \u001b[39mwhile\u001b[39;00m i\u001b[39m<\u001b[39m\u001b[39mlen\u001b[39m(st):\n\u001b[1;32m----> <a href='vscode-notebook-cell:/c%3A/Users/Ashish%20Biswal/Documents/GitHub/Basic_of_python_programs/loop_statement/collection_loop.ipynb#Y130sZmlsZQ%3D%3D?line=4'>5</a>\u001b[0m     \u001b[39mif\u001b[39;00m st[i]\u001b[39m==\u001b[39m\u001b[39mchr\u001b[39m(\u001b[39mord\u001b[39m[st[i]\u001b[39m+\u001b[39;49m\u001b[39m1\u001b[39;49m]):\n\u001b[0;32m      <a href='vscode-notebook-cell:/c%3A/Users/Ashish%20Biswal/Documents/GitHub/Basic_of_python_programs/loop_statement/collection_loop.ipynb#Y130sZmlsZQ%3D%3D?line=5'>6</a>\u001b[0m         res\u001b[39m+\u001b[39m\u001b[39m=\u001b[39mst[i]\n\u001b[0;32m      <a href='vscode-notebook-cell:/c%3A/Users/Ashish%20Biswal/Documents/GitHub/Basic_of_python_programs/loop_statement/collection_loop.ipynb#Y130sZmlsZQ%3D%3D?line=6'>7</a>\u001b[0m     i\u001b[39m+\u001b[39m\u001b[39m=\u001b[39m\u001b[39m1\u001b[39m\n",
      "\u001b[1;31mTypeError\u001b[0m: can only concatenate str (not \"int\") to str"
     ]
    }
   ],
   "source": [
    "st='abcthf defbgkd ijkvard lmno'\n",
    "res=''\n",
    "i=0\n",
    "while i<len(st):\n",
    "    if st[i]==chr(ord[st[i]+1]):\n",
    "        res+=st[i]\n",
    "        \n",
    "        \n"
   ]
  }
 ],
 "metadata": {
  "kernelspec": {
   "display_name": "Python 3",
   "language": "python",
   "name": "python3"
  },
  "language_info": {
   "codemirror_mode": {
    "name": "ipython",
    "version": 3
   },
   "file_extension": ".py",
   "mimetype": "text/x-python",
   "name": "python",
   "nbconvert_exporter": "python",
   "pygments_lexer": "ipython3",
   "version": "3.11.4"
  },
  "orig_nbformat": 4
 },
 "nbformat": 4,
 "nbformat_minor": 2
}
