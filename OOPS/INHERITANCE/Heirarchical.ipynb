{
 "cells": [
  {
   "cell_type": "code",
   "execution_count": 15,
   "metadata": {},
   "outputs": [],
   "source": [
    "class college:\n",
    "    cname = 'Qspider'\n",
    "    address = 'Hyd'\n",
    "    def __init__(self, name, age, phone, type_of_p, doj):\n",
    "        self.name = name\n",
    "        self.age = age\n",
    "        self.phone = phone\n",
    "        self.type_of_p = type_of_p\n",
    "        self.doj = doj\n",
    "\n",
    "    def display(self):\n",
    "        print('College Name: ', self.cname)\n",
    "        print('College address: ', self.address)\n",
    "        print('Person Name: ', self.name)\n",
    "        print('Person age: ', self.age)\n",
    "        print('Person phone: ', self.phone)\n",
    "        print('Person type_of_p: ', self.type_of_p)\n",
    "        print('Person DOJ: ', self.doj)\n",
    "\n",
    "krishna = college('Krishna', '26', '9863462637', 'Student', '2020-09-06')\n",
    "Haria = college('Haria', '36', '9868734882', 'Teacher', '2017-10-04')\n",
    "\n",
    "\n",
    "class college2(college):\n",
    "    address = 'Banglore'\n",
    "\n",
    "Rama = college2('Rama', '26', '9863462637', 'Student', '2020-10-08')\n",
    "seetha = college2('seetha', '36', '9868734882', 'Trainer', '2018-11-04')\n",
    "\n",
    "class college3(college):\n",
    "    address = 'Odisha'\n",
    "\n",
    "Raja = college('Raja', '26', '9863462637', 'Student', '2020-09-06')\n",
    "Rani = college('Rani', '36', '9868734882', 'Teacher', '2017-10-04')\n",
    "\n",
    "\n"
   ]
  },
  {
   "cell_type": "code",
   "execution_count": 19,
   "metadata": {},
   "outputs": [
    {
     "name": "stdout",
     "output_type": "stream",
     "text": [
      "College Name:  Qspider\n",
      "College address:  Hyd\n",
      "Person Name:  Rani\n",
      "Person age:  36\n",
      "Person phone:  9868734882\n",
      "Person type_of_p:  Teacher\n",
      "Person DOJ:  2017-10-04\n"
     ]
    }
   ],
   "source": [
    "Rani.display()"
   ]
  },
  {
   "cell_type": "code",
   "execution_count": 20,
   "metadata": {},
   "outputs": [],
   "source": [
    "class college3(college):\n",
    "    address = 'Odisha'\n",
    "    tollno  = 180099537674\n",
    "    def __init__(self, name, age, phone, type_of_p, doj, email, marks):\n",
    "        super().__init__(name, age, phone, type_of_p, doj)\n",
    "        self.email = email\n",
    "        self.marks = marks\n",
    "    def display(self):\n",
    "        super().display()\n",
    "        print('Person Email: ', self.email)\n",
    "        print('Person Marks: ', self.marks)\n",
    "\n",
    "\n",
    "Raja = college3('Raja', '26', '9863462637', 'Student', '2020-09-06', 'raja@gmail.com', 90)\n",
    "Rani = college3('Rani', '36', '9868734882', 'Teacher', '2017-10-04', 'rani@gmail.com', 93)\n"
   ]
  },
  {
   "cell_type": "code",
   "execution_count": 21,
   "metadata": {},
   "outputs": [
    {
     "name": "stdout",
     "output_type": "stream",
     "text": [
      "College Name:  Qspider\n",
      "College address:  Odisha\n",
      "Person Name:  Raja\n",
      "Person age:  26\n",
      "Person phone:  9863462637\n",
      "Person type_of_p:  Student\n",
      "Person DOJ:  2020-09-06\n",
      "Person Email:  raja@gmail.com\n",
      "Person Marks:  90\n"
     ]
    }
   ],
   "source": [
    "Raja.display()"
   ]
  }
 ],
 "metadata": {
  "kernelspec": {
   "display_name": "Python 3",
   "language": "python",
   "name": "python3"
  },
  "language_info": {
   "codemirror_mode": {
    "name": "ipython",
    "version": 3
   },
   "file_extension": ".py",
   "mimetype": "text/x-python",
   "name": "python",
   "nbconvert_exporter": "python",
   "pygments_lexer": "ipython3",
   "version": "3.12.0"
  }
 },
 "nbformat": 4,
 "nbformat_minor": 2
}
