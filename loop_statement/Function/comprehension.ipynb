{
 "cells": [
  {
   "cell_type": "code",
   "execution_count": 31,
   "metadata": {},
   "outputs": [
    {
     "name": "stdout",
     "output_type": "stream",
     "text": [
      "[1, 2, 3, 4, 5, 6, 7, 8, 9, 10, 11, 12]\n"
     ]
    }
   ],
   "source": [
    "#WAP to generate and store the sequence of value from 1 to nth[USING FUNCTION]\n",
    "# def seq(end=10):\n",
    "#     l=[]\n",
    "#     start=1\n",
    "#     while start<=end:\n",
    "#         l+=[start]\n",
    "#         start+=1\n",
    "#     return l\n",
    "# print(seq(15))\n",
    "\n",
    "# def seq1(end=10):\n",
    "#     l=[]\n",
    "#     for i in range(1,end+1):\n",
    "#         l+=[i]\n",
    "#     return l\n",
    "# print(seq1(15))\n",
    "\n",
    "#USING COMPREHENSION\n",
    "# var=[i for i in range(1,eval(input(\"Enter The Value:\"))+1)]\n",
    "# print(var)\n",
    "\n",
    "# def sample(end=10):\n",
    "#     return [i for i in range(1,end+1)]\n",
    "# sample(eval(input(\"Enter The Value:\")))\n",
    "\n",
    "var=lambda:[i for i in range(1,eval(input(\"Enter The Value:\"))+1)]\n",
    "var()"
   ]
  },
  {
   "cell_type": "code",
   "execution_count": 35,
   "metadata": {},
   "outputs": [
    {
     "name": "stdout",
     "output_type": "stream",
     "text": [
      "[1, 2, 3, 4, 5, 6, 7, 8, 9, 10, 11, 12, 13, 14]\n"
     ]
    }
   ],
   "source": [
    "var=lambda:[i for i in range(1,15)]\n",
    "print(var())"
   ]
  },
  {
   "cell_type": "code",
   "execution_count": 14,
   "metadata": {},
   "outputs": [
    {
     "name": "stdout",
     "output_type": "stream",
     "text": [
      "[12, 16, 87, 75, 68, 39]\n",
      "[12, 16, 87, 75, 68, 39]\n"
     ]
    }
   ],
   "source": [
    "st='12 16 87 75 68 39'\n",
    "l=[]\n",
    "for i in st.split():\n",
    "    l+=[int(i)]\n",
    "print(l)\n",
    "\n",
    "#BY USING COMREHENSION\n",
    "var=lambda:[int(i) for i in st.split()]\n",
    "print(var())"
   ]
  },
  {
   "cell_type": "markdown",
   "metadata": {},
   "source": [
    "WAP to count the number of Vowels in given string.[With and without count function]"
   ]
  },
  {
   "cell_type": "code",
   "execution_count": 18,
   "metadata": {},
   "outputs": [
    {
     "name": "stdout",
     "output_type": "stream",
     "text": [
      "2\n",
      "2\n",
      "2\n"
     ]
    }
   ],
   "source": [
    "#WITH COUNT\n",
    "st='apple'\n",
    "def cnt(coll):\n",
    "    count=0\n",
    "    for i in coll:\n",
    "        if i in 'AEIOUaeiou':\n",
    "            count+=1\n",
    "    return count\n",
    "print(cnt(st))\n",
    "\n",
    "#WITHOUT COUNT\n",
    "def cnt1(coll):\n",
    "    count=[]\n",
    "    for i in coll:\n",
    "        if i in 'AEIOUaeiou':\n",
    "            count+=[i]\n",
    "    return len(count)\n",
    "print(cnt1(st))\n",
    "\n",
    "#USING COMPREHENSION\n",
    "var=lambda:len([i for i in st if i in 'AEIOUaeiou'])\n",
    "print(var())"
   ]
  },
  {
   "cell_type": "markdown",
   "metadata": {},
   "source": [
    "I/P: '12 17 87 19 26 35 14 19'\n",
    "\n",
    "O/P: [12,16,26,14]"
   ]
  },
  {
   "cell_type": "code",
   "execution_count": 21,
   "metadata": {},
   "outputs": [
    {
     "name": "stdout",
     "output_type": "stream",
     "text": [
      "[12, 16, 26, 14]\n"
     ]
    }
   ],
   "source": [
    "st='12 16 87 19 26 35 14 19'\n",
    "var=lambda:[int(i) for i in st.split() if int(i)%2==0]\n",
    "print(var())"
   ]
  },
  {
   "cell_type": "markdown",
   "metadata": {},
   "source": [
    "I/P: '12/16.16/87/19/26.46/35/14/19'\n",
    "\n",
    "O/P: [24,'16.16','87','19','26.46','35',28,'19']"
   ]
  },
  {
   "cell_type": "code",
   "execution_count": 25,
   "metadata": {},
   "outputs": [
    {
     "data": {
      "text/plain": [
       "['12/16.16/87/19/26.46/35/14/19']"
      ]
     },
     "execution_count": 25,
     "metadata": {},
     "output_type": "execute_result"
    }
   ],
   "source": [
    "st='12/16.16/87/19/26.46/35/14/19'\n",
    "var=lambda:[int(i) for i in st.split() if int(i)%2==0 ]\n",
    "print(var())\n",
    "###########"
   ]
  },
  {
   "cell_type": "code",
   "execution_count": 5,
   "metadata": {},
   "outputs": [
    {
     "name": "stdout",
     "output_type": "stream",
     "text": [
      "[1, 2, 3, 4, 5, 6, 7, 8]\n",
      "[1, 2, 3, 4, 5, 6, 7, 8]\n"
     ]
    }
   ],
   "source": [
    "l=[[1,2],[3,4],[5,6],[7,8]]\n",
    "#OP:[1,2,3,4,5,6,7,8]\n",
    "res=[]\n",
    "for i in l:\n",
    "    for j in i:\n",
    "        res+=[j]\n",
    "print(res)\n",
    "\n",
    "#USING COMPREHENSION\n",
    "x=[j for i in l for j in i]\n",
    "print(x)"
   ]
  },
  {
   "cell_type": "code",
   "execution_count": 7,
   "metadata": {},
   "outputs": [
    {
     "name": "stdout",
     "output_type": "stream",
     "text": [
      "['APPLE', 'BAT', 'CAT', 'DOG']\n"
     ]
    }
   ],
   "source": [
    "#WAP to print all the data items in uppercase and store in a list\n",
    "l=[['apple','bat'],['cat','dog']]\n",
    "x=[j.upper() for i in l for j in i ]\n",
    "print(x)"
   ]
  },
  {
   "cell_type": "code",
   "execution_count": 11,
   "metadata": {},
   "outputs": [
    {
     "name": "stdout",
     "output_type": "stream",
     "text": [
      "['ICECREAM', 'MONKEY']\n",
      "['ICECREAM', 'MONKEY']\n"
     ]
    }
   ],
   "source": [
    "#WAP to print all the data items in uppercase whose length is even and store in a list\n",
    "l=[['apple','bat','icecream'],['cat','dog','monkey']]\n",
    "res=[]\n",
    "for i in l:\n",
    "    for j in i:\n",
    "        if len(j)%2==0:\n",
    "            res+=[j.upper()]\n",
    "print(res)\n",
    "\n",
    "#USING COMPREHENSION\n",
    "x=[j.upper() for i in l for j in i if len(j)%2==0]\n",
    "print(x)"
   ]
  },
  {
   "cell_type": "code",
   "execution_count": 15,
   "metadata": {},
   "outputs": [
    {
     "name": "stdout",
     "output_type": "stream",
     "text": [
      "['APPLE', 'BAT', 'Icecream', 'CAT', 'DOG', 'Monkey']\n",
      "['APPLE', 'BAT', 'Icecream', 'CAT', 'DOG', 'Monkey']\n"
     ]
    }
   ],
   "source": [
    "#WAP to convert uppercase if length of the string is odd else convert it to title case\n",
    "l=[['apple','bat','icecream'],['cat','dog','monkey']]\n",
    "res=[]\n",
    "for i in l:\n",
    "    for j in i:\n",
    "        if len(j)%2!=0:\n",
    "            res+=[j.upper()]\n",
    "        else:\n",
    "            res+=[j.title()]\n",
    "print(res)\n",
    "\n",
    "#USING COMPREHENSION\n",
    "x=[j.upper() if len(j)%2!=0 else j.title() for i in l for j in i]\n",
    "print(x)"
   ]
  },
  {
   "cell_type": "code",
   "execution_count": 32,
   "metadata": {},
   "outputs": [
    {
     "name": "stdout",
     "output_type": "stream",
     "text": [
      "['APPLE', 'BAT', 'Band', 'Icecream', 'CAT', 'DOG', 'monkey', 'donkey']\n",
      "['APPLE', 'BAT', 'Band', 'Icecream', 'CAT', 'DOG', 'monkey', 'donkey']\n"
     ]
    }
   ],
   "source": [
    "l=[['apple','bat','band','icecream'],['cat','dog','Monkey','Donkey']]\n",
    "res=[]\n",
    "for i in l:\n",
    "    for j in i:\n",
    "        if len(j)%2==0:\n",
    "            if len(j)==6:\n",
    "                res+=[j.lower()]\n",
    "            else:\n",
    "                res+=[j.title()]\n",
    "        else:\n",
    "            res+=[j.upper()]\n",
    "print(res)\n",
    "\n",
    "#USING COMPREHENSION\n",
    "x=[(j.lower() if len(j)==6 else j.title()) if len(j)%2==0 else j.upper() for i in l for j in i]\n",
    "print(x)"
   ]
  },
  {
   "cell_type": "code",
   "execution_count": 31,
   "metadata": {},
   "outputs": [
    {
     "name": "stdout",
     "output_type": "stream",
     "text": [
      "145\n",
      "True\n"
     ]
    }
   ],
   "source": [
    "#WAP to check the given number is strong or not\n",
    "from math import prod\n",
    "num=145\n",
    "sum=0\n",
    "for i in str(num):\n",
    "    mul=1\n",
    "    for j in range(1,int(i)+1):\n",
    "        mul*=j\n",
    "    sum+=mul\n",
    "print(sum)\n",
    "print(sum==num)\n",
    "\n",
    "#USING COMPREHENSION\n",
    "# res=[sum([prod([j for j in range(1,int(i)+1)]) for i in str(k)])==k for k in range(1,250)]\n",
    "# print(res())"
   ]
  },
  {
   "cell_type": "code",
   "execution_count": 49,
   "metadata": {},
   "outputs": [
    {
     "name": "stdout",
     "output_type": "stream",
     "text": [
      "{'I': 73, ' ': 32, 'd': 100, 'o': 111, 'n': 110, 't': 116, 'k': 107, 'w': 119}\n"
     ]
    }
   ],
   "source": [
    "st='I dont know'\n",
    "d={i:ord(i) for i in st}\n",
    "print(d)"
   ]
  },
  {
   "cell_type": "code",
   "execution_count": 50,
   "metadata": {},
   "outputs": [
    {
     "name": "stdout",
     "output_type": "stream",
     "text": [
      "{'d': 100, 'n': 110, 't': 116, 'k': 107, 'w': 119}\n"
     ]
    }
   ],
   "source": [
    "st='I dont know'\n",
    "d={i:ord(i) for i in st if('A'<=i<='Z' or 'a'<=i<='z') and (i not in 'AEIOUaeiou')}\n",
    "print(d)"
   ]
  },
  {
   "cell_type": "code",
   "execution_count": 47,
   "metadata": {},
   "outputs": [
    {
     "name": "stdout",
     "output_type": "stream",
     "text": [
      "{10: 1000, 7: 15, 18: 5832, 9: 19, 16: 4096, 6: 13, 20: 41, 56: 175616}\n",
      "{10: 1000, 7: 15, 18: 5832, 9: 19, 16: 4096, 6: 13, 20: 41, 56: 175616}\n",
      "{10: 1000, 7: 15, 18: 5832, 9: 19, 16: 4096, 6: 13, 20: 41, 56: 175616}\n"
     ]
    }
   ],
   "source": [
    "l=[10,15,18,19,16,13,41,56]\n",
    "d={}\n",
    "for i in l:\n",
    "    if i%2==0:\n",
    "        d|={i:i**3}\n",
    "    else:\n",
    "        d|={i//2:i}\n",
    "print(d)\n",
    "\n",
    "#USING COMPREHENSION\n",
    "x=dict([[i,i**3] if i%2==0 else [i//2,i] for i in l])\n",
    "print(x)\n",
    "#OR\n",
    "d={[i//2,i][i%2==0]:i**3 if i%2==0 else i for i in l}\n",
    "print(d)"
   ]
  },
  {
   "cell_type": "code",
   "execution_count": 48,
   "metadata": {},
   "outputs": [
    {
     "name": "stdout",
     "output_type": "stream",
     "text": [
      "{12: 144, 13: 169, 15: 225, 17: 289, 19: 361, 23: 529, 26: 676, 43: 1849, 76: 5776}\n"
     ]
    }
   ],
   "source": [
    "l=[[12,13,15],[17,19,23],[26,43,76]]\n",
    "d={j:j**2 for i in l for j in i}\n",
    "print(d) "
   ]
  }
 ],
 "metadata": {
  "kernelspec": {
   "display_name": "Python 3",
   "language": "python",
   "name": "python3"
  },
  "language_info": {
   "codemirror_mode": {
    "name": "ipython",
    "version": 3
   },
   "file_extension": ".py",
   "mimetype": "text/x-python",
   "name": "python",
   "nbconvert_exporter": "python",
   "pygments_lexer": "ipython3",
   "version": "3.11.4"
  }
 },
 "nbformat": 4,
 "nbformat_minor": 2
}
