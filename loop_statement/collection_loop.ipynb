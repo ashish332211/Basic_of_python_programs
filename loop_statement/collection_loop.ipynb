{
 "cells": [
  {
   "cell_type": "code",
   "execution_count": 3,
   "metadata": {},
   "outputs": [
    {
     "name": "stdout",
     "output_type": "stream",
     "text": [
      "A\n",
      "s\n",
      "h\n",
      "i\n",
      "s\n",
      "h\n"
     ]
    }
   ],
   "source": [
    "st='Ashish'\n",
    "i=0\n",
    "while i<len(st):\n",
    "    print(st[i])\n",
    "    i=i+1"
   ]
  },
  {
   "cell_type": "code",
   "execution_count": 5,
   "metadata": {},
   "outputs": [
    {
     "name": "stdout",
     "output_type": "stream",
     "text": [
      "A 0\n",
      "s 1\n",
      "h 2\n",
      "i 3\n",
      "s 4\n",
      "h 5\n"
     ]
    }
   ],
   "source": [
    "st='Ashish'\n",
    "i=0\n",
    "while i<len(st):\n",
    "    print(st[i],i)\n",
    "    i=i+1"
   ]
  },
  {
   "cell_type": "code",
   "execution_count": 13,
   "metadata": {},
   "outputs": [
    {
     "name": "stdout",
     "output_type": "stream",
     "text": [
      "h\n",
      "s\n",
      "i\n",
      "h\n",
      "s\n",
      "A\n"
     ]
    }
   ],
   "source": [
    "st='Ashish'\n",
    "start=-1\n",
    "end=-(len(st)+1)\n",
    "while start>end:\n",
    "    print(st[start])\n",
    "    start=start-1"
   ]
  },
  {
   "cell_type": "code",
   "execution_count": 15,
   "metadata": {},
   "outputs": [
    {
     "name": "stdout",
     "output_type": "stream",
     "text": [
      "h -1\n",
      "s -2\n",
      "i -3\n",
      "h -4\n",
      "s -5\n",
      "A -6\n"
     ]
    }
   ],
   "source": [
    "st='Ashish'\n",
    "start=-1\n",
    "end=-(len(st)+1)\n",
    "while start>end:\n",
    "    print(st[start],start)\n",
    "    start=start-1"
   ]
  },
  {
   "cell_type": "code",
   "execution_count": 22,
   "metadata": {},
   "outputs": [],
   "source": [
    "st='Ashish'\n",
    "start=0\n",
    "end=len(st)\n",
    "nval=-(len(st))\n",
    "##################"
   ]
  },
  {
   "cell_type": "markdown",
   "metadata": {},
   "source": [
    "WAP to extract and store the lower case character from given string."
   ]
  },
  {
   "cell_type": "code",
   "execution_count": 28,
   "metadata": {},
   "outputs": [
    {
     "name": "stdout",
     "output_type": "stream",
     "text": [
      "shsh\n"
     ]
    }
   ],
   "source": [
    "st='AshIsh'\n",
    "i=0\n",
    "res=\"\"\n",
    "while i<len(st):\n",
    "    if 'a'<=st[i]<='z':\n",
    "        res=res+st[i]\n",
    "    i=i+1\n",
    "print(res)\n"
   ]
  },
  {
   "cell_type": "markdown",
   "metadata": {},
   "source": [
    "WAP to extract and store special character and ASCII numnber from given string."
   ]
  },
  {
   "cell_type": "code",
   "execution_count": 31,
   "metadata": {},
   "outputs": [
    {
     "name": "stdout",
     "output_type": "stream",
     "text": [
      "#87\n"
     ]
    }
   ],
   "source": [
    "st='ashish#87'\n",
    "i=0\n",
    "res=''\n",
    "while i<len(st):\n",
    "    if not('A'<=st[i]<='Z' or 'a'<=st[i]<='z'):\n",
    "        res=res+st[i]\n",
    "    i=i+1\n",
    "print(res)\n",
    "        \n"
   ]
  },
  {
   "cell_type": "markdown",
   "metadata": {},
   "source": [
    "WAP to seggrigate the uppercase, lowercase, special character and ASCII number."
   ]
  },
  {
   "cell_type": "code",
   "execution_count": 33,
   "metadata": {},
   "outputs": [
    {
     "name": "stdout",
     "output_type": "stream",
     "text": [
      "AH\n",
      "sish\n",
      "87\n",
      "#\n"
     ]
    }
   ],
   "source": [
    "st='AsHish#87'\n",
    "uc,lc,sp,an='','','',''\n",
    "i=0\n",
    "while i<len(st):\n",
    "    if 'A'<=st[i]<='Z':\n",
    "        uc=uc+st[i]\n",
    "    elif 'a'<=st[i]<='z':\n",
    "        lc=lc+st[i]\n",
    "    elif '0'<=st[i]<='9':\n",
    "        an=an+st[i]\n",
    "    else:\n",
    "        sp=sp+st[i]\n",
    "    i=i+1\n",
    "print(uc)\n",
    "print(lc)\n",
    "print(an)\n",
    "print(sp)\n"
   ]
  },
  {
   "cell_type": "markdown",
   "metadata": {},
   "source": [
    "WAP to check the given password is valid or not. If password is valid display the password with given string else print invalid password.\n",
    "* Password should minimum 8 or maximum 16 characters\n",
    "* Minimum 2 special character\n",
    "* Minimum one lower case character"
   ]
  },
  {
   "cell_type": "code",
   "execution_count": 7,
   "metadata": {},
   "outputs": [
    {
     "name": "stdout",
     "output_type": "stream",
     "text": [
      "Valid Password ADshu@9832\n"
     ]
    }
   ],
   "source": [
    "st='ADshu@9832'\n",
    "uc,lc,an,sp=0,0,0,0\n",
    "if 8<=len(st)<=16:\n",
    "    i=0\n",
    "    while i<len(st):\n",
    "        if 'A'<=st[i]<='Z':\n",
    "            uc=uc+1\n",
    "        elif 'a'<=st[i]<='z':\n",
    "            lc=lc+1\n",
    "        elif '0'<=st[i]<='9':\n",
    "            an=an+1\n",
    "        else:\n",
    "            sp=sp+1\n",
    "        i=i+1\n",
    "    if uc>=2 and lc>=1 and sp>=1 and an>1:\n",
    "        print('Valid Password',st)\n",
    "    else:\n",
    "        print('Invalid Password')\n",
    "else:\n",
    "    print('Invalid')\n",
    "    "
   ]
  },
  {
   "cell_type": "markdown",
   "metadata": {},
   "source": [
    "WAP to check the given emailid valid or not. If valid display the email id.\n",
    "* Email id should not have special character except @,_\n",
    "* Exact one @\n",
    "* After @ minimum one or maximum two dot(.) should be there"
   ]
  },
  {
   "cell_type": "code",
   "execution_count": 17,
   "metadata": {},
   "outputs": [],
   "source": [
    "st='Ashu@gmail.co.edu.in'\n",
    "if '@' in st and '_' in st:\n",
    "    i=0\n",
    "    pos=None\n",
    "    count=0\n",
    "    while i<len(st):\n",
    "        if '@'==st[i]:\n",
    "            pos=i\n",
    "            count=count+1\n",
    "        i=i+1\n",
    "    if count==1:\n",
    "        print(pos)\n",
    "        if '.' in st[pos:]:\n",
    "            count1=0\n",
    "            i1=pos\n",
    "            while i1<len[st]:\n",
    "                if '.'==st[i1]:\n",
    "                    count1=count1+1\n",
    "                i1=i1+1\n",
    "            if 1<=count1<=2:\n",
    "                print('Valid')\n",
    "            else:\n",
    "                print('Invalid')\n",
    "        else:\n",
    "            print('Invalid')\n",
    "    else:\n",
    "        print('Invalid')\n",
    "else:\n",
    "    ('Invalid')"
   ]
  },
  {
   "cell_type": "markdown",
   "metadata": {},
   "source": [
    "WAP to convert uppercase to lowercase in given string"
   ]
  },
  {
   "cell_type": "code",
   "execution_count": 19,
   "metadata": {},
   "outputs": [
    {
     "name": "stdout",
     "output_type": "stream",
     "text": [
      "ashish#@32\n"
     ]
    }
   ],
   "source": [
    "st='AshIsH#@32'\n",
    "i=0\n",
    "res=''\n",
    "while i<len(st):\n",
    "    if 'A'<=st[i]<='Z':\n",
    "        res=res+chr(ord(st[i])+32)\n",
    "    else:\n",
    "        res=res+st[i]\n",
    "    i=i+1\n",
    "print(res)\n"
   ]
  },
  {
   "cell_type": "markdown",
   "metadata": {},
   "source": [
    "WAP to convert given string into snake case"
   ]
  },
  {
   "cell_type": "code",
   "execution_count": 19,
   "metadata": {},
   "outputs": [
    {
     "name": "stdout",
     "output_type": "stream",
     "text": [
      "as_hi_yilre\n"
     ]
    }
   ],
   "source": [
    "st='As_Hi yilre'\n",
    "i=0\n",
    "res=''\n",
    "while i<len(st):\n",
    "    if 'A'<=st[i]<='Z':\n",
    "        res=res+chr(ord(st[i])+32)\n",
    "    elif ' '==st[i]:\n",
    "        res=res+'_'\n",
    "    else:\n",
    "        res=res+st[i]\n",
    "    i=i+1\n",
    "print(res)"
   ]
  },
  {
   "cell_type": "markdown",
   "metadata": {},
   "source": [
    "WAP to print a given string converted to capitalize"
   ]
  },
  {
   "cell_type": "code",
   "execution_count": 10,
   "metadata": {},
   "outputs": [
    {
     "name": "stdout",
     "output_type": "stream",
     "text": [
      "Ashi#sh\n"
     ]
    }
   ],
   "source": [
    "st='ashi#sh'\n",
    "res=''\n",
    "if 'a'<=st[0]<='z':\n",
    "    res=res+chr(ord(st[0])-32)\n",
    "else:\n",
    "    res=res+st[0]\n",
    "i=1\n",
    "while i<len(st):\n",
    "    if 'A'<=st[i]<='Z':\n",
    "        res=res+chr(ord(st[i])+32)\n",
    "    else:\n",
    "        res=res+st[i]\n",
    "    i=i+1\n",
    "print(res)"
   ]
  },
  {
   "cell_type": "markdown",
   "metadata": {},
   "source": [
    "WAP to print the given string into dragon case\n",
    "* before string two '_ _'\n",
    "* after string two '_ _'\n",
    "* string should not contain space.if incase space is there converted into '_'\n",
    "* all the character should be lowercase\n",
    "* String should not contain any special character and ascii number. "
   ]
  },
  {
   "cell_type": "code",
   "execution_count": 16,
   "metadata": {},
   "outputs": [
    {
     "name": "stdout",
     "output_type": "stream",
     "text": [
      "__hellow_orld__\n"
     ]
    }
   ],
   "source": [
    "st='heLLoW oRLd#23'\n",
    "i=0\n",
    "res=''\n",
    "while i<len(st):\n",
    "    if 'A'<=st[i]<='Z':\n",
    "        res=res+chr(ord(st[i])+32)\n",
    "    elif st[i]==' ':\n",
    "        res=res+'_'\n",
    "    elif 'a'<=st[i]<='z':\n",
    "        res=res+st[i]\n",
    "    i=i+1\n",
    "res='__'+res+'__'\n",
    "print(res)"
   ]
  },
  {
   "cell_type": "markdown",
   "metadata": {},
   "source": []
  },
  {
   "cell_type": "code",
   "execution_count": 6,
   "metadata": {},
   "outputs": [
    {
     "name": "stdout",
     "output_type": "stream",
     "text": [
      "helowrd\n",
      "lol\n"
     ]
    }
   ],
   "source": [
    "st='helloworld'\n",
    "i=0\n",
    "res1=''\n",
    "res2=''\n",
    "while i<len(st):\n",
    "    if st[i] in res1:\n",
    "        res2=res2+st[i]\n",
    "    else:\n",
    "        res1=res1+st[i]\n",
    "    i=i+1\n",
    "print(res1)\n",
    "print(res2)"
   ]
  }
 ],
 "metadata": {
  "kernelspec": {
   "display_name": "Python 3",
   "language": "python",
   "name": "python3"
  },
  "language_info": {
   "codemirror_mode": {
    "name": "ipython",
    "version": 3
   },
   "file_extension": ".py",
   "mimetype": "text/x-python",
   "name": "python",
   "nbconvert_exporter": "python",
   "pygments_lexer": "ipython3",
   "version": "3.11.4"
  },
  "orig_nbformat": 4
 },
 "nbformat": 4,
 "nbformat_minor": 2
}
