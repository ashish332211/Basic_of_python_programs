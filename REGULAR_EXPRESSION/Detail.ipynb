{
 "cells": [
  {
   "cell_type": "markdown",
   "metadata": {},
   "source": [
    "DETAILS:\n",
    "\n",
    "-> It works only on string data type\n",
    "\n",
    "-> is sequence of characters which is used to match the pattern\n",
    "\n",
    "-> if we want to perform regular expression we need to import re -> (regular expression)\n",
    "\n",
    "Definition:\n",
    "\n",
    "A regular expression is a sequence of characters that perform a search pattern. It is used to check if a string contains specified search pattern\n",
    "\n",
    "* Python has a built in package called \"re\" which can be used to work with regular expression\n",
    "\n",
    "* import the \"re\" module, when we have imported re module we can start using regular expression"
   ]
  },
  {
   "cell_type": "markdown",
   "metadata": {},
   "source": [
    "FUNCTIONS OF re:\n",
    "\n",
    "It has 4 types of function\n",
    "1. findall()\n",
    "2. search()\n",
    "3. split()\n",
    "4. sub()\n",
    "\n",
    "\n",
    "* findall() -> It return a list of all matching matches => []\n",
    "\n",
    "* serach() -> It return match object if there are any matches\n",
    "\n",
    "* split() -> It will split the string from the given pattern\n",
    "\n",
    "* sub() -> It substitute a new string to old string (like replace method)"
   ]
  },
  {
   "cell_type": "markdown",
   "metadata": {},
   "source": [
    "findall():\n",
    "----------\n",
    "Syntax: re.findall(pattern, source_string)\n",
    "\n",
    "PATTERNS:\n",
    "1) . -> matches anything and everything(a-z, A-Z, 0-9, all the special character)\n",
    "\n",
    "2) ^ -> Pattern should be at the begining\n",
    "\n",
    "3) $ -> Pattern should be at the end\n",
    "\n",
    "4) * -> Mtaches 0 or any number of occurances of the preceeding characters\n",
    "\n",
    "5) + -> Mtaches 1 or any number of occurances of the preceeding characters\n",
    "\n",
    "6) ! -> Matches only 0 or 1 occurances of the preceeding characters\n",
    "\n",
    "7) [] -> Groups multiple characters/ characters set takes each character and checks\n",
    "\n",
    "8) - -> Denotes range inside characters set\n",
    "\n",
    "9) () -> Grouping patterns\n",
    "\n",
    "10) {} -> Specifies the number of characters to be matched\n",
    "\n",
    "11) \\d -> Matches any numbers between 0-9 or [0-9] or [0123456789]\n",
    "\n",
    "12) \\D -> Matches everything other than numbers or [^0-9] or [^0123456789]\n",
    "\n",
    "13) \\w -> Matches a-z, A-Z, 0-9 and also an underscore(_)\n",
    "\n",
    "14) \\W -> Matches all the character other than characters attached by \\W\n",
    "\n",
    "15) \\s -> Matches whitespaces and other special characters/ sequence(\\n, \\t, \\r.....etc)\n",
    "\n",
    "16) |S -> Matches everything other than characters attached by \\s\n",
    "\n",
    "17) \\b -> Transition between a characters(\\W) and non characters(\\W) and vise versa  is called\n",
    "\n",
    "18) a wond boundary"
   ]
  },
  {
   "cell_type": "code",
   "execution_count": 10,
   "metadata": {},
   "outputs": [
    {
     "name": "stdout",
     "output_type": "stream",
     "text": [
      "HGMHAY\n",
      "HGMHAY\n",
      "ee\n"
     ]
    }
   ],
   "source": [
    "s = 'Hello Good Morning How Are You'\n",
    "res=''\n",
    "for i in s:\n",
    "    if 'A'<=i<='Z':\n",
    "        res+=i\n",
    "\n",
    "print(res)\n",
    "\n",
    "#BY USING 're' MRTHOD\n",
    "import re\n",
    "res = re.findall(\"[A-Z]\", s)\n",
    "print(\"\".join(res))\n",
    "\n",
    "#TO GET THE SPECIFIED CHARACTER\n",
    "res = re.findall(\"e\", s)\n",
    "print(''.join(res))"
   ]
  }
 ],
 "metadata": {
  "kernelspec": {
   "display_name": "Python 3",
   "language": "python",
   "name": "python3"
  },
  "language_info": {
   "codemirror_mode": {
    "name": "ipython",
    "version": 3
   },
   "file_extension": ".py",
   "mimetype": "text/x-python",
   "name": "python",
   "nbconvert_exporter": "python",
   "pygments_lexer": "ipython3",
   "version": "3.12.0"
  }
 },
 "nbformat": 4,
 "nbformat_minor": 2
}
