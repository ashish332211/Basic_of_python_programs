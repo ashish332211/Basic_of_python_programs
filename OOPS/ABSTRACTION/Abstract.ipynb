{
 "cells": [
  {
   "cell_type": "code",
   "execution_count": 1,
   "metadata": {},
   "outputs": [],
   "source": [
    "from abc import ABC, abstractmethod\n",
    "class sample(ABC):              #partial abstract class\n",
    "    def display(self):        #normal object method\n",
    "        pass\n",
    "obj = sample()          #Here We can create the object"
   ]
  },
  {
   "cell_type": "code",
   "execution_count": 1,
   "metadata": {},
   "outputs": [
    {
     "ename": "TypeError",
     "evalue": "Can't instantiate abstract class child without an implementation for abstract method 'display'",
     "output_type": "error",
     "traceback": [
      "\u001b[1;31m---------------------------------------------------------------------------\u001b[0m",
      "\u001b[1;31mTypeError\u001b[0m                                 Traceback (most recent call last)",
      "Cell \u001b[1;32mIn[1], line 16\u001b[0m\n\u001b[0;32m     13\u001b[0m \u001b[38;5;28;01mclass\u001b[39;00m \u001b[38;5;21;01mchild\u001b[39;00m(sample):\n\u001b[0;32m     14\u001b[0m     \u001b[38;5;28;01mpass\u001b[39;00m\n\u001b[1;32m---> 16\u001b[0m xyz \u001b[38;5;241m=\u001b[39m \u001b[43mchild\u001b[49m\u001b[43m(\u001b[49m\u001b[43m)\u001b[49m       \u001b[38;5;66;03m#We can not create the object for child abstract class, \u001b[39;00m\n\u001b[0;32m     17\u001b[0m                     \u001b[38;5;66;03m#Because user is not defined the method (display method) in child class\u001b[39;00m\n",
      "\u001b[1;31mTypeError\u001b[0m: Can't instantiate abstract class child without an implementation for abstract method 'display'"
     ]
    }
   ],
   "source": [
    "#Developer point of view\n",
    "from abc import ABC, abstractmethod\n",
    "\n",
    "class sample(ABC):          #Fully abstract class\n",
    "\n",
    "    @abstractmethod         #abstractmethod decorator\n",
    "    def display(self):      #abstract object method(define)\n",
    "        pass         #no implementation\n",
    "\n",
    "# obj = sample()      #we can not create the object for full abstract class\n",
    "\n",
    "#user point of view\n",
    "class child(sample):\n",
    "    pass\n",
    "\n",
    "xyz = child()       #We can not create the object for child abstract class, \n",
    "                    #Because user is not defined the method (display method) in child class"
   ]
  },
  {
   "cell_type": "code",
   "execution_count": 5,
   "metadata": {},
   "outputs": [
    {
     "name": "stdout",
     "output_type": "stream",
     "text": [
      "Haiii\n"
     ]
    }
   ],
   "source": [
    "#TO OVERCOME ABOVE PROBLEMS \n",
    "#Developer point of view\n",
    "from abc import ABC, abstractmethod\n",
    "\n",
    "class sample(ABC):          #Fully abstract class\n",
    "\n",
    "    @abstractmethod         #abstractmethod decorator\n",
    "    def display(self):      #abstract object method(define)\n",
    "        pass         #no implementation\n",
    "\n",
    "# obj = sample()      #we can not create the object for full abstract class\n",
    "\n",
    "#user point of view\n",
    "class child(sample):\n",
    "    def display(self):\n",
    "        print('Haiii')\n",
    "\n",
    "xyz = child()       #We can create the object for child abstract class,Because user is defined the method (display method) in child class\n",
    "xyz.display()"
   ]
  },
  {
   "cell_type": "code",
   "execution_count": 8,
   "metadata": {},
   "outputs": [],
   "source": [
    "from abc import ABC, abstractmethod\n",
    "\n",
    "class Bank(ABC):\n",
    "    def __init__(self, name, age, phone, email, address):\n",
    "        self.name = name\n",
    "        self.age = age\n",
    "        self.phone = phone\n",
    "        self.email = email\n",
    "        self.address = address\n",
    "        self.password = None\n",
    "\n",
    "    @abstractmethod\n",
    "    def display(self):\n",
    "        pass\n",
    "\n",
    "    def modify_phone(self):\n",
    "        self.phone = int(input(\"Enter The Phone Number: \"))\n",
    "\n",
    "    @abstractmethod\n",
    "    def default_password(self):\n",
    "        pass\n",
    "\n",
    "\n",
    "class child(Bank):\n",
    "    def display(self):\n",
    "        print(self.name, self.age, self.phone, self.email, self.address)\n",
    "\n",
    "    def default_password(self):\n",
    "        self.password = input(\"Enter The Password: \")\n",
    "\n",
    "obj = child('Ram', 23, 9876543212, 'ram@gmail.com', 'hyd')\n",
    "obj.modify_phone()\n",
    "obj.default_password()"
   ]
  },
  {
   "cell_type": "code",
   "execution_count": 9,
   "metadata": {},
   "outputs": [
    {
     "data": {
      "text/plain": [
       "{'name': 'Ram',\n",
       " 'age': 23,\n",
       " 'phone': 9876543212,\n",
       " 'email': 'ram@gmail.com',\n",
       " 'address': 'hyd',\n",
       " 'password': '1234'}"
      ]
     },
     "execution_count": 9,
     "metadata": {},
     "output_type": "execute_result"
    }
   ],
   "source": [
    "obj.__dict__"
   ]
  },
  {
   "cell_type": "code",
   "execution_count": 5,
   "metadata": {},
   "outputs": [],
   "source": [
    "from abc import ABC, abstractmethod\n",
    "class Bankapp(ABC):\n",
    "\n",
    "    def database(self):\n",
    "        print('Connected to database')\n",
    "\n",
    "    @abstractmethod\n",
    "    def security(self):\n",
    "        pass"
   ]
  },
  {
   "cell_type": "code",
   "execution_count": 7,
   "metadata": {},
   "outputs": [
    {
     "name": "stdout",
     "output_type": "stream",
     "text": [
      "Connected to database\n",
      "mobile security\n",
      "login into mobile\n"
     ]
    }
   ],
   "source": [
    "class Mobileapp(Bankapp):\n",
    "\n",
    "    def mobile_login(self):\n",
    "        print('login into mobile')\n",
    "\n",
    "  \n",
    "    def security(self):\n",
    "        print('mobile security')\n",
    "\n",
    "obj = Mobileapp()\n",
    "obj.database()\n",
    "obj.security()\n",
    "obj.mobile_login()"
   ]
  }
 ],
 "metadata": {
  "kernelspec": {
   "display_name": "Python 3",
   "language": "python",
   "name": "python3"
  },
  "language_info": {
   "codemirror_mode": {
    "name": "ipython",
    "version": 3
   },
   "file_extension": ".py",
   "mimetype": "text/x-python",
   "name": "python",
   "nbconvert_exporter": "python",
   "pygments_lexer": "ipython3",
   "version": "3.12.0"
  }
 },
 "nbformat": 4,
 "nbformat_minor": 2
}
