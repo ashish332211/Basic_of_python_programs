{
 "cells": [
  {
   "cell_type": "code",
   "execution_count": 1,
   "metadata": {},
   "outputs": [
    {
     "name": "stdout",
     "output_type": "stream",
     "text": [
      "Addition of 5 and 4 is:  9\n",
      "Substration of 5 and 4 is:  1\n",
      "Multiplication of 5 and 4 is:  20\n",
      "Division of 5 and 4 is:  1.25\n"
     ]
    }
   ],
   "source": [
    "import calculator\n",
    "\n",
    "print(\"Addition of 5 and 4 is: \", calculator.add(5, 4))\n",
    "print(\"Substration of 5 and 4 is: \", calculator.substract(5, 4))\n",
    "print(\"Multiplication of 5 and 4 is: \", calculator.multiply(5, 4))\n",
    "print(\"Division of 5 and 4 is: \", calculator.devide(5, 4))\n"
   ]
  }
 ],
 "metadata": {
  "kernelspec": {
   "display_name": "Python 3",
   "language": "python",
   "name": "python3"
  },
  "language_info": {
   "codemirror_mode": {
    "name": "ipython",
    "version": 3
   },
   "file_extension": ".py",
   "mimetype": "text/x-python",
   "name": "python",
   "nbconvert_exporter": "python",
   "pygments_lexer": "ipython3",
   "version": "3.12.0"
  }
 },
 "nbformat": 4,
 "nbformat_minor": 2
}
