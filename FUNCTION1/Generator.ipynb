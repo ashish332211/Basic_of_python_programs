{
 "cells": [
  {
   "cell_type": "code",
   "execution_count": 1,
   "metadata": {},
   "outputs": [
    {
     "name": "stdout",
     "output_type": "stream",
     "text": [
      "10\n",
      "20\n",
      "30\n",
      "[10, 20, 30]\n",
      "()\n"
     ]
    }
   ],
   "source": [
    "#BY USING STATIC ITERATOR\n",
    "def sample():\n",
    "    a=10\n",
    "    print(a)\n",
    "    yield a\n",
    "    b=20\n",
    "    print(b)\n",
    "    yield b\n",
    "    c=30\n",
    "    print(c)\n",
    "    yield c\n",
    "\n",
    "temp = sample()\n",
    "print(list(temp))\n",
    "print(tuple(temp))"
   ]
  },
  {
   "cell_type": "code",
   "execution_count": 5,
   "metadata": {},
   "outputs": [
    {
     "name": "stdout",
     "output_type": "stream",
     "text": [
      "10\n",
      "10\n",
      "20\n",
      "20\n",
      "30\n",
      "30\n"
     ]
    }
   ],
   "source": [
    "#BY USING DYNAMIC ITERATOR\n",
    "def sample():\n",
    "    a=10\n",
    "    print(a)\n",
    "    yield a\n",
    "    b=20\n",
    "    print(b)\n",
    "    yield b\n",
    "    c=30\n",
    "    print(c)\n",
    "    yield c\n",
    "\n",
    "temp = sample()\n",
    "for i in temp:\n",
    "    print(i)"
   ]
  },
  {
   "cell_type": "code",
   "execution_count": 12,
   "metadata": {},
   "outputs": [
    {
     "name": "stdout",
     "output_type": "stream",
     "text": [
      "[10, 20, 50, 22, 72, 20, 44]\n",
      "[]\n"
     ]
    }
   ],
   "source": [
    "a=[10,20,50,63,77]\n",
    "b=[15.3,18.4,22,45.6,72]\n",
    "c=[20,44,23.5,34.6,76.89]\n",
    "\n",
    "def func(*args):\n",
    "    l=[]\n",
    "    for j in args:\n",
    "        for i in j:\n",
    "            if type(i) in [int,float] and i%2==0:\n",
    "                l+=[i]\n",
    "    print(l)\n",
    "    return l\n",
    "\n",
    "res=func(a,b,c)\n",
    "# print(res)\n",
    "res.clear()\n",
    "print(res)"
   ]
  },
  {
   "cell_type": "code",
   "execution_count": 15,
   "metadata": {},
   "outputs": [
    {
     "name": "stdout",
     "output_type": "stream",
     "text": [
      "[10, 20, 50, 22, 72, 20, 44]\n"
     ]
    }
   ],
   "source": [
    "#BY USING GENERATOR CONCEPT\n",
    "a=[10,20,50,63,77]\n",
    "b=[15.3,18.4,22,45.6,72]\n",
    "c=[20,44,23.5,34.6,76.89]\n",
    "def func(*args):\n",
    "    for j in args:\n",
    "        for i in j:\n",
    "            if type(i) in [int,float] and i%2==0:\n",
    "                yield i\n",
    "\n",
    "res=func(a,b,c)\n",
    "print(list(res))"
   ]
  }
 ],
 "metadata": {
  "kernelspec": {
   "display_name": "Python 3",
   "language": "python",
   "name": "python3"
  },
  "language_info": {
   "codemirror_mode": {
    "name": "ipython",
    "version": 3
   },
   "file_extension": ".py",
   "mimetype": "text/x-python",
   "name": "python",
   "nbconvert_exporter": "python",
   "pygments_lexer": "ipython3",
   "version": "3.12.0"
  }
 },
 "nbformat": 4,
 "nbformat_minor": 2
}
