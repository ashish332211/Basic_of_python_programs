{
 "cells": [
  {
   "cell_type": "code",
   "execution_count": 1,
   "metadata": {},
   "outputs": [
    {
     "name": "stdout",
     "output_type": "stream",
     "text": [
      "<class 'dict'> {10: 50.06, True: None, 'hai': [10, 20, 30], 'abc': (10, 20, 30), 'xyz': 156, 80: {'a': 'hello'}, False: True}\n",
      "<class 'str'> {\"10\": 50.06, \"true\": null, \"hai\": [10, 20, 30], \"abc\": [10, 20, 30], \"xyz\": 156, \"80\": {\"a\": \"hello\"}, \"false\": true}\n"
     ]
    }
   ],
   "source": [
    "#dumps\n",
    "import json\n",
    "\n",
    "d = {10:50.06, True:None, 'hai':[10, 20, 30], 'abc':(10,20,30), 'xyz':156, 80:{'a':'hello'}, False:True}\n",
    "print(type(d), d)\n",
    "res = json.dumps(d)\n",
    "print(type(res), res)\n",
    "\n",
    "#Note\n",
    "#Keys must be str, int, float, bool or None, not complex, bytes, tuple, list, set, dict\n",
    "#TypeError: Object of type complex or bytes or set is not JSON serializable\n",
    "#In json all the keys should be string format"
   ]
  },
  {
   "cell_type": "code",
   "execution_count": 2,
   "metadata": {},
   "outputs": [
    {
     "name": "stdout",
     "output_type": "stream",
     "text": [
      "<class 'dict'> {10: 50.06, True: None, 'hai': [10, 20, 30], 'abc': (10, 20, 30), 'xyz': 156, 80: {'a': 'hello'}, False: True}\n",
      "<class 'str'> {\"10\": 50.06, \"true\": null, \"hai\": [10, 20, 30], \"abc\": [10, 20, 30], \"xyz\": 156, \"80\": {\"a\": \"hello\"}, \"false\": true}\n"
     ]
    }
   ],
   "source": [
    "import json\n",
    "\n",
    "d = {10:50.06, True:None, 'hai':[10, 20, 30], 'abc':(10,20,30), 'xyz':156, 80:{'a':'hello'}, False:True}\n",
    "print(type(d), d)\n",
    "res = json.dumps(d)\n",
    "#It accept native data\n",
    "#It will convert native data to json data\n",
    "#It returns json data\n",
    "print(type(res), res)\n",
    "\n",
    "fp = open('file1.json', 'w')\n",
    "fp.write(res) #Write the json data\n",
    "fp.close() #Close file"
   ]
  },
  {
   "cell_type": "code",
   "execution_count": 4,
   "metadata": {},
   "outputs": [
    {
     "name": "stdout",
     "output_type": "stream",
     "text": [
      "<class 'dict'> {10: 50.06, True: None, 'hai': [10, 20, 30], 'abc': (10, 20, 30), 'xyz': 156, 80: {'a': 'hello'}, False: True}\n",
      "None\n"
     ]
    }
   ],
   "source": [
    "#dump\n",
    "#It will accept native data and file pointer address\n",
    "#It will converts native data to json data\n",
    "#It will store the json data inside the file\n",
    "#It will return None Value\n",
    "#Syntax: dump(object, filepointer)\n",
    "\n",
    "import json\n",
    "d = {10:50.06, True:None, 'hai':[10, 20, 30], 'abc':(10,20,30), 'xyz':156, 80:{'a':'hello'}, False:True}\n",
    "print(type(d), d)\n",
    "fp = open('file2.json', 'w')\n",
    "res = json.dump(d, fp)\n",
    "print(res)\n",
    "fp.close()"
   ]
  },
  {
   "cell_type": "code",
   "execution_count": 5,
   "metadata": {},
   "outputs": [
    {
     "name": "stdout",
     "output_type": "stream",
     "text": [
      "<class 'dict'> {10: 50.06, True: None, 'hai': [10, 20, 30], 'abc': (10, 20, 30), 'xyz': 156, 80: {'a': 'hello'}, False: True}\n",
      "<class 'str'> {\"10\": 50.06, \"true\": null, \"hai\": [10, 20, 30], \"abc\": [10, 20, 30], \"xyz\": 156, \"80\": {\"a\": \"hello\"}, \"false\": true}\n",
      "**********************************************************************************************************************************\n",
      "<class 'str'> {\"10\": 50.06, \"true\": null, \"hai\": [10, 20, 30], \"abc\": [10, 20, 30], \"xyz\": 156, \"80\": {\"a\": \"hello\"}, \"false\": true}\n",
      "<class 'dict'> {'10': 50.06, 'true': None, 'hai': [10, 20, 30], 'abc': [10, 20, 30], 'xyz': 156, '80': {'a': 'hello'}, 'false': True}\n"
     ]
    }
   ],
   "source": [
    "#loads\n",
    "import json\n",
    "\n",
    "d = {10:50.06, True:None, 'hai':[10, 20, 30], 'abc':(10,20,30), 'xyz':156, 80:{'a':'hello'}, False:True}\n",
    "print(type(d), d)\n",
    "res = json.dumps(d)\n",
    "print(type(res), res)\n",
    "\n",
    "print('*'*130)\n",
    "\n",
    "print(type(res), res)\n",
    "temp = json.loads(res)\n",
    "print(type(temp), temp)"
   ]
  },
  {
   "cell_type": "code",
   "execution_count": 6,
   "metadata": {},
   "outputs": [
    {
     "name": "stdout",
     "output_type": "stream",
     "text": [
      "{'10': 50.06, 'true': None, 'hai': [10, 20, 30], 'abc': [10, 20, 30], 'xyz': 156, '80': {'a': 'hello'}, 'false': True}\n"
     ]
    }
   ],
   "source": [
    "fp = open('file1.json', 'r')\n",
    "data = fp.read()\n",
    "res = json.loads(data)\n",
    "print(res)\n",
    "fp.close()"
   ]
  },
  {
   "cell_type": "code",
   "execution_count": 7,
   "metadata": {},
   "outputs": [
    {
     "name": "stdout",
     "output_type": "stream",
     "text": [
      "<class 'dict'> {'10': 50.06, 'true': None, 'hai': [10, 20, 30], 'abc': [10, 20, 30], 'xyz': 156, '80': {'a': 'hello'}, 'false': True}\n"
     ]
    }
   ],
   "source": [
    "#load\n",
    "import json\n",
    "fp = open('file2.json', 'r')\n",
    "res = json.load(fp)\n",
    "print(type(res), res)\n",
    "fp.close()"
   ]
  },
  {
   "cell_type": "code",
   "execution_count": null,
   "metadata": {},
   "outputs": [],
   "source": [
    "import pickle\n",
    "st = 'Good Afternoon'\n",
    "\n"
   ]
  },
  {
   "cell_type": "code",
   "execution_count": 3,
   "metadata": {},
   "outputs": [
    {
     "name": "stdout",
     "output_type": "stream",
     "text": [
      "<class 'list'> [10, 20, 50, 60]\n",
      "<class 'bytes'> b'\\x80\\x04\\x95\\r\\x00\\x00\\x00\\x00\\x00\\x00\\x00]\\x94(K\\nK\\x14K2K<e.'\n",
      "******************************************************************************************\n",
      "<class 'bytes'> b'\\x80\\x04\\x95\\r\\x00\\x00\\x00\\x00\\x00\\x00\\x00]\\x94(K\\nK\\x14K2K<e.'\n",
      "<class 'list'> [10, 20, 50, 60]\n"
     ]
    }
   ],
   "source": [
    "import pickle\n",
    "st = [10,20,50,60]\n",
    "print(type(st), st)\n",
    "res=pickle.dumps(st)\n",
    "print(type(res), res)\n",
    "\n",
    "print('*'*90)\n",
    "\n",
    "print(type(res), res)\n",
    "temp=pickle.loads(res)\n",
    "print(type(temp), temp)"
   ]
  },
  {
   "cell_type": "code",
   "execution_count": 4,
   "metadata": {},
   "outputs": [
    {
     "name": "stdout",
     "output_type": "stream",
     "text": [
      "<class 'list'> [10, 20, 50, 60]\n",
      "***********************************\n",
      "<class 'list'> [10, 20, 50, 60]\n"
     ]
    }
   ],
   "source": [
    "import pickle\n",
    "st = [10,20,50,60]\n",
    "print(type(st), st)\n",
    "res=pickle.dumps(st)       #Convert\n",
    "fp = open('file3.pkl', 'wb')\n",
    "fp.write(res)   #Storing\n",
    "fp.close()\n",
    "\n",
    "print('*'*35)\n",
    "\n",
    "fp = open('file3.pkl', 'rb')\n",
    "temp = fp.read()    #Fetch\n",
    "res = pickle.loads(temp)    #Convert\n",
    "print(type(res), res)"
   ]
  },
  {
   "cell_type": "code",
   "execution_count": 3,
   "metadata": {},
   "outputs": [],
   "source": [
    "import pickle\n",
    "st = {10:50.06, True:None, 'hai':[10, 20, 30], 'abc':(10,20,30), 'xyz':156, 80:{'a':'hello'}, False:True}\n",
    "fp = open('file4.pkl', 'wb')\n",
    "pickle.dump(st, fp)     #Convert and storing\n",
    "fp.close()"
   ]
  },
  {
   "cell_type": "code",
   "execution_count": 6,
   "metadata": {},
   "outputs": [
    {
     "name": "stdout",
     "output_type": "stream",
     "text": [
      "{10: 50.06, True: None, 'hai': [10, 20, 30], 'abc': (10, 20, 30), 'xyz': 156, 80: {'a': 'hello'}, False: True}\n"
     ]
    }
   ],
   "source": [
    "fp = open('file4.pkl', 'rb')\n",
    "res = pickle.load(fp)   #Fetch and convert\n",
    "print(res)\n",
    "fp.close()"
   ]
  }
 ],
 "metadata": {
  "kernelspec": {
   "display_name": "Python 3",
   "language": "python",
   "name": "python3"
  },
  "language_info": {
   "codemirror_mode": {
    "name": "ipython",
    "version": 3
   },
   "file_extension": ".py",
   "mimetype": "text/x-python",
   "name": "python",
   "nbconvert_exporter": "python",
   "pygments_lexer": "ipython3",
   "version": "3.12.0"
  }
 },
 "nbformat": 4,
 "nbformat_minor": 2
}
