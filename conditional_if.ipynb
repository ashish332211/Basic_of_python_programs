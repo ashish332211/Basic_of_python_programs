{
 "cells": [
  {
   "cell_type": "markdown",
   "metadata": {},
   "source": [
    "1.WAP to check whether a number is positive or negative. If Positive print positive \n",
    "message or else print Negative Number."
   ]
  },
  {
   "cell_type": "code",
   "execution_count": 2,
   "metadata": {},
   "outputs": [
    {
     "name": "stdout",
     "output_type": "stream",
     "text": [
      "positive\n"
     ]
    }
   ],
   "source": [
    "a=8\n",
    "if a>0:\n",
    "    print('positive')\n",
    "else:\n",
    "    print('Negetive')"
   ]
  },
  {
   "cell_type": "markdown",
   "metadata": {},
   "source": [
    "2.WAP to check whether a number is even or odd. If even, print message an even \n",
    "or else print message as odd."
   ]
  },
  {
   "cell_type": "code",
   "execution_count": 3,
   "metadata": {},
   "outputs": [
    {
     "name": "stdout",
     "output_type": "stream",
     "text": [
      "Odd\n"
     ]
    }
   ],
   "source": [
    "a=23\n",
    "if a%2==0:\n",
    "    print('Even')\n",
    "else:\n",
    "    print('Odd')"
   ]
  },
  {
   "cell_type": "markdown",
   "metadata": {},
   "source": [
    "3.Write a program to check whether a given number is greater than 10 or not. if it \n",
    "is greater than 10 print message as greater or else print that number with not a \n",
    "greater than."
   ]
  },
  {
   "cell_type": "code",
   "execution_count": 4,
   "metadata": {},
   "outputs": [
    {
     "name": "stdout",
     "output_type": "stream",
     "text": [
      "9 Not Greater\n"
     ]
    }
   ],
   "source": [
    "a=9\n",
    "if a>10:\n",
    "    print('Greater')\n",
    "else:\n",
    "    print(a,'Not Greater')"
   ]
  },
  {
   "cell_type": "markdown",
   "metadata": {},
   "source": [
    "4.WAP to check whether the given two input numbers are divisible by 3 and 5. If it \n",
    "is divisible, print “Good Morning”, if it is not divisible print “Good Evening”."
   ]
  },
  {
   "cell_type": "code",
   "execution_count": 5,
   "metadata": {},
   "outputs": [
    {
     "name": "stdout",
     "output_type": "stream",
     "text": [
      "Good Morning\n"
     ]
    }
   ],
   "source": [
    "a=30\n",
    "if a%3==0 and a%5==0:\n",
    "    print('Good Morning')\n",
    "else:\n",
    "    print('Good Evening')"
   ]
  },
  {
   "cell_type": "markdown",
   "metadata": {},
   "source": [
    "5.WAP to accept two integers and check whether those two values are equal or not.\n",
    "If equal, multiply to value or else to display the quotation value."
   ]
  },
  {
   "cell_type": "code",
   "execution_count": 2,
   "metadata": {},
   "outputs": [
    {
     "name": "stdout",
     "output_type": "stream",
     "text": [
      "1.4705882352941178\n"
     ]
    }
   ],
   "source": [
    "a=25\n",
    "b=17\n",
    "if a==b:\n",
    "    res=a*b\n",
    "    print(res)\n",
    "else:\n",
    "    res1=a/b\n",
    "    print(res1)"
   ]
  },
  {
   "cell_type": "markdown",
   "metadata": {},
   "source": [
    "6.WAP to find the largest of two numbers."
   ]
  },
  {
   "cell_type": "code",
   "execution_count": 3,
   "metadata": {},
   "outputs": [
    {
     "name": "stdout",
     "output_type": "stream",
     "text": [
      "a is largest\n"
     ]
    }
   ],
   "source": [
    "a=30\n",
    "b=25\n",
    "if a>b:\n",
    "    print('a is largest')\n",
    "else:\n",
    "    print('b is largest')"
   ]
  },
  {
   "cell_type": "markdown",
   "metadata": {},
   "source": [
    "7.WAP to check whether the input number is greater than 10 or not if it is greater \n",
    "than 10 print messages as greater with number. if it is not a greater than 10 print \n",
    "that number"
   ]
  },
  {
   "cell_type": "code",
   "execution_count": 4,
   "metadata": {},
   "outputs": [
    {
     "name": "stdout",
     "output_type": "stream",
     "text": [
      "8\n"
     ]
    }
   ],
   "source": [
    "a=8\n",
    "if a>10:\n",
    "    print('Greater')\n",
    "else:\n",
    "    print(a)"
   ]
  },
  {
   "cell_type": "markdown",
   "metadata": {},
   "source": [
    "8.WAP to the given number integer, if n is greater than 21,print the absolute \n",
    "difference between n and 21 otherwise print twice the absolute difference."
   ]
  },
  {
   "cell_type": "code",
   "execution_count": 6,
   "metadata": {},
   "outputs": [
    {
     "name": "stdout",
     "output_type": "stream",
     "text": [
      "12\n"
     ]
    }
   ],
   "source": [
    "n=15\n",
    "if a>21:\n",
    "    res=abs(n-21)\n",
    "    print(res)\n",
    "else:\n",
    "    res2=abs(n-21)*2\n",
    "    print(res2)"
   ]
  },
  {
   "cell_type": "markdown",
   "metadata": {},
   "source": [
    "9.WAP to find the smallest of two numbers"
   ]
  },
  {
   "cell_type": "code",
   "execution_count": 7,
   "metadata": {},
   "outputs": [
    {
     "name": "stdout",
     "output_type": "stream",
     "text": [
      "18\n"
     ]
    }
   ],
   "source": [
    "a=18\n",
    "b=25\n",
    "if a<b:\n",
    "    print(a)\n",
    "else:\n",
    "    print(b)"
   ]
  },
  {
   "cell_type": "markdown",
   "metadata": {},
   "source": [
    "10.WAP to check whether the given number is even or odd. If it is even then make \n",
    "it as an odd number, if it is an odd number then make it as even number."
   ]
  },
  {
   "cell_type": "code",
   "execution_count": 8,
   "metadata": {},
   "outputs": [
    {
     "name": "stdout",
     "output_type": "stream",
     "text": [
      "23\n"
     ]
    }
   ],
   "source": [
    "a=22\n",
    "if a%2==0:\n",
    "    res=a+1\n",
    "    print(res)\n",
    "else:\n",
    "    res2=a+1\n",
    "    print(res2)"
   ]
  },
  {
   "cell_type": "markdown",
   "metadata": {},
   "source": [
    "11.WAP to check whether the given number is divisible by 3 or not if yes, print the \n",
    "number or else print the cube of the numbers."
   ]
  },
  {
   "cell_type": "code",
   "execution_count": 11,
   "metadata": {},
   "outputs": [
    {
     "name": "stdout",
     "output_type": "stream",
     "text": [
      "32768\n"
     ]
    }
   ],
   "source": [
    "a=32\n",
    "if a%3==0:\n",
    "    print(a)\n",
    "else:\n",
    "    res=a**3\n",
    "    print(res)"
   ]
  },
  {
   "cell_type": "markdown",
   "metadata": {},
   "source": [
    "12.WAP to check whether the given input is divisible by 3 and 5. If yes print the \n",
    "actual number or else print string of that number."
   ]
  },
  {
   "cell_type": "code",
   "execution_count": 12,
   "metadata": {},
   "outputs": [
    {
     "name": "stdout",
     "output_type": "stream",
     "text": [
      "20 <class 'str'>\n"
     ]
    }
   ],
   "source": [
    "a=20\n",
    "if a%3==0 and a%5==0:\n",
    "    print(a)\n",
    "else:\n",
    "    res=str(a)\n",
    "    print(res,type(str(a)))"
   ]
  },
  {
   "cell_type": "markdown",
   "metadata": {},
   "source": [
    "13.WAP to check whether the given number lies between 1 to 19, if it is true square \n",
    "that number, if it is false cube that number and display the number"
   ]
  },
  {
   "cell_type": "code",
   "execution_count": 13,
   "metadata": {},
   "outputs": [
    {
     "name": "stdout",
     "output_type": "stream",
     "text": [
      "144\n"
     ]
    }
   ],
   "source": [
    "a=12\n",
    "if 1<=a<=19:\n",
    "    print(a**2)\n",
    "else:\n",
    "    print(a**3)"
   ]
  },
  {
   "cell_type": "markdown",
   "metadata": {},
   "source": [
    "14.WAP to check whether the student has passed or failed. If the student got more \n",
    "than 40 marks, print ‘PASS’ along with those marks, if it is not printed ‘FAIL’ along \n",
    "with those marks."
   ]
  },
  {
   "cell_type": "code",
   "execution_count": 15,
   "metadata": {},
   "outputs": [
    {
     "name": "stdout",
     "output_type": "stream",
     "text": [
      "30 Fail\n"
     ]
    }
   ],
   "source": [
    "mark=30\n",
    "if mark>40:\n",
    "    print(mark,'Pass')\n",
    "else:\n",
    "    print(mark,'Fail')"
   ]
  },
  {
   "cell_type": "markdown",
   "metadata": {},
   "source": [
    "15.WAP to check whether a given value is even and in range of 47 to 58 and not in 0 \n",
    "or odd. if condition is True, to perform display the ascii character. or else to \n",
    "perform floor division with 5 and display it."
   ]
  },
  {
   "cell_type": "code",
   "execution_count": 16,
   "metadata": {},
   "outputs": [
    {
     "name": "stdout",
     "output_type": "stream",
     "text": [
      "4\n"
     ]
    }
   ],
   "source": [
    "a=52\n",
    "if 47<=a<=58 and a%2==0:\n",
    "    print(chr(a))\n",
    "else:\n",
    "    print(52//5)"
   ]
  },
  {
   "cell_type": "markdown",
   "metadata": {},
   "source": [
    "16.WAP to check whether a given value is less than 125 and in between 47 to 125 or \n",
    "not. if condition is True, to perform store the given value as key and value as a \n",
    "character into the dict or else to append the value in list and display it."
   ]
  },
  {
   "cell_type": "code",
   "execution_count": 19,
   "metadata": {},
   "outputs": [
    {
     "name": "stdout",
     "output_type": "stream",
     "text": [
      "{110: 'n'}\n"
     ]
    }
   ],
   "source": [
    "a=110\n",
    "d={}\n",
    "l=[]\n",
    "if a<125 and 47<=a<=125:\n",
    "    d={a:chr(a)}\n",
    "    print(d)\n",
    "else:\n",
    "    l.append(a)\n",
    "    print(l)\n"
   ]
  },
  {
   "cell_type": "markdown",
   "metadata": {},
   "source": [
    "17.WAP to check whether a given character is in the alphabet or not. if alphabet, \n",
    "display the alphabet with character or else display the not alphabet with \n",
    "character."
   ]
  },
  {
   "cell_type": "code",
   "execution_count": 20,
   "metadata": {},
   "outputs": [
    {
     "name": "stdout",
     "output_type": "stream",
     "text": [
      "f alphabet\n"
     ]
    }
   ],
   "source": [
    "ch='f'\n",
    "if 'A'<=ch<='Z' or 'a'<=ch<='z':\n",
    "    print(ch,'alphabet')\n",
    "else:\n",
    "    print(ch,'not a alphabet')"
   ]
  },
  {
   "cell_type": "markdown",
   "metadata": {},
   "source": [
    "18.WAP to check whether a given character is uppercase or other character. if \n",
    "uppercase, display the uppercase with character or else display the other \n",
    "character with character."
   ]
  },
  {
   "cell_type": "code",
   "execution_count": 21,
   "metadata": {},
   "outputs": [
    {
     "name": "stdout",
     "output_type": "stream",
     "text": [
      "M Uppercase\n"
     ]
    }
   ],
   "source": [
    "ch='M'\n",
    "if 'A'<=ch<='Z':\n",
    "    print(ch,'Uppercase')\n",
    "else:\n",
    "    print(ch,'other character')"
   ]
  },
  {
   "cell_type": "markdown",
   "metadata": {},
   "source": [
    "19.WAP to check whether a given character is lowercase or other character. if \n",
    "lowercase, display the lowercase with character or else display the other\n",
    "character with character"
   ]
  },
  {
   "cell_type": "code",
   "execution_count": 22,
   "metadata": {},
   "outputs": [
    {
     "name": "stdout",
     "output_type": "stream",
     "text": [
      "n lowercase\n"
     ]
    }
   ],
   "source": [
    "ch='n'\n",
    "if 'a'<=ch<='z':\n",
    "    print(ch,'lowercase')\n",
    "else:\n",
    "    print(ch,'other character')"
   ]
  },
  {
   "cell_type": "markdown",
   "metadata": {},
   "source": [
    "20.WAP to check whether a given character is uppercase or other character. if \n",
    "uppercase, convert to lowercase .or else display the ascii number."
   ]
  },
  {
   "cell_type": "code",
   "execution_count": 23,
   "metadata": {},
   "outputs": [
    {
     "name": "stdout",
     "output_type": "stream",
     "text": [
      "110\n"
     ]
    }
   ],
   "source": [
    "ch='n'\n",
    "if 'A'<=ch<='Z':\n",
    "    print(ch.lower())\n",
    "else:\n",
    "    print(ord(ch))"
   ]
  },
  {
   "cell_type": "markdown",
   "metadata": {},
   "source": [
    "21.WAP to check whether the given character is in lowercase or uppercase. If it is \n",
    "in lowercase, convert it into uppercase, or else it is in uppercase and convert it \n",
    "into lowercase. Display the value"
   ]
  },
  {
   "cell_type": "code",
   "execution_count": 24,
   "metadata": {},
   "outputs": [
    {
     "name": "stdout",
     "output_type": "stream",
     "text": [
      "n\n"
     ]
    }
   ],
   "source": [
    "ch='N'\n",
    "if 'a'<=ch<='z':\n",
    "    print(ch.upper())\n",
    "else:\n",
    "    print(ch.lower())"
   ]
  },
  {
   "cell_type": "markdown",
   "metadata": {},
   "source": [
    "22.WAP to check whether the given string of the first character is a special symbol \n",
    "or not. If a special symbol, to extract and display the middle character or else to \n",
    "reverse the string and display the half of the string."
   ]
  },
  {
   "cell_type": "code",
   "execution_count": 45,
   "metadata": {},
   "outputs": [
    {
     "name": "stdout",
     "output_type": "stream",
     "text": [
      "hsi\n"
     ]
    }
   ],
   "source": [
    "s='ashish'\n",
    "if 0<=ord(s[0])<=47 or 58<=ord(s[0])<=64 or 91<=ord(s[0])<=96 or 123<=ord(s[0])<=127:\n",
    "    res=s[len(s)//2]\n",
    "    print(res)\n",
    "else:\n",
    "    rev=s[::-1]\n",
    "    print(rev[:len(rev)//2])"
   ]
  },
  {
   "cell_type": "markdown",
   "metadata": {},
   "source": [
    "23.WAP to check whether the input character is a vowel or not. If it is vowel print \n",
    "‘VOWEL’ along with that character, if it is not just print ‘CONSONANT’."
   ]
  },
  {
   "cell_type": "code",
   "execution_count": 27,
   "metadata": {},
   "outputs": [
    {
     "name": "stdout",
     "output_type": "stream",
     "text": [
      "e Vowel\n"
     ]
    }
   ],
   "source": [
    "ch='e'\n",
    "if ch in 'aeiouAEIOU':\n",
    "    print(ch,'Vowel')\n",
    "else:\n",
    "    print(ch,'Consonant')"
   ]
  },
  {
   "cell_type": "markdown",
   "metadata": {},
   "source": [
    "24.WAP to check whether a given character is a vowel or consonant. if vowel, to \n",
    "print the next character of a given character or else print previous characters"
   ]
  },
  {
   "cell_type": "code",
   "execution_count": 28,
   "metadata": {},
   "outputs": [
    {
     "name": "stdout",
     "output_type": "stream",
     "text": [
      "f\n"
     ]
    }
   ],
   "source": [
    "ch='g'\n",
    "if ch in 'aeiouAEIOU':\n",
    "    res=chr(ord(ch)+1)\n",
    "    print(res)\n",
    "else:\n",
    "    res2=chr(ord(ch)-1)\n",
    "    print(res2)"
   ]
  },
  {
   "cell_type": "markdown",
   "metadata": {},
   "source": [
    "25.WAP to check whether a given string of first character is alphabet or not\n",
    "if the alphabet prints, reverse the string or else print the middle character."
   ]
  },
  {
   "cell_type": "code",
   "execution_count": 33,
   "metadata": {},
   "outputs": [
    {
     "name": "stdout",
     "output_type": "stream",
     "text": [
      "hsihsa\n"
     ]
    }
   ],
   "source": [
    "s='ashish'\n",
    "if 'A'<=s[0]<='Z' or 'a'<=s[0]<='z':\n",
    "    rev=s[::-1]\n",
    "    print(rev)\n",
    "else:\n",
    "    print(s[len(s)//2])"
   ]
  },
  {
   "cell_type": "markdown",
   "metadata": {},
   "source": [
    "26.WAP to check whether the given input character is uppercase or lowercase. If \n",
    "the input character is upper case convert into lower case and vice versa."
   ]
  },
  {
   "cell_type": "code",
   "execution_count": 34,
   "metadata": {},
   "outputs": [
    {
     "name": "stdout",
     "output_type": "stream",
     "text": [
      "n\n"
     ]
    }
   ],
   "source": [
    "ch='N'\n",
    "if 'a'<=ch<='z':\n",
    "    print(ch.upper())\n",
    "else:\n",
    "    print(ch.lower())"
   ]
  },
  {
   "cell_type": "markdown",
   "metadata": {},
   "source": [
    "27.WAP to check whether a given string is less than 3 characters, to print the entire \n",
    "string otherwise to print after third positions to the remaining string."
   ]
  },
  {
   "cell_type": "code",
   "execution_count": 46,
   "metadata": {},
   "outputs": [
    {
     "name": "stdout",
     "output_type": "stream",
     "text": [
      "spiders\n"
     ]
    }
   ],
   "source": [
    "s='Pyspiders'\n",
    "if len(s)<3:\n",
    "    print(s)\n",
    "else:\n",
    "    res=s[2:]\n",
    "    print(res)"
   ]
  },
  {
   "cell_type": "markdown",
   "metadata": {},
   "source": [
    "28.WAP to check whether a given length of the string is even or not. if even, to \n",
    "append the new string called \"bye\" or else print the first and last characters."
   ]
  },
  {
   "cell_type": "code",
   "execution_count": 37,
   "metadata": {},
   "outputs": [
    {
     "name": "stdout",
     "output_type": "stream",
     "text": [
      "ashishbye\n"
     ]
    }
   ],
   "source": [
    "s='ashish'\n",
    "if len(s)%2==0:\n",
    "    res=s+'bye'\n",
    "    print(res)\n",
    "else:\n",
    "    print(s[0],s[-1])"
   ]
  },
  {
   "cell_type": "markdown",
   "metadata": {},
   "source": [
    "29.WAP to check whether a given length of the string is odd or not. if odd, to append \n",
    "the new string(\"Haii\") from the starting of the given string, or else to avoid the \n",
    "starting character and ending character of the given\n",
    "string and to display the remaining characters."
   ]
  },
  {
   "cell_type": "code",
   "execution_count": 41,
   "metadata": {},
   "outputs": [
    {
     "name": "stdout",
     "output_type": "stream",
     "text": [
      "shis\n"
     ]
    }
   ],
   "source": [
    "s='ashish'\n",
    "if len(s)%2==1:\n",
    "    res=s+'Hiii'\n",
    "    print(res)\n",
    "else:\n",
    "    res2=s[1:-1]\n",
    "    print(res2)"
   ]
  },
  {
   "cell_type": "markdown",
   "metadata": {},
   "source": [
    "30.WAP to check whether the last of the given string is a special character or not, if \n",
    "the special character prints reverse the string except the last character or else to \n",
    "check if the length of the string is odd or not, if odd to extract the middle \n",
    "character to the end of the string."
   ]
  },
  {
   "cell_type": "code",
   "execution_count": 66,
   "metadata": {},
   "outputs": [
    {
     "name": "stdout",
     "output_type": "stream",
     "text": [
      "redipsyp\n"
     ]
    }
   ],
   "source": [
    "s='pyspider@'\n",
    "if 0<=ord(s[-1])<=47 or 58<=ord(s[-1])<=64 or 91<=ord(s[-1])<=96 or 122<=ord(s[-1])<=127:\n",
    "    print(s[-2::-1])\n",
    "elif len(s)%2==1:\n",
    "    res=s[len(s)//2:]\n",
    "    print(res)\n"
   ]
  },
  {
   "cell_type": "markdown",
   "metadata": {},
   "source": [
    "31.WAP to check whether a given year is a leap year or not. if leap year, print leap \n",
    "year or else not a leap year."
   ]
  },
  {
   "cell_type": "code",
   "execution_count": 43,
   "metadata": {},
   "outputs": [
    {
     "name": "stdout",
     "output_type": "stream",
     "text": [
      "leap year\n"
     ]
    }
   ],
   "source": [
    "a=2020\n",
    "if a%4==0 and a%100!=0:\n",
    "    print('leap year')\n",
    "else:\n",
    "    print('Not a leap year')"
   ]
  },
  {
   "cell_type": "markdown",
   "metadata": {},
   "source": [
    "32.WAP to find out the greatest of two numbers and display the greatest number. if \n",
    "the greatest number, display the greatest message with value."
   ]
  },
  {
   "cell_type": "code",
   "execution_count": 44,
   "metadata": {},
   "outputs": [
    {
     "name": "stdout",
     "output_type": "stream",
     "text": [
      "40 is greatest\n"
     ]
    }
   ],
   "source": [
    "a=30\n",
    "b=40\n",
    "if a>b:\n",
    "    print(a,'is greatest')\n",
    "else:\n",
    "    print(b,'is greatest')"
   ]
  },
  {
   "cell_type": "markdown",
   "metadata": {},
   "source": [
    "33.WAP to check whether the given value is present inside the given collection or \n",
    "not.if value is present, display the value is available or else the value is not \n",
    "present."
   ]
  },
  {
   "cell_type": "code",
   "execution_count": 45,
   "metadata": {},
   "outputs": [
    {
     "name": "stdout",
     "output_type": "stream",
     "text": [
      "value is not available\n"
     ]
    }
   ],
   "source": [
    "a='x'\n",
    "b='c','d','e','f'\n",
    "if a in b:\n",
    "    print('value is available')\n",
    "else:\n",
    "    print('value is not available')"
   ]
  },
  {
   "cell_type": "markdown",
   "metadata": {},
   "source": [
    "34.WAP whether a given string, if string length is more than 2, then it displays a new \n",
    "string with the first and last characters switched, otherwise the display the 3 \n",
    "copies of given string."
   ]
  },
  {
   "cell_type": "code",
   "execution_count": 44,
   "metadata": {},
   "outputs": [
    {
     "name": "stdout",
     "output_type": "stream",
     "text": [
      "hshisA\n"
     ]
    }
   ],
   "source": [
    "s='Ashish'\n",
    "if len(s)>2:\n",
    "    res=s[-1]+s[1:-1]+s[0]\n",
    "    print(res)\n",
    "else:\n",
    "    print(s*3)"
   ]
  },
  {
   "cell_type": "markdown",
   "metadata": {},
   "source": [
    "35.WAP to check whether a given value is a list and first and last values should be \n",
    "integer if condition is satisfied first value is True division by 3 and perform the \n",
    "bitwise not for last value and those result values are stored in same positions in \n",
    "given list or else, to perform length of the collection power by 2 and display \n",
    "value."
   ]
  },
  {
   "cell_type": "code",
   "execution_count": 49,
   "metadata": {},
   "outputs": [
    {
     "name": "stdout",
     "output_type": "stream",
     "text": [
      "[3.3333333333333335, 20, 'a', 'b', -31]\n"
     ]
    }
   ],
   "source": [
    "a=[10,20,'a','b',30]\n",
    "if type(a[0])==int and type(a[-1])==int:\n",
    "    v1=a[0]/3\n",
    "    v2=~a[-1]\n",
    "    a[0]=v1\n",
    "    a[-1]=v2\n",
    "    print(a)\n",
    "else:\n",
    "    print(len(a)**2)"
   ]
  },
  {
   "cell_type": "markdown",
   "metadata": {},
   "source": [
    "36.WAP to check whether a given value is a string or not and length of the value \n",
    "should be more than 7, if condition is satisfied to append the new string in the \n",
    "middle of the given string or else to perform the replications with 3 and display \n",
    "the result."
   ]
  },
  {
   "cell_type": "code",
   "execution_count": 3,
   "metadata": {},
   "outputs": [
    {
     "name": "stdout",
     "output_type": "stream",
     "text": [
      "hydeHellorabad\n"
     ]
    }
   ],
   "source": [
    "a='hyderabad'\n",
    "if type(a)==str and len(a)>7:\n",
    "    res=a[:len(a)//2]+'Hello'+a[len(a)//2:]\n",
    "    print(res)\n",
    "else:\n",
    "    print(a*3)"
   ]
  },
  {
   "cell_type": "markdown",
   "metadata": {},
   "source": [
    "37.WAP to check if the given string of first and second character should be sequence \n",
    "or not. if the sequence prints the first, second and last two characters, or else the \n",
    "first half string is reversed and the remaining half string should be normal and \n",
    "display it."
   ]
  },
  {
   "cell_type": "code",
   "execution_count": 19,
   "metadata": {},
   "outputs": [
    {
     "name": "stdout",
     "output_type": "stream",
     "text": [
      "fecaghi\n"
     ]
    }
   ],
   "source": [
    "st='acefghi'\n",
    "if ord(st[0])+1==ord(st[1]):\n",
    "    print(st[0],st[1],st[-2:])\n",
    "else:\n",
    "    res=st[len(st)//2::-1]+st[len(st)//2+1:]\n",
    "    print(res)"
   ]
  },
  {
   "cell_type": "markdown",
   "metadata": {},
   "source": [
    "38.WAP to check whether a given value is present inside the collection or not. If \n",
    "present, print the value or else print value is not found."
   ]
  },
  {
   "cell_type": "code",
   "execution_count": 21,
   "metadata": {},
   "outputs": [
    {
     "name": "stdout",
     "output_type": "stream",
     "text": [
      "30\n"
     ]
    }
   ],
   "source": [
    "a=[10,20,30,40]\n",
    "b=30\n",
    "if b in a:\n",
    "    print(b)\n",
    "else:\n",
    "    print('Value not found')"
   ]
  },
  {
   "cell_type": "markdown",
   "metadata": {},
   "source": [
    "39.WAP to check whether a given key is present in the dict or not. if key is present: \n",
    "display the value or else add key and new value inside the dict."
   ]
  },
  {
   "cell_type": "code",
   "execution_count": null,
   "metadata": {},
   "outputs": [
    {
     "name": "stdout",
     "output_type": "stream",
     "text": [
      "{'a': 10, 'b': 20, 'c': 30, 'x': 100}\n"
     ]
    }
   ],
   "source": [
    "d={'a':10,'b':20,'c':30}\n",
    "k='m'\n",
    "if k in d:\n",
    "    print(d['m'])\n",
    "else:\n",
    "    d['x']=100\n",
    "    print(d)"
   ]
  },
  {
   "cell_type": "markdown",
   "metadata": {},
   "source": [
    "40.WAP to check whether a given collection is set or not. if set, append the new \n",
    "value, or else eliminate the duplicate values in collection. final results should be \n",
    "set type"
   ]
  },
  {
   "cell_type": "code",
   "execution_count": 42,
   "metadata": {},
   "outputs": [
    {
     "name": "stdout",
     "output_type": "stream",
     "text": [
      "{50, 20, 40, 10, 30}\n"
     ]
    }
   ],
   "source": [
    "s={10,20,30,30,40}\n",
    "if type(s)==set:\n",
    "    s|={50}\n",
    "    print(s)\n",
    "else:\n",
    "    print(set(s))"
   ]
  },
  {
   "cell_type": "markdown",
   "metadata": {},
   "source": [
    "41.WAP to read the age of a candidate and determine whether it is eligible for \n",
    "his/her own vote or not.it eligible print age and eligible messages or else print \n",
    "not eligible."
   ]
  },
  {
   "cell_type": "code",
   "execution_count": 31,
   "metadata": {},
   "outputs": [
    {
     "name": "stdout",
     "output_type": "stream",
     "text": [
      "Eligible for Vote\n"
     ]
    }
   ],
   "source": [
    "cand=int(input('Enter age of Candidate:'))\n",
    "if cand>18:\n",
    "    print('Eligible for Vote')\n",
    "else:\n",
    "    print(cand)"
   ]
  },
  {
   "cell_type": "markdown",
   "metadata": {},
   "source": [
    "42.WAP to check whether a given value is even and in between 47 to 58 and not in \n",
    "0 or odd. if condition is True, to perform display the ascii character or else to \n",
    "perform floor division with 5 and display it."
   ]
  },
  {
   "cell_type": "code",
   "execution_count": 4,
   "metadata": {},
   "outputs": [
    {
     "name": "stdout",
     "output_type": "stream",
     "text": [
      "4\n"
     ]
    }
   ],
   "source": [
    "a=52\n",
    "if a%2==0 and 47<=a<=58:\n",
    "    print(chr(a))\n",
    "else:\n",
    "    print(a//5)"
   ]
  },
  {
   "cell_type": "markdown",
   "metadata": {},
   "source": [
    "43.WAP to check whether the given string is palindrome or not if it is a palindrome \n",
    "string palindrome along with the string if it is not a palindrome print not \n",
    "palindrome"
   ]
  },
  {
   "cell_type": "code",
   "execution_count": 5,
   "metadata": {},
   "outputs": [
    {
     "name": "stdout",
     "output_type": "stream",
     "text": [
      "madam Palindrome\n"
     ]
    }
   ],
   "source": [
    "a='madam'\n",
    "rev=a[::-1]\n",
    "if a==rev:\n",
    "    print(a,'Palindrome')\n",
    "else:\n",
    "    print('Not Palindrome')"
   ]
  },
  {
   "cell_type": "markdown",
   "metadata": {},
   "source": [
    "44.WAP to check whether a given number is palindrome or not. If palindrome, \n",
    "display the given value as a palindrome or else not a palindrome."
   ]
  },
  {
   "cell_type": "code",
   "execution_count": 27,
   "metadata": {},
   "outputs": [
    {
     "name": "stdout",
     "output_type": "stream",
     "text": [
      "1001 Palindrome\n"
     ]
    }
   ],
   "source": [
    "a=1001\n",
    "a=str(a)\n",
    "rev=a[::-1]\n",
    "if a==rev:\n",
    "    print(a,'Palindrome')\n",
    "else:\n",
    "    print('Not Palindrome')"
   ]
  },
  {
   "cell_type": "markdown",
   "metadata": {},
   "source": [
    "45.WAP to check length of both string collections are equal or not. if both are equal \n",
    "print the concat the two strings and display, or else if any one of the collection \n",
    "not equal print both the collections with lengths"
   ]
  },
  {
   "cell_type": "code",
   "execution_count": 10,
   "metadata": {},
   "outputs": [
    {
     "name": "stdout",
     "output_type": "stream",
     "text": [
      "Hello 5 Worlddd 7\n"
     ]
    }
   ],
   "source": [
    "a='Hello'\n",
    "b='Worlddd'\n",
    "if len(a)==len(b):\n",
    "    print(a+b)\n",
    "else:\n",
    "    print(a,len(a),  b,len(b))"
   ]
  },
  {
   "cell_type": "markdown",
   "metadata": {},
   "source": [
    "46.WAP to check whether both given values point to the same memory location or \n",
    "not. if it is true print the middle item of the second collection, or else if it is false \n",
    "print the first item and last item of the first collection along with the memory \n",
    "address."
   ]
  },
  {
   "cell_type": "code",
   "execution_count": 6,
   "metadata": {},
   "outputs": [],
   "source": [
    "a=10\n",
    "b=20"
   ]
  },
  {
   "cell_type": "markdown",
   "metadata": {},
   "source": [
    "47.WAP to check whether a given string collection is more than ten, and the first + \n",
    "last character of the ascii values should be divisible by 5, if condition is satisfied \n",
    "print first, middle, last characters ASCII values or else print the string three \n",
    "times."
   ]
  },
  {
   "cell_type": "code",
   "execution_count": 29,
   "metadata": {},
   "outputs": [
    {
     "name": "stdout",
     "output_type": "stream",
     "text": [
      "99 114 101\n"
     ]
    }
   ],
   "source": [
    "a='cybercrimeeee'\n",
    "if len(a)>10 and (ord(a[0]) + ord(a[-1]))%5==0:\n",
    "    first=ord(a[0])\n",
    "    middle=ord(a[len(a)//2])\n",
    "    last=ord(a[-1])\n",
    "    print(first,middle,last)\n",
    "else:\n",
    "    print(a*3)"
   ]
  },
  {
   "cell_type": "markdown",
   "metadata": {},
   "source": [
    "48.WAP to check whether the middle of the item present in the list is string data type \n",
    "or not if it is string print that list or else if it is not string then print that middle \n",
    "item."
   ]
  },
  {
   "cell_type": "code",
   "execution_count": 20,
   "metadata": {},
   "outputs": [
    {
     "name": "stdout",
     "output_type": "stream",
     "text": [
      "[10, 20, 'Ashish', 30, 40]\n"
     ]
    }
   ],
   "source": [
    "a=[10,20,'Ashish',30,40]\n",
    "if type(a[len(a)//2])==str:\n",
    "    print(a)\n",
    "else:\n",
    "    print(a[len(a)//2],'It is not a string')"
   ]
  },
  {
   "cell_type": "markdown",
   "metadata": {},
   "source": [
    "49.WAP Given a string, return a new string where the first and last characters have \n",
    "been exchanged."
   ]
  },
  {
   "cell_type": "code",
   "execution_count": 33,
   "metadata": {},
   "outputs": [
    {
     "name": "stdout",
     "output_type": "stream",
     "text": [
      "hshisA\n"
     ]
    }
   ],
   "source": [
    "a='Ashish'\n",
    "res=a[-1]+a[1:-1]+a[0]\n",
    "print(res)"
   ]
  },
  {
   "cell_type": "markdown",
   "metadata": {},
   "source": [
    "50.Write a program to find out such numbers which are divisible by 7 but are not a \n",
    "multiple of 5. Both the conditional is satisfied and print actual value. if one \n",
    "condition is not satisfied actual number is multiply by 4 and print result"
   ]
  },
  {
   "cell_type": "code",
   "execution_count": 34,
   "metadata": {},
   "outputs": [
    {
     "name": "stdout",
     "output_type": "stream",
     "text": [
      "49\n"
     ]
    }
   ],
   "source": [
    "a=49\n",
    "if a%7==0 and a%5!=0:\n",
    "    print(a)\n",
    "else:\n",
    "    print(a*4)"
   ]
  },
  {
   "cell_type": "markdown",
   "metadata": {},
   "source": [
    "51.WAP to check whether two values are pointing to the same memory address or \n",
    "not. If the same memory displays the address or else displays the two values \n",
    "addresses."
   ]
  },
  {
   "cell_type": "code",
   "execution_count": 35,
   "metadata": {},
   "outputs": [
    {
     "name": "stdout",
     "output_type": "stream",
     "text": [
      "140711629351240\n"
     ]
    }
   ],
   "source": [
    "a=50\n",
    "b=50\n",
    "if id(a)==id(b):\n",
    "    print(id(a))\n",
    "else:\n",
    "    print(id(a),id(b))"
   ]
  },
  {
   "cell_type": "markdown",
   "metadata": {},
   "source": [
    "52.WAP to check whether a given input character is a special symbol or not if it is a \n",
    "special symbol then print that character three times and tell print that character \n",
    "5 times."
   ]
  },
  {
   "cell_type": "code",
   "execution_count": 67,
   "metadata": {},
   "outputs": [
    {
     "name": "stdout",
     "output_type": "stream",
     "text": [
      "###\n"
     ]
    }
   ],
   "source": [
    "a='#'\n",
    "if 0<=ord(a)<=47 or 58<=ord(a)<=64 or 91<=ord(a)<=96 or 122<=ord(a)<=127:\n",
    "    print(a*3)\n",
    "else:\n",
    "    print(a*5)"
   ]
  },
  {
   "cell_type": "markdown",
   "metadata": {},
   "source": [
    "53.WAP to check length of both string collections equal or not if it is equal print the \n",
    "connection of any one of the collections if it is not equal print both the collection."
   ]
  },
  {
   "cell_type": "code",
   "execution_count": null,
   "metadata": {},
   "outputs": [],
   "source": []
  },
  {
   "cell_type": "markdown",
   "metadata": {},
   "source": [
    "54.WAP To check whether both input variables point to the same memory location \n",
    "or not if it is true print the last item of the second collection, if it is false print the \n",
    "first item of the first collection along with the memory address."
   ]
  },
  {
   "cell_type": "code",
   "execution_count": null,
   "metadata": {},
   "outputs": [],
   "source": []
  },
  {
   "cell_type": "markdown",
   "metadata": {},
   "source": [
    "55.WAP to print the string collection five times when the length of the string \n",
    "collection should be more than 3 and the middle character of the string should \n",
    "be vowel and the first character ASCII value should be even, to print the previous \n",
    "character of middle character, or else if ASCII value is odd then print the string \n",
    "three times as print that string."
   ]
  },
  {
   "cell_type": "code",
   "execution_count": 1,
   "metadata": {},
   "outputs": [
    {
     "name": "stdout",
     "output_type": "stream",
     "text": [
      "hello\n"
     ]
    }
   ],
   "source": [
    "s='pyspiders'\n",
    "if len(s)>3 and (len(s)//2) in 'aeiouAEIOU' and ord(s[0])%2==0"
   ]
  },
  {
   "cell_type": "markdown",
   "metadata": {},
   "source": [
    "56.Ravi would like to buy a new cello or red pen. The cost of the pen should be 10. \n",
    "If the pen is available in the shop, he will buy the pen. If it is not there he will \n",
    "come out of the shop."
   ]
  },
  {
   "cell_type": "code",
   "execution_count": 5,
   "metadata": {},
   "outputs": [
    {
     "name": "stdout",
     "output_type": "stream",
     "text": [
      "he will buy the pen\n"
     ]
    }
   ],
   "source": [
    "d={'cello pen':10,'red pen':15,'black pen':20}\n",
    "if 'cello pen' in d or 'red pen' in d:\n",
    "    print('he will buy the pen')\n",
    "else:\n",
    "    print('he will come out')"
   ]
  },
  {
   "cell_type": "markdown",
   "metadata": {},
   "source": [
    "57.WAP to perform addition and subtraction operation by using list collection if the \n",
    "first and middle data items number are even performing addition operation, or \n",
    "else performing subtraction."
   ]
  },
  {
   "cell_type": "markdown",
   "metadata": {},
   "source": [
    "58.WAP to check whether the first item of these two lists is either integer or not. \n",
    "If it is an integer, concatenate these two lists or else print the memory \n",
    "address of these two lists."
   ]
  }
 ],
 "metadata": {
  "kernelspec": {
   "display_name": "Python 3",
   "language": "python",
   "name": "python3"
  },
  "language_info": {
   "codemirror_mode": {
    "name": "ipython",
    "version": 3
   },
   "file_extension": ".py",
   "mimetype": "text/x-python",
   "name": "python",
   "nbconvert_exporter": "python",
   "pygments_lexer": "ipython3",
   "version": "3.11.4"
  },
  "orig_nbformat": 4
 },
 "nbformat": 4,
 "nbformat_minor": 2
}
