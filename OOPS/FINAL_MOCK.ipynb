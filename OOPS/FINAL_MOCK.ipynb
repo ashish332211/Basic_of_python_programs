{
 "cells": [
  {
   "cell_type": "code",
   "execution_count": 54,
   "metadata": {},
   "outputs": [
    {
     "data": {
      "text/plain": [
       "{'e_name': 'Dkjdhfkgkp',\n",
       " 'e_phone': '9876543986',\n",
       " 'e_salary': '25000',\n",
       " 'e_address': 'hyd',\n",
       " 'e_domain': 'Software Developer',\n",
       " 'e_email': 'ashish@gmail.com',\n",
       " 'emp_id': 1204}"
      ]
     },
     "execution_count": 54,
     "metadata": {},
     "output_type": "execute_result"
    }
   ],
   "source": [
    "class company:\n",
    "    cname = 'DRIEMS'\n",
    "    tollno = 12009867334\n",
    "    emp_count = 0\n",
    "    emp_details = {}\n",
    "    \n",
    "    def __init__(self, e_name, e_phone, e_salary, e_address, e_domain, e_email):\n",
    "        self.e_name = e_name\n",
    "        self.e_phone = e_phone\n",
    "        self.e_salary = e_salary\n",
    "        self.e_address = e_address\n",
    "        self.e_domain = e_domain\n",
    "        self.e_email = e_email\n",
    "        self.inc_emp_count()\n",
    "        self.emp_id = 1200 + self.emp_count\n",
    "        self.set_emp_details(self.emp_id, self)\n",
    "\n",
    "\n",
    "    @classmethod\n",
    "    def inc_emp_count(cls):\n",
    "        cls.emp_count+=1\n",
    "\n",
    "    @classmethod\n",
    "    def set_emp_details(cls, id, self):\n",
    "        cls.emp_details[id] = self\n",
    "\n",
    "    \n",
    "    @classmethod\n",
    "    def display_emp_details(cls):\n",
    "        e_list = cls.emp_details\n",
    "        print('NAME','PHONE','SALARY','ADDRESS','DOMAIN','EMAIL', sep='   |   ')\n",
    "        for i in e_list:\n",
    "            print(e_list[i].e_name, \n",
    "                  e_list[i].e_phone, \n",
    "                  e_list[i].e_salary,\n",
    "                  e_list[i].e_address,\n",
    "                  e_list[i].e_domain,\n",
    "                  e_list[i].e_email, sep='         ')\n",
    "    \n",
    "    \n",
    "    def apply_salary_hike():\n",
    "        print('After Hike...Ashish salary is',18000 + (18000*(4/100)))\n",
    "        print('After Hike...Manish salary is',18000 + (18000*(4/100)))\n",
    "        print('After Hike...Dillip salary is',18000 + (18000*(4/100)))\n",
    "    \n",
    "    # def display_spc_emp_details(self):\n",
    "    #     u_id = int(input(\"Enter Student ID: \"))\n",
    "    #     if u_id in self.emp_details:\n",
    "    #         res=self.emp_details[u_id]\n",
    "    #         print('EMPLOYEE Name: ', res.e_name)\n",
    "    #         print('EMPLOYEE Phone: ', res.e_phone)\n",
    "    #         print('EMPLOYEE Email: ', res.e_email)\n",
    "    #         print('EMPLOYEE Address: ', res.e_address)\n",
    "    #         print('EMPLOYEE Domain: ', res.e_domain)\n",
    "    #         print('EMPLOYEE Salary: ', res.e_salary)\n",
    "\n",
    "    #     else:\n",
    "    #         print('Invalid Id.....Please Enter A valid ID')\n",
    "\n",
    "    @staticmethod\n",
    "    def success():\n",
    "        print('---------------')\n",
    "        print('THANK YOU')\n",
    "        print('---------------')\n",
    "\n",
    "\n",
    "    \n",
    "emp1 = company('Ashish', '9876543212', '18000', 'hyd','Test Engineer' ,'ashish@gmail.com' )\n",
    "emp2 = company('Manish', '9876543345', '22000', 'hyd','Software Engineer' ,'ashish@gmail.com' )\n",
    "emp3 = company('Dillip', '9876543986', '25000', 'hyd','Software Developer' ,'ashish@gmail.com' )\n",
    "emp4 = company('Dkjdhfkgkp', '9876543986', '25000', 'hyd','Software Developer' ,'ashish@gmail.com' )\n",
    "\n",
    "\n",
    "# company.display_emp_details()\n",
    "# company.apply_salary_hike()\n",
    "# company.success()\n",
    "company.emp_details[1204].__dict__\n",
    "\n"
   ]
  },
  {
   "cell_type": "code",
   "execution_count": 55,
   "metadata": {},
   "outputs": [
    {
     "name": "stdout",
     "output_type": "stream",
     "text": [
      "1\n",
      "2\n",
      "3\n",
      "5\n",
      "8\n",
      "13\n",
      "21\n",
      "34\n",
      "55\n",
      "89\n"
     ]
    }
   ],
   "source": [
    "a=0\n",
    "b=1\n",
    "i=1\n",
    "while i<=10:\n",
    "    c=a+b\n",
    "    print(c)\n",
    "    a,b=b,c\n",
    "    i+=1"
   ]
  },
  {
   "cell_type": "code",
   "execution_count": null,
   "metadata": {},
   "outputs": [],
   "source": [
    "a=0\n",
    "b=1\n",
    "for i in range(1, 10):\n",
    "    c=a+b\n",
    "    print(c)\n",
    "    a,b="
   ]
  },
  {
   "cell_type": "code",
   "execution_count": null,
   "metadata": {},
   "outputs": [],
   "source": []
  }
 ],
 "metadata": {
  "kernelspec": {
   "display_name": "Python 3",
   "language": "python",
   "name": "python3"
  },
  "language_info": {
   "codemirror_mode": {
    "name": "ipython",
    "version": 3
   },
   "file_extension": ".py",
   "mimetype": "text/x-python",
   "name": "python",
   "nbconvert_exporter": "python",
   "pygments_lexer": "ipython3",
   "version": "3.12.0"
  }
 },
 "nbformat": 4,
 "nbformat_minor": 2
}
