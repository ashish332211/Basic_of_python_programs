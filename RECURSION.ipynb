{
 "cells": [
  {
   "cell_type": "code",
   "execution_count": 9,
   "metadata": {},
   "outputs": [
    {
     "name": "stdout",
     "output_type": "stream",
     "text": [
      "1 Hiii\n",
      "2 Hiii\n",
      "3 Hiii\n",
      "4 Hiii\n",
      "5 Hiii\n",
      "6 Hiii\n",
      "7 Hiii\n",
      "8 Hiii\n",
      "9 Hiii\n"
     ]
    }
   ],
   "source": [
    "#WAP to print 'Hii' n times by using recursion\n",
    "def sample(s=0,e=5):\n",
    "    if s==e:\n",
    "        return\n",
    "    print(s,'Hiii')\n",
    "    sample(s+1,e)\n",
    "sample(1,10)"
   ]
  },
  {
   "cell_type": "markdown",
   "metadata": {},
   "source": [
    "WAP to print the nth table from 1 to 10"
   ]
  },
  {
   "cell_type": "code",
   "execution_count": 27,
   "metadata": {},
   "outputs": [
    {
     "name": "stdout",
     "output_type": "stream",
     "text": [
      "4  *  1 = 4\n",
      "4  *  2 = 8\n",
      "4  *  3 = 12\n",
      "4  *  4 = 16\n",
      "4  *  5 = 20\n",
      "4  *  6 = 24\n",
      "4  *  7 = 28\n",
      "4  *  8 = 32\n",
      "4  *  9 = 36\n",
      "4  *  10 = 40\n",
      "5 * 1 = 5\n",
      "5 * 2 = 10\n",
      "5 * 3 = 15\n",
      "5 * 4 = 20\n",
      "5 * 5 = 25\n"
     ]
    }
   ],
   "source": [
    "#USING RECURSION\n",
    "def sample(n=3,s=1,e=10):\n",
    "    if s==e+1:\n",
    "        return\n",
    "    print(n,' * ',s, '=', n*s)\n",
    "    sample(n,s+1,e)\n",
    "sample(4,1,10)\n",
    "\n",
    "#USING WHILE LOOP\n",
    "def table(n=5,s=1,e=5):\n",
    "    while s<e+1:\n",
    "        print(n,'*',s,'=',n*s)\n",
    "        s+=1\n",
    "table()"
   ]
  },
  {
   "cell_type": "markdown",
   "metadata": {},
   "source": [
    "WAP to convert uppercase to lowercase and lowercase to uppercase"
   ]
  },
  {
   "cell_type": "code",
   "execution_count": 32,
   "metadata": {},
   "outputs": [
    {
     "name": "stdout",
     "output_type": "stream",
     "text": [
      "hello WORLD\n",
      "hello WORLD\n",
      "None\n"
     ]
    }
   ],
   "source": [
    "#USING FUNCTION\n",
    "def swapcase(st='HELLO world',i=0,res=''):\n",
    "    while i<len(st):\n",
    "        if 'A'<=st[i]<='Z':\n",
    "            res+=chr(ord(st[i])+32)\n",
    "        elif 'a'<=st[i]<='z':\n",
    "            res+=chr(ord(st[i])-32)\n",
    "        else:\n",
    "            res+=st[i]\n",
    "        i+=1\n",
    "    return res\n",
    "print(swapcase())\n",
    "\n",
    "#USING RECURSION\n",
    "def swapcase(st='HELLO world',i=0,res=''):\n",
    "    if i==len(st):\n",
    "        print(res)\n",
    "        return\n",
    "    if 'A'<=st[i]<='Z':\n",
    "        res+=chr(ord(st[i])+32)\n",
    "    elif 'a'<=st[i]<='z':\n",
    "        res+=chr(ord(st[i])-32)\n",
    "    else:\n",
    "        res+=st[i]\n",
    "    swapcase(st,i+1,res)\n",
    "print(swapcase())"
   ]
  },
  {
   "cell_type": "code",
   "execution_count": 11,
   "metadata": {},
   "outputs": [
    {
     "data": {
      "text/plain": [
       "120"
      ]
     },
     "execution_count": 11,
     "metadata": {},
     "output_type": "execute_result"
    }
   ],
   "source": [
    "def fact(num,prod=1):\n",
    "    if num==0:\n",
    "        return prod\n",
    "    prod*=num\n",
    "    return fact(num-1,prod)\n",
    "fact(5)"
   ]
  }
 ],
 "metadata": {
  "kernelspec": {
   "display_name": "Python 3",
   "language": "python",
   "name": "python3"
  },
  "language_info": {
   "codemirror_mode": {
    "name": "ipython",
    "version": 3
   },
   "file_extension": ".py",
   "mimetype": "text/x-python",
   "name": "python",
   "nbconvert_exporter": "python",
   "pygments_lexer": "ipython3",
   "version": "3.12.0"
  }
 },
 "nbformat": 4,
 "nbformat_minor": 2
}
