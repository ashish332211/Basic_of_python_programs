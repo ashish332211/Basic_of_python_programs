{
 "cells": [
  {
   "cell_type": "code",
   "execution_count": 4,
   "metadata": {},
   "outputs": [
    {
     "name": "stdout",
     "output_type": "stream",
     "text": [
      "aeknbd\n"
     ]
    }
   ],
   "source": [
    "st = 'a4k3b2'\n",
    "# op : 'aeknbd'\n",
    "res=''\n",
    "for i in range(0, len(st)):\n",
    "    if '0' <= st[i] <= '9':\n",
    "        res += chr(ord(st[i-1]) + int(st[i]))\n",
    "    else:\n",
    "        res+=st[i]\n",
    "print(res)\n"
   ]
  },
  {
   "cell_type": "code",
   "execution_count": 7,
   "metadata": {},
   "outputs": [
    {
     "name": "stdout",
     "output_type": "stream",
     "text": [
      "one owt three ruof five xis \n"
     ]
    }
   ],
   "source": [
    "# ip : 'one two three four five six'\n",
    "# op : 'one owt three ruof five xis'\n",
    "\n",
    "st = 'one two three four five six'\n",
    "st = st.split()\n",
    "res = ''\n",
    "for i in range(len(st)):\n",
    "    if i%2==0:\n",
    "        res+=st[i]+' '\n",
    "    else:\n",
    "        res+=st[i][::-1]+' '\n",
    "print(res)\n",
    "        "
   ]
  },
  {
   "cell_type": "code",
   "execution_count": 11,
   "metadata": {},
   "outputs": [
    {
     "name": "stdout",
     "output_type": "stream",
     "text": [
      "[2, 4, 6, 8, 1, 3, 5, 7, 9]\n"
     ]
    }
   ],
   "source": [
    "l = [1,2,3,4,5,6,7,8,9]\n",
    "even, odd =[] , []\n",
    "for i in l:\n",
    "    if i%2==0:\n",
    "        even += [i]\n",
    "    else:\n",
    "        odd += [i]\n",
    "print(even + odd)"
   ]
  },
  {
   "cell_type": "code",
   "execution_count": null,
   "metadata": {},
   "outputs": [],
   "source": [
    "# op : 'si23eman45ym'\n",
    "st = 'my23name45is'\n",
    "res = ''\n",
    "l = []\n",
    "for i in st:\n",
    "    if 'a'<=i<='z':\n",
    "        res+=i"
   ]
  },
  {
   "cell_type": "code",
   "execution_count": 14,
   "metadata": {},
   "outputs": [
    {
     "name": "stdout",
     "output_type": "stream",
     "text": [
      "{'fruit': ['orange', 'banana'], 'vegetable': ['potato']}\n"
     ]
    }
   ],
   "source": [
    "# ip: {'orange':'fruit', 'potato':'vegetable', 'banana':'fruit'}\n",
    "# op:{'fruit':['orange','banana'], 'vegetable':['potato']}\n",
    "\n",
    "d = {'orange':'fruit', 'potato':'vegetable', 'banana':'fruit'}\n",
    "d1 = {}\n",
    "for i in d:\n",
    "    if d[i] not in d1:\n",
    "        d1[d[i]] = [i]\n",
    "    else:\n",
    "        d1[d[i]] += [i]\n",
    "print(d1)"
   ]
  },
  {
   "cell_type": "code",
   "execution_count": 15,
   "metadata": {},
   "outputs": [
    {
     "name": "stdout",
     "output_type": "stream",
     "text": [
      "abcaabbaaa"
     ]
    }
   ],
   "source": [
    "# op: 'abcaabbaaa'\n",
    "st = 'abcaba'\n",
    "d={}\n",
    "for i in st:\n",
    "    if i not in d:\n",
    "        d[i] = 1\n",
    "        print(i, end='')\n",
    "    else:\n",
    "        d[i] += 1\n",
    "        print(i*d[i], end='')"
   ]
  },
  {
   "cell_type": "code",
   "execution_count": 20,
   "metadata": {},
   "outputs": [
    {
     "name": "stdout",
     "output_type": "stream",
     "text": [
      "['b', 'by', 'bye', 'y', 'ye', 'e']\n"
     ]
    }
   ],
   "source": [
    "st = 'bye'\n",
    "l = []\n",
    "for i in range(0, len(st)):\n",
    "    for j in range(i+1, len(st)+1):\n",
    "        l += [st[i:j]]\n",
    "print(l)"
   ]
  },
  {
   "cell_type": "code",
   "execution_count": 25,
   "metadata": {},
   "outputs": [
    {
     "name": "stdout",
     "output_type": "stream",
     "text": [
      "{'a': 4, 'b': 3, 'c': 2, 'd': 1}\n",
      "4a3b2c1d\n"
     ]
    }
   ],
   "source": [
    "# op:4a3b2c1d\n",
    "st = 'aaaabbbccd'\n",
    "d = {}\n",
    "for i in st:\n",
    "    if i not in d:\n",
    "        d[i] = 1\n",
    "    else:\n",
    "        d[i] += 1\n",
    "print(d)\n",
    "res=''\n",
    "for i in d:\n",
    "    res += str(d[i])+i\n",
    "print(res)\n"
   ]
  },
  {
   "cell_type": "code",
   "execution_count": 31,
   "metadata": {},
   "outputs": [
    {
     "name": "stdout",
     "output_type": "stream",
     "text": [
      "10\n"
     ]
    }
   ],
   "source": [
    "l = [[1,5],[7,3],[3,5]]\n",
    "l1 = []\n",
    "for i in l:\n",
    "    sum = 0\n",
    "    for j in i:\n",
    "        sum += j\n",
    "    l1 += [sum]\n",
    "print(max(l1))"
   ]
  },
  {
   "cell_type": "code",
   "execution_count": 33,
   "metadata": {},
   "outputs": [
    {
     "name": "stdout",
     "output_type": "stream",
     "text": [
      "['as', 'hero']\n"
     ]
    }
   ],
   "source": [
    "# ip:['mass','as','hero','superhero']\n",
    "# op:['as','hero']\n",
    "\n",
    "l = ['mass','as','hero','superhero']\n",
    "res=[]\n",
    "for i in l:\n",
    "    for j in l:\n",
    "        if i!=j and i in j:\n",
    "            res += [i]\n",
    "print(res)"
   ]
  },
  {
   "cell_type": "code",
   "execution_count": 34,
   "metadata": {},
   "outputs": [
    {
     "name": "stdout",
     "output_type": "stream",
     "text": [
      "3\n"
     ]
    }
   ],
   "source": [
    "# a = 'abxabcabcaby'\n",
    "# b = 'abcaby'\n",
    "# op:1\n",
    "\n",
    "a = 'abxabcabcabyabcabyabcaby'\n",
    "b = 'abcaby'\n",
    "count=0\n",
    "for i in range(len(a)):\n",
    "    if b[0] == a[i] and a[i:i+len(b)]==b:\n",
    "        count+=1\n",
    "print(count)"
   ]
  },
  {
   "cell_type": "code",
   "execution_count": 43,
   "metadata": {},
   "outputs": [
    {
     "name": "stdout",
     "output_type": "stream",
     "text": [
      "{'ab': 2, 'aba': 1, 'abab': 1, 'ba': 1, 'bab': 1}\n",
      "2\n",
      "ab 2\n"
     ]
    }
   ],
   "source": [
    "# ip:'ababc'\n",
    "# op:'2'\n",
    "st = 'ababc'\n",
    "d = {}\n",
    "for i in range(0, len(st)):\n",
    "    for j in range(i+2, len(st)):\n",
    "        if st[i:j] not in d:\n",
    "            d[st[i:j]] = 1\n",
    "        else:\n",
    "            d[st[i:j]] += 1\n",
    "print(d)\n",
    "m = max(d.values())\n",
    "print(m)\n",
    "for i in d:\n",
    "    if d[i] == m:\n",
    "        print(i, m)\n"
   ]
  },
  {
   "cell_type": "code",
   "execution_count": 45,
   "metadata": {},
   "outputs": [
    {
     "name": "stdout",
     "output_type": "stream",
     "text": [
      "ca\n"
     ]
    }
   ],
   "source": [
    "# ip:'abbaca'\n",
    "# op:'ca'\n",
    "l=[]\n",
    "st='abbaca'\n",
    "res=''\n",
    "for i in st:\n",
    "    if i not in l:\n",
    "        l.append(i)\n",
    "    else:\n",
    "        l.remove(i)\n",
    "for i in l:\n",
    "    res+=i\n",
    "print(res)"
   ]
  },
  {
   "cell_type": "code",
   "execution_count": 50,
   "metadata": {},
   "outputs": [
    {
     "name": "stdout",
     "output_type": "stream",
     "text": [
      "['ABCDEFG', 'IJK', 'ABC']\n"
     ]
    }
   ],
   "source": [
    "st = 'ABCDEFGIJKABC'\n",
    "\n",
    "res = ''\n",
    "l=[]\n",
    "for i in range(1, len(st)):\n",
    "    if ord(st[i-1])+1 == ord(st[i]):\n",
    "        res += st[i-1]\n",
    "    else:\n",
    "        l += [(res+st[i-1])]\n",
    "        res = ''\n",
    "\n",
    "l += [(res+st[i])]\n",
    "\n",
    "print(l)"
   ]
  },
  {
   "cell_type": "code",
   "execution_count": 54,
   "metadata": {},
   "outputs": [
    {
     "name": "stdout",
     "output_type": "stream",
     "text": [
      "{'a': '3', 'b': '2', 'c': '4'}\n"
     ]
    }
   ],
   "source": [
    "st = \"a3b2c4\"\n",
    "d = {}\n",
    "for i in range(len(st)):\n",
    "    if 'a'<=st[i]<='z' and '0'<=st[i+1]<='9':\n",
    "        d[st[i]] = st[i+1]\n",
    "print(d)\n"
   ]
  },
  {
   "cell_type": "code",
   "execution_count": 52,
   "metadata": {},
   "outputs": [
    {
     "name": "stdout",
     "output_type": "stream",
     "text": [
      "aaabbcccc\n"
     ]
    }
   ],
   "source": [
    "st = \"a3b2c4\"\n",
    "x = ''\n",
    "y = ''\n",
    "res = ''\n",
    "for i in st:\n",
    "    if 'a'<=i<='z':\n",
    "        x += i\n",
    "    else:\n",
    "        y += i\n",
    "\n",
    "for i in range(len(x)):\n",
    "    res += x[i] * int(y[i])\n",
    "print(res)"
   ]
  }
 ],
 "metadata": {
  "kernelspec": {
   "display_name": "Python 3",
   "language": "python",
   "name": "python3"
  },
  "language_info": {
   "codemirror_mode": {
    "name": "ipython",
    "version": 3
   },
   "file_extension": ".py",
   "mimetype": "text/x-python",
   "name": "python",
   "nbconvert_exporter": "python",
   "pygments_lexer": "ipython3",
   "version": "3.12.0"
  }
 },
 "nbformat": 4,
 "nbformat_minor": 2
}
