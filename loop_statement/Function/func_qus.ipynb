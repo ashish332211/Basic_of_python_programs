{
 "cells": [
  {
   "cell_type": "markdown",
   "metadata": {},
   "source": [
    "WAP to multiply all the elements in the list\n"
   ]
  },
  {
   "cell_type": "code",
   "execution_count": 1,
   "metadata": {},
   "outputs": [
    {
     "data": {
      "text/plain": [
       "952.5600000000003"
      ]
     },
     "execution_count": 1,
     "metadata": {},
     "output_type": "execute_result"
    }
   ],
   "source": [
    "l=[3,5.4,6,9.8]\n",
    "def mul(coll):\n",
    "    prod=1\n",
    "    for i in coll:\n",
    "        prod=prod*i\n",
    "    return prod\n",
    "mul(l)"
   ]
  },
  {
   "cell_type": "markdown",
   "metadata": {},
   "source": [
    "WAP to reverse a given string"
   ]
  },
  {
   "cell_type": "code",
   "execution_count": 3,
   "metadata": {},
   "outputs": [
    {
     "data": {
      "text/plain": [
       "'321nohtyp'"
      ]
     },
     "execution_count": 3,
     "metadata": {},
     "output_type": "execute_result"
    }
   ],
   "source": [
    "st='python123'\n",
    "def rev(coll):\n",
    "    res=''\n",
    "    for i in st:\n",
    "        res=i+res\n",
    "    return res\n",
    "rev(st)"
   ]
  },
  {
   "cell_type": "markdown",
   "metadata": {},
   "source": [
    "Write a Python function that takes a list and returns a new list with distinct elements from the first list."
   ]
  },
  {
   "cell_type": "code",
   "execution_count": 7,
   "metadata": {},
   "outputs": [
    {
     "data": {
      "text/plain": [
       "[1, 2, 3, 4, 5, 6, 7]"
      ]
     },
     "execution_count": 7,
     "metadata": {},
     "output_type": "execute_result"
    }
   ],
   "source": [
    "l=[1,2,1,1,3,2,4,3,4,5,6,3,5,7]\n",
    "def repeat(coll):\n",
    "    uni=[]\n",
    "    for i in coll:\n",
    "        if i not in uni:\n",
    "            uni+=[i]\n",
    "    return uni\n",
    "repeat(l)"
   ]
  },
  {
   "cell_type": "markdown",
   "metadata": {},
   "source": [
    "Write a Python function that takes a number as a parameter and checks whether the number is prime or not."
   ]
  },
  {
   "cell_type": "code",
   "execution_count": 10,
   "metadata": {},
   "outputs": [
    {
     "data": {
      "text/plain": [
       "'Not A Prime Number'"
      ]
     },
     "execution_count": 10,
     "metadata": {},
     "output_type": "execute_result"
    }
   ],
   "source": [
    "def check_prime(num):\n",
    "    i=1\n",
    "    count=0\n",
    "    while i<=num:\n",
    "        if num%i==0:\n",
    "            count+=1\n",
    "        i+=1\n",
    "    if count==2:\n",
    "        return 'Prime Number'\n",
    "    else:\n",
    "        return 'Not A Prime Number'\n",
    "check_prime(24)"
   ]
  },
  {
   "cell_type": "markdown",
   "metadata": {},
   "source": [
    "Write a Python function to check whether a number is \"Perfect\" or not."
   ]
  },
  {
   "cell_type": "code",
   "execution_count": 19,
   "metadata": {},
   "outputs": [
    {
     "data": {
      "text/plain": [
       "'Perfect Number'"
      ]
     },
     "execution_count": 19,
     "metadata": {},
     "output_type": "execute_result"
    }
   ],
   "source": [
    "def perfect(num):\n",
    "    i=1\n",
    "    sum=0\n",
    "    while i<num:\n",
    "        if num%i==0:\n",
    "            sum+=i\n",
    "        i+=1\n",
    "    if num==sum:\n",
    "        return 'Perfect Number'\n",
    "    else:\n",
    "        return 'Not A Perfect Number'\n",
    "perfect(6)"
   ]
  }
 ],
 "metadata": {
  "kernelspec": {
   "display_name": "Python 3",
   "language": "python",
   "name": "python3"
  },
  "language_info": {
   "codemirror_mode": {
    "name": "ipython",
    "version": 3
   },
   "file_extension": ".py",
   "mimetype": "text/x-python",
   "name": "python",
   "nbconvert_exporter": "python",
   "pygments_lexer": "ipython3",
   "version": "3.11.4"
  }
 },
 "nbformat": 4,
 "nbformat_minor": 2
}
