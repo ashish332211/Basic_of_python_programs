{
 "cells": [
  {
   "cell_type": "code",
   "execution_count": 1,
   "metadata": {},
   "outputs": [
    {
     "name": "stdout",
     "output_type": "stream",
     "text": [
      "{'a': 3, 'b': 2, 'c': 3}\n"
     ]
    }
   ],
   "source": [
    "st = 'a,a,a,b,b,c,c,c'\n",
    "d={}\n",
    "for i in st.split(','):\n",
    "    if i not in d:\n",
    "        d[i]=1\n",
    "    else:\n",
    "        d[i]+=1\n",
    "print(d)"
   ]
  },
  {
   "cell_type": "code",
   "execution_count": 3,
   "metadata": {},
   "outputs": [
    {
     "name": "stdout",
     "output_type": "stream",
     "text": [
      "3\n"
     ]
    }
   ],
   "source": [
    "#WAP to count number of items having list as value\n",
    "d = {'jay':['male',23,20000],'raj':['male',24,30000],'ram':20,'surya':['male',23]}\n",
    "count=0\n",
    "for i in d:\n",
    "    if type(d[i])==list:\n",
    "        count+=1\n",
    "print(count)"
   ]
  },
  {
   "cell_type": "code",
   "execution_count": 6,
   "metadata": {},
   "outputs": [
    {
     "name": "stdout",
     "output_type": "stream",
     "text": [
      "ca\n"
     ]
    }
   ],
   "source": [
    "#Remove all adjacent duplicates in string\n",
    "# ip:'abbaca'\n",
    "# op:'ca'\n",
    "\n",
    "st='abbaca'\n",
    "l = []\n",
    "\n",
    "for i in st:\n",
    "    l.append(i)\n",
    "\n",
    "rl = []\n",
    "res = ''\n",
    "\n",
    "for i in l:\n",
    "    if i not in rl:\n",
    "        rl.append(i)\n",
    "    else:\n",
    "        rl.remove(i)\n",
    "\n",
    "for i in rl:\n",
    "    res += i\n",
    "\n",
    "print(res)\n"
   ]
  },
  {
   "cell_type": "code",
   "execution_count": 8,
   "metadata": {},
   "outputs": [
    {
     "name": "stdout",
     "output_type": "stream",
     "text": [
      "ca\n"
     ]
    }
   ],
   "source": [
    "#shortcuts\n",
    "st='abbaca'\n",
    "l = []\n",
    "res = ''\n",
    "for i in st:\n",
    "    if i not in l:\n",
    "        l.append(i)\n",
    "    else:\n",
    "        l.remove(i)\n",
    "\n",
    "for i in l:\n",
    "    res += i\n",
    "\n",
    "print(res)"
   ]
  },
  {
   "cell_type": "code",
   "execution_count": 4,
   "metadata": {},
   "outputs": [
    {
     "name": "stdout",
     "output_type": "stream",
     "text": [
      "2\n"
     ]
    }
   ],
   "source": [
    "a = ['ad','bd','aaab','baa','badab']\n",
    "b = 'ab'\n",
    "# op:2\n",
    "count=0\n",
    "for i in a:\n",
    "    if b in i:\n",
    "        count+=1\n",
    "print(count)"
   ]
  },
  {
   "cell_type": "code",
   "execution_count": 9,
   "metadata": {},
   "outputs": [
    {
     "name": "stdout",
     "output_type": "stream",
     "text": [
      "{'ab': 2, 'aba': 1, 'abab': 1, 'ba': 1, 'bab': 1}\n",
      "2\n",
      "ab 2\n"
     ]
    }
   ],
   "source": [
    "# ip:'ababc'\n",
    "# op:'2'\n",
    "st = 'ababc'\n",
    "d={}\n",
    "for i in range(0, len(st)):\n",
    "    for j in range(i+2, len(st)):\n",
    "        if st[i:j] not in d:\n",
    "            d[st[i:j]] = 1\n",
    "        else:\n",
    "            d[st[i:j]] += 1\n",
    "print(d)\n",
    "m = max(d.values())\n",
    "print(m)\n",
    "for i in d:\n",
    "    if d[i] == m:\n",
    "        print(i, d[i])"
   ]
  },
  {
   "cell_type": "code",
   "execution_count": 5,
   "metadata": {},
   "outputs": [
    {
     "name": "stdout",
     "output_type": "stream",
     "text": [
      "3\n"
     ]
    }
   ],
   "source": [
    "# a = 'abxabcabcaby'\n",
    "# b = 'abcaby'\n",
    "# op:1\n",
    "\n",
    "a = 'abxabcabcabyabcabyabcaby'\n",
    "b = 'abcaby'\n",
    "count = 0\n",
    "\n",
    "for i in range(len(a)):\n",
    "    if a[i] == b[0] and a[i:i+len(b)] == b:\n",
    "            count += 1\n",
    "\n",
    "print(count)"
   ]
  },
  {
   "cell_type": "code",
   "execution_count": 15,
   "metadata": {},
   "outputs": [
    {
     "name": "stdout",
     "output_type": "stream",
     "text": [
      "['as', 'hero']\n"
     ]
    }
   ],
   "source": [
    "# ip:['mass','as','hero','superhero']\n",
    "# op:['as','hero']\n",
    "\n",
    "l = ['mass','as','hero','superhero']\n",
    "res = []\n",
    "\n",
    "for i in range(len(l)):\n",
    "    for j in range(len(l)):\n",
    "        if i != j and l[i] in l[j]:\n",
    "            res += [l[i]]\n",
    "print(res)"
   ]
  },
  {
   "cell_type": "code",
   "execution_count": 10,
   "metadata": {},
   "outputs": [
    {
     "name": "stdout",
     "output_type": "stream",
     "text": [
      "['as', 'hero']\n"
     ]
    }
   ],
   "source": [
    "#Another Method\n",
    "l = ['mass','as','hero','superhero']\n",
    "cp_l = l\n",
    "res=[]\n",
    "for i in l:\n",
    "    for j in cp_l:\n",
    "        if i != j and i in j:\n",
    "            res+=[i]\n",
    "print(res)"
   ]
  },
  {
   "cell_type": "code",
   "execution_count": 11,
   "metadata": {},
   "outputs": [
    {
     "name": "stdout",
     "output_type": "stream",
     "text": [
      "['as', 'hero']\n"
     ]
    }
   ],
   "source": [
    "#Another Method\n",
    "l = ['mass','as','hero','superhero']\n",
    "res=[]\n",
    "for i in l:\n",
    "    for j in l:\n",
    "        if i != j and i in j:\n",
    "            res+=[i]\n",
    "print(res)"
   ]
  },
  {
   "cell_type": "code",
   "execution_count": 169,
   "metadata": {},
   "outputs": [
    {
     "name": "stdout",
     "output_type": "stream",
     "text": [
      "xxaaxaaaxxx\n"
     ]
    }
   ],
   "source": [
    "# ip:'??aa?aaa???'\n",
    "# op:'xxaaxaaaxxx'\n",
    "\n",
    "st = '??aa?aaa???'\n",
    "res = ''\n",
    "for i in st:\n",
    "    if i == '?':\n",
    "        res += 'x'\n",
    "    else:\n",
    "        res += i\n",
    "print(res)"
   ]
  },
  {
   "cell_type": "code",
   "execution_count": 3,
   "metadata": {},
   "outputs": [
    {
     "name": "stdout",
     "output_type": "stream",
     "text": [
      "[4, 4, 4, 4, 3, 3, 3, 12, 12, 11]\n"
     ]
    }
   ],
   "source": [
    "# ip:[3,1,2,10,1]\n",
    "# op:[3,4,6,16,17]\n",
    "\n",
    "l = [3,1,2,10,1]\n",
    "l1 = []\n",
    "for i in range(len(l)):\n",
    "    for j in range(i+1, len(l)):\n",
    "        l1 += [l[i]+l[i+1]]\n",
    "print(l1)"
   ]
  },
  {
   "cell_type": "code",
   "execution_count": 13,
   "metadata": {},
   "outputs": [
    {
     "name": "stdout",
     "output_type": "stream",
     "text": [
      "10\n"
     ]
    }
   ],
   "source": [
    "# Find the highest\n",
    "# ip:[[1,5],[7,3],[3,5]]    \n",
    "# op:10\n",
    "\n",
    "l = [[1,5],[7,3],[3,5]]\n",
    "lrg = 0\n",
    "\n",
    "for i in l:\n",
    "    sum = 0\n",
    "    for j in i:\n",
    "        sum += j\n",
    "    if sum > lrg:\n",
    "        lrg = sum\n",
    "print(lrg)"
   ]
  },
  {
   "cell_type": "code",
   "execution_count": 245,
   "metadata": {},
   "outputs": [
    {
     "name": "stdout",
     "output_type": "stream",
     "text": [
      "[1, 8, 2, 9, 3, 4, 7, 5]\n"
     ]
    }
   ],
   "source": [
    "# ip:[1,2,3,7,8,9]\n",
    "# op:[1,7,2,8,3,9]\n",
    "\n",
    "l = [1,2,3,7,8,9,4,5,90]\n",
    "res = []\n",
    "j = len(l)//2\n",
    "for i in range(len(l)//2):\n",
    "        res.append(l[i])\n",
    "        res.append(l[j])\n",
    "        j+=1\n",
    "print(res)"
   ]
  },
  {
   "cell_type": "code",
   "execution_count": 246,
   "metadata": {},
   "outputs": [
    {
     "name": "stdout",
     "output_type": "stream",
     "text": [
      "[1, 8, 2, 9, 3, 4, 7, 5, 90]\n"
     ]
    }
   ],
   "source": [
    "res = []\n",
    "for i in range(len(l)//2):\n",
    "    res += [l[i], l[len(l)//2+i]]\n",
    "\n",
    "if len(l)%2!=0:\n",
    "    res.append(l[-1])\n",
    "\n",
    "print(res)"
   ]
  },
  {
   "cell_type": "code",
   "execution_count": 302,
   "metadata": {},
   "outputs": [
    {
     "name": "stdout",
     "output_type": "stream",
     "text": [
      "24\n"
     ]
    }
   ],
   "source": [
    "# ip:abc\n",
    "# op:6\n",
    "# abc -> abc,acb,bac,bca,cab,cba\n",
    "\n",
    "st = 'abcd'\n",
    "l = len(st)\n",
    "res = 1\n",
    "for i in range(1, l+1):\n",
    "    res *= i\n",
    "print(res)"
   ]
  },
  {
   "cell_type": "code",
   "execution_count": 296,
   "metadata": {},
   "outputs": [
    {
     "name": "stdout",
     "output_type": "stream",
     "text": [
      "['abcdef', 'abcdfe', 'abcedf', 'abcefd', 'abcfde', 'abcfed', 'abdcef', 'abdcfe', 'abdecf', 'abdefc', 'abdfce', 'abdfec', 'abecdf', 'abecfd', 'abedcf', 'abedfc', 'abefcd', 'abefdc', 'abfcde', 'abfced', 'abfdce', 'abfdec', 'abfecd', 'abfedc', 'acbdef', 'acbdfe', 'acbedf', 'acbefd', 'acbfde', 'acbfed', 'acdbef', 'acdbfe', 'acdebf', 'acdefb', 'acdfbe', 'acdfeb', 'acebdf', 'acebfd', 'acedbf', 'acedfb', 'acefbd', 'acefdb', 'acfbde', 'acfbed', 'acfdbe', 'acfdeb', 'acfebd', 'acfedb', 'adbcef', 'adbcfe', 'adbecf', 'adbefc', 'adbfce', 'adbfec', 'adcbef', 'adcbfe', 'adcebf', 'adcefb', 'adcfbe', 'adcfeb', 'adebcf', 'adebfc', 'adecbf', 'adecfb', 'adefbc', 'adefcb', 'adfbce', 'adfbec', 'adfcbe', 'adfceb', 'adfebc', 'adfecb', 'aebcdf', 'aebcfd', 'aebdcf', 'aebdfc', 'aebfcd', 'aebfdc', 'aecbdf', 'aecbfd', 'aecdbf', 'aecdfb', 'aecfbd', 'aecfdb', 'aedbcf', 'aedbfc', 'aedcbf', 'aedcfb', 'aedfbc', 'aedfcb', 'aefbcd', 'aefbdc', 'aefcbd', 'aefcdb', 'aefdbc', 'aefdcb', 'afbcde', 'afbced', 'afbdce', 'afbdec', 'afbecd', 'afbedc', 'afcbde', 'afcbed', 'afcdbe', 'afcdeb', 'afcebd', 'afcedb', 'afdbce', 'afdbec', 'afdcbe', 'afdceb', 'afdebc', 'afdecb', 'afebcd', 'afebdc', 'afecbd', 'afecdb', 'afedbc', 'afedcb', 'bacdef', 'bacdfe', 'bacedf', 'bacefd', 'bacfde', 'bacfed', 'badcef', 'badcfe', 'badecf', 'badefc', 'badfce', 'badfec', 'baecdf', 'baecfd', 'baedcf', 'baedfc', 'baefcd', 'baefdc', 'bafcde', 'bafced', 'bafdce', 'bafdec', 'bafecd', 'bafedc', 'bcadef', 'bcadfe', 'bcaedf', 'bcaefd', 'bcafde', 'bcafed', 'bcdaef', 'bcdafe', 'bcdeaf', 'bcdefa', 'bcdfae', 'bcdfea', 'bceadf', 'bceafd', 'bcedaf', 'bcedfa', 'bcefad', 'bcefda', 'bcfade', 'bcfaed', 'bcfdae', 'bcfdea', 'bcfead', 'bcfeda', 'bdacef', 'bdacfe', 'bdaecf', 'bdaefc', 'bdafce', 'bdafec', 'bdcaef', 'bdcafe', 'bdceaf', 'bdcefa', 'bdcfae', 'bdcfea', 'bdeacf', 'bdeafc', 'bdecaf', 'bdecfa', 'bdefac', 'bdefca', 'bdface', 'bdfaec', 'bdfcae', 'bdfcea', 'bdfeac', 'bdfeca', 'beacdf', 'beacfd', 'beadcf', 'beadfc', 'beafcd', 'beafdc', 'becadf', 'becafd', 'becdaf', 'becdfa', 'becfad', 'becfda', 'bedacf', 'bedafc', 'bedcaf', 'bedcfa', 'bedfac', 'bedfca', 'befacd', 'befadc', 'befcad', 'befcda', 'befdac', 'befdca', 'bfacde', 'bfaced', 'bfadce', 'bfadec', 'bfaecd', 'bfaedc', 'bfcade', 'bfcaed', 'bfcdae', 'bfcdea', 'bfcead', 'bfceda', 'bfdace', 'bfdaec', 'bfdcae', 'bfdcea', 'bfdeac', 'bfdeca', 'bfeacd', 'bfeadc', 'bfecad', 'bfecda', 'bfedac', 'bfedca', 'cabdef', 'cabdfe', 'cabedf', 'cabefd', 'cabfde', 'cabfed', 'cadbef', 'cadbfe', 'cadebf', 'cadefb', 'cadfbe', 'cadfeb', 'caebdf', 'caebfd', 'caedbf', 'caedfb', 'caefbd', 'caefdb', 'cafbde', 'cafbed', 'cafdbe', 'cafdeb', 'cafebd', 'cafedb', 'cbadef', 'cbadfe', 'cbaedf', 'cbaefd', 'cbafde', 'cbafed', 'cbdaef', 'cbdafe', 'cbdeaf', 'cbdefa', 'cbdfae', 'cbdfea', 'cbeadf', 'cbeafd', 'cbedaf', 'cbedfa', 'cbefad', 'cbefda', 'cbfade', 'cbfaed', 'cbfdae', 'cbfdea', 'cbfead', 'cbfeda', 'cdabef', 'cdabfe', 'cdaebf', 'cdaefb', 'cdafbe', 'cdafeb', 'cdbaef', 'cdbafe', 'cdbeaf', 'cdbefa', 'cdbfae', 'cdbfea', 'cdeabf', 'cdeafb', 'cdebaf', 'cdebfa', 'cdefab', 'cdefba', 'cdfabe', 'cdfaeb', 'cdfbae', 'cdfbea', 'cdfeab', 'cdfeba', 'ceabdf', 'ceabfd', 'ceadbf', 'ceadfb', 'ceafbd', 'ceafdb', 'cebadf', 'cebafd', 'cebdaf', 'cebdfa', 'cebfad', 'cebfda', 'cedabf', 'cedafb', 'cedbaf', 'cedbfa', 'cedfab', 'cedfba', 'cefabd', 'cefadb', 'cefbad', 'cefbda', 'cefdab', 'cefdba', 'cfabde', 'cfabed', 'cfadbe', 'cfadeb', 'cfaebd', 'cfaedb', 'cfbade', 'cfbaed', 'cfbdae', 'cfbdea', 'cfbead', 'cfbeda', 'cfdabe', 'cfdaeb', 'cfdbae', 'cfdbea', 'cfdeab', 'cfdeba', 'cfeabd', 'cfeadb', 'cfebad', 'cfebda', 'cfedab', 'cfedba', 'dabcef', 'dabcfe', 'dabecf', 'dabefc', 'dabfce', 'dabfec', 'dacbef', 'dacbfe', 'dacebf', 'dacefb', 'dacfbe', 'dacfeb', 'daebcf', 'daebfc', 'daecbf', 'daecfb', 'daefbc', 'daefcb', 'dafbce', 'dafbec', 'dafcbe', 'dafceb', 'dafebc', 'dafecb', 'dbacef', 'dbacfe', 'dbaecf', 'dbaefc', 'dbafce', 'dbafec', 'dbcaef', 'dbcafe', 'dbceaf', 'dbcefa', 'dbcfae', 'dbcfea', 'dbeacf', 'dbeafc', 'dbecaf', 'dbecfa', 'dbefac', 'dbefca', 'dbface', 'dbfaec', 'dbfcae', 'dbfcea', 'dbfeac', 'dbfeca', 'dcabef', 'dcabfe', 'dcaebf', 'dcaefb', 'dcafbe', 'dcafeb', 'dcbaef', 'dcbafe', 'dcbeaf', 'dcbefa', 'dcbfae', 'dcbfea', 'dceabf', 'dceafb', 'dcebaf', 'dcebfa', 'dcefab', 'dcefba', 'dcfabe', 'dcfaeb', 'dcfbae', 'dcfbea', 'dcfeab', 'dcfeba', 'deabcf', 'deabfc', 'deacbf', 'deacfb', 'deafbc', 'deafcb', 'debacf', 'debafc', 'debcaf', 'debcfa', 'debfac', 'debfca', 'decabf', 'decafb', 'decbaf', 'decbfa', 'decfab', 'decfba', 'defabc', 'defacb', 'defbac', 'defbca', 'defcab', 'defcba', 'dfabce', 'dfabec', 'dfacbe', 'dfaceb', 'dfaebc', 'dfaecb', 'dfbace', 'dfbaec', 'dfbcae', 'dfbcea', 'dfbeac', 'dfbeca', 'dfcabe', 'dfcaeb', 'dfcbae', 'dfcbea', 'dfceab', 'dfceba', 'dfeabc', 'dfeacb', 'dfebac', 'dfebca', 'dfecab', 'dfecba', 'eabcdf', 'eabcfd', 'eabdcf', 'eabdfc', 'eabfcd', 'eabfdc', 'eacbdf', 'eacbfd', 'eacdbf', 'eacdfb', 'eacfbd', 'eacfdb', 'eadbcf', 'eadbfc', 'eadcbf', 'eadcfb', 'eadfbc', 'eadfcb', 'eafbcd', 'eafbdc', 'eafcbd', 'eafcdb', 'eafdbc', 'eafdcb', 'ebacdf', 'ebacfd', 'ebadcf', 'ebadfc', 'ebafcd', 'ebafdc', 'ebcadf', 'ebcafd', 'ebcdaf', 'ebcdfa', 'ebcfad', 'ebcfda', 'ebdacf', 'ebdafc', 'ebdcaf', 'ebdcfa', 'ebdfac', 'ebdfca', 'ebfacd', 'ebfadc', 'ebfcad', 'ebfcda', 'ebfdac', 'ebfdca', 'ecabdf', 'ecabfd', 'ecadbf', 'ecadfb', 'ecafbd', 'ecafdb', 'ecbadf', 'ecbafd', 'ecbdaf', 'ecbdfa', 'ecbfad', 'ecbfda', 'ecdabf', 'ecdafb', 'ecdbaf', 'ecdbfa', 'ecdfab', 'ecdfba', 'ecfabd', 'ecfadb', 'ecfbad', 'ecfbda', 'ecfdab', 'ecfdba', 'edabcf', 'edabfc', 'edacbf', 'edacfb', 'edafbc', 'edafcb', 'edbacf', 'edbafc', 'edbcaf', 'edbcfa', 'edbfac', 'edbfca', 'edcabf', 'edcafb', 'edcbaf', 'edcbfa', 'edcfab', 'edcfba', 'edfabc', 'edfacb', 'edfbac', 'edfbca', 'edfcab', 'edfcba', 'efabcd', 'efabdc', 'efacbd', 'efacdb', 'efadbc', 'efadcb', 'efbacd', 'efbadc', 'efbcad', 'efbcda', 'efbdac', 'efbdca', 'efcabd', 'efcadb', 'efcbad', 'efcbda', 'efcdab', 'efcdba', 'efdabc', 'efdacb', 'efdbac', 'efdbca', 'efdcab', 'efdcba', 'fabcde', 'fabced', 'fabdce', 'fabdec', 'fabecd', 'fabedc', 'facbde', 'facbed', 'facdbe', 'facdeb', 'facebd', 'facedb', 'fadbce', 'fadbec', 'fadcbe', 'fadceb', 'fadebc', 'fadecb', 'faebcd', 'faebdc', 'faecbd', 'faecdb', 'faedbc', 'faedcb', 'fbacde', 'fbaced', 'fbadce', 'fbadec', 'fbaecd', 'fbaedc', 'fbcade', 'fbcaed', 'fbcdae', 'fbcdea', 'fbcead', 'fbceda', 'fbdace', 'fbdaec', 'fbdcae', 'fbdcea', 'fbdeac', 'fbdeca', 'fbeacd', 'fbeadc', 'fbecad', 'fbecda', 'fbedac', 'fbedca', 'fcabde', 'fcabed', 'fcadbe', 'fcadeb', 'fcaebd', 'fcaedb', 'fcbade', 'fcbaed', 'fcbdae', 'fcbdea', 'fcbead', 'fcbeda', 'fcdabe', 'fcdaeb', 'fcdbae', 'fcdbea', 'fcdeab', 'fcdeba', 'fceabd', 'fceadb', 'fcebad', 'fcebda', 'fcedab', 'fcedba', 'fdabce', 'fdabec', 'fdacbe', 'fdaceb', 'fdaebc', 'fdaecb', 'fdbace', 'fdbaec', 'fdbcae', 'fdbcea', 'fdbeac', 'fdbeca', 'fdcabe', 'fdcaeb', 'fdcbae', 'fdcbea', 'fdceab', 'fdceba', 'fdeabc', 'fdeacb', 'fdebac', 'fdebca', 'fdecab', 'fdecba', 'feabcd', 'feabdc', 'feacbd', 'feacdb', 'feadbc', 'feadcb', 'febacd', 'febadc', 'febcad', 'febcda', 'febdac', 'febdca', 'fecabd', 'fecadb', 'fecbad', 'fecbda', 'fecdab', 'fecdba', 'fedabc', 'fedacb', 'fedbac', 'fedbca', 'fedcab', 'fedcba']\n",
      "720\n"
     ]
    }
   ],
   "source": [
    "import itertools as it\n",
    "\n",
    "n = 'abc'\n",
    "l = []\n",
    "perm = it.permutations(n)\n",
    "for i in perm:\n",
    "    res = ''\n",
    "    for j in i:\n",
    "        res += j\n",
    "    l.append(res)\n",
    "print(l)\n",
    "print(len(l))"
   ]
  },
  {
   "cell_type": "code",
   "execution_count": 259,
   "metadata": {},
   "outputs": [
    {
     "data": {
      "text/plain": [
       "[1, 2, 3, 4]"
      ]
     },
     "execution_count": 259,
     "metadata": {},
     "output_type": "execute_result"
    }
   ],
   "source": [
    "l1 = [1, 2, 3, 4, 5]\n",
    "l1.pop(4)\n",
    "l1"
   ]
  },
  {
   "cell_type": "code",
   "execution_count": 5,
   "metadata": {},
   "outputs": [
    {
     "name": "stdout",
     "output_type": "stream",
     "text": [
      "{'a': 4, 'b': 3, 'c': 2, 'd': 1}\n",
      "4a3b2c1d\n"
     ]
    }
   ],
   "source": [
    "# ip:aaaabbbccd\n",
    "# op:4a3b2c1d\n",
    "\n",
    "st = 'aaaabbbccd'\n",
    "d={}\n",
    "res = ''\n",
    "for i in st:\n",
    "    if i not in d:\n",
    "        d[i]=1\n",
    "    else:\n",
    "        d[i]+=1\n",
    "print(d)\n",
    "for i in d:\n",
    "    res += str(d[i]) + i\n",
    "print(res)"
   ]
  },
  {
   "cell_type": "code",
   "execution_count": 48,
   "metadata": {},
   "outputs": [
    {
     "name": "stdout",
     "output_type": "stream",
     "text": [
      "20\n",
      "30\n"
     ]
    }
   ],
   "source": [
    "# Enter a list : [10,20,30,40,50,60]\n",
    "# Enter start index: 1\n",
    "# Enter end index: 4\n",
    "# op: 20 30 40\n",
    "\n",
    "l = [10,20,30,40,50,60]\n",
    "start = int(input('Enter Start Index: '))\n",
    "end = int(input('Enter End Index: '))\n",
    "def iterative(l, start, end):\n",
    "    if start<0 or start>=end:\n",
    "        return\n",
    "    print(l[start])\n",
    "    iterative(l, start+1, end)\n",
    "\n",
    "iterative(l, start, end)"
   ]
  },
  {
   "cell_type": "code",
   "execution_count": 7,
   "metadata": {},
   "outputs": [
    {
     "name": "stdout",
     "output_type": "stream",
     "text": [
      "['b', 'by', 'bye', 'y', 'ye', 'e']\n"
     ]
    }
   ],
   "source": [
    "#WAP to make all the possible substring\n",
    "# ip:'bye'\n",
    "# op: ['b', 'by', 'bye', 'y', 'ye', 'e']\n",
    "\n",
    "st = 'bye'\n",
    "res = []\n",
    "for i in range(0, len(st)):\n",
    "    for j in range(i+1, len(st)+1):\n",
    "        res += [st[i:j]]\n",
    "print(res)"
   ]
  },
  {
   "cell_type": "code",
   "execution_count": 55,
   "metadata": {},
   "outputs": [
    {
     "name": "stdout",
     "output_type": "stream",
     "text": [
      "3 * 1 = 3\n",
      "3 * 2 = 6\n",
      "3 * 3 = 9\n",
      "3 * 4 = 12\n",
      "3 * 5 = 15\n",
      "3 * 6 = 18\n",
      "3 * 7 = 21\n",
      "3 * 8 = 24\n",
      "3 * 9 = 27\n",
      "3 * 10 = 30\n"
     ]
    }
   ],
   "source": [
    "num = int(input('Enter a number: '))\n",
    "for i in range(1, 11):\n",
    "    print(num, '*', i, '=', num*i)"
   ]
  },
  {
   "cell_type": "code",
   "execution_count": 59,
   "metadata": {},
   "outputs": [
    {
     "name": "stdout",
     "output_type": "stream",
     "text": [
      "{'a': 2, 'b': 23, 'name': 'Raghua'}\n"
     ]
    }
   ],
   "source": [
    "l = [['a', 2], ['b', 23], ['name','Raghua']]\n",
    "d = {}\n",
    "for i in l:\n",
    "    d[i[0]] = i[1]\n",
    "print(d)"
   ]
  },
  {
   "cell_type": "code",
   "execution_count": 67,
   "metadata": {},
   "outputs": [
    {
     "name": "stdout",
     "output_type": "stream",
     "text": [
      "[8, 12, 23, 34, 45, 98, 123]\n"
     ]
    }
   ],
   "source": [
    "st = 'abc12#@cs34*&8  45xz23tye98hjdfhj123'\n",
    "res = ''\n",
    "l = []\n",
    "for i in st:\n",
    "    if '0'<=i<='9':\n",
    "        res += i\n",
    "    else:\n",
    "        if len(res)!=0:\n",
    "            l += [int(res)]\n",
    "            res = ''\n",
    "if len(res)!=0:\n",
    "    l += [int(res)]\n",
    "print(sorted(l))"
   ]
  },
  {
   "cell_type": "code",
   "execution_count": 194,
   "metadata": {},
   "outputs": [
    {
     "name": "stdout",
     "output_type": "stream",
     "text": [
      "['1237834', '344534', '12874'] ['python', 'java', 'sql']\n"
     ]
    }
   ],
   "source": [
    "# ip: ['123pyth78on34', '34ja45va34', '12sq874l']\n",
    "# op: [1237834, 344534, 12874]\n",
    "\n",
    "l = ['123pyth78on34', '34ja45va34', '12sq874l']\n",
    "res1 = ''\n",
    "res2 = ''\n",
    "l1 = []\n",
    "l2 = []\n",
    "for i in l:\n",
    "    for j in i:\n",
    "        if '0'<=j<='9':\n",
    "            res1 += j\n",
    "        elif 'a'<=j<='z':\n",
    "            res2 += j\n",
    "    l1 += [res1]\n",
    "    l2 += [res2]\n",
    "    res1, res2 = '', ''\n",
    "print(l1, l2)"
   ]
  },
  {
   "cell_type": "code",
   "execution_count": 198,
   "metadata": {},
   "outputs": [
    {
     "name": "stdout",
     "output_type": "stream",
     "text": [
      "abcaabbaaa"
     ]
    }
   ],
   "source": [
    "# ip: 'abcaba'\n",
    "# op: 'abcaabbaaa'\n",
    "\n",
    "st = 'abcaba'\n",
    "d = {}\n",
    "for i in st:\n",
    "    if i not in d:\n",
    "        d[i] = 1\n",
    "        print(i,end='')\n",
    "    else:\n",
    "        d[i] += 1\n",
    "        print(i*d[i], end='')"
   ]
  },
  {
   "cell_type": "code",
   "execution_count": 98,
   "metadata": {},
   "outputs": [
    {
     "name": "stdout",
     "output_type": "stream",
     "text": [
      "{'1': '2', '2': '3', '3': '4', '4': '5', '5': '5'}\n"
     ]
    }
   ],
   "source": [
    "# ip:'123456'\n",
    "# op: {'1':2, '2':3, '4':5, '5':6}\n",
    "\n",
    "st = '1234556'\n",
    "d = {}\n",
    "for i in range(len(st)-1):\n",
    "    d[st[i]] = st[i + 1]\n",
    "print(d)"
   ]
  },
  {
   "cell_type": "code",
   "execution_count": 106,
   "metadata": {},
   "outputs": [
    {
     "name": "stdout",
     "output_type": "stream",
     "text": [
      "{'1': '8', '2': '3', '3': '4', '4': '5', '5': '6', '6': '9', '9': '1'}\n"
     ]
    }
   ],
   "source": [
    "s = '123456918'\n",
    "d, i = {}, 0\n",
    "\n",
    "while i<len(s)-1:\n",
    "    d[s[i]] = s[i+1]\n",
    "    i += 1\n",
    "print(d)"
   ]
  },
  {
   "cell_type": "code",
   "execution_count": 102,
   "metadata": {},
   "outputs": [
    {
     "name": "stdout",
     "output_type": "stream",
     "text": [
      "{1: 2, 3: 4, 8: 7, 9: 0}\n",
      "{1: 8, 3: 4, 8: 7, 9: 0}\n"
     ]
    }
   ],
   "source": [
    "d = {1:2, 3:4, 8:7}\n",
    "d[9] = 0\n",
    "print(d)\n",
    "d[1] = 8\n",
    "print(d)"
   ]
  },
  {
   "cell_type": "code",
   "execution_count": 88,
   "metadata": {},
   "outputs": [
    {
     "name": "stdout",
     "output_type": "stream",
     "text": [
      "Anagrams\n"
     ]
    }
   ],
   "source": [
    "#anagrams\n",
    "st1 = 'listen'\n",
    "st2 = 'silent'\n",
    "if sorted(st1) == sorted(st2):\n",
    "    print('Anagrams')\n",
    "else:\n",
    "    print('Not Anagram')"
   ]
  },
  {
   "cell_type": "code",
   "execution_count": 8,
   "metadata": {},
   "outputs": [
    {
     "name": "stdout",
     "output_type": "stream",
     "text": [
      "[25, 23, 12, 31]\n"
     ]
    }
   ],
   "source": [
    "l = [205, 203, 120, 3100]\n",
    "res = ''\n",
    "l1 = []\n",
    "for i in l:\n",
    "    for j in str(i):\n",
    "        if '1'<=j<='9':\n",
    "            res += j\n",
    "    l1 +=[int(res)]\n",
    "    res = ''\n",
    "print(l1)"
   ]
  },
  {
   "cell_type": "code",
   "execution_count": null,
   "metadata": {},
   "outputs": [],
   "source": [
    "# ip : [2,3,7,4,8,9]\n",
    "# target = 9\n",
    "# op : [0,2]\n"
   ]
  },
  {
   "cell_type": "code",
   "execution_count": 117,
   "metadata": {},
   "outputs": [
    {
     "name": "stdout",
     "output_type": "stream",
     "text": [
      "['dog', 'donut']\n"
     ]
    }
   ],
   "source": [
    "# ip = [('do', ('cat', 'dog', 'shatter', 'donut', 'at', 'todo'))]\n",
    "# op:['dog', 'donut']\n",
    "\n",
    "l = [('do', ('cat', 'dog', 'shatter', 'donut', 'at', 'todo'))]\n",
    "\n",
    "pre = l[0][0]\n",
    "res = []\n",
    "for i in l[0][1]:\n",
    "    if pre == i[0:len(pre)]:\n",
    "        res += [i]\n",
    "print(res)"
   ]
  },
  {
   "cell_type": "code",
   "execution_count": 119,
   "metadata": {},
   "outputs": [
    {
     "name": "stdout",
     "output_type": "stream",
     "text": [
      "[2, 9, 5, 13]\n"
     ]
    }
   ],
   "source": [
    "l = [2, 45, 32, 616]\n",
    "l1 = []\n",
    "for i in l:\n",
    "    sum = 0\n",
    "    for j in str(i):\n",
    "        sum += int(j)\n",
    "    l1 += [sum]\n",
    "print(l1)"
   ]
  },
  {
   "cell_type": "code",
   "execution_count": 124,
   "metadata": {},
   "outputs": [
    {
     "name": "stdout",
     "output_type": "stream",
     "text": [
      "{'fruit': ['orange', 'banana'], 'vegetable': ['potato']}\n"
     ]
    }
   ],
   "source": [
    "# ip: {'orange':'fruit', 'potato':'vegetable', 'banana':'fruit'}\n",
    "# op:{'fruit':['orange','banana'], 'vegetable':['potato']}\n",
    "\n",
    "d = {'orange':'fruit', 'potato':'vegetable', 'banana':'fruit'}\n",
    "d1 = {}\n",
    "for i in d:\n",
    "    if d[i] not in d1:\n",
    "        d1[d[i]] = [i]\n",
    "    else:\n",
    "        d1[d[i]] += [i]\n",
    "print(d1)"
   ]
  },
  {
   "cell_type": "code",
   "execution_count": 4,
   "metadata": {},
   "outputs": [
    {
     "name": "stdout",
     "output_type": "stream",
     "text": [
      "['s', 'i', '2', '3', 'e', 'm', 'a', 'n', '4', '5', 'y', 'm']\n",
      "si23eman45ym\n"
     ]
    }
   ],
   "source": [
    "# ip : 'my23name45is'\n",
    "# op : 'si23eman45ym'\n",
    "\n",
    "st = 'my23name45is'\n",
    "res = ''\n",
    "l = []\n",
    "for i in st:\n",
    "    l += [i]\n",
    "\n",
    "for i in range(len(l)//2):\n",
    "    if ord(l[i]) in range(97,123):\n",
    "        l[i], l[-i-1] = l[-i-1], l[i]\n",
    "print(l)\n",
    "for i in l:\n",
    "    res += i\n",
    " \n",
    "print(res)"
   ]
  },
  {
   "cell_type": "code",
   "execution_count": 125,
   "metadata": {},
   "outputs": [
    {
     "name": "stdout",
     "output_type": "stream",
     "text": [
      "[2, 4, 6, 8, 1, 3, 5, 7, 9]\n"
     ]
    }
   ],
   "source": [
    "# ip: [1,2,3,4,5,6,7,8,9]\n",
    "# op: [2,4,6,8,1,3,5,7,9]\n",
    "\n",
    "l = [1,2,3,4,5,6,7,8,9]\n",
    "even = []\n",
    "odd = []\n",
    "for i in l:\n",
    "    if i%2 == 0:\n",
    "        even += [i]\n",
    "    else:\n",
    "        odd += [i]\n",
    "print(even + odd)\n"
   ]
  },
  {
   "cell_type": "code",
   "execution_count": 129,
   "metadata": {},
   "outputs": [
    {
     "name": "stdout",
     "output_type": "stream",
     "text": [
      "['one', 'owt', 'three', 'ruof', 'five', 'xis']\n"
     ]
    }
   ],
   "source": [
    "# ip : 'one two three four five six'\n",
    "# op : 'one owt three ruof five xis'\n",
    "\n",
    "st = 'one two three four five six'\n",
    "st = st.split()\n",
    "l = []\n",
    "for i in range(0, len(st)):\n",
    "    if i%2 == 0:\n",
    "        l += [st[i]]\n",
    "    else:\n",
    "        l += [st[i][::-1]]\n",
    "print(l)"
   ]
  },
  {
   "cell_type": "code",
   "execution_count": 23,
   "metadata": {},
   "outputs": [
    {
     "name": "stdout",
     "output_type": "stream",
     "text": [
      "aeknbd\n"
     ]
    }
   ],
   "source": [
    "# ip : 'a4k3b2'\n",
    "# op : 'aeknbd'\n",
    "\n",
    "st = 'a4k3b2'\n",
    "res = ''\n",
    "for i in range(len(st)):\n",
    "    if '0' <= st[i] <= '9':\n",
    "        res += chr(ord(st[i-1]) + int(st[i]))\n",
    "    else:\n",
    "        res += st[i]\n",
    "print(res)"
   ]
  }
 ],
 "metadata": {
  "kernelspec": {
   "display_name": "Python 3",
   "language": "python",
   "name": "python3"
  },
  "language_info": {
   "codemirror_mode": {
    "name": "ipython",
    "version": 3
   },
   "file_extension": ".py",
   "mimetype": "text/x-python",
   "name": "python",
   "nbconvert_exporter": "python",
   "pygments_lexer": "ipython3",
   "version": "3.12.0"
  }
 },
 "nbformat": 4,
 "nbformat_minor": 2
}
