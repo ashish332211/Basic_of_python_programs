{
 "cells": [
  {
   "cell_type": "code",
   "execution_count": 3,
   "metadata": {},
   "outputs": [
    {
     "name": "stdout",
     "output_type": "stream",
     "text": [
      "h\n",
      "e\n",
      "l\n",
      "l\n"
     ]
    }
   ],
   "source": [
    "st='hello'\n",
    "obj=iter(st)\n",
    "print(next(obj))\n",
    "print(next(obj))\n",
    "print(next(obj))\n",
    "print(next(obj))"
   ]
  },
  {
   "cell_type": "code",
   "execution_count": 14,
   "metadata": {},
   "outputs": [
    {
     "name": "stdout",
     "output_type": "stream",
     "text": [
      "[5, None, None, None, 50, 60]\n"
     ]
    }
   ],
   "source": [
    "l=[5,3.6,3.8,5+6j,50,60,70]\n",
    "def sample(coll):\n",
    "    obj=iter(coll)\n",
    "    temp=next(obj)\n",
    "    yield[None,temp][type(temp)==int]\n",
    "\n",
    "    temp=next(obj)\n",
    "    yield[None,temp][type(temp)==int]\n",
    "\n",
    "    temp=next(obj)\n",
    "    yield[None,temp][type(temp)==int]\n",
    "\n",
    "    temp=next(obj)\n",
    "    yield[None,temp][type(temp)==int]\n",
    "\n",
    "    temp=next(obj)\n",
    "    yield[None,temp][type(temp)==int]\n",
    "\n",
    "    temp=next(obj)\n",
    "    yield[None,temp][type(temp)==int]\n",
    "res=sample(l)\n",
    "print(list(res))"
   ]
  },
  {
   "cell_type": "code",
   "execution_count": 2,
   "metadata": {},
   "outputs": [
    {
     "name": "stdout",
     "output_type": "stream",
     "text": [
      "apple\n",
      "banana\n",
      "cherry\n"
     ]
    }
   ],
   "source": [
    "t = (\"apple\", \"banana\", \"cherry\")\n",
    "obj = iter(t)\n",
    "\n",
    "print(next(obj))\n",
    "print(next(obj))\n",
    "print(next(obj))\n"
   ]
  },
  {
   "cell_type": "code",
   "execution_count": 6,
   "metadata": {},
   "outputs": [
    {
     "name": "stdout",
     "output_type": "stream",
     "text": [
      "[10, 20, None, None, None, 68, 74]\n"
     ]
    }
   ],
   "source": [
    "l=[10,20,35,33,23,68,74]\n",
    "def sample(coll):\n",
    "    x=iter(coll)\n",
    "    temp=next(x)\n",
    "    yield[None,temp][temp%2==0]\n",
    "\n",
    "    temp=next(x)\n",
    "    yield[None,temp][temp%2==0]\n",
    "\n",
    "    temp=next(x)\n",
    "    yield[None,temp][temp%2==0]\n",
    "\n",
    "    temp=next(x)\n",
    "    yield[None,temp][temp%2==0]\n",
    "\n",
    "    temp=next(x)\n",
    "    yield[None,temp][temp%2==0]\n",
    "\n",
    "    temp=next(x)\n",
    "    yield[None,temp][temp%2==0]\n",
    "\n",
    "    temp=next(x)\n",
    "    yield[None,temp][temp%2==0]\n",
    "res=sample(l)\n",
    "print(list(res))"
   ]
  }
 ],
 "metadata": {
  "kernelspec": {
   "display_name": "Python 3",
   "language": "python",
   "name": "python3"
  },
  "language_info": {
   "codemirror_mode": {
    "name": "ipython",
    "version": 3
   },
   "file_extension": ".py",
   "mimetype": "text/x-python",
   "name": "python",
   "nbconvert_exporter": "python",
   "pygments_lexer": "ipython3",
   "version": "3.12.0"
  }
 },
 "nbformat": 4,
 "nbformat_minor": 2
}
