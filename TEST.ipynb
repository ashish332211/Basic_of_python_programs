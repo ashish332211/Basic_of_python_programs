{
 "cells": [
  {
   "cell_type": "code",
   "execution_count": 1,
   "metadata": {},
   "outputs": [
    {
     "name": "stdout",
     "output_type": "stream",
     "text": [
      "Spy Number\n",
      "1\n",
      "2\n",
      "3\n",
      "5\n",
      "8\n",
      "13\n",
      "21\n",
      "34\n"
     ]
    }
   ],
   "source": [
    "num=1124\n",
    "sum=0\n",
    "prod=1\n",
    "while num:\n",
    "    ld=num%10\n",
    "    sum=sum+ld\n",
    "    prod=prod*ld\n",
    "    num=num//10\n",
    "if sum==prod:\n",
    "    print('Spy Number')\n",
    "else:\n",
    "    print('Not a Spy Number')\n",
    "\n",
    "a=0\n",
    "b=1\n",
    "n=8\n",
    "i=1\n",
    "while i<=n:\n",
    "    c=a+b\n",
    "    print(c)\n",
    "    a,b=b,c\n",
    "    i=i+1"
   ]
  },
  {
   "cell_type": "code",
   "execution_count": 2,
   "metadata": {},
   "outputs": [
    {
     "data": {
      "text/plain": [
       "26"
      ]
     },
     "execution_count": 2,
     "metadata": {},
     "output_type": "execute_result"
    }
   ],
   "source": [
    "num=78965246\n",
    "def u_sum(num=78965246,sum=0):\n",
    "    while num:\n",
    "        ld=num%10\n",
    "        if ld%2==0:\n",
    "            sum+=ld\n",
    "        num=num//10\n",
    "    return sum\n",
    "u_sum()\n"
   ]
  }
 ],
 "metadata": {
  "kernelspec": {
   "display_name": "Python 3",
   "language": "python",
   "name": "python3"
  },
  "language_info": {
   "codemirror_mode": {
    "name": "ipython",
    "version": 3
   },
   "file_extension": ".py",
   "mimetype": "text/x-python",
   "name": "python",
   "nbconvert_exporter": "python",
   "pygments_lexer": "ipython3",
   "version": "3.12.0"
  }
 },
 "nbformat": 4,
 "nbformat_minor": 2
}
