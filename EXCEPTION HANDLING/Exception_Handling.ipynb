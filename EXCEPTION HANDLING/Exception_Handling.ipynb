{
 "cells": [
  {
   "cell_type": "code",
   "execution_count": null,
   "metadata": {},
   "outputs": [],
   "source": [
    "print('Start')\n",
    "a = int(input(\"Enter The a Value\"))\n",
    "b = int(input(\"Enter The b Value\"))\n",
    "res = a/b\n",
    "print(res)\n",
    "print('Stop')"
   ]
  },
  {
   "cell_type": "code",
   "execution_count": 1,
   "metadata": {},
   "outputs": [
    {
     "name": "stdout",
     "output_type": "stream",
     "text": [
      "Start\n",
      "0.8333333333333334\n",
      "Stop\n"
     ]
    }
   ],
   "source": [
    "print('Start')\n",
    "try:\n",
    "    a = int(input(\"Enter The a Value\"))\n",
    "    b = int(input(\"Enter The b Value\"))\n",
    "    res = a/b\n",
    "except:\n",
    "    res = 'Invalid Logic'\n",
    "finally:\n",
    "    print(res)\n",
    "print('Stop')"
   ]
  },
  {
   "cell_type": "code",
   "execution_count": 3,
   "metadata": {},
   "outputs": [
    {
     "name": "stdout",
     "output_type": "stream",
     "text": [
      "Start\n",
      "h\n",
      "e\n",
      "l\n",
      "l\n",
      "o\n",
      "w\n",
      "o\n",
      "r\n",
      "l\n",
      "d\n",
      "Program Excuted\n",
      "Stop\n"
     ]
    }
   ],
   "source": [
    "print('Start')\n",
    "st='helloworld'\n",
    "try:\n",
    "    i=0\n",
    "    while i<len(st)+1:\n",
    "        print(st[i])\n",
    "        i+=1\n",
    "except:\n",
    "    print('Program Excuted')\n",
    "print('Stop')"
   ]
  },
  {
   "cell_type": "code",
   "execution_count": 2,
   "metadata": {},
   "outputs": [
    {
     "name": "stdout",
     "output_type": "stream",
     "text": [
      "{'a': 10, 'b': 20, 'c': 30, '[12,13]': None}\n"
     ]
    }
   ],
   "source": [
    "d = {'a':10, 'b':20, 'c':30}\n",
    "n = input('Enter The Key')\n",
    "if n in d:\n",
    "    print(d[n])\n",
    "else:\n",
    "    d[n]=None\n",
    "print(d)"
   ]
  },
  {
   "cell_type": "code",
   "execution_count": 3,
   "metadata": {},
   "outputs": [
    {
     "name": "stdout",
     "output_type": "stream",
     "text": [
      "3\n"
     ]
    }
   ],
   "source": [
    "c=0\n",
    "for i in range(3):\n",
    "    for j in range(3):\n",
    "        if i==j:\n",
    "            c=c+1\n",
    "print(c)"
   ]
  },
  {
   "cell_type": "code",
   "execution_count": 2,
   "metadata": {},
   "outputs": [],
   "source": [
    "fp = open('file1.txt', 'w')\n",
    "fp.write(\"Hello Everyone\")\n",
    "fp.close()"
   ]
  },
  {
   "cell_type": "code",
   "execution_count": 4,
   "metadata": {},
   "outputs": [
    {
     "name": "stdout",
     "output_type": "stream",
     "text": [
      "Hello Everyone\n",
      "20\n",
      "0.7777777777777778\n",
      "list index out of range\n"
     ]
    }
   ],
   "source": [
    "#Catching Specific Exception\n",
    "try:\n",
    "    x=20\n",
    "    fp = open('file1.txt', 'r')\n",
    "    print(fp.read())\n",
    "    print(x)\n",
    "    print(7/9)\n",
    "    l=[1,2,3]\n",
    "    l[100]\n",
    "\n",
    "except FileNotFoundError:\n",
    "    print('File Not Found')\n",
    "except NameError:\n",
    "    print('Variable not found')\n",
    "except ZeroDivisionError:\n",
    "    print('Can not divided by zero')\n",
    "except Exception as e:      #It will handle all type of error\n",
    "    print(e)                #It should br written in the last...Otherwise it will take over"
   ]
  },
  {
   "cell_type": "code",
   "execution_count": 5,
   "metadata": {},
   "outputs": [
    {
     "name": "stdout",
     "output_type": "stream",
     "text": [
      "File Miluni Magiha\n"
     ]
    }
   ],
   "source": [
    "#else\n",
    "try:\n",
    "    fp = open('file2.txt', 'r')\n",
    "except FileNotFoundError:\n",
    "    print('File Miluni Magiha')\n",
    "except Exception:\n",
    "    print('Magiha Kichh ta gote problem achhi')\n",
    "else:\n",
    "    print(fp.read())"
   ]
  },
  {
   "cell_type": "code",
   "execution_count": 6,
   "metadata": {},
   "outputs": [
    {
     "name": "stdout",
     "output_type": "stream",
     "text": [
      "Hello Everyone\n",
      "Ye to pakka execute hoga\n"
     ]
    }
   ],
   "source": [
    "#Finally\n",
    "try:\n",
    "    fp = open('file1.txt', 'r')\n",
    "except FileNotFoundError:\n",
    "    print('File Miluni Magiha')\n",
    "except Exception:\n",
    "    print('Kichhi ta gote problem achhi')\n",
    "else:\n",
    "    print(fp.read())\n",
    "finally:\n",
    "    print('Ye to pakka execute hoga')"
   ]
  },
  {
   "cell_type": "code",
   "execution_count": 11,
   "metadata": {},
   "outputs": [
    {
     "name": "stdout",
     "output_type": "stream",
     "text": [
      "Entered Balance is not there\n",
      "Your Transaction being completed\n"
     ]
    }
   ],
   "source": [
    "class Bank:\n",
    "\n",
    "    def __init__(self, balance):\n",
    "        self.balance = balance\n",
    "\n",
    "    def withdraw(self, amount):\n",
    "        if amount < 0:\n",
    "            raise Exception('Amount should not be -ve')\n",
    "        if self.balance < amount:\n",
    "            raise Exception('Entered Balance is not there')\n",
    "        self.balance = self.balance - amount\n",
    "\n",
    "obj = Bank(10000)\n",
    "try:\n",
    "    obj.withdraw(40000)\n",
    "except Exception as e:     #In above program they will through any number of error\n",
    "    print(e)                #And it will catch what the error is actually occured\n",
    "else:\n",
    "    print(obj.balance)\n",
    "finally:\n",
    "    print('Your Transaction being completed')"
   ]
  },
  {
   "cell_type": "code",
   "execution_count": 10,
   "metadata": {},
   "outputs": [
    {
     "name": "stdout",
     "output_type": "stream",
     "text": [
      "Amount should not be -ve\n"
     ]
    }
   ],
   "source": [
    "class MyException(Exception):\n",
    "    def __init__(self, message):\n",
    "        print(message)\n",
    "\n",
    "class Bank:\n",
    "\n",
    "    def __init__(self, balance):\n",
    "        self.balance = balance\n",
    "\n",
    "    def withdraw(self, amount):\n",
    "        if amount < 0:\n",
    "            raise MyException('Amount should not be -ve')\n",
    "        if self.balance < amount:\n",
    "            raise MyException('Entered Balance is not there')\n",
    "        self.balance = self.balance - amount\n",
    "\n",
    "obj = Bank(10000)\n",
    "try:\n",
    "    obj.withdraw(-4000)\n",
    "except MyException as e:    \n",
    "    pass             \n",
    "else:\n",
    "    print(obj.balance)"
   ]
  },
  {
   "cell_type": "code",
   "execution_count": 15,
   "metadata": {},
   "outputs": [
    {
     "name": "stdout",
     "output_type": "stream",
     "text": [
      "Teri to lag gayii Bhai\n",
      "Logout From All Devices\n",
      "Database Connection Closed\n"
     ]
    }
   ],
   "source": [
    "class SecurityError(Exception):\n",
    "    def __init__(self, message):\n",
    "        print(message)\n",
    "\n",
    "    def logout(self):\n",
    "        print('Logout From All Devices')\n",
    "\n",
    "class google:\n",
    "\n",
    "    def __init__(self, name, email, password, device):\n",
    "        self.name = name\n",
    "        self.email = email\n",
    "        self.password = password\n",
    "        self.device = device\n",
    "\n",
    "    def login(self, email, password, device):\n",
    "        if device != self.device:\n",
    "            raise SecurityError('Teri to lag gayii Bhai')\n",
    "        if email == self.email and password == self.password:\n",
    "            print('Welcome')\n",
    "        else:\n",
    "            print('Login Error')\n",
    "\n",
    "obj = google('hari', 'hari@gmail.com', 1234, 'android')\n",
    "\n",
    "try:\n",
    "    obj.login('hari@gmail.com', 1234, 'windows')\n",
    "except SecurityError as e:\n",
    "    e.logout()\n",
    "else:\n",
    "    print(obj.name)\n",
    "finally:\n",
    "    print('Database Connection Closed')"
   ]
  }
 ],
 "metadata": {
  "kernelspec": {
   "display_name": "Python 3",
   "language": "python",
   "name": "python3"
  },
  "language_info": {
   "codemirror_mode": {
    "name": "ipython",
    "version": 3
   },
   "file_extension": ".py",
   "mimetype": "text/x-python",
   "name": "python",
   "nbconvert_exporter": "python",
   "pygments_lexer": "ipython3",
   "version": "3.12.0"
  }
 },
 "nbformat": 4,
 "nbformat_minor": 2
}
