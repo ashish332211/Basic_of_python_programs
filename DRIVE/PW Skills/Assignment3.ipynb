{
 "cells": [
  {
   "cell_type": "markdown",
   "id": "b7a2d5ca",
   "metadata": {},
   "source": [
    "1. Write a Python function that takes a list of numbers as input and returns the sum of all even numbers in \n",
    "the list."
   ]
  },
  {
   "cell_type": "code",
   "execution_count": 7,
   "id": "168dfd46",
   "metadata": {},
   "outputs": [
    {
     "data": {
      "text/plain": [
       "6"
      ]
     },
     "execution_count": 7,
     "metadata": {},
     "output_type": "execute_result"
    }
   ],
   "source": [
    "def even_sum(coll):\n",
    "    res = 0\n",
    "    for i in coll:\n",
    "        if i %2 == 0:\n",
    "            res += int(i)\n",
    "    return res\n",
    "l = [1,2,3,4]\n",
    "even_sum(l)"
   ]
  },
  {
   "cell_type": "code",
   "execution_count": 8,
   "id": "a6ef376c",
   "metadata": {},
   "outputs": [
    {
     "data": {
      "text/plain": [
       "34"
      ]
     },
     "execution_count": 8,
     "metadata": {},
     "output_type": "execute_result"
    }
   ],
   "source": [
    "def even_sum(coll):\n",
    "    return sum(i for i in coll if i%2==0)\n",
    "l=[12,23,22]\n",
    "even_sum(l)"
   ]
  },
  {
   "cell_type": "markdown",
   "id": "27b1c97c",
   "metadata": {},
   "source": [
    "2. Create a Python function that accepts a string and returns the reverse of that string."
   ]
  },
  {
   "cell_type": "code",
   "execution_count": 9,
   "id": "72ef6de0",
   "metadata": {},
   "outputs": [
    {
     "data": {
      "text/plain": [
       "'SLLIKSWP'"
      ]
     },
     "execution_count": 9,
     "metadata": {},
     "output_type": "execute_result"
    }
   ],
   "source": [
    "def reverse(st):\n",
    "    res = ''\n",
    "    for i in st:\n",
    "        res = i + res\n",
    "    return res\n",
    "reverse('PWSKILLS')"
   ]
  },
  {
   "cell_type": "code",
   "execution_count": 10,
   "id": "b02983d5",
   "metadata": {},
   "outputs": [
    {
     "data": {
      "text/plain": [
       "'SLLIKSWP'"
      ]
     },
     "execution_count": 10,
     "metadata": {},
     "output_type": "execute_result"
    }
   ],
   "source": [
    "def reverse(st):\n",
    "    return st[::-1]\n",
    "reverse('PWSKILLS')"
   ]
  },
  {
   "cell_type": "markdown",
   "id": "c143adda",
   "metadata": {},
   "source": [
    "3. Implement a Python function that takes a list of integers and returns a new list containing the squares of \n",
    "each number."
   ]
  },
  {
   "cell_type": "code",
   "execution_count": 14,
   "id": "9fcafd8e",
   "metadata": {},
   "outputs": [
    {
     "data": {
      "text/plain": [
       "[1, 4, 9, 16]"
      ]
     },
     "execution_count": 14,
     "metadata": {},
     "output_type": "execute_result"
    }
   ],
   "source": [
    "def square_num(num):\n",
    "    res=[]\n",
    "    for i in num:\n",
    "        res += [i**2]\n",
    "    return res\n",
    "square_num([1,2,3,4])"
   ]
  },
  {
   "cell_type": "code",
   "execution_count": 15,
   "id": "1c42b50a",
   "metadata": {},
   "outputs": [
    {
     "data": {
      "text/plain": [
       "[9, 16, 25, 36]"
      ]
     },
     "execution_count": 15,
     "metadata": {},
     "output_type": "execute_result"
    }
   ],
   "source": [
    "def square_num(num):\n",
    "    return [i**2 for i in num]\n",
    "l = [3, 4, 5, 6]\n",
    "square_num(l)"
   ]
  },
  {
   "cell_type": "markdown",
   "id": "31247617",
   "metadata": {},
   "source": [
    "4. Write a Python function that checks if a given number is prime or not from 1 to 200."
   ]
  },
  {
   "cell_type": "code",
   "execution_count": 46,
   "id": "22a66b4a",
   "metadata": {},
   "outputs": [
    {
     "name": "stdout",
     "output_type": "stream",
     "text": [
      "2\n",
      "3\n",
      "5\n",
      "7\n",
      "11\n",
      "13\n",
      "17\n",
      "19\n",
      "23\n",
      "29\n",
      "31\n",
      "37\n",
      "41\n",
      "43\n",
      "47\n",
      "53\n",
      "59\n",
      "61\n",
      "67\n",
      "71\n",
      "73\n",
      "79\n",
      "83\n",
      "89\n",
      "97\n",
      "101\n",
      "103\n",
      "107\n",
      "109\n",
      "113\n",
      "127\n",
      "131\n",
      "137\n",
      "139\n",
      "149\n",
      "151\n",
      "157\n",
      "163\n",
      "167\n",
      "173\n",
      "179\n",
      "181\n",
      "191\n",
      "193\n",
      "197\n",
      "199\n"
     ]
    }
   ],
   "source": [
    "def is_prime(num, count=0, i=1):\n",
    "    while i<=num:\n",
    "        if num%i==0:\n",
    "            count+=1\n",
    "        i+=1\n",
    "    if count == 2:\n",
    "        return num\n",
    "\n",
    "for i in range(1, 200):\n",
    "    if is_prime(i):\n",
    "        print(i)\n"
   ]
  },
  {
   "cell_type": "code",
   "execution_count": 40,
   "id": "aa685e14",
   "metadata": {},
   "outputs": [
    {
     "name": "stdout",
     "output_type": "stream",
     "text": [
      "4\n"
     ]
    }
   ],
   "source": [
    "num = 34\n",
    "i = 1\n",
    "count=0\n",
    "while i<=num:\n",
    "    if num%i==0:\n",
    "        count+=1\n",
    "    i+=1\n",
    "print(count)"
   ]
  },
  {
   "cell_type": "markdown",
   "id": "330c6a06",
   "metadata": {},
   "source": [
    "5. Create an iterator class in Python that generates the Fibonacci sequence up to a specified number of \n",
    "terms."
   ]
  },
  {
   "cell_type": "code",
   "execution_count": 21,
   "id": "763f6806",
   "metadata": {},
   "outputs": [
    {
     "name": "stdout",
     "output_type": "stream",
     "text": [
      "1\n",
      "2\n",
      "3\n",
      "5\n",
      "8\n",
      "13\n",
      "21\n",
      "34\n"
     ]
    }
   ],
   "source": [
    "def fibo(num):\n",
    "    a = 0\n",
    "    b = 1\n",
    "    for i in range(num):\n",
    "        c = a + b\n",
    "        yield c\n",
    "        a,b = b,c\n",
    "x = fibo(50)\n",
    "obj = iter(x)\n",
    "print(next(obj))\n",
    "print(next(obj))\n",
    "print(next(obj))\n",
    "print(next(obj))\n",
    "print(next(obj))\n",
    "print(next(obj))\n",
    "print(next(obj))\n",
    "print(next(obj))\n",
    "\n"
   ]
  },
  {
   "cell_type": "markdown",
   "id": "f411e9a7",
   "metadata": {},
   "source": [
    " 6. Write a generator function in Python that yields the powers of 2 up to a given exponent."
   ]
  },
  {
   "cell_type": "code",
   "execution_count": 37,
   "id": "6ea10f50",
   "metadata": {},
   "outputs": [
    {
     "name": "stdout",
     "output_type": "stream",
     "text": [
      "1\n",
      "2\n",
      "4\n",
      "8\n",
      "16\n",
      "32\n"
     ]
    }
   ],
   "source": [
    "def powers_of_two(coll):\n",
    "    for i in range(coll+1):\n",
    "        yield 2 ** i\n",
    "\n",
    "# Generate powers of 2 up to 2^5\n",
    "for num in powers_of_two(5):\n",
    "    print(num)"
   ]
  },
  {
   "cell_type": "code",
   "execution_count": 39,
   "id": "86385e7c",
   "metadata": {},
   "outputs": [
    {
     "name": "stdout",
     "output_type": "stream",
     "text": [
      "1\n",
      "2\n"
     ]
    }
   ],
   "source": [
    "def powers_of_two(coll):\n",
    "    for i in range(coll+1):\n",
    "        yield 2 ** i\n",
    "l=powers_of_two(5)\n",
    "# print(list(l))\n",
    "print(next(l))\n",
    "print(next(l))\n"
   ]
  },
  {
   "cell_type": "code",
   "execution_count": 5,
   "id": "7f853bef",
   "metadata": {},
   "outputs": [
    {
     "name": "stdout",
     "output_type": "stream",
     "text": [
      "[2, 4, 8, 16, 32]\n"
     ]
    }
   ],
   "source": [
    "res=1\n",
    "l=[]\n",
    "for i in range(5):\n",
    "    res*=2\n",
    "    l+=[res]\n",
    "print(l)\n"
   ]
  },
  {
   "cell_type": "markdown",
   "id": "89f433ac",
   "metadata": {},
   "source": [
    "7. Implement a generator function that reads a file line by line and yields each line as a string.\n"
   ]
  },
  {
   "cell_type": "code",
   "execution_count": null,
   "id": "456f2066",
   "metadata": {},
   "outputs": [],
   "source": []
  },
  {
   "cell_type": "markdown",
   "id": "2a1d9ee6",
   "metadata": {},
   "source": [
    "8. Use a lambda function in Python to sort a list of tuples based on the second element of each tuple."
   ]
  },
  {
   "cell_type": "code",
   "execution_count": 20,
   "id": "fd603ac3",
   "metadata": {},
   "outputs": [
    {
     "name": "stdout",
     "output_type": "stream",
     "text": [
      "[(2, 5), (1, 10), (3, 15), (4, 20)]\n"
     ]
    }
   ],
   "source": [
    "l = [(4, 20), (1, 10), (3, 15), (2, 5)]\n",
    "\n",
    "# Sort by second element using lambda\n",
    "sort_l = sorted(l, key=lambda x: x[1])\n",
    "\n",
    "print(sort_l)"
   ]
  },
  {
   "cell_type": "code",
   "execution_count": 12,
   "id": "e063a01c",
   "metadata": {},
   "outputs": [
    {
     "ename": "TypeError",
     "evalue": "'tuple' object does not support item assignment",
     "output_type": "error",
     "traceback": [
      "\u001b[1;31m---------------------------------------------------------------------------\u001b[0m",
      "\u001b[1;31mTypeError\u001b[0m                                 Traceback (most recent call last)",
      "Cell \u001b[1;32mIn[12], line 5\u001b[0m\n\u001b[0;32m      3\u001b[0m     \u001b[38;5;28;01mfor\u001b[39;00m j \u001b[38;5;129;01min\u001b[39;00m \u001b[38;5;28mrange\u001b[39m(\u001b[38;5;28mlen\u001b[39m(l)\u001b[38;5;241m-\u001b[39m\u001b[38;5;241m1\u001b[39m):\n\u001b[0;32m      4\u001b[0m         \u001b[38;5;28;01mif\u001b[39;00m l[j][\u001b[38;5;241m1\u001b[39m] \u001b[38;5;241m>\u001b[39m l[j\u001b[38;5;241m+\u001b[39m\u001b[38;5;241m1\u001b[39m][\u001b[38;5;241m1\u001b[39m]:\n\u001b[1;32m----> 5\u001b[0m             \u001b[43ml\u001b[49m\u001b[43m[\u001b[49m\u001b[43mj\u001b[49m\u001b[43m]\u001b[49m\u001b[43m[\u001b[49m\u001b[38;5;241;43m1\u001b[39;49m\u001b[43m]\u001b[49m, l[j\u001b[38;5;241m+\u001b[39m\u001b[38;5;241m1\u001b[39m][\u001b[38;5;241m1\u001b[39m] \u001b[38;5;241m=\u001b[39m l[j\u001b[38;5;241m+\u001b[39m\u001b[38;5;241m1\u001b[39m][\u001b[38;5;241m1\u001b[39m], l[j][\u001b[38;5;241m1\u001b[39m]\n\u001b[0;32m      6\u001b[0m \u001b[38;5;28mprint\u001b[39m(l)\n",
      "\u001b[1;31mTypeError\u001b[0m: 'tuple' object does not support item assignment"
     ]
    }
   ],
   "source": [
    "l = [(1, 3), (4, 1), (2, 2), (5, 0)]\n",
    "for i in range(len(l)):\n",
    "    for j in range(len(l)-1):\n",
    "        if l[j][1] > l[j+1][1]:\n",
    "            l[j][1], l[j+1][1] = l[j+1][1], l[j][1]\n",
    "print(l)\n"
   ]
  },
  {
   "cell_type": "code",
   "execution_count": 13,
   "id": "ddf65265",
   "metadata": {},
   "outputs": [
    {
     "name": "stdout",
     "output_type": "stream",
     "text": [
      "[(5, 0), (4, 1), (2, 2), (1, 3)]\n"
     ]
    }
   ],
   "source": [
    "data = [(1, 3), (4, 1), (2, 2), (5, 0)]\n",
    "\n",
    "# Bubble sort based on second element of each tuple\n",
    "n = len(data)\n",
    "for i in range(n):\n",
    "    for j in range(0, n - i - 1):\n",
    "        if data[j][1] > data[j + 1][1]:\n",
    "            # Swap\n",
    "            temp = data[j]\n",
    "            data[j] = data[j + 1]\n",
    "            data[j + 1] = temp\n",
    "\n",
    "# Result after sorting\n",
    "print(data)"
   ]
  },
  {
   "cell_type": "markdown",
   "id": "584735b6",
   "metadata": {},
   "source": [
    " 9. Write a Python program that uses `map()` to convert a list of temperatures from Celsius to Fahrenheit."
   ]
  },
  {
   "cell_type": "code",
   "execution_count": 34,
   "id": "5e9b26a0",
   "metadata": {},
   "outputs": [
    {
     "name": "stdout",
     "output_type": "stream",
     "text": [
      "[86.0, 104.0, 113.0]\n"
     ]
    }
   ],
   "source": [
    "temp_l = [30, 40, 45]\n",
    "l = list(map(lambda x: (x*9/5)+32, temp_l))\n",
    "print(l)"
   ]
  },
  {
   "cell_type": "markdown",
   "id": "a477ce32",
   "metadata": {},
   "source": [
    "10. Create a Python program that uses `filter()` to remove all the vowels from a given string."
   ]
  },
  {
   "cell_type": "code",
   "execution_count": 29,
   "id": "323dbe24",
   "metadata": {},
   "outputs": [
    {
     "name": "stdout",
     "output_type": "stream",
     "text": [
      "Hll Hw Ar Y\n"
     ]
    }
   ],
   "source": [
    "l = 'Hello How Are You'\n",
    "x = list(filter(lambda x: x not in 'aeiou', l))\n",
    "print(''.join(x))\n"
   ]
  }
 ],
 "metadata": {
  "kernelspec": {
   "display_name": "Python 3",
   "language": "python",
   "name": "python3"
  },
  "language_info": {
   "codemirror_mode": {
    "name": "ipython",
    "version": 3
   },
   "file_extension": ".py",
   "mimetype": "text/x-python",
   "name": "python",
   "nbconvert_exporter": "python",
   "pygments_lexer": "ipython3",
   "version": "3.12.0"
  }
 },
 "nbformat": 4,
 "nbformat_minor": 5
}
