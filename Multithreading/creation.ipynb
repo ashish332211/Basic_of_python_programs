{
 "cells": [
  {
   "cell_type": "markdown",
   "metadata": {},
   "source": [
    " How to create a Thread:\n",
    " • By using Thread class present in threading module\n",
    "\n",
    " step1--->import Thread class from threading module\n",
    "\n",
    " step2--->create a function containing code to be executed parallelly\n",
    "\n",
    " step3--->create an object of Thread class\n",
    "\n",
    " step4--->start created thread using start() method.\n",
    "\n",
    " SYNTAX:\n",
    "\n",
    " • The syntax used to create Thread\n",
    "\n",
    " • import threading\n",
    " \n",
    " •var-threading.Thread(target-function_name, args (val,val2), kwargs (val))\n",
    "\n",
    " 1.declaration of thread parameters :it contains the target function arguments and kwargs as the parameters in the thread()class\n",
    "\n",
    " target-> it defines the function name that is executed by the thread\n",
    "\n",
    " args->it defines the argument that are passed to the target.\n",
    "\n",
    " START()\n",
    "\n",
    " • start() method is an inbuilt method of the Thread class of the threading module, it is used to start a thread's activity.\n",
    "\n",
    " • This method calls the run() method internally which then executes the target method.\n",
    "\n",
    " • Note \n",
    " we can't predite the output ,the process or will data the output.\n",
    "\n",
    " time.perf_counter()\n",
    "\n",
    " The time, perf_counter() function is a high-resolution timing function that uses the processor's performance counter to measure time.\n",
    "\n",
    " • It's suitable for measuring the time taken by a function and the time taken by small code blocks or individual statements.\n",
    "\n",
    " Syntax: time.perf_counter()"
   ]
  },
  {
   "cell_type": "code",
   "execution_count": 1,
   "metadata": {},
   "outputs": [
    {
     "name": "stdout",
     "output_type": "stream",
     "text": [
      "1\n",
      "2\n",
      "3\n",
      "4\n",
      "5\n",
      "6\n",
      "7\n",
      "8\n",
      "9\n",
      "10\n"
     ]
    }
   ],
   "source": [
    "import time\n",
    "from threading  import *\n",
    "# t=threading.Thread\n",
    "def display():\n",
    "    for i in range(1,11):\n",
    "        time.sleep(2)\n",
    "        print(i)\n",
    "t=Thread(target=display)\n",
    "t.start()"
   ]
  },
  {
   "cell_type": "code",
   "execution_count": 5,
   "metadata": {},
   "outputs": [
    {
     "name": "stdout",
     "output_type": "stream",
     "text": [
      "the start time: 2125955.1578978\n",
      "1\n",
      "2\n",
      "100\n",
      "3\n",
      "4\n",
      "5\n",
      "101\n",
      "6\n",
      "7\n",
      "8\n",
      "102\n",
      "9\n",
      "10\n",
      "103\n",
      "104\n",
      "105\n",
      "106\n",
      "107\n",
      "108\n",
      "109\n",
      "110\n",
      "The end time 2125988.1663405\n",
      "the total time taken by the functions: 33.00844269990921\n"
     ]
    }
   ],
   "source": [
    "import time\n",
    "from threading import *\n",
    "start = time.perf_counter()\n",
    "print(\"the start time:\", start)\n",
    "def display():\n",
    "    for i in range(1, 11):\n",
    "        time.sleep(1)\n",
    "        print(i)\n",
    "# display()\n",
    "ti = Thread(target=display)\n",
    "ti.start()\n",
    "\n",
    "def view():\n",
    "    for i in range(100, 111):\n",
    "        time.sleep(3)\n",
    "        print(i)\n",
    "view()\n",
    "\n",
    "end = time.perf_counter() \n",
    "print(\"The end time\", end)\n",
    "print(\"the total time taken by the functions:\",end-start)"
   ]
  },
  {
   "cell_type": "markdown",
   "metadata": {},
   "source": [
    "ACTIVE COUNT\n",
    "\n",
    "* The function returns the number of active threads currently working"
   ]
  },
  {
   "cell_type": "code",
   "execution_count": 6,
   "metadata": {},
   "outputs": [
    {
     "name": "stdout",
     "output_type": "stream",
     "text": [
      "The Number Of Threads Executing Before Creating:  6\n",
      "The Number Of Threads Executing After Creating:  9\n"
     ]
    },
    {
     "name": "stdout",
     "output_type": "stream",
     "text": [
      "30\n",
      "3000\n",
      "300\n"
     ]
    }
   ],
   "source": [
    "#ACTIVE COUNT\n",
    "\n",
    "print(\"The Number Of Threads Executing Before Creating: \", active_count())\n",
    "\n",
    "from threading import *\n",
    "import time\n",
    "\n",
    "def add(a, b):\n",
    "    time.sleep(2)\n",
    "    print(a+b)\n",
    "\n",
    "t1 = Thread(target=add, args=(10,), kwargs=({\"b\": 20}))\n",
    "t2 = Thread(target=add, args=(100,), kwargs=({\"b\": 200}))\n",
    "t3 = Thread(target=add, args=(1000,), kwargs=({\"b\": 2000}))\n",
    "t1.start()\n",
    "t2.start()\n",
    "t3.start()\n",
    "\n",
    "print(\"The Number Of Threads Executing After Creating: \", active_count())"
   ]
  },
  {
   "cell_type": "markdown",
   "metadata": {},
   "source": [
    " join()\n",
    " - If a thread wants to wait until completing some other thread than we should go for join method\n",
    " - We can call join method with time period also\n",
    " syntax: \n",
    " 1. var.join() -> without seconds\n",
    " 2. var.join(sec) -> with seconds"
   ]
  },
  {
   "cell_type": "code",
   "execution_count": 6,
   "metadata": {},
   "outputs": [
    {
     "name": "stdout",
     "output_type": "stream",
     "text": [
      "Document Is Downloading\n",
      "Document Downloaded\n",
      "Open With\n",
      "THREAD\n",
      "THREAD\n",
      "THREAD\n"
     ]
    }
   ],
   "source": [
    "def download():\n",
    "    print(\"Document Is Downloading\")\n",
    "    time.sleep(3)\n",
    "    print(\"Document Downloaded\")\n",
    "\n",
    "def notification():\n",
    "    print(\"Open With\")\n",
    "\n",
    "t1 = Thread(target=download)\n",
    "t2 = Thread(target=notification)\n",
    "t1.start()\n",
    "t1.join()   #t2 will wait untill t1 thread executes\n",
    "t2.start()\n",
    "t2.join()\n",
    "\n",
    "for i in range(1, 4):\n",
    "    print(\"THREAD\")"
   ]
  },
  {
   "cell_type": "markdown",
   "metadata": {},
   "source": [
    "CREATING A THREAD BY EXTENDING THREAD CLASS\n",
    "--------------------------------------------\n",
    "We have to create child class for thread class, in that child class we have to override \"run()\"\n",
    "\n",
    "Whenever we call start() method then autometically run() method be execute and perform\n",
    "\n",
    "* inherit the thread class to the child class\n",
    "\n",
    "if we are inheriting the thread class to child class we have to use run() method\n",
    "\n",
    "We should not give any other name for method, that block will not execute"
   ]
  },
  {
   "cell_type": "markdown",
   "metadata": {},
   "source": [
    "run()\n",
    "------\n",
    "* run() method is an inbuilt method of the Thread class of the threading module, it is used to represent a thread's activity.\n",
    "\n",
    "* When a new thread is created, the run() method is not called automatically, We must call the thread's start() method to start the thread's work\n",
    "\n",
    "* Syntax: def run(self)"
   ]
  },
  {
   "cell_type": "code",
   "execution_count": 16,
   "metadata": {},
   "outputs": [
    {
     "name": "stdout",
     "output_type": "stream",
     "text": [
      "77\n",
      "178\n",
      "\n",
      "79\n",
      "2\n",
      "80\n",
      "81\n"
     ]
    },
    {
     "name": "stdout",
     "output_type": "stream",
     "text": [
      "3\n",
      "4\n"
     ]
    }
   ],
   "source": [
    "class MyThread(Thread):\n",
    "    def run(self):\n",
    "        for i in range(1, 5):\n",
    "            time.sleep(2)\n",
    "            print(i)\n",
    "\n",
    "t = MyThread()\n",
    "t.start()\n",
    "\n",
    "for i in range(77, 82):\n",
    "    time.sleep(1)\n",
    "    print(i)"
   ]
  },
  {
   "cell_type": "code",
   "execution_count": 15,
   "metadata": {},
   "outputs": [
    {
     "name": "stdout",
     "output_type": "stream",
     "text": [
      "Square 4\n",
      "Square 64\n",
      "Cube 125\n",
      "Cube 343\n",
      "Cube 27\n",
      "Cube 2197\n"
     ]
    }
   ],
   "source": [
    "l = [2, 8, 5, 7, 3, 13]\n",
    "class sq(Thread):\n",
    "    def run(self):\n",
    "        for i in l:\n",
    "            if i%2 == 0:\n",
    "                print('Square', i**2)\n",
    "\n",
    "class Cube(Thread):\n",
    "    def run(self):\n",
    "        for i in l:\n",
    "            if i%2 != 0:\n",
    "                print('Cube', i**3)\n",
    "\n",
    "t1 = sq()\n",
    "t2 = Cube()\n",
    "t1.start()\n",
    "t2.start() "
   ]
  }
 ],
 "metadata": {
  "kernelspec": {
   "display_name": "Python 3",
   "language": "python",
   "name": "python3"
  },
  "language_info": {
   "codemirror_mode": {
    "name": "ipython",
    "version": 3
   },
   "file_extension": ".py",
   "mimetype": "text/x-python",
   "name": "python",
   "nbconvert_exporter": "python",
   "pygments_lexer": "ipython3",
   "version": "3.12.0"
  }
 },
 "nbformat": 4,
 "nbformat_minor": 2
}
