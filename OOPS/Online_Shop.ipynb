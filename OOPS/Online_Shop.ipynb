{
 "cells": [
  {
   "cell_type": "code",
   "execution_count": 10,
   "metadata": {},
   "outputs": [],
   "source": [
    "class customer:\n",
    "    cust_count = 0\n",
    "    cust_details = {}\n",
    "    def __init__(self, cname, age, email, phone, address, adhaar):\n",
    "        self.c_name = cname\n",
    "        self.age = age\n",
    "        self.email = email\n",
    "        self.phone = phone\n",
    "        self.address = address\n",
    "        self.adhar = adhaar\n",
    "        self.inc_cust_count()\n",
    "        self.cust_id = 1560 + self.cust_count\n",
    "        self.concat_cust(self.cust_id, self)\n",
    "\n",
    "    @classmethod\n",
    "    def inc_cust_count(cls):\n",
    "        cls.cust_count+=1\n",
    "\n",
    "    @classmethod\n",
    "    def concat_cust(cls, id, self):\n",
    "        cls.cust_details[id] = self\n",
    "\n",
    "rahul=customer('rahul', 23, 'rahul@gmail.com', 9876543211, 'hyd', 112445637654)"
   ]
  },
  {
   "cell_type": "code",
   "execution_count": 37,
   "metadata": {},
   "outputs": [
    {
     "data": {
      "text/plain": [
       "{'c_name': 'rahul',\n",
       " 'age': 23,\n",
       " 'email': 'rahul@gmail.com',\n",
       " 'phone': 9876543211,\n",
       " 'address': 'hyd',\n",
       " 'adhar': 112445637654,\n",
       " 'cust_id': 1561}"
      ]
     },
     "execution_count": 37,
     "metadata": {},
     "output_type": "execute_result"
    }
   ],
   "source": [
    "rahul.__dict__"
   ]
  },
  {
   "cell_type": "code",
   "execution_count": 2,
   "metadata": {},
   "outputs": [
    {
     "name": "stdout",
     "output_type": "stream",
     "text": [
      "Product_id  |  type_of_prod  |  name  |  desc  |  price  |  discount  |  quantity  |  dom  |  doe\n",
      "7561  |  Mobile  |  I Phone 14  |  I phone 14 pro max  |  145000  |  10  |  15  |  2023-05-06  |  None\n",
      "7562  |  laptop  |  hp  |  hp pro  |  75000  |  8  |  7  |  2023-07-16  |  None\n",
      "7563  |  Laptop  |  Dell  |  Dell Pro  |  85000  |  9  |  8  |  2023-05-19  |  None\n",
      "7564  |  Smart Watch  |  Noise  |  Noise pro  |  5000  |  5  |  10  |  2023-02-26  |  None\n",
      "7565  |  Smart Led  |  Samsung  |  Samsung pro  |  150000  |  5  |  7  |  2019-02-26  |  None\n",
      "['MOBILE', 'LAPTOP', 'SMART WATCH', 'SMART LED']\n"
     ]
    }
   ],
   "source": [
    "class product:\n",
    "    prod_count = 0\n",
    "    prod_details = {}\n",
    "    def __init__(self, type_of_prod, name, desc, price, discount, quantity, dom, doe):\n",
    "        self.type_of_prod = type_of_prod\n",
    "        self.p_name = name\n",
    "        self.p_desc = desc\n",
    "        self.p_price =price\n",
    "        self.p_discount = discount\n",
    "        self.p_quantity = quantity\n",
    "        self.p_dom = dom\n",
    "        self.p_doe = doe\n",
    "        self.inc_prod_count()\n",
    "        self.prod_id = 7560 + self.prod_count\n",
    "        self.concat_prod(self.prod_id, self)\n",
    "\n",
    "    @classmethod\n",
    "    def inc_prod_count(cls):\n",
    "        cls.prod_count+=1\n",
    "\n",
    "    @classmethod\n",
    "    def concat_prod(cls, id, self): \n",
    "        cls.prod_details[id] = self\n",
    "\n",
    "    def change_discount(self):\n",
    "        self.p_discount = int(input(\"Enter The New Discount Value: \"))\n",
    "\n",
    "    def change_inc_quantity(self):\n",
    "        self.p_quantity += int(input(\"Enter The New Quantity Value: \"))\n",
    "\n",
    "    def change_dec_quantity(self, value):\n",
    "        self.p_quantity -= value\n",
    "        \n",
    "    @classmethod\n",
    "    def display_prod_details(cls):\n",
    "        p_list = cls.prod_details\n",
    "        print('Product_id', 'type_of_prod', 'name', 'desc', 'price', 'discount', 'quantity', 'dom', 'doe',sep='  |  ')\n",
    "        for i in p_list:\n",
    "            print(p_list[i].prod_id, \n",
    "                  p_list[i].type_of_prod, \n",
    "                  p_list[i].p_name,\n",
    "                  p_list[i].p_desc,\n",
    "                  p_list[i].p_price,\n",
    "                  p_list[i].p_discount,\n",
    "                  p_list[i].p_quantity,\n",
    "                  p_list[i].p_dom,\n",
    "                  p_list[i].p_doe, sep='  |  ')\n",
    "            \n",
    "    @classmethod\n",
    "    def unique_type_prods(cls):\n",
    "        uni=[]\n",
    "        for i in cls.prod_details:\n",
    "            if cls.prod_details[i].type_of_prod.upper() not in uni:\n",
    "                uni += [cls.prod_details[i].type_of_prod.upper()]\n",
    "        print(uni)\n",
    "\n",
    "\n",
    "p1 = product('Mobile', 'I Phone 14', 'I phone 14 pro max', 145000, 10, 15, '2023-05-06', None)\n",
    "p2 = product('laptop', 'hp', 'hp pro', 75000, 8, 7, '2023-07-16', None)\n",
    "p3 = product('Laptop', 'Dell', 'Dell Pro', 85000, 9, 8, '2023-05-19', None)\n",
    "p4 = product('Smart Watch', 'Noise', 'Noise pro', 5000, 5, 10, '2023-02-26', None)\n",
    "p5 = product('Smart Led', 'Samsung', 'Samsung pro', 150000, 5, 7, '2019-02-26', None)\n",
    "\n",
    "product.display_prod_details()\n",
    "product.unique_type_prods()\n",
    "\n"
   ]
  },
  {
   "cell_type": "code",
   "execution_count": 47,
   "metadata": {},
   "outputs": [
    {
     "data": {
      "text/plain": [
       "{'type_of_prod': 'laptop',\n",
       " 'p_name': 'hp',\n",
       " 'p_desc': 'hp pro',\n",
       " 'p_price': 75000,\n",
       " 'p_discount': 8,\n",
       " 'p_quantity': 7,\n",
       " 'p_dom': '2023-07-16',\n",
       " 'p_doe': None,\n",
       " 'prod_id': 7562}"
      ]
     },
     "execution_count": 47,
     "metadata": {},
     "output_type": "execute_result"
    }
   ],
   "source": [
    "product.prod_details[7562].__dict__\n",
    "# product.prod_details[7562].p_quantity\n"
   ]
  },
  {
   "cell_type": "code",
   "execution_count": 12,
   "metadata": {},
   "outputs": [
    {
     "data": {
      "text/plain": [
       "<__main__.seller at 0x17539b46900>"
      ]
     },
     "execution_count": 12,
     "metadata": {},
     "output_type": "execute_result"
    }
   ],
   "source": [
    "class seller:\n",
    "    seller_details = {}\n",
    "    seller_count = 0\n",
    "    def __init__(self, name, age, email, phone, address, adhaar, type_of_seller, type_of_prod,pname, desc, price, discount, quantity, dom, doe):\n",
    "        self.type_of_seller = type_of_seller\n",
    "        cust = customer(name, age, email, phone, address, adhaar)\n",
    "        prod = product(type_of_prod, pname, desc, price, discount, quantity, dom, doe)\n",
    "        self.inc_seller_count()\n",
    "        self.seller_id = 9980 + self.seller_count\n",
    "        self.concat_seller(self.seller_id, self)\n",
    "\n",
    "    @classmethod\n",
    "    def inc_seller_count(cls):\n",
    "        cls.seller_count+=1\n",
    "\n",
    "    @classmethod\n",
    "    def concat_seller(cls, id, self):\n",
    "        cls.seller_details[id] = self\n",
    "\n",
    "seller('Mohan', 29, 'mohan@gmail.com', 9876543233, 'Telengana', 111223354567, 'Wholesell', 'laptop', 'hp15', 'hp 15 i5 gen', 45000, 5, 1, '2015-07-12', None)\n"
   ]
  },
  {
   "cell_type": "code",
   "execution_count": 49,
   "metadata": {},
   "outputs": [
    {
     "data": {
      "text/plain": [
       "{'type_of_seller': 'Wholesell', 'seller_id': 9981}"
      ]
     },
     "execution_count": 49,
     "metadata": {},
     "output_type": "execute_result"
    }
   ],
   "source": [
    "seller.seller_details[9981].__dict__"
   ]
  },
  {
   "cell_type": "code",
   "execution_count": 13,
   "metadata": {},
   "outputs": [
    {
     "name": "stdout",
     "output_type": "stream",
     "text": [
      "Customer Registration Is Success\n"
     ]
    },
    {
     "data": {
      "text/plain": [
       "{'c_name': 'DASDFGH',\n",
       " 'c_age': 23,\n",
       " 'c_email': 'sdgkjsakf@gmail.com',\n",
       " 'c_phone': None,\n",
       " 'c_address': 'asdfghjk',\n",
       " 'c_adhaar': 123443212345,\n",
       " 'cust_id': 1560}"
      ]
     },
     "execution_count": 13,
     "metadata": {},
     "output_type": "execute_result"
    }
   ],
   "source": [
    "class customer:\n",
    "    cust_count=0\n",
    "    cust_details={}\n",
    "    def __init__(self):\n",
    "        self.c_name = self.cname()\n",
    "        self.c_age = self.cage()\n",
    "        self.c_email = self.cemail()\n",
    "        self.c_phone = self.cphone()\n",
    "        self.c_address = self.caddress()\n",
    "        self.c_adhaar = self.cadhaar()\n",
    "        self.cust_id = 1560 + self.cust_count\n",
    "        self.concat_cust(self.cust_id, self)\n",
    "        self.csuccess()\n",
    "\n",
    "    @staticmethod\n",
    "    def caddress():\n",
    "        return input(\"Enter The Address: \")\n",
    "\n",
    "    @staticmethod\n",
    "    def csuccess():\n",
    "        print(\"Customer Registration Is Success\")\n",
    "\n",
    "    @classmethod\n",
    "    def cname(cls):\n",
    "        name = input(\"Enter Username: \")\n",
    "        if not(3<=len(name)<=16):\n",
    "            print(\"Username should be minimum 3 and maximum 16 characters\")\n",
    "            return cls.cname()\n",
    "        else:\n",
    "            return name.upper()\n",
    "\n",
    "    @classmethod\n",
    "    def cphone(cls):\n",
    "        phone = input(\"Enter The Phone: \")\n",
    "        if len(phone)!=10:\n",
    "            print(\"Phone Number Should be 10 Digits\")\n",
    "            return cls.cphone()\n",
    "        elif phone[0] not in '9876':\n",
    "            print(\"Phone Number Should Starts With 9 or 8 or 7 or 6\")\n",
    "\n",
    "    @classmethod\n",
    "    def cadhaar(cls):\n",
    "        adhaar = input(\"Enter The Adhaar Number\")\n",
    "        if len(adhaar)!=12:\n",
    "            print(\"Adhaar Numbner Should Be 12 Dingts\")\n",
    "            return cls.cadhaar()\n",
    "        elif not(adhaar.isnumeric()):\n",
    "            print(\"Adhaar Number Should Be Digits\")\n",
    "            return cls.adhaar()\n",
    "        else:\n",
    "            return int(adhaar)\n",
    "        \n",
    "    @classmethod\n",
    "    def cage(cls):\n",
    "        age = eval(input(\"Enter The Age: \"))\n",
    "        if not(18<=age<=80):\n",
    "            print(\"Age Should be min 18 max 80 yeas\")\n",
    "            return cls.cage()\n",
    "        else:\n",
    "            return age\n",
    "\n",
    "    @classmethod\n",
    "    def cemail(cls):\n",
    "        email = input(\"Enter The Email: \")\n",
    "        if not(email[0].isalpha()):\n",
    "            print(\"Email Starting Character Should Be Alphabet\")\n",
    "            return cls.cemail()\n",
    "        elif not(8<=len(email)<=25):\n",
    "            print(\"Email Should Be min 8 and max 25 character\")\n",
    "            return cls.cemail()\n",
    "        elif not('@' in email and email.count('@')==1 and '.' in email[email.index('@'): ] and 1<=email.count('.')<=3):\n",
    "            print('Invalid Email')\n",
    "        elif len([i for i in email if not('A'<=i<='Z' or 'a'<=i<='z' or '0'<=i<='9' or i in '@_.')]):\n",
    "            print(\"Email Should Be A Special Chracter\")\n",
    "            return cls.cemail()\n",
    "        else:\n",
    "            return email\n",
    "\n",
    "    @classmethod\n",
    "    def inc_cust_count(cls):\n",
    "        cls.cust_count+=1\n",
    "\n",
    "    @classmethod\n",
    "    def concat_cust(cls, id, self):\n",
    "        cls.cust_details[id] = self\n",
    "\n",
    "customer()\n",
    "customer.cust_details[1560].__dict__\n",
    "        "
   ]
  }
 ],
 "metadata": {
  "kernelspec": {
   "display_name": "Python 3",
   "language": "python",
   "name": "python3"
  },
  "language_info": {
   "codemirror_mode": {
    "name": "ipython",
    "version": 3
   },
   "file_extension": ".py",
   "mimetype": "text/x-python",
   "name": "python",
   "nbconvert_exporter": "python",
   "pygments_lexer": "ipython3",
   "version": "3.12.0"
  }
 },
 "nbformat": 4,
 "nbformat_minor": 2
}
