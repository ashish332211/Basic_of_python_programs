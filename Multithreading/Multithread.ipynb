{
 "cells": [
  {
   "cell_type": "code",
   "execution_count": 4,
   "metadata": {},
   "outputs": [
    {
     "name": "stdout",
     "output_type": "stream",
     "text": [
      "The Current wworking thread is <_MainThread(MainThread, started 756)>\n"
     ]
    },
    {
     "name": "stderr",
     "output_type": "stream",
     "text": [
      "C:\\Users\\HP\\AppData\\Local\\Temp\\ipykernel_16000\\2059604472.py:4: DeprecationWarning: currentThread() is deprecated, use current_thread() instead\n",
      "  print(\"The Current wworking thread is\", threading.currentThread())\n"
     ]
    }
   ],
   "source": [
    "#WAP to print the current excuting thread\n",
    "# from threading import *\n",
    "import threading\n",
    "print(\"The Current wworking thread is\", threading.currentThread())"
   ]
  },
  {
   "cell_type": "code",
   "execution_count": 7,
   "metadata": {},
   "outputs": [
    {
     "name": "stdout",
     "output_type": "stream",
     "text": [
      "The Name Is:  MainThread\n"
     ]
    },
    {
     "name": "stderr",
     "output_type": "stream",
     "text": [
      "C:\\Users\\HP\\AppData\\Local\\Temp\\ipykernel_16000\\573579755.py:3: DeprecationWarning: currentThread() is deprecated, use current_thread() instead\n",
      "  print(\"The Name Is: \", threading.currentThread().getName())\n",
      "C:\\Users\\HP\\AppData\\Local\\Temp\\ipykernel_16000\\573579755.py:3: DeprecationWarning: getName() is deprecated, get the name attribute instead\n",
      "  print(\"The Name Is: \", threading.currentThread().getName())\n"
     ]
    }
   ],
   "source": [
    "#WAP to print name of the current executing thread\n",
    "import threading\n",
    "print(\"The Name Is: \", threading.currentThread().getName())"
   ]
  },
  {
   "cell_type": "code",
   "execution_count": 8,
   "metadata": {},
   "outputs": [
    {
     "name": "stdout",
     "output_type": "stream",
     "text": [
      "The Name Is:  Ashish\n"
     ]
    },
    {
     "name": "stderr",
     "output_type": "stream",
     "text": [
      "C:\\Users\\HP\\AppData\\Local\\Temp\\ipykernel_16000\\447959662.py:2: DeprecationWarning: currentThread() is deprecated, use current_thread() instead\n",
      "  threading.currentThread().setName(\"Ashish\")\n",
      "C:\\Users\\HP\\AppData\\Local\\Temp\\ipykernel_16000\\447959662.py:2: DeprecationWarning: setName() is deprecated, set the name attribute instead\n",
      "  threading.currentThread().setName(\"Ashish\")\n",
      "C:\\Users\\HP\\AppData\\Local\\Temp\\ipykernel_16000\\447959662.py:3: DeprecationWarning: currentThread() is deprecated, use current_thread() instead\n",
      "  print(\"The Name Is: \", threading.currentThread().getName())\n",
      "C:\\Users\\HP\\AppData\\Local\\Temp\\ipykernel_16000\\447959662.py:3: DeprecationWarning: getName() is deprecated, get the name attribute instead\n",
      "  print(\"The Name Is: \", threading.currentThread().getName())\n"
     ]
    }
   ],
   "source": [
    "#WAP to set the user defined name  to the thread\n",
    "import threading\n",
    "threading.currentThread().setName(\"Ashish\")\n",
    "print(\"The Name Is: \", threading.currentThread().getName())\n"
   ]
  }
 ],
 "metadata": {
  "kernelspec": {
   "display_name": "Python 3",
   "language": "python",
   "name": "python3"
  },
  "language_info": {
   "codemirror_mode": {
    "name": "ipython",
    "version": 3
   },
   "file_extension": ".py",
   "mimetype": "text/x-python",
   "name": "python",
   "nbconvert_exporter": "python",
   "pygments_lexer": "ipython3",
   "version": "3.12.0"
  }
 },
 "nbformat": 4,
 "nbformat_minor": 2
}
