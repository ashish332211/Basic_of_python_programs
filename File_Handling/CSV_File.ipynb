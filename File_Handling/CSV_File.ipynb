{
 "cells": [
  {
   "cell_type": "code",
   "execution_count": 1,
   "metadata": {},
   "outputs": [],
   "source": [
    "import csv\n",
    "fp=open('student.csv','w',newline='\\n')\n",
    "filewrite=csv.writer(fp)        #it accept file pointer address and returns writer object\n",
    "filewrite.writerow(['sid','name','phone','marks']) #It insert only one record\n",
    "fp.close()"
   ]
  },
  {
   "cell_type": "code",
   "execution_count": 2,
   "metadata": {},
   "outputs": [],
   "source": [
    "import csv\n",
    "fp=open('student.csv','a',newline='\\n')\n",
    "#It accept file pointeraddress and return writer object\n",
    "filewrite=csv.writer(fp) #fp is path of the csv file\n",
    "filewrite.writerow([1,'RAJA',9879234567,98])\n",
    "#writerow() will insert only one record\n",
    "fp.close()"
   ]
  },
  {
   "cell_type": "code",
   "execution_count": 3,
   "metadata": {},
   "outputs": [],
   "source": [
    "import csv\n",
    "fp=open('student.csv','a',newline='\\n')\n",
    "#It accept file pointeraddress and return writer object\n",
    "filewrite=csv.writer(fp) #fp is path of the csv file\n",
    "filewrite.writerows([[2,'Rama',9859654321,98],\n",
    "                    [3,'Raghua',8563123456,77]])\n",
    "#writerow() will insert more than one record\n",
    "fp.close()"
   ]
  },
  {
   "cell_type": "code",
   "execution_count": 7,
   "metadata": {},
   "outputs": [
    {
     "name": "stdout",
     "output_type": "stream",
     "text": [
      "['sid', 'name', 'phone', 'marks']\n",
      "['1', 'RAJA', '9879234567', '98']\n",
      "['2', 'Rama', '9859654321', '98']\n",
      "['3', 'Raghua', '8563123456', '77']\n"
     ]
    }
   ],
   "source": [
    "fp=open('student.csv','r')\n",
    "filread=csv.reader(fp)\n",
    "# print(next(filread))\n",
    "# print(next(filread))\n",
    "\n",
    "for i in filread:\n",
    "    print(i)\n",
    "fp.close()\n",
    "#reader will accept file pointer address and it returns reader object(with all the records)\n",
    "#if you want to Manipulate the data. we have to do the list typecast\n"
   ]
  },
  {
   "cell_type": "code",
   "execution_count": 8,
   "metadata": {},
   "outputs": [
    {
     "name": "stdout",
     "output_type": "stream",
     "text": [
      "['sid', 'name', 'phone', 'marks']\n",
      "['1', 'RAJA', '9879234567', '98']\n",
      "['2', 'Rama', '9859654321', '98']\n",
      "['3', 'Raghua', '8563123456', '77']\n"
     ]
    }
   ],
   "source": [
    "fp=open('student.csv','r')\n",
    "filread=csv.reader(fp)\n",
    "# print(next(filread))\n",
    "for i in filread:\n",
    "    print(i)\n",
    "res=list(filread)\n",
    "fp.close()\n",
    "#reader object we can utilize only one time"
   ]
  },
  {
   "cell_type": "code",
   "execution_count": 9,
   "metadata": {},
   "outputs": [
    {
     "name": "stdout",
     "output_type": "stream",
     "text": [
      "[['sid', 'name', 'phone', 'marks'], ['1', 'RAJA', '9879234567', '98'], ['2', 'Rama', '9859654321', '98'], ['3', 'Raghua', '8563123456', '77']]\n"
     ]
    }
   ],
   "source": [
    "#modification\n",
    "fp=open('student.csv','r')\n",
    "filread=csv.reader(fp)\n",
    "res=list(filread)\n",
    "fp.close()\n",
    "print(res)"
   ]
  },
  {
   "cell_type": "code",
   "execution_count": 15,
   "metadata": {},
   "outputs": [],
   "source": [
    "fp=open('student.csv','w',newline='\\n')\n",
    "fpwrite=csv.writer(fp)\n",
    "fpwrite.writerows(res)\n",
    "fp.close()"
   ]
  },
  {
   "cell_type": "code",
   "execution_count": 16,
   "metadata": {},
   "outputs": [],
   "source": [
    "#EMPLOYEE\n",
    "fp=open('employee.csv','w')\n",
    "fpwrite=csv.DictWriter(fp,['eid','name','phone','salary','dob'])\n",
    "#Dictwriter() will accept file pointer, field name's and it return's writer object\n",
    "fpwrite.writeheader()   #Create the header inside the file based on field names\n",
    "fp.close()"
   ]
  },
  {
   "cell_type": "code",
   "execution_count": 17,
   "metadata": {},
   "outputs": [],
   "source": [
    "fp=open('employee.csv','a',newline='\\n')\n",
    "fpwrite=csv.DictWriter(fp,['eid','name','phone','salary','dob'])\n",
    "fpwrite.writerow({'eid':1,'name':'babu','phone':32408908,'salary':2500,'dob':'12-03-2020'})\n",
    "fp.close()"
   ]
  },
  {
   "cell_type": "code",
   "execution_count": 19,
   "metadata": {},
   "outputs": [],
   "source": [
    "fp=open('employee.csv','a',newline='\\n')\n",
    "fpwrite=csv.DictWriter(fp,['eid','name','phone','salary','dob'])\n",
    "fpwrite.writerows([{'eid':2,'name':'Raj','phone':32408908,'salary':2500,'dob':'12-03-2020'},\n",
    "                  {'eid':3,'name':'Ram','phone':32408908,'salary':2500,'dob':'12-03-2020'}])\n",
    "fp.close()"
   ]
  },
  {
   "cell_type": "code",
   "execution_count": 12,
   "metadata": {},
   "outputs": [
    {
     "name": "stdout",
     "output_type": "stream",
     "text": [
      "<csv.DictReader object at 0x00000273571E61E0>\n",
      "{'eid': 'eid', 'name': 'name', 'phone': 'phone', 'salary': 'salary', 'dob': 'dob'}\n",
      "{'eid': '1', 'name': 'babu', 'phone': '32408908', 'salary': '2500', 'dob': '12-03-2020'}\n",
      "{'eid': '2', 'name': 'babu', 'phone': '32408908', 'salary': '2500', 'dob': '12-03-2020'}\n",
      "{'eid': '3', 'name': 'babu', 'phone': '32408908', 'salary': '2500', 'dob': '12-03-2020'}\n"
     ]
    }
   ],
   "source": [
    "fp=open('employee.csv','r',newline='\\n')\n",
    "fpread=csv.DictReader(fp,['eid','name','phone','salary','dob'])\n",
    "print(fpread)\n",
    "for i in fpread:\n",
    "    print(i)\n",
    "fp.close()"
   ]
  },
  {
   "cell_type": "code",
   "execution_count": 13,
   "metadata": {},
   "outputs": [
    {
     "name": "stdout",
     "output_type": "stream",
     "text": [
      "[{'eid': 'eid', 'name': 'name', 'phone': 'phone', 'salary': 'salary', 'dob': 'dob'}, {'eid': '1', 'name': 'babu', 'phone': '32408908', 'salary': '2500', 'dob': '12-03-2020'}, {'eid': '2', 'name': 'babu', 'phone': '32408908', 'salary': '2500', 'dob': '12-03-2020'}, {'eid': '3', 'name': 'babu', 'phone': '32408908', 'salary': '2500', 'dob': '12-03-2020'}]\n"
     ]
    }
   ],
   "source": [
    "fp=open('employee.csv','r',newline='\\n')\n",
    "fpread=csv.DictReader(fp,['eid','name','phone','salary','dob'])\n",
    "res=list(fpread)\n",
    "print(res)\n",
    "fp.close()"
   ]
  },
  {
   "cell_type": "code",
   "execution_count": 14,
   "metadata": {},
   "outputs": [],
   "source": [
    "#Manipulate\n",
    "res[1]['salary']=95000"
   ]
  },
  {
   "cell_type": "code",
   "execution_count": 15,
   "metadata": {},
   "outputs": [
    {
     "data": {
      "text/plain": [
       "{'eid': '1',\n",
       " 'name': 'babu',\n",
       " 'phone': '32408908',\n",
       " 'salary': 95000,\n",
       " 'dob': '12-03-2020'}"
      ]
     },
     "execution_count": 15,
     "metadata": {},
     "output_type": "execute_result"
    }
   ],
   "source": [
    "res[1]"
   ]
  }
 ],
 "metadata": {
  "kernelspec": {
   "display_name": "Python 3",
   "language": "python",
   "name": "python3"
  },
  "language_info": {
   "codemirror_mode": {
    "name": "ipython",
    "version": 3
   },
   "file_extension": ".py",
   "mimetype": "text/x-python",
   "name": "python",
   "nbconvert_exporter": "python",
   "pygments_lexer": "ipython3",
   "version": "3.12.0"
  }
 },
 "nbformat": 4,
 "nbformat_minor": 2
}
