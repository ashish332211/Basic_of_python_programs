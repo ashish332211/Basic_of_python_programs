{
 "cells": [
  {
   "cell_type": "code",
   "execution_count": 1,
   "metadata": {},
   "outputs": [
    {
     "name": "stdout",
     "output_type": "stream",
     "text": [
      "python\n"
     ]
    }
   ],
   "source": [
    "#WITH ARGUMENTS WITHOUT RETURN STATEMENTS\n",
    "x='hello HAII 123 @#$'\n",
    "def upper(x):"
   ]
  },
  {
   "cell_type": "code",
   "execution_count": 1,
   "metadata": {},
   "outputs": [
    {
     "data": {
      "text/plain": [
       "'Hello world123@$'"
      ]
     },
     "execution_count": 1,
     "metadata": {},
     "output_type": "execute_result"
    }
   ],
   "source": [
    "#Capitalize\n",
    "st='hello World123@$'\n",
    "def u_capitalize(coll):\n",
    "    res=''\n",
    "    if 'a'<=coll[0]<='z':\n",
    "        res+=chr(ord(coll[0])-32)\n",
    "    else:\n",
    "        res+=coll[0]\n",
    "    for i in range(1,len(coll)):\n",
    "        if 'A'<=coll[i]<='Z':\n",
    "            res+=chr(ord(coll[i])+32)\n",
    "        else:\n",
    "            res+=coll[i]\n",
    "    return res\n",
    "u_capitalize(st)"
   ]
  },
  {
   "cell_type": "code",
   "execution_count": 2,
   "metadata": {},
   "outputs": [
    {
     "data": {
      "text/plain": [
       "'hello world123@#'"
      ]
     },
     "execution_count": 2,
     "metadata": {},
     "output_type": "execute_result"
    }
   ],
   "source": [
    "#casefold\n",
    "st='HELLO WORLD123@#'\n",
    "st.casefold()"
   ]
  },
  {
   "cell_type": "code",
   "execution_count": 123,
   "metadata": {},
   "outputs": [
    {
     "data": {
      "text/plain": [
       "False"
      ]
     },
     "execution_count": 123,
     "metadata": {},
     "output_type": "execute_result"
    }
   ],
   "source": [
    "st='!@#$%34'\n",
    "st.isalnum()"
   ]
  },
  {
   "cell_type": "code",
   "execution_count": 119,
   "metadata": {},
   "outputs": [
    {
     "data": {
      "text/plain": [
       "True"
      ]
     },
     "execution_count": 119,
     "metadata": {},
     "output_type": "execute_result"
    }
   ],
   "source": [
    "st='ash'\n",
    "st.isalpha()"
   ]
  },
  {
   "cell_type": "code",
   "execution_count": 125,
   "metadata": {},
   "outputs": [
    {
     "data": {
      "text/plain": [
       "False"
      ]
     },
     "execution_count": 125,
     "metadata": {},
     "output_type": "execute_result"
    }
   ],
   "source": [
    "st='ash ish'\n",
    "st.isspace()\n",
    "####"
   ]
  },
  {
   "cell_type": "code",
   "execution_count": 11,
   "metadata": {},
   "outputs": [
    {
     "data": {
      "text/plain": [
       "'hello world123@#'"
      ]
     },
     "execution_count": 11,
     "metadata": {},
     "output_type": "execute_result"
    }
   ],
   "source": [
    "#lower\n",
    "st='HELLO WORLD123@#'\n",
    "def u_lower(coll):\n",
    "    res=''\n",
    "    for i in st:\n",
    "        if 'A'<=i<='Z':\n",
    "            res+=chr(ord(i)+32)\n",
    "        else:\n",
    "            res+=i\n",
    "    return res\n",
    "u_lower(st)\n",
    "    "
   ]
  },
  {
   "cell_type": "code",
   "execution_count": 4,
   "metadata": {},
   "outputs": [
    {
     "data": {
      "text/plain": [
       "'HELLO world123!@#'"
      ]
     },
     "execution_count": 4,
     "metadata": {},
     "output_type": "execute_result"
    }
   ],
   "source": [
    "#swapcase\n",
    "st='hello WORLD123!@#'\n",
    "def u_swapcase(coll):\n",
    "    res=''\n",
    "    for i in st:\n",
    "        if 'a'<=i<='z':\n",
    "            res+=chr(ord(i)-32)\n",
    "        elif 'A'<=i<='Z':\n",
    "            res+=chr(ord(i)+32)\n",
    "        else:\n",
    "            res+=i\n",
    "    return res\n",
    "u_swapcase(st)"
   ]
  },
  {
   "cell_type": "code",
   "execution_count": 80,
   "metadata": {},
   "outputs": [
    {
     "data": {
      "text/plain": [
       "'@Hello World123Abc @# $Xyz Ijkl'"
      ]
     },
     "execution_count": 80,
     "metadata": {},
     "output_type": "execute_result"
    }
   ],
   "source": [
    "#title\n",
    "st='@hello wORLD123abc @# $xyz ijkl'\n",
    "def u_title(coll):\n",
    "    i=0\n",
    "    res=''\n",
    "    if 'a'<=coll[0]<='z':\n",
    "        res+=chr(ord(coll[0])-32)\n",
    "        # i=1\n",
    "    elif 'A'<=coll[0]<='Z':\n",
    "        res+=coll[0]\n",
    "        # i=1\n",
    "    while i<len(coll):\n",
    "        if not('A'<=coll[i]<='Z' or 'a'<=coll[i]<='z'):\n",
    "            res+=coll[i]\n",
    "            if 'a'<=coll[i+1]<='z':\n",
    "                res+=chr(ord(coll[i+1])-32)\n",
    "            else:\n",
    "                res+=coll[i+1]\n",
    "            i+=1\n",
    "        elif 'A'<=coll[i]<='Z':\n",
    "            res+=chr(ord(coll[i])+32)\n",
    "        else:\n",
    "            res+=coll[i]\n",
    "        i+=1\n",
    "    return res\n",
    "u_title(st)\n",
    "############"
   ]
  },
  {
   "cell_type": "code",
   "execution_count": 27,
   "metadata": {},
   "outputs": [
    {
     "name": "stdout",
     "output_type": "stream",
     "text": [
      "@#Hello Worl#D 12Abc\n"
     ]
    }
   ],
   "source": [
    "st='@#hello worl#d 12abc'\n",
    "# print(st.title())\n",
    "def u_title(coll):\n",
    "    res=''\n",
    "    i=0\n",
    "    while i<len(coll):\n",
    "        if not ('a'<=coll[i]<='z' or 'A'<=coll[i]<='Z' ):\n",
    "            res+=coll[i]\n",
    "        elif 'a'<=coll[i]<='z' and i==0:\n",
    "                res+=chr(ord(coll[i])-32)\n",
    "        else:\n",
    "            if  not ('a'<=coll[i-1]<='z' or 'A'<=coll[i-1]<='Z') and 'a'<=coll[i]<='z':\n",
    "                res+=chr(ord(coll[i])-32)\n",
    "            elif 'A'<=coll[i-1]<='Z' and 'A'<=coll[i]<='Z' and i!=0:\n",
    "                res+=chr(ord(coll[i])+32)\n",
    "            elif 'a'<=coll[i-1]<='z' and 'A'<=coll[i]<='Z' and i!=0:\n",
    "                res+=chr(ord(coll[i])+32)\n",
    "            else:\n",
    "                res+=coll[i]\n",
    "        i+=1\n",
    "    return res\n",
    "print(u_title(st))\n",
    "#imran"
   ]
  },
  {
   "cell_type": "code",
   "execution_count": 163,
   "metadata": {},
   "outputs": [
    {
     "data": {
      "text/plain": [
       "'---abc----'"
      ]
     },
     "execution_count": 163,
     "metadata": {},
     "output_type": "execute_result"
    }
   ],
   "source": [
    "#center\n",
    "st='abc'\n",
    "def u_center(coll,width,fillchar=''):\n",
    "    res=width-len(coll)\n",
    "    ll=res//2\n",
    "    lr = res - ll\n",
    "    return fillchar*ll+coll+fillchar*lr\n",
    "u_center(st,10,'-')"
   ]
  },
  {
   "cell_type": "code",
   "execution_count": 10,
   "metadata": {},
   "outputs": [
    {
     "data": {
      "text/plain": [
       "True"
      ]
     },
     "execution_count": 10,
     "metadata": {},
     "output_type": "execute_result"
    }
   ],
   "source": [
    "#istitle\n",
    "# st='@Hello World123Abc @# $Xyz Ijkl'\n",
    "# st.istitle()\n",
    "st='@Hello World123Abc @# Xyz Ijkl'\n",
    "def u_istitle(coll):\n",
    "    if 'a'<=coll[0]<='z':\n",
    "        return False\n",
    "    i=0\n",
    "    while i<len(coll):\n",
    "        if not('A'<=coll[i]<='Z' or 'a'<=coll[i]<='z'):\n",
    "            if 'a'<=coll[i+1]<='z':\n",
    "                return False\n",
    "        i+=1\n",
    "    return True\n",
    "u_istitle(st)"
   ]
  },
  {
   "cell_type": "code",
   "execution_count": 26,
   "metadata": {},
   "outputs": [
    {
     "data": {
      "text/plain": [
       "False"
      ]
     },
     "execution_count": 26,
     "metadata": {},
     "output_type": "execute_result"
    }
   ],
   "source": [
    "#isupper\n",
    "st='HeLLO123'\n",
    "def u_isupper(coll):\n",
    "    for i in coll:\n",
    "        if 'a'<=i<='z':\n",
    "            return False\n",
    "    return True\n",
    "u_isupper(st)"
   ]
  },
  {
   "cell_type": "code",
   "execution_count": 28,
   "metadata": {},
   "outputs": [
    {
     "data": {
      "text/plain": [
       "False"
      ]
     },
     "execution_count": 28,
     "metadata": {},
     "output_type": "execute_result"
    }
   ],
   "source": [
    "#islower\n",
    "st='heLLo123'\n",
    "def u_islower(coll):\n",
    "    for i in coll:\n",
    "        if 'A'<=i<='Z':\n",
    "            return False\n",
    "    return True\n",
    "u_islower(st)"
   ]
  },
  {
   "cell_type": "code",
   "execution_count": 46,
   "metadata": {},
   "outputs": [
    {
     "data": {
      "text/plain": [
       "True"
      ]
     },
     "execution_count": 46,
     "metadata": {},
     "output_type": "execute_result"
    }
   ],
   "source": [
    "#isidentifier\n",
    "st='e1pys_'\n",
    "def u_isidentifier(coll):\n",
    "    if '0'<=coll[0]<='9':\n",
    "        return False\n",
    "    for i in coll:\n",
    "        if not ('A'<=i<='Z' or 'a'<=i<='z' or '0'<=i<='9' or i=='_'):\n",
    "            return False\n",
    "    return True\n",
    "u_isidentifier(st)"
   ]
  },
  {
   "cell_type": "code",
   "execution_count": 52,
   "metadata": {},
   "outputs": [
    {
     "data": {
      "text/plain": [
       "'a-b-c-d-e'"
      ]
     },
     "execution_count": 52,
     "metadata": {},
     "output_type": "execute_result"
    }
   ],
   "source": [
    "# l=['a','b','c','d']\n",
    "# '+'.join(l)\n",
    "\n",
    "l=['a','b','c','d','e']\n",
    "def join(coll,sep=\"\"):\n",
    "    for i in coll:\n",
    "        if type(i)!=str:\n",
    "            return False\n",
    "    res=''\n",
    "    for i in coll:\n",
    "        res=res+i+sep\n",
    "    if sep==' ':\n",
    "        return res\n",
    "    else:\n",
    "        return res[:-(len(sep)):]\n",
    "join(l,'-')"
   ]
  },
  {
   "cell_type": "code",
   "execution_count": 18,
   "metadata": {},
   "outputs": [
    {
     "data": {
      "text/plain": [
       "1"
      ]
     },
     "execution_count": 18,
     "metadata": {},
     "output_type": "execute_result"
    }
   ],
   "source": [
    "#count()\n",
    "#-----------\n",
    "# st='helloworld'\n",
    "# st.count('l',3,7)\n",
    "\n",
    "\n",
    "st='helloworld'\n",
    "def u_count(coll,ele,start=0,end=None):\n",
    "    if end==None:\n",
    "        end=len(coll)\n",
    "    count=0\n",
    "    for i in range(start,end):\n",
    "        if coll[i]==ele:\n",
    "            count+=1\n",
    "    return count\n",
    "u_count(st, 'l', 3, 7)"
   ]
  },
  {
   "cell_type": "code",
   "execution_count": 164,
   "metadata": {},
   "outputs": [
    {
     "data": {
      "text/plain": [
       "8"
      ]
     },
     "execution_count": 164,
     "metadata": {},
     "output_type": "execute_result"
    }
   ],
   "source": [
    "# find()\n",
    "# ------------\n",
    "# st='helloworld'\n",
    "# st.find('l',3,5)   #It will return the index position of value. If element is not present in coll it will return -1 \n",
    "st='helloworld'\n",
    "def u_find(coll,ele,start=0,end=None):\n",
    "    if end==None:\n",
    "        end=len(coll)\n",
    "    if ele not in coll:\n",
    "        return -1\n",
    "    while start<end:\n",
    "        if ele==coll[start]:\n",
    "            return start\n",
    "        start+=1\n",
    "    return -1\n",
    "u_find(st,'l',4,9)"
   ]
  },
  {
   "cell_type": "code",
   "execution_count": 85,
   "metadata": {},
   "outputs": [
    {
     "data": {
      "text/plain": [
       "8"
      ]
     },
     "execution_count": 85,
     "metadata": {},
     "output_type": "execute_result"
    }
   ],
   "source": [
    "#rfiind()\n",
    "#--------------\n",
    "# st='helloworld'\n",
    "# st.rfind('o',2,7)\n",
    "st='helloworld'\n",
    "def u_rfind(coll,ele,start=0,end=None):\n",
    "    if end==None:\n",
    "        end=len(coll)-1\n",
    "    if ele not in coll[start:end]:\n",
    "        return -1\n",
    "    \n",
    "    while end>start:\n",
    "        if coll[end]==ele:\n",
    "            return end\n",
    "        end-=1\n",
    "u_rfind(st,'l',5,9)"
   ]
  },
  {
   "cell_type": "code",
   "execution_count": 95,
   "metadata": {},
   "outputs": [
    {
     "data": {
      "text/plain": [
       "['he', 'o wor', 'd how are you']"
      ]
     },
     "execution_count": 95,
     "metadata": {},
     "output_type": "execute_result"
    }
   ],
   "source": [
    "#split()\n",
    "#-------------\n",
    "st='hello world how are you'\n",
    "def u_split(coll,ele=''):\n",
    "    l=[]\n",
    "    res=''\n",
    "    for i in coll:\n",
    "        if i!=ele:\n",
    "            res+=i\n",
    "        else:\n",
    "            if res!='':\n",
    "                l+=[res]\n",
    "                res=''\n",
    "    if res!='':\n",
    "        l+=[res]\n",
    "    return l\n",
    "u_split(st,'l')"
   ]
  },
  {
   "cell_type": "code",
   "execution_count": 97,
   "metadata": {},
   "outputs": [
    {
     "data": {
      "text/plain": [
       "['hell', ' w', 'rld how are you']"
      ]
     },
     "execution_count": 97,
     "metadata": {},
     "output_type": "execute_result"
    }
   ],
   "source": [
    "#split with using maxsplit\n",
    "st='hello world how are you'\n",
    "def u_split(coll,ele='',maxsplit=None):\n",
    "    if maxsplit==None:\n",
    "        maxsplit=len(coll)\n",
    "    l=[]\n",
    "    res=''\n",
    "    index=0\n",
    "    for i in coll:\n",
    "        if i!=ele:\n",
    "            res+=i\n",
    "        else:\n",
    "            l+=[res]\n",
    "            res=''\n",
    "        index+=1\n",
    "        if len(l)==maxsplit:\n",
    "            return l+[coll[index:]]\n",
    "    if res!='':\n",
    "        l+=[res]\n",
    "    return l\n",
    "u_split(st,'o',2)       "
   ]
  },
  {
   "cell_type": "code",
   "execution_count": 84,
   "metadata": {},
   "outputs": [
    {
     "data": {
      "text/plain": [
       "['Hello World W', 'lcom', ' to pysp']"
      ]
     },
     "execution_count": 84,
     "metadata": {},
     "output_type": "execute_result"
    }
   ],
   "source": [
    "#rsplit()\n",
    "#---------\n",
    "st='Hello World Welcome to pysp'\n",
    "# st.rsplit('e',maxsplit=2)\n",
    "def u_rsplit(coll,ele='',maxsplit=None):\n",
    "    l=[]\n",
    "    res=''\n",
    "    start=0\n",
    "    end=len(coll)-1\n",
    "    while end>=start:\n",
    "        if ele!=coll[end]:\n",
    "            res=coll[end]+res\n",
    "        else:\n",
    "            if len(res)!=0:\n",
    "                l=[res]+l\n",
    "                res=''\n",
    "            if len(l)==maxsplit:\n",
    "                return [coll[:end]]+l\n",
    "        end-=1\n",
    "    if len(res)!=0:\n",
    "        l=[res]+l\n",
    "    return l\n",
    "u_rsplit(st,'e',2)"
   ]
  },
  {
   "cell_type": "code",
   "execution_count": 75,
   "metadata": {},
   "outputs": [
    {
     "data": {
      "text/plain": [
       "False"
      ]
     },
     "execution_count": 75,
     "metadata": {},
     "output_type": "execute_result"
    }
   ],
   "source": [
    "#startswith()\n",
    "#-------------\n",
    "st='I Love India I Hate Love'\n",
    "def u_startswith(coll,sub,start=0,end=None):\n",
    "    if end==None:\n",
    "        end=start+len(sub)\n",
    "    if sub not in coll[start:]:\n",
    "        return False\n",
    "    res=''\n",
    "\n",
    "    while start<end:\n",
    "        if coll[start]!=sub[start]:\n",
    "            return False\n",
    "        start+=1\n",
    "    # print(res==sub)\n",
    "    return True\n",
    "u_startswith(st,' I love',0,7)\n",
    "\n",
    "#     while start<end:\n",
    "#         if coll[start]!=sub[start]:\n",
    "#             return False\n",
    "#         start+=1\n",
    "#     return True\n",
    "# u_startswith(st,'i love',0,7)\n",
    "# ########"
   ]
  },
  {
   "cell_type": "code",
   "execution_count": 113,
   "metadata": {},
   "outputs": [
    {
     "name": "stdout",
     "output_type": "stream",
     "text": [
      "I Love Ind\n",
      "6\n"
     ]
    },
    {
     "data": {
      "text/plain": [
       "False"
      ]
     },
     "execution_count": 113,
     "metadata": {},
     "output_type": "execute_result"
    }
   ],
   "source": [
    "#endswith()\n",
    "#----------\n",
    "st='I Love India I Hate Love'\n",
    "# st.endswith('Love')\n",
    "def u_endswith(coll,sub,start=0,end=None):\n",
    "    if end==None:\n",
    "        end=len(coll)\n",
    "    st=''\n",
    "    while start<end:\n",
    "        st+=coll[start]\n",
    "        start+=1\n",
    "    print(st)\n",
    "    i=len(st)-len(sub)\n",
    "    print(i)\n",
    "    res=''\n",
    "    while i<len(st):\n",
    "        res+=st[i]\n",
    "        i+=1\n",
    "        return(res==sub)\n",
    "u_endswith(st,'Love',0,10)"
   ]
  },
  {
   "cell_type": "code",
   "execution_count": 11,
   "metadata": {},
   "outputs": [
    {
     "data": {
      "text/plain": [
       "'mxlxyxlxm'"
      ]
     },
     "execution_count": 11,
     "metadata": {},
     "output_type": "execute_result"
    }
   ],
   "source": [
    "#replace()\n",
    "# st='ashish'\n",
    "# st.replace('s','Z')\n",
    "\n",
    "st='malayalam'\n",
    "def u_replace(coll,old,new):\n",
    "    res=''\n",
    "    for i in coll:\n",
    "        if i==old:\n",
    "            res+=new\n",
    "        else:\n",
    "            res+=i\n",
    "    return res\n",
    "u_replace(st,'a','x')"
   ]
  },
  {
   "cell_type": "code",
   "execution_count": 19,
   "metadata": {},
   "outputs": [
    {
     "data": {
      "text/plain": [
       "'xunday ix a maxxday'"
      ]
     },
     "execution_count": 19,
     "metadata": {},
     "output_type": "execute_result"
    }
   ],
   "source": [
    "#WAP to replace the specific character for n number of times or specific occurance\n",
    "st='sunday is a massday'\n",
    "# st.replace('s','x',2)\n",
    "def u_replace(coll,old,new,count=None):\n",
    "    if count==None:\n",
    "        count=len(coll)\n",
    "    co=1\n",
    "    res=''\n",
    "    for i in coll:\n",
    "        if i==old and co<=count:\n",
    "            res+=new\n",
    "        else:\n",
    "            res+=i\n",
    "    return res\n",
    "u_replace(st,'s','x',3)\n",
    "######################"
   ]
  },
  {
   "cell_type": "code",
   "execution_count": null,
   "metadata": {},
   "outputs": [],
   "source": []
  },
  {
   "cell_type": "code",
   "execution_count": 10,
   "metadata": {},
   "outputs": [
    {
     "name": "stdout",
     "output_type": "stream",
     "text": [
      " -hello world haii   \n"
     ]
    },
    {
     "data": {
      "text/plain": [
       "'.fb.com'"
      ]
     },
     "execution_count": 10,
     "metadata": {},
     "output_type": "execute_result"
    }
   ],
   "source": [
    "#removeprefix()\n",
    "st=' -hello world haii   '\n",
    "print(st.removeprefix('-'))\n",
    "\n",
    "st='www.fb.com'\n",
    "def u_removeprefix(coll,ele):\n",
    "    if ele not in coll[0:len(ele)]:\n",
    "        return coll\n",
    "    return coll[len(ele):]\n",
    "u_removeprefix(st,'www')"
   ]
  },
  {
   "cell_type": "code",
   "execution_count": 6,
   "metadata": {},
   "outputs": [
    {
     "data": {
      "text/plain": [
       "'    hello \\t  \\n  \\rhaii  '"
      ]
     },
     "execution_count": 6,
     "metadata": {},
     "output_type": "execute_result"
    }
   ],
   "source": [
    "#lstrip()\n",
    "st='    hello \\t  \\n  \\rhaii  '\n",
    "# st.lstrip('h')\n",
    "def u_lstrip(coll,ele=[' ','\\n','\\t','\\r','\\f']):\n",
    "    res=''\n",
    "    for i in range(0,len(coll)):\n",
    "        if coll[i] in ele:\n",
    "            res+=''\n",
    "        else:\n",
    "            res+=coll[i:]\n",
    "            break\n",
    "    return res\n",
    "u_lstrip(st,'h')\n",
    "###########"
   ]
  },
  {
   "cell_type": "code",
   "execution_count": 31,
   "metadata": {},
   "outputs": [
    {
     "data": {
      "text/plain": [
       "'   \\t \\nhello \\t \\n haii'"
      ]
     },
     "execution_count": 31,
     "metadata": {},
     "output_type": "execute_result"
    }
   ],
   "source": [
    "#rstrip\n",
    "st='   \\t \\nhello \\t \\n haii \\t \\n '\n",
    "def u_rstrip(coll,ele=[' ','\\n','\\t','\\r','\\f']):\n",
    "    res=''\n",
    "    for i in range(len(coll)-1,-1,-1):\n",
    "        if coll[i] in ele:\n",
    "            res+=''\n",
    "        else:\n",
    "            res+=coll[:i+1]\n",
    "            break\n",
    "    return res\n",
    "u_rstrip(st)"
   ]
  },
  {
   "cell_type": "code",
   "execution_count": null,
   "metadata": {},
   "outputs": [],
   "source": [
    "#strip"
   ]
  },
  {
   "cell_type": "code",
   "execution_count": 39,
   "metadata": {},
   "outputs": [
    {
     "data": {
      "text/plain": [
       "'hello               '"
      ]
     },
     "execution_count": 39,
     "metadata": {},
     "output_type": "execute_result"
    }
   ],
   "source": [
    "#ljust()\n",
    "st='hello'\n",
    "def u_ljust(coll,width,fillchar=' '):\n",
    "    res=''\n",
    "    res+=coll+fillchar*(width-len(coll))\n",
    "    return res\n",
    "u_ljust(st,20)"
   ]
  },
  {
   "cell_type": "code",
   "execution_count": 40,
   "metadata": {},
   "outputs": [
    {
     "data": {
      "text/plain": [
       "'               hello'"
      ]
     },
     "execution_count": 40,
     "metadata": {},
     "output_type": "execute_result"
    }
   ],
   "source": [
    "#rjust()\n",
    "st='hello'\n",
    "def u_rjust(coll,width,fillchar=' '):\n",
    "    res=''\n",
    "    res+=fillchar*(width-len(coll))+coll\n",
    "    return res\n",
    "u_rjust(st,20)"
   ]
  },
  {
   "cell_type": "code",
   "execution_count": 74,
   "metadata": {},
   "outputs": [
    {
     "name": "stdout",
     "output_type": "stream",
     "text": [
      "2206802164480 [10, 20, 30]\n",
      "2206802164480 [10, 20, 30, (40, 50)]\n"
     ]
    }
   ],
   "source": [
    "#append()\n",
    "# l=[10,20,30]\n",
    "# print(id(l),l)\n",
    "# l.append({'a':10})\n",
    "# print(id(l),l)\n",
    "\n",
    "l=[10,20,30]\n",
    "print(id(l),l)\n",
    "def u_append(coll,ele):\n",
    "    if type(coll)!=list:\n",
    "        return -1\n",
    "    coll+=[ele]\n",
    "    return coll\n",
    "u_append(l,(40,50))\n",
    "print(id(l),l)"
   ]
  },
  {
   "cell_type": "code",
   "execution_count": 72,
   "metadata": {},
   "outputs": [
    {
     "name": "stdout",
     "output_type": "stream",
     "text": [
      "2206801946112 [10, 20, 30]\n",
      "None\n",
      "2206801946112 [10, 20, 30, '1', '2', '3']\n"
     ]
    }
   ],
   "source": [
    "#extend()\n",
    "# l=[10,20,30]\n",
    "# # print(id(l),l)\n",
    "# l.extend('12345')\n",
    "# print(id(l),l)\n",
    "\n",
    "l=[10,20,30]\n",
    "print(id(l),l)\n",
    "def u_extend(coll,ele):\n",
    "    if type(coll)!=list:\n",
    "        return \"Main Object shoule be list\"\n",
    "    if type(ele) not in [str,list,tuple,set,dict]:\n",
    "        return \"ele should be in coll object\"\n",
    "    for i in ele:\n",
    "        coll+=[i]\n",
    "    # return coll\n",
    "print(u_extend(l,('123')))\n",
    "print(id(l),l)"
   ]
  },
  {
   "cell_type": "code",
   "execution_count": 73,
   "metadata": {},
   "outputs": [
    {
     "name": "stdout",
     "output_type": "stream",
     "text": [
      "2206802639296 ['a', 'b', 'c', 'd']\n",
      "2206802639296 ['a', 'b', 'hello', 'c', 'd']\n"
     ]
    }
   ],
   "source": [
    "#insert()\n",
    "# l=['a','b','c','d']\n",
    "# print(id(l),l)\n",
    "# l.insert(-1,(10,20))\n",
    "# print(id(l),l)\n",
    "\n",
    "l=['a','b','c','d']\n",
    "print(id(l),l)\n",
    "def u_insert(coll,index,ele):\n",
    "    if type(coll)!=list and type(index)!=int:\n",
    "        return -1\n",
    "    coll[index:index]=[ele]\n",
    "u_insert(l,2,'hello')\n",
    "print(id(l),l)"
   ]
  },
  {
   "cell_type": "code",
   "execution_count": 41,
   "metadata": {},
   "outputs": [
    {
     "data": {
      "text/plain": [
       "3"
      ]
     },
     "execution_count": 41,
     "metadata": {},
     "output_type": "execute_result"
    }
   ],
   "source": [
    "#count()\n",
    "l=['a','b','c','a','c','a']\n",
    "# l.count('a')\n",
    "def u_count(coll,ele):\n",
    "    if type(coll)!=list:\n",
    "        return -1\n",
    "    count=0\n",
    "    for i in coll:\n",
    "        if i==ele:\n",
    "            count+=1\n",
    "    return count\n",
    "u_count(l,'a')\n"
   ]
  },
  {
   "cell_type": "code",
   "execution_count": 43,
   "metadata": {},
   "outputs": [
    {
     "data": {
      "text/plain": [
       "3"
      ]
     },
     "execution_count": 43,
     "metadata": {},
     "output_type": "execute_result"
    }
   ],
   "source": [
    "#index()\n",
    "l=['a','b','c','hello','c']\n",
    "# l.index('hello')\n",
    "def u_index(coll,ele):\n",
    "    if type(coll)!=list:\n",
    "        return -1\n",
    "    for i in range(0,len(coll)):\n",
    "        if coll[i]==ele:\n",
    "            return i\n",
    "    return -1\n",
    "u_index(l,'hello')"
   ]
  },
  {
   "cell_type": "code",
   "execution_count": 55,
   "metadata": {},
   "outputs": [
    {
     "data": {
      "text/plain": [
       "3"
      ]
     },
     "execution_count": 55,
     "metadata": {},
     "output_type": "execute_result"
    }
   ],
   "source": [
    "#index()\n",
    "l=['a','b','c','hello','c','hello','d']\n",
    "def u_index(coll,ele,start=0,end=None):\n",
    "    if type(coll)!=list:\n",
    "        return -1\n",
    "    if start<0:\n",
    "        start=start+len(coll)\n",
    "    if end<0:\n",
    "        end=end+len(coll)\n",
    "    if end==None:\n",
    "        end=len(coll)\n",
    "    for i in range(start,end):\n",
    "        if coll[i]==ele:\n",
    "            return i\n",
    "    return ValueError\n",
    "u_index(l,'hello',3,4)\n",
    "    "
   ]
  },
  {
   "cell_type": "code",
   "execution_count": 64,
   "metadata": {},
   "outputs": [
    {
     "name": "stdout",
     "output_type": "stream",
     "text": [
      "2206802165248 [20, 10, 'd', 'c', 'hello', 'c', 'b', 'a']\n"
     ]
    }
   ],
   "source": [
    "#reverse()\n",
    "# l=['a','b','c','hello','c','d',10,20]\n",
    "# print(id(l),l)\n",
    "# l.reverse()\n",
    "# print(id(l),l)\n",
    "\n",
    "l=['a','b','c','hello','c','d',10,20]\n",
    "# print(id(l),l)\n",
    "def u_reverse(coll):\n",
    "    j=-1\n",
    "    for i in range(0,len(coll)//2):\n",
    "        coll[i],coll[j]=coll[j],coll[i]\n",
    "        j-=1\n",
    "u_reverse(l)\n",
    "print(id(l),l)"
   ]
  },
  {
   "cell_type": "code",
   "execution_count": 93,
   "metadata": {},
   "outputs": [
    {
     "name": "stdout",
     "output_type": "stream",
     "text": [
      "2206802151808 [10, 20, 30, 'abc', (10, 20)]\n",
      "2206802151808 [10, 20, 30, (10, 20)]\n"
     ]
    }
   ],
   "source": [
    "#pop()\n",
    "# l=[10,20,30,'abc',(10,20)]\n",
    "# print(id(l),l)\n",
    "# l.pop(3)            #Defaultly it will delete the last element of the collection\n",
    "# print(id(l),l)\n",
    "\n",
    "l=[10,20,30,'abc',(10,20)]\n",
    "print(id(l),l)\n",
    "def u_pop(coll,index=-1):\n",
    "    if type(coll)!=list:\n",
    "        return -1\n",
    "    del coll[index]\n",
    "u_pop(l,3)\n",
    "print(id(l),l)"
   ]
  },
  {
   "cell_type": "code",
   "execution_count": 102,
   "metadata": {},
   "outputs": [
    {
     "name": "stdout",
     "output_type": "stream",
     "text": [
      "2206802913024 [10, 20, 'abc', (10, 20)]\n"
     ]
    }
   ],
   "source": [
    "#remove()\n",
    "# l=[10,20,30,'abc',(10,20)]\n",
    "# print(id(l),l)\n",
    "# l.remove(20)\n",
    "# print(id(l),l)\n",
    "\n",
    "l=[10,20,30,'abc',(10,20)]\n",
    "def u_remove(coll,ele):\n",
    "    if type(coll)!=list or ele not in coll:\n",
    "        return -1\n",
    "    for i in range(0,len(coll)):\n",
    "        if ele==coll[i]:\n",
    "            del coll[i]\n",
    "            break\n",
    "u_remove(l,30)\n",
    "print(id(l),l)"
   ]
  },
  {
   "cell_type": "code",
   "execution_count": 115,
   "metadata": {},
   "outputs": [
    {
     "name": "stdout",
     "output_type": "stream",
     "text": [
      "[]\n"
     ]
    },
    {
     "ename": "IndexError",
     "evalue": "list assignment index out of range",
     "output_type": "error",
     "traceback": [
      "\u001b[1;31m---------------------------------------------------------------------------\u001b[0m",
      "\u001b[1;31mIndexError\u001b[0m                                Traceback (most recent call last)",
      "\u001b[1;32mc:\\Users\\Ashish Biswal\\Documents\\GitHub\\Basic_of_python_programs\\loop_statement\\Function\\dir_str_built_in.ipynb Cell 43\u001b[0m line \u001b[0;36m2\n\u001b[0;32m     <a href='vscode-notebook-cell:/c%3A/Users/Ashish%20Biswal/Documents/GitHub/Basic_of_python_programs/loop_statement/Function/dir_str_built_in.ipynb#X60sZmlsZQ%3D%3D?line=19'>20</a>\u001b[0m     \u001b[39mfor\u001b[39;00m i \u001b[39min\u001b[39;00m \u001b[39mrange\u001b[39m(\u001b[39m0\u001b[39m,\u001b[39mlen\u001b[39m(coll)):\n\u001b[0;32m     <a href='vscode-notebook-cell:/c%3A/Users/Ashish%20Biswal/Documents/GitHub/Basic_of_python_programs/loop_statement/Function/dir_str_built_in.ipynb#X60sZmlsZQ%3D%3D?line=20'>21</a>\u001b[0m         \u001b[39mdel\u001b[39;00m coll[i]\n\u001b[1;32m---> <a href='vscode-notebook-cell:/c%3A/Users/Ashish%20Biswal/Documents/GitHub/Basic_of_python_programs/loop_statement/Function/dir_str_built_in.ipynb#X60sZmlsZQ%3D%3D?line=21'>22</a>\u001b[0m u_clear(l)\n\u001b[0;32m     <a href='vscode-notebook-cell:/c%3A/Users/Ashish%20Biswal/Documents/GitHub/Basic_of_python_programs/loop_statement/Function/dir_str_built_in.ipynb#X60sZmlsZQ%3D%3D?line=22'>23</a>\u001b[0m \u001b[39mprint\u001b[39m(\u001b[39mid\u001b[39m(l),l)\n",
      "\u001b[1;32mc:\\Users\\Ashish Biswal\\Documents\\GitHub\\Basic_of_python_programs\\loop_statement\\Function\\dir_str_built_in.ipynb Cell 43\u001b[0m line \u001b[0;36m2\n\u001b[0;32m     <a href='vscode-notebook-cell:/c%3A/Users/Ashish%20Biswal/Documents/GitHub/Basic_of_python_programs/loop_statement/Function/dir_str_built_in.ipynb#X60sZmlsZQ%3D%3D?line=18'>19</a>\u001b[0m     \u001b[39mreturn\u001b[39;00m \u001b[39m-\u001b[39m\u001b[39m1\u001b[39m\n\u001b[0;32m     <a href='vscode-notebook-cell:/c%3A/Users/Ashish%20Biswal/Documents/GitHub/Basic_of_python_programs/loop_statement/Function/dir_str_built_in.ipynb#X60sZmlsZQ%3D%3D?line=19'>20</a>\u001b[0m \u001b[39mfor\u001b[39;00m i \u001b[39min\u001b[39;00m \u001b[39mrange\u001b[39m(\u001b[39m0\u001b[39m,\u001b[39mlen\u001b[39m(coll)):\n\u001b[1;32m---> <a href='vscode-notebook-cell:/c%3A/Users/Ashish%20Biswal/Documents/GitHub/Basic_of_python_programs/loop_statement/Function/dir_str_built_in.ipynb#X60sZmlsZQ%3D%3D?line=20'>21</a>\u001b[0m     \u001b[39mdel\u001b[39;00m coll[i]\n",
      "\u001b[1;31mIndexError\u001b[0m: list assignment index out of range"
     ]
    }
   ],
   "source": [
    "#clear()\n",
    "# l=[10,20,30,'abc',(10,20)]\n",
    "# l.clear()\n",
    "# print(l)\n",
    "\n",
    "#BY SLICING\n",
    "l=[10,20,30,'abc',(10,20)]\n",
    "def u_clear(coll):\n",
    "    if type(coll)!=list:\n",
    "        return -1\n",
    "    coll[::]=[]\n",
    "u_clear(l)\n",
    "print(l)\n",
    "\n",
    "#BY FOR LOOP\n",
    "l=[10,20,30,'abc',(10,20)]\n",
    "def u_clear(coll):\n",
    "    if type(coll)!=list:\n",
    "        return -1\n",
    "    for i in range(0,len(coll)):\n",
    "        del coll[i]\n",
    "u_clear(l)\n",
    "print(l)"
   ]
  },
  {
   "cell_type": "code",
   "execution_count": 119,
   "metadata": {},
   "outputs": [
    {
     "name": "stdout",
     "output_type": "stream",
     "text": [
      "[10, 20, 30, 40, 50, 60]\n"
     ]
    }
   ],
   "source": [
    "#sort()\n",
    "# l=[30,20,10,50,60,40]\n",
    "# l.sort()\n",
    "# print(l)\n",
    "\n",
    "l=[30,20,10,50,60,40]\n",
    "def u_sort(coll):\n",
    "    for i in range(0,len(coll)):\n",
    "        for j in range(0,len(coll)-1):\n",
    "            if coll[j]>coll[j+1]:\n",
    "                coll[j],coll[j+1]=coll[j+1],coll[j]\n",
    "u_sort(l)\n",
    "print(l)"
   ]
  }
 ],
 "metadata": {
  "kernelspec": {
   "display_name": "Python 3",
   "language": "python",
   "name": "python3"
  },
  "language_info": {
   "codemirror_mode": {
    "name": "ipython",
    "version": 3
   },
   "file_extension": ".py",
   "mimetype": "text/x-python",
   "name": "python",
   "nbconvert_exporter": "python",
   "pygments_lexer": "ipython3",
   "version": "3.11.4"
  },
  "orig_nbformat": 4
 },
 "nbformat": 4,
 "nbformat_minor": 2
}
