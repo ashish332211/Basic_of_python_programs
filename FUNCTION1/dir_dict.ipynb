{
 "cells": [
  {
   "cell_type": "code",
   "execution_count": null,
   "metadata": {},
   "outputs": [],
   "source": [
    "#clear,copy,fromkeys,get,item,pop,popitem,set,default,update,value"
   ]
  },
  {
   "cell_type": "code",
   "execution_count": 1,
   "metadata": {},
   "outputs": [
    {
     "name": "stdout",
     "output_type": "stream",
     "text": [
      "1536663907392 {'a': 10, 'b': 20, 'c': 30}\n",
      "1536663907392 {}\n"
     ]
    }
   ],
   "source": [
    "#clear()\n",
    "# d={'a':10,'b':20,'c':30}\n",
    "# print(id(d),d)\n",
    "# d.clear()\n",
    "# print(id(d),d)\n",
    "\n",
    "d={'a':10,'b':20,'c':30}\n",
    "print(id(d),d)\n",
    "def u_clear(coll):\n",
    "    if type(coll)!=dict:\n",
    "        return -1\n",
    "    keys=list(coll)\n",
    "    for i in keys:\n",
    "        del coll[i]\n",
    "u_clear(d)\n",
    "print(id(d),d)"
   ]
  },
  {
   "cell_type": "code",
   "execution_count": 5,
   "metadata": {},
   "outputs": [
    {
     "data": {
      "text/plain": [
       "{6}"
      ]
     },
     "execution_count": 5,
     "metadata": {},
     "output_type": "execute_result"
    }
   ],
   "source": [
    "x={1,2,3,4,6}\n",
    "y={4,5,3,2,1}\n",
    "x-=y\n",
    "x"
   ]
  },
  {
   "cell_type": "code",
   "execution_count": 2,
   "metadata": {},
   "outputs": [
    {
     "name": "stdout",
     "output_type": "stream",
     "text": [
      "1171162388160 {'a': 10, 'b': 20, 'c': 30}\n",
      "1171162387776 {'a': 10, 'b': 20, 'c': 30}\n"
     ]
    }
   ],
   "source": [
    "#copy()\n",
    "# d={'a':10,'b':20,'c':30}\n",
    "# print(id(d),d)\n",
    "# res=d.copy()\n",
    "# print(id(res),res)      #Here the address will be not same\n",
    "\n",
    "d={'a':10,'b':20,'c':30}\n",
    "print(id(d),d)\n",
    "def u_copy(coll):\n",
    "    if type(coll)!=dict:\n",
    "        return -1\n",
    "    temp={}\n",
    "    for i in coll:\n",
    "        temp[i]=coll[i]\n",
    "    return temp\n",
    "res=u_copy(d)\n",
    "print(id(res),res)"
   ]
  },
  {
   "cell_type": "code",
   "execution_count": 2,
   "metadata": {},
   "outputs": [
    {
     "name": "stdout",
     "output_type": "stream",
     "text": [
      "20\n",
      "30\n",
      "None\n"
     ]
    }
   ],
   "source": [
    "#get()\n",
    "d={'a':10,'b':20,'c':30}\n",
    "print(d.get('b'))\n",
    "print(d.get('c'))\n",
    "\n",
    "def u_get(coll,ele):\n",
    "    if type(coll)!=dict:\n",
    "        return -1\n",
    "    return \n",
    "print(u_get(d,'c'))\n",
    "#########"
   ]
  },
  {
   "cell_type": "code",
   "execution_count": 12,
   "metadata": {},
   "outputs": [
    {
     "name": "stdout",
     "output_type": "stream",
     "text": [
      "1171168173056 {'a': 10, 'b': 20, 'c': 30}\n",
      "1171168173056 {'a': 10, 'c': 30}\n"
     ]
    }
   ],
   "source": [
    "#pop()\n",
    "# d={'a':10,'b':20,'c':30}\n",
    "# print(id(d),d)\n",
    "# print(d.pop('a'))\n",
    "# print(id(d),d)\n",
    "\n",
    "d={'a':10,'b':20,'c':30}\n",
    "print(id(d),d)\n",
    "def u_pop(coll,key):\n",
    "    if type(coll)!=dict:\n",
    "        return -1                       #It will eliminate the value,which value we pass\n",
    "    del coll[key]\n",
    "    # return coll\n",
    "u_pop(d,'b')\n",
    "print(id(d),d)"
   ]
  },
  {
   "cell_type": "code",
   "execution_count": 1,
   "metadata": {},
   "outputs": [
    {
     "name": "stdout",
     "output_type": "stream",
     "text": [
      "None\n",
      "1917799408896 {'a': 10, 'b': 20, 'x': 30}\n"
     ]
    }
   ],
   "source": [
    "# d={'a':10,'b':20,'c':30,'d':40}\n",
    "# print(id(d),d)\n",
    "# print(d.popitem())\n",
    "# print(id(d),d)\n",
    "\n",
    "d={'a':10,'b':20,'x':30,'y':40}\n",
    "def u_popitem(coll):\n",
    "    if type(coll)!=dict:\n",
    "        return -1\n",
    "    key=list(coll)[-1]\n",
    "    # val=coll[key]\n",
    "    del coll[key]\n",
    "print(u_popitem(d))\n",
    "print(id(d),d)"
   ]
  },
  {
   "cell_type": "code",
   "execution_count": 37,
   "metadata": {},
   "outputs": [
    {
     "name": "stdout",
     "output_type": "stream",
     "text": [
      "2689520041216 {'a': 10, 'b': 20, 'c': 30, 'd': 40, 'x': 100}\n"
     ]
    }
   ],
   "source": [
    "#update\n",
    "# d={'a':10,'b':20,'c':30,'d':40}\n",
    "# print(id(d),d)\n",
    "# d.update({'e':50})\n",
    "# print(id(d),d)\n",
    "\n",
    "d={'a':10,'b':20,'c':30,'d':40}\n",
    "def u_update(coll,ele):\n",
    "    if type(coll)!=dict or type(ele)!=dict:\n",
    "        return -1\n",
    "    coll|=ele\n",
    "u_update(d,{'x':100})\n",
    "print(id(d),d)"
   ]
  }
 ],
 "metadata": {
  "kernelspec": {
   "display_name": "Python 3",
   "language": "python",
   "name": "python3"
  },
  "language_info": {
   "codemirror_mode": {
    "name": "ipython",
    "version": 3
   },
   "file_extension": ".py",
   "mimetype": "text/x-python",
   "name": "python",
   "nbconvert_exporter": "python",
   "pygments_lexer": "ipython3",
   "version": "3.12.0"
  }
 },
 "nbformat": 4,
 "nbformat_minor": 2
}
