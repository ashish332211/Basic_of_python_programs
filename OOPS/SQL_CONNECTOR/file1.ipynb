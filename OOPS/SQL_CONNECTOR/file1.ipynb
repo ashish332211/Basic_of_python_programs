{
 "cells": [
  {
   "cell_type": "code",
   "execution_count": 5,
   "metadata": {},
   "outputs": [],
   "source": [
    "import sqlite3 as sq        #import the sqlite3 module\n",
    "db = sq.connect('employee.db')      #Create the connection in between sqlite3 to python \n",
    "print(db)\n",
    "\n",
    "#Create the sqlite3 cursor inside the python\n",
    "cus = db.cursor()       \n",
    "print(cus)\n",
    "\n",
    "#to create the query\n",
    "cus.execute('Create Table Employee(id int, name varchar(20))') \n",
    "\n",
    "#To execute multiple querys\n",
    "cus.executemany('Create Table Employee(id int, name varchar(20))') \n",
    "\n",
    "#It convert Sql data to python data and it will fetch all the records\n",
    "cus.fetchall()  \n",
    "\n",
    "#It convert Sql data to python data and it will fetch only one record\n",
    "cus.fetchone()\n",
    "\n",
    "#It convert Sql data to python data and it will fetch the record based on the size\n",
    "cus.fetchmany()      \n",
    "\n",
    "#To save the all transaction\n",
    "db.commit()\n",
    "\n",
    "#To close the db connection\n",
    "db.close()\n"
   ]
  },
  {
   "cell_type": "code",
   "execution_count": 6,
   "metadata": {},
   "outputs": [],
   "source": [
    "#configuration\n",
    "\n",
    "db = sq.connect('student.sqlite3')\n",
    "cur = db.cursor()"
   ]
  },
  {
   "cell_type": "code",
   "execution_count": 15,
   "metadata": {},
   "outputs": [
    {
     "ename": "OperationalError",
     "evalue": "table student already exists",
     "output_type": "error",
     "traceback": [
      "\u001b[1;31m---------------------------------------------------------------------------\u001b[0m",
      "\u001b[1;31mOperationalError\u001b[0m                          Traceback (most recent call last)",
      "\u001b[1;32mc:\\Users\\HP\\Documents\\GitHub\\Basic_of_python_programs\\OOPS\\SQL_CONNECTOR\\file1.ipynb Cell 3\u001b[0m line \u001b[0;36m1\n\u001b[0;32m      <a href='vscode-notebook-cell:/c%3A/Users/HP/Documents/GitHub/Basic_of_python_programs/OOPS/SQL_CONNECTOR/file1.ipynb#W2sZmlsZQ%3D%3D?line=0'>1</a>\u001b[0m query \u001b[39m=\u001b[39m \u001b[39m'''\u001b[39m\u001b[39mcreate table student(\u001b[39m\n\u001b[0;32m      <a href='vscode-notebook-cell:/c%3A/Users/HP/Documents/GitHub/Basic_of_python_programs/OOPS/SQL_CONNECTOR/file1.ipynb#W2sZmlsZQ%3D%3D?line=1'>2</a>\u001b[0m \u001b[39msid int primary key,\u001b[39m\n\u001b[0;32m      <a href='vscode-notebook-cell:/c%3A/Users/HP/Documents/GitHub/Basic_of_python_programs/OOPS/SQL_CONNECTOR/file1.ipynb#W2sZmlsZQ%3D%3D?line=2'>3</a>\u001b[0m \u001b[39mname varchar(30),\u001b[39m\n\u001b[1;32m   (...)\u001b[0m\n\u001b[0;32m      <a href='vscode-notebook-cell:/c%3A/Users/HP/Documents/GitHub/Basic_of_python_programs/OOPS/SQL_CONNECTOR/file1.ipynb#W2sZmlsZQ%3D%3D?line=6'>7</a>\u001b[0m \u001b[39maddress varchar(50),\u001b[39m\n\u001b[0;32m      <a href='vscode-notebook-cell:/c%3A/Users/HP/Documents/GitHub/Basic_of_python_programs/OOPS/SQL_CONNECTOR/file1.ipynb#W2sZmlsZQ%3D%3D?line=7'>8</a>\u001b[0m \u001b[39mmarks int)\u001b[39m\u001b[39m'''\u001b[39m\n\u001b[1;32m---> <a href='vscode-notebook-cell:/c%3A/Users/HP/Documents/GitHub/Basic_of_python_programs/OOPS/SQL_CONNECTOR/file1.ipynb#W2sZmlsZQ%3D%3D?line=9'>10</a>\u001b[0m cur\u001b[39m.\u001b[39;49mexecute(query)\n\u001b[0;32m     <a href='vscode-notebook-cell:/c%3A/Users/HP/Documents/GitHub/Basic_of_python_programs/OOPS/SQL_CONNECTOR/file1.ipynb#W2sZmlsZQ%3D%3D?line=10'>11</a>\u001b[0m \u001b[39mprint\u001b[39m(cur\u001b[39m.\u001b[39mrowcount,\u001b[39m'\u001b[39m\u001b[39mRow Affected\u001b[39m\u001b[39m'\u001b[39m)\n",
      "\u001b[1;31mOperationalError\u001b[0m: table student already exists"
     ]
    }
   ],
   "source": [
    "query = '''create table student(\n",
    "sid int primary key,\n",
    "name varchar(30),\n",
    "age int,\n",
    "email varchar(30) unique,\n",
    "phone Bigint unique,\n",
    "address varchar(50),\n",
    "marks int)'''\n",
    "\n",
    "cur.execute(query)\n",
    "print(cur.rowcount,'Row Affected')"
   ]
  },
  {
   "cell_type": "code",
   "execution_count": 14,
   "metadata": {},
   "outputs": [],
   "source": [
    "db.commit()"
   ]
  },
  {
   "cell_type": "code",
   "execution_count": 16,
   "metadata": {},
   "outputs": [
    {
     "name": "stdout",
     "output_type": "stream",
     "text": [
      "1 Row Affected\n"
     ]
    }
   ],
   "source": [
    "query='''insert into student(sid, name, age, email, phone, address, marks)\n",
    "values (2, 'Gopi', 26, 'gopi@gmail.com', 9876543213, 'Hyd', 95 )'''\n",
    "cur.execute(query)\n",
    "print(cur.rowcount, 'Row Affected')"
   ]
  },
  {
   "cell_type": "code",
   "execution_count": 17,
   "metadata": {},
   "outputs": [
    {
     "ename": "OperationalError",
     "evalue": "near \"form\": syntax error",
     "output_type": "error",
     "traceback": [
      "\u001b[1;31m---------------------------------------------------------------------------\u001b[0m",
      "\u001b[1;31mOperationalError\u001b[0m                          Traceback (most recent call last)",
      "\u001b[1;32mc:\\Users\\HP\\Documents\\GitHub\\Basic_of_python_programs\\OOPS\\SQL_CONNECTOR\\file1.ipynb Cell 6\u001b[0m line \u001b[0;36m2\n\u001b[0;32m      <a href='vscode-notebook-cell:/c%3A/Users/HP/Documents/GitHub/Basic_of_python_programs/OOPS/SQL_CONNECTOR/file1.ipynb#W5sZmlsZQ%3D%3D?line=0'>1</a>\u001b[0m query \u001b[39m=\u001b[39m \u001b[39m'''\u001b[39m\u001b[39mselect * form student\u001b[39m\u001b[39m'''\u001b[39m\n\u001b[1;32m----> <a href='vscode-notebook-cell:/c%3A/Users/HP/Documents/GitHub/Basic_of_python_programs/OOPS/SQL_CONNECTOR/file1.ipynb#W5sZmlsZQ%3D%3D?line=1'>2</a>\u001b[0m cur\u001b[39m.\u001b[39;49mexecute(query)\n\u001b[0;32m      <a href='vscode-notebook-cell:/c%3A/Users/HP/Documents/GitHub/Basic_of_python_programs/OOPS/SQL_CONNECTOR/file1.ipynb#W5sZmlsZQ%3D%3D?line=2'>3</a>\u001b[0m res \u001b[39m=\u001b[39m cur\u001b[39m.\u001b[39mfetchall()\n\u001b[0;32m      <a href='vscode-notebook-cell:/c%3A/Users/HP/Documents/GitHub/Basic_of_python_programs/OOPS/SQL_CONNECTOR/file1.ipynb#W5sZmlsZQ%3D%3D?line=3'>4</a>\u001b[0m \u001b[39mfor\u001b[39;00m i \u001b[39min\u001b[39;00m res:\n",
      "\u001b[1;31mOperationalError\u001b[0m: near \"form\": syntax error"
     ]
    }
   ],
   "source": [
    "query = '''select * form student'''\n",
    "cur.execute(query)\n",
    "res = cur.fetchall()\n",
    "for i in res:\n",
    "    print(i)"
   ]
  },
  {
   "cell_type": "code",
   "execution_count": 18,
   "metadata": {},
   "outputs": [
    {
     "name": "stdout",
     "output_type": "stream",
     "text": [
      "1 Row Updated\n"
     ]
    }
   ],
   "source": [
    "query = '''update student set email = 'kumarswami@gmail.com' where sid=2'''\n",
    "cur.execute(query)\n",
    "print(cur.rowcount, 'Row Updated')"
   ]
  },
  {
   "cell_type": "code",
   "execution_count": 19,
   "metadata": {},
   "outputs": [
    {
     "ename": "OperationalError",
     "evalue": "near \"form\": syntax error",
     "output_type": "error",
     "traceback": [
      "\u001b[1;31m---------------------------------------------------------------------------\u001b[0m",
      "\u001b[1;31mOperationalError\u001b[0m                          Traceback (most recent call last)",
      "\u001b[1;32mc:\\Users\\HP\\Documents\\GitHub\\Basic_of_python_programs\\OOPS\\SQL_CONNECTOR\\file1.ipynb Cell 8\u001b[0m line \u001b[0;36m2\n\u001b[0;32m      <a href='vscode-notebook-cell:/c%3A/Users/HP/Documents/GitHub/Basic_of_python_programs/OOPS/SQL_CONNECTOR/file1.ipynb#X10sZmlsZQ%3D%3D?line=0'>1</a>\u001b[0m query \u001b[39m=\u001b[39m \u001b[39m'''\u001b[39m\u001b[39mselect * form student\u001b[39m\u001b[39m'''\u001b[39m\n\u001b[1;32m----> <a href='vscode-notebook-cell:/c%3A/Users/HP/Documents/GitHub/Basic_of_python_programs/OOPS/SQL_CONNECTOR/file1.ipynb#X10sZmlsZQ%3D%3D?line=1'>2</a>\u001b[0m cur\u001b[39m.\u001b[39;49mexecute(query)\n\u001b[0;32m      <a href='vscode-notebook-cell:/c%3A/Users/HP/Documents/GitHub/Basic_of_python_programs/OOPS/SQL_CONNECTOR/file1.ipynb#X10sZmlsZQ%3D%3D?line=2'>3</a>\u001b[0m res \u001b[39m=\u001b[39m cur\u001b[39m.\u001b[39mfetchall()\n\u001b[0;32m      <a href='vscode-notebook-cell:/c%3A/Users/HP/Documents/GitHub/Basic_of_python_programs/OOPS/SQL_CONNECTOR/file1.ipynb#X10sZmlsZQ%3D%3D?line=3'>4</a>\u001b[0m \u001b[39mfor\u001b[39;00m i \u001b[39min\u001b[39;00m res:\n",
      "\u001b[1;31mOperationalError\u001b[0m: near \"form\": syntax error"
     ]
    }
   ],
   "source": [
    "query = '''select * form student'''\n",
    "cur.execute(query)\n",
    "res = cur.fetchall()\n",
    "for i in res:\n",
    "    print(i)"
   ]
  },
  {
   "cell_type": "code",
   "execution_count": 20,
   "metadata": {},
   "outputs": [
    {
     "name": "stdout",
     "output_type": "stream",
     "text": [
      "1 Row Deleted\n"
     ]
    }
   ],
   "source": [
    "query = '''delete from student where sid=2'''\n",
    "cur.execute(query)\n",
    "print(cur.rowcount, 'Row Deleted')"
   ]
  },
  {
   "cell_type": "code",
   "execution_count": null,
   "metadata": {},
   "outputs": [],
   "source": [
    "def insert_record"
   ]
  }
 ],
 "metadata": {
  "kernelspec": {
   "display_name": "Python 3",
   "language": "python",
   "name": "python3"
  },
  "language_info": {
   "codemirror_mode": {
    "name": "ipython",
    "version": 3
   },
   "file_extension": ".py",
   "mimetype": "text/x-python",
   "name": "python",
   "nbconvert_exporter": "python",
   "pygments_lexer": "ipython3",
   "version": "3.12.0"
  }
 },
 "nbformat": 4,
 "nbformat_minor": 2
}
