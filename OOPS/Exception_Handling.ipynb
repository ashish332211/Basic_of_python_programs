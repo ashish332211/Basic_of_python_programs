{
 "cells": [
  {
   "cell_type": "code",
   "execution_count": 4,
   "metadata": {},
   "outputs": [
    {
     "name": "stdout",
     "output_type": "stream",
     "text": [
      "Start\n",
      "5.75\n",
      "Stop\n"
     ]
    }
   ],
   "source": [
    "print('Start')\n",
    "a = int(input(\"Enter The a Value\"))\n",
    "b = int(input(\"Enter The b Value\"))\n",
    "res = a/b\n",
    "print(res)\n",
    "print('Stop')"
   ]
  },
  {
   "cell_type": "code",
   "execution_count": 6,
   "metadata": {},
   "outputs": [
    {
     "name": "stdout",
     "output_type": "stream",
     "text": [
      "Start\n",
      "Invalid Logic\n",
      "Stop\n"
     ]
    }
   ],
   "source": [
    "print('Start')\n",
    "try:\n",
    "    a = int(input(\"Enter The a Value\"))\n",
    "    b = int(input(\"Enter The b Value\"))\n",
    "    res = a/b\n",
    "except:\n",
    "    res = 'Invalid Logic'\n",
    "finally:\n",
    "    print(res)\n",
    "print('Stop')"
   ]
  },
  {
   "cell_type": "code",
   "execution_count": 7,
   "metadata": {},
   "outputs": [
    {
     "name": "stdout",
     "output_type": "stream",
     "text": [
      "Start\n",
      "h\n",
      "e\n",
      "l\n",
      "l\n",
      "o\n",
      "w\n",
      "o\n",
      "r\n",
      "l\n",
      "d\n",
      "Program Excuted\n",
      "Stop\n"
     ]
    }
   ],
   "source": [
    "print('Start')\n",
    "st='helloworld'\n",
    "try:\n",
    "    i=0\n",
    "    while i<len(st)+1:\n",
    "        print(st[i])\n",
    "        i+=1\n",
    "except:\n",
    "    print('Program Excuted')\n",
    "print('Stop')"
   ]
  },
  {
   "cell_type": "code",
   "execution_count": 19,
   "metadata": {},
   "outputs": [
    {
     "name": "stdout",
     "output_type": "stream",
     "text": [
      "{'a': 10, 'b': 20, 'c': 30, 'f': None}\n"
     ]
    }
   ],
   "source": [
    "d = {'a':10, 'b':20, 'c':30}\n",
    "n = input('Enter The Key')\n",
    "if n in d:\n",
    "    print(d[n])\n",
    "else:\n",
    "    d[n]=None\n",
    "print(d)"
   ]
  },
  {
   "cell_type": "code",
   "execution_count": 11,
   "metadata": {},
   "outputs": [
    {
     "name": "stdout",
     "output_type": "stream",
     "text": [
      "3\n"
     ]
    }
   ],
   "source": [
    "c=0\n",
    "for i in range(3):\n",
    "    for j in range(3):\n",
    "        if i==j:\n",
    "            c=c+1\n",
    "print(c)"
   ]
  }
 ],
 "metadata": {
  "kernelspec": {
   "display_name": "Python 3",
   "language": "python",
   "name": "python3"
  },
  "language_info": {
   "codemirror_mode": {
    "name": "ipython",
    "version": 3
   },
   "file_extension": ".py",
   "mimetype": "text/x-python",
   "name": "python",
   "nbconvert_exporter": "python",
   "pygments_lexer": "ipython3",
   "version": "3.12.0"
  }
 },
 "nbformat": 4,
 "nbformat_minor": 2
}
