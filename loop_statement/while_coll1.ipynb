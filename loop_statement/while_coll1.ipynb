{
 "cells": [
  {
   "cell_type": "markdown",
   "metadata": {},
   "source": [
    "1.WAP to print the uppercase character from 'A' to 'Z' using while loop."
   ]
  },
  {
   "cell_type": "code",
   "execution_count": null,
   "metadata": {},
   "outputs": [],
   "source": [
    "ch = 'A'\n",
    "while ch<='Z':\n",
    "    print(ch)\n",
    "    ch = chr(ord(ch)+1)"
   ]
  },
  {
   "cell_type": "markdown",
   "metadata": {},
   "source": [
    "2.WAP to print the lowercase character from 'a' to 'z' using while loop."
   ]
  },
  {
   "cell_type": "code",
   "execution_count": null,
   "metadata": {},
   "outputs": [],
   "source": [
    "ch='a'\n",
    "while ch<='z':\n",
    "    print(ch)\n",
    "    ch=chr(ord(ch)+1)"
   ]
  },
  {
   "cell_type": "markdown",
   "metadata": {},
   "source": [
    "3.WAP to print the ASCII number characters from '0' to '9' using while loop"
   ]
  },
  {
   "cell_type": "code",
   "execution_count": null,
   "metadata": {},
   "outputs": [],
   "source": [
    "ch='0'\n",
    "while ch<='9':\n",
    "    print(ch)\n",
    "    ch=chr(ord(ch)+1)"
   ]
  },
  {
   "cell_type": "markdown",
   "metadata": {},
   "source": [
    "4.WAP to print the uppercase character from 'E' to 'U' using while loop."
   ]
  },
  {
   "cell_type": "code",
   "execution_count": null,
   "metadata": {},
   "outputs": [],
   "source": [
    "ch='E'\n",
    "while ch<='U':\n",
    "    print(ch)\n",
    "    ch=chr(ord(ch)+1)"
   ]
  },
  {
   "cell_type": "markdown",
   "metadata": {},
   "source": [
    "5.WAP to print the uppercase character from 'Z' to 'A' using while loop."
   ]
  },
  {
   "cell_type": "code",
   "execution_count": 5,
   "metadata": {},
   "outputs": [
    {
     "name": "stdout",
     "output_type": "stream",
     "text": [
      "Z\n",
      "Y\n",
      "X\n",
      "W\n",
      "V\n",
      "U\n",
      "T\n",
      "S\n",
      "R\n",
      "Q\n",
      "P\n",
      "O\n",
      "N\n",
      "M\n",
      "L\n",
      "K\n",
      "J\n",
      "I\n",
      "H\n",
      "G\n",
      "F\n",
      "E\n",
      "D\n",
      "C\n",
      "B\n",
      "A\n"
     ]
    }
   ],
   "source": [
    "ch='Z'\n",
    "while ch>='A':\n",
    "    print(ch)\n",
    "    ch=chr(ord(ch)-1)"
   ]
  },
  {
   "cell_type": "markdown",
   "metadata": {},
   "source": [
    "6.WAP to print the uppercase character from 'U' to 'G' using while loop."
   ]
  },
  {
   "cell_type": "code",
   "execution_count": null,
   "metadata": {},
   "outputs": [],
   "source": [
    "ch='U'\n",
    "while ch>='G':\n",
    "    print(ch)\n",
    "    ch=chr(ord(ch)-1)"
   ]
  },
  {
   "cell_type": "markdown",
   "metadata": {},
   "source": [
    "7.WAP to print the lowercase character from 'i' to 'y' using while loop."
   ]
  },
  {
   "cell_type": "code",
   "execution_count": null,
   "metadata": {},
   "outputs": [],
   "source": [
    "ch='i'\n",
    "while ch<='y':\n",
    "    print(ch)\n",
    "    ch=chr(ord(ch)+1)"
   ]
  },
  {
   "cell_type": "markdown",
   "metadata": {},
   "source": [
    "8.WAP to print the lowercase character from 'z' to 'a' using while loop."
   ]
  },
  {
   "cell_type": "code",
   "execution_count": null,
   "metadata": {},
   "outputs": [],
   "source": [
    "ch='z'\n",
    "while ch>='a':\n",
    "    print(ch)\n",
    "    ch=chr(ord(ch)-1)"
   ]
  },
  {
   "cell_type": "markdown",
   "metadata": {},
   "source": [
    "9.WAP to print the lowercase character from 'p' to 'c' using while loop."
   ]
  },
  {
   "cell_type": "code",
   "execution_count": null,
   "metadata": {},
   "outputs": [],
   "source": [
    "ch='p'\n",
    "while ch>='c':\n",
    "    print(ch)\n",
    "    ch=chr(ord(ch)-1)"
   ]
  },
  {
   "cell_type": "markdown",
   "metadata": {},
   "source": [
    "10.WAP to print even number ascii character from A to Z "
   ]
  },
  {
   "cell_type": "code",
   "execution_count": 52,
   "metadata": {},
   "outputs": [
    {
     "name": "stdout",
     "output_type": "stream",
     "text": [
      "B\n",
      "D\n",
      "F\n",
      "H\n",
      "J\n",
      "L\n",
      "N\n",
      "P\n",
      "R\n",
      "T\n",
      "V\n",
      "X\n",
      "Z\n"
     ]
    }
   ],
   "source": [
    "ch=65\n",
    "while ch<=90:\n",
    "    if ch%2==0:\n",
    "        print(chr(ch))\n",
    "    ch=ch+1   "
   ]
  },
  {
   "cell_type": "markdown",
   "metadata": {},
   "source": [
    "11.WAP to print all the odd characters from 'a' to 'z'."
   ]
  },
  {
   "cell_type": "code",
   "execution_count": 4,
   "metadata": {},
   "outputs": [
    {
     "name": "stdout",
     "output_type": "stream",
     "text": [
      "a\n",
      "c\n",
      "e\n",
      "g\n",
      "i\n",
      "k\n",
      "m\n",
      "o\n",
      "q\n",
      "s\n",
      "u\n",
      "w\n",
      "y\n"
     ]
    }
   ],
   "source": [
    "ch=97\n",
    "while ch<=122:\n",
    "    if ch%2==1:\n",
    "        print(chr(ch))\n",
    "    ch=ch+1"
   ]
  },
  {
   "cell_type": "markdown",
   "metadata": {},
   "source": [
    "12.WAP to count the number of vowels present in D to V."
   ]
  },
  {
   "cell_type": "code",
   "execution_count": 8,
   "metadata": {},
   "outputs": [
    {
     "name": "stdout",
     "output_type": "stream",
     "text": [
      "4\n"
     ]
    }
   ],
   "source": [
    "ch='D'\n",
    "count=0\n",
    "while ch<='v':\n",
    "    if ch in 'AEIOU':\n",
    "        count=count+1\n",
    "    ch=chr(ord(ch)+1)\n",
    "print(count)\n",
    "    "
   ]
  },
  {
   "cell_type": "markdown",
   "metadata": {},
   "source": [
    "WAP to count the number of vowels present in u to e."
   ]
  },
  {
   "cell_type": "code",
   "execution_count": 10,
   "metadata": {},
   "outputs": [
    {
     "name": "stdout",
     "output_type": "stream",
     "text": [
      "4\n"
     ]
    }
   ],
   "source": [
    "ch='e'\n",
    "count=0\n",
    "while ch<='u':\n",
    "    if ch in 'aeiou':\n",
    "        count=count+1\n",
    "    ch=chr(ord(ch)+1)\n",
    "print(count)"
   ]
  },
  {
   "cell_type": "markdown",
   "metadata": {},
   "source": [
    "53.WAP to print the square of the number in between the range from m to n which is multiple of 3."
   ]
  },
  {
   "cell_type": "code",
   "execution_count": 1,
   "metadata": {},
   "outputs": [
    {
     "name": "stdout",
     "output_type": "stream",
     "text": [
      "9\n",
      "36\n",
      "81\n"
     ]
    }
   ],
   "source": [
    "m=1\n",
    "n=10\n",
    "while m<=n:\n",
    "    if m%3==0:\n",
    "        print(m**2)\n",
    "    m=m+1"
   ]
  },
  {
   "cell_type": "markdown",
   "metadata": {},
   "source": [
    "54.WAP which takes an integer number and find the sum of digits and repeat until the sum gets a single digit in the end."
   ]
  },
  {
   "cell_type": "code",
   "execution_count": null,
   "metadata": {},
   "outputs": [],
   "source": []
  },
  {
   "cell_type": "markdown",
   "metadata": {},
   "source": [
    "55.WAP to count the number of 2's between 0 and n."
   ]
  },
  {
   "cell_type": "code",
   "execution_count": 6,
   "metadata": {},
   "outputs": [
    {
     "ename": "KeyboardInterrupt",
     "evalue": "",
     "output_type": "error",
     "traceback": [
      "\u001b[1;31m---------------------------------------------------------------------------\u001b[0m",
      "\u001b[1;31mKeyboardInterrupt\u001b[0m                         Traceback (most recent call last)",
      "Cell \u001b[1;32mIn[6], line 3\u001b[0m\n\u001b[0;32m      1\u001b[0m i\u001b[39m=\u001b[39m\u001b[39m1\u001b[39m\n\u001b[0;32m      2\u001b[0m count\u001b[39m=\u001b[39m\u001b[39m0\u001b[39m\n\u001b[1;32m----> 3\u001b[0m \u001b[39mwhile\u001b[39;00m i\u001b[39m<\u001b[39m\u001b[39m=\u001b[39m\u001b[39m20\u001b[39m:\n\u001b[0;32m      4\u001b[0m     ld\u001b[39m=\u001b[39mi\u001b[39m%\u001b[39m\u001b[39m10\u001b[39m\n\u001b[0;32m      5\u001b[0m     \u001b[39mif\u001b[39;00m ld\u001b[39m==\u001b[39m\u001b[39m2\u001b[39m:\n",
      "\u001b[1;31mKeyboardInterrupt\u001b[0m: "
     ]
    }
   ],
   "source": [
    "i=1\n",
    "count=0\n",
    "while i<=20:\n",
    "    ld=i%10\n",
    "    if ld==2:\n",
    "        count=count+1\n",
    "\n"
   ]
  },
  {
   "cell_type": "markdown",
   "metadata": {},
   "source": [
    "56.WAP to find the maximum product of three numbers from given integer."
   ]
  },
  {
   "cell_type": "code",
   "execution_count": null,
   "metadata": {},
   "outputs": [],
   "source": []
  },
  {
   "cell_type": "markdown",
   "metadata": {},
   "source": [
    "59.WAP to print all the items present in the string between the range from m to n."
   ]
  },
  {
   "cell_type": "code",
   "execution_count": 53,
   "metadata": {},
   "outputs": [
    {
     "name": "stdout",
     "output_type": "stream",
     "text": [
      "5\n",
      "6\n",
      "A\n",
      "S\n",
      "H\n",
      "S\n",
      "I\n",
      "H\n"
     ]
    }
   ],
   "source": [
    "st='ASHSIH'\n",
    "i=0\n",
    "while i<len(st):\n",
    "    print(st[i])\n",
    "    i=i+1"
   ]
  },
  {
   "cell_type": "markdown",
   "metadata": {},
   "source": [
    "60.WAP to print the uppercase characters in a given string."
   ]
  },
  {
   "cell_type": "code",
   "execution_count": 9,
   "metadata": {},
   "outputs": [
    {
     "name": "stdout",
     "output_type": "stream",
     "text": [
      "ASH\n"
     ]
    }
   ],
   "source": [
    "st='AShisH'\n",
    "i=0\n",
    "res=''\n",
    "while i<len(st):\n",
    "    if 'A'<=st[i]<='Z':\n",
    "        res=res+st[i]\n",
    "    i=i+1\n",
    "print(res)\n"
   ]
  },
  {
   "cell_type": "markdown",
   "metadata": {},
   "source": [
    "61.WAP to print the lowercase character in a given string."
   ]
  },
  {
   "cell_type": "code",
   "execution_count": 10,
   "metadata": {},
   "outputs": [
    {
     "name": "stdout",
     "output_type": "stream",
     "text": [
      "his\n"
     ]
    }
   ],
   "source": [
    "st='AShisH'\n",
    "i=0\n",
    "res=''\n",
    "while i<len(st):\n",
    "    if 'a'<=st[i]<='z':\n",
    "        res=res+st[i]\n",
    "    i=i+1\n",
    "print(res)"
   ]
  },
  {
   "cell_type": "markdown",
   "metadata": {},
   "source": [
    "62.WAP to print the ascii number character in a given string."
   ]
  },
  {
   "cell_type": "code",
   "execution_count": 14,
   "metadata": {},
   "outputs": [
    {
     "name": "stdout",
     "output_type": "stream",
     "text": [
      "47\n"
     ]
    }
   ],
   "source": [
    "st='4b7idH'\n",
    "i=0\n",
    "res=''\n",
    "while i<len(st):\n",
    "    if '0'<=st[i]<='9':\n",
    "        res=res+st[i]\n",
    "    i=i+1\n",
    "print(res)"
   ]
  },
  {
   "cell_type": "markdown",
   "metadata": {},
   "source": [
    "63.WAP to print the special character in a given string."
   ]
  },
  {
   "cell_type": "code",
   "execution_count": 20,
   "metadata": {},
   "outputs": [
    {
     "name": "stdout",
     "output_type": "stream",
     "text": [
      "@#\n"
     ]
    }
   ],
   "source": [
    "st='ash@45#'\n",
    "i=0\n",
    "res=''\n",
    "while i<len(st):\n",
    "    if not('A'<=st[i]<='Z' or 'a'<=st[i]<='z' or '0'<=st[i]<='9'):\n",
    "        res=res+st[i]\n",
    "    i=i+1\n",
    "print(res)"
   ]
  },
  {
   "cell_type": "markdown",
   "metadata": {},
   "source": [
    "64.WAP to print the vowels in the given string."
   ]
  },
  {
   "cell_type": "code",
   "execution_count": 21,
   "metadata": {},
   "outputs": [
    {
     "name": "stdout",
     "output_type": "stream",
     "text": [
      "ao\n"
     ]
    }
   ],
   "source": [
    "st='Mango'\n",
    "i=0\n",
    "res=''\n",
    "while i<len(st):\n",
    "    if st[i] in 'aeiouAEIOU':\n",
    "        res=res+st[i]\n",
    "    i=i+1\n",
    "print(res)"
   ]
  },
  {
   "cell_type": "markdown",
   "metadata": {},
   "source": [
    "65.WAP to print the consonant in a given string."
   ]
  },
  {
   "cell_type": "code",
   "execution_count": 22,
   "metadata": {},
   "outputs": [
    {
     "name": "stdout",
     "output_type": "stream",
     "text": [
      "Mng\n"
     ]
    }
   ],
   "source": [
    "st='Mango'\n",
    "i=0\n",
    "res=''\n",
    "while i<len(st):\n",
    "    if st[i] not in 'aeiouAEIOU':\n",
    "        res=res+st[i]\n",
    "    i=i+1\n",
    "print(res)"
   ]
  },
  {
   "cell_type": "markdown",
   "metadata": {},
   "source": [
    "66.WAP to print the reverse of the character in given string."
   ]
  },
  {
   "cell_type": "code",
   "execution_count": 23,
   "metadata": {},
   "outputs": [
    {
     "name": "stdout",
     "output_type": "stream",
     "text": [
      "N\n",
      "O\n",
      "H\n",
      "T\n",
      "Y\n",
      "P\n"
     ]
    }
   ],
   "source": [
    "st='PYTHON'\n",
    "i=-1\n",
    "while i>-(len(st)+1):\n",
    "    print(st[i])\n",
    "    i=i-1\n",
    "    "
   ]
  },
  {
   "cell_type": "markdown",
   "metadata": {},
   "source": [
    "67.WAP to print the even position values character in given string"
   ]
  },
  {
   "cell_type": "code",
   "execution_count": 24,
   "metadata": {},
   "outputs": [
    {
     "name": "stdout",
     "output_type": "stream",
     "text": [
      "A\n",
      "H\n",
      "S\n"
     ]
    }
   ],
   "source": [
    "st='ASHISH'\n",
    "i=0\n",
    "while i<len(st):\n",
    "    if i%2==0:\n",
    "        print(st[i])\n",
    "    i=i+1"
   ]
  },
  {
   "cell_type": "markdown",
   "metadata": {},
   "source": [
    "68.WAP to print the odd position values character in given string"
   ]
  },
  {
   "cell_type": "code",
   "execution_count": 25,
   "metadata": {},
   "outputs": [
    {
     "name": "stdout",
     "output_type": "stream",
     "text": [
      "S\n",
      "I\n",
      "H\n"
     ]
    }
   ],
   "source": [
    "st='ASHISH'\n",
    "i=0\n",
    "while i<len(st):\n",
    "    if i%2==1:\n",
    "        print(st[i])\n",
    "    i=i+1"
   ]
  },
  {
   "cell_type": "markdown",
   "metadata": {},
   "source": [
    "69.WAP to count the total number of number of characters in a given string.(with len function)"
   ]
  },
  {
   "cell_type": "code",
   "execution_count": 27,
   "metadata": {},
   "outputs": [
    {
     "name": "stdout",
     "output_type": "stream",
     "text": [
      "6\n"
     ]
    }
   ],
   "source": [
    "st='Python'\n",
    "i=0\n",
    "count=0\n",
    "while i<len(st):\n",
    "    count=count+1\n",
    "    i=i+1\n",
    "print(count)\n"
   ]
  },
  {
   "cell_type": "markdown",
   "metadata": {},
   "source": [
    "70.WAP to count the total number of number of characters in a given string.(without len function)"
   ]
  },
  {
   "cell_type": "code",
   "execution_count": 28,
   "metadata": {},
   "outputs": [
    {
     "name": "stdout",
     "output_type": "stream",
     "text": [
      "11\n"
     ]
    }
   ],
   "source": [
    "st='Programming'\n",
    "count=0\n",
    "while st:\n",
    "    count=count+1\n",
    "    st=st[:-1]\n",
    "print(count)"
   ]
  },
  {
   "cell_type": "markdown",
   "metadata": {},
   "source": [
    "71.WAP to count alphabets in a given string."
   ]
  },
  {
   "cell_type": "code",
   "execution_count": null,
   "metadata": {},
   "outputs": [],
   "source": []
  },
  {
   "cell_type": "markdown",
   "metadata": {},
   "source": [
    "72.WAP to count number of uppercase in given string."
   ]
  },
  {
   "cell_type": "code",
   "execution_count": 34,
   "metadata": {},
   "outputs": [
    {
     "name": "stdout",
     "output_type": "stream",
     "text": [
      "6\n"
     ]
    }
   ],
   "source": [
    "st='HeLlOWoRlD'\n",
    "i=0\n",
    "count=0\n",
    "while i<len(st):\n",
    "    if 'A'<=st[i]<='Z':\n",
    "        count=count+1\n",
    "    i=i+1\n",
    "print(count)"
   ]
  },
  {
   "cell_type": "markdown",
   "metadata": {},
   "source": [
    "73.WAP to count number of lowercase character in given string."
   ]
  },
  {
   "cell_type": "code",
   "execution_count": 35,
   "metadata": {},
   "outputs": [
    {
     "name": "stdout",
     "output_type": "stream",
     "text": [
      "4\n"
     ]
    }
   ],
   "source": [
    "st='HeLlOWoRlD'\n",
    "i=0\n",
    "count=0\n",
    "while i<len(st):\n",
    "    if 'a'<=st[i]<='z':\n",
    "        count=count+1\n",
    "    i=i+1\n",
    "print(count)"
   ]
  },
  {
   "cell_type": "markdown",
   "metadata": {},
   "source": [
    "74.WAP to count number of special character in given string."
   ]
  },
  {
   "cell_type": "code",
   "execution_count": 37,
   "metadata": {},
   "outputs": [
    {
     "name": "stdout",
     "output_type": "stream",
     "text": [
      "4\n"
     ]
    }
   ],
   "source": [
    "st='HeL%l&O@Wo#RlD'\n",
    "i=0\n",
    "count=0\n",
    "while i<len(st):\n",
    "    if not('A'<=st[i]<='Z' or 'a'<=st[i]<='z' or '0'<=st[i]<='9'):\n",
    "        count=count+1\n",
    "    i=i+1\n",
    "print(count)"
   ]
  },
  {
   "cell_type": "markdown",
   "metadata": {},
   "source": [
    "75.WAP to count number of uppercase and lowercase character in given string."
   ]
  },
  {
   "cell_type": "code",
   "execution_count": 38,
   "metadata": {},
   "outputs": [
    {
     "name": "stdout",
     "output_type": "stream",
     "text": [
      "10\n"
     ]
    }
   ],
   "source": [
    "st='HeL%l&O@Wo#RlD'\n",
    "i=0\n",
    "count=0\n",
    "while i<len(st):\n",
    "    if ('A'<=st[i]<='Z' or 'a'<=st[i]<='z'):\n",
    "        count=count+1\n",
    "    i=i+1\n",
    "print(count)"
   ]
  },
  {
   "cell_type": "markdown",
   "metadata": {},
   "source": [
    "76.WAP to count the number of ascii numbers in given string."
   ]
  },
  {
   "cell_type": "code",
   "execution_count": 39,
   "metadata": {},
   "outputs": [
    {
     "name": "stdout",
     "output_type": "stream",
     "text": [
      "4\n"
     ]
    }
   ],
   "source": [
    "st='HeL%l&O@Wo#Rl34D76'\n",
    "i=0\n",
    "count=0\n",
    "while i<len(st):\n",
    "    if '0'<=st[i]<='9':\n",
    "        count=count+1\n",
    "    i=i+1\n",
    "print(count)"
   ]
  },
  {
   "cell_type": "markdown",
   "metadata": {},
   "source": [
    "77.WAP to count total number of words in a string."
   ]
  },
  {
   "cell_type": "code",
   "execution_count": 1,
   "metadata": {},
   "outputs": [
    {
     "name": "stdout",
     "output_type": "stream",
     "text": [
      "3\n"
     ]
    }
   ],
   "source": [
    "st='Good Morning World'\n",
    "i=0\n",
    "count=0+1\n",
    "while i<len(st):\n",
    "    if st[i]==' ':\n",
    "        count=count+1\n",
    "    i=i+1\n",
    "print(count)"
   ]
  },
  {
   "cell_type": "markdown",
   "metadata": {},
   "source": [
    "78.WAP to count total number of spaces in a string."
   ]
  },
  {
   "cell_type": "code",
   "execution_count": 41,
   "metadata": {},
   "outputs": [
    {
     "name": "stdout",
     "output_type": "stream",
     "text": [
      "2\n"
     ]
    }
   ],
   "source": [
    "st='Good Morning World'\n",
    "i=0\n",
    "count=0\n",
    "while i<len(st):\n",
    "    if st[i]==' ':\n",
    "        count=count+1\n",
    "    i=i+1\n",
    "print(count)"
   ]
  },
  {
   "cell_type": "markdown",
   "metadata": {},
   "source": [
    "79.WAP to count number of vowels in a string."
   ]
  },
  {
   "cell_type": "code",
   "execution_count": 42,
   "metadata": {},
   "outputs": [
    {
     "name": "stdout",
     "output_type": "stream",
     "text": [
      "5\n"
     ]
    }
   ],
   "source": [
    "st='GoodMorningWorld'\n",
    "i=0\n",
    "count=0\n",
    "while i<len(st):\n",
    "    if st[i] in 'aeiouAEIOU':\n",
    "        count=count+1\n",
    "    i=i+1\n",
    "print(count)"
   ]
  },
  {
   "cell_type": "markdown",
   "metadata": {},
   "source": [
    "80.WAP to count number of consonants in a string."
   ]
  },
  {
   "cell_type": "code",
   "execution_count": 43,
   "metadata": {},
   "outputs": [
    {
     "name": "stdout",
     "output_type": "stream",
     "text": [
      "11\n"
     ]
    }
   ],
   "source": [
    "st='GoodMorningWorld'\n",
    "i=0\n",
    "count=0\n",
    "while i<len(st):\n",
    "    if st[i] not in 'aeiouAEIOU':\n",
    "        count=count+1\n",
    "    i=i+1\n",
    "print(count)"
   ]
  },
  {
   "cell_type": "markdown",
   "metadata": {},
   "source": [
    "81.WAP to count number of vowels consonants in a string."
   ]
  },
  {
   "cell_type": "code",
   "execution_count": 45,
   "metadata": {},
   "outputs": [
    {
     "name": "stdout",
     "output_type": "stream",
     "text": [
      "5 11\n"
     ]
    }
   ],
   "source": [
    "st='GoodMorningWorld'\n",
    "i=0\n",
    "vowels,consonant=0,0\n",
    "while i<len(st):\n",
    "    if st[i] in 'aeiouAEIOU':\n",
    "        vowels=vowels+1\n",
    "    else:\n",
    "        consonant=consonant+1\n",
    "    i=i+1\n",
    "print(vowels,consonant)\n"
   ]
  },
  {
   "cell_type": "markdown",
   "metadata": {},
   "source": [
    "82.WAP to count number of new lines in a given doc string."
   ]
  },
  {
   "cell_type": "code",
   "execution_count": 5,
   "metadata": {},
   "outputs": [
    {
     "name": "stdout",
     "output_type": "stream",
     "text": [
      "3\n"
     ]
    }
   ],
   "source": [
    "st='''Hello\n",
    "        bye\n",
    "        hiii'''\n",
    "i=0\n",
    "count=1\n",
    "while i<len(st):\n",
    "    if st[i]=='\\n':\n",
    "        count=count+1\n",
    "    i=i+1\n",
    "print(count)"
   ]
  },
  {
   "cell_type": "markdown",
   "metadata": {},
   "source": [
    "83.WAP to count number of lines in a given string."
   ]
  },
  {
   "cell_type": "code",
   "execution_count": null,
   "metadata": {},
   "outputs": [],
   "source": []
  },
  {
   "cell_type": "markdown",
   "metadata": {},
   "source": [
    "84.WAP to count alphabets, numbers, and special characters in a given string."
   ]
  },
  {
   "cell_type": "code",
   "execution_count": 46,
   "metadata": {},
   "outputs": [
    {
     "name": "stdout",
     "output_type": "stream",
     "text": [
      "Alphabets 10\n",
      "Numbers 4\n",
      "Specical Character 4\n"
     ]
    }
   ],
   "source": [
    "st='HeL%l&O@Wo#RlD4322'\n",
    "i=0\n",
    "alph,numb,spch=0,0,0\n",
    "while i<len(st):\n",
    "    if 'A'<=st[i]<='Z' or 'a'<=st[i]<='z':\n",
    "        alph+=1\n",
    "    elif '0'<=st[i]<='9':\n",
    "        numb+=1\n",
    "    else:\n",
    "        spch+=1\n",
    "    i+=1\n",
    "print('Alphabets',alph)\n",
    "print('Numbers',numb)\n",
    "print('Specical Character',spch)"
   ]
  },
  {
   "cell_type": "markdown",
   "metadata": {},
   "source": [
    "85.WAP to count the total number of words in first line of the Doc String."
   ]
  },
  {
   "cell_type": "code",
   "execution_count": null,
   "metadata": {},
   "outputs": [],
   "source": [
    "st='''Hello\n",
    "        bye\n",
    "        hiii'''\n"
   ]
  },
  {
   "cell_type": "markdown",
   "metadata": {},
   "source": [
    "86.WAP to print sum of digits in given string"
   ]
  },
  {
   "cell_type": "code",
   "execution_count": 6,
   "metadata": {},
   "outputs": [
    {
     "name": "stdout",
     "output_type": "stream",
     "text": [
      "30\n"
     ]
    }
   ],
   "source": [
    "st='as6hu987'\n",
    "sum=0\n",
    "i=0\n",
    "while i<len(st):\n",
    "    if '0'<=st[i]<='9':\n",
    "        sum+=int(st[i])\n",
    "    i+=1\n",
    "print(sum)"
   ]
  },
  {
   "cell_type": "markdown",
   "metadata": {},
   "source": [
    "87.WAP to print first occurance of a character in a string."
   ]
  },
  {
   "cell_type": "code",
   "execution_count": 51,
   "metadata": {},
   "outputs": [
    {
     "name": "stdout",
     "output_type": "stream",
     "text": [
      "{'h': 1, 'e': 1, 'l': 3, 'o': 2, 'w': 1, 'r': 1, 'd': 1}\n",
      "h 1\n"
     ]
    }
   ],
   "source": [
    "st='helloworld'\n",
    "res={}\n",
    "i=0\n",
    "while i<len(st):\n",
    "    if st[i] not in res:\n",
    "        res[st[i]]=1\n",
    "    else:\n",
    "        res[st[i]]+=1\n",
    "    i+=1\n",
    "print(res)\n",
    "l=list(res)\n",
    "ch=l[0]\n",
    "occ=res[l[0]]\n",
    "print(ch,occ)"
   ]
  },
  {
   "cell_type": "markdown",
   "metadata": {},
   "source": [
    "88.WAP to print last occurance of a character in a string."
   ]
  },
  {
   "cell_type": "code",
   "execution_count": 57,
   "metadata": {},
   "outputs": [
    {
     "name": "stdout",
     "output_type": "stream",
     "text": [
      "{'h': 1, 'e': 1, 'l': 3, 'o': 2, 'w': 1, 'r': 1, 'd': 1}\n",
      "d 1\n"
     ]
    }
   ],
   "source": [
    "st='helloworld'\n",
    "d={}\n",
    "i=0\n",
    "while i<len(st):\n",
    "    if st[i] not in d:\n",
    "        d[st[i]]=1\n",
    "    else:\n",
    "        d[st[i]]+=1\n",
    "    i+=1\n",
    "print(d)\n",
    "l=list(d)\n",
    "j=-1\n",
    "ch=l[j]\n",
    "occ=d[l[j]]\n",
    "print(ch,occ)"
   ]
  },
  {
   "cell_type": "markdown",
   "metadata": {},
   "source": [
    "89.WAP to print first non occurance of a character in a string."
   ]
  },
  {
   "cell_type": "code",
   "execution_count": 8,
   "metadata": {},
   "outputs": [
    {
     "name": "stdout",
     "output_type": "stream",
     "text": [
      "{'m': 2, 'a': 4, 'l': 2, 'y': 1}\n",
      "y 1\n"
     ]
    }
   ],
   "source": [
    "# st='pyspider'\n",
    "st = 'malayalam'\n",
    "d={}\n",
    "i=0\n",
    "while i<len(st):\n",
    "    if st[i] not in d:\n",
    "        d[st[i]]=1\n",
    "    else:\n",
    "        d[st[i]]+=1\n",
    "    i+=1\n",
    "print(d)\n",
    "l=list(d)\n",
    "j = 0\n",
    "while j<len(d):\n",
    "    if d[l[j]] == 1:\n",
    "        res = l[j]\n",
    "        break\n",
    "    j += 1\n",
    "print(res,d[l[j]])\n"
   ]
  },
  {
   "cell_type": "markdown",
   "metadata": {},
   "source": [
    "90.WAP to print last non occurance of a character in a string."
   ]
  },
  {
   "cell_type": "code",
   "execution_count": null,
   "metadata": {},
   "outputs": [],
   "source": [
    "st='pyspider'\n",
    "d={}\n",
    "i=0\n",
    "while i<len(st):\n",
    "    if st[i] not in d:\n",
    "        d[st[i]]=1\n",
    "    else:\n",
    "        d[st[i]]+=1\n",
    "    i+=1\n",
    "print(d)\n",
    "l=list(d)\n",
    "occ=1\n",
    "########"
   ]
  },
  {
   "cell_type": "markdown",
   "metadata": {},
   "source": [
    "91.WAP to remove first occurance of a character in a string."
   ]
  },
  {
   "cell_type": "code",
   "execution_count": 78,
   "metadata": {},
   "outputs": [
    {
     "name": "stdout",
     "output_type": "stream",
     "text": [
      "{'m': 2, 'a': 4, 'l': 2, 'y': 1}\n",
      "a 1\n",
      "l 2\n",
      "y 3\n"
     ]
    }
   ],
   "source": [
    "st='malayalam'\n",
    "d={}\n",
    "i=0\n",
    "while i<len(st):\n",
    "    if st[i] not in d:\n",
    "        d[st[i]]=1\n",
    "    else:\n",
    "        d[st[i]]+=1\n",
    "    i+=1\n",
    "print(d)\n",
    "l=list(d)\n",
    "ch=''\n",
    "occ=0\n",
    "j=1\n",
    "while j<len(l):\n",
    "    ch=l[j]\n",
    "    occ=d[l[j]]\n",
    "    print(ch,j)\n",
    "    j+=1\n",
    "    ################\n"
   ]
  },
  {
   "cell_type": "markdown",
   "metadata": {},
   "source": [
    "92.WAP to remove last occurance of a character in a string."
   ]
  },
  {
   "cell_type": "code",
   "execution_count": 16,
   "metadata": {},
   "outputs": [
    {
     "name": "stdout",
     "output_type": "stream",
     "text": [
      "{'a': 1, 's': 2, 'h': 2, 'i': 1}\n",
      "a 1\n",
      "s 2\n",
      "h 2\n"
     ]
    }
   ],
   "source": [
    "st='ashish'\n",
    "i=0\n",
    "d={}\n",
    "while i<len(st):\n",
    "    if st[i] not in d:\n",
    "        d[st[i]]=1\n",
    "    else:\n",
    "        d[st[i]]+=1\n",
    "    i+=1\n",
    "print(d)\n",
    "l=list(d)\n",
    "j=0\n",
    "ch=''\n",
    "while j<len(l[:-1]):\n",
    "    ch=l[j]\n",
    "    occ=d[l[j]]\n",
    "    print(ch,occ)\n",
    "    j+=1"
   ]
  },
  {
   "cell_type": "markdown",
   "metadata": {},
   "source": [
    "93.WAP to count the occurance of a specific character in a given string."
   ]
  },
  {
   "cell_type": "code",
   "execution_count": 86,
   "metadata": {},
   "outputs": [
    {
     "name": "stdout",
     "output_type": "stream",
     "text": [
      "{'m': 2, 'a': 4, 'l': 2, 'y': 1}\n",
      "occurance of a is 4\n"
     ]
    }
   ],
   "source": [
    "st='malayalam'\n",
    "sp='a'\n",
    "i=0\n",
    "d={}\n",
    "while i<len(st):\n",
    "    if st[i] not in d:\n",
    "        d[st[i]]=1\n",
    "    else:\n",
    "        d[st[i]]+=1\n",
    "    i+=1\n",
    "print(d)\n",
    "print(f'occurance of {sp} is {d[sp]}')"
   ]
  },
  {
   "cell_type": "markdown",
   "metadata": {},
   "source": [
    "94.WAP to count the max occurance of a specific character in a given string."
   ]
  },
  {
   "cell_type": "code",
   "execution_count": 87,
   "metadata": {},
   "outputs": [
    {
     "name": "stdout",
     "output_type": "stream",
     "text": [
      "{'m': 2, 'a': 4, 'l': 2, 'y': 1}\n",
      "a 4\n"
     ]
    }
   ],
   "source": [
    "st='malayalam'\n",
    "d={}\n",
    "i=0\n",
    "while i<len(st):\n",
    "    if st[i] not in d:\n",
    "        d[st[i]]=1\n",
    "    else:\n",
    "        d[st[i]]+=1\n",
    "    i+=1\n",
    "print(d)\n",
    "l=list(d)\n",
    "max=0\n",
    "ch=''\n",
    "j=0\n",
    "while j<len(l):\n",
    "    if max<d[l[j]]:\n",
    "        max=d[l[j]]\n",
    "        ch=l[j]\n",
    "    j+=1\n",
    "print(ch,max)"
   ]
  },
  {
   "cell_type": "markdown",
   "metadata": {},
   "source": [
    "95.WAP to count the min occurance of a character in a given string."
   ]
  },
  {
   "cell_type": "code",
   "execution_count": 33,
   "metadata": {},
   "outputs": [
    {
     "name": "stdout",
     "output_type": "stream",
     "text": [
      "{'m': 2, 'a': 4, 'l': 2, 'y': 1}\n",
      "y 1\n"
     ]
    }
   ],
   "source": [
    "st='malayalam'\n",
    "d={}\n",
    "i=0\n",
    "while i<len(st):\n",
    "    if st[i] not in d:\n",
    "        d[st[i]]=1\n",
    "    else:\n",
    "        d[st[i]]+=1\n",
    "    i+=1\n",
    "print(d)\n",
    "l=list(d)\n",
    "min=d[l[0]]\n",
    "ch=''\n",
    "j=0\n",
    "while j<len(l):\n",
    "    if min>d[l[j]]:\n",
    "        min=d[l[j]]\n",
    "        ch=l[j]\n",
    "    j+=1\n",
    "print(ch,min)"
   ]
  },
  {
   "cell_type": "markdown",
   "metadata": {},
   "source": [
    "96.WAP to print the repeats of a specific character in given string."
   ]
  },
  {
   "cell_type": "code",
   "execution_count": null,
   "metadata": {},
   "outputs": [],
   "source": []
  },
  {
   "cell_type": "markdown",
   "metadata": {},
   "source": [
    "97.WAP to print max repeated characters in given string."
   ]
  },
  {
   "cell_type": "code",
   "execution_count": null,
   "metadata": {},
   "outputs": [],
   "source": []
  },
  {
   "cell_type": "markdown",
   "metadata": {},
   "source": [
    "98.WAP to print min repeated characters in given string."
   ]
  },
  {
   "cell_type": "code",
   "execution_count": null,
   "metadata": {},
   "outputs": [],
   "source": []
  },
  {
   "cell_type": "markdown",
   "metadata": {},
   "source": [
    "99.WAP to replace a specific character into new character."
   ]
  },
  {
   "cell_type": "code",
   "execution_count": 101,
   "metadata": {},
   "outputs": [
    {
     "name": "stdout",
     "output_type": "stream",
     "text": [
      "mzlzyzlzm\n"
     ]
    }
   ],
   "source": [
    "st='malayalam'\n",
    "ch = 'a'\n",
    "nc = 'z'\n",
    "l = list(st)\n",
    "i = 0\n",
    "while i<len(l):\n",
    "    if l[i] == ch:\n",
    "        l[i] = nc\n",
    "    i += 1\n",
    "j = 0\n",
    "res = ''\n",
    "while j<len(l):\n",
    "    res += l[j]\n",
    "    j += 1\n",
    "print(res)"
   ]
  },
  {
   "cell_type": "markdown",
   "metadata": {},
   "source": []
  },
  {
   "cell_type": "code",
   "execution_count": null,
   "metadata": {},
   "outputs": [],
   "source": [
    "\n",
    "    "
   ]
  },
  {
   "cell_type": "markdown",
   "metadata": {},
   "source": [
    "100.WAP to convert lowercase to uppercase in a given string."
   ]
  },
  {
   "cell_type": "code",
   "execution_count": 2,
   "metadata": {},
   "outputs": [
    {
     "name": "stdout",
     "output_type": "stream",
     "text": [
      "ASHISH@%\n"
     ]
    }
   ],
   "source": [
    "st='ashIsh@%'\n",
    "i=0\n",
    "res=''\n",
    "while i<len(st):\n",
    "    if 'a'<=st[i]<='z':\n",
    "        res+=chr(ord(st[i])-32)\n",
    "    else:\n",
    "        res+=st[i]\n",
    "    i+=1\n",
    "print(res)"
   ]
  },
  {
   "cell_type": "markdown",
   "metadata": {},
   "source": [
    "101.WAP to convert uppercase to lowercase in a given string."
   ]
  },
  {
   "cell_type": "code",
   "execution_count": 6,
   "metadata": {},
   "outputs": [
    {
     "name": "stdout",
     "output_type": "stream",
     "text": [
      "ashish#@32\n"
     ]
    }
   ],
   "source": [
    "st='AshIsH#@32'\n",
    "i=0\n",
    "res=''\n",
    "while i<len(st):\n",
    "    if 'A'<=st[i]<='Z':\n",
    "        res=res+chr(ord(st[i])+32)\n",
    "    else:\n",
    "        res=res+st[i]\n",
    "    i=i+1\n",
    "print(res)\n"
   ]
  },
  {
   "cell_type": "markdown",
   "metadata": {},
   "source": [
    "102.WAP to convert uppercase to lowercase in even position characters in a given string."
   ]
  },
  {
   "cell_type": "code",
   "execution_count": 10,
   "metadata": {},
   "outputs": [
    {
     "name": "stdout",
     "output_type": "stream",
     "text": [
      "hElLoWoRlD\n"
     ]
    }
   ],
   "source": [
    "st='HELLOWORLD'\n",
    "i=0\n",
    "res=''\n",
    "while i<len(st):\n",
    "    if 'A'<=st[i]<='Z' and i%2==0:\n",
    "        res=res+chr(ord(st[i])+32)\n",
    "    else:\n",
    "        res=res+st[i]\n",
    "    i=i+1\n",
    "print(res)\n"
   ]
  },
  {
   "cell_type": "markdown",
   "metadata": {},
   "source": [
    "103.WAP to convert uppercase to lowercase in odd position characters in a given string."
   ]
  },
  {
   "cell_type": "code",
   "execution_count": 14,
   "metadata": {},
   "outputs": [
    {
     "name": "stdout",
     "output_type": "stream",
     "text": [
      "HeLlOwOrLd\n"
     ]
    }
   ],
   "source": [
    "st='HELLOWORLD'\n",
    "i=0\n",
    "res=''\n",
    "while i<len(st):\n",
    "    if 'A'<=st[i]<='Z' and i%2==1:\n",
    "        res=res+chr(ord(st[i])+32)\n",
    "    else:\n",
    "        res=res+st[i]\n",
    "    i=i+1\n",
    "print(res)\n"
   ]
  },
  {
   "cell_type": "markdown",
   "metadata": {},
   "source": [
    "104.WAP to convert uppercase letter to lowercase and lowercase letter to uppercase, if the character is special symbol replace with * for the given input string."
   ]
  },
  {
   "cell_type": "code",
   "execution_count": 16,
   "metadata": {},
   "outputs": [
    {
     "name": "stdout",
     "output_type": "stream",
     "text": [
      "HelLoW*o*r*Ld\n"
     ]
    }
   ],
   "source": [
    "st='hELlOw%O@R#lD'\n",
    "i=0\n",
    "res=''\n",
    "while i<len(st):\n",
    "    if 'A'<=st[i]<='Z':\n",
    "        res+=chr(ord(st[i])+32)\n",
    "    elif 'a'<=st[i]<='z':\n",
    "        res+=chr(ord(st[i])-32)\n",
    "    else:\n",
    "        res+='*'\n",
    "    i+=1\n",
    "print(res)"
   ]
  },
  {
   "cell_type": "markdown",
   "metadata": {},
   "source": [
    "105.WAP to convert title case in given string."
   ]
  },
  {
   "cell_type": "code",
   "execution_count": null,
   "metadata": {},
   "outputs": [],
   "source": []
  },
  {
   "cell_type": "markdown",
   "metadata": {},
   "source": [
    "106.WAP to convert snake case in a given string."
   ]
  },
  {
   "cell_type": "code",
   "execution_count": null,
   "metadata": {},
   "outputs": [],
   "source": []
  },
  {
   "cell_type": "markdown",
   "metadata": {},
   "source": [
    "107.WAP to Toggle characters case in a string."
   ]
  },
  {
   "cell_type": "code",
   "execution_count": null,
   "metadata": {},
   "outputs": [],
   "source": []
  },
  {
   "cell_type": "markdown",
   "metadata": {},
   "source": [
    "108.WAP to replace vowels into ascii values in a given string.(both with and without temp variable)"
   ]
  },
  {
   "cell_type": "code",
   "execution_count": 23,
   "metadata": {},
   "outputs": [
    {
     "name": "stdout",
     "output_type": "stream",
     "text": [
      "97sh105sh\n"
     ]
    }
   ],
   "source": [
    "st='ashish'\n",
    "i=0\n",
    "res=''\n",
    "while i<len(st):\n",
    "    if st[i] in 'aeiouAEIOU':\n",
    "        res+=str(ord(st[i]))\n",
    "    else:\n",
    "        res+=st[i]\n",
    "    i+=1\n",
    "print(res)"
   ]
  },
  {
   "cell_type": "markdown",
   "metadata": {},
   "source": [
    "109.WAP to replace the consonants into ascii values in a given string.(both with and without temp variable)"
   ]
  },
  {
   "cell_type": "code",
   "execution_count": 25,
   "metadata": {},
   "outputs": [
    {
     "name": "stdout",
     "output_type": "stream",
     "text": [
      "109a108a121a108a109\n"
     ]
    }
   ],
   "source": [
    "st='malayalam'\n",
    "i=0\n",
    "res=''\n",
    "while i<len(st):\n",
    "    if st[i] not in 'aeiouAEIOU':\n",
    "        res+=str(ord(st[i]))\n",
    "    else:\n",
    "        res+=st[i]\n",
    "    i+=1\n",
    "print(res)"
   ]
  },
  {
   "cell_type": "markdown",
   "metadata": {},
   "source": [
    "110.WAP to replace consonants to ascii values in odd position characters in given string.(both with and without temp variable)"
   ]
  },
  {
   "cell_type": "code",
   "execution_count": 28,
   "metadata": {},
   "outputs": [
    {
     "name": "stdout",
     "output_type": "stream",
     "text": [
      "a115104i115104\n"
     ]
    }
   ],
   "source": [
    "st='ashish'\n",
    "i=0\n",
    "res=''\n",
    "while i<len(st):\n",
    "    if st[i] not in 'aeiouAEIOU' and i!=0:\n",
    "        res+=str(ord(st[i]))\n",
    "    else:\n",
    "        res+=st[i]\n",
    "    i+=1\n",
    "print(res)"
   ]
  },
  {
   "cell_type": "markdown",
   "metadata": {},
   "source": [
    "111.WAP to replace vowels to ascii values in odd position characters in given string.(both with and without temp variable)"
   ]
  },
  {
   "cell_type": "code",
   "execution_count": 30,
   "metadata": {},
   "outputs": [
    {
     "name": "stdout",
     "output_type": "stream",
     "text": [
      "97shish\n"
     ]
    }
   ],
   "source": [
    "st='ashish'\n",
    "i=0\n",
    "res=''\n",
    "while i<len(st):\n",
    "    if st[i] in 'aeiouAEIOU' and i==0:\n",
    "        res+=str(ord(st[i]))\n",
    "    else:\n",
    "        res+=st[i]\n",
    "    i+=1\n",
    "print(res)"
   ]
  },
  {
   "cell_type": "markdown",
   "metadata": {},
   "source": [
    "112.WAP to replaces white spaces with hypen in a string.(both with and without temp variable)"
   ]
  },
  {
   "cell_type": "code",
   "execution_count": 32,
   "metadata": {},
   "outputs": [
    {
     "name": "stdout",
     "output_type": "stream",
     "text": [
      "hello-how-are-you\n"
     ]
    }
   ],
   "source": [
    "st='hello how are you'\n",
    "i=0\n",
    "res=''\n",
    "while i<len(st):\n",
    "    if st[i]==' ':\n",
    "        res+='-'\n",
    "    else:\n",
    "        res+=st[i]\n",
    "    i+=1\n",
    "print(res)"
   ]
  },
  {
   "cell_type": "markdown",
   "metadata": {},
   "source": [
    "113.WAP to remove odd position character in a given string."
   ]
  },
  {
   "cell_type": "code",
   "execution_count": 5,
   "metadata": {},
   "outputs": [
    {
     "name": "stdout",
     "output_type": "stream",
     "text": [
      "MLYLM\n"
     ]
    }
   ],
   "source": [
    "st='MALAYALAM'\n",
    "i=0\n",
    "res=''\n",
    "while i<len(st):\n",
    "    if i%2==0:\n",
    "        res+=st[i]\n",
    "    i+=1\n",
    "print(res)"
   ]
  },
  {
   "cell_type": "markdown",
   "metadata": {},
   "source": [
    "114.WAP to remove even position character in a given string."
   ]
  },
  {
   "cell_type": "code",
   "execution_count": 6,
   "metadata": {},
   "outputs": [
    {
     "name": "stdout",
     "output_type": "stream",
     "text": [
      "AAAA\n"
     ]
    }
   ],
   "source": [
    "st='MALAYALAM'\n",
    "i=0\n",
    "res=''\n",
    "while i<len(st):\n",
    "    if i%2==1:\n",
    "        res+=st[i]\n",
    "    i+=1\n",
    "print(res)"
   ]
  },
  {
   "cell_type": "markdown",
   "metadata": {},
   "source": [
    "115.WAP to remove alphabets in a given string."
   ]
  },
  {
   "cell_type": "code",
   "execution_count": 12,
   "metadata": {},
   "outputs": [
    {
     "name": "stdout",
     "output_type": "stream",
     "text": [
      "11@#@5432\n"
     ]
    }
   ],
   "source": [
    "st='M1A1LA@Y#@AL5432AM'\n",
    "i=1\n",
    "res=''\n",
    "while i<len(st):\n",
    "    if not('A'<=st[i]<='Z' or 'a'<=st[i]<='z') or '0'<=st[i]<='9':\n",
    "        res+=st[i]\n",
    "    i+=1\n",
    "print(res)"
   ]
  },
  {
   "cell_type": "markdown",
   "metadata": {},
   "source": [
    "116.WAP to remove ascii number in a given string."
   ]
  },
  {
   "cell_type": "code",
   "execution_count": 14,
   "metadata": {},
   "outputs": [
    {
     "name": "stdout",
     "output_type": "stream",
     "text": [
      "ALA@Y#@ALAM\n"
     ]
    }
   ],
   "source": [
    "st='M1A1LA@Y#@AL5432AM'\n",
    "i=1\n",
    "res=''\n",
    "while i<len(st):\n",
    "    if not('A'<=st[i]<='Z' or 'a'<=st[i]<='z' or '0'<=st[i]<='9') or 'A'<=st[i]<='Z' or 'a'<=st[i]<='z':\n",
    "        res+=st[i]\n",
    "    i+=1\n",
    "print(res)"
   ]
  },
  {
   "cell_type": "markdown",
   "metadata": {},
   "source": [
    "117.WAP to remove special character in a given string."
   ]
  },
  {
   "cell_type": "code",
   "execution_count": 15,
   "metadata": {},
   "outputs": [
    {
     "name": "stdout",
     "output_type": "stream",
     "text": [
      "1A1LAYAL5432AM\n"
     ]
    }
   ],
   "source": [
    "st='M1A1LA@Y#@AL5432AM'\n",
    "i=1\n",
    "res=''\n",
    "while i<len(st):\n",
    "    if 'A'<=st[i]<='Z' or 'a'<=st[i]<='z' or '0'<=st[i]<='9':\n",
    "        res+=st[i]\n",
    "    i+=1\n",
    "print(res)"
   ]
  },
  {
   "cell_type": "markdown",
   "metadata": {},
   "source": [
    "118.WAP to check the given string is palindrome or not."
   ]
  },
  {
   "cell_type": "code",
   "execution_count": 1,
   "metadata": {},
   "outputs": [
    {
     "name": "stdout",
     "output_type": "stream",
     "text": [
      "Palindrome\n"
     ]
    }
   ],
   "source": [
    "st='MALAYALAM'\n",
    "rev=st[::-1]\n",
    "if rev==st:\n",
    "    print('Palindrome')\n",
    "else:\n",
    "    print('Not Palindrome')"
   ]
  },
  {
   "cell_type": "markdown",
   "metadata": {},
   "source": [
    "119.WAP to check wheather the given string is lowercase or not."
   ]
  },
  {
   "cell_type": "code",
   "execution_count": null,
   "metadata": {},
   "outputs": [],
   "source": []
  }
 ],
 "metadata": {
  "kernelspec": {
   "display_name": "Python 3",
   "language": "python",
   "name": "python3"
  },
  "language_info": {
   "codemirror_mode": {
    "name": "ipython",
    "version": 3
   },
   "file_extension": ".py",
   "mimetype": "text/x-python",
   "name": "python",
   "nbconvert_exporter": "python",
   "pygments_lexer": "ipython3",
   "version": "3.11.4"
  },
  "orig_nbformat": 4
 },
 "nbformat": 4,
 "nbformat_minor": 2
}
