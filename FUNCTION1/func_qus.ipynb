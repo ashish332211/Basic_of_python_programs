{
 "cells": [
  {
   "cell_type": "markdown",
   "metadata": {},
   "source": [
    "WAP to multiply all the elements in the list\n"
   ]
  },
  {
   "cell_type": "code",
   "execution_count": 1,
   "metadata": {},
   "outputs": [
    {
     "data": {
      "text/plain": [
       "952.5600000000003"
      ]
     },
     "execution_count": 1,
     "metadata": {},
     "output_type": "execute_result"
    }
   ],
   "source": [
    "l=[3,5.4,6,9.8]\n",
    "def mul(coll):\n",
    "    prod=1\n",
    "    for i in coll:\n",
    "        prod=prod*i\n",
    "    return prod\n",
    "mul(l)"
   ]
  },
  {
   "cell_type": "markdown",
   "metadata": {},
   "source": [
    "WAP to reverse a given string"
   ]
  },
  {
   "cell_type": "code",
   "execution_count": 3,
   "metadata": {},
   "outputs": [
    {
     "data": {
      "text/plain": [
       "'321nohtyp'"
      ]
     },
     "execution_count": 3,
     "metadata": {},
     "output_type": "execute_result"
    }
   ],
   "source": [
    "st='python123'\n",
    "def rev(coll):\n",
    "    res=''\n",
    "    for i in st:\n",
    "        res=i+res\n",
    "    return res\n",
    "rev(st)"
   ]
  },
  {
   "cell_type": "markdown",
   "metadata": {},
   "source": [
    "Write a Python function that takes a list and returns a new list with distinct elements from the first list."
   ]
  },
  {
   "cell_type": "code",
   "execution_count": 7,
   "metadata": {},
   "outputs": [
    {
     "data": {
      "text/plain": [
       "[1, 2, 3, 4, 5, 6, 7]"
      ]
     },
     "execution_count": 7,
     "metadata": {},
     "output_type": "execute_result"
    }
   ],
   "source": [
    "l=[1,2,1,1,3,2,4,3,4,5,6,3,5,7]\n",
    "def repeat(coll):\n",
    "    uni=[]\n",
    "    for i in coll:\n",
    "        if i not in uni:\n",
    "            uni+=[i]\n",
    "    return uni\n",
    "repeat(l)"
   ]
  },
  {
   "cell_type": "code",
   "execution_count": 3,
   "metadata": {},
   "outputs": [
    {
     "data": {
      "text/plain": [
       "54321"
      ]
     },
     "execution_count": 3,
     "metadata": {},
     "output_type": "execute_result"
    }
   ],
   "source": [
    "def palin(num, res= ''):\n",
    "    for i in str(num):\n",
    "        res=i+res\n",
    "    return int(res)\n",
    "palin(12345)"
   ]
  },
  {
   "cell_type": "markdown",
   "metadata": {},
   "source": [
    "Write a Python function that takes a number as a parameter and checks whether the number is prime or not."
   ]
  },
  {
   "cell_type": "code",
   "execution_count": 3,
   "metadata": {},
   "outputs": [
    {
     "data": {
      "text/plain": [
       "'Prime Number'"
      ]
     },
     "execution_count": 3,
     "metadata": {},
     "output_type": "execute_result"
    }
   ],
   "source": [
    "def check_prime(num):\n",
    "    i=1\n",
    "    count=0\n",
    "    while i<=num:\n",
    "        if num%i==0:\n",
    "            count+=1\n",
    "        i+=1\n",
    "    if count==2:\n",
    "        return 'Prime Number'\n",
    "    else:\n",
    "        return 'Not A Prime Number'\n",
    "check_prime(7)"
   ]
  },
  {
   "cell_type": "markdown",
   "metadata": {},
   "source": [
    "Write a Python function to check whether a number is \"Perfect\" or not."
   ]
  },
  {
   "cell_type": "code",
   "execution_count": 19,
   "metadata": {},
   "outputs": [
    {
     "data": {
      "text/plain": [
       "'Perfect Number'"
      ]
     },
     "execution_count": 19,
     "metadata": {},
     "output_type": "execute_result"
    }
   ],
   "source": [
    "def perfect(num):\n",
    "    i=1\n",
    "    sum=0\n",
    "    while i<num:\n",
    "        if num%i==0:\n",
    "            sum+=i\n",
    "        i+=1\n",
    "    if num==sum:\n",
    "        return 'Perfect Number'\n",
    "    else:\n",
    "        return 'Not A Perfect Number'\n",
    "perfect(6)"
   ]
  },
  {
   "cell_type": "code",
   "execution_count": 12,
   "metadata": {},
   "outputs": [
    {
     "name": "stdout",
     "output_type": "stream",
     "text": [
      "O\n",
      "OD\n",
      "ODI\n",
      "ODIS\n",
      "ODISH\n",
      "ODISHA\n",
      "D\n",
      "DI\n",
      "DIS\n",
      "DISH\n",
      "DISHA\n",
      "I\n",
      "IS\n",
      "ISH\n",
      "ISHA\n",
      "S\n",
      "SH\n",
      "SHA\n",
      "H\n",
      "HA\n",
      "A\n"
     ]
    }
   ],
   "source": [
    "st='ODISHA'\n",
    "def seq(coll):\n",
    "    for i in range(0,len(coll)):\n",
    "        for j in range(i+1,len(coll)+1):\n",
    "            print(coll[i:j])\n",
    "seq(st)"
   ]
  },
  {
   "cell_type": "markdown",
   "metadata": {},
   "source": [
    "WAP to check given password is valid or invalid\n",
    "* Given input should be string and length of the string should have minimum 8 and maximum 20 character\n",
    "* Minmum one numeric character\n",
    "* Minimum one and maximum 5 lowercase character\n",
    "* Starting and ending character should be Uppercase\n",
    "* Minimum two special character"
   ]
  },
  {
   "cell_type": "code",
   "execution_count": 13,
   "metadata": {},
   "outputs": [
    {
     "data": {
      "text/plain": [
       "'Valid Password'"
      ]
     },
     "execution_count": 13,
     "metadata": {},
     "output_type": "execute_result"
    }
   ],
   "source": [
    "st='Ashu@##4567A'\n",
    "def password(coll):\n",
    "    if type(coll)==str and 8<=len(coll)<=20 and 'A'<=coll[0]<='Z' and 'A'<=coll[-1]<='Z':\n",
    "        lc,sp,an='','',''\n",
    "        for i in coll:\n",
    "            if 'a'<=i<='z':\n",
    "                lc+=i\n",
    "            if not('A'<=i<='Z' or 'a'<=i<='z' or '0'<=i<='9'):\n",
    "                sp+=i\n",
    "            if '0'<=i<='9':\n",
    "                an+=i\n",
    "        if len(an)>=1 and 1<=len(lc)<=5 and len(sp)>=2:\n",
    "            return 'Valid Password'\n",
    "        else:\n",
    "            return 'Invalid Password'\n",
    "    else:\n",
    "        return 'Invalid Password'\n",
    "password(st)"
   ]
  },
  {
   "cell_type": "code",
   "execution_count": 3,
   "metadata": {},
   "outputs": [
    {
     "name": "stdout",
     "output_type": "stream",
     "text": [
      "[20, 10, 'd', 'c', 'hello', 'c', 'b', 'a']\n"
     ]
    }
   ],
   "source": [
    "l=['a','b','c','hello','c','d',10,20]\n",
    "def u_reverse(coll):\n",
    "    j=-1\n",
    "    for i in range(0,len(coll)//2):\n",
    "        coll[i],coll[j]=coll[j],coll[i]\n",
    "        j-=1\n",
    "u_reverse(l)\n",
    "print(l)\n"
   ]
  },
  {
   "cell_type": "code",
   "execution_count": 2,
   "metadata": {},
   "outputs": [
    {
     "name": "stdout",
     "output_type": "stream",
     "text": [
      "[10, 20, 30, 40, 50, 60, 90, 130]\n"
     ]
    }
   ],
   "source": [
    "l=[30,20,10,50,130,60,40,90]\n",
    "def u_sort(coll):\n",
    "    for i in range(0,len(coll)):\n",
    "        for j in range(0,len(coll)-1):\n",
    "            if coll[j]>coll[j+1]:\n",
    "                coll[j],coll[j+1]=coll[j+1],coll[j]\n",
    "u_sort(l)\n",
    "print(l)"
   ]
  },
  {
   "cell_type": "code",
   "execution_count": 4,
   "metadata": {},
   "outputs": [
    {
     "name": "stdout",
     "output_type": "stream",
     "text": [
      "['Holiday', 'Is', 'Today']\n",
      "Holiday Is Today \n"
     ]
    }
   ],
   "source": [
    "a = 'Today Is Holiday'\n",
    "def rev(coll):\n",
    "    st=coll.split()\n",
    "    j=-1\n",
    "    for i in range(0,len(st)//2):\n",
    "        st[i],st[j]=st[j],st[i]\n",
    "    j-=1\n",
    "    print(st)\n",
    "    res=''\n",
    "    for j in st:\n",
    "        res+=j\n",
    "        res+=' '\n",
    "    print(res)\n",
    "rev(a)"
   ]
  }
 ],
 "metadata": {
  "kernelspec": {
   "display_name": "Python 3",
   "language": "python",
   "name": "python3"
  },
  "language_info": {
   "codemirror_mode": {
    "name": "ipython",
    "version": 3
   },
   "file_extension": ".py",
   "mimetype": "text/x-python",
   "name": "python",
   "nbconvert_exporter": "python",
   "pygments_lexer": "ipython3",
   "version": "3.12.0"
  }
 },
 "nbformat": 4,
 "nbformat_minor": 2
}
