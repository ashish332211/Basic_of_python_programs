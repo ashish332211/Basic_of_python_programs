{
 "cells": [
  {
   "cell_type": "markdown",
   "metadata": {},
   "source": [
    "2.WAP to print all the items present in the string between the range from \n",
    "m to n."
   ]
  },
  {
   "cell_type": "code",
   "execution_count": 3,
   "metadata": {},
   "outputs": [
    {
     "name": "stdout",
     "output_type": "stream",
     "text": [
      "H\n",
      "e\n",
      "l\n",
      "l\n",
      "o\n",
      "w\n",
      "o\n",
      "r\n",
      "l\n",
      "d\n"
     ]
    }
   ],
   "source": [
    "st='Helloworld'\n",
    "for i in st:\n",
    "    print(i)"
   ]
  },
  {
   "cell_type": "markdown",
   "metadata": {},
   "source": [
    "3.WAP to print the uppercase characters in a given string."
   ]
  },
  {
   "cell_type": "code",
   "execution_count": 4,
   "metadata": {},
   "outputs": [
    {
     "name": "stdout",
     "output_type": "stream",
     "text": [
      "P\n",
      "Y\n",
      "O\n"
     ]
    }
   ],
   "source": [
    "st='PYthOn'\n",
    "for i in st:\n",
    "    if 'A'<=i<='Z':\n",
    "        print(i)"
   ]
  },
  {
   "cell_type": "markdown",
   "metadata": {},
   "source": [
    "4.WAP to print the lowercase characters in a given string."
   ]
  },
  {
   "cell_type": "code",
   "execution_count": 5,
   "metadata": {},
   "outputs": [
    {
     "name": "stdout",
     "output_type": "stream",
     "text": [
      "t\n",
      "h\n",
      "n\n"
     ]
    }
   ],
   "source": [
    "st='PYthOn'\n",
    "for i in st:\n",
    "    if 'a'<=i<='z':\n",
    "        print(i)"
   ]
  },
  {
   "cell_type": "markdown",
   "metadata": {},
   "source": [
    "5.WAP to print the ascii numbers(Digits) characters in a given string."
   ]
  },
  {
   "cell_type": "code",
   "execution_count": 10,
   "metadata": {},
   "outputs": [
    {
     "name": "stdout",
     "output_type": "stream",
     "text": [
      "@\n",
      "#\n",
      "$\n"
     ]
    }
   ],
   "source": [
    "st='PYt1h5On8@#$'\n",
    "for i in st:\n",
    "    if not ('A'<=i<='Z' or 'a'<=i<='z' or '0'<=i<='9'):\n",
    "        print(i)"
   ]
  },
  {
   "cell_type": "markdown",
   "metadata": {},
   "source": [
    "6.WAP to Print the vowels in a given string."
   ]
  },
  {
   "cell_type": "code",
   "execution_count": 14,
   "metadata": {},
   "outputs": [
    {
     "name": "stdout",
     "output_type": "stream",
     "text": [
      "i\n",
      "e\n"
     ]
    }
   ],
   "source": [
    "st='Tiger'\n",
    "for i in st:\n",
    "    if i in 'aeiouAEIOU':\n",
    "        print(i)"
   ]
  },
  {
   "cell_type": "markdown",
   "metadata": {},
   "source": [
    "8.WAP to Print the consonants in a given string."
   ]
  },
  {
   "cell_type": "code",
   "execution_count": 15,
   "metadata": {},
   "outputs": [
    {
     "name": "stdout",
     "output_type": "stream",
     "text": [
      "T\n",
      "g\n",
      "r\n"
     ]
    }
   ],
   "source": [
    "st='Tiger'\n",
    "for i in st:\n",
    "    if i not in 'aeiouAEIOU':\n",
    "        print(i)"
   ]
  },
  {
   "cell_type": "markdown",
   "metadata": {},
   "source": [
    "9.WAP to print the reverse of the characters in a given string."
   ]
  },
  {
   "cell_type": "code",
   "execution_count": 3,
   "metadata": {},
   "outputs": [
    {
     "name": "stdout",
     "output_type": "stream",
     "text": [
      "regiT\n"
     ]
    }
   ],
   "source": [
    "st='Tiger'\n",
    "res=''\n",
    "for i in st:\n",
    "    res=i+res\n",
    "print(res)"
   ]
  },
  {
   "cell_type": "markdown",
   "metadata": {},
   "source": [
    "10.WAP to print even position values characters in a given string"
   ]
  },
  {
   "cell_type": "code",
   "execution_count": 34,
   "metadata": {},
   "outputs": [
    {
     "name": "stdout",
     "output_type": "stream",
     "text": [
      "y\n",
      "e\n",
      "a\n",
      "d\n"
     ]
    }
   ],
   "source": [
    "st='Hyderabd'\n",
    "for i in range(1,len(st),2):\n",
    "        print(st[i])"
   ]
  },
  {
   "cell_type": "markdown",
   "metadata": {},
   "source": [
    "11.WAP to print odd position values characters in a given string"
   ]
  },
  {
   "cell_type": "code",
   "execution_count": 35,
   "metadata": {},
   "outputs": [
    {
     "name": "stdout",
     "output_type": "stream",
     "text": [
      "H\n",
      "d\n",
      "r\n",
      "b\n"
     ]
    }
   ],
   "source": [
    "st='Hyderabd'\n",
    "for i in range(0,len(st),2):\n",
    "        print(st[i])"
   ]
  },
  {
   "cell_type": "markdown",
   "metadata": {},
   "source": [
    "12.WAP to count the total Number of characters in a given string.(with \n",
    "length function)"
   ]
  },
  {
   "cell_type": "code",
   "execution_count": 37,
   "metadata": {},
   "outputs": [
    {
     "name": "stdout",
     "output_type": "stream",
     "text": [
      "6\n"
     ]
    }
   ],
   "source": [
    "st='Odisha'\n",
    "print(len(st))"
   ]
  },
  {
   "cell_type": "markdown",
   "metadata": {},
   "source": [
    "13.WAP to count the total Number of characters in a given string.(with \n",
    "length function)"
   ]
  },
  {
   "cell_type": "code",
   "execution_count": 36,
   "metadata": {},
   "outputs": [
    {
     "name": "stdout",
     "output_type": "stream",
     "text": [
      "9\n"
     ]
    }
   ],
   "source": [
    "st='Hyderabad'\n",
    "count=0\n",
    "for i in st:\n",
    "    count+=1\n",
    "print(count)"
   ]
  },
  {
   "cell_type": "markdown",
   "metadata": {},
   "source": [
    "14.WAP to count alphabets in a given string."
   ]
  },
  {
   "cell_type": "code",
   "execution_count": 40,
   "metadata": {},
   "outputs": [
    {
     "name": "stdout",
     "output_type": "stream",
     "text": [
      "6\n"
     ]
    }
   ],
   "source": [
    "st='1Odi37sh2#a@'\n",
    "count=0\n",
    "for i in st:\n",
    "    if 'A'<=i<='Z' or 'a'<=i<='z':\n",
    "        count+=1\n",
    "print(count)"
   ]
  },
  {
   "cell_type": "markdown",
   "metadata": {},
   "source": [
    "15.WAP to count Number of uppercase in a given string"
   ]
  },
  {
   "cell_type": "code",
   "execution_count": 41,
   "metadata": {},
   "outputs": [
    {
     "name": "stdout",
     "output_type": "stream",
     "text": [
      "3\n"
     ]
    }
   ],
   "source": [
    "st='1ODI37sh2#a@'\n",
    "count=0\n",
    "for i in st:\n",
    "    if 'A'<=i<='Z':\n",
    "        count+=1\n",
    "print(count)"
   ]
  },
  {
   "cell_type": "markdown",
   "metadata": {},
   "source": [
    "16.WAP to count lowercase in a given string."
   ]
  },
  {
   "cell_type": "code",
   "execution_count": 43,
   "metadata": {},
   "outputs": [
    {
     "name": "stdout",
     "output_type": "stream",
     "text": [
      "4\n"
     ]
    }
   ],
   "source": [
    "st='1ODi37sh2#a@'\n",
    "count=0\n",
    "for i in st:\n",
    "    if 'a'<=i<='z':\n",
    "        count+=1\n",
    "print(count)"
   ]
  },
  {
   "cell_type": "markdown",
   "metadata": {},
   "source": [
    "17.WAP to count Number of special symbols in a given string."
   ]
  },
  {
   "cell_type": "code",
   "execution_count": 44,
   "metadata": {},
   "outputs": [
    {
     "name": "stdout",
     "output_type": "stream",
     "text": [
      "3\n"
     ]
    }
   ],
   "source": [
    "st='1ODi37sh2#a@%'\n",
    "count=0\n",
    "for i in st:\n",
    "    if not ('A'<=i<='Z' or 'a'<=i<='z' or '0'<=i<='9'):\n",
    "        count+=1\n",
    "print(count)"
   ]
  },
  {
   "cell_type": "markdown",
   "metadata": {},
   "source": [
    "18.WAP to count uppercase and lowercase in a given string."
   ]
  },
  {
   "cell_type": "code",
   "execution_count": 45,
   "metadata": {},
   "outputs": [
    {
     "name": "stdout",
     "output_type": "stream",
     "text": [
      "6\n"
     ]
    }
   ],
   "source": [
    "st='1ODi37sh2#a@%'\n",
    "count=0\n",
    "for i in st:\n",
    "    if 'A'<=i<='Z' or 'a'<=i<='z':\n",
    "        count+=1\n",
    "print(count)"
   ]
  },
  {
   "cell_type": "markdown",
   "metadata": {},
   "source": [
    "19.WAP to count Number of ascii numbers in a given string."
   ]
  },
  {
   "cell_type": "code",
   "execution_count": 46,
   "metadata": {},
   "outputs": [
    {
     "name": "stdout",
     "output_type": "stream",
     "text": [
      "4\n"
     ]
    }
   ],
   "source": [
    "st='1ODi37sh2#a@%'\n",
    "count=0\n",
    "for i in st:\n",
    "    if '0'<=i<='9':\n",
    "        count+=1\n",
    "print(count)"
   ]
  },
  {
   "cell_type": "markdown",
   "metadata": {},
   "source": [
    "20.WAP to Count Total Number of Words in a String."
   ]
  },
  {
   "cell_type": "code",
   "execution_count": 48,
   "metadata": {},
   "outputs": [
    {
     "name": "stdout",
     "output_type": "stream",
     "text": [
      "3\n"
     ]
    }
   ],
   "source": [
    "st='Hello World Python'\n",
    "count=1\n",
    "for i in st:\n",
    "    if i==' ':\n",
    "        count+=1\n",
    "print(count)"
   ]
  },
  {
   "cell_type": "markdown",
   "metadata": {},
   "source": [
    "21.WAP to Count Total Number of spaces in a String."
   ]
  },
  {
   "cell_type": "code",
   "execution_count": 49,
   "metadata": {},
   "outputs": [
    {
     "name": "stdout",
     "output_type": "stream",
     "text": [
      "2\n"
     ]
    }
   ],
   "source": [
    "st='Hello World Python'\n",
    "count=0\n",
    "for i in st:\n",
    "    if i==' ':\n",
    "        count+=1\n",
    "print(count)"
   ]
  },
  {
   "cell_type": "markdown",
   "metadata": {},
   "source": [
    "22.WAP to Count Vowels in a String."
   ]
  },
  {
   "cell_type": "code",
   "execution_count": 50,
   "metadata": {},
   "outputs": [
    {
     "name": "stdout",
     "output_type": "stream",
     "text": [
      "4\n"
     ]
    }
   ],
   "source": [
    "st='Hello World Python'\n",
    "count=0\n",
    "for i in st:\n",
    "    if i in 'aeiouAEIOU':\n",
    "        count+=1\n",
    "print(count)"
   ]
  },
  {
   "cell_type": "markdown",
   "metadata": {},
   "source": [
    "23.WAP to Count consonants in a String."
   ]
  },
  {
   "cell_type": "code",
   "execution_count": 51,
   "metadata": {},
   "outputs": [
    {
     "name": "stdout",
     "output_type": "stream",
     "text": [
      "14\n"
     ]
    }
   ],
   "source": [
    "st='Hello World Python'\n",
    "count=0\n",
    "for i in st:\n",
    "    if i not in 'aeiouAEIOU':\n",
    "        count+=1\n",
    "print(count)"
   ]
  },
  {
   "cell_type": "markdown",
   "metadata": {},
   "source": [
    "24.WAP to Count Vowels and Consonants in a String."
   ]
  },
  {
   "cell_type": "code",
   "execution_count": 1,
   "metadata": {},
   "outputs": [
    {
     "name": "stdout",
     "output_type": "stream",
     "text": [
      "14 4\n"
     ]
    }
   ],
   "source": [
    "st='Hello World Python'\n",
    "cc=0\n",
    "cv=0\n",
    "for i in st:\n",
    "    if i not in 'aeiouAEIOU':\n",
    "        cc+=1\n",
    "    else:\n",
    "        cv+=1\n",
    "print(cc,cv)"
   ]
  },
  {
   "cell_type": "markdown",
   "metadata": {},
   "source": [
    "25.WAP to count Number of new lines in a given string."
   ]
  },
  {
   "cell_type": "code",
   "execution_count": null,
   "metadata": {},
   "outputs": [],
   "source": []
  },
  {
   "cell_type": "markdown",
   "metadata": {},
   "source": [
    "26.WAP to count Number of lines in a given string."
   ]
  },
  {
   "cell_type": "code",
   "execution_count": null,
   "metadata": {},
   "outputs": [],
   "source": []
  },
  {
   "cell_type": "markdown",
   "metadata": {},
   "source": [
    "27.WAP to count no of alphabets, numbers, and special characters in a given \n",
    "string."
   ]
  },
  {
   "cell_type": "code",
   "execution_count": 52,
   "metadata": {},
   "outputs": [
    {
     "name": "stdout",
     "output_type": "stream",
     "text": [
      "6 2 5\n"
     ]
    }
   ],
   "source": [
    "st='Odisha12@#$'\n",
    "count=0\n",
    "ap,an,sp=0,0,0\n",
    "for i in st:\n",
    "    if 'A'<=i<='Z' or 'a'<=i<='z':\n",
    "        ap+=1\n",
    "    if '0'<=i<='9':\n",
    "        an+=1\n",
    "    if not('A'<=i<='Z' or 'a'<=i<='z'):\n",
    "        sp+=1\n",
    "print(ap,an,sp)"
   ]
  },
  {
   "cell_type": "markdown",
   "metadata": {},
   "source": [
    "28.WAP to Count Total no of words in a first line of the Doc String."
   ]
  },
  {
   "cell_type": "code",
   "execution_count": null,
   "metadata": {},
   "outputs": [],
   "source": [
    "st='''Hello world\n",
    "        python'''\n",
    "sp='\\n'\n",
    "res=''\n",
    "for i in st:\n",
    "    if \n"
   ]
  },
  {
   "cell_type": "markdown",
   "metadata": {},
   "source": [
    "29.WAP to sum of digits in a given string."
   ]
  },
  {
   "cell_type": "code",
   "execution_count": 55,
   "metadata": {},
   "outputs": [
    {
     "name": "stdout",
     "output_type": "stream",
     "text": [
      "17\n"
     ]
    }
   ],
   "source": [
    "st='abc327xyz32'\n",
    "sum=0\n",
    "for i in st:\n",
    "    if '0'<=i<='9':\n",
    "        sum+=int(i)\n",
    "print(sum)"
   ]
  },
  {
   "cell_type": "markdown",
   "metadata": {},
   "source": [
    "30.WAP to Print First Occurrence of a Character in a String."
   ]
  },
  {
   "cell_type": "code",
   "execution_count": 6,
   "metadata": {},
   "outputs": [
    {
     "name": "stdout",
     "output_type": "stream",
     "text": [
      "{'h': 1, 'e': 1, 'l': 3, 'o': 2, 'w': 1, 'r': 1, 'd': 1}\n",
      "\n"
     ]
    }
   ],
   "source": [
    "st='helloworld'\n",
    "d={}\n",
    "for i in st:\n",
    "    if i not in d:\n",
    "        d[i]=1\n",
    "    else:\n",
    "        d[i]+=1\n",
    "print(d)\n",
    "l=list(d)\n",
    "# j=0\n",
    "# res=''\n",
    "# if d[l[j]]>1:\n",
    "#     res=d[l[j]]\n",
    "#     j+=1\n",
    "# print(res)\n",
    "\n",
    "# ch=l[0]\n",
    "# occ=d[l[0]]\n",
    "# print(ch,occ)\n",
    "###################"
   ]
  },
  {
   "cell_type": "markdown",
   "metadata": {},
   "source": [
    "31.WAP to Print Last Occurrence of a Character in a String."
   ]
  },
  {
   "cell_type": "code",
   "execution_count": 4,
   "metadata": {},
   "outputs": [
    {
     "name": "stdout",
     "output_type": "stream",
     "text": [
      "{'h': 1, 'e': 1, 'l': 3, 'o': 2, 'w': 1, 'r': 1, 'd': 1}\n",
      "d 1\n"
     ]
    }
   ],
   "source": [
    "st='helloworld'\n",
    "d={}\n",
    "for i in st:\n",
    "    if i not in d:\n",
    "        d[i]=1\n",
    "    else:\n",
    "        d[i]+=1\n",
    "print(d)\n",
    "l=list(d)\n",
    "ch=l[-1]\n",
    "occ=d[l[-1]]\n",
    "print(ch,occ)"
   ]
  },
  {
   "cell_type": "markdown",
   "metadata": {},
   "source": [
    "32.WAP to Print First not Occurrence of a Character in a String."
   ]
  },
  {
   "cell_type": "code",
   "execution_count": null,
   "metadata": {},
   "outputs": [],
   "source": []
  },
  {
   "cell_type": "markdown",
   "metadata": {},
   "source": [
    "33.WAP to Print last not Occurrence of a Character in a String."
   ]
  },
  {
   "cell_type": "code",
   "execution_count": null,
   "metadata": {},
   "outputs": [],
   "source": []
  },
  {
   "cell_type": "markdown",
   "metadata": {},
   "source": [
    "34.WAP to Remove First Occurrence of a Character in a String."
   ]
  },
  {
   "cell_type": "code",
   "execution_count": null,
   "metadata": {},
   "outputs": [
    {
     "name": "stdout",
     "output_type": "stream",
     "text": [
      "{'h': 1, 'e': 1, 'l': 3, 'o': 2, 'w': 1, 'r': 1, 'd': 1}\n",
      "{'e': 1, 'l': 3, 'o': 2, 'w': 1, 'r': 1, 'd': 1}\n"
     ]
    }
   ],
   "source": [
    "st='helloworld'\n",
    "d={}\n",
    "for i in st:\n",
    "    if i not in d:\n",
    "        d[i]=1\n",
    "    else:\n",
    "        d[i]+=1\n",
    "print(d)\n",
    "for i in d:\n",
    "    if d[i]==-1:\n",
    "        del d[i]\n",
    "        break\n",
    "print(d)"
   ]
  },
  {
   "cell_type": "markdown",
   "metadata": {},
   "source": [
    "35.WAP to Remove Last Occurred Character in a String."
   ]
  },
  {
   "cell_type": "code",
   "execution_count": null,
   "metadata": {},
   "outputs": [],
   "source": []
  },
  {
   "cell_type": "markdown",
   "metadata": {},
   "source": [
    "36.WAP to count the occurrence of a specific character in a given string"
   ]
  },
  {
   "cell_type": "code",
   "execution_count": null,
   "metadata": {},
   "outputs": [],
   "source": []
  },
  {
   "cell_type": "markdown",
   "metadata": {},
   "source": [
    "37.WAP to count the max occurrence of a character in a given string."
   ]
  },
  {
   "cell_type": "code",
   "execution_count": 3,
   "metadata": {},
   "outputs": [
    {
     "name": "stdout",
     "output_type": "stream",
     "text": [
      "{'h': 1, 'e': 1, 'l': 3, 'o': 2, 'w': 1, 'r': 1, 'd': 1}\n",
      "l 3\n"
     ]
    }
   ],
   "source": [
    "st='helloworld'\n",
    "d={}\n",
    "for i in st:\n",
    "    if i not in d:\n",
    "        d[i]=1\n",
    "    else:\n",
    "        d[i]+=1\n",
    "print(d)\n",
    "max=0\n",
    "ch=None\n",
    "for i in d:\n",
    "    if max<d[i]:\n",
    "        max=d[i]\n",
    "        ch=i\n",
    "print(ch,max)"
   ]
  },
  {
   "cell_type": "markdown",
   "metadata": {},
   "source": [
    "38.WAP to count the min occurrence of a character in a given string"
   ]
  },
  {
   "cell_type": "code",
   "execution_count": 10,
   "metadata": {},
   "outputs": [
    {
     "name": "stdout",
     "output_type": "stream",
     "text": [
      "{'h': 1, 'e': 1, 'l': 3, 'o': 2, 'w': 1, 'r': 1, 'd': 1}\n",
      "h 1\n"
     ]
    }
   ],
   "source": [
    "st='helloworld'\n",
    "d={}\n",
    "for i in st:\n",
    "    if i not in d:\n",
    "        d[i]=1\n",
    "    else:\n",
    "        d[i]+=1\n",
    "print(d)\n",
    "min=len(d)\n",
    "ch=None\n",
    "for i in d:\n",
    "    if min>d[i]:\n",
    "        min=d[i]\n",
    "        ch=i\n",
    "print(ch,min)"
   ]
  },
  {
   "cell_type": "markdown",
   "metadata": {},
   "source": [
    "39.WAP to count the repeats of a specific character in a given string."
   ]
  },
  {
   "cell_type": "code",
   "execution_count": 19,
   "metadata": {},
   "outputs": [
    {
     "name": "stdout",
     "output_type": "stream",
     "text": [
      "4\n"
     ]
    }
   ],
   "source": [
    "st = 'malayalam'\n",
    "count = 0\n",
    "for i in st:\n",
    "    if i == 'a':\n",
    "        count += 1\n",
    "print(count)"
   ]
  },
  {
   "cell_type": "markdown",
   "metadata": {},
   "source": [
    "40.WAP to count the max repeated character in a given string."
   ]
  },
  {
   "cell_type": "code",
   "execution_count": 11,
   "metadata": {},
   "outputs": [
    {
     "name": "stdout",
     "output_type": "stream",
     "text": [
      "{'h': 1, 'e': 1, 'l': 3, 'o': 2, 'w': 1, 'r': 1, 'd': 1}\n",
      "l 3\n"
     ]
    }
   ],
   "source": [
    "st='helloworld'\n",
    "d={}\n",
    "for i in st:\n",
    "    if i not in d:\n",
    "        d[i]=1\n",
    "    else:\n",
    "        d[i]+=1\n",
    "print(d)\n",
    "max=0\n",
    "ch=None\n",
    "for i in d:\n",
    "    if max<d[i]:\n",
    "        max=d[i]\n",
    "        ch=i\n",
    "print(ch,max)"
   ]
  },
  {
   "cell_type": "markdown",
   "metadata": {},
   "source": [
    "41.WAP to count the min repeated character in a given string."
   ]
  },
  {
   "cell_type": "code",
   "execution_count": 6,
   "metadata": {},
   "outputs": [
    {
     "name": "stdout",
     "output_type": "stream",
     "text": [
      "{'h': 1, 'e': 1, 'l': 3, 'o': 2, 'w': 1, 'r': 1, 'd': 1}\n",
      "h 1\n"
     ]
    }
   ],
   "source": [
    "st='helloworld'\n",
    "d={}\n",
    "for i in st:\n",
    "    if i not in d:\n",
    "        d[i]=1\n",
    "    else:\n",
    "        d[i]+=1\n",
    "print(d)\n",
    "min=len(d)\n",
    "ch=None\n",
    "for i in d:\n",
    "    if min>d[i]:\n",
    "        min=d[i]\n",
    "        ch=i\n",
    "print(ch,min)"
   ]
  },
  {
   "cell_type": "markdown",
   "metadata": {},
   "source": [
    "42.WAP to replace a specific character into a new character."
   ]
  },
  {
   "cell_type": "code",
   "execution_count": 16,
   "metadata": {},
   "outputs": [
    {
     "name": "stdout",
     "output_type": "stream",
     "text": [
      "pxthon\n"
     ]
    }
   ],
   "source": [
    "st='python'\n",
    "sp='y'\n",
    "res=''\n",
    "for i in st:\n",
    "    if i != sp:\n",
    "        res += i\n",
    "    else:\n",
    "        res += 'x'\n",
    "print(res)"
   ]
  },
  {
   "cell_type": "markdown",
   "metadata": {},
   "source": [
    "43.WAP to convert lowercase to uppercase in a given string."
   ]
  },
  {
   "cell_type": "code",
   "execution_count": 21,
   "metadata": {},
   "outputs": [
    {
     "name": "stdout",
     "output_type": "stream",
     "text": [
      "GOODMORNING\n"
     ]
    }
   ],
   "source": [
    "st='GoODmorNing'\n",
    "res=''\n",
    "for i in st:\n",
    "    if 'a'<=i<='z':\n",
    "        res+=chr(ord(i)-32)\n",
    "    else:\n",
    "        res+=i\n",
    "print(res)"
   ]
  },
  {
   "cell_type": "markdown",
   "metadata": {},
   "source": [
    "44.WAP to convert uppercase to lowercase in a given string."
   ]
  },
  {
   "cell_type": "code",
   "execution_count": 23,
   "metadata": {},
   "outputs": [
    {
     "name": "stdout",
     "output_type": "stream",
     "text": [
      "goodmorning\n"
     ]
    }
   ],
   "source": [
    "st='GoODmorNing'\n",
    "res=''\n",
    "for i in st:\n",
    "    if 'A'<=i<='Z':\n",
    "        res+=chr(ord(i)+32)\n",
    "    else:\n",
    "        res+=i\n",
    "print(res)"
   ]
  },
  {
   "cell_type": "markdown",
   "metadata": {},
   "source": [
    "45.WAP to convert uppercase to lowercase in even position characters in \n",
    "a given string."
   ]
  },
  {
   "cell_type": "code",
   "execution_count": 37,
   "metadata": {},
   "outputs": [
    {
     "name": "stdout",
     "output_type": "stream",
     "text": [
      "GoOdmorning\n"
     ]
    }
   ],
   "source": [
    "st='GoODmorNing'\n",
    "res=''\n",
    "for i in range(0,len(st)):\n",
    "    if 'A'<=st[i]<='Z' and (i+1)%2==0:\n",
    "        res+=chr(ord(st[i])+32)\n",
    "    else:\n",
    "        res+=st[i]\n",
    "print(res)"
   ]
  },
  {
   "cell_type": "markdown",
   "metadata": {},
   "source": [
    "46.WAP to convert uppercase to lowercase in odd position characters in \n",
    "a given string."
   ]
  },
  {
   "cell_type": "code",
   "execution_count": 38,
   "metadata": {},
   "outputs": [
    {
     "name": "stdout",
     "output_type": "stream",
     "text": [
      "gooDmorNing\n"
     ]
    }
   ],
   "source": [
    "st='GoODmorNing'\n",
    "res=''\n",
    "for i in range(0,len(st)):\n",
    "    if 'A'<=st[i]<='Z' and i%2==0:\n",
    "        res+=chr(ord(st[i])+32)\n",
    "    else:\n",
    "        res+=st[i]\n",
    "print(res)"
   ]
  },
  {
   "cell_type": "markdown",
   "metadata": {},
   "source": [
    "47.WAP to convert the uppercase letter to lowercase letter and lowercase \n",
    "letter to uppercase letter,if the character is special symbol replace \n",
    "with * for the given input string."
   ]
  },
  {
   "cell_type": "code",
   "execution_count": 49,
   "metadata": {},
   "outputs": [
    {
     "name": "stdout",
     "output_type": "stream",
     "text": [
      "hello*****WORLD\n"
     ]
    }
   ],
   "source": [
    "st='HELLO @#$ world'\n",
    "res=''\n",
    "for i in st:\n",
    "    if 'A'<=i<='Z':\n",
    "        res+=chr(ord(i)+32)\n",
    "    elif 'a'<=i<='z':\n",
    "        res+=chr(ord(i)-32)\n",
    "    else:\n",
    "        res+='*'\n",
    "print(res)"
   ]
  },
  {
   "cell_type": "markdown",
   "metadata": {},
   "source": [
    "48.WAP to convert title case in a given string."
   ]
  },
  {
   "cell_type": "code",
   "execution_count": 61,
   "metadata": {},
   "outputs": [
    {
     "name": "stdout",
     "output_type": "stream",
     "text": [
      "Python\n"
     ]
    }
   ],
   "source": [
    "st='pyThoN'\n",
    "# print(st.title())\n",
    "res=''\n",
    "if 'a'<=st[0]<='z':\n",
    "    res += chr(ord(st[0])-32)\n",
    "else:\n",
    "    res += st[0]\n",
    "for i in range(1, len(st)):\n",
    "    if 'A'<=st[i]<='Z':\n",
    "        res+=chr(ord(st[i])+32)\n",
    "    else:\n",
    "        res+=st[i]\n",
    "print(res)"
   ]
  },
  {
   "cell_type": "markdown",
   "metadata": {},
   "source": [
    "49.WAP to convert snake_case in a given string."
   ]
  },
  {
   "cell_type": "code",
   "execution_count": 7,
   "metadata": {},
   "outputs": [
    {
     "ename": "AttributeError",
     "evalue": "'str' object has no attribute 'toggle'",
     "output_type": "error",
     "traceback": [
      "\u001b[1;31m---------------------------------------------------------------------------\u001b[0m",
      "\u001b[1;31mAttributeError\u001b[0m                            Traceback (most recent call last)",
      "\u001b[1;32mc:\\Users\\Ashish Biswal\\Documents\\GitHub\\Basic_of_python_programs\\loop_statement\\For_Loop\\for_loop_Qus.ipynb Cell 94\u001b[0m line \u001b[0;36m2\n\u001b[0;32m      <a href='vscode-notebook-cell:/c%3A/Users/Ashish%20Biswal/Documents/GitHub/Basic_of_python_programs/loop_statement/For_Loop/for_loop_Qus.ipynb#Y162sZmlsZQ%3D%3D?line=0'>1</a>\u001b[0m st\u001b[39m=\u001b[39m\u001b[39m'\u001b[39m\u001b[39mPython\u001b[39m\u001b[39m'\u001b[39m\n\u001b[1;32m----> <a href='vscode-notebook-cell:/c%3A/Users/Ashish%20Biswal/Documents/GitHub/Basic_of_python_programs/loop_statement/For_Loop/for_loop_Qus.ipynb#Y162sZmlsZQ%3D%3D?line=1'>2</a>\u001b[0m st\u001b[39m.\u001b[39;49mtoggle()\n",
      "\u001b[1;31mAttributeError\u001b[0m: 'str' object has no attribute 'toggle'"
     ]
    }
   ],
   "source": [
    "st='Python'\n"
   ]
  },
  {
   "cell_type": "markdown",
   "metadata": {},
   "source": [
    "50."
   ]
  },
  {
   "cell_type": "code",
   "execution_count": null,
   "metadata": {},
   "outputs": [],
   "source": []
  },
  {
   "cell_type": "markdown",
   "metadata": {},
   "source": [
    "51.WAP to replace vowels into ascii values in a given string.(both with \n",
    "and with out temp variable)"
   ]
  },
  {
   "cell_type": "code",
   "execution_count": 9,
   "metadata": {},
   "outputs": [
    {
     "name": "stdout",
     "output_type": "stream",
     "text": [
      "117mbr101ll97\n",
      "m97g105h97\n"
     ]
    }
   ],
   "source": [
    "#With temp Variable\n",
    "st='umbrella'\n",
    "res=''\n",
    "for i in st:\n",
    "    if i in 'aeiouAEIOU':\n",
    "        res+=str(ord(i))\n",
    "    else:\n",
    "        res+=i\n",
    "print(res)\n",
    "\n",
    "st = 'magiha'\n",
    "for i in range(len(st)):\n",
    "    for i in range(len(st)):\n",
    "        if st[i] in 'aeiouAEIOU':\n",
    "            st = st[:i] + str(ord(st[i])) + st[i+1:]\n",
    "print(st)\n"
   ]
  },
  {
   "cell_type": "markdown",
   "metadata": {},
   "source": [
    "52.WAP to replace consonants into ascii values in a given string. (both \n",
    "with and with temp variable)"
   ]
  },
  {
   "cell_type": "code",
   "execution_count": 36,
   "metadata": {},
   "outputs": [
    {
     "name": "stdout",
     "output_type": "stream",
     "text": [
      "u10998114e108108a\n"
     ]
    }
   ],
   "source": [
    "st='umbrella'\n",
    "res=''\n",
    "for i in st:\n",
    "    if i not in 'aeiouAEIOU':\n",
    "        res+=str(ord(i))\n",
    "    else:\n",
    "        res+=i\n",
    "print(res)"
   ]
  },
  {
   "cell_type": "markdown",
   "metadata": {},
   "source": [
    "53.WAP to replace consonants to ascii values in odd position characters \n",
    "in a given string.(both with and with temp variable)"
   ]
  },
  {
   "cell_type": "code",
   "execution_count": 57,
   "metadata": {},
   "outputs": [
    {
     "name": "stdout",
     "output_type": "stream",
     "text": [
      "um98rel108a\n"
     ]
    }
   ],
   "source": [
    "st='umbrella'\n",
    "res=''\n",
    "for i in range(0,len(st)):\n",
    "    if st[i] not in 'aeiouAEIOU' and i%2==0:\n",
    "        res+=str(ord(st[i]))\n",
    "    else:\n",
    "        res+=st[i]\n",
    "print(res)"
   ]
  },
  {
   "cell_type": "markdown",
   "metadata": {},
   "source": [
    "54.WAP to replace vowels to ascii values in even position characters in a \n",
    "given string.(both with and with temp variable)"
   ]
  },
  {
   "cell_type": "code",
   "execution_count": 69,
   "metadata": {},
   "outputs": [
    {
     "name": "stdout",
     "output_type": "stream",
     "text": [
      "a97a97\n"
     ]
    }
   ],
   "source": [
    "st='aaaa'\n",
    "res = ''\n",
    "for i in range(0,len(st)):\n",
    "    if st[i] in 'aeiouAEIOU' and (i+1)%2==0:\n",
    "        res+=str(ord(st[i]))\n",
    "    else:\n",
    "        res+=st[i]\n",
    "print(res)"
   ]
  },
  {
   "cell_type": "code",
   "execution_count": 27,
   "metadata": {},
   "outputs": [
    {
     "name": "stdout",
     "output_type": "stream",
     "text": [
      "shsh\n"
     ]
    }
   ],
   "source": [
    "#wap to remove vowels \n",
    "st='ashish'\n",
    "res=''\n",
    "for i in range(0,len(st)):\n",
    "    if st[i] in 'aeiouAEIOU':\n",
    "        del i\n",
    "    else:\n",
    "        res+=st[i]\n",
    "print(res)"
   ]
  },
  {
   "cell_type": "markdown",
   "metadata": {},
   "source": [
    "55.WAP to Replace white Spaces with Hyphen in a String.(both with and \n",
    "with temp variable)"
   ]
  },
  {
   "cell_type": "code",
   "execution_count": 74,
   "metadata": {},
   "outputs": [
    {
     "name": "stdout",
     "output_type": "stream",
     "text": [
      "Hello-World-I-Love-Python\n"
     ]
    }
   ],
   "source": [
    "st='Hello World I Love Python'\n",
    "res=''\n",
    "for i in st:\n",
    "    if i==' ':\n",
    "        res+='-'\n",
    "    else:\n",
    "        res+=i\n",
    "print(res)"
   ]
  },
  {
   "cell_type": "markdown",
   "metadata": {},
   "source": [
    "56.WAP to Remove Odd position Characters in a given String."
   ]
  },
  {
   "cell_type": "code",
   "execution_count": 18,
   "metadata": {},
   "outputs": [
    {
     "name": "stdout",
     "output_type": "stream",
     "text": [
      "elWrd\n"
     ]
    }
   ],
   "source": [
    "st='HelloWorld'\n",
    "res=''\n",
    "for i in range(0,len(st)):\n",
    "    if i%2==0:\n",
    "        del i\n",
    "    else:\n",
    "        res+=st[i]\n",
    "print(res)"
   ]
  },
  {
   "cell_type": "markdown",
   "metadata": {},
   "source": [
    "57.WAP to Remove even position Characters in a given String."
   ]
  },
  {
   "cell_type": "code",
   "execution_count": 20,
   "metadata": {},
   "outputs": [
    {
     "name": "stdout",
     "output_type": "stream",
     "text": [
      "Hlool\n"
     ]
    }
   ],
   "source": [
    "st='Helloworld'\n",
    "res=''\n",
    "for i in range(0,len(st)):\n",
    "    if (i+1)%2==0:\n",
    "        del i\n",
    "    else:\n",
    "        res+=st[i]\n",
    "print(res)"
   ]
  },
  {
   "cell_type": "markdown",
   "metadata": {},
   "source": [
    "58.WAP to Remove alphabets in a given String."
   ]
  },
  {
   "cell_type": "code",
   "execution_count": 1,
   "metadata": {},
   "outputs": [
    {
     "name": "stdout",
     "output_type": "stream",
     "text": [
      "\n"
     ]
    }
   ],
   "source": [
    "st='ashish'\n",
    "res=''\n",
    "for i in range (0,len(st)):\n",
    "    if not('A'<=st[i]<='Z' or 'a'<=st[i]<='z'):\n",
    "        res+=st[i]\n",
    "        \n",
    "print(res)"
   ]
  },
  {
   "cell_type": "markdown",
   "metadata": {},
   "source": [
    "59.WAP to Remove ascii numbers in a given String."
   ]
  },
  {
   "cell_type": "code",
   "execution_count": 30,
   "metadata": {},
   "outputs": [
    {
     "name": "stdout",
     "output_type": "stream",
     "text": [
      "python\n"
     ]
    }
   ],
   "source": [
    "st='py12th45on67'\n",
    "res=''\n",
    "for i in range(0,len(st)):\n",
    "    if '0'<=st[i]<='9':\n",
    "        del i\n",
    "    else:\n",
    "        res+=st[i]\n",
    "print(res)"
   ]
  },
  {
   "cell_type": "markdown",
   "metadata": {},
   "source": [
    "60.WAP to Remove special characters in a given String."
   ]
  },
  {
   "cell_type": "code",
   "execution_count": 4,
   "metadata": {},
   "outputs": [
    {
     "name": "stdout",
     "output_type": "stream",
     "text": [
      "python\n"
     ]
    }
   ],
   "source": [
    "st='py@#th!#on'\n",
    "res=''\n",
    "for i in range(0,len(st)):\n",
    "    if not ('A'<=st[i]<='Z' or 'a'<=st[i]<='z' or '0'<=st[i]<='9'):\n",
    "        del i\n",
    "    else:\n",
    "        res+=st[i]\n",
    "print(res)"
   ]
  },
  {
   "cell_type": "markdown",
   "metadata": {},
   "source": [
    "61.WAP to check if the given string is Palindrome or Not."
   ]
  },
  {
   "cell_type": "code",
   "execution_count": 35,
   "metadata": {},
   "outputs": [
    {
     "name": "stdout",
     "output_type": "stream",
     "text": [
      "Palindrome\n"
     ]
    }
   ],
   "source": [
    "st='MADAM'\n",
    "res=''\n",
    "for i in st:\n",
    "    res=i+res\n",
    "if st==res:\n",
    "    print('Palindrome')\n",
    "else:\n",
    "    print('Not Palindrome')"
   ]
  },
  {
   "cell_type": "markdown",
   "metadata": {},
   "source": [
    "62.WAP to check whether the given string is lowercase or not."
   ]
  },
  {
   "cell_type": "code",
   "execution_count": 4,
   "metadata": {},
   "outputs": [
    {
     "name": "stdout",
     "output_type": "stream",
     "text": [
      "Not Lowercase\n"
     ]
    }
   ],
   "source": [
    "st='helloW'\n",
    "count=0\n",
    "for i in range(0,len(st)):\n",
    "    if 'a'<=st[i]<='z':\n",
    "        count+=1\n",
    "if count==len(st):\n",
    "    print('Lowercase')\n",
    "else:\n",
    "    print('Not Lowercase')"
   ]
  },
  {
   "cell_type": "markdown",
   "metadata": {},
   "source": [
    "63.WAP to check whether the given number is string or not."
   ]
  },
  {
   "cell_type": "markdown",
   "metadata": {},
   "source": [
    "64.I/p: ‘hello world 123 haii’\n",
    "\n",
    "    o/p:’eoo123aii’"
   ]
  },
  {
   "cell_type": "code",
   "execution_count": 10,
   "metadata": {},
   "outputs": [
    {
     "name": "stdout",
     "output_type": "stream",
     "text": [
      "eoo123aii\n"
     ]
    }
   ],
   "source": [
    "st='hello world 123 haii'\n",
    "res=''\n",
    "for i in st:\n",
    "    if i in 'aeiouAEIOU' or '0'<=i<='9':\n",
    "        res+=i\n",
    "print(res)"
   ]
  },
  {
   "cell_type": "markdown",
   "metadata": {},
   "source": [
    "65.I/p: ‘hello world 123 haii’\n",
    "\n",
    "o/p:’eo o 123 aii’"
   ]
  },
  {
   "cell_type": "code",
   "execution_count": 76,
   "metadata": {},
   "outputs": [
    {
     "name": "stdout",
     "output_type": "stream",
     "text": [
      "eo o 123 aii\n"
     ]
    }
   ],
   "source": [
    "st='hello world 123 haii'\n",
    "res=''\n",
    "for i in st:\n",
    "    if i in 'aeiouAEIOU' or '0'<=i<='9' or i==' ':\n",
    "        res+=i\n",
    "print(res)"
   ]
  },
  {
   "cell_type": "markdown",
   "metadata": {},
   "source": [
    "66.I/p: ‘hello world 123 haii’\n",
    "\n",
    "o/p:’eo o aii’"
   ]
  },
  {
   "cell_type": "code",
   "execution_count": 60,
   "metadata": {},
   "outputs": [
    {
     "name": "stdout",
     "output_type": "stream",
     "text": [
      "eo o  aii\n"
     ]
    }
   ],
   "source": [
    "st='hello world 123 haii'\n",
    "res=''\n",
    "for i in st:\n",
    "    if i in 'aeiouAEIOU' or i==' ':\n",
    "        res+=i\n",
    "print(res)"
   ]
  },
  {
   "cell_type": "markdown",
   "metadata": {},
   "source": [
    "67.I/p: ‘hello world 123 haii’\n",
    "\n",
    "o/p:’hll world haii’"
   ]
  },
  {
   "cell_type": "code",
   "execution_count": 1,
   "metadata": {},
   "outputs": [
    {
     "ename": "SyntaxError",
     "evalue": "incomplete input (803785243.py, line 4)",
     "output_type": "error",
     "traceback": [
      "\u001b[1;36m  Cell \u001b[1;32mIn[1], line 4\u001b[1;36m\u001b[0m\n\u001b[1;33m    \u001b[0m\n\u001b[1;37m    ^\u001b[0m\n\u001b[1;31mSyntaxError\u001b[0m\u001b[1;31m:\u001b[0m incomplete input\n"
     ]
    }
   ],
   "source": [
    "st='hello world 123 haii'\n",
    "res=''\n",
    "for i in st:\n",
    "    "
   ]
  },
  {
   "cell_type": "markdown",
   "metadata": {},
   "source": [
    "68.i/p:’hello world’\n",
    "\n",
    "o/p:’hll wrld’\n",
    "\n",
    "o/p:’eoo’"
   ]
  },
  {
   "cell_type": "code",
   "execution_count": 1,
   "metadata": {},
   "outputs": [
    {
     "name": "stdout",
     "output_type": "stream",
     "text": [
      "hll wrld\n",
      "eoo\n"
     ]
    }
   ],
   "source": [
    "st='hello world'\n",
    "res1,res2='',''\n",
    "for i in st:\n",
    "    if i not in 'aeiouAEIOU':\n",
    "        res1+=i\n",
    "    if i in 'aeiouAEIOU':\n",
    "        res2+=i\n",
    "print(res1)\n",
    "print(res2) "
   ]
  },
  {
   "cell_type": "markdown",
   "metadata": {},
   "source": [
    "69.i/p:’12hello3 4world4’\n",
    "\n",
    "o/p:’hll wrld’\n",
    "\n",
    "o/p:’eoo’\n",
    "\n",
    "o/p:’12344’"
   ]
  },
  {
   "cell_type": "code",
   "execution_count": 2,
   "metadata": {},
   "outputs": [
    {
     "name": "stdout",
     "output_type": "stream",
     "text": [
      "hll wrld\n",
      "eoo\n",
      "12344\n"
     ]
    }
   ],
   "source": [
    "st='12hello3 4world4'\n",
    "res1, res2, res3='', '', ''\n",
    "for i in st:\n",
    "    if i not in 'aeiouAEIOU':\n",
    "        if not '0'<=i<='9':\n",
    "            res1+=i\n",
    "    if i in 'aeiouAEIOU':\n",
    "        res2 += i\n",
    "    if '0'<=i<='9':\n",
    "        res3 += i\n",
    "print(res1)\n",
    "print(res2)\n",
    "print(res3)"
   ]
  },
  {
   "cell_type": "markdown",
   "metadata": {},
   "source": [
    "70.i/p:’(*12hello3$ $4#world4*)’\n",
    "\n",
    "o/p:’hllwrld’\n",
    "\n",
    "o/p:’eoo’\n",
    "\n",
    "o/p:’12344’\n",
    "\n",
    "o/p:’(*$ $#*)"
   ]
  },
  {
   "cell_type": "code",
   "execution_count": 12,
   "metadata": {},
   "outputs": [
    {
     "name": "stdout",
     "output_type": "stream",
     "text": [
      "hllwrld\n",
      "eoo\n",
      "12344\n",
      "*$ $#*\n"
     ]
    }
   ],
   "source": [
    "st='*12hello3$ $4#world4*'\n",
    "res1,res2,res3,res4='','','',''\n",
    "for i in st:\n",
    "    if i not in 'aeiouAEIOU' and 'a'<=i<='z':\n",
    "        res1+=i\n",
    "    if i in 'aeiouAEIOU':\n",
    "        res2+=i\n",
    "    if '0'<=i<='9':\n",
    "        res3+=i\n",
    "    if not('A'<=i<='Z' or 'a'<=i<='z' or '0'<=i<='9'):\n",
    "        res4+=i\n",
    "print(res1)\n",
    "print(res2)\n",
    "print(res3)\n",
    "print(res4)"
   ]
  },
  {
   "cell_type": "markdown",
   "metadata": {},
   "source": [
    "71.i/p: ’(*12hello3$ $4#world4*)’\n",
    "\n",
    "o/p: ')*#$ $*(,44321,ooe,dlrwllh'"
   ]
  },
  {
   "cell_type": "code",
   "execution_count": 82,
   "metadata": {},
   "outputs": [
    {
     "name": "stdout",
     "output_type": "stream",
     "text": [
      ")*#$ $*(,44321,ooe,dlrwllh\n"
     ]
    }
   ],
   "source": [
    "st='(*12hello3$ $4#world4*)'\n",
    "res1,res2,res3,res4='','','',''\n",
    "for i in st:\n",
    "    if not('A'<=i<='Z' or 'a'<=i<='z' or '0'<=i<='9'):\n",
    "        res1+=i\n",
    "    if '0'<=i<='9':\n",
    "        res2+=i\n",
    "    if i in 'aeiouAEIOU':\n",
    "        res3+=i\n",
    "    if i not in 'aeiouAEIOU' and ('a'<=i<='z' or 'A'<=i<='Z'):\n",
    "        res4+=i\n",
    "print(res1[::-1]+','+res2[::-1]+','+res3[::-1]+','+res4[::-1])"
   ]
  },
  {
   "cell_type": "markdown",
   "metadata": {},
   "source": [
    "72.i/p:’(*12hello3$ $4#world4*)’\n",
    "\n",
    "o/p:’hllwrld,eoo,12344,(*$ $#*)’"
   ]
  },
  {
   "cell_type": "code",
   "execution_count": 5,
   "metadata": {},
   "outputs": [
    {
     "name": "stdout",
     "output_type": "stream",
     "text": [
      "hllwrld,eoo,12344,(*$ $#*)\n"
     ]
    }
   ],
   "source": [
    "st='(*12hello3$ $4#world4*)'\n",
    "res1,res2,res3,res4='','','',''\n",
    "for i in st:\n",
    "    if i not in 'aeiouAEIOU' and ('a'<=i<='z' or 'A'<=i<='Z'):\n",
    "        res1+=i\n",
    "    if i in 'aeiouAEIOU':\n",
    "        res2+=i\n",
    "    if '0'<=i<='9':\n",
    "        res3+=i\n",
    "    if not ('a'<=i<='z' or 'A'<=i<='Z' or '0'<=i<='9'):\n",
    "        res4+=i\n",
    "print(res1+','+res2+','+res3+','+res4)"
   ]
  },
  {
   "cell_type": "markdown",
   "metadata": {},
   "source": [
    "73.i/p: ’(*12hello3$ $4#world4*)’\n",
    "\n",
    "o/p:’,hllwrld,)*#$ $*(’,eoo,44321’"
   ]
  },
  {
   "cell_type": "code",
   "execution_count": null,
   "metadata": {},
   "outputs": [],
   "source": [
    "st='(*12hello3$ $4#world4*)'\n",
    "res1,res2,res3,res4='','','',''\n",
    "for i in st:\n",
    "    if i not in 'aeiouAEIOU' and ('a'<=i<='z' or 'A'<=i<='Z'):\n",
    "        res1+=i\n",
    "        "
   ]
  },
  {
   "cell_type": "markdown",
   "metadata": {},
   "source": [
    "74.i/p: ’(*12hello3$ $4#world4*)’\n",
    "\n",
    "o/p: ')*#$ $*(,44321,ooe,dlrwllh'"
   ]
  },
  {
   "cell_type": "code",
   "execution_count": 2,
   "metadata": {},
   "outputs": [
    {
     "name": "stdout",
     "output_type": "stream",
     "text": [
      "(*$ $#*)\n",
      ")*#$ $*(,44321,ooe,dlrwllh\n"
     ]
    }
   ],
   "source": [
    "st='(*12hello3$ $4#world4*)'\n",
    "res1,res2,res3,res4='','','',''\n",
    "for i in st:\n",
    "    if not('A'<=i<='Z' or 'a'<=i<='z' or '0'<=i<='9'):\n",
    "        res1+=i\n",
    "    if '0'<=i<='9':\n",
    "        res2+=i\n",
    "    if i in 'aeiouAEIOU':\n",
    "        res3+=i\n",
    "    if i not in 'aeiouAEIOU' and ('a'<=i<='z' or 'A'<=i<='Z'):\n",
    "        res4+=i\n",
    "print(res1)\n",
    "print(res1[::-1]+','+res2[::-1]+','+res3[::-1]+','+res4[::-1])"
   ]
  },
  {
   "cell_type": "markdown",
   "metadata": {},
   "source": [
    "75.i/p: ’(*12hello3$ $4#world4*)’\n",
    "\n",
    "o/p:’dlrwllh)*#$ $*(ooe44321’"
   ]
  },
  {
   "cell_type": "code",
   "execution_count": null,
   "metadata": {},
   "outputs": [],
   "source": []
  },
  {
   "cell_type": "markdown",
   "metadata": {},
   "source": [
    "76.I/p:’HELLOWORLD’\n",
    "\n",
    "o/p:’h$ll*w*rld’"
   ]
  },
  {
   "cell_type": "code",
   "execution_count": 27,
   "metadata": {},
   "outputs": [
    {
     "name": "stdout",
     "output_type": "stream",
     "text": [
      "h$ll*w*rld\n"
     ]
    }
   ],
   "source": [
    "st='HELLOWORLD'\n",
    "res=''\n",
    "for i in st:\n",
    "    if i=='E':\n",
    "        res+='$'\n",
    "    elif i=='O':\n",
    "        res+='*'\n",
    "    else:\n",
    "        res+=chr(ord(i)+32)\n",
    "print(res)"
   ]
  },
  {
   "cell_type": "markdown",
   "metadata": {},
   "source": [
    "77.I/p:’123HELLO WORLD456’\n",
    "\n",
    "o/p:’hllwrld21’"
   ]
  },
  {
   "cell_type": "code",
   "execution_count": 1,
   "metadata": {},
   "outputs": [],
   "source": [
    "st='123HELLO WORLD456'"
   ]
  },
  {
   "cell_type": "markdown",
   "metadata": {},
   "source": [
    "78.#I/p:’123HELLO WORLD456’\n",
    "\n",
    "#o/p:’123hEllO wOrld456’"
   ]
  },
  {
   "cell_type": "code",
   "execution_count": 58,
   "metadata": {},
   "outputs": [
    {
     "name": "stdout",
     "output_type": "stream",
     "text": [
      "123hEllO wOrld456\n"
     ]
    }
   ],
   "source": [
    "st='123HELLO WORLD456'\n",
    "res=''\n",
    "for i in st:\n",
    "    if i not in'aeiouAEIOU' and 'A'<=i<='Z':\n",
    "        res+=chr(ord(i)+32)\n",
    "    else:\n",
    "        res+=i\n",
    "print(res)"
   ]
  },
  {
   "cell_type": "markdown",
   "metadata": {},
   "source": [
    "79.#I/p:’123HELLO WORLD456’\n",
    "\n",
    "#o/p:’321hEllO wOrld654’"
   ]
  },
  {
   "cell_type": "code",
   "execution_count": 62,
   "metadata": {},
   "outputs": [
    {
     "name": "stdout",
     "output_type": "stream",
     "text": [
      "321hEllO wOrl654d\n"
     ]
    }
   ],
   "source": [
    "st = '123HELLO WORLD456'\n",
    "res=''\n",
    "fres=''\n",
    "for i in st:\n",
    "    if '0'<=i<='9':\n",
    "        res += i\n",
    "    else:\n",
    "        fres+=res[::-1]\n",
    "        res=''\n",
    "        if 'A'<=i<='Z' and i not in 'aeiouAEIOU':\n",
    "            res += i.lower()\n",
    "        else:\n",
    "            res += i\n",
    "fres += res[::-1]\n",
    "res=''\n",
    "print(fres)\n",
    "################################"
   ]
  },
  {
   "cell_type": "markdown",
   "metadata": {},
   "source": [
    "80.#I/p:’123HELLO WORLD456’\n",
    "\n",
    "#o/p:’321*E**O *O***654’"
   ]
  },
  {
   "cell_type": "code",
   "execution_count": 6,
   "metadata": {},
   "outputs": [
    {
     "name": "stdout",
     "output_type": "stream",
     "text": [
      "321*E**O *O***654\n"
     ]
    }
   ],
   "source": [
    "st=\"123HELLO WORLD456\"\n",
    "num=''\n",
    "s=''\n",
    "res=''\n",
    "for i in st:\n",
    "    if '0'<=i<='9':\n",
    "        num=i+num\n",
    "    elif 'A'<=i<='Z' or 'a'<=i<='z':\n",
    "        res+=num\n",
    "        num=\"\"\n",
    "        if i in 'AEIOUaeiou':\n",
    "            s+=i\n",
    "        else:\n",
    "            s+='*'\n",
    "    elif i==' ':\n",
    "        s+=' '\n",
    "print(res+s+num)"
   ]
  },
  {
   "cell_type": "code",
   "execution_count": 6,
   "metadata": {},
   "outputs": [
    {
     "name": "stdout",
     "output_type": "stream",
     "text": [
      "321*E**O**O**654*\n"
     ]
    }
   ],
   "source": [
    "st=\"123HELLO WORLD456\"\n",
    "res=''\n",
    "fres=''\n",
    "for i in st:\n",
    "    if '0'<=i<='9':\n",
    "        res+=i\n",
    "    else:\n",
    "        fres+=res[::-1]\n",
    "        res=''\n",
    "        if i not in 'aeiouAEIOU':\n",
    "            res+='*'\n",
    "        else:\n",
    "            res+=i\n",
    "\n",
    "fres+=res[::-1]\n",
    "\n",
    "print(fres)"
   ]
  },
  {
   "cell_type": "markdown",
   "metadata": {},
   "source": [
    "81.#I/p:’123HELLO WORLD456’\n",
    "\n",
    "#o/p:’123*E**O *O***456’"
   ]
  },
  {
   "cell_type": "code",
   "execution_count": 1,
   "metadata": {},
   "outputs": [
    {
     "name": "stdout",
     "output_type": "stream",
     "text": [
      "123*E**O**O***456\n"
     ]
    }
   ],
   "source": [
    "st='123HELLO WORLD456'\n",
    "res=''\n",
    "for i in st:\n",
    "    if i not in 'aeiouAEIOU' and not('0'<=i<='9'):\n",
    "        res+='*'\n",
    "    else:\n",
    "        res+=i\n",
    "print(res)"
   ]
  },
  {
   "cell_type": "markdown",
   "metadata": {},
   "source": [
    "82.#I/p:’HELLOWORLD’\n",
    "\n",
    "#o/p:’h$ll*w*rld’"
   ]
  },
  {
   "cell_type": "code",
   "execution_count": 2,
   "metadata": {},
   "outputs": [
    {
     "name": "stdout",
     "output_type": "stream",
     "text": [
      "h$ll*w*rld\n"
     ]
    }
   ],
   "source": [
    "st='HELLOWORLD'\n",
    "res=''\n",
    "for i in st:\n",
    "    if i=='E':\n",
    "        res+='$'\n",
    "    elif i=='O':\n",
    "        res+='*'\n",
    "    else:\n",
    "        res+=chr(ord(i)+32)\n",
    "print(res)"
   ]
  },
  {
   "cell_type": "markdown",
   "metadata": {},
   "source": [
    "83.i/p: ‘abc’\n",
    "\n",
    "i/p: ‘xyz’\n",
    "\n",
    "o/p:’axbycz’"
   ]
  },
  {
   "cell_type": "code",
   "execution_count": 3,
   "metadata": {},
   "outputs": [
    {
     "name": "stdout",
     "output_type": "stream",
     "text": [
      "AXBYCZ\n"
     ]
    }
   ],
   "source": [
    "a=\"ABC\"\n",
    "b='XYZ'\n",
    "res=''\n",
    "for i in range(len(a)):\n",
    "    res+=a[i]+b[i]\n",
    "print(res)"
   ]
  },
  {
   "cell_type": "code",
   "execution_count": 6,
   "metadata": {},
   "outputs": [
    {
     "name": "stdout",
     "output_type": "stream",
     "text": [
      "AXBYCZDWEF\n"
     ]
    }
   ],
   "source": [
    "a=\"ABCDEF\"\n",
    "b='XYZW'\n",
    "t=''\n",
    "if len(a)>len(b):\n",
    "    res=len(b)\n",
    "    t=a\n",
    "else:\n",
    "    res=len(a)\n",
    "    t=b\n",
    "t=t[res:]\n",
    "r=''\n",
    "for i in range(res):\n",
    "    r+=a[i]+b[i]\n",
    "print(r+t)"
   ]
  },
  {
   "cell_type": "markdown",
   "metadata": {},
   "source": [
    "84.i/p: ‘abc’ \n",
    "\n",
    "i/p: ‘xyzw’ \n",
    " \n",
    "o/p:’axbyczw’ "
   ]
  },
  {
   "cell_type": "code",
   "execution_count": 16,
   "metadata": {},
   "outputs": [
    {
     "name": "stdout",
     "output_type": "stream",
     "text": [
      "axbyczw\n"
     ]
    }
   ],
   "source": [
    "a = 'abc'\n",
    "b = 'xyzw'\n",
    "l = (len(a) + len(b)) - len(b)\n",
    "res=''\n",
    "for i in range(l):\n",
    "    res+=a[i]+b[i]\n",
    "res+=b[l:]\n",
    "print(res)\n"
   ]
  },
  {
   "cell_type": "markdown",
   "metadata": {},
   "source": [
    "85.i/p: ‘abcd’ \n",
    "\n",
    "i/p: ‘xyz’ \n",
    " \n",
    "o/p:’axbyczd’ "
   ]
  },
  {
   "cell_type": "code",
   "execution_count": 31,
   "metadata": {},
   "outputs": [
    {
     "name": "stdout",
     "output_type": "stream",
     "text": [
      "axbyczd\n"
     ]
    }
   ],
   "source": [
    "a='abcd'\n",
    "b='xyz'\n",
    "l = (len(a) + len(b)) - len(a)\n",
    "res=''\n",
    "for i in range(l):\n",
    "    res+=a[i]+b[i]\n",
    "res+=a[l:]\n",
    "print(res)"
   ]
  },
  {
   "cell_type": "markdown",
   "metadata": {},
   "source": [
    "86.i/p: ‘abc’ \n",
    "\n",
    "i/p: ‘xyzwop’ \n",
    " \n",
    "o/p:’axbyczwop’"
   ]
  },
  {
   "cell_type": "code",
   "execution_count": 5,
   "metadata": {},
   "outputs": [
    {
     "name": "stdout",
     "output_type": "stream",
     "text": [
      "axbyczwop\n"
     ]
    }
   ],
   "source": [
    "a = 'abc'\n",
    "b = 'xyzwop'\n",
    "l = (len(a) + len(b)) - len(b)\n",
    "res = ''\n",
    "for i in range(l):\n",
    "    res+=a[i]+b[i]\n",
    "res+=b[l:]\n",
    "print(res)"
   ]
  },
  {
   "cell_type": "markdown",
   "metadata": {},
   "source": [
    "87:i/p:’abc123’ \n",
    "\n",
    "o/p:’a1b2c3’ "
   ]
  },
  {
   "cell_type": "code",
   "execution_count": 52,
   "metadata": {},
   "outputs": [
    {
     "name": "stdout",
     "output_type": "stream",
     "text": [
      "a1b2c3\n"
     ]
    }
   ],
   "source": [
    "a = 'abc123'\n",
    "x=''\n",
    "y=''\n",
    "for i in a:\n",
    "    if 'a'<=i<='z':\n",
    "        x+=i\n",
    "    else:\n",
    "        y+=i\n",
    "res=''\n",
    "for i in range(len(x)):\n",
    "    res+=x[i]+y[i]\n",
    "print(res)"
   ]
  },
  {
   "cell_type": "markdown",
   "metadata": {},
   "source": [
    "88: i/p:’abc12’ \n",
    "\n",
    "o/p:’a1b2c’ "
   ]
  },
  {
   "cell_type": "code",
   "execution_count": 1,
   "metadata": {},
   "outputs": [
    {
     "name": "stdout",
     "output_type": "stream",
     "text": [
      "a1b2c\n"
     ]
    }
   ],
   "source": [
    "a = 'abc12'\n",
    "x=''\n",
    "y=''\n",
    "for i in a:\n",
    "    if 'a'<=i<='z':\n",
    "        x+=i\n",
    "    else:\n",
    "        y+=i\n",
    "\n",
    "l = (len(x) + len(y)) - len(x)\n",
    "res=''\n",
    "for i in range(l):\n",
    "    res+=x[i]+y[i]\n",
    "res+=x[l:]\n",
    "print(res)"
   ]
  },
  {
   "cell_type": "markdown",
   "metadata": {},
   "source": [
    "89: i/p: ‘abc1234’ \n",
    "\n",
    "o/p: ‘a1b2c34’"
   ]
  },
  {
   "cell_type": "code",
   "execution_count": 57,
   "metadata": {},
   "outputs": [
    {
     "name": "stdout",
     "output_type": "stream",
     "text": [
      "a1b2c34\n"
     ]
    }
   ],
   "source": [
    "a = 'abc1234'\n",
    "x = ''\n",
    "y = ''\n",
    "for i in a:\n",
    "    if 'a'<=i<='z':\n",
    "        x+=i\n",
    "    else:\n",
    "        y+=i\n",
    "l = (len(x) + len(y)) - len(y)\n",
    "res=''\n",
    "for i in range(l):\n",
    "    res+=x[i]+y[i]\n",
    "res+=y[l:]\n",
    "print(res)"
   ]
  },
  {
   "cell_type": "markdown",
   "metadata": {},
   "source": [
    "90: i/p: ‘1a2bc34’ \n",
    "\n",
    "o/p:’a1b2c34’ "
   ]
  },
  {
   "cell_type": "code",
   "execution_count": 58,
   "metadata": {},
   "outputs": [
    {
     "name": "stdout",
     "output_type": "stream",
     "text": [
      "a1b2c34\n"
     ]
    }
   ],
   "source": [
    "a = 'abc1234'\n",
    "x = ''\n",
    "y = ''\n",
    "for i in a:\n",
    "    if 'a'<=i<='z':\n",
    "        x+=i\n",
    "    else:\n",
    "        y+=i\n",
    "l = (len(x) + len(y)) - len(y)\n",
    "res=''\n",
    "for i in range(l):\n",
    "    res+=x[i]+y[i]\n",
    "res+=y[l:]\n",
    "print(res)"
   ]
  },
  {
   "cell_type": "markdown",
   "metadata": {},
   "source": [
    "94: WAP to print all the string values present inside the list if the length \n",
    "of the string is odd under the first character starts with a vowel."
   ]
  },
  {
   "cell_type": "code",
   "execution_count": null,
   "metadata": {},
   "outputs": [],
   "source": []
  },
  {
   "cell_type": "markdown",
   "metadata": {},
   "source": [
    "95.Write a program for series \n",
    "\n",
    "Input:- “a3b2c4” , \n",
    "\n",
    "Output: “aaabbcccc”"
   ]
  },
  {
   "cell_type": "code",
   "execution_count": 66,
   "metadata": {},
   "outputs": [
    {
     "name": "stdout",
     "output_type": "stream",
     "text": [
      "aaabbcccc\n"
     ]
    }
   ],
   "source": [
    "st = \"a3b2c4\"\n",
    "x=''\n",
    "y=''\n",
    "for i in st:\n",
    "    if 'a'<=i<='z':\n",
    "        x+=i\n",
    "    else:\n",
    "        y+=i\n",
    "res=''\n",
    "for i in range(len(x)):\n",
    "    res+=x[i]*int(y[i])\n",
    "print(res)"
   ]
  },
  {
   "cell_type": "markdown",
   "metadata": {},
   "source": [
    "96: Write a program for series \n",
    "\n",
    "Input: “aaabbcccc” \n",
    "\n",
    "Output:- “a3b2c4”"
   ]
  },
  {
   "cell_type": "code",
   "execution_count": 6,
   "metadata": {},
   "outputs": [
    {
     "name": "stdout",
     "output_type": "stream",
     "text": [
      "{'a': 3, 'b': 2, 'c': 4}\n",
      "a3b2c4\n"
     ]
    }
   ],
   "source": [
    "st = 'aaabbcccc'\n",
    "d={}\n",
    "for i in st:\n",
    "    if i not in d:\n",
    "        d[i] = 1\n",
    "    else:\n",
    "        d[i]+=1\n",
    "print(d)\n",
    "res=''\n",
    "for i in d:\n",
    "    res += i + str(d[i])\n",
    "print(res)"
   ]
  },
  {
   "cell_type": "markdown",
   "metadata": {},
   "source": [
    "97: Write a program frequency of each character in given string when \n",
    "count is a prime number  \n",
    "\n",
    "input:”aaaaBBBcddddfffff”  \n",
    "\n",
    "Output: (“B3”,”c1”,”f5”) "
   ]
  },
  {
   "cell_type": "code",
   "execution_count": null,
   "metadata": {},
   "outputs": [],
   "source": [
    "st = 'aaaaBBBcddddfffff'\n"
   ]
  },
  {
   "cell_type": "markdown",
   "metadata": {},
   "source": [
    "99:WAP to split the sentence in a given string. \n",
    "\n",
    "i/p:’haii how are you venu’ \n",
    "\n",
    "o/p:[‘haii’, ’how’,’are’,’you’,’venu’]"
   ]
  },
  {
   "cell_type": "code",
   "execution_count": 14,
   "metadata": {},
   "outputs": [
    {
     "name": "stdout",
     "output_type": "stream",
     "text": [
      "['hii', 'how', 'are', 'you']\n"
     ]
    }
   ],
   "source": [
    "st = 'hii how are you'\n",
    "l=[]\n",
    "res=''\n",
    "for i in st:\n",
    "    if i!=' ':\n",
    "        res+=i\n",
    "    else:\n",
    "        if len(res)!=0:\n",
    "            l+=[res]\n",
    "            res=''\n",
    "if len(res)!=0:\n",
    "    l+=[res]\n",
    "print(l)"
   ]
  },
  {
   "cell_type": "markdown",
   "metadata": {},
   "source": [
    "100:Find out the longest word in the string below. \n",
    "\n",
    "Sentence =”hello world welcome to python”"
   ]
  },
  {
   "cell_type": "code",
   "execution_count": 61,
   "metadata": {},
   "outputs": [
    {
     "name": "stdout",
     "output_type": "stream",
     "text": [
      "welcome\n"
     ]
    }
   ],
   "source": [
    "a = 'hello world welcome to python'\n",
    "st = a.split()\n",
    "cnt=0\n",
    "for i in st:\n",
    "    if len(i)>cnt:\n",
    "        cnt = len(i)\n",
    "for i in st:\n",
    "    if cnt == len(i):\n",
    "        print(i)\n",
    "        break"
   ]
  },
  {
   "cell_type": "markdown",
   "metadata": {},
   "source": [
    "101:sentence=” hello world welcome to python” \n",
    " \n",
    "Output: ’olleh dlrow emoclew ot nohtyp’ "
   ]
  },
  {
   "cell_type": "code",
   "execution_count": 45,
   "metadata": {},
   "outputs": [
    {
     "name": "stdout",
     "output_type": "stream",
     "text": [
      "olleh dlrow emoclew ot nohtyp \n"
     ]
    }
   ],
   "source": [
    "a = 'hello world welcome to python'\n",
    "st = a.split()\n",
    "res = ''\n",
    "for i in st:\n",
    "    res+=i[::-1]\n",
    "    res+= ' '\n",
    "print(res)"
   ]
  },
  {
   "cell_type": "markdown",
   "metadata": {},
   "source": [
    "102: sentence=” python is a programming language” (Using dictionary \n",
    "comprehension) \n",
    " \n",
    "Output: {‘python’:1, is:1,’a’:1,’language’:1,’programming:1’}"
   ]
  },
  {
   "cell_type": "code",
   "execution_count": 46,
   "metadata": {},
   "outputs": [
    {
     "name": "stdout",
     "output_type": "stream",
     "text": [
      "{'python': 1, 'is': 1, 'a': 1, 'programming': 1, 'language': 1}\n"
     ]
    }
   ],
   "source": [
    "a = 'python is a programming language'\n",
    "st = a.split()\n",
    "d = {}\n",
    "for i in st:\n",
    "    if i not in d:\n",
    "        d[i] = 1\n",
    "    else:\n",
    "        d[i]+=1\n",
    "print(d)"
   ]
  },
  {
   "cell_type": "markdown",
   "metadata": {},
   "source": [
    "103: I/p:'PYTHON SCRIPTING PROGRAMMING LANGUAGE' \n",
    "\n",
    "o/p:['PYTHON’,’SCRIPTING’, ‘PROGRAMMING’,’ LANGUAGE'] "
   ]
  },
  {
   "cell_type": "code",
   "execution_count": 42,
   "metadata": {},
   "outputs": [
    {
     "name": "stdout",
     "output_type": "stream",
     "text": [
      "['PYTHON', 'SCRIPTING', 'PROGRAMMING', 'LANGUAGE']\n"
     ]
    }
   ],
   "source": [
    "st = 'PYTHON SCRIPTING PROGRAMMING LANGUAGE'\n",
    "res=''\n",
    "l=[]\n",
    "for i in st:\n",
    "    if i!=' ':\n",
    "        res+=i\n",
    "    else:\n",
    "        l+=[res]\n",
    "        res=''\n",
    "l+=[res]\n",
    "res=''\n",
    "print(l)"
   ]
  },
  {
   "cell_type": "markdown",
   "metadata": {},
   "source": [
    "104: I/p:'PYTHON SCRIPTING PROGRAMMING LANGUAGE' \n",
    "\n",
    "o/p:['nothyp', 'scripting','gnimmargorp', 'language'] "
   ]
  },
  {
   "cell_type": "code",
   "execution_count": 44,
   "metadata": {},
   "outputs": [
    {
     "name": "stdout",
     "output_type": "stream",
     "text": [
      "['nohtyp', 'gnitpircs', 'gnimmargorp', 'LANGUAGE']\n"
     ]
    }
   ],
   "source": [
    "st = 'PYTHON SCRIPTING PROGRAMMING LANGUAGE'\n",
    "res=''\n",
    "l = []\n",
    "for i in st:\n",
    "    if i!=' ':\n",
    "        res+=i\n",
    "    else:\n",
    "        l+=[res.lower()[::-1]]\n",
    "        res=''\n",
    "l+=[res]\n",
    "res=''\n",
    "print(l)"
   ]
  },
  {
   "cell_type": "markdown",
   "metadata": {},
   "source": [
    "105: I/p: ‘ABCDEFGIJKABC’ \n",
    "\n",
    "O/p: [‘ABCDEFG’, ‘IJK’, ‘ ABC’] "
   ]
  },
  {
   "cell_type": "code",
   "execution_count": 63,
   "metadata": {},
   "outputs": [
    {
     "name": "stdout",
     "output_type": "stream",
     "text": [
      "['ABCDEFG', 'IJK', 'ABC']\n"
     ]
    }
   ],
   "source": [
    "st = 'ABCDEFGIJKABC'\n",
    "res = ''\n",
    "l = []\n",
    "for i in range(1, len(st)):\n",
    "    if ord(st[i-1])+1 == ord(st[i]):\n",
    "        res += st[i-1]\n",
    "    else:\n",
    "        l+=[(res + st[i-1])]\n",
    "        res = ''\n",
    "l.append(res + st[i])\n",
    "print(l)"
   ]
  },
  {
   "cell_type": "markdown",
   "metadata": {},
   "source": [
    "107:WAPto reverse alternate words of a given string starting with the first \n",
    "word and the swap first and last char of the remaining words. \n",
    "For example, if “Java Concept for The Day” is input string then output \n",
    "should be “avaJ toncepc rof eht yaD” "
   ]
  },
  {
   "cell_type": "code",
   "execution_count": 74,
   "metadata": {},
   "outputs": [
    {
     "name": "stdout",
     "output_type": "stream",
     "text": [
      "avaJ tpecnoC roF ehT yaD \n"
     ]
    }
   ],
   "source": [
    "a = 'Java Concept For The Day'\n",
    "st = a.split()\n",
    "res=''\n",
    "for i in st:\n",
    "    res+=i[::-1]\n",
    "    res+=' '\n",
    "print(res)"
   ]
  },
  {
   "cell_type": "markdown",
   "metadata": {},
   "source": [
    "113.Write a program to remove the duplicates in a given list. \n",
    " \n",
    "For example\n",
    "Sample Input: [5, 3, 5, 2, 1, 6, 6, 4]\n",
    "\n",
    "Sample Output: [5, 3, 2, 1, 6, 4] "
   ]
  },
  {
   "cell_type": "code",
   "execution_count": 37,
   "metadata": {},
   "outputs": [
    {
     "name": "stdout",
     "output_type": "stream",
     "text": [
      "[5, 3, 2, 1, 6, 4]\n"
     ]
    }
   ],
   "source": [
    "l=[5, 3, 5, 2, 1, 6, 6, 4]\n",
    "uni=[]\n",
    "for i in l:\n",
    "    if i not in uni:\n",
    "        uni+=[i]\n",
    "print(uni)"
   ]
  },
  {
   "cell_type": "code",
   "execution_count": null,
   "metadata": {},
   "outputs": [],
   "source": []
  },
  {
   "cell_type": "markdown",
   "metadata": {},
   "source": [
    "114.WAP to reverse words in a given sentence without using any library \n",
    "method. \n",
    "\n",
    "Sample Input: Yupp video services \n",
    "\n",
    "Sample Output: ppuy oediv secivres "
   ]
  },
  {
   "cell_type": "code",
   "execution_count": 2,
   "metadata": {},
   "outputs": [
    {
     "name": "stdout",
     "output_type": "stream",
     "text": [
      "ppuY oediv secivres \n"
     ]
    }
   ],
   "source": [
    "st = 'Yupp video services'\n",
    "l=st.split()\n",
    "res=''\n",
    "for i in l:\n",
    "    res+=i[::-1] + ' '\n",
    "    # res+=' '\n",
    "print(res)"
   ]
  }
 ],
 "metadata": {
  "kernelspec": {
   "display_name": "Python 3",
   "language": "python",
   "name": "python3"
  },
  "language_info": {
   "codemirror_mode": {
    "name": "ipython",
    "version": 3
   },
   "file_extension": ".py",
   "mimetype": "text/x-python",
   "name": "python",
   "nbconvert_exporter": "python",
   "pygments_lexer": "ipython3",
   "version": "3.12.0"
  },
  "orig_nbformat": 4
 },
 "nbformat": 4,
 "nbformat_minor": 2
}
