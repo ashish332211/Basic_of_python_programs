{
 "cells": [
  {
   "cell_type": "code",
   "execution_count": 1,
   "metadata": {},
   "outputs": [
    {
     "name": "stdout",
     "output_type": "stream",
     "text": [
      "python\n"
     ]
    }
   ],
   "source": [
    "#WITH ARGUMENTS WITHOUT RETURN STATEMENTS\n",
    "x='hello HAII 123 @#$'\n",
    "def upper(x):"
   ]
  },
  {
   "cell_type": "code",
   "execution_count": 1,
   "metadata": {},
   "outputs": [
    {
     "data": {
      "text/plain": [
       "'Hello world123@$'"
      ]
     },
     "execution_count": 1,
     "metadata": {},
     "output_type": "execute_result"
    }
   ],
   "source": [
    "#Capitalize\n",
    "st='hello World123@$'\n",
    "def u_capitalize(coll):\n",
    "    res=''\n",
    "    if 'a'<=coll[0]<='z':\n",
    "        res+=chr(ord(coll[0])-32)\n",
    "    else:\n",
    "        res+=coll[0]\n",
    "    for i in range(1,len(coll)):\n",
    "        if 'A'<=coll[i]<='Z':\n",
    "            res+=chr(ord(coll[i])+32)\n",
    "        else:\n",
    "            res+=coll[i]\n",
    "    return res\n",
    "u_capitalize(st)"
   ]
  },
  {
   "cell_type": "code",
   "execution_count": 2,
   "metadata": {},
   "outputs": [
    {
     "data": {
      "text/plain": [
       "'hello world123@#'"
      ]
     },
     "execution_count": 2,
     "metadata": {},
     "output_type": "execute_result"
    }
   ],
   "source": [
    "#casefold\n",
    "st='HELLO WORLD123@#'\n",
    "st.casefold()"
   ]
  },
  {
   "cell_type": "code",
   "execution_count": 11,
   "metadata": {},
   "outputs": [
    {
     "data": {
      "text/plain": [
       "'hello world123@#'"
      ]
     },
     "execution_count": 11,
     "metadata": {},
     "output_type": "execute_result"
    }
   ],
   "source": [
    "#lower\n",
    "st='HELLO WORLD123@#'\n",
    "def u_lower(coll):\n",
    "    res=''\n",
    "    for i in st:\n",
    "        if 'A'<=i<='Z':\n",
    "            res+=chr(ord(i)+32)\n",
    "        else:\n",
    "            res+=i\n",
    "    return res\n",
    "u_lower(st)\n",
    "    "
   ]
  },
  {
   "cell_type": "code",
   "execution_count": 4,
   "metadata": {},
   "outputs": [
    {
     "data": {
      "text/plain": [
       "'HELLO world123!@#'"
      ]
     },
     "execution_count": 4,
     "metadata": {},
     "output_type": "execute_result"
    }
   ],
   "source": [
    "#swapcase\n",
    "st='hello WORLD123!@#'\n",
    "def u_swapcase(coll):\n",
    "    res=''\n",
    "    for i in st:\n",
    "        if 'a'<=i<='z':\n",
    "            res+=chr(ord(i)-32)\n",
    "        elif 'A'<=i<='Z':\n",
    "            res+=chr(ord(i)+32)\n",
    "        else:\n",
    "            res+=i\n",
    "    return res\n",
    "u_swapcase(st)"
   ]
  },
  {
   "cell_type": "code",
   "execution_count": 28,
   "metadata": {},
   "outputs": [
    {
     "data": {
      "text/plain": [
       "'@#hello World123Abc @# $Xyz Ijkl'"
      ]
     },
     "execution_count": 28,
     "metadata": {},
     "output_type": "execute_result"
    }
   ],
   "source": [
    "#title\n",
    "st='@#hello wORLD123abc @# $xyz ijkl'\n",
    "def u_title(coll):\n",
    "    i=0\n",
    "    res=''\n",
    "    if 'a'<=coll[0]<='z':\n",
    "        res+=chr(ord(coll[0])-32)\n",
    "        i=1\n",
    "    elif 'A'<=coll[0]<='Z':\n",
    "        res+=coll[0]\n",
    "        i=1\n",
    "    while i<len(coll):\n",
    "        if not('A'<=coll[i]<='Z' or 'a'<=coll[i]<='z'):\n",
    "            res+=coll[i]\n",
    "            if 'a'<=coll[i+1]<='z':\n",
    "                res+=chr(ord(coll[i+1])-32)\n",
    "            else:\n",
    "                res+=coll[i+1]\n",
    "            i+=1\n",
    "        elif 'A'<=coll[i]<='Z':\n",
    "            res+=chr(ord(coll[i])+32)\n",
    "        else:\n",
    "            res+=coll[i]\n",
    "        i+=1\n",
    "    return res\n",
    "u_title(st)\n",
    "############"
   ]
  },
  {
   "cell_type": "code",
   "execution_count": 27,
   "metadata": {},
   "outputs": [
    {
     "name": "stdout",
     "output_type": "stream",
     "text": [
      "@#Hello Worl#D 12Abc\n"
     ]
    }
   ],
   "source": [
    "st='@#hello worl#d 12abc'\n",
    "# print(st.title())\n",
    "def u_title(coll):\n",
    "    res=''\n",
    "    i=0\n",
    "    while i<len(coll):\n",
    "        if not ('a'<=coll[i]<='z' or 'A'<=coll[i]<='Z' ):\n",
    "            res+=coll[i]\n",
    "        elif 'a'<=coll[i]<='z' and i==0:\n",
    "                res+=chr(ord(coll[i])-32)\n",
    "        else:\n",
    "            if  not ('a'<=coll[i-1]<='z' or 'A'<=coll[i-1]<='Z') and 'a'<=coll[i]<='z':\n",
    "                res+=chr(ord(coll[i])-32)\n",
    "            elif 'A'<=coll[i-1]<='Z' and 'A'<=coll[i]<='Z' and i!=0:\n",
    "                res+=chr(ord(coll[i])+32)\n",
    "            elif 'a'<=coll[i-1]<='z' and 'A'<=coll[i]<='Z' and i!=0:\n",
    "                res+=chr(ord(coll[i])+32)\n",
    "            else:\n",
    "                res+=coll[i]\n",
    "        i+=1\n",
    "    return res\n",
    "print(u_title(st))\n",
    "#imran"
   ]
  },
  {
   "cell_type": "code",
   "execution_count": 2,
   "metadata": {},
   "outputs": [
    {
     "data": {
      "text/plain": [
       "'---abc------'"
      ]
     },
     "execution_count": 2,
     "metadata": {},
     "output_type": "execute_result"
    }
   ],
   "source": [
    "#center\n",
    "st='abc'\n",
    "def u_center(coll,width,fillchar=''):\n",
    "    res=width-len(coll)\n",
    "    l=res//2\n",
    "    r=res-1\n",
    "    res=fillchar*l+coll+fillchar*r\n",
    "    return res\n",
    "u_center(st,10,'-')\n",
    "#####"
   ]
  },
  {
   "cell_type": "code",
   "execution_count": 10,
   "metadata": {},
   "outputs": [
    {
     "data": {
      "text/plain": [
       "True"
      ]
     },
     "execution_count": 10,
     "metadata": {},
     "output_type": "execute_result"
    }
   ],
   "source": [
    "#istitle\n",
    "# st='@Hello World123Abc @# $Xyz Ijkl'\n",
    "# st.istitle()\n",
    "st='@Hello World123Abc @# Xyz Ijkl'\n",
    "def u_istitle(coll):\n",
    "    if 'a'<=coll[0]<='z':\n",
    "        return False\n",
    "    i=0\n",
    "    while i<len(coll):\n",
    "        if not('A'<=coll[i]<='Z' or 'a'<=coll[i]<='z'):\n",
    "            if 'a'<=coll[i+1]<='z':\n",
    "                return False\n",
    "        i+=1\n",
    "    return True\n",
    "u_istitle(st)"
   ]
  },
  {
   "cell_type": "code",
   "execution_count": 26,
   "metadata": {},
   "outputs": [
    {
     "data": {
      "text/plain": [
       "False"
      ]
     },
     "execution_count": 26,
     "metadata": {},
     "output_type": "execute_result"
    }
   ],
   "source": [
    "#isupper\n",
    "st='HeLLO123'\n",
    "def u_isupper(coll):\n",
    "    for i in coll:\n",
    "        if 'a'<=i<='z':\n",
    "            return False\n",
    "    return True\n",
    "u_isupper(st)"
   ]
  },
  {
   "cell_type": "code",
   "execution_count": 28,
   "metadata": {},
   "outputs": [
    {
     "data": {
      "text/plain": [
       "False"
      ]
     },
     "execution_count": 28,
     "metadata": {},
     "output_type": "execute_result"
    }
   ],
   "source": [
    "#islower\n",
    "st='heLLo123'\n",
    "def u_islower(coll):\n",
    "    for i in coll:\n",
    "        if 'A'<=i<='Z':\n",
    "            return False\n",
    "    return True\n",
    "u_islower(st)"
   ]
  },
  {
   "cell_type": "code",
   "execution_count": 46,
   "metadata": {},
   "outputs": [
    {
     "data": {
      "text/plain": [
       "True"
      ]
     },
     "execution_count": 46,
     "metadata": {},
     "output_type": "execute_result"
    }
   ],
   "source": [
    "#isidentifier\n",
    "st='e1pys_'\n",
    "def u_isidentifier(coll):\n",
    "    if '0'<=coll[0]<='9':\n",
    "        return False\n",
    "    for i in coll:\n",
    "        if not ('A'<=i<='Z' or 'a'<=i<='z' or '0'<=i<='9' or i=='_'):\n",
    "            return False\n",
    "    return True\n",
    "u_isidentifier(st)"
   ]
  },
  {
   "cell_type": "code",
   "execution_count": 52,
   "metadata": {},
   "outputs": [
    {
     "data": {
      "text/plain": [
       "'a-b-c-d-e'"
      ]
     },
     "execution_count": 52,
     "metadata": {},
     "output_type": "execute_result"
    }
   ],
   "source": [
    "# l=['a','b','c','d']\n",
    "# '+'.join(l)\n",
    "\n",
    "l=['a','b','c','d','e']\n",
    "def join(coll,sep=\"\"):\n",
    "    for i in coll:\n",
    "        if type(i)!=str:\n",
    "            return False\n",
    "    res=''\n",
    "    for i in coll:\n",
    "        res=res+i+sep\n",
    "    if sep==' ':\n",
    "        return res\n",
    "    else:\n",
    "        return res[:-(len(sep)):]\n",
    "join(l,'-')"
   ]
  },
  {
   "cell_type": "code",
   "execution_count": 27,
   "metadata": {},
   "outputs": [
    {
     "data": {
      "text/plain": [
       "1"
      ]
     },
     "execution_count": 27,
     "metadata": {},
     "output_type": "execute_result"
    }
   ],
   "source": [
    "#count()\n",
    "#-----------\n",
    "# st='helloworld'\n",
    "# st.count('l',3,7)\n",
    "\n",
    "\n",
    "st='helloworld'\n",
    "def u_count(coll,ele,start=0,end=None):\n",
    "    if end==None:\n",
    "        end=len(coll)\n",
    "    count=0\n",
    "    for i in range(start,end):\n",
    "        if coll[i]==ele:\n",
    "            count+=1\n",
    "    return count\n",
    "u_count(st, 'l', 3,7)"
   ]
  },
  {
   "cell_type": "code",
   "execution_count": 14,
   "metadata": {},
   "outputs": [
    {
     "data": {
      "text/plain": [
       "8"
      ]
     },
     "execution_count": 14,
     "metadata": {},
     "output_type": "execute_result"
    }
   ],
   "source": [
    "# find()\n",
    "# ------------\n",
    "# st='helloworld'\n",
    "# st.find('l',3,5)   #It will return the index position of value and if element is not present in coll it will return -1 \n",
    "st='helloworld'\n",
    "def u_find(coll,ele,start=0,end=None):\n",
    "    if end==None:\n",
    "        end=len(coll)\n",
    "    if ele not in coll:\n",
    "        return -1\n",
    "    while start<end:\n",
    "        if ele==coll[start]:\n",
    "            return start\n",
    "        start+=1\n",
    "    return -1\n",
    "u_find(st,'l',4,9)\n"
   ]
  },
  {
   "cell_type": "code",
   "execution_count": 22,
   "metadata": {},
   "outputs": [
    {
     "data": {
      "text/plain": [
       "3"
      ]
     },
     "execution_count": 22,
     "metadata": {},
     "output_type": "execute_result"
    }
   ],
   "source": [
    "#rfiind()\n",
    "#--------------\n",
    "# st='helloworld'\n",
    "# st.rfind('o',2,7)\n",
    "st='helloworld'\n",
    "def u_rfind(coll,ele,start=0,end=None):\n",
    "    if end==None:\n",
    "        end=len(coll)-1\n",
    "    if ele not in coll[start:end]:\n",
    "        return -1\n",
    "    \n",
    "    while end>start:\n",
    "        if coll[end]==ele:\n",
    "            return end\n",
    "        end-=1\n",
    "u_rfind(st,'l',1,5)"
   ]
  },
  {
   "cell_type": "code",
   "execution_count": 33,
   "metadata": {},
   "outputs": [
    {
     "data": {
      "text/plain": [
       "['hell', ' w', 'rld h', 'w are y']"
      ]
     },
     "execution_count": 33,
     "metadata": {},
     "output_type": "execute_result"
    }
   ],
   "source": [
    "#split()\n",
    "#-------------\n",
    "st='hello world how are you'\n",
    "def u_split(coll,ele=''):\n",
    "    l=[]\n",
    "    res=''\n",
    "    for i in coll:\n",
    "        if i!=ele:\n",
    "            res+=i\n",
    "        else:\n",
    "            if res!='':\n",
    "                l+=[res]\n",
    "                res=''\n",
    "    if res!='':\n",
    "        l+[res]\n",
    "    return l\n",
    "u_split(st,'o')\n",
    "#####"
   ]
  },
  {
   "cell_type": "code",
   "execution_count": 35,
   "metadata": {},
   "outputs": [
    {
     "data": {
      "text/plain": [
       "['hell', ' w', 'rld haow are you']"
      ]
     },
     "execution_count": 35,
     "metadata": {},
     "output_type": "execute_result"
    }
   ],
   "source": [
    "#split with maxsplit\n",
    "st='hello world haow are you'\n",
    "def u_split(coll,ele='',maxsplit=None):\n",
    "    if maxsplit==None:\n",
    "        maxsplit=len(coll)\n",
    "    l=[]\n",
    "    res=''\n",
    "    index=0\n",
    "    for i in coll:\n",
    "        if i!=ele:\n",
    "            res+=i\n",
    "        else:\n",
    "            l+=[res]\n",
    "            res=''\n",
    "        index+=1\n",
    "        if len(l)==maxsplit:\n",
    "            return l+[coll[index:]]\n",
    "    if res!='':\n",
    "        l+=[res]\n",
    "    return l\n",
    "u_split(st,'o',maxsplit=2)"
   ]
  },
  {
   "cell_type": "code",
   "execution_count": 24,
   "metadata": {},
   "outputs": [
    {
     "data": {
      "text/plain": [
       "['Hello', 'HelloWorld', 'HelloWorldHow', 'HelloWorldHowAre']"
      ]
     },
     "execution_count": 24,
     "metadata": {},
     "output_type": "execute_result"
    }
   ],
   "source": [
    "#split()\n",
    "#---------\n",
    "st='Hello World How Are You'\n",
    "# st.split('l',maxsplit=2)\n",
    "\n",
    "def sp(cl, ele=' '):\n",
    "    l = []\n",
    "    s = ''\n",
    "    j = 0\n",
    "    for i in range(len(cl)):\n",
    "        while j <= i:\n",
    "            if cl[j] != ' ':\n",
    "                s += cl[i]\n",
    "            else:\n",
    "                l += [s]\n",
    "            j += 1\n",
    "        j = i+1\n",
    "    return l\n",
    "\n",
    "sp(st)\n",
    "#chandan"
   ]
  },
  {
   "cell_type": "code",
   "execution_count": 34,
   "metadata": {},
   "outputs": [
    {
     "data": {
      "text/plain": [
       "True"
      ]
     },
     "execution_count": 34,
     "metadata": {},
     "output_type": "execute_result"
    }
   ],
   "source": [
    "#endswith()\n",
    "# st='i love i hate love'\n",
    "# st.endswith('love')\n",
    "st='i love i hate love'\n",
    "def u_endswith(coll,sub,start=0,end=None):\n",
    "    if end==None:\n",
    "        \n",
    "\n"
   ]
  }
 ],
 "metadata": {
  "kernelspec": {
   "display_name": "Python 3",
   "language": "python",
   "name": "python3"
  },
  "language_info": {
   "codemirror_mode": {
    "name": "ipython",
    "version": 3
   },
   "file_extension": ".py",
   "mimetype": "text/x-python",
   "name": "python",
   "nbconvert_exporter": "python",
   "pygments_lexer": "ipython3",
   "version": "3.11.4"
  },
  "orig_nbformat": 4
 },
 "nbformat": 4,
 "nbformat_minor": 2
}
