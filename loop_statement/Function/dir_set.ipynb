{
 "cells": [
  {
   "cell_type": "code",
   "execution_count": 16,
   "metadata": {},
   "outputs": [
    {
     "name": "stdout",
     "output_type": "stream",
     "text": [
      "1601146673568 {'a', 'c', 'b'}\n",
      "1601146673568 {'a', 'c', 'b', 'xyz'}\n"
     ]
    }
   ],
   "source": [
    "#add()\n",
    "# s={'a','b','c'}\n",
    "# print(id(s),s)\n",
    "# s.add((10,20))\n",
    "# print(id(s),s)\n",
    "\n",
    "s={'a','b','c'}\n",
    "print(id(s),s)\n",
    "def u_add(coll,ele):\n",
    "    if type(coll)!=set:\n",
    "        return -1\n",
    "    if type(ele) in [list,set,dict]:\n",
    "        return -1\n",
    "    coll|={ele}\n",
    "u_add(s,'xyz')\n",
    "print(id(s),s)"
   ]
  },
  {
   "cell_type": "code",
   "execution_count": 18,
   "metadata": {},
   "outputs": [
    {
     "name": "stdout",
     "output_type": "stream",
     "text": [
      "set()\n"
     ]
    }
   ],
   "source": [
    "#clear()\n",
    "# s={'a','b','c'}\n",
    "# print(id(s),s)\n",
    "# s.clear()\n",
    "# print(id(s),s)\n",
    "\n",
    "s={'a','b','c'}\n",
    "def u_clear(coll):\n",
    "    if type(coll)!=set:\n",
    "        return -1\n",
    "    coll-=coll\n",
    "u_clear(s)\n",
    "print(s)"
   ]
  }
 ],
 "metadata": {
  "kernelspec": {
   "display_name": "Python 3",
   "language": "python",
   "name": "python3"
  },
  "language_info": {
   "codemirror_mode": {
    "name": "ipython",
    "version": 3
   },
   "file_extension": ".py",
   "mimetype": "text/x-python",
   "name": "python",
   "nbconvert_exporter": "python",
   "pygments_lexer": "ipython3",
   "version": "3.11.4"
  },
  "orig_nbformat": 4
 },
 "nbformat": 4,
 "nbformat_minor": 2
}
